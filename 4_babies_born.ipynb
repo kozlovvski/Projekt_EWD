{
 "cells": [
  {
   "cell_type": "code",
   "execution_count": 2,
   "id": "8fc7f1a5",
   "metadata": {},
   "outputs": [],
   "source": [
    "#import pliku i usunięcie wierszy bez żadnych wartości w kolumnie \"Wartosc\"\n",
    "import pandas as pd\n",
    "import matplotlib.pyplot as plt\n",
    "data_path_ludnosc = \"ludnosc.csv\"\n",
    "data_path_gminy = \"gminy.csv\"\n",
    "df_gminy = pd.read_csv(data_path_gminy, sep=\";\", decimal=',', low_memory=False)"
   ]
  },
  {
   "cell_type": "code",
   "execution_count": null,
   "id": "58c4faf9",
   "metadata": {},
   "outputs": [],
   "source": []
  }
 ],
 "metadata": {
  "kernelspec": {
   "display_name": "Python 3",
   "language": "python",
   "name": "python3"
  },
  "language_info": {
   "codemirror_mode": {
    "name": "ipython",
    "version": 3
   },
   "file_extension": ".py",
   "mimetype": "text/x-python",
   "name": "python",
   "nbconvert_exporter": "python",
   "pygments_lexer": "ipython3",
   "version": "3.8.8"
  }
 },
 "nbformat": 4,
 "nbformat_minor": 5
}
