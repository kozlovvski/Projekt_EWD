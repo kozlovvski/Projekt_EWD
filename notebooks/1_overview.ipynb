{
 "cells": [
  {
   "cell_type": "code",
   "execution_count": 2,
   "metadata": {},
   "outputs": [],
   "source": [
    "import pandas as pd\n",
    "import plotly.express as px"
   ]
  },
  {
   "cell_type": "code",
   "execution_count": 3,
   "metadata": {},
   "outputs": [],
   "source": [
    "data_path_ludnosc = \"../ludnosc.csv\"\n",
    "data_path_gminy = \"../gminy.csv\""
   ]
  },
  {
   "cell_type": "markdown",
   "metadata": {},
   "source": [
    "# ludnosc"
   ]
  },
  {
   "cell_type": "markdown",
   "metadata": {},
   "source": [
    "## przegląd danych"
   ]
  },
  {
   "cell_type": "code",
   "execution_count": 4,
   "metadata": {},
   "outputs": [],
   "source": [
    "df_ludnosc = pd.read_csv(data_path_ludnosc, sep=\";\", decimal=\".\")"
   ]
  },
  {
   "cell_type": "code",
   "execution_count": 5,
   "metadata": {},
   "outputs": [],
   "source": [
    "df_ludnosc.Wartosc = df_ludnosc.Wartosc.str.replace(',', '').astype(float)"
   ]
  },
  {
   "cell_type": "code",
   "execution_count": 6,
   "outputs": [
    {
     "name": "stdout",
     "output_type": "stream",
     "text": [
      "<class 'pandas.core.frame.DataFrame'>\n",
      "RangeIndex: 25874 entries, 0 to 25873\n",
      "Data columns (total 9 columns):\n",
      " #   Column           Non-Null Count  Dtype  \n",
      "---  ------           --------------  -----  \n",
      " 0   Kategoria        25874 non-null  object \n",
      " 1   Kod              25874 non-null  int64  \n",
      " 2   Nazwa            25874 non-null  object \n",
      " 3   Zmienna          25874 non-null  object \n",
      " 4   Rok              25874 non-null  int64  \n",
      " 5   Wartosc          19142 non-null  float64\n",
      " 6   Jednostka miary  25874 non-null  object \n",
      " 7   Atrybut          66 non-null     object \n",
      " 8   Unnamed: 8       0 non-null      float64\n",
      "dtypes: float64(2), int64(2), object(5)\n",
      "memory usage: 1.8+ MB\n"
     ]
    }
   ],
   "source": [
    "df_ludnosc.info()"
   ],
   "metadata": {
    "collapsed": false,
    "pycharm": {
     "name": "#%%\n"
    }
   }
  },
  {
   "cell_type": "code",
   "execution_count": 7,
   "metadata": {},
   "outputs": [
    {
     "name": "stdout",
     "output_type": "stream",
     "text": [
      "Kategoria: ['Gospodarstwa' 'Osoby' 'Wyposażenie' 'Artykuły' 'Dochody' 'Wydatki'] \n",
      "\n",
      "Kod: [      0  200000  400000  600000  800000 1000000 1200000 1400000 1600000\n",
      " 1800000 2000000 2200000 2400000 2600000 2800000 3000000 3200000] \n",
      "\n",
      "Nazwa: ['POLSKA' 'DOLNOŚLĄSKIE' 'KUJAWSKO-POMORSKIE' 'LUBELSKIE' 'LUBUSKIE'\n",
      " 'ŁÓDZKIE' 'MAŁOPOLSKIE' 'MAZOWIECKIE' 'OPOLSKIE' 'PODKARPACKIE'\n",
      " 'PODLASKIE' 'POMORSKIE' 'ŚLĄSKIE' 'ŚWIĘTOKRZYSKIE' 'WARMIŃSKO-MAZURSKIE'\n",
      " 'WIELKOPOLSKIE' 'ZACHODNIOPOMORSKIE'] \n",
      "\n",
      "Zmienna: ['gospodarstwa domowe objęte badaniem' 'ogółem' 'pracujących'\n",
      " 'pobierający świadczenia społeczne' 'emerytury i renty'\n",
      " 'pozostających na utrzymaniu'\n",
      " 'przeciętna liczba osób pobierających  świadczenia społeczne w relacji do przeciętnej liczby osób w gospodarstwie domowym'\n",
      " 'chłodziarka' 'automat pralniczy' 'zmywarka do naczyń'\n",
      " 'kuchenka mikrofalowa'\n",
      " 'kuchenka elektryczna z płytą ceramiczną, indukcyjną' 'samochód osobowy'\n",
      " 'odtwarzacz płyt kompaktowych'\n",
      " 'zestaw do odbioru, rejestracji i odtwarzania dźwięku (wieża HI-FI)'\n",
      " 'odbiornik telewizyjny' 'zestaw kina domowego' 'odtwarzacz DVD'\n",
      " 'telefon komórkowy' 'smartfon' 'magnetowid, odtwarzacz'\n",
      " 'urządzenie do odbioru telewizji satelitarnej'\n",
      " 'urządzenie do odbioru telewizji satelitarnej lub kablowej'\n",
      " 'komputer osobisty ogółem' 'komputer osobisty z dostępem do Internetu'\n",
      " 'komputer osobisty z szerokopasmowym dostępem do Internetu'\n",
      " 'urządzenie z dostępem do Internetu' 'drukarka' 'drukarka wielofunkcyjna'\n",
      " 'pieczywo i produkty zbożowe' 'pieczywo' 'mięso' 'mięso surowe'\n",
      " 'mięso surowe drobiowe' 'wędliny i inne przetwory mięsne' 'wędliny'\n",
      " 'ryby' 'ryby i owoce morza' 'mleko świeże' 'jogurty i napoje mleczne'\n",
      " 'jogurty'\n",
      " 'mleko (bez zagęszczonego i w proszku), napoje mleczne i jogurty'\n",
      " 'sery i twarogi' 'jaja' 'oleje i tłuszcze' 'owoce' 'warzywa' 'ziemniaki'\n",
      " 'cukier' 'z pracy najemnej' 'z gospodarstwa indywidualnego w rolnictwie'\n",
      " 'z pracy na własny rachunek'\n",
      " 'przeciętny miesięczny dochód rozporządzalny na 1 osobę  z gospodarstwa indywidualnego w rolnictwie w relacji do przeciętnego miesięcznego dochodu na 1 osobę z pracy na własny rachunek'\n",
      " 'ze świadczeń społecznych'\n",
      " 'ze świadczeń społecznych; w tym ze świadczenia wychowawczego Rodzina 500+\"\"'\n",
      " 'dochód do dyspozycji' 'ogółem, Polska = 100'\n",
      " 'towary i usługi konsumpcyjne' 'żywność i napoje bezalkoholowe'\n",
      " 'napoje alkoholowe i wyroby tytoniowe' 'odzież i obuwie'\n",
      " 'użytkowanie mieszkania lub domu i nośniki energii'\n",
      " 'wyposażenie mieszkania i prowadzenie gospodarstwa domowego' 'zdrowie'\n",
      " 'transport' 'łączność' 'rekreacja i kultura' 'edukacja'\n",
      " 'restauracje i hotele' 'pozostałe wydatki na towary i usługi'\n",
      " 'ogółem (BAEL)' 'towary i usługi konsumpcyjne (BAEL)'\n",
      " 'udział wydatków na żywność i napoje bezalkoholowe w wydatkach ogółem'\n",
      " 'udział wydatków na użytkowanie mieszkania i nośniki energii w wydatkach ogółem'] \n",
      "\n",
      "Rok: [1999 2000 2001 2002 2003 2004 2005 2006 2007 2008 2009 2010 2011 2012\n",
      " 2013 2014 2015 2016 2017 2018 2019 2020 1998] \n",
      "\n",
      "Wartosc: [31428. 36163. 31847. ...  7746.  7317. 65469.] \n",
      "\n",
      "Jednostka miary: ['gosp.' 'osoba' '-' '%' 'kg' 'l' 'szt.' 'zł'] \n",
      "\n",
      "Atrybut: [nan 'm' 'x'] \n",
      "\n",
      "Unnamed: 8: [nan] \n",
      "\n"
     ]
    }
   ],
   "source": [
    "# print unique values foreach column\n",
    "for column in df_ludnosc.columns:\n",
    "    print(f\"{column}: {df_ludnosc[column].unique()} \\n\")"
   ]
  },
  {
   "cell_type": "markdown",
   "metadata": {},
   "source": [
    "## zarobki"
   ]
  },
  {
   "cell_type": "code",
   "execution_count": 8,
   "metadata": {},
   "outputs": [
    {
     "data": {
      "text/plain": "      Kategoria      Kod               Nazwa Zmienna   Rok   Wartosc  \\\n15470   Dochody        0              POLSKA  ogółem  1999   56043.0   \n15471   Dochody        0              POLSKA  ogółem  2000   61051.0   \n15472   Dochody        0              POLSKA  ogółem  2001   64448.0   \n15473   Dochody        0              POLSKA  ogółem  2002   66421.0   \n15474   Dochody        0              POLSKA  ogółem  2003   71196.0   \n...         ...      ...                 ...     ...   ...       ...   \n18655   Dochody  3200000  ZACHODNIOPOMORSKIE  ogółem  2016  148290.0   \n18656   Dochody  3200000  ZACHODNIOPOMORSKIE  ogółem  2017  165260.0   \n18657   Dochody  3200000  ZACHODNIOPOMORSKIE  ogółem  2018  172223.0   \n18658   Dochody  3200000  ZACHODNIOPOMORSKIE  ogółem  2019  180111.0   \n18659   Dochody  3200000  ZACHODNIOPOMORSKIE  ogółem  2020  186209.0   \n\n      Jednostka miary Atrybut  Unnamed: 8  \n15470              zł     NaN         NaN  \n15471              zł     NaN         NaN  \n15472              zł     NaN         NaN  \n15473              zł     NaN         NaN  \n15474              zł     NaN         NaN  \n...               ...     ...         ...  \n18655              zł     NaN         NaN  \n18656              zł     NaN         NaN  \n18657              zł     NaN         NaN  \n18658              zł     NaN         NaN  \n18659              zł     NaN         NaN  \n\n[374 rows x 9 columns]",
      "text/html": "<div>\n<style scoped>\n    .dataframe tbody tr th:only-of-type {\n        vertical-align: middle;\n    }\n\n    .dataframe tbody tr th {\n        vertical-align: top;\n    }\n\n    .dataframe thead th {\n        text-align: right;\n    }\n</style>\n<table border=\"1\" class=\"dataframe\">\n  <thead>\n    <tr style=\"text-align: right;\">\n      <th></th>\n      <th>Kategoria</th>\n      <th>Kod</th>\n      <th>Nazwa</th>\n      <th>Zmienna</th>\n      <th>Rok</th>\n      <th>Wartosc</th>\n      <th>Jednostka miary</th>\n      <th>Atrybut</th>\n      <th>Unnamed: 8</th>\n    </tr>\n  </thead>\n  <tbody>\n    <tr>\n      <th>15470</th>\n      <td>Dochody</td>\n      <td>0</td>\n      <td>POLSKA</td>\n      <td>ogółem</td>\n      <td>1999</td>\n      <td>56043.0</td>\n      <td>zł</td>\n      <td>NaN</td>\n      <td>NaN</td>\n    </tr>\n    <tr>\n      <th>15471</th>\n      <td>Dochody</td>\n      <td>0</td>\n      <td>POLSKA</td>\n      <td>ogółem</td>\n      <td>2000</td>\n      <td>61051.0</td>\n      <td>zł</td>\n      <td>NaN</td>\n      <td>NaN</td>\n    </tr>\n    <tr>\n      <th>15472</th>\n      <td>Dochody</td>\n      <td>0</td>\n      <td>POLSKA</td>\n      <td>ogółem</td>\n      <td>2001</td>\n      <td>64448.0</td>\n      <td>zł</td>\n      <td>NaN</td>\n      <td>NaN</td>\n    </tr>\n    <tr>\n      <th>15473</th>\n      <td>Dochody</td>\n      <td>0</td>\n      <td>POLSKA</td>\n      <td>ogółem</td>\n      <td>2002</td>\n      <td>66421.0</td>\n      <td>zł</td>\n      <td>NaN</td>\n      <td>NaN</td>\n    </tr>\n    <tr>\n      <th>15474</th>\n      <td>Dochody</td>\n      <td>0</td>\n      <td>POLSKA</td>\n      <td>ogółem</td>\n      <td>2003</td>\n      <td>71196.0</td>\n      <td>zł</td>\n      <td>NaN</td>\n      <td>NaN</td>\n    </tr>\n    <tr>\n      <th>...</th>\n      <td>...</td>\n      <td>...</td>\n      <td>...</td>\n      <td>...</td>\n      <td>...</td>\n      <td>...</td>\n      <td>...</td>\n      <td>...</td>\n      <td>...</td>\n    </tr>\n    <tr>\n      <th>18655</th>\n      <td>Dochody</td>\n      <td>3200000</td>\n      <td>ZACHODNIOPOMORSKIE</td>\n      <td>ogółem</td>\n      <td>2016</td>\n      <td>148290.0</td>\n      <td>zł</td>\n      <td>NaN</td>\n      <td>NaN</td>\n    </tr>\n    <tr>\n      <th>18656</th>\n      <td>Dochody</td>\n      <td>3200000</td>\n      <td>ZACHODNIOPOMORSKIE</td>\n      <td>ogółem</td>\n      <td>2017</td>\n      <td>165260.0</td>\n      <td>zł</td>\n      <td>NaN</td>\n      <td>NaN</td>\n    </tr>\n    <tr>\n      <th>18657</th>\n      <td>Dochody</td>\n      <td>3200000</td>\n      <td>ZACHODNIOPOMORSKIE</td>\n      <td>ogółem</td>\n      <td>2018</td>\n      <td>172223.0</td>\n      <td>zł</td>\n      <td>NaN</td>\n      <td>NaN</td>\n    </tr>\n    <tr>\n      <th>18658</th>\n      <td>Dochody</td>\n      <td>3200000</td>\n      <td>ZACHODNIOPOMORSKIE</td>\n      <td>ogółem</td>\n      <td>2019</td>\n      <td>180111.0</td>\n      <td>zł</td>\n      <td>NaN</td>\n      <td>NaN</td>\n    </tr>\n    <tr>\n      <th>18659</th>\n      <td>Dochody</td>\n      <td>3200000</td>\n      <td>ZACHODNIOPOMORSKIE</td>\n      <td>ogółem</td>\n      <td>2020</td>\n      <td>186209.0</td>\n      <td>zł</td>\n      <td>NaN</td>\n      <td>NaN</td>\n    </tr>\n  </tbody>\n</table>\n<p>374 rows × 9 columns</p>\n</div>"
     },
     "execution_count": 8,
     "metadata": {},
     "output_type": "execute_result"
    }
   ],
   "source": [
    "df_ludnosc[(df_ludnosc.Kategoria == \"Dochody\") & (df_ludnosc.Zmienna == \"ogółem\")]"
   ]
  },
  {
   "cell_type": "code",
   "execution_count": 9,
   "metadata": {},
   "outputs": [
    {
     "data": {
      "text/plain": "                     count           mean           std      min       25%  \\\nNazwa                                                                        \nDOLNOŚLĄSKIE          22.0  117754.818182  44399.114475  58091.0  75613.00   \nKUJAWSKO-POMORSKIE    22.0  104315.818182  39347.507047  51288.0  65593.50   \nLUBELSKIE             22.0   97868.318182  36447.199048  49104.0  67345.25   \nLUBUSKIE              22.0  111015.045455  42263.498303  54926.0  68187.50   \nMAZOWIECKIE           22.0  140743.272727  49018.698911  68005.0  93852.25   \nMAŁOPOLSKIE           22.0  107627.636364  40125.558590  55965.0  72127.50   \nOPOLSKIE              22.0  107782.045455  36786.426177  50719.0  75720.50   \nPODKARPACKIE          22.0   88782.681818  32794.169539  47684.0  59382.75   \nPODLASKIE             22.0  106719.318182  42351.484345  47916.0  66483.00   \nPOLSKA                22.0  112910.818182  41261.482296  56043.0  74191.50   \nPOMORSKIE             22.0  117428.909091  40339.341459  56753.0  77741.00   \nWARMIŃSKO-MAZURSKIE   22.0  103006.454545  39371.046648  46593.0  66857.50   \nWIELKOPOLSKIE         22.0  108182.954545  39213.752548  55923.0  71029.00   \nZACHODNIOPOMORSKIE    22.0  113183.454545  41123.031469  59118.0  76216.50   \nŁÓDZKIE               22.0  111502.363636  39662.408439  57462.0  74014.00   \nŚLĄSKIE               22.0  115774.500000  43037.734166  59722.0  75942.25   \nŚWIĘTOKRZYSKIE        22.0   98451.636364  38540.271297  46764.0  61684.75   \n\n                          50%        75%       max  \nNazwa                                               \nDOLNOŚLĄSKIE         120671.5  144563.00  203124.0  \nKUJAWSKO-POMORSKIE   106196.5  123465.25  184534.0  \nLUBELSKIE             94374.0  122214.25  167902.0  \nLUBUSKIE             112819.0  138602.75  197147.0  \nMAZOWIECKIE          152035.0  174461.50  224052.0  \nMAŁOPOLSKIE          107463.5  129423.25  191474.0  \nOPOLSKIE             109900.0  129288.00  171134.0  \nPODKARPACKIE          87093.5  107448.50  158857.0  \nPODLASKIE            106098.5  125851.00  194831.0  \nPOLSKA               115365.5  137473.00  191921.0  \nPOMORSKIE            120381.0  142046.00  185998.0  \nWARMIŃSKO-MAZURSKIE  109057.5  126781.75  188405.0  \nWIELKOPOLSKIE        111153.5  128303.75  180698.0  \nZACHODNIOPOMORSKIE   116329.0  141148.75  186209.0  \nŁÓDZKIE              114691.5  134564.00  187183.0  \nŚLĄSKIE              114123.5  141082.50  205036.0  \nŚWIĘTOKRZYSKIE        98212.5  120203.50  172692.0  ",
      "text/html": "<div>\n<style scoped>\n    .dataframe tbody tr th:only-of-type {\n        vertical-align: middle;\n    }\n\n    .dataframe tbody tr th {\n        vertical-align: top;\n    }\n\n    .dataframe thead th {\n        text-align: right;\n    }\n</style>\n<table border=\"1\" class=\"dataframe\">\n  <thead>\n    <tr style=\"text-align: right;\">\n      <th></th>\n      <th>count</th>\n      <th>mean</th>\n      <th>std</th>\n      <th>min</th>\n      <th>25%</th>\n      <th>50%</th>\n      <th>75%</th>\n      <th>max</th>\n    </tr>\n    <tr>\n      <th>Nazwa</th>\n      <th></th>\n      <th></th>\n      <th></th>\n      <th></th>\n      <th></th>\n      <th></th>\n      <th></th>\n      <th></th>\n    </tr>\n  </thead>\n  <tbody>\n    <tr>\n      <th>DOLNOŚLĄSKIE</th>\n      <td>22.0</td>\n      <td>117754.818182</td>\n      <td>44399.114475</td>\n      <td>58091.0</td>\n      <td>75613.00</td>\n      <td>120671.5</td>\n      <td>144563.00</td>\n      <td>203124.0</td>\n    </tr>\n    <tr>\n      <th>KUJAWSKO-POMORSKIE</th>\n      <td>22.0</td>\n      <td>104315.818182</td>\n      <td>39347.507047</td>\n      <td>51288.0</td>\n      <td>65593.50</td>\n      <td>106196.5</td>\n      <td>123465.25</td>\n      <td>184534.0</td>\n    </tr>\n    <tr>\n      <th>LUBELSKIE</th>\n      <td>22.0</td>\n      <td>97868.318182</td>\n      <td>36447.199048</td>\n      <td>49104.0</td>\n      <td>67345.25</td>\n      <td>94374.0</td>\n      <td>122214.25</td>\n      <td>167902.0</td>\n    </tr>\n    <tr>\n      <th>LUBUSKIE</th>\n      <td>22.0</td>\n      <td>111015.045455</td>\n      <td>42263.498303</td>\n      <td>54926.0</td>\n      <td>68187.50</td>\n      <td>112819.0</td>\n      <td>138602.75</td>\n      <td>197147.0</td>\n    </tr>\n    <tr>\n      <th>MAZOWIECKIE</th>\n      <td>22.0</td>\n      <td>140743.272727</td>\n      <td>49018.698911</td>\n      <td>68005.0</td>\n      <td>93852.25</td>\n      <td>152035.0</td>\n      <td>174461.50</td>\n      <td>224052.0</td>\n    </tr>\n    <tr>\n      <th>MAŁOPOLSKIE</th>\n      <td>22.0</td>\n      <td>107627.636364</td>\n      <td>40125.558590</td>\n      <td>55965.0</td>\n      <td>72127.50</td>\n      <td>107463.5</td>\n      <td>129423.25</td>\n      <td>191474.0</td>\n    </tr>\n    <tr>\n      <th>OPOLSKIE</th>\n      <td>22.0</td>\n      <td>107782.045455</td>\n      <td>36786.426177</td>\n      <td>50719.0</td>\n      <td>75720.50</td>\n      <td>109900.0</td>\n      <td>129288.00</td>\n      <td>171134.0</td>\n    </tr>\n    <tr>\n      <th>PODKARPACKIE</th>\n      <td>22.0</td>\n      <td>88782.681818</td>\n      <td>32794.169539</td>\n      <td>47684.0</td>\n      <td>59382.75</td>\n      <td>87093.5</td>\n      <td>107448.50</td>\n      <td>158857.0</td>\n    </tr>\n    <tr>\n      <th>PODLASKIE</th>\n      <td>22.0</td>\n      <td>106719.318182</td>\n      <td>42351.484345</td>\n      <td>47916.0</td>\n      <td>66483.00</td>\n      <td>106098.5</td>\n      <td>125851.00</td>\n      <td>194831.0</td>\n    </tr>\n    <tr>\n      <th>POLSKA</th>\n      <td>22.0</td>\n      <td>112910.818182</td>\n      <td>41261.482296</td>\n      <td>56043.0</td>\n      <td>74191.50</td>\n      <td>115365.5</td>\n      <td>137473.00</td>\n      <td>191921.0</td>\n    </tr>\n    <tr>\n      <th>POMORSKIE</th>\n      <td>22.0</td>\n      <td>117428.909091</td>\n      <td>40339.341459</td>\n      <td>56753.0</td>\n      <td>77741.00</td>\n      <td>120381.0</td>\n      <td>142046.00</td>\n      <td>185998.0</td>\n    </tr>\n    <tr>\n      <th>WARMIŃSKO-MAZURSKIE</th>\n      <td>22.0</td>\n      <td>103006.454545</td>\n      <td>39371.046648</td>\n      <td>46593.0</td>\n      <td>66857.50</td>\n      <td>109057.5</td>\n      <td>126781.75</td>\n      <td>188405.0</td>\n    </tr>\n    <tr>\n      <th>WIELKOPOLSKIE</th>\n      <td>22.0</td>\n      <td>108182.954545</td>\n      <td>39213.752548</td>\n      <td>55923.0</td>\n      <td>71029.00</td>\n      <td>111153.5</td>\n      <td>128303.75</td>\n      <td>180698.0</td>\n    </tr>\n    <tr>\n      <th>ZACHODNIOPOMORSKIE</th>\n      <td>22.0</td>\n      <td>113183.454545</td>\n      <td>41123.031469</td>\n      <td>59118.0</td>\n      <td>76216.50</td>\n      <td>116329.0</td>\n      <td>141148.75</td>\n      <td>186209.0</td>\n    </tr>\n    <tr>\n      <th>ŁÓDZKIE</th>\n      <td>22.0</td>\n      <td>111502.363636</td>\n      <td>39662.408439</td>\n      <td>57462.0</td>\n      <td>74014.00</td>\n      <td>114691.5</td>\n      <td>134564.00</td>\n      <td>187183.0</td>\n    </tr>\n    <tr>\n      <th>ŚLĄSKIE</th>\n      <td>22.0</td>\n      <td>115774.500000</td>\n      <td>43037.734166</td>\n      <td>59722.0</td>\n      <td>75942.25</td>\n      <td>114123.5</td>\n      <td>141082.50</td>\n      <td>205036.0</td>\n    </tr>\n    <tr>\n      <th>ŚWIĘTOKRZYSKIE</th>\n      <td>22.0</td>\n      <td>98451.636364</td>\n      <td>38540.271297</td>\n      <td>46764.0</td>\n      <td>61684.75</td>\n      <td>98212.5</td>\n      <td>120203.50</td>\n      <td>172692.0</td>\n    </tr>\n  </tbody>\n</table>\n</div>"
     },
     "execution_count": 9,
     "metadata": {},
     "output_type": "execute_result"
    }
   ],
   "source": [
    "df_ludnosc[(df_ludnosc.Kategoria == \"Dochody\") & (df_ludnosc.Zmienna == \"ogółem\")].groupby(\"Nazwa\").Wartosc.describe()"
   ]
  },
  {
   "cell_type": "markdown",
   "metadata": {},
   "source": [
    "### średnie dochody per województwo na przestrzeni lat"
   ]
  },
  {
   "cell_type": "code",
   "execution_count": 68,
   "metadata": {},
   "outputs": [
    {
     "data": {
      "text/plain": "              Nazwa   Rok   Wartosc\n0      DOLNOŚLĄSKIE  1999   58091.0\n1      DOLNOŚLĄSKIE  2000   60526.0\n2      DOLNOŚLĄSKIE  2001   65181.0\n3      DOLNOŚLĄSKIE  2002   69084.0\n4      DOLNOŚLĄSKIE  2003   72746.0\n..              ...   ...       ...\n369  ŚWIĘTOKRZYSKIE  2016  130596.0\n370  ŚWIĘTOKRZYSKIE  2017  143268.0\n371  ŚWIĘTOKRZYSKIE  2018  154982.0\n372  ŚWIĘTOKRZYSKIE  2019  162646.0\n373  ŚWIĘTOKRZYSKIE  2020  172692.0\n\n[374 rows x 3 columns]",
      "text/html": "<div>\n<style scoped>\n    .dataframe tbody tr th:only-of-type {\n        vertical-align: middle;\n    }\n\n    .dataframe tbody tr th {\n        vertical-align: top;\n    }\n\n    .dataframe thead th {\n        text-align: right;\n    }\n</style>\n<table border=\"1\" class=\"dataframe\">\n  <thead>\n    <tr style=\"text-align: right;\">\n      <th></th>\n      <th>Nazwa</th>\n      <th>Rok</th>\n      <th>Wartosc</th>\n    </tr>\n  </thead>\n  <tbody>\n    <tr>\n      <th>0</th>\n      <td>DOLNOŚLĄSKIE</td>\n      <td>1999</td>\n      <td>58091.0</td>\n    </tr>\n    <tr>\n      <th>1</th>\n      <td>DOLNOŚLĄSKIE</td>\n      <td>2000</td>\n      <td>60526.0</td>\n    </tr>\n    <tr>\n      <th>2</th>\n      <td>DOLNOŚLĄSKIE</td>\n      <td>2001</td>\n      <td>65181.0</td>\n    </tr>\n    <tr>\n      <th>3</th>\n      <td>DOLNOŚLĄSKIE</td>\n      <td>2002</td>\n      <td>69084.0</td>\n    </tr>\n    <tr>\n      <th>4</th>\n      <td>DOLNOŚLĄSKIE</td>\n      <td>2003</td>\n      <td>72746.0</td>\n    </tr>\n    <tr>\n      <th>...</th>\n      <td>...</td>\n      <td>...</td>\n      <td>...</td>\n    </tr>\n    <tr>\n      <th>369</th>\n      <td>ŚWIĘTOKRZYSKIE</td>\n      <td>2016</td>\n      <td>130596.0</td>\n    </tr>\n    <tr>\n      <th>370</th>\n      <td>ŚWIĘTOKRZYSKIE</td>\n      <td>2017</td>\n      <td>143268.0</td>\n    </tr>\n    <tr>\n      <th>371</th>\n      <td>ŚWIĘTOKRZYSKIE</td>\n      <td>2018</td>\n      <td>154982.0</td>\n    </tr>\n    <tr>\n      <th>372</th>\n      <td>ŚWIĘTOKRZYSKIE</td>\n      <td>2019</td>\n      <td>162646.0</td>\n    </tr>\n    <tr>\n      <th>373</th>\n      <td>ŚWIĘTOKRZYSKIE</td>\n      <td>2020</td>\n      <td>172692.0</td>\n    </tr>\n  </tbody>\n</table>\n<p>374 rows × 3 columns</p>\n</div>"
     },
     "execution_count": 68,
     "metadata": {},
     "output_type": "execute_result"
    }
   ],
   "source": [
    "# to mean() jest niepotrzebne, ponieważ jest tylko jedna obserwacja per wojewódzwto, per rok, ale inaczej nie umiem.\n",
    "mean_income_annually = pd.DataFrame(\n",
    "    df_ludnosc[(df_ludnosc.Kategoria == \"Dochody\") & (df_ludnosc.Zmienna == \"ogółem\")].groupby(\n",
    "        [\"Nazwa\", \"Rok\"]).Wartosc.mean())\n",
    "mean_income_annually.reset_index(inplace=True)\n",
    "mean_income_annually"
   ]
  },
  {
   "cell_type": "code",
   "execution_count": 69,
   "outputs": [
    {
     "data": {
      "application/vnd.plotly.v1+json": {
       "data": [
        {
         "hovertemplate": "<b>%{hovertext}</b><br><br>Nazwa=DOLNOŚLĄSKIE<br>Rok=%{x}<br>Wartosc=%{y}<extra></extra>",
         "hovertext": [
          "DOLNOŚLĄSKIE",
          "DOLNOŚLĄSKIE",
          "DOLNOŚLĄSKIE",
          "DOLNOŚLĄSKIE",
          "DOLNOŚLĄSKIE",
          "DOLNOŚLĄSKIE",
          "DOLNOŚLĄSKIE",
          "DOLNOŚLĄSKIE",
          "DOLNOŚLĄSKIE",
          "DOLNOŚLĄSKIE",
          "DOLNOŚLĄSKIE",
          "DOLNOŚLĄSKIE",
          "DOLNOŚLĄSKIE",
          "DOLNOŚLĄSKIE",
          "DOLNOŚLĄSKIE",
          "DOLNOŚLĄSKIE",
          "DOLNOŚLĄSKIE",
          "DOLNOŚLĄSKIE",
          "DOLNOŚLĄSKIE",
          "DOLNOŚLĄSKIE",
          "DOLNOŚLĄSKIE",
          "DOLNOŚLĄSKIE"
         ],
         "legendgroup": "DOLNOŚLĄSKIE",
         "line": {
          "color": "#636efa",
          "dash": "solid",
          "shape": "spline"
         },
         "marker": {
          "symbol": "circle"
         },
         "mode": "lines",
         "name": "DOLNOŚLĄSKIE",
         "orientation": "v",
         "showlegend": true,
         "x": [
          1999,
          2000,
          2001,
          2002,
          2003,
          2004,
          2005,
          2006,
          2007,
          2008,
          2009,
          2010,
          2011,
          2012,
          2013,
          2014,
          2015,
          2016,
          2017,
          2018,
          2019,
          2020
         ],
         "xaxis": "x",
         "y": [
          58091.0,
          60526.0,
          65181.0,
          69084.0,
          72746.0,
          74886.0,
          77794.0,
          85298.0,
          95096.0,
          111857.0,
          117426.0,
          123917.0,
          128293.0,
          136700.0,
          134479.0,
          136633.0,
          147184.0,
          158603.0,
          162618.0,
          175550.0,
          195520.0,
          203124.0
         ],
         "yaxis": "y",
         "type": "scatter"
        },
        {
         "hovertemplate": "<b>%{hovertext}</b><br><br>Nazwa=KUJAWSKO-POMORSKIE<br>Rok=%{x}<br>Wartosc=%{y}<extra></extra>",
         "hovertext": [
          "KUJAWSKO-POMORSKIE",
          "KUJAWSKO-POMORSKIE",
          "KUJAWSKO-POMORSKIE",
          "KUJAWSKO-POMORSKIE",
          "KUJAWSKO-POMORSKIE",
          "KUJAWSKO-POMORSKIE",
          "KUJAWSKO-POMORSKIE",
          "KUJAWSKO-POMORSKIE",
          "KUJAWSKO-POMORSKIE",
          "KUJAWSKO-POMORSKIE",
          "KUJAWSKO-POMORSKIE",
          "KUJAWSKO-POMORSKIE",
          "KUJAWSKO-POMORSKIE",
          "KUJAWSKO-POMORSKIE",
          "KUJAWSKO-POMORSKIE",
          "KUJAWSKO-POMORSKIE",
          "KUJAWSKO-POMORSKIE",
          "KUJAWSKO-POMORSKIE",
          "KUJAWSKO-POMORSKIE",
          "KUJAWSKO-POMORSKIE",
          "KUJAWSKO-POMORSKIE",
          "KUJAWSKO-POMORSKIE"
         ],
         "legendgroup": "KUJAWSKO-POMORSKIE",
         "line": {
          "color": "#EF553B",
          "dash": "solid",
          "shape": "spline"
         },
         "marker": {
          "symbol": "circle"
         },
         "mode": "lines",
         "name": "KUJAWSKO-POMORSKIE",
         "orientation": "v",
         "showlegend": true,
         "x": [
          1999,
          2000,
          2001,
          2002,
          2003,
          2004,
          2005,
          2006,
          2007,
          2008,
          2009,
          2010,
          2011,
          2012,
          2013,
          2014,
          2015,
          2016,
          2017,
          2018,
          2019,
          2020
         ],
         "xaxis": "x",
         "y": [
          51288.0,
          57255.0,
          60850.0,
          65324.0,
          64086.0,
          65284.0,
          66402.0,
          77108.0,
          89788.0,
          94994.0,
          101499.0,
          115849.0,
          110894.0,
          113397.0,
          116940.0,
          120154.0,
          124569.0,
          130863.0,
          145655.0,
          161133.0,
          177082.0,
          184534.0
         ],
         "yaxis": "y",
         "type": "scatter"
        },
        {
         "hovertemplate": "<b>%{hovertext}</b><br><br>Nazwa=LUBELSKIE<br>Rok=%{x}<br>Wartosc=%{y}<extra></extra>",
         "hovertext": [
          "LUBELSKIE",
          "LUBELSKIE",
          "LUBELSKIE",
          "LUBELSKIE",
          "LUBELSKIE",
          "LUBELSKIE",
          "LUBELSKIE",
          "LUBELSKIE",
          "LUBELSKIE",
          "LUBELSKIE",
          "LUBELSKIE",
          "LUBELSKIE",
          "LUBELSKIE",
          "LUBELSKIE",
          "LUBELSKIE",
          "LUBELSKIE",
          "LUBELSKIE",
          "LUBELSKIE",
          "LUBELSKIE",
          "LUBELSKIE",
          "LUBELSKIE",
          "LUBELSKIE"
         ],
         "legendgroup": "LUBELSKIE",
         "line": {
          "color": "#00cc96",
          "dash": "solid",
          "shape": "spline"
         },
         "marker": {
          "symbol": "circle"
         },
         "mode": "lines",
         "name": "LUBELSKIE",
         "orientation": "v",
         "showlegend": true,
         "x": [
          1999,
          2000,
          2001,
          2002,
          2003,
          2004,
          2005,
          2006,
          2007,
          2008,
          2009,
          2010,
          2011,
          2012,
          2013,
          2014,
          2015,
          2016,
          2017,
          2018,
          2019,
          2020
         ],
         "xaxis": "x",
         "y": [
          49104.0,
          50173.0,
          55303.0,
          58122.0,
          64802.0,
          67670.0,
          67237.0,
          72510.0,
          79161.0,
          88062.0,
          90899.0,
          97849.0,
          102580.0,
          105645.0,
          110558.0,
          120835.0,
          122674.0,
          129914.0,
          143658.0,
          152769.0,
          155676.0,
          167902.0
         ],
         "yaxis": "y",
         "type": "scatter"
        },
        {
         "hovertemplate": "<b>%{hovertext}</b><br><br>Nazwa=LUBUSKIE<br>Rok=%{x}<br>Wartosc=%{y}<extra></extra>",
         "hovertext": [
          "LUBUSKIE",
          "LUBUSKIE",
          "LUBUSKIE",
          "LUBUSKIE",
          "LUBUSKIE",
          "LUBUSKIE",
          "LUBUSKIE",
          "LUBUSKIE",
          "LUBUSKIE",
          "LUBUSKIE",
          "LUBUSKIE",
          "LUBUSKIE",
          "LUBUSKIE",
          "LUBUSKIE",
          "LUBUSKIE",
          "LUBUSKIE",
          "LUBUSKIE",
          "LUBUSKIE",
          "LUBUSKIE",
          "LUBUSKIE",
          "LUBUSKIE",
          "LUBUSKIE"
         ],
         "legendgroup": "LUBUSKIE",
         "line": {
          "color": "#ab63fa",
          "dash": "solid",
          "shape": "spline"
         },
         "marker": {
          "symbol": "circle"
         },
         "mode": "lines",
         "name": "LUBUSKIE",
         "orientation": "v",
         "showlegend": true,
         "x": [
          1999,
          2000,
          2001,
          2002,
          2003,
          2004,
          2005,
          2006,
          2007,
          2008,
          2009,
          2010,
          2011,
          2012,
          2013,
          2014,
          2015,
          2016,
          2017,
          2018,
          2019,
          2020
         ],
         "xaxis": "x",
         "y": [
          54926.0,
          60966.0,
          63466.0,
          64926.0,
          67875.0,
          65437.0,
          69125.0,
          84229.0,
          91430.0,
          105886.0,
          110332.0,
          115306.0,
          118989.0,
          123116.0,
          123806.0,
          128537.0,
          141958.0,
          149852.0,
          159121.0,
          166489.0,
          179412.0,
          197147.0
         ],
         "yaxis": "y",
         "type": "scatter"
        },
        {
         "hovertemplate": "<b>%{hovertext}</b><br><br>Nazwa=MAZOWIECKIE<br>Rok=%{x}<br>Wartosc=%{y}<extra></extra>",
         "hovertext": [
          "MAZOWIECKIE",
          "MAZOWIECKIE",
          "MAZOWIECKIE",
          "MAZOWIECKIE",
          "MAZOWIECKIE",
          "MAZOWIECKIE",
          "MAZOWIECKIE",
          "MAZOWIECKIE",
          "MAZOWIECKIE",
          "MAZOWIECKIE",
          "MAZOWIECKIE",
          "MAZOWIECKIE",
          "MAZOWIECKIE",
          "MAZOWIECKIE",
          "MAZOWIECKIE",
          "MAZOWIECKIE",
          "MAZOWIECKIE",
          "MAZOWIECKIE",
          "MAZOWIECKIE",
          "MAZOWIECKIE",
          "MAZOWIECKIE",
          "MAZOWIECKIE"
         ],
         "legendgroup": "MAZOWIECKIE",
         "line": {
          "color": "#FFA15A",
          "dash": "solid",
          "shape": "spline"
         },
         "marker": {
          "symbol": "circle"
         },
         "mode": "lines",
         "name": "MAZOWIECKIE",
         "orientation": "v",
         "showlegend": true,
         "x": [
          1999,
          2000,
          2001,
          2002,
          2003,
          2004,
          2005,
          2006,
          2007,
          2008,
          2009,
          2010,
          2011,
          2012,
          2013,
          2014,
          2015,
          2016,
          2017,
          2018,
          2019,
          2020
         ],
         "xaxis": "x",
         "y": [
          68005.0,
          75026.0,
          77144.0,
          79548.0,
          89878.0,
          94018.0,
          93797.0,
          104880.0,
          120715.0,
          133646.0,
          143873.0,
          160197.0,
          162296.0,
          171001.0,
          169042.0,
          170362.0,
          175615.0,
          178088.0,
          191209.0,
          203159.0,
          210801.0,
          224052.0
         ],
         "yaxis": "y",
         "type": "scatter"
        },
        {
         "hovertemplate": "<b>%{hovertext}</b><br><br>Nazwa=MAŁOPOLSKIE<br>Rok=%{x}<br>Wartosc=%{y}<extra></extra>",
         "hovertext": [
          "MAŁOPOLSKIE",
          "MAŁOPOLSKIE",
          "MAŁOPOLSKIE",
          "MAŁOPOLSKIE",
          "MAŁOPOLSKIE",
          "MAŁOPOLSKIE",
          "MAŁOPOLSKIE",
          "MAŁOPOLSKIE",
          "MAŁOPOLSKIE",
          "MAŁOPOLSKIE",
          "MAŁOPOLSKIE",
          "MAŁOPOLSKIE",
          "MAŁOPOLSKIE",
          "MAŁOPOLSKIE",
          "MAŁOPOLSKIE",
          "MAŁOPOLSKIE",
          "MAŁOPOLSKIE",
          "MAŁOPOLSKIE",
          "MAŁOPOLSKIE",
          "MAŁOPOLSKIE",
          "MAŁOPOLSKIE",
          "MAŁOPOLSKIE"
         ],
         "legendgroup": "MAŁOPOLSKIE",
         "line": {
          "color": "#19d3f3",
          "dash": "solid",
          "shape": "spline"
         },
         "marker": {
          "symbol": "circle"
         },
         "mode": "lines",
         "name": "MAŁOPOLSKIE",
         "orientation": "v",
         "showlegend": true,
         "x": [
          1999,
          2000,
          2001,
          2002,
          2003,
          2004,
          2005,
          2006,
          2007,
          2008,
          2009,
          2010,
          2011,
          2012,
          2013,
          2014,
          2015,
          2016,
          2017,
          2018,
          2019,
          2020
         ],
         "xaxis": "x",
         "y": [
          55965.0,
          58360.0,
          63048.0,
          63165.0,
          67184.0,
          71761.0,
          73227.0,
          76510.0,
          86437.0,
          100074.0,
          104173.0,
          110754.0,
          115679.0,
          118984.0,
          122780.0,
          126058.0,
          130545.0,
          142346.0,
          149191.0,
          162785.0,
          177308.0,
          191474.0
         ],
         "yaxis": "y",
         "type": "scatter"
        },
        {
         "hovertemplate": "<b>%{hovertext}</b><br><br>Nazwa=OPOLSKIE<br>Rok=%{x}<br>Wartosc=%{y}<extra></extra>",
         "hovertext": [
          "OPOLSKIE",
          "OPOLSKIE",
          "OPOLSKIE",
          "OPOLSKIE",
          "OPOLSKIE",
          "OPOLSKIE",
          "OPOLSKIE",
          "OPOLSKIE",
          "OPOLSKIE",
          "OPOLSKIE",
          "OPOLSKIE",
          "OPOLSKIE",
          "OPOLSKIE",
          "OPOLSKIE",
          "OPOLSKIE",
          "OPOLSKIE",
          "OPOLSKIE",
          "OPOLSKIE",
          "OPOLSKIE",
          "OPOLSKIE",
          "OPOLSKIE",
          "OPOLSKIE"
         ],
         "legendgroup": "OPOLSKIE",
         "line": {
          "color": "#FF6692",
          "dash": "solid",
          "shape": "spline"
         },
         "marker": {
          "symbol": "circle"
         },
         "mode": "lines",
         "name": "OPOLSKIE",
         "orientation": "v",
         "showlegend": true,
         "x": [
          1999,
          2000,
          2001,
          2002,
          2003,
          2004,
          2005,
          2006,
          2007,
          2008,
          2009,
          2010,
          2011,
          2012,
          2013,
          2014,
          2015,
          2016,
          2017,
          2018,
          2019,
          2020
         ],
         "xaxis": "x",
         "y": [
          50719.0,
          61368.0,
          63018.0,
          64219.0,
          69223.0,
          74464.0,
          79630.0,
          79490.0,
          91570.0,
          108008.0,
          108227.0,
          111573.0,
          118190.0,
          129426.0,
          119879.0,
          124469.0,
          128874.0,
          138992.0,
          151073.0,
          158930.0,
          168729.0,
          171134.0
         ],
         "yaxis": "y",
         "type": "scatter"
        },
        {
         "hovertemplate": "<b>%{hovertext}</b><br><br>Nazwa=PODKARPACKIE<br>Rok=%{x}<br>Wartosc=%{y}<extra></extra>",
         "hovertext": [
          "PODKARPACKIE",
          "PODKARPACKIE",
          "PODKARPACKIE",
          "PODKARPACKIE",
          "PODKARPACKIE",
          "PODKARPACKIE",
          "PODKARPACKIE",
          "PODKARPACKIE",
          "PODKARPACKIE",
          "PODKARPACKIE",
          "PODKARPACKIE",
          "PODKARPACKIE",
          "PODKARPACKIE",
          "PODKARPACKIE",
          "PODKARPACKIE",
          "PODKARPACKIE",
          "PODKARPACKIE",
          "PODKARPACKIE",
          "PODKARPACKIE",
          "PODKARPACKIE",
          "PODKARPACKIE",
          "PODKARPACKIE"
         ],
         "legendgroup": "PODKARPACKIE",
         "line": {
          "color": "#B6E880",
          "dash": "solid",
          "shape": "spline"
         },
         "marker": {
          "symbol": "circle"
         },
         "mode": "lines",
         "name": "PODKARPACKIE",
         "orientation": "v",
         "showlegend": true,
         "x": [
          1999,
          2000,
          2001,
          2002,
          2003,
          2004,
          2005,
          2006,
          2007,
          2008,
          2009,
          2010,
          2011,
          2012,
          2013,
          2014,
          2015,
          2016,
          2017,
          2018,
          2019,
          2020
         ],
         "xaxis": "x",
         "y": [
          47684.0,
          49722.0,
          52749.0,
          53846.0,
          58212.0,
          58543.0,
          61902.0,
          64676.0,
          70067.0,
          79127.0,
          83459.0,
          90728.0,
          93785.0,
          95912.0,
          99769.0,
          105302.0,
          108164.0,
          113410.0,
          125430.0,
          134726.0,
          147149.0,
          158857.0
         ],
         "yaxis": "y",
         "type": "scatter"
        },
        {
         "hovertemplate": "<b>%{hovertext}</b><br><br>Nazwa=PODLASKIE<br>Rok=%{x}<br>Wartosc=%{y}<extra></extra>",
         "hovertext": [
          "PODLASKIE",
          "PODLASKIE",
          "PODLASKIE",
          "PODLASKIE",
          "PODLASKIE",
          "PODLASKIE",
          "PODLASKIE",
          "PODLASKIE",
          "PODLASKIE",
          "PODLASKIE",
          "PODLASKIE",
          "PODLASKIE",
          "PODLASKIE",
          "PODLASKIE",
          "PODLASKIE",
          "PODLASKIE",
          "PODLASKIE",
          "PODLASKIE",
          "PODLASKIE",
          "PODLASKIE",
          "PODLASKIE",
          "PODLASKIE"
         ],
         "legendgroup": "PODLASKIE",
         "line": {
          "color": "#FF97FF",
          "dash": "solid",
          "shape": "spline"
         },
         "marker": {
          "symbol": "circle"
         },
         "mode": "lines",
         "name": "PODLASKIE",
         "orientation": "v",
         "showlegend": true,
         "x": [
          1999,
          2000,
          2001,
          2002,
          2003,
          2004,
          2005,
          2006,
          2007,
          2008,
          2009,
          2010,
          2011,
          2012,
          2013,
          2014,
          2015,
          2016,
          2017,
          2018,
          2019,
          2020
         ],
         "xaxis": "x",
         "y": [
          47916.0,
          52493.0,
          58269.0,
          62220.0,
          60796.0,
          64488.0,
          72468.0,
          81610.0,
          88399.0,
          93548.0,
          101877.0,
          110320.0,
          122492.0,
          124239.0,
          125818.0,
          125862.0,
          125793.0,
          141983.0,
          158557.0,
          159676.0,
          174170.0,
          194831.0
         ],
         "yaxis": "y",
         "type": "scatter"
        },
        {
         "hovertemplate": "<b>%{hovertext}</b><br><br>Nazwa=POLSKA<br>Rok=%{x}<br>Wartosc=%{y}<extra></extra>",
         "hovertext": [
          "POLSKA",
          "POLSKA",
          "POLSKA",
          "POLSKA",
          "POLSKA",
          "POLSKA",
          "POLSKA",
          "POLSKA",
          "POLSKA",
          "POLSKA",
          "POLSKA",
          "POLSKA",
          "POLSKA",
          "POLSKA",
          "POLSKA",
          "POLSKA",
          "POLSKA",
          "POLSKA",
          "POLSKA",
          "POLSKA",
          "POLSKA",
          "POLSKA"
         ],
         "legendgroup": "POLSKA",
         "line": {
          "color": "#FECB52",
          "dash": "solid",
          "shape": "spline"
         },
         "marker": {
          "symbol": "circle"
         },
         "mode": "lines",
         "name": "POLSKA",
         "orientation": "v",
         "showlegend": true,
         "x": [
          1999,
          2000,
          2001,
          2002,
          2003,
          2004,
          2005,
          2006,
          2007,
          2008,
          2009,
          2010,
          2011,
          2012,
          2013,
          2014,
          2015,
          2016,
          2017,
          2018,
          2019,
          2020
         ],
         "xaxis": "x",
         "y": [
          56043.0,
          61051.0,
          64448.0,
          66421.0,
          71196.0,
          73540.0,
          76146.0,
          83468.0,
          92887.0,
          104552.0,
          111449.0,
          119282.0,
          122695.0,
          127843.0,
          129907.0,
          134044.0,
          138616.0,
          147456.0,
          159813.0,
          169346.0,
          181914.0,
          191921.0
         ],
         "yaxis": "y",
         "type": "scatter"
        },
        {
         "hovertemplate": "<b>%{hovertext}</b><br><br>Nazwa=POMORSKIE<br>Rok=%{x}<br>Wartosc=%{y}<extra></extra>",
         "hovertext": [
          "POMORSKIE",
          "POMORSKIE",
          "POMORSKIE",
          "POMORSKIE",
          "POMORSKIE",
          "POMORSKIE",
          "POMORSKIE",
          "POMORSKIE",
          "POMORSKIE",
          "POMORSKIE",
          "POMORSKIE",
          "POMORSKIE",
          "POMORSKIE",
          "POMORSKIE",
          "POMORSKIE",
          "POMORSKIE",
          "POMORSKIE",
          "POMORSKIE",
          "POMORSKIE",
          "POMORSKIE",
          "POMORSKIE",
          "POMORSKIE"
         ],
         "legendgroup": "POMORSKIE",
         "line": {
          "color": "#636efa",
          "dash": "solid",
          "shape": "spline"
         },
         "marker": {
          "symbol": "circle"
         },
         "mode": "lines",
         "name": "POMORSKIE",
         "orientation": "v",
         "showlegend": true,
         "x": [
          1999,
          2000,
          2001,
          2002,
          2003,
          2004,
          2005,
          2006,
          2007,
          2008,
          2009,
          2010,
          2011,
          2012,
          2013,
          2014,
          2015,
          2016,
          2017,
          2018,
          2019,
          2020
         ],
         "xaxis": "x",
         "y": [
          56753.0,
          63149.0,
          68307.0,
          74344.0,
          76952.0,
          75332.0,
          80108.0,
          91051.0,
          103016.0,
          110219.0,
          116450.0,
          124312.0,
          128694.0,
          135056.0,
          143364.0,
          137634.0,
          138092.0,
          156035.0,
          164904.0,
          173754.0,
          185998.0,
          179912.0
         ],
         "yaxis": "y",
         "type": "scatter"
        },
        {
         "hovertemplate": "<b>%{hovertext}</b><br><br>Nazwa=WARMIŃSKO-MAZURSKIE<br>Rok=%{x}<br>Wartosc=%{y}<extra></extra>",
         "hovertext": [
          "WARMIŃSKO-MAZURSKIE",
          "WARMIŃSKO-MAZURSKIE",
          "WARMIŃSKO-MAZURSKIE",
          "WARMIŃSKO-MAZURSKIE",
          "WARMIŃSKO-MAZURSKIE",
          "WARMIŃSKO-MAZURSKIE",
          "WARMIŃSKO-MAZURSKIE",
          "WARMIŃSKO-MAZURSKIE",
          "WARMIŃSKO-MAZURSKIE",
          "WARMIŃSKO-MAZURSKIE",
          "WARMIŃSKO-MAZURSKIE",
          "WARMIŃSKO-MAZURSKIE",
          "WARMIŃSKO-MAZURSKIE",
          "WARMIŃSKO-MAZURSKIE",
          "WARMIŃSKO-MAZURSKIE",
          "WARMIŃSKO-MAZURSKIE",
          "WARMIŃSKO-MAZURSKIE",
          "WARMIŃSKO-MAZURSKIE",
          "WARMIŃSKO-MAZURSKIE",
          "WARMIŃSKO-MAZURSKIE",
          "WARMIŃSKO-MAZURSKIE",
          "WARMIŃSKO-MAZURSKIE"
         ],
         "legendgroup": "WARMIŃSKO-MAZURSKIE",
         "line": {
          "color": "#EF553B",
          "dash": "solid",
          "shape": "spline"
         },
         "marker": {
          "symbol": "circle"
         },
         "mode": "lines",
         "name": "WARMIŃSKO-MAZURSKIE",
         "orientation": "v",
         "showlegend": true,
         "x": [
          1999,
          2000,
          2001,
          2002,
          2003,
          2004,
          2005,
          2006,
          2007,
          2008,
          2009,
          2010,
          2011,
          2012,
          2013,
          2014,
          2015,
          2016,
          2017,
          2018,
          2019,
          2020
         ],
         "xaxis": "x",
         "y": [
          46593.0,
          54649.0,
          57941.0,
          59192.0,
          64014.0,
          65768.0,
          70126.0,
          74649.0,
          83535.0,
          97906.0,
          108428.0,
          110339.0,
          109687.0,
          110995.0,
          110897.0,
          122974.0,
          128051.0,
          137179.0,
          149615.0,
          155481.0,
          159718.0,
          188405.0
         ],
         "yaxis": "y",
         "type": "scatter"
        },
        {
         "hovertemplate": "<b>%{hovertext}</b><br><br>Nazwa=WIELKOPOLSKIE<br>Rok=%{x}<br>Wartosc=%{y}<extra></extra>",
         "hovertext": [
          "WIELKOPOLSKIE",
          "WIELKOPOLSKIE",
          "WIELKOPOLSKIE",
          "WIELKOPOLSKIE",
          "WIELKOPOLSKIE",
          "WIELKOPOLSKIE",
          "WIELKOPOLSKIE",
          "WIELKOPOLSKIE",
          "WIELKOPOLSKIE",
          "WIELKOPOLSKIE",
          "WIELKOPOLSKIE",
          "WIELKOPOLSKIE",
          "WIELKOPOLSKIE",
          "WIELKOPOLSKIE",
          "WIELKOPOLSKIE",
          "WIELKOPOLSKIE",
          "WIELKOPOLSKIE",
          "WIELKOPOLSKIE",
          "WIELKOPOLSKIE",
          "WIELKOPOLSKIE",
          "WIELKOPOLSKIE",
          "WIELKOPOLSKIE"
         ],
         "legendgroup": "WIELKOPOLSKIE",
         "line": {
          "color": "#00cc96",
          "dash": "solid",
          "shape": "spline"
         },
         "marker": {
          "symbol": "circle"
         },
         "mode": "lines",
         "name": "WIELKOPOLSKIE",
         "orientation": "v",
         "showlegend": true,
         "x": [
          1999,
          2000,
          2001,
          2002,
          2003,
          2004,
          2005,
          2006,
          2007,
          2008,
          2009,
          2010,
          2011,
          2012,
          2013,
          2014,
          2015,
          2016,
          2017,
          2018,
          2019,
          2020
         ],
         "xaxis": "x",
         "y": [
          55923.0,
          60491.0,
          63724.0,
          63916.0,
          69053.0,
          70085.0,
          73861.0,
          81416.0,
          88952.0,
          101851.0,
          109733.0,
          112574.0,
          113502.0,
          115343.0,
          120672.0,
          126878.0,
          128779.0,
          139999.0,
          160664.0,
          162998.0,
          180698.0,
          178913.0
         ],
         "yaxis": "y",
         "type": "scatter"
        },
        {
         "hovertemplate": "<b>%{hovertext}</b><br><br>Nazwa=ZACHODNIOPOMORSKIE<br>Rok=%{x}<br>Wartosc=%{y}<extra></extra>",
         "hovertext": [
          "ZACHODNIOPOMORSKIE",
          "ZACHODNIOPOMORSKIE",
          "ZACHODNIOPOMORSKIE",
          "ZACHODNIOPOMORSKIE",
          "ZACHODNIOPOMORSKIE",
          "ZACHODNIOPOMORSKIE",
          "ZACHODNIOPOMORSKIE",
          "ZACHODNIOPOMORSKIE",
          "ZACHODNIOPOMORSKIE",
          "ZACHODNIOPOMORSKIE",
          "ZACHODNIOPOMORSKIE",
          "ZACHODNIOPOMORSKIE",
          "ZACHODNIOPOMORSKIE",
          "ZACHODNIOPOMORSKIE",
          "ZACHODNIOPOMORSKIE",
          "ZACHODNIOPOMORSKIE",
          "ZACHODNIOPOMORSKIE",
          "ZACHODNIOPOMORSKIE",
          "ZACHODNIOPOMORSKIE",
          "ZACHODNIOPOMORSKIE",
          "ZACHODNIOPOMORSKIE",
          "ZACHODNIOPOMORSKIE"
         ],
         "legendgroup": "ZACHODNIOPOMORSKIE",
         "line": {
          "color": "#ab63fa",
          "dash": "solid",
          "shape": "spline"
         },
         "marker": {
          "symbol": "circle"
         },
         "mode": "lines",
         "name": "ZACHODNIOPOMORSKIE",
         "orientation": "v",
         "showlegend": true,
         "x": [
          1999,
          2000,
          2001,
          2002,
          2003,
          2004,
          2005,
          2006,
          2007,
          2008,
          2009,
          2010,
          2011,
          2012,
          2013,
          2014,
          2015,
          2016,
          2017,
          2018,
          2019,
          2020
         ],
         "xaxis": "x",
         "y": [
          59118.0,
          60337.0,
          64334.0,
          65519.0,
          70515.0,
          76204.0,
          76254.0,
          83475.0,
          90357.0,
          104891.0,
          113967.0,
          118691.0,
          123110.0,
          126356.0,
          125590.0,
          136540.0,
          142685.0,
          148290.0,
          165260.0,
          172223.0,
          180111.0,
          186209.0
         ],
         "yaxis": "y",
         "type": "scatter"
        },
        {
         "hovertemplate": "<b>%{hovertext}</b><br><br>Nazwa=ŁÓDZKIE<br>Rok=%{x}<br>Wartosc=%{y}<extra></extra>",
         "hovertext": [
          "ŁÓDZKIE",
          "ŁÓDZKIE",
          "ŁÓDZKIE",
          "ŁÓDZKIE",
          "ŁÓDZKIE",
          "ŁÓDZKIE",
          "ŁÓDZKIE",
          "ŁÓDZKIE",
          "ŁÓDZKIE",
          "ŁÓDZKIE",
          "ŁÓDZKIE",
          "ŁÓDZKIE",
          "ŁÓDZKIE",
          "ŁÓDZKIE",
          "ŁÓDZKIE",
          "ŁÓDZKIE",
          "ŁÓDZKIE",
          "ŁÓDZKIE",
          "ŁÓDZKIE",
          "ŁÓDZKIE",
          "ŁÓDZKIE",
          "ŁÓDZKIE"
         ],
         "legendgroup": "ŁÓDZKIE",
         "line": {
          "color": "#FFA15A",
          "dash": "solid",
          "shape": "spline"
         },
         "marker": {
          "symbol": "circle"
         },
         "mode": "lines",
         "name": "ŁÓDZKIE",
         "orientation": "v",
         "showlegend": true,
         "x": [
          1999,
          2000,
          2001,
          2002,
          2003,
          2004,
          2005,
          2006,
          2007,
          2008,
          2009,
          2010,
          2011,
          2012,
          2013,
          2014,
          2015,
          2016,
          2017,
          2018,
          2019,
          2020
         ],
         "xaxis": "x",
         "y": [
          57462.0,
          63209.0,
          64507.0,
          66051.0,
          71395.0,
          73053.0,
          76897.0,
          83690.0,
          91099.0,
          101336.0,
          111510.0,
          117873.0,
          120319.0,
          126842.0,
          129647.0,
          129336.0,
          136203.0,
          145823.0,
          156602.0,
          162050.0,
          180965.0,
          187183.0
         ],
         "yaxis": "y",
         "type": "scatter"
        },
        {
         "hovertemplate": "<b>%{hovertext}</b><br><br>Nazwa=ŚLĄSKIE<br>Rok=%{x}<br>Wartosc=%{y}<extra></extra>",
         "hovertext": [
          "ŚLĄSKIE",
          "ŚLĄSKIE",
          "ŚLĄSKIE",
          "ŚLĄSKIE",
          "ŚLĄSKIE",
          "ŚLĄSKIE",
          "ŚLĄSKIE",
          "ŚLĄSKIE",
          "ŚLĄSKIE",
          "ŚLĄSKIE",
          "ŚLĄSKIE",
          "ŚLĄSKIE",
          "ŚLĄSKIE",
          "ŚLĄSKIE",
          "ŚLĄSKIE",
          "ŚLĄSKIE",
          "ŚLĄSKIE",
          "ŚLĄSKIE",
          "ŚLĄSKIE",
          "ŚLĄSKIE",
          "ŚLĄSKIE",
          "ŚLĄSKIE"
         ],
         "legendgroup": "ŚLĄSKIE",
         "line": {
          "color": "#19d3f3",
          "dash": "solid",
          "shape": "spline"
         },
         "marker": {
          "symbol": "circle"
         },
         "mode": "lines",
         "name": "ŚLĄSKIE",
         "orientation": "v",
         "showlegend": true,
         "x": [
          1999,
          2000,
          2001,
          2002,
          2003,
          2004,
          2005,
          2006,
          2007,
          2008,
          2009,
          2010,
          2011,
          2012,
          2013,
          2014,
          2015,
          2016,
          2017,
          2018,
          2019,
          2020
         ],
         "xaxis": "x",
         "y": [
          59722.0,
          65741.0,
          68946.0,
          68923.0,
          72601.0,
          74829.0,
          79282.0,
          84792.0,
          91927.0,
          104108.0,
          111405.0,
          116842.0,
          121544.0,
          127887.0,
          131892.0,
          138168.0,
          142054.0,
          151323.0,
          164575.0,
          175703.0,
          189739.0,
          205036.0
         ],
         "yaxis": "y",
         "type": "scatter"
        },
        {
         "hovertemplate": "<b>%{hovertext}</b><br><br>Nazwa=ŚWIĘTOKRZYSKIE<br>Rok=%{x}<br>Wartosc=%{y}<extra></extra>",
         "hovertext": [
          "ŚWIĘTOKRZYSKIE",
          "ŚWIĘTOKRZYSKIE",
          "ŚWIĘTOKRZYSKIE",
          "ŚWIĘTOKRZYSKIE",
          "ŚWIĘTOKRZYSKIE",
          "ŚWIĘTOKRZYSKIE",
          "ŚWIĘTOKRZYSKIE",
          "ŚWIĘTOKRZYSKIE",
          "ŚWIĘTOKRZYSKIE",
          "ŚWIĘTOKRZYSKIE",
          "ŚWIĘTOKRZYSKIE",
          "ŚWIĘTOKRZYSKIE",
          "ŚWIĘTOKRZYSKIE",
          "ŚWIĘTOKRZYSKIE",
          "ŚWIĘTOKRZYSKIE",
          "ŚWIĘTOKRZYSKIE",
          "ŚWIĘTOKRZYSKIE",
          "ŚWIĘTOKRZYSKIE",
          "ŚWIĘTOKRZYSKIE",
          "ŚWIĘTOKRZYSKIE",
          "ŚWIĘTOKRZYSKIE",
          "ŚWIĘTOKRZYSKIE"
         ],
         "legendgroup": "ŚWIĘTOKRZYSKIE",
         "line": {
          "color": "#FF6692",
          "dash": "solid",
          "shape": "spline"
         },
         "marker": {
          "symbol": "circle"
         },
         "mode": "lines",
         "name": "ŚWIĘTOKRZYSKIE",
         "orientation": "v",
         "showlegend": true,
         "x": [
          1999,
          2000,
          2001,
          2002,
          2003,
          2004,
          2005,
          2006,
          2007,
          2008,
          2009,
          2010,
          2011,
          2012,
          2013,
          2014,
          2015,
          2016,
          2017,
          2018,
          2019,
          2020
         ],
         "xaxis": "x",
         "y": [
          46764.0,
          51889.0,
          55706.0,
          57834.0,
          60424.0,
          61546.0,
          62101.0,
          69844.0,
          77557.0,
          87818.0,
          93789.0,
          102636.0,
          106278.0,
          111976.0,
          115336.0,
          119974.0,
          120280.0,
          130596.0,
          143268.0,
          154982.0,
          162646.0,
          172692.0
         ],
         "yaxis": "y",
         "type": "scatter"
        }
       ],
       "layout": {
        "template": {
         "data": {
          "bar": [
           {
            "error_x": {
             "color": "#2a3f5f"
            },
            "error_y": {
             "color": "#2a3f5f"
            },
            "marker": {
             "line": {
              "color": "#E5ECF6",
              "width": 0.5
             },
             "pattern": {
              "fillmode": "overlay",
              "size": 10,
              "solidity": 0.2
             }
            },
            "type": "bar"
           }
          ],
          "barpolar": [
           {
            "marker": {
             "line": {
              "color": "#E5ECF6",
              "width": 0.5
             },
             "pattern": {
              "fillmode": "overlay",
              "size": 10,
              "solidity": 0.2
             }
            },
            "type": "barpolar"
           }
          ],
          "carpet": [
           {
            "aaxis": {
             "endlinecolor": "#2a3f5f",
             "gridcolor": "white",
             "linecolor": "white",
             "minorgridcolor": "white",
             "startlinecolor": "#2a3f5f"
            },
            "baxis": {
             "endlinecolor": "#2a3f5f",
             "gridcolor": "white",
             "linecolor": "white",
             "minorgridcolor": "white",
             "startlinecolor": "#2a3f5f"
            },
            "type": "carpet"
           }
          ],
          "choropleth": [
           {
            "colorbar": {
             "outlinewidth": 0,
             "ticks": ""
            },
            "type": "choropleth"
           }
          ],
          "contour": [
           {
            "colorbar": {
             "outlinewidth": 0,
             "ticks": ""
            },
            "colorscale": [
             [
              0.0,
              "#0d0887"
             ],
             [
              0.1111111111111111,
              "#46039f"
             ],
             [
              0.2222222222222222,
              "#7201a8"
             ],
             [
              0.3333333333333333,
              "#9c179e"
             ],
             [
              0.4444444444444444,
              "#bd3786"
             ],
             [
              0.5555555555555556,
              "#d8576b"
             ],
             [
              0.6666666666666666,
              "#ed7953"
             ],
             [
              0.7777777777777778,
              "#fb9f3a"
             ],
             [
              0.8888888888888888,
              "#fdca26"
             ],
             [
              1.0,
              "#f0f921"
             ]
            ],
            "type": "contour"
           }
          ],
          "contourcarpet": [
           {
            "colorbar": {
             "outlinewidth": 0,
             "ticks": ""
            },
            "type": "contourcarpet"
           }
          ],
          "heatmap": [
           {
            "colorbar": {
             "outlinewidth": 0,
             "ticks": ""
            },
            "colorscale": [
             [
              0.0,
              "#0d0887"
             ],
             [
              0.1111111111111111,
              "#46039f"
             ],
             [
              0.2222222222222222,
              "#7201a8"
             ],
             [
              0.3333333333333333,
              "#9c179e"
             ],
             [
              0.4444444444444444,
              "#bd3786"
             ],
             [
              0.5555555555555556,
              "#d8576b"
             ],
             [
              0.6666666666666666,
              "#ed7953"
             ],
             [
              0.7777777777777778,
              "#fb9f3a"
             ],
             [
              0.8888888888888888,
              "#fdca26"
             ],
             [
              1.0,
              "#f0f921"
             ]
            ],
            "type": "heatmap"
           }
          ],
          "heatmapgl": [
           {
            "colorbar": {
             "outlinewidth": 0,
             "ticks": ""
            },
            "colorscale": [
             [
              0.0,
              "#0d0887"
             ],
             [
              0.1111111111111111,
              "#46039f"
             ],
             [
              0.2222222222222222,
              "#7201a8"
             ],
             [
              0.3333333333333333,
              "#9c179e"
             ],
             [
              0.4444444444444444,
              "#bd3786"
             ],
             [
              0.5555555555555556,
              "#d8576b"
             ],
             [
              0.6666666666666666,
              "#ed7953"
             ],
             [
              0.7777777777777778,
              "#fb9f3a"
             ],
             [
              0.8888888888888888,
              "#fdca26"
             ],
             [
              1.0,
              "#f0f921"
             ]
            ],
            "type": "heatmapgl"
           }
          ],
          "histogram": [
           {
            "marker": {
             "pattern": {
              "fillmode": "overlay",
              "size": 10,
              "solidity": 0.2
             }
            },
            "type": "histogram"
           }
          ],
          "histogram2d": [
           {
            "colorbar": {
             "outlinewidth": 0,
             "ticks": ""
            },
            "colorscale": [
             [
              0.0,
              "#0d0887"
             ],
             [
              0.1111111111111111,
              "#46039f"
             ],
             [
              0.2222222222222222,
              "#7201a8"
             ],
             [
              0.3333333333333333,
              "#9c179e"
             ],
             [
              0.4444444444444444,
              "#bd3786"
             ],
             [
              0.5555555555555556,
              "#d8576b"
             ],
             [
              0.6666666666666666,
              "#ed7953"
             ],
             [
              0.7777777777777778,
              "#fb9f3a"
             ],
             [
              0.8888888888888888,
              "#fdca26"
             ],
             [
              1.0,
              "#f0f921"
             ]
            ],
            "type": "histogram2d"
           }
          ],
          "histogram2dcontour": [
           {
            "colorbar": {
             "outlinewidth": 0,
             "ticks": ""
            },
            "colorscale": [
             [
              0.0,
              "#0d0887"
             ],
             [
              0.1111111111111111,
              "#46039f"
             ],
             [
              0.2222222222222222,
              "#7201a8"
             ],
             [
              0.3333333333333333,
              "#9c179e"
             ],
             [
              0.4444444444444444,
              "#bd3786"
             ],
             [
              0.5555555555555556,
              "#d8576b"
             ],
             [
              0.6666666666666666,
              "#ed7953"
             ],
             [
              0.7777777777777778,
              "#fb9f3a"
             ],
             [
              0.8888888888888888,
              "#fdca26"
             ],
             [
              1.0,
              "#f0f921"
             ]
            ],
            "type": "histogram2dcontour"
           }
          ],
          "mesh3d": [
           {
            "colorbar": {
             "outlinewidth": 0,
             "ticks": ""
            },
            "type": "mesh3d"
           }
          ],
          "parcoords": [
           {
            "line": {
             "colorbar": {
              "outlinewidth": 0,
              "ticks": ""
             }
            },
            "type": "parcoords"
           }
          ],
          "pie": [
           {
            "automargin": true,
            "type": "pie"
           }
          ],
          "scatter": [
           {
            "marker": {
             "colorbar": {
              "outlinewidth": 0,
              "ticks": ""
             }
            },
            "type": "scatter"
           }
          ],
          "scatter3d": [
           {
            "line": {
             "colorbar": {
              "outlinewidth": 0,
              "ticks": ""
             }
            },
            "marker": {
             "colorbar": {
              "outlinewidth": 0,
              "ticks": ""
             }
            },
            "type": "scatter3d"
           }
          ],
          "scattercarpet": [
           {
            "marker": {
             "colorbar": {
              "outlinewidth": 0,
              "ticks": ""
             }
            },
            "type": "scattercarpet"
           }
          ],
          "scattergeo": [
           {
            "marker": {
             "colorbar": {
              "outlinewidth": 0,
              "ticks": ""
             }
            },
            "type": "scattergeo"
           }
          ],
          "scattergl": [
           {
            "marker": {
             "colorbar": {
              "outlinewidth": 0,
              "ticks": ""
             }
            },
            "type": "scattergl"
           }
          ],
          "scattermapbox": [
           {
            "marker": {
             "colorbar": {
              "outlinewidth": 0,
              "ticks": ""
             }
            },
            "type": "scattermapbox"
           }
          ],
          "scatterpolar": [
           {
            "marker": {
             "colorbar": {
              "outlinewidth": 0,
              "ticks": ""
             }
            },
            "type": "scatterpolar"
           }
          ],
          "scatterpolargl": [
           {
            "marker": {
             "colorbar": {
              "outlinewidth": 0,
              "ticks": ""
             }
            },
            "type": "scatterpolargl"
           }
          ],
          "scatterternary": [
           {
            "marker": {
             "colorbar": {
              "outlinewidth": 0,
              "ticks": ""
             }
            },
            "type": "scatterternary"
           }
          ],
          "surface": [
           {
            "colorbar": {
             "outlinewidth": 0,
             "ticks": ""
            },
            "colorscale": [
             [
              0.0,
              "#0d0887"
             ],
             [
              0.1111111111111111,
              "#46039f"
             ],
             [
              0.2222222222222222,
              "#7201a8"
             ],
             [
              0.3333333333333333,
              "#9c179e"
             ],
             [
              0.4444444444444444,
              "#bd3786"
             ],
             [
              0.5555555555555556,
              "#d8576b"
             ],
             [
              0.6666666666666666,
              "#ed7953"
             ],
             [
              0.7777777777777778,
              "#fb9f3a"
             ],
             [
              0.8888888888888888,
              "#fdca26"
             ],
             [
              1.0,
              "#f0f921"
             ]
            ],
            "type": "surface"
           }
          ],
          "table": [
           {
            "cells": {
             "fill": {
              "color": "#EBF0F8"
             },
             "line": {
              "color": "white"
             }
            },
            "header": {
             "fill": {
              "color": "#C8D4E3"
             },
             "line": {
              "color": "white"
             }
            },
            "type": "table"
           }
          ]
         },
         "layout": {
          "annotationdefaults": {
           "arrowcolor": "#2a3f5f",
           "arrowhead": 0,
           "arrowwidth": 1
          },
          "autotypenumbers": "strict",
          "coloraxis": {
           "colorbar": {
            "outlinewidth": 0,
            "ticks": ""
           }
          },
          "colorscale": {
           "diverging": [
            [
             0,
             "#8e0152"
            ],
            [
             0.1,
             "#c51b7d"
            ],
            [
             0.2,
             "#de77ae"
            ],
            [
             0.3,
             "#f1b6da"
            ],
            [
             0.4,
             "#fde0ef"
            ],
            [
             0.5,
             "#f7f7f7"
            ],
            [
             0.6,
             "#e6f5d0"
            ],
            [
             0.7,
             "#b8e186"
            ],
            [
             0.8,
             "#7fbc41"
            ],
            [
             0.9,
             "#4d9221"
            ],
            [
             1,
             "#276419"
            ]
           ],
           "sequential": [
            [
             0.0,
             "#0d0887"
            ],
            [
             0.1111111111111111,
             "#46039f"
            ],
            [
             0.2222222222222222,
             "#7201a8"
            ],
            [
             0.3333333333333333,
             "#9c179e"
            ],
            [
             0.4444444444444444,
             "#bd3786"
            ],
            [
             0.5555555555555556,
             "#d8576b"
            ],
            [
             0.6666666666666666,
             "#ed7953"
            ],
            [
             0.7777777777777778,
             "#fb9f3a"
            ],
            [
             0.8888888888888888,
             "#fdca26"
            ],
            [
             1.0,
             "#f0f921"
            ]
           ],
           "sequentialminus": [
            [
             0.0,
             "#0d0887"
            ],
            [
             0.1111111111111111,
             "#46039f"
            ],
            [
             0.2222222222222222,
             "#7201a8"
            ],
            [
             0.3333333333333333,
             "#9c179e"
            ],
            [
             0.4444444444444444,
             "#bd3786"
            ],
            [
             0.5555555555555556,
             "#d8576b"
            ],
            [
             0.6666666666666666,
             "#ed7953"
            ],
            [
             0.7777777777777778,
             "#fb9f3a"
            ],
            [
             0.8888888888888888,
             "#fdca26"
            ],
            [
             1.0,
             "#f0f921"
            ]
           ]
          },
          "colorway": [
           "#636efa",
           "#EF553B",
           "#00cc96",
           "#ab63fa",
           "#FFA15A",
           "#19d3f3",
           "#FF6692",
           "#B6E880",
           "#FF97FF",
           "#FECB52"
          ],
          "font": {
           "color": "#2a3f5f"
          },
          "geo": {
           "bgcolor": "white",
           "lakecolor": "white",
           "landcolor": "#E5ECF6",
           "showlakes": true,
           "showland": true,
           "subunitcolor": "white"
          },
          "hoverlabel": {
           "align": "left"
          },
          "hovermode": "closest",
          "mapbox": {
           "style": "light"
          },
          "paper_bgcolor": "white",
          "plot_bgcolor": "#E5ECF6",
          "polar": {
           "angularaxis": {
            "gridcolor": "white",
            "linecolor": "white",
            "ticks": ""
           },
           "bgcolor": "#E5ECF6",
           "radialaxis": {
            "gridcolor": "white",
            "linecolor": "white",
            "ticks": ""
           }
          },
          "scene": {
           "xaxis": {
            "backgroundcolor": "#E5ECF6",
            "gridcolor": "white",
            "gridwidth": 2,
            "linecolor": "white",
            "showbackground": true,
            "ticks": "",
            "zerolinecolor": "white"
           },
           "yaxis": {
            "backgroundcolor": "#E5ECF6",
            "gridcolor": "white",
            "gridwidth": 2,
            "linecolor": "white",
            "showbackground": true,
            "ticks": "",
            "zerolinecolor": "white"
           },
           "zaxis": {
            "backgroundcolor": "#E5ECF6",
            "gridcolor": "white",
            "gridwidth": 2,
            "linecolor": "white",
            "showbackground": true,
            "ticks": "",
            "zerolinecolor": "white"
           }
          },
          "shapedefaults": {
           "line": {
            "color": "#2a3f5f"
           }
          },
          "ternary": {
           "aaxis": {
            "gridcolor": "white",
            "linecolor": "white",
            "ticks": ""
           },
           "baxis": {
            "gridcolor": "white",
            "linecolor": "white",
            "ticks": ""
           },
           "bgcolor": "#E5ECF6",
           "caxis": {
            "gridcolor": "white",
            "linecolor": "white",
            "ticks": ""
           }
          },
          "title": {
           "x": 0.05
          },
          "xaxis": {
           "automargin": true,
           "gridcolor": "white",
           "linecolor": "white",
           "ticks": "",
           "title": {
            "standoff": 15
           },
           "zerolinecolor": "white",
           "zerolinewidth": 2
          },
          "yaxis": {
           "automargin": true,
           "gridcolor": "white",
           "linecolor": "white",
           "ticks": "",
           "title": {
            "standoff": 15
           },
           "zerolinecolor": "white",
           "zerolinewidth": 2
          }
         }
        },
        "xaxis": {
         "anchor": "y",
         "domain": [
          0.0,
          1.0
         ],
         "title": {
          "text": "Rok"
         }
        },
        "yaxis": {
         "anchor": "x",
         "domain": [
          0.0,
          1.0
         ],
         "title": {
          "text": "Wartosc"
         }
        },
        "legend": {
         "title": {
          "text": "Nazwa"
         },
         "tracegroupgap": 0
        },
        "margin": {
         "t": 60
        }
       },
       "config": {
        "plotlyServerURL": "https://plot.ly"
       }
      },
      "text/html": "<div>                            <div id=\"d9250f39-dcd2-4f9c-8bdc-429f53d94bfc\" class=\"plotly-graph-div\" style=\"height:525px; width:100%;\"></div>            <script type=\"text/javascript\">                require([\"plotly\"], function(Plotly) {                    window.PLOTLYENV=window.PLOTLYENV || {};                                    if (document.getElementById(\"d9250f39-dcd2-4f9c-8bdc-429f53d94bfc\")) {                    Plotly.newPlot(                        \"d9250f39-dcd2-4f9c-8bdc-429f53d94bfc\",                        [{\"hovertemplate\":\"<b>%{hovertext}</b><br><br>Nazwa=DOLNO\\u015aL\\u0104SKIE<br>Rok=%{x}<br>Wartosc=%{y}<extra></extra>\",\"hovertext\":[\"DOLNO\\u015aL\\u0104SKIE\",\"DOLNO\\u015aL\\u0104SKIE\",\"DOLNO\\u015aL\\u0104SKIE\",\"DOLNO\\u015aL\\u0104SKIE\",\"DOLNO\\u015aL\\u0104SKIE\",\"DOLNO\\u015aL\\u0104SKIE\",\"DOLNO\\u015aL\\u0104SKIE\",\"DOLNO\\u015aL\\u0104SKIE\",\"DOLNO\\u015aL\\u0104SKIE\",\"DOLNO\\u015aL\\u0104SKIE\",\"DOLNO\\u015aL\\u0104SKIE\",\"DOLNO\\u015aL\\u0104SKIE\",\"DOLNO\\u015aL\\u0104SKIE\",\"DOLNO\\u015aL\\u0104SKIE\",\"DOLNO\\u015aL\\u0104SKIE\",\"DOLNO\\u015aL\\u0104SKIE\",\"DOLNO\\u015aL\\u0104SKIE\",\"DOLNO\\u015aL\\u0104SKIE\",\"DOLNO\\u015aL\\u0104SKIE\",\"DOLNO\\u015aL\\u0104SKIE\",\"DOLNO\\u015aL\\u0104SKIE\",\"DOLNO\\u015aL\\u0104SKIE\"],\"legendgroup\":\"DOLNO\\u015aL\\u0104SKIE\",\"line\":{\"color\":\"#636efa\",\"dash\":\"solid\",\"shape\":\"spline\"},\"marker\":{\"symbol\":\"circle\"},\"mode\":\"lines\",\"name\":\"DOLNO\\u015aL\\u0104SKIE\",\"orientation\":\"v\",\"showlegend\":true,\"x\":[1999,2000,2001,2002,2003,2004,2005,2006,2007,2008,2009,2010,2011,2012,2013,2014,2015,2016,2017,2018,2019,2020],\"xaxis\":\"x\",\"y\":[58091.0,60526.0,65181.0,69084.0,72746.0,74886.0,77794.0,85298.0,95096.0,111857.0,117426.0,123917.0,128293.0,136700.0,134479.0,136633.0,147184.0,158603.0,162618.0,175550.0,195520.0,203124.0],\"yaxis\":\"y\",\"type\":\"scatter\"},{\"hovertemplate\":\"<b>%{hovertext}</b><br><br>Nazwa=KUJAWSKO-POMORSKIE<br>Rok=%{x}<br>Wartosc=%{y}<extra></extra>\",\"hovertext\":[\"KUJAWSKO-POMORSKIE\",\"KUJAWSKO-POMORSKIE\",\"KUJAWSKO-POMORSKIE\",\"KUJAWSKO-POMORSKIE\",\"KUJAWSKO-POMORSKIE\",\"KUJAWSKO-POMORSKIE\",\"KUJAWSKO-POMORSKIE\",\"KUJAWSKO-POMORSKIE\",\"KUJAWSKO-POMORSKIE\",\"KUJAWSKO-POMORSKIE\",\"KUJAWSKO-POMORSKIE\",\"KUJAWSKO-POMORSKIE\",\"KUJAWSKO-POMORSKIE\",\"KUJAWSKO-POMORSKIE\",\"KUJAWSKO-POMORSKIE\",\"KUJAWSKO-POMORSKIE\",\"KUJAWSKO-POMORSKIE\",\"KUJAWSKO-POMORSKIE\",\"KUJAWSKO-POMORSKIE\",\"KUJAWSKO-POMORSKIE\",\"KUJAWSKO-POMORSKIE\",\"KUJAWSKO-POMORSKIE\"],\"legendgroup\":\"KUJAWSKO-POMORSKIE\",\"line\":{\"color\":\"#EF553B\",\"dash\":\"solid\",\"shape\":\"spline\"},\"marker\":{\"symbol\":\"circle\"},\"mode\":\"lines\",\"name\":\"KUJAWSKO-POMORSKIE\",\"orientation\":\"v\",\"showlegend\":true,\"x\":[1999,2000,2001,2002,2003,2004,2005,2006,2007,2008,2009,2010,2011,2012,2013,2014,2015,2016,2017,2018,2019,2020],\"xaxis\":\"x\",\"y\":[51288.0,57255.0,60850.0,65324.0,64086.0,65284.0,66402.0,77108.0,89788.0,94994.0,101499.0,115849.0,110894.0,113397.0,116940.0,120154.0,124569.0,130863.0,145655.0,161133.0,177082.0,184534.0],\"yaxis\":\"y\",\"type\":\"scatter\"},{\"hovertemplate\":\"<b>%{hovertext}</b><br><br>Nazwa=LUBELSKIE<br>Rok=%{x}<br>Wartosc=%{y}<extra></extra>\",\"hovertext\":[\"LUBELSKIE\",\"LUBELSKIE\",\"LUBELSKIE\",\"LUBELSKIE\",\"LUBELSKIE\",\"LUBELSKIE\",\"LUBELSKIE\",\"LUBELSKIE\",\"LUBELSKIE\",\"LUBELSKIE\",\"LUBELSKIE\",\"LUBELSKIE\",\"LUBELSKIE\",\"LUBELSKIE\",\"LUBELSKIE\",\"LUBELSKIE\",\"LUBELSKIE\",\"LUBELSKIE\",\"LUBELSKIE\",\"LUBELSKIE\",\"LUBELSKIE\",\"LUBELSKIE\"],\"legendgroup\":\"LUBELSKIE\",\"line\":{\"color\":\"#00cc96\",\"dash\":\"solid\",\"shape\":\"spline\"},\"marker\":{\"symbol\":\"circle\"},\"mode\":\"lines\",\"name\":\"LUBELSKIE\",\"orientation\":\"v\",\"showlegend\":true,\"x\":[1999,2000,2001,2002,2003,2004,2005,2006,2007,2008,2009,2010,2011,2012,2013,2014,2015,2016,2017,2018,2019,2020],\"xaxis\":\"x\",\"y\":[49104.0,50173.0,55303.0,58122.0,64802.0,67670.0,67237.0,72510.0,79161.0,88062.0,90899.0,97849.0,102580.0,105645.0,110558.0,120835.0,122674.0,129914.0,143658.0,152769.0,155676.0,167902.0],\"yaxis\":\"y\",\"type\":\"scatter\"},{\"hovertemplate\":\"<b>%{hovertext}</b><br><br>Nazwa=LUBUSKIE<br>Rok=%{x}<br>Wartosc=%{y}<extra></extra>\",\"hovertext\":[\"LUBUSKIE\",\"LUBUSKIE\",\"LUBUSKIE\",\"LUBUSKIE\",\"LUBUSKIE\",\"LUBUSKIE\",\"LUBUSKIE\",\"LUBUSKIE\",\"LUBUSKIE\",\"LUBUSKIE\",\"LUBUSKIE\",\"LUBUSKIE\",\"LUBUSKIE\",\"LUBUSKIE\",\"LUBUSKIE\",\"LUBUSKIE\",\"LUBUSKIE\",\"LUBUSKIE\",\"LUBUSKIE\",\"LUBUSKIE\",\"LUBUSKIE\",\"LUBUSKIE\"],\"legendgroup\":\"LUBUSKIE\",\"line\":{\"color\":\"#ab63fa\",\"dash\":\"solid\",\"shape\":\"spline\"},\"marker\":{\"symbol\":\"circle\"},\"mode\":\"lines\",\"name\":\"LUBUSKIE\",\"orientation\":\"v\",\"showlegend\":true,\"x\":[1999,2000,2001,2002,2003,2004,2005,2006,2007,2008,2009,2010,2011,2012,2013,2014,2015,2016,2017,2018,2019,2020],\"xaxis\":\"x\",\"y\":[54926.0,60966.0,63466.0,64926.0,67875.0,65437.0,69125.0,84229.0,91430.0,105886.0,110332.0,115306.0,118989.0,123116.0,123806.0,128537.0,141958.0,149852.0,159121.0,166489.0,179412.0,197147.0],\"yaxis\":\"y\",\"type\":\"scatter\"},{\"hovertemplate\":\"<b>%{hovertext}</b><br><br>Nazwa=MAZOWIECKIE<br>Rok=%{x}<br>Wartosc=%{y}<extra></extra>\",\"hovertext\":[\"MAZOWIECKIE\",\"MAZOWIECKIE\",\"MAZOWIECKIE\",\"MAZOWIECKIE\",\"MAZOWIECKIE\",\"MAZOWIECKIE\",\"MAZOWIECKIE\",\"MAZOWIECKIE\",\"MAZOWIECKIE\",\"MAZOWIECKIE\",\"MAZOWIECKIE\",\"MAZOWIECKIE\",\"MAZOWIECKIE\",\"MAZOWIECKIE\",\"MAZOWIECKIE\",\"MAZOWIECKIE\",\"MAZOWIECKIE\",\"MAZOWIECKIE\",\"MAZOWIECKIE\",\"MAZOWIECKIE\",\"MAZOWIECKIE\",\"MAZOWIECKIE\"],\"legendgroup\":\"MAZOWIECKIE\",\"line\":{\"color\":\"#FFA15A\",\"dash\":\"solid\",\"shape\":\"spline\"},\"marker\":{\"symbol\":\"circle\"},\"mode\":\"lines\",\"name\":\"MAZOWIECKIE\",\"orientation\":\"v\",\"showlegend\":true,\"x\":[1999,2000,2001,2002,2003,2004,2005,2006,2007,2008,2009,2010,2011,2012,2013,2014,2015,2016,2017,2018,2019,2020],\"xaxis\":\"x\",\"y\":[68005.0,75026.0,77144.0,79548.0,89878.0,94018.0,93797.0,104880.0,120715.0,133646.0,143873.0,160197.0,162296.0,171001.0,169042.0,170362.0,175615.0,178088.0,191209.0,203159.0,210801.0,224052.0],\"yaxis\":\"y\",\"type\":\"scatter\"},{\"hovertemplate\":\"<b>%{hovertext}</b><br><br>Nazwa=MA\\u0141OPOLSKIE<br>Rok=%{x}<br>Wartosc=%{y}<extra></extra>\",\"hovertext\":[\"MA\\u0141OPOLSKIE\",\"MA\\u0141OPOLSKIE\",\"MA\\u0141OPOLSKIE\",\"MA\\u0141OPOLSKIE\",\"MA\\u0141OPOLSKIE\",\"MA\\u0141OPOLSKIE\",\"MA\\u0141OPOLSKIE\",\"MA\\u0141OPOLSKIE\",\"MA\\u0141OPOLSKIE\",\"MA\\u0141OPOLSKIE\",\"MA\\u0141OPOLSKIE\",\"MA\\u0141OPOLSKIE\",\"MA\\u0141OPOLSKIE\",\"MA\\u0141OPOLSKIE\",\"MA\\u0141OPOLSKIE\",\"MA\\u0141OPOLSKIE\",\"MA\\u0141OPOLSKIE\",\"MA\\u0141OPOLSKIE\",\"MA\\u0141OPOLSKIE\",\"MA\\u0141OPOLSKIE\",\"MA\\u0141OPOLSKIE\",\"MA\\u0141OPOLSKIE\"],\"legendgroup\":\"MA\\u0141OPOLSKIE\",\"line\":{\"color\":\"#19d3f3\",\"dash\":\"solid\",\"shape\":\"spline\"},\"marker\":{\"symbol\":\"circle\"},\"mode\":\"lines\",\"name\":\"MA\\u0141OPOLSKIE\",\"orientation\":\"v\",\"showlegend\":true,\"x\":[1999,2000,2001,2002,2003,2004,2005,2006,2007,2008,2009,2010,2011,2012,2013,2014,2015,2016,2017,2018,2019,2020],\"xaxis\":\"x\",\"y\":[55965.0,58360.0,63048.0,63165.0,67184.0,71761.0,73227.0,76510.0,86437.0,100074.0,104173.0,110754.0,115679.0,118984.0,122780.0,126058.0,130545.0,142346.0,149191.0,162785.0,177308.0,191474.0],\"yaxis\":\"y\",\"type\":\"scatter\"},{\"hovertemplate\":\"<b>%{hovertext}</b><br><br>Nazwa=OPOLSKIE<br>Rok=%{x}<br>Wartosc=%{y}<extra></extra>\",\"hovertext\":[\"OPOLSKIE\",\"OPOLSKIE\",\"OPOLSKIE\",\"OPOLSKIE\",\"OPOLSKIE\",\"OPOLSKIE\",\"OPOLSKIE\",\"OPOLSKIE\",\"OPOLSKIE\",\"OPOLSKIE\",\"OPOLSKIE\",\"OPOLSKIE\",\"OPOLSKIE\",\"OPOLSKIE\",\"OPOLSKIE\",\"OPOLSKIE\",\"OPOLSKIE\",\"OPOLSKIE\",\"OPOLSKIE\",\"OPOLSKIE\",\"OPOLSKIE\",\"OPOLSKIE\"],\"legendgroup\":\"OPOLSKIE\",\"line\":{\"color\":\"#FF6692\",\"dash\":\"solid\",\"shape\":\"spline\"},\"marker\":{\"symbol\":\"circle\"},\"mode\":\"lines\",\"name\":\"OPOLSKIE\",\"orientation\":\"v\",\"showlegend\":true,\"x\":[1999,2000,2001,2002,2003,2004,2005,2006,2007,2008,2009,2010,2011,2012,2013,2014,2015,2016,2017,2018,2019,2020],\"xaxis\":\"x\",\"y\":[50719.0,61368.0,63018.0,64219.0,69223.0,74464.0,79630.0,79490.0,91570.0,108008.0,108227.0,111573.0,118190.0,129426.0,119879.0,124469.0,128874.0,138992.0,151073.0,158930.0,168729.0,171134.0],\"yaxis\":\"y\",\"type\":\"scatter\"},{\"hovertemplate\":\"<b>%{hovertext}</b><br><br>Nazwa=PODKARPACKIE<br>Rok=%{x}<br>Wartosc=%{y}<extra></extra>\",\"hovertext\":[\"PODKARPACKIE\",\"PODKARPACKIE\",\"PODKARPACKIE\",\"PODKARPACKIE\",\"PODKARPACKIE\",\"PODKARPACKIE\",\"PODKARPACKIE\",\"PODKARPACKIE\",\"PODKARPACKIE\",\"PODKARPACKIE\",\"PODKARPACKIE\",\"PODKARPACKIE\",\"PODKARPACKIE\",\"PODKARPACKIE\",\"PODKARPACKIE\",\"PODKARPACKIE\",\"PODKARPACKIE\",\"PODKARPACKIE\",\"PODKARPACKIE\",\"PODKARPACKIE\",\"PODKARPACKIE\",\"PODKARPACKIE\"],\"legendgroup\":\"PODKARPACKIE\",\"line\":{\"color\":\"#B6E880\",\"dash\":\"solid\",\"shape\":\"spline\"},\"marker\":{\"symbol\":\"circle\"},\"mode\":\"lines\",\"name\":\"PODKARPACKIE\",\"orientation\":\"v\",\"showlegend\":true,\"x\":[1999,2000,2001,2002,2003,2004,2005,2006,2007,2008,2009,2010,2011,2012,2013,2014,2015,2016,2017,2018,2019,2020],\"xaxis\":\"x\",\"y\":[47684.0,49722.0,52749.0,53846.0,58212.0,58543.0,61902.0,64676.0,70067.0,79127.0,83459.0,90728.0,93785.0,95912.0,99769.0,105302.0,108164.0,113410.0,125430.0,134726.0,147149.0,158857.0],\"yaxis\":\"y\",\"type\":\"scatter\"},{\"hovertemplate\":\"<b>%{hovertext}</b><br><br>Nazwa=PODLASKIE<br>Rok=%{x}<br>Wartosc=%{y}<extra></extra>\",\"hovertext\":[\"PODLASKIE\",\"PODLASKIE\",\"PODLASKIE\",\"PODLASKIE\",\"PODLASKIE\",\"PODLASKIE\",\"PODLASKIE\",\"PODLASKIE\",\"PODLASKIE\",\"PODLASKIE\",\"PODLASKIE\",\"PODLASKIE\",\"PODLASKIE\",\"PODLASKIE\",\"PODLASKIE\",\"PODLASKIE\",\"PODLASKIE\",\"PODLASKIE\",\"PODLASKIE\",\"PODLASKIE\",\"PODLASKIE\",\"PODLASKIE\"],\"legendgroup\":\"PODLASKIE\",\"line\":{\"color\":\"#FF97FF\",\"dash\":\"solid\",\"shape\":\"spline\"},\"marker\":{\"symbol\":\"circle\"},\"mode\":\"lines\",\"name\":\"PODLASKIE\",\"orientation\":\"v\",\"showlegend\":true,\"x\":[1999,2000,2001,2002,2003,2004,2005,2006,2007,2008,2009,2010,2011,2012,2013,2014,2015,2016,2017,2018,2019,2020],\"xaxis\":\"x\",\"y\":[47916.0,52493.0,58269.0,62220.0,60796.0,64488.0,72468.0,81610.0,88399.0,93548.0,101877.0,110320.0,122492.0,124239.0,125818.0,125862.0,125793.0,141983.0,158557.0,159676.0,174170.0,194831.0],\"yaxis\":\"y\",\"type\":\"scatter\"},{\"hovertemplate\":\"<b>%{hovertext}</b><br><br>Nazwa=POLSKA<br>Rok=%{x}<br>Wartosc=%{y}<extra></extra>\",\"hovertext\":[\"POLSKA\",\"POLSKA\",\"POLSKA\",\"POLSKA\",\"POLSKA\",\"POLSKA\",\"POLSKA\",\"POLSKA\",\"POLSKA\",\"POLSKA\",\"POLSKA\",\"POLSKA\",\"POLSKA\",\"POLSKA\",\"POLSKA\",\"POLSKA\",\"POLSKA\",\"POLSKA\",\"POLSKA\",\"POLSKA\",\"POLSKA\",\"POLSKA\"],\"legendgroup\":\"POLSKA\",\"line\":{\"color\":\"#FECB52\",\"dash\":\"solid\",\"shape\":\"spline\"},\"marker\":{\"symbol\":\"circle\"},\"mode\":\"lines\",\"name\":\"POLSKA\",\"orientation\":\"v\",\"showlegend\":true,\"x\":[1999,2000,2001,2002,2003,2004,2005,2006,2007,2008,2009,2010,2011,2012,2013,2014,2015,2016,2017,2018,2019,2020],\"xaxis\":\"x\",\"y\":[56043.0,61051.0,64448.0,66421.0,71196.0,73540.0,76146.0,83468.0,92887.0,104552.0,111449.0,119282.0,122695.0,127843.0,129907.0,134044.0,138616.0,147456.0,159813.0,169346.0,181914.0,191921.0],\"yaxis\":\"y\",\"type\":\"scatter\"},{\"hovertemplate\":\"<b>%{hovertext}</b><br><br>Nazwa=POMORSKIE<br>Rok=%{x}<br>Wartosc=%{y}<extra></extra>\",\"hovertext\":[\"POMORSKIE\",\"POMORSKIE\",\"POMORSKIE\",\"POMORSKIE\",\"POMORSKIE\",\"POMORSKIE\",\"POMORSKIE\",\"POMORSKIE\",\"POMORSKIE\",\"POMORSKIE\",\"POMORSKIE\",\"POMORSKIE\",\"POMORSKIE\",\"POMORSKIE\",\"POMORSKIE\",\"POMORSKIE\",\"POMORSKIE\",\"POMORSKIE\",\"POMORSKIE\",\"POMORSKIE\",\"POMORSKIE\",\"POMORSKIE\"],\"legendgroup\":\"POMORSKIE\",\"line\":{\"color\":\"#636efa\",\"dash\":\"solid\",\"shape\":\"spline\"},\"marker\":{\"symbol\":\"circle\"},\"mode\":\"lines\",\"name\":\"POMORSKIE\",\"orientation\":\"v\",\"showlegend\":true,\"x\":[1999,2000,2001,2002,2003,2004,2005,2006,2007,2008,2009,2010,2011,2012,2013,2014,2015,2016,2017,2018,2019,2020],\"xaxis\":\"x\",\"y\":[56753.0,63149.0,68307.0,74344.0,76952.0,75332.0,80108.0,91051.0,103016.0,110219.0,116450.0,124312.0,128694.0,135056.0,143364.0,137634.0,138092.0,156035.0,164904.0,173754.0,185998.0,179912.0],\"yaxis\":\"y\",\"type\":\"scatter\"},{\"hovertemplate\":\"<b>%{hovertext}</b><br><br>Nazwa=WARMI\\u0143SKO-MAZURSKIE<br>Rok=%{x}<br>Wartosc=%{y}<extra></extra>\",\"hovertext\":[\"WARMI\\u0143SKO-MAZURSKIE\",\"WARMI\\u0143SKO-MAZURSKIE\",\"WARMI\\u0143SKO-MAZURSKIE\",\"WARMI\\u0143SKO-MAZURSKIE\",\"WARMI\\u0143SKO-MAZURSKIE\",\"WARMI\\u0143SKO-MAZURSKIE\",\"WARMI\\u0143SKO-MAZURSKIE\",\"WARMI\\u0143SKO-MAZURSKIE\",\"WARMI\\u0143SKO-MAZURSKIE\",\"WARMI\\u0143SKO-MAZURSKIE\",\"WARMI\\u0143SKO-MAZURSKIE\",\"WARMI\\u0143SKO-MAZURSKIE\",\"WARMI\\u0143SKO-MAZURSKIE\",\"WARMI\\u0143SKO-MAZURSKIE\",\"WARMI\\u0143SKO-MAZURSKIE\",\"WARMI\\u0143SKO-MAZURSKIE\",\"WARMI\\u0143SKO-MAZURSKIE\",\"WARMI\\u0143SKO-MAZURSKIE\",\"WARMI\\u0143SKO-MAZURSKIE\",\"WARMI\\u0143SKO-MAZURSKIE\",\"WARMI\\u0143SKO-MAZURSKIE\",\"WARMI\\u0143SKO-MAZURSKIE\"],\"legendgroup\":\"WARMI\\u0143SKO-MAZURSKIE\",\"line\":{\"color\":\"#EF553B\",\"dash\":\"solid\",\"shape\":\"spline\"},\"marker\":{\"symbol\":\"circle\"},\"mode\":\"lines\",\"name\":\"WARMI\\u0143SKO-MAZURSKIE\",\"orientation\":\"v\",\"showlegend\":true,\"x\":[1999,2000,2001,2002,2003,2004,2005,2006,2007,2008,2009,2010,2011,2012,2013,2014,2015,2016,2017,2018,2019,2020],\"xaxis\":\"x\",\"y\":[46593.0,54649.0,57941.0,59192.0,64014.0,65768.0,70126.0,74649.0,83535.0,97906.0,108428.0,110339.0,109687.0,110995.0,110897.0,122974.0,128051.0,137179.0,149615.0,155481.0,159718.0,188405.0],\"yaxis\":\"y\",\"type\":\"scatter\"},{\"hovertemplate\":\"<b>%{hovertext}</b><br><br>Nazwa=WIELKOPOLSKIE<br>Rok=%{x}<br>Wartosc=%{y}<extra></extra>\",\"hovertext\":[\"WIELKOPOLSKIE\",\"WIELKOPOLSKIE\",\"WIELKOPOLSKIE\",\"WIELKOPOLSKIE\",\"WIELKOPOLSKIE\",\"WIELKOPOLSKIE\",\"WIELKOPOLSKIE\",\"WIELKOPOLSKIE\",\"WIELKOPOLSKIE\",\"WIELKOPOLSKIE\",\"WIELKOPOLSKIE\",\"WIELKOPOLSKIE\",\"WIELKOPOLSKIE\",\"WIELKOPOLSKIE\",\"WIELKOPOLSKIE\",\"WIELKOPOLSKIE\",\"WIELKOPOLSKIE\",\"WIELKOPOLSKIE\",\"WIELKOPOLSKIE\",\"WIELKOPOLSKIE\",\"WIELKOPOLSKIE\",\"WIELKOPOLSKIE\"],\"legendgroup\":\"WIELKOPOLSKIE\",\"line\":{\"color\":\"#00cc96\",\"dash\":\"solid\",\"shape\":\"spline\"},\"marker\":{\"symbol\":\"circle\"},\"mode\":\"lines\",\"name\":\"WIELKOPOLSKIE\",\"orientation\":\"v\",\"showlegend\":true,\"x\":[1999,2000,2001,2002,2003,2004,2005,2006,2007,2008,2009,2010,2011,2012,2013,2014,2015,2016,2017,2018,2019,2020],\"xaxis\":\"x\",\"y\":[55923.0,60491.0,63724.0,63916.0,69053.0,70085.0,73861.0,81416.0,88952.0,101851.0,109733.0,112574.0,113502.0,115343.0,120672.0,126878.0,128779.0,139999.0,160664.0,162998.0,180698.0,178913.0],\"yaxis\":\"y\",\"type\":\"scatter\"},{\"hovertemplate\":\"<b>%{hovertext}</b><br><br>Nazwa=ZACHODNIOPOMORSKIE<br>Rok=%{x}<br>Wartosc=%{y}<extra></extra>\",\"hovertext\":[\"ZACHODNIOPOMORSKIE\",\"ZACHODNIOPOMORSKIE\",\"ZACHODNIOPOMORSKIE\",\"ZACHODNIOPOMORSKIE\",\"ZACHODNIOPOMORSKIE\",\"ZACHODNIOPOMORSKIE\",\"ZACHODNIOPOMORSKIE\",\"ZACHODNIOPOMORSKIE\",\"ZACHODNIOPOMORSKIE\",\"ZACHODNIOPOMORSKIE\",\"ZACHODNIOPOMORSKIE\",\"ZACHODNIOPOMORSKIE\",\"ZACHODNIOPOMORSKIE\",\"ZACHODNIOPOMORSKIE\",\"ZACHODNIOPOMORSKIE\",\"ZACHODNIOPOMORSKIE\",\"ZACHODNIOPOMORSKIE\",\"ZACHODNIOPOMORSKIE\",\"ZACHODNIOPOMORSKIE\",\"ZACHODNIOPOMORSKIE\",\"ZACHODNIOPOMORSKIE\",\"ZACHODNIOPOMORSKIE\"],\"legendgroup\":\"ZACHODNIOPOMORSKIE\",\"line\":{\"color\":\"#ab63fa\",\"dash\":\"solid\",\"shape\":\"spline\"},\"marker\":{\"symbol\":\"circle\"},\"mode\":\"lines\",\"name\":\"ZACHODNIOPOMORSKIE\",\"orientation\":\"v\",\"showlegend\":true,\"x\":[1999,2000,2001,2002,2003,2004,2005,2006,2007,2008,2009,2010,2011,2012,2013,2014,2015,2016,2017,2018,2019,2020],\"xaxis\":\"x\",\"y\":[59118.0,60337.0,64334.0,65519.0,70515.0,76204.0,76254.0,83475.0,90357.0,104891.0,113967.0,118691.0,123110.0,126356.0,125590.0,136540.0,142685.0,148290.0,165260.0,172223.0,180111.0,186209.0],\"yaxis\":\"y\",\"type\":\"scatter\"},{\"hovertemplate\":\"<b>%{hovertext}</b><br><br>Nazwa=\\u0141\\u00d3DZKIE<br>Rok=%{x}<br>Wartosc=%{y}<extra></extra>\",\"hovertext\":[\"\\u0141\\u00d3DZKIE\",\"\\u0141\\u00d3DZKIE\",\"\\u0141\\u00d3DZKIE\",\"\\u0141\\u00d3DZKIE\",\"\\u0141\\u00d3DZKIE\",\"\\u0141\\u00d3DZKIE\",\"\\u0141\\u00d3DZKIE\",\"\\u0141\\u00d3DZKIE\",\"\\u0141\\u00d3DZKIE\",\"\\u0141\\u00d3DZKIE\",\"\\u0141\\u00d3DZKIE\",\"\\u0141\\u00d3DZKIE\",\"\\u0141\\u00d3DZKIE\",\"\\u0141\\u00d3DZKIE\",\"\\u0141\\u00d3DZKIE\",\"\\u0141\\u00d3DZKIE\",\"\\u0141\\u00d3DZKIE\",\"\\u0141\\u00d3DZKIE\",\"\\u0141\\u00d3DZKIE\",\"\\u0141\\u00d3DZKIE\",\"\\u0141\\u00d3DZKIE\",\"\\u0141\\u00d3DZKIE\"],\"legendgroup\":\"\\u0141\\u00d3DZKIE\",\"line\":{\"color\":\"#FFA15A\",\"dash\":\"solid\",\"shape\":\"spline\"},\"marker\":{\"symbol\":\"circle\"},\"mode\":\"lines\",\"name\":\"\\u0141\\u00d3DZKIE\",\"orientation\":\"v\",\"showlegend\":true,\"x\":[1999,2000,2001,2002,2003,2004,2005,2006,2007,2008,2009,2010,2011,2012,2013,2014,2015,2016,2017,2018,2019,2020],\"xaxis\":\"x\",\"y\":[57462.0,63209.0,64507.0,66051.0,71395.0,73053.0,76897.0,83690.0,91099.0,101336.0,111510.0,117873.0,120319.0,126842.0,129647.0,129336.0,136203.0,145823.0,156602.0,162050.0,180965.0,187183.0],\"yaxis\":\"y\",\"type\":\"scatter\"},{\"hovertemplate\":\"<b>%{hovertext}</b><br><br>Nazwa=\\u015aL\\u0104SKIE<br>Rok=%{x}<br>Wartosc=%{y}<extra></extra>\",\"hovertext\":[\"\\u015aL\\u0104SKIE\",\"\\u015aL\\u0104SKIE\",\"\\u015aL\\u0104SKIE\",\"\\u015aL\\u0104SKIE\",\"\\u015aL\\u0104SKIE\",\"\\u015aL\\u0104SKIE\",\"\\u015aL\\u0104SKIE\",\"\\u015aL\\u0104SKIE\",\"\\u015aL\\u0104SKIE\",\"\\u015aL\\u0104SKIE\",\"\\u015aL\\u0104SKIE\",\"\\u015aL\\u0104SKIE\",\"\\u015aL\\u0104SKIE\",\"\\u015aL\\u0104SKIE\",\"\\u015aL\\u0104SKIE\",\"\\u015aL\\u0104SKIE\",\"\\u015aL\\u0104SKIE\",\"\\u015aL\\u0104SKIE\",\"\\u015aL\\u0104SKIE\",\"\\u015aL\\u0104SKIE\",\"\\u015aL\\u0104SKIE\",\"\\u015aL\\u0104SKIE\"],\"legendgroup\":\"\\u015aL\\u0104SKIE\",\"line\":{\"color\":\"#19d3f3\",\"dash\":\"solid\",\"shape\":\"spline\"},\"marker\":{\"symbol\":\"circle\"},\"mode\":\"lines\",\"name\":\"\\u015aL\\u0104SKIE\",\"orientation\":\"v\",\"showlegend\":true,\"x\":[1999,2000,2001,2002,2003,2004,2005,2006,2007,2008,2009,2010,2011,2012,2013,2014,2015,2016,2017,2018,2019,2020],\"xaxis\":\"x\",\"y\":[59722.0,65741.0,68946.0,68923.0,72601.0,74829.0,79282.0,84792.0,91927.0,104108.0,111405.0,116842.0,121544.0,127887.0,131892.0,138168.0,142054.0,151323.0,164575.0,175703.0,189739.0,205036.0],\"yaxis\":\"y\",\"type\":\"scatter\"},{\"hovertemplate\":\"<b>%{hovertext}</b><br><br>Nazwa=\\u015aWI\\u0118TOKRZYSKIE<br>Rok=%{x}<br>Wartosc=%{y}<extra></extra>\",\"hovertext\":[\"\\u015aWI\\u0118TOKRZYSKIE\",\"\\u015aWI\\u0118TOKRZYSKIE\",\"\\u015aWI\\u0118TOKRZYSKIE\",\"\\u015aWI\\u0118TOKRZYSKIE\",\"\\u015aWI\\u0118TOKRZYSKIE\",\"\\u015aWI\\u0118TOKRZYSKIE\",\"\\u015aWI\\u0118TOKRZYSKIE\",\"\\u015aWI\\u0118TOKRZYSKIE\",\"\\u015aWI\\u0118TOKRZYSKIE\",\"\\u015aWI\\u0118TOKRZYSKIE\",\"\\u015aWI\\u0118TOKRZYSKIE\",\"\\u015aWI\\u0118TOKRZYSKIE\",\"\\u015aWI\\u0118TOKRZYSKIE\",\"\\u015aWI\\u0118TOKRZYSKIE\",\"\\u015aWI\\u0118TOKRZYSKIE\",\"\\u015aWI\\u0118TOKRZYSKIE\",\"\\u015aWI\\u0118TOKRZYSKIE\",\"\\u015aWI\\u0118TOKRZYSKIE\",\"\\u015aWI\\u0118TOKRZYSKIE\",\"\\u015aWI\\u0118TOKRZYSKIE\",\"\\u015aWI\\u0118TOKRZYSKIE\",\"\\u015aWI\\u0118TOKRZYSKIE\"],\"legendgroup\":\"\\u015aWI\\u0118TOKRZYSKIE\",\"line\":{\"color\":\"#FF6692\",\"dash\":\"solid\",\"shape\":\"spline\"},\"marker\":{\"symbol\":\"circle\"},\"mode\":\"lines\",\"name\":\"\\u015aWI\\u0118TOKRZYSKIE\",\"orientation\":\"v\",\"showlegend\":true,\"x\":[1999,2000,2001,2002,2003,2004,2005,2006,2007,2008,2009,2010,2011,2012,2013,2014,2015,2016,2017,2018,2019,2020],\"xaxis\":\"x\",\"y\":[46764.0,51889.0,55706.0,57834.0,60424.0,61546.0,62101.0,69844.0,77557.0,87818.0,93789.0,102636.0,106278.0,111976.0,115336.0,119974.0,120280.0,130596.0,143268.0,154982.0,162646.0,172692.0],\"yaxis\":\"y\",\"type\":\"scatter\"}],                        {\"template\":{\"data\":{\"bar\":[{\"error_x\":{\"color\":\"#2a3f5f\"},\"error_y\":{\"color\":\"#2a3f5f\"},\"marker\":{\"line\":{\"color\":\"#E5ECF6\",\"width\":0.5},\"pattern\":{\"fillmode\":\"overlay\",\"size\":10,\"solidity\":0.2}},\"type\":\"bar\"}],\"barpolar\":[{\"marker\":{\"line\":{\"color\":\"#E5ECF6\",\"width\":0.5},\"pattern\":{\"fillmode\":\"overlay\",\"size\":10,\"solidity\":0.2}},\"type\":\"barpolar\"}],\"carpet\":[{\"aaxis\":{\"endlinecolor\":\"#2a3f5f\",\"gridcolor\":\"white\",\"linecolor\":\"white\",\"minorgridcolor\":\"white\",\"startlinecolor\":\"#2a3f5f\"},\"baxis\":{\"endlinecolor\":\"#2a3f5f\",\"gridcolor\":\"white\",\"linecolor\":\"white\",\"minorgridcolor\":\"white\",\"startlinecolor\":\"#2a3f5f\"},\"type\":\"carpet\"}],\"choropleth\":[{\"colorbar\":{\"outlinewidth\":0,\"ticks\":\"\"},\"type\":\"choropleth\"}],\"contour\":[{\"colorbar\":{\"outlinewidth\":0,\"ticks\":\"\"},\"colorscale\":[[0.0,\"#0d0887\"],[0.1111111111111111,\"#46039f\"],[0.2222222222222222,\"#7201a8\"],[0.3333333333333333,\"#9c179e\"],[0.4444444444444444,\"#bd3786\"],[0.5555555555555556,\"#d8576b\"],[0.6666666666666666,\"#ed7953\"],[0.7777777777777778,\"#fb9f3a\"],[0.8888888888888888,\"#fdca26\"],[1.0,\"#f0f921\"]],\"type\":\"contour\"}],\"contourcarpet\":[{\"colorbar\":{\"outlinewidth\":0,\"ticks\":\"\"},\"type\":\"contourcarpet\"}],\"heatmap\":[{\"colorbar\":{\"outlinewidth\":0,\"ticks\":\"\"},\"colorscale\":[[0.0,\"#0d0887\"],[0.1111111111111111,\"#46039f\"],[0.2222222222222222,\"#7201a8\"],[0.3333333333333333,\"#9c179e\"],[0.4444444444444444,\"#bd3786\"],[0.5555555555555556,\"#d8576b\"],[0.6666666666666666,\"#ed7953\"],[0.7777777777777778,\"#fb9f3a\"],[0.8888888888888888,\"#fdca26\"],[1.0,\"#f0f921\"]],\"type\":\"heatmap\"}],\"heatmapgl\":[{\"colorbar\":{\"outlinewidth\":0,\"ticks\":\"\"},\"colorscale\":[[0.0,\"#0d0887\"],[0.1111111111111111,\"#46039f\"],[0.2222222222222222,\"#7201a8\"],[0.3333333333333333,\"#9c179e\"],[0.4444444444444444,\"#bd3786\"],[0.5555555555555556,\"#d8576b\"],[0.6666666666666666,\"#ed7953\"],[0.7777777777777778,\"#fb9f3a\"],[0.8888888888888888,\"#fdca26\"],[1.0,\"#f0f921\"]],\"type\":\"heatmapgl\"}],\"histogram\":[{\"marker\":{\"pattern\":{\"fillmode\":\"overlay\",\"size\":10,\"solidity\":0.2}},\"type\":\"histogram\"}],\"histogram2d\":[{\"colorbar\":{\"outlinewidth\":0,\"ticks\":\"\"},\"colorscale\":[[0.0,\"#0d0887\"],[0.1111111111111111,\"#46039f\"],[0.2222222222222222,\"#7201a8\"],[0.3333333333333333,\"#9c179e\"],[0.4444444444444444,\"#bd3786\"],[0.5555555555555556,\"#d8576b\"],[0.6666666666666666,\"#ed7953\"],[0.7777777777777778,\"#fb9f3a\"],[0.8888888888888888,\"#fdca26\"],[1.0,\"#f0f921\"]],\"type\":\"histogram2d\"}],\"histogram2dcontour\":[{\"colorbar\":{\"outlinewidth\":0,\"ticks\":\"\"},\"colorscale\":[[0.0,\"#0d0887\"],[0.1111111111111111,\"#46039f\"],[0.2222222222222222,\"#7201a8\"],[0.3333333333333333,\"#9c179e\"],[0.4444444444444444,\"#bd3786\"],[0.5555555555555556,\"#d8576b\"],[0.6666666666666666,\"#ed7953\"],[0.7777777777777778,\"#fb9f3a\"],[0.8888888888888888,\"#fdca26\"],[1.0,\"#f0f921\"]],\"type\":\"histogram2dcontour\"}],\"mesh3d\":[{\"colorbar\":{\"outlinewidth\":0,\"ticks\":\"\"},\"type\":\"mesh3d\"}],\"parcoords\":[{\"line\":{\"colorbar\":{\"outlinewidth\":0,\"ticks\":\"\"}},\"type\":\"parcoords\"}],\"pie\":[{\"automargin\":true,\"type\":\"pie\"}],\"scatter\":[{\"marker\":{\"colorbar\":{\"outlinewidth\":0,\"ticks\":\"\"}},\"type\":\"scatter\"}],\"scatter3d\":[{\"line\":{\"colorbar\":{\"outlinewidth\":0,\"ticks\":\"\"}},\"marker\":{\"colorbar\":{\"outlinewidth\":0,\"ticks\":\"\"}},\"type\":\"scatter3d\"}],\"scattercarpet\":[{\"marker\":{\"colorbar\":{\"outlinewidth\":0,\"ticks\":\"\"}},\"type\":\"scattercarpet\"}],\"scattergeo\":[{\"marker\":{\"colorbar\":{\"outlinewidth\":0,\"ticks\":\"\"}},\"type\":\"scattergeo\"}],\"scattergl\":[{\"marker\":{\"colorbar\":{\"outlinewidth\":0,\"ticks\":\"\"}},\"type\":\"scattergl\"}],\"scattermapbox\":[{\"marker\":{\"colorbar\":{\"outlinewidth\":0,\"ticks\":\"\"}},\"type\":\"scattermapbox\"}],\"scatterpolar\":[{\"marker\":{\"colorbar\":{\"outlinewidth\":0,\"ticks\":\"\"}},\"type\":\"scatterpolar\"}],\"scatterpolargl\":[{\"marker\":{\"colorbar\":{\"outlinewidth\":0,\"ticks\":\"\"}},\"type\":\"scatterpolargl\"}],\"scatterternary\":[{\"marker\":{\"colorbar\":{\"outlinewidth\":0,\"ticks\":\"\"}},\"type\":\"scatterternary\"}],\"surface\":[{\"colorbar\":{\"outlinewidth\":0,\"ticks\":\"\"},\"colorscale\":[[0.0,\"#0d0887\"],[0.1111111111111111,\"#46039f\"],[0.2222222222222222,\"#7201a8\"],[0.3333333333333333,\"#9c179e\"],[0.4444444444444444,\"#bd3786\"],[0.5555555555555556,\"#d8576b\"],[0.6666666666666666,\"#ed7953\"],[0.7777777777777778,\"#fb9f3a\"],[0.8888888888888888,\"#fdca26\"],[1.0,\"#f0f921\"]],\"type\":\"surface\"}],\"table\":[{\"cells\":{\"fill\":{\"color\":\"#EBF0F8\"},\"line\":{\"color\":\"white\"}},\"header\":{\"fill\":{\"color\":\"#C8D4E3\"},\"line\":{\"color\":\"white\"}},\"type\":\"table\"}]},\"layout\":{\"annotationdefaults\":{\"arrowcolor\":\"#2a3f5f\",\"arrowhead\":0,\"arrowwidth\":1},\"autotypenumbers\":\"strict\",\"coloraxis\":{\"colorbar\":{\"outlinewidth\":0,\"ticks\":\"\"}},\"colorscale\":{\"diverging\":[[0,\"#8e0152\"],[0.1,\"#c51b7d\"],[0.2,\"#de77ae\"],[0.3,\"#f1b6da\"],[0.4,\"#fde0ef\"],[0.5,\"#f7f7f7\"],[0.6,\"#e6f5d0\"],[0.7,\"#b8e186\"],[0.8,\"#7fbc41\"],[0.9,\"#4d9221\"],[1,\"#276419\"]],\"sequential\":[[0.0,\"#0d0887\"],[0.1111111111111111,\"#46039f\"],[0.2222222222222222,\"#7201a8\"],[0.3333333333333333,\"#9c179e\"],[0.4444444444444444,\"#bd3786\"],[0.5555555555555556,\"#d8576b\"],[0.6666666666666666,\"#ed7953\"],[0.7777777777777778,\"#fb9f3a\"],[0.8888888888888888,\"#fdca26\"],[1.0,\"#f0f921\"]],\"sequentialminus\":[[0.0,\"#0d0887\"],[0.1111111111111111,\"#46039f\"],[0.2222222222222222,\"#7201a8\"],[0.3333333333333333,\"#9c179e\"],[0.4444444444444444,\"#bd3786\"],[0.5555555555555556,\"#d8576b\"],[0.6666666666666666,\"#ed7953\"],[0.7777777777777778,\"#fb9f3a\"],[0.8888888888888888,\"#fdca26\"],[1.0,\"#f0f921\"]]},\"colorway\":[\"#636efa\",\"#EF553B\",\"#00cc96\",\"#ab63fa\",\"#FFA15A\",\"#19d3f3\",\"#FF6692\",\"#B6E880\",\"#FF97FF\",\"#FECB52\"],\"font\":{\"color\":\"#2a3f5f\"},\"geo\":{\"bgcolor\":\"white\",\"lakecolor\":\"white\",\"landcolor\":\"#E5ECF6\",\"showlakes\":true,\"showland\":true,\"subunitcolor\":\"white\"},\"hoverlabel\":{\"align\":\"left\"},\"hovermode\":\"closest\",\"mapbox\":{\"style\":\"light\"},\"paper_bgcolor\":\"white\",\"plot_bgcolor\":\"#E5ECF6\",\"polar\":{\"angularaxis\":{\"gridcolor\":\"white\",\"linecolor\":\"white\",\"ticks\":\"\"},\"bgcolor\":\"#E5ECF6\",\"radialaxis\":{\"gridcolor\":\"white\",\"linecolor\":\"white\",\"ticks\":\"\"}},\"scene\":{\"xaxis\":{\"backgroundcolor\":\"#E5ECF6\",\"gridcolor\":\"white\",\"gridwidth\":2,\"linecolor\":\"white\",\"showbackground\":true,\"ticks\":\"\",\"zerolinecolor\":\"white\"},\"yaxis\":{\"backgroundcolor\":\"#E5ECF6\",\"gridcolor\":\"white\",\"gridwidth\":2,\"linecolor\":\"white\",\"showbackground\":true,\"ticks\":\"\",\"zerolinecolor\":\"white\"},\"zaxis\":{\"backgroundcolor\":\"#E5ECF6\",\"gridcolor\":\"white\",\"gridwidth\":2,\"linecolor\":\"white\",\"showbackground\":true,\"ticks\":\"\",\"zerolinecolor\":\"white\"}},\"shapedefaults\":{\"line\":{\"color\":\"#2a3f5f\"}},\"ternary\":{\"aaxis\":{\"gridcolor\":\"white\",\"linecolor\":\"white\",\"ticks\":\"\"},\"baxis\":{\"gridcolor\":\"white\",\"linecolor\":\"white\",\"ticks\":\"\"},\"bgcolor\":\"#E5ECF6\",\"caxis\":{\"gridcolor\":\"white\",\"linecolor\":\"white\",\"ticks\":\"\"}},\"title\":{\"x\":0.05},\"xaxis\":{\"automargin\":true,\"gridcolor\":\"white\",\"linecolor\":\"white\",\"ticks\":\"\",\"title\":{\"standoff\":15},\"zerolinecolor\":\"white\",\"zerolinewidth\":2},\"yaxis\":{\"automargin\":true,\"gridcolor\":\"white\",\"linecolor\":\"white\",\"ticks\":\"\",\"title\":{\"standoff\":15},\"zerolinecolor\":\"white\",\"zerolinewidth\":2}}},\"xaxis\":{\"anchor\":\"y\",\"domain\":[0.0,1.0],\"title\":{\"text\":\"Rok\"}},\"yaxis\":{\"anchor\":\"x\",\"domain\":[0.0,1.0],\"title\":{\"text\":\"Wartosc\"}},\"legend\":{\"title\":{\"text\":\"Nazwa\"},\"tracegroupgap\":0},\"margin\":{\"t\":60}},                        {\"responsive\": true}                    ).then(function(){\n                            \nvar gd = document.getElementById('d9250f39-dcd2-4f9c-8bdc-429f53d94bfc');\nvar x = new MutationObserver(function (mutations, observer) {{\n        var display = window.getComputedStyle(gd).display;\n        if (!display || display === 'none') {{\n            console.log([gd, 'removed!']);\n            Plotly.purge(gd);\n            observer.disconnect();\n        }}\n}});\n\n// Listen for the removal of the full notebook cells\nvar notebookContainer = gd.closest('#notebook-container');\nif (notebookContainer) {{\n    x.observe(notebookContainer, {childList: true});\n}}\n\n// Listen for the clearing of the current output cell\nvar outputEl = gd.closest('.output');\nif (outputEl) {{\n    x.observe(outputEl, {childList: true});\n}}\n\n                        })                };                });            </script>        </div>"
     },
     "metadata": {},
     "output_type": "display_data"
    }
   ],
   "source": [
    "fig = px.line(mean_income_annually,\n",
    "              x=\"Rok\", y=\"Wartosc\", color=\"Nazwa\", hover_name=\"Nazwa\",\n",
    "              line_shape=\"spline\", render_mode=\"svg\")\n",
    "\n",
    "fig.show()"
   ],
   "metadata": {
    "collapsed": false,
    "pycharm": {
     "name": "#%%\n"
    }
   }
  },
  {
   "cell_type": "markdown",
   "metadata": {},
   "source": [
    "### zmienność w dochodach na przestrzeni lat"
   ]
  },
  {
   "cell_type": "code",
   "execution_count": 73,
   "metadata": {},
   "outputs": [
    {
     "data": {
      "text/plain": "                  Nazwa       Wartosc\n0           MAZOWIECKIE  49018.698911\n1          DOLNOŚLĄSKIE  44399.114475\n2               ŚLĄSKIE  43037.734166\n3             PODLASKIE  42351.484345\n4              LUBUSKIE  42263.498303\n5                POLSKA  41261.482296\n6    ZACHODNIOPOMORSKIE  41123.031469\n7             POMORSKIE  40339.341459\n8           MAŁOPOLSKIE  40125.558590\n9               ŁÓDZKIE  39662.408439\n10  WARMIŃSKO-MAZURSKIE  39371.046648\n11   KUJAWSKO-POMORSKIE  39347.507047\n12        WIELKOPOLSKIE  39213.752548\n13       ŚWIĘTOKRZYSKIE  38540.271297\n14             OPOLSKIE  36786.426177\n15            LUBELSKIE  36447.199048\n16         PODKARPACKIE  32794.169539",
      "text/html": "<div>\n<style scoped>\n    .dataframe tbody tr th:only-of-type {\n        vertical-align: middle;\n    }\n\n    .dataframe tbody tr th {\n        vertical-align: top;\n    }\n\n    .dataframe thead th {\n        text-align: right;\n    }\n</style>\n<table border=\"1\" class=\"dataframe\">\n  <thead>\n    <tr style=\"text-align: right;\">\n      <th></th>\n      <th>Nazwa</th>\n      <th>Wartosc</th>\n    </tr>\n  </thead>\n  <tbody>\n    <tr>\n      <th>0</th>\n      <td>MAZOWIECKIE</td>\n      <td>49018.698911</td>\n    </tr>\n    <tr>\n      <th>1</th>\n      <td>DOLNOŚLĄSKIE</td>\n      <td>44399.114475</td>\n    </tr>\n    <tr>\n      <th>2</th>\n      <td>ŚLĄSKIE</td>\n      <td>43037.734166</td>\n    </tr>\n    <tr>\n      <th>3</th>\n      <td>PODLASKIE</td>\n      <td>42351.484345</td>\n    </tr>\n    <tr>\n      <th>4</th>\n      <td>LUBUSKIE</td>\n      <td>42263.498303</td>\n    </tr>\n    <tr>\n      <th>5</th>\n      <td>POLSKA</td>\n      <td>41261.482296</td>\n    </tr>\n    <tr>\n      <th>6</th>\n      <td>ZACHODNIOPOMORSKIE</td>\n      <td>41123.031469</td>\n    </tr>\n    <tr>\n      <th>7</th>\n      <td>POMORSKIE</td>\n      <td>40339.341459</td>\n    </tr>\n    <tr>\n      <th>8</th>\n      <td>MAŁOPOLSKIE</td>\n      <td>40125.558590</td>\n    </tr>\n    <tr>\n      <th>9</th>\n      <td>ŁÓDZKIE</td>\n      <td>39662.408439</td>\n    </tr>\n    <tr>\n      <th>10</th>\n      <td>WARMIŃSKO-MAZURSKIE</td>\n      <td>39371.046648</td>\n    </tr>\n    <tr>\n      <th>11</th>\n      <td>KUJAWSKO-POMORSKIE</td>\n      <td>39347.507047</td>\n    </tr>\n    <tr>\n      <th>12</th>\n      <td>WIELKOPOLSKIE</td>\n      <td>39213.752548</td>\n    </tr>\n    <tr>\n      <th>13</th>\n      <td>ŚWIĘTOKRZYSKIE</td>\n      <td>38540.271297</td>\n    </tr>\n    <tr>\n      <th>14</th>\n      <td>OPOLSKIE</td>\n      <td>36786.426177</td>\n    </tr>\n    <tr>\n      <th>15</th>\n      <td>LUBELSKIE</td>\n      <td>36447.199048</td>\n    </tr>\n    <tr>\n      <th>16</th>\n      <td>PODKARPACKIE</td>\n      <td>32794.169539</td>\n    </tr>\n  </tbody>\n</table>\n</div>"
     },
     "execution_count": 73,
     "metadata": {},
     "output_type": "execute_result"
    }
   ],
   "source": [
    "incomes_variability = pd.DataFrame(df_ludnosc[(df_ludnosc.Kategoria == \"Dochody\") & (df_ludnosc.Zmienna == \"ogółem\")].groupby(\n",
    "    \"Nazwa\").Wartosc.std().sort_values(ascending=False))\n",
    "incomes_variability.reset_index(inplace=True)\n",
    "incomes_variability"
   ]
  },
  {
   "cell_type": "code",
   "execution_count": 77,
   "outputs": [
    {
     "data": {
      "application/vnd.plotly.v1+json": {
       "data": [
        {
         "alignmentgroup": "True",
         "hovertemplate": "województwo=%{x}<br>Wartosc=%{y}<extra></extra>",
         "legendgroup": "",
         "marker": {
          "color": "#636efa",
          "pattern": {
           "shape": ""
          }
         },
         "name": "",
         "offsetgroup": "",
         "orientation": "v",
         "showlegend": false,
         "textposition": "auto",
         "x": [
          "MAZOWIECKIE",
          "DOLNOŚLĄSKIE",
          "ŚLĄSKIE",
          "PODLASKIE",
          "LUBUSKIE",
          "POLSKA",
          "ZACHODNIOPOMORSKIE",
          "POMORSKIE",
          "MAŁOPOLSKIE",
          "ŁÓDZKIE",
          "WARMIŃSKO-MAZURSKIE",
          "KUJAWSKO-POMORSKIE",
          "WIELKOPOLSKIE",
          "ŚWIĘTOKRZYSKIE",
          "OPOLSKIE",
          "LUBELSKIE",
          "PODKARPACKIE"
         ],
         "xaxis": "x",
         "y": [
          49018.69891143274,
          44399.11447490642,
          43037.73416627164,
          42351.48434502944,
          42263.49830299617,
          41261.48229643115,
          41123.03146914295,
          40339.3414587382,
          40125.558589846274,
          39662.4084391607,
          39371.04664806997,
          39347.50704711177,
          39213.75254808698,
          38540.27129731958,
          36786.42617736326,
          36447.19904763259,
          32794.16953897571
         ],
         "yaxis": "y",
         "type": "bar"
        }
       ],
       "layout": {
        "template": {
         "data": {
          "bar": [
           {
            "error_x": {
             "color": "#2a3f5f"
            },
            "error_y": {
             "color": "#2a3f5f"
            },
            "marker": {
             "line": {
              "color": "#E5ECF6",
              "width": 0.5
             },
             "pattern": {
              "fillmode": "overlay",
              "size": 10,
              "solidity": 0.2
             }
            },
            "type": "bar"
           }
          ],
          "barpolar": [
           {
            "marker": {
             "line": {
              "color": "#E5ECF6",
              "width": 0.5
             },
             "pattern": {
              "fillmode": "overlay",
              "size": 10,
              "solidity": 0.2
             }
            },
            "type": "barpolar"
           }
          ],
          "carpet": [
           {
            "aaxis": {
             "endlinecolor": "#2a3f5f",
             "gridcolor": "white",
             "linecolor": "white",
             "minorgridcolor": "white",
             "startlinecolor": "#2a3f5f"
            },
            "baxis": {
             "endlinecolor": "#2a3f5f",
             "gridcolor": "white",
             "linecolor": "white",
             "minorgridcolor": "white",
             "startlinecolor": "#2a3f5f"
            },
            "type": "carpet"
           }
          ],
          "choropleth": [
           {
            "colorbar": {
             "outlinewidth": 0,
             "ticks": ""
            },
            "type": "choropleth"
           }
          ],
          "contour": [
           {
            "colorbar": {
             "outlinewidth": 0,
             "ticks": ""
            },
            "colorscale": [
             [
              0.0,
              "#0d0887"
             ],
             [
              0.1111111111111111,
              "#46039f"
             ],
             [
              0.2222222222222222,
              "#7201a8"
             ],
             [
              0.3333333333333333,
              "#9c179e"
             ],
             [
              0.4444444444444444,
              "#bd3786"
             ],
             [
              0.5555555555555556,
              "#d8576b"
             ],
             [
              0.6666666666666666,
              "#ed7953"
             ],
             [
              0.7777777777777778,
              "#fb9f3a"
             ],
             [
              0.8888888888888888,
              "#fdca26"
             ],
             [
              1.0,
              "#f0f921"
             ]
            ],
            "type": "contour"
           }
          ],
          "contourcarpet": [
           {
            "colorbar": {
             "outlinewidth": 0,
             "ticks": ""
            },
            "type": "contourcarpet"
           }
          ],
          "heatmap": [
           {
            "colorbar": {
             "outlinewidth": 0,
             "ticks": ""
            },
            "colorscale": [
             [
              0.0,
              "#0d0887"
             ],
             [
              0.1111111111111111,
              "#46039f"
             ],
             [
              0.2222222222222222,
              "#7201a8"
             ],
             [
              0.3333333333333333,
              "#9c179e"
             ],
             [
              0.4444444444444444,
              "#bd3786"
             ],
             [
              0.5555555555555556,
              "#d8576b"
             ],
             [
              0.6666666666666666,
              "#ed7953"
             ],
             [
              0.7777777777777778,
              "#fb9f3a"
             ],
             [
              0.8888888888888888,
              "#fdca26"
             ],
             [
              1.0,
              "#f0f921"
             ]
            ],
            "type": "heatmap"
           }
          ],
          "heatmapgl": [
           {
            "colorbar": {
             "outlinewidth": 0,
             "ticks": ""
            },
            "colorscale": [
             [
              0.0,
              "#0d0887"
             ],
             [
              0.1111111111111111,
              "#46039f"
             ],
             [
              0.2222222222222222,
              "#7201a8"
             ],
             [
              0.3333333333333333,
              "#9c179e"
             ],
             [
              0.4444444444444444,
              "#bd3786"
             ],
             [
              0.5555555555555556,
              "#d8576b"
             ],
             [
              0.6666666666666666,
              "#ed7953"
             ],
             [
              0.7777777777777778,
              "#fb9f3a"
             ],
             [
              0.8888888888888888,
              "#fdca26"
             ],
             [
              1.0,
              "#f0f921"
             ]
            ],
            "type": "heatmapgl"
           }
          ],
          "histogram": [
           {
            "marker": {
             "pattern": {
              "fillmode": "overlay",
              "size": 10,
              "solidity": 0.2
             }
            },
            "type": "histogram"
           }
          ],
          "histogram2d": [
           {
            "colorbar": {
             "outlinewidth": 0,
             "ticks": ""
            },
            "colorscale": [
             [
              0.0,
              "#0d0887"
             ],
             [
              0.1111111111111111,
              "#46039f"
             ],
             [
              0.2222222222222222,
              "#7201a8"
             ],
             [
              0.3333333333333333,
              "#9c179e"
             ],
             [
              0.4444444444444444,
              "#bd3786"
             ],
             [
              0.5555555555555556,
              "#d8576b"
             ],
             [
              0.6666666666666666,
              "#ed7953"
             ],
             [
              0.7777777777777778,
              "#fb9f3a"
             ],
             [
              0.8888888888888888,
              "#fdca26"
             ],
             [
              1.0,
              "#f0f921"
             ]
            ],
            "type": "histogram2d"
           }
          ],
          "histogram2dcontour": [
           {
            "colorbar": {
             "outlinewidth": 0,
             "ticks": ""
            },
            "colorscale": [
             [
              0.0,
              "#0d0887"
             ],
             [
              0.1111111111111111,
              "#46039f"
             ],
             [
              0.2222222222222222,
              "#7201a8"
             ],
             [
              0.3333333333333333,
              "#9c179e"
             ],
             [
              0.4444444444444444,
              "#bd3786"
             ],
             [
              0.5555555555555556,
              "#d8576b"
             ],
             [
              0.6666666666666666,
              "#ed7953"
             ],
             [
              0.7777777777777778,
              "#fb9f3a"
             ],
             [
              0.8888888888888888,
              "#fdca26"
             ],
             [
              1.0,
              "#f0f921"
             ]
            ],
            "type": "histogram2dcontour"
           }
          ],
          "mesh3d": [
           {
            "colorbar": {
             "outlinewidth": 0,
             "ticks": ""
            },
            "type": "mesh3d"
           }
          ],
          "parcoords": [
           {
            "line": {
             "colorbar": {
              "outlinewidth": 0,
              "ticks": ""
             }
            },
            "type": "parcoords"
           }
          ],
          "pie": [
           {
            "automargin": true,
            "type": "pie"
           }
          ],
          "scatter": [
           {
            "marker": {
             "colorbar": {
              "outlinewidth": 0,
              "ticks": ""
             }
            },
            "type": "scatter"
           }
          ],
          "scatter3d": [
           {
            "line": {
             "colorbar": {
              "outlinewidth": 0,
              "ticks": ""
             }
            },
            "marker": {
             "colorbar": {
              "outlinewidth": 0,
              "ticks": ""
             }
            },
            "type": "scatter3d"
           }
          ],
          "scattercarpet": [
           {
            "marker": {
             "colorbar": {
              "outlinewidth": 0,
              "ticks": ""
             }
            },
            "type": "scattercarpet"
           }
          ],
          "scattergeo": [
           {
            "marker": {
             "colorbar": {
              "outlinewidth": 0,
              "ticks": ""
             }
            },
            "type": "scattergeo"
           }
          ],
          "scattergl": [
           {
            "marker": {
             "colorbar": {
              "outlinewidth": 0,
              "ticks": ""
             }
            },
            "type": "scattergl"
           }
          ],
          "scattermapbox": [
           {
            "marker": {
             "colorbar": {
              "outlinewidth": 0,
              "ticks": ""
             }
            },
            "type": "scattermapbox"
           }
          ],
          "scatterpolar": [
           {
            "marker": {
             "colorbar": {
              "outlinewidth": 0,
              "ticks": ""
             }
            },
            "type": "scatterpolar"
           }
          ],
          "scatterpolargl": [
           {
            "marker": {
             "colorbar": {
              "outlinewidth": 0,
              "ticks": ""
             }
            },
            "type": "scatterpolargl"
           }
          ],
          "scatterternary": [
           {
            "marker": {
             "colorbar": {
              "outlinewidth": 0,
              "ticks": ""
             }
            },
            "type": "scatterternary"
           }
          ],
          "surface": [
           {
            "colorbar": {
             "outlinewidth": 0,
             "ticks": ""
            },
            "colorscale": [
             [
              0.0,
              "#0d0887"
             ],
             [
              0.1111111111111111,
              "#46039f"
             ],
             [
              0.2222222222222222,
              "#7201a8"
             ],
             [
              0.3333333333333333,
              "#9c179e"
             ],
             [
              0.4444444444444444,
              "#bd3786"
             ],
             [
              0.5555555555555556,
              "#d8576b"
             ],
             [
              0.6666666666666666,
              "#ed7953"
             ],
             [
              0.7777777777777778,
              "#fb9f3a"
             ],
             [
              0.8888888888888888,
              "#fdca26"
             ],
             [
              1.0,
              "#f0f921"
             ]
            ],
            "type": "surface"
           }
          ],
          "table": [
           {
            "cells": {
             "fill": {
              "color": "#EBF0F8"
             },
             "line": {
              "color": "white"
             }
            },
            "header": {
             "fill": {
              "color": "#C8D4E3"
             },
             "line": {
              "color": "white"
             }
            },
            "type": "table"
           }
          ]
         },
         "layout": {
          "annotationdefaults": {
           "arrowcolor": "#2a3f5f",
           "arrowhead": 0,
           "arrowwidth": 1
          },
          "autotypenumbers": "strict",
          "coloraxis": {
           "colorbar": {
            "outlinewidth": 0,
            "ticks": ""
           }
          },
          "colorscale": {
           "diverging": [
            [
             0,
             "#8e0152"
            ],
            [
             0.1,
             "#c51b7d"
            ],
            [
             0.2,
             "#de77ae"
            ],
            [
             0.3,
             "#f1b6da"
            ],
            [
             0.4,
             "#fde0ef"
            ],
            [
             0.5,
             "#f7f7f7"
            ],
            [
             0.6,
             "#e6f5d0"
            ],
            [
             0.7,
             "#b8e186"
            ],
            [
             0.8,
             "#7fbc41"
            ],
            [
             0.9,
             "#4d9221"
            ],
            [
             1,
             "#276419"
            ]
           ],
           "sequential": [
            [
             0.0,
             "#0d0887"
            ],
            [
             0.1111111111111111,
             "#46039f"
            ],
            [
             0.2222222222222222,
             "#7201a8"
            ],
            [
             0.3333333333333333,
             "#9c179e"
            ],
            [
             0.4444444444444444,
             "#bd3786"
            ],
            [
             0.5555555555555556,
             "#d8576b"
            ],
            [
             0.6666666666666666,
             "#ed7953"
            ],
            [
             0.7777777777777778,
             "#fb9f3a"
            ],
            [
             0.8888888888888888,
             "#fdca26"
            ],
            [
             1.0,
             "#f0f921"
            ]
           ],
           "sequentialminus": [
            [
             0.0,
             "#0d0887"
            ],
            [
             0.1111111111111111,
             "#46039f"
            ],
            [
             0.2222222222222222,
             "#7201a8"
            ],
            [
             0.3333333333333333,
             "#9c179e"
            ],
            [
             0.4444444444444444,
             "#bd3786"
            ],
            [
             0.5555555555555556,
             "#d8576b"
            ],
            [
             0.6666666666666666,
             "#ed7953"
            ],
            [
             0.7777777777777778,
             "#fb9f3a"
            ],
            [
             0.8888888888888888,
             "#fdca26"
            ],
            [
             1.0,
             "#f0f921"
            ]
           ]
          },
          "colorway": [
           "#636efa",
           "#EF553B",
           "#00cc96",
           "#ab63fa",
           "#FFA15A",
           "#19d3f3",
           "#FF6692",
           "#B6E880",
           "#FF97FF",
           "#FECB52"
          ],
          "font": {
           "color": "#2a3f5f"
          },
          "geo": {
           "bgcolor": "white",
           "lakecolor": "white",
           "landcolor": "#E5ECF6",
           "showlakes": true,
           "showland": true,
           "subunitcolor": "white"
          },
          "hoverlabel": {
           "align": "left"
          },
          "hovermode": "closest",
          "mapbox": {
           "style": "light"
          },
          "paper_bgcolor": "white",
          "plot_bgcolor": "#E5ECF6",
          "polar": {
           "angularaxis": {
            "gridcolor": "white",
            "linecolor": "white",
            "ticks": ""
           },
           "bgcolor": "#E5ECF6",
           "radialaxis": {
            "gridcolor": "white",
            "linecolor": "white",
            "ticks": ""
           }
          },
          "scene": {
           "xaxis": {
            "backgroundcolor": "#E5ECF6",
            "gridcolor": "white",
            "gridwidth": 2,
            "linecolor": "white",
            "showbackground": true,
            "ticks": "",
            "zerolinecolor": "white"
           },
           "yaxis": {
            "backgroundcolor": "#E5ECF6",
            "gridcolor": "white",
            "gridwidth": 2,
            "linecolor": "white",
            "showbackground": true,
            "ticks": "",
            "zerolinecolor": "white"
           },
           "zaxis": {
            "backgroundcolor": "#E5ECF6",
            "gridcolor": "white",
            "gridwidth": 2,
            "linecolor": "white",
            "showbackground": true,
            "ticks": "",
            "zerolinecolor": "white"
           }
          },
          "shapedefaults": {
           "line": {
            "color": "#2a3f5f"
           }
          },
          "ternary": {
           "aaxis": {
            "gridcolor": "white",
            "linecolor": "white",
            "ticks": ""
           },
           "baxis": {
            "gridcolor": "white",
            "linecolor": "white",
            "ticks": ""
           },
           "bgcolor": "#E5ECF6",
           "caxis": {
            "gridcolor": "white",
            "linecolor": "white",
            "ticks": ""
           }
          },
          "title": {
           "x": 0.05
          },
          "xaxis": {
           "automargin": true,
           "gridcolor": "white",
           "linecolor": "white",
           "ticks": "",
           "title": {
            "standoff": 15
           },
           "zerolinecolor": "white",
           "zerolinewidth": 2
          },
          "yaxis": {
           "automargin": true,
           "gridcolor": "white",
           "linecolor": "white",
           "ticks": "",
           "title": {
            "standoff": 15
           },
           "zerolinecolor": "white",
           "zerolinewidth": 2
          }
         }
        },
        "xaxis": {
         "anchor": "y",
         "domain": [
          0.0,
          1.0
         ],
         "title": {
          "text": "województwo"
         }
        },
        "yaxis": {
         "anchor": "x",
         "domain": [
          0.0,
          1.0
         ],
         "title": {
          "text": "Wartosc"
         }
        },
        "legend": {
         "tracegroupgap": 0
        },
        "title": {
         "text": "zmienność w dochodach na przestrzeni lat"
        },
        "barmode": "relative"
       },
       "config": {
        "plotlyServerURL": "https://plot.ly"
       }
      },
      "text/html": "<div>                            <div id=\"58a2ad7e-1aee-46a5-9b5e-366cc2507d12\" class=\"plotly-graph-div\" style=\"height:525px; width:100%;\"></div>            <script type=\"text/javascript\">                require([\"plotly\"], function(Plotly) {                    window.PLOTLYENV=window.PLOTLYENV || {};                                    if (document.getElementById(\"58a2ad7e-1aee-46a5-9b5e-366cc2507d12\")) {                    Plotly.newPlot(                        \"58a2ad7e-1aee-46a5-9b5e-366cc2507d12\",                        [{\"alignmentgroup\":\"True\",\"hovertemplate\":\"wojew\\u00f3dztwo=%{x}<br>Wartosc=%{y}<extra></extra>\",\"legendgroup\":\"\",\"marker\":{\"color\":\"#636efa\",\"pattern\":{\"shape\":\"\"}},\"name\":\"\",\"offsetgroup\":\"\",\"orientation\":\"v\",\"showlegend\":false,\"textposition\":\"auto\",\"x\":[\"MAZOWIECKIE\",\"DOLNO\\u015aL\\u0104SKIE\",\"\\u015aL\\u0104SKIE\",\"PODLASKIE\",\"LUBUSKIE\",\"POLSKA\",\"ZACHODNIOPOMORSKIE\",\"POMORSKIE\",\"MA\\u0141OPOLSKIE\",\"\\u0141\\u00d3DZKIE\",\"WARMI\\u0143SKO-MAZURSKIE\",\"KUJAWSKO-POMORSKIE\",\"WIELKOPOLSKIE\",\"\\u015aWI\\u0118TOKRZYSKIE\",\"OPOLSKIE\",\"LUBELSKIE\",\"PODKARPACKIE\"],\"xaxis\":\"x\",\"y\":[49018.69891143274,44399.11447490642,43037.73416627164,42351.48434502944,42263.49830299617,41261.48229643115,41123.03146914295,40339.3414587382,40125.558589846274,39662.4084391607,39371.04664806997,39347.50704711177,39213.75254808698,38540.27129731958,36786.42617736326,36447.19904763259,32794.16953897571],\"yaxis\":\"y\",\"type\":\"bar\"}],                        {\"template\":{\"data\":{\"bar\":[{\"error_x\":{\"color\":\"#2a3f5f\"},\"error_y\":{\"color\":\"#2a3f5f\"},\"marker\":{\"line\":{\"color\":\"#E5ECF6\",\"width\":0.5},\"pattern\":{\"fillmode\":\"overlay\",\"size\":10,\"solidity\":0.2}},\"type\":\"bar\"}],\"barpolar\":[{\"marker\":{\"line\":{\"color\":\"#E5ECF6\",\"width\":0.5},\"pattern\":{\"fillmode\":\"overlay\",\"size\":10,\"solidity\":0.2}},\"type\":\"barpolar\"}],\"carpet\":[{\"aaxis\":{\"endlinecolor\":\"#2a3f5f\",\"gridcolor\":\"white\",\"linecolor\":\"white\",\"minorgridcolor\":\"white\",\"startlinecolor\":\"#2a3f5f\"},\"baxis\":{\"endlinecolor\":\"#2a3f5f\",\"gridcolor\":\"white\",\"linecolor\":\"white\",\"minorgridcolor\":\"white\",\"startlinecolor\":\"#2a3f5f\"},\"type\":\"carpet\"}],\"choropleth\":[{\"colorbar\":{\"outlinewidth\":0,\"ticks\":\"\"},\"type\":\"choropleth\"}],\"contour\":[{\"colorbar\":{\"outlinewidth\":0,\"ticks\":\"\"},\"colorscale\":[[0.0,\"#0d0887\"],[0.1111111111111111,\"#46039f\"],[0.2222222222222222,\"#7201a8\"],[0.3333333333333333,\"#9c179e\"],[0.4444444444444444,\"#bd3786\"],[0.5555555555555556,\"#d8576b\"],[0.6666666666666666,\"#ed7953\"],[0.7777777777777778,\"#fb9f3a\"],[0.8888888888888888,\"#fdca26\"],[1.0,\"#f0f921\"]],\"type\":\"contour\"}],\"contourcarpet\":[{\"colorbar\":{\"outlinewidth\":0,\"ticks\":\"\"},\"type\":\"contourcarpet\"}],\"heatmap\":[{\"colorbar\":{\"outlinewidth\":0,\"ticks\":\"\"},\"colorscale\":[[0.0,\"#0d0887\"],[0.1111111111111111,\"#46039f\"],[0.2222222222222222,\"#7201a8\"],[0.3333333333333333,\"#9c179e\"],[0.4444444444444444,\"#bd3786\"],[0.5555555555555556,\"#d8576b\"],[0.6666666666666666,\"#ed7953\"],[0.7777777777777778,\"#fb9f3a\"],[0.8888888888888888,\"#fdca26\"],[1.0,\"#f0f921\"]],\"type\":\"heatmap\"}],\"heatmapgl\":[{\"colorbar\":{\"outlinewidth\":0,\"ticks\":\"\"},\"colorscale\":[[0.0,\"#0d0887\"],[0.1111111111111111,\"#46039f\"],[0.2222222222222222,\"#7201a8\"],[0.3333333333333333,\"#9c179e\"],[0.4444444444444444,\"#bd3786\"],[0.5555555555555556,\"#d8576b\"],[0.6666666666666666,\"#ed7953\"],[0.7777777777777778,\"#fb9f3a\"],[0.8888888888888888,\"#fdca26\"],[1.0,\"#f0f921\"]],\"type\":\"heatmapgl\"}],\"histogram\":[{\"marker\":{\"pattern\":{\"fillmode\":\"overlay\",\"size\":10,\"solidity\":0.2}},\"type\":\"histogram\"}],\"histogram2d\":[{\"colorbar\":{\"outlinewidth\":0,\"ticks\":\"\"},\"colorscale\":[[0.0,\"#0d0887\"],[0.1111111111111111,\"#46039f\"],[0.2222222222222222,\"#7201a8\"],[0.3333333333333333,\"#9c179e\"],[0.4444444444444444,\"#bd3786\"],[0.5555555555555556,\"#d8576b\"],[0.6666666666666666,\"#ed7953\"],[0.7777777777777778,\"#fb9f3a\"],[0.8888888888888888,\"#fdca26\"],[1.0,\"#f0f921\"]],\"type\":\"histogram2d\"}],\"histogram2dcontour\":[{\"colorbar\":{\"outlinewidth\":0,\"ticks\":\"\"},\"colorscale\":[[0.0,\"#0d0887\"],[0.1111111111111111,\"#46039f\"],[0.2222222222222222,\"#7201a8\"],[0.3333333333333333,\"#9c179e\"],[0.4444444444444444,\"#bd3786\"],[0.5555555555555556,\"#d8576b\"],[0.6666666666666666,\"#ed7953\"],[0.7777777777777778,\"#fb9f3a\"],[0.8888888888888888,\"#fdca26\"],[1.0,\"#f0f921\"]],\"type\":\"histogram2dcontour\"}],\"mesh3d\":[{\"colorbar\":{\"outlinewidth\":0,\"ticks\":\"\"},\"type\":\"mesh3d\"}],\"parcoords\":[{\"line\":{\"colorbar\":{\"outlinewidth\":0,\"ticks\":\"\"}},\"type\":\"parcoords\"}],\"pie\":[{\"automargin\":true,\"type\":\"pie\"}],\"scatter\":[{\"marker\":{\"colorbar\":{\"outlinewidth\":0,\"ticks\":\"\"}},\"type\":\"scatter\"}],\"scatter3d\":[{\"line\":{\"colorbar\":{\"outlinewidth\":0,\"ticks\":\"\"}},\"marker\":{\"colorbar\":{\"outlinewidth\":0,\"ticks\":\"\"}},\"type\":\"scatter3d\"}],\"scattercarpet\":[{\"marker\":{\"colorbar\":{\"outlinewidth\":0,\"ticks\":\"\"}},\"type\":\"scattercarpet\"}],\"scattergeo\":[{\"marker\":{\"colorbar\":{\"outlinewidth\":0,\"ticks\":\"\"}},\"type\":\"scattergeo\"}],\"scattergl\":[{\"marker\":{\"colorbar\":{\"outlinewidth\":0,\"ticks\":\"\"}},\"type\":\"scattergl\"}],\"scattermapbox\":[{\"marker\":{\"colorbar\":{\"outlinewidth\":0,\"ticks\":\"\"}},\"type\":\"scattermapbox\"}],\"scatterpolar\":[{\"marker\":{\"colorbar\":{\"outlinewidth\":0,\"ticks\":\"\"}},\"type\":\"scatterpolar\"}],\"scatterpolargl\":[{\"marker\":{\"colorbar\":{\"outlinewidth\":0,\"ticks\":\"\"}},\"type\":\"scatterpolargl\"}],\"scatterternary\":[{\"marker\":{\"colorbar\":{\"outlinewidth\":0,\"ticks\":\"\"}},\"type\":\"scatterternary\"}],\"surface\":[{\"colorbar\":{\"outlinewidth\":0,\"ticks\":\"\"},\"colorscale\":[[0.0,\"#0d0887\"],[0.1111111111111111,\"#46039f\"],[0.2222222222222222,\"#7201a8\"],[0.3333333333333333,\"#9c179e\"],[0.4444444444444444,\"#bd3786\"],[0.5555555555555556,\"#d8576b\"],[0.6666666666666666,\"#ed7953\"],[0.7777777777777778,\"#fb9f3a\"],[0.8888888888888888,\"#fdca26\"],[1.0,\"#f0f921\"]],\"type\":\"surface\"}],\"table\":[{\"cells\":{\"fill\":{\"color\":\"#EBF0F8\"},\"line\":{\"color\":\"white\"}},\"header\":{\"fill\":{\"color\":\"#C8D4E3\"},\"line\":{\"color\":\"white\"}},\"type\":\"table\"}]},\"layout\":{\"annotationdefaults\":{\"arrowcolor\":\"#2a3f5f\",\"arrowhead\":0,\"arrowwidth\":1},\"autotypenumbers\":\"strict\",\"coloraxis\":{\"colorbar\":{\"outlinewidth\":0,\"ticks\":\"\"}},\"colorscale\":{\"diverging\":[[0,\"#8e0152\"],[0.1,\"#c51b7d\"],[0.2,\"#de77ae\"],[0.3,\"#f1b6da\"],[0.4,\"#fde0ef\"],[0.5,\"#f7f7f7\"],[0.6,\"#e6f5d0\"],[0.7,\"#b8e186\"],[0.8,\"#7fbc41\"],[0.9,\"#4d9221\"],[1,\"#276419\"]],\"sequential\":[[0.0,\"#0d0887\"],[0.1111111111111111,\"#46039f\"],[0.2222222222222222,\"#7201a8\"],[0.3333333333333333,\"#9c179e\"],[0.4444444444444444,\"#bd3786\"],[0.5555555555555556,\"#d8576b\"],[0.6666666666666666,\"#ed7953\"],[0.7777777777777778,\"#fb9f3a\"],[0.8888888888888888,\"#fdca26\"],[1.0,\"#f0f921\"]],\"sequentialminus\":[[0.0,\"#0d0887\"],[0.1111111111111111,\"#46039f\"],[0.2222222222222222,\"#7201a8\"],[0.3333333333333333,\"#9c179e\"],[0.4444444444444444,\"#bd3786\"],[0.5555555555555556,\"#d8576b\"],[0.6666666666666666,\"#ed7953\"],[0.7777777777777778,\"#fb9f3a\"],[0.8888888888888888,\"#fdca26\"],[1.0,\"#f0f921\"]]},\"colorway\":[\"#636efa\",\"#EF553B\",\"#00cc96\",\"#ab63fa\",\"#FFA15A\",\"#19d3f3\",\"#FF6692\",\"#B6E880\",\"#FF97FF\",\"#FECB52\"],\"font\":{\"color\":\"#2a3f5f\"},\"geo\":{\"bgcolor\":\"white\",\"lakecolor\":\"white\",\"landcolor\":\"#E5ECF6\",\"showlakes\":true,\"showland\":true,\"subunitcolor\":\"white\"},\"hoverlabel\":{\"align\":\"left\"},\"hovermode\":\"closest\",\"mapbox\":{\"style\":\"light\"},\"paper_bgcolor\":\"white\",\"plot_bgcolor\":\"#E5ECF6\",\"polar\":{\"angularaxis\":{\"gridcolor\":\"white\",\"linecolor\":\"white\",\"ticks\":\"\"},\"bgcolor\":\"#E5ECF6\",\"radialaxis\":{\"gridcolor\":\"white\",\"linecolor\":\"white\",\"ticks\":\"\"}},\"scene\":{\"xaxis\":{\"backgroundcolor\":\"#E5ECF6\",\"gridcolor\":\"white\",\"gridwidth\":2,\"linecolor\":\"white\",\"showbackground\":true,\"ticks\":\"\",\"zerolinecolor\":\"white\"},\"yaxis\":{\"backgroundcolor\":\"#E5ECF6\",\"gridcolor\":\"white\",\"gridwidth\":2,\"linecolor\":\"white\",\"showbackground\":true,\"ticks\":\"\",\"zerolinecolor\":\"white\"},\"zaxis\":{\"backgroundcolor\":\"#E5ECF6\",\"gridcolor\":\"white\",\"gridwidth\":2,\"linecolor\":\"white\",\"showbackground\":true,\"ticks\":\"\",\"zerolinecolor\":\"white\"}},\"shapedefaults\":{\"line\":{\"color\":\"#2a3f5f\"}},\"ternary\":{\"aaxis\":{\"gridcolor\":\"white\",\"linecolor\":\"white\",\"ticks\":\"\"},\"baxis\":{\"gridcolor\":\"white\",\"linecolor\":\"white\",\"ticks\":\"\"},\"bgcolor\":\"#E5ECF6\",\"caxis\":{\"gridcolor\":\"white\",\"linecolor\":\"white\",\"ticks\":\"\"}},\"title\":{\"x\":0.05},\"xaxis\":{\"automargin\":true,\"gridcolor\":\"white\",\"linecolor\":\"white\",\"ticks\":\"\",\"title\":{\"standoff\":15},\"zerolinecolor\":\"white\",\"zerolinewidth\":2},\"yaxis\":{\"automargin\":true,\"gridcolor\":\"white\",\"linecolor\":\"white\",\"ticks\":\"\",\"title\":{\"standoff\":15},\"zerolinecolor\":\"white\",\"zerolinewidth\":2}}},\"xaxis\":{\"anchor\":\"y\",\"domain\":[0.0,1.0],\"title\":{\"text\":\"wojew\\u00f3dztwo\"}},\"yaxis\":{\"anchor\":\"x\",\"domain\":[0.0,1.0],\"title\":{\"text\":\"Wartosc\"}},\"legend\":{\"tracegroupgap\":0},\"title\":{\"text\":\"zmienno\\u015b\\u0107 w dochodach na przestrzeni lat\"},\"barmode\":\"relative\"},                        {\"responsive\": true}                    ).then(function(){\n                            \nvar gd = document.getElementById('58a2ad7e-1aee-46a5-9b5e-366cc2507d12');\nvar x = new MutationObserver(function (mutations, observer) {{\n        var display = window.getComputedStyle(gd).display;\n        if (!display || display === 'none') {{\n            console.log([gd, 'removed!']);\n            Plotly.purge(gd);\n            observer.disconnect();\n        }}\n}});\n\n// Listen for the removal of the full notebook cells\nvar notebookContainer = gd.closest('#notebook-container');\nif (notebookContainer) {{\n    x.observe(notebookContainer, {childList: true});\n}}\n\n// Listen for the clearing of the current output cell\nvar outputEl = gd.closest('.output');\nif (outputEl) {{\n    x.observe(outputEl, {childList: true});\n}}\n\n                        })                };                });            </script>        </div>"
     },
     "metadata": {},
     "output_type": "display_data"
    }
   ],
   "source": [
    "fig = px.bar(incomes_variability, x='Nazwa', y='Wartosc', title=\"zmienność w dochodach na przestrzeni lat\", labels={'Nazwa':\"województwo\"})\n",
    "fig.show()"
   ],
   "metadata": {
    "collapsed": false,
    "pycharm": {
     "name": "#%%\n"
    }
   }
  },
  {
   "cell_type": "markdown",
   "metadata": {},
   "source": [
    "### zmiana wydatków poszczególnych wojewóctw na przestrzeni lat"
   ]
  },
  {
   "cell_type": "markdown",
   "metadata": {},
   "source": [
    "#### zmiana ilościowa"
   ]
  },
  {
   "cell_type": "code",
   "execution_count": 12,
   "metadata": {},
   "outputs": [
    {
     "data": {
      "text/plain": "                     Wartosc\nNazwa          Rok          \nDOLNOŚLĄSKIE   1999      NaN\n               2000   2435.0\n               2001   4655.0\n               2002   3903.0\n               2003   3662.0\n...                      ...\nŚWIĘTOKRZYSKIE 2016  10316.0\n               2017  12672.0\n               2018  11714.0\n               2019   7664.0\n               2020  10046.0\n\n[374 rows x 1 columns]",
      "text/html": "<div>\n<style scoped>\n    .dataframe tbody tr th:only-of-type {\n        vertical-align: middle;\n    }\n\n    .dataframe tbody tr th {\n        vertical-align: top;\n    }\n\n    .dataframe thead th {\n        text-align: right;\n    }\n</style>\n<table border=\"1\" class=\"dataframe\">\n  <thead>\n    <tr style=\"text-align: right;\">\n      <th></th>\n      <th></th>\n      <th>Wartosc</th>\n    </tr>\n    <tr>\n      <th>Nazwa</th>\n      <th>Rok</th>\n      <th></th>\n    </tr>\n  </thead>\n  <tbody>\n    <tr>\n      <th rowspan=\"5\" valign=\"top\">DOLNOŚLĄSKIE</th>\n      <th>1999</th>\n      <td>NaN</td>\n    </tr>\n    <tr>\n      <th>2000</th>\n      <td>2435.0</td>\n    </tr>\n    <tr>\n      <th>2001</th>\n      <td>4655.0</td>\n    </tr>\n    <tr>\n      <th>2002</th>\n      <td>3903.0</td>\n    </tr>\n    <tr>\n      <th>2003</th>\n      <td>3662.0</td>\n    </tr>\n    <tr>\n      <th>...</th>\n      <th>...</th>\n      <td>...</td>\n    </tr>\n    <tr>\n      <th rowspan=\"5\" valign=\"top\">ŚWIĘTOKRZYSKIE</th>\n      <th>2016</th>\n      <td>10316.0</td>\n    </tr>\n    <tr>\n      <th>2017</th>\n      <td>12672.0</td>\n    </tr>\n    <tr>\n      <th>2018</th>\n      <td>11714.0</td>\n    </tr>\n    <tr>\n      <th>2019</th>\n      <td>7664.0</td>\n    </tr>\n    <tr>\n      <th>2020</th>\n      <td>10046.0</td>\n    </tr>\n  </tbody>\n</table>\n<p>374 rows × 1 columns</p>\n</div>"
     },
     "execution_count": 12,
     "metadata": {},
     "output_type": "execute_result"
    }
   ],
   "source": [
    "pd.DataFrame(df_ludnosc[(df_ludnosc.Kategoria == \"Dochody\") & (df_ludnosc.Zmienna == \"ogółem\")].groupby(\n",
    "    [\"Nazwa\", \"Rok\"]).Wartosc.mean().diff())"
   ]
  },
  {
   "cell_type": "markdown",
   "metadata": {},
   "source": [
    "#### procentowa"
   ]
  },
  {
   "cell_type": "code",
   "execution_count": 92,
   "metadata": {},
   "outputs": [
    {
     "data": {
      "text/plain": "              Nazwa   Rok   Wartosc\n0      DOLNOŚLĄSKIE  1999       NaN\n1      DOLNOŚLĄSKIE  2000  0.041917\n2      DOLNOŚLĄSKIE  2001  0.076909\n3      DOLNOŚLĄSKIE  2002  0.059879\n4      DOLNOŚLĄSKIE  2003  0.053008\n..              ...   ...       ...\n369  ŚWIĘTOKRZYSKIE  2016  0.085767\n370  ŚWIĘTOKRZYSKIE  2017  0.097032\n371  ŚWIĘTOKRZYSKIE  2018  0.081763\n372  ŚWIĘTOKRZYSKIE  2019  0.049451\n373  ŚWIĘTOKRZYSKIE  2020  0.061766\n\n[374 rows x 3 columns]",
      "text/html": "<div>\n<style scoped>\n    .dataframe tbody tr th:only-of-type {\n        vertical-align: middle;\n    }\n\n    .dataframe tbody tr th {\n        vertical-align: top;\n    }\n\n    .dataframe thead th {\n        text-align: right;\n    }\n</style>\n<table border=\"1\" class=\"dataframe\">\n  <thead>\n    <tr style=\"text-align: right;\">\n      <th></th>\n      <th>Nazwa</th>\n      <th>Rok</th>\n      <th>Wartosc</th>\n    </tr>\n  </thead>\n  <tbody>\n    <tr>\n      <th>0</th>\n      <td>DOLNOŚLĄSKIE</td>\n      <td>1999</td>\n      <td>NaN</td>\n    </tr>\n    <tr>\n      <th>1</th>\n      <td>DOLNOŚLĄSKIE</td>\n      <td>2000</td>\n      <td>0.041917</td>\n    </tr>\n    <tr>\n      <th>2</th>\n      <td>DOLNOŚLĄSKIE</td>\n      <td>2001</td>\n      <td>0.076909</td>\n    </tr>\n    <tr>\n      <th>3</th>\n      <td>DOLNOŚLĄSKIE</td>\n      <td>2002</td>\n      <td>0.059879</td>\n    </tr>\n    <tr>\n      <th>4</th>\n      <td>DOLNOŚLĄSKIE</td>\n      <td>2003</td>\n      <td>0.053008</td>\n    </tr>\n    <tr>\n      <th>...</th>\n      <td>...</td>\n      <td>...</td>\n      <td>...</td>\n    </tr>\n    <tr>\n      <th>369</th>\n      <td>ŚWIĘTOKRZYSKIE</td>\n      <td>2016</td>\n      <td>0.085767</td>\n    </tr>\n    <tr>\n      <th>370</th>\n      <td>ŚWIĘTOKRZYSKIE</td>\n      <td>2017</td>\n      <td>0.097032</td>\n    </tr>\n    <tr>\n      <th>371</th>\n      <td>ŚWIĘTOKRZYSKIE</td>\n      <td>2018</td>\n      <td>0.081763</td>\n    </tr>\n    <tr>\n      <th>372</th>\n      <td>ŚWIĘTOKRZYSKIE</td>\n      <td>2019</td>\n      <td>0.049451</td>\n    </tr>\n    <tr>\n      <th>373</th>\n      <td>ŚWIĘTOKRZYSKIE</td>\n      <td>2020</td>\n      <td>0.061766</td>\n    </tr>\n  </tbody>\n</table>\n<p>374 rows × 3 columns</p>\n</div>"
     },
     "execution_count": 92,
     "metadata": {},
     "output_type": "execute_result"
    }
   ],
   "source": [
    "incomes_change_percent = pd.DataFrame(df_ludnosc[(df_ludnosc.Kategoria == \"Dochody\") & (df_ludnosc.Zmienna == \"ogółem\")].groupby(\n",
    "    [\"Nazwa\", \"Rok\"]).Wartosc.mean().pct_change())\n",
    "incomes_change_percent.reset_index(inplace=True)\n",
    "incomes_change_percent"
   ]
  },
  {
   "cell_type": "code",
   "execution_count": 97,
   "outputs": [
    {
     "data": {
      "application/vnd.plotly.v1+json": {
       "data": [
        {
         "hovertemplate": "<b>%{hovertext}</b><br><br>Nazwa=DOLNOŚLĄSKIE<br>Rok=%{x}<br>Wartosc=%{y}<extra></extra>",
         "hovertext": [
          "DOLNOŚLĄSKIE",
          "DOLNOŚLĄSKIE",
          "DOLNOŚLĄSKIE",
          "DOLNOŚLĄSKIE",
          "DOLNOŚLĄSKIE",
          "DOLNOŚLĄSKIE",
          "DOLNOŚLĄSKIE",
          "DOLNOŚLĄSKIE",
          "DOLNOŚLĄSKIE",
          "DOLNOŚLĄSKIE",
          "DOLNOŚLĄSKIE",
          "DOLNOŚLĄSKIE",
          "DOLNOŚLĄSKIE",
          "DOLNOŚLĄSKIE",
          "DOLNOŚLĄSKIE",
          "DOLNOŚLĄSKIE",
          "DOLNOŚLĄSKIE",
          "DOLNOŚLĄSKIE",
          "DOLNOŚLĄSKIE",
          "DOLNOŚLĄSKIE",
          "DOLNOŚLĄSKIE"
         ],
         "legendgroup": "DOLNOŚLĄSKIE",
         "line": {
          "color": "#636efa",
          "dash": "solid",
          "shape": "spline"
         },
         "marker": {
          "symbol": "circle"
         },
         "mode": "lines",
         "name": "DOLNOŚLĄSKIE",
         "orientation": "v",
         "showlegend": true,
         "x": [
          2000,
          2001,
          2002,
          2003,
          2004,
          2005,
          2006,
          2007,
          2008,
          2009,
          2010,
          2011,
          2012,
          2013,
          2014,
          2015,
          2016,
          2017,
          2018,
          2019,
          2020
         ],
         "xaxis": "x",
         "y": [
          0.041916992305176315,
          0.07690909691702741,
          0.05987941271229347,
          0.053007932372184596,
          0.029417425013059217,
          0.03883235851828104,
          0.09645988122477323,
          0.11486787497948359,
          0.17625347017750492,
          0.04978678133688552,
          0.05527736617103529,
          0.03531396015074617,
          0.06552968595324771,
          -0.016247256766642293,
          0.01601737074190024,
          0.07722146187231482,
          0.07758316121317543,
          0.025314779669993737,
          0.07952379195415027,
          0.11375676445457139,
          0.03889116202945986
         ],
         "yaxis": "y",
         "type": "scatter"
        },
        {
         "hovertemplate": "<b>%{hovertext}</b><br><br>Nazwa=KUJAWSKO-POMORSKIE<br>Rok=%{x}<br>Wartosc=%{y}<extra></extra>",
         "hovertext": [
          "KUJAWSKO-POMORSKIE",
          "KUJAWSKO-POMORSKIE",
          "KUJAWSKO-POMORSKIE",
          "KUJAWSKO-POMORSKIE",
          "KUJAWSKO-POMORSKIE",
          "KUJAWSKO-POMORSKIE",
          "KUJAWSKO-POMORSKIE",
          "KUJAWSKO-POMORSKIE",
          "KUJAWSKO-POMORSKIE",
          "KUJAWSKO-POMORSKIE",
          "KUJAWSKO-POMORSKIE",
          "KUJAWSKO-POMORSKIE",
          "KUJAWSKO-POMORSKIE",
          "KUJAWSKO-POMORSKIE",
          "KUJAWSKO-POMORSKIE",
          "KUJAWSKO-POMORSKIE",
          "KUJAWSKO-POMORSKIE",
          "KUJAWSKO-POMORSKIE",
          "KUJAWSKO-POMORSKIE",
          "KUJAWSKO-POMORSKIE",
          "KUJAWSKO-POMORSKIE"
         ],
         "legendgroup": "KUJAWSKO-POMORSKIE",
         "line": {
          "color": "#EF553B",
          "dash": "solid",
          "shape": "spline"
         },
         "marker": {
          "symbol": "circle"
         },
         "mode": "lines",
         "name": "KUJAWSKO-POMORSKIE",
         "orientation": "v",
         "showlegend": true,
         "x": [
          2000,
          2001,
          2002,
          2003,
          2004,
          2005,
          2006,
          2007,
          2008,
          2009,
          2010,
          2011,
          2012,
          2013,
          2014,
          2015,
          2016,
          2017,
          2018,
          2019,
          2020
         ],
         "xaxis": "x",
         "y": [
          0.11634300421151145,
          0.06278927604576023,
          0.0735250616269516,
          -0.018951686975690385,
          0.018693630434104103,
          0.017125176153421906,
          0.16123008343122192,
          0.1644446750012969,
          0.057981021962845825,
          0.0684780091374193,
          0.1413807032581602,
          -0.04277119353641379,
          0.02257110393709305,
          0.03124421280986267,
          0.027484179921327234,
          0.03674451121061306,
          0.05052621438720717,
          0.11303424191711953,
          0.10626480381723935,
          0.0989803454289313,
          0.04208219920714695
         ],
         "yaxis": "y",
         "type": "scatter"
        },
        {
         "hovertemplate": "<b>%{hovertext}</b><br><br>Nazwa=LUBELSKIE<br>Rok=%{x}<br>Wartosc=%{y}<extra></extra>",
         "hovertext": [
          "LUBELSKIE",
          "LUBELSKIE",
          "LUBELSKIE",
          "LUBELSKIE",
          "LUBELSKIE",
          "LUBELSKIE",
          "LUBELSKIE",
          "LUBELSKIE",
          "LUBELSKIE",
          "LUBELSKIE",
          "LUBELSKIE",
          "LUBELSKIE",
          "LUBELSKIE",
          "LUBELSKIE",
          "LUBELSKIE",
          "LUBELSKIE",
          "LUBELSKIE",
          "LUBELSKIE",
          "LUBELSKIE",
          "LUBELSKIE",
          "LUBELSKIE"
         ],
         "legendgroup": "LUBELSKIE",
         "line": {
          "color": "#00cc96",
          "dash": "solid",
          "shape": "spline"
         },
         "marker": {
          "symbol": "circle"
         },
         "mode": "lines",
         "name": "LUBELSKIE",
         "orientation": "v",
         "showlegend": true,
         "x": [
          2000,
          2001,
          2002,
          2003,
          2004,
          2005,
          2006,
          2007,
          2008,
          2009,
          2010,
          2011,
          2012,
          2013,
          2014,
          2015,
          2016,
          2017,
          2018,
          2019,
          2020
         ],
         "xaxis": "x",
         "y": [
          0.02177012056044325,
          0.10224622805094374,
          0.05097372656094601,
          0.11493066308798738,
          0.04425789327489893,
          -0.006398699571449673,
          0.07842408197867257,
          0.09172527927182461,
          0.11244173267139113,
          0.032215938770411734,
          0.07645848689204504,
          0.04835000868685424,
          0.029879118736595878,
          0.04650480382412803,
          0.09295573364207033,
          0.015219100426201004,
          0.05901821086782855,
          0.10579306310328374,
          0.06342145929916887,
          0.019028729650649057,
          0.07853490583005729
         ],
         "yaxis": "y",
         "type": "scatter"
        },
        {
         "hovertemplate": "<b>%{hovertext}</b><br><br>Nazwa=LUBUSKIE<br>Rok=%{x}<br>Wartosc=%{y}<extra></extra>",
         "hovertext": [
          "LUBUSKIE",
          "LUBUSKIE",
          "LUBUSKIE",
          "LUBUSKIE",
          "LUBUSKIE",
          "LUBUSKIE",
          "LUBUSKIE",
          "LUBUSKIE",
          "LUBUSKIE",
          "LUBUSKIE",
          "LUBUSKIE",
          "LUBUSKIE",
          "LUBUSKIE",
          "LUBUSKIE",
          "LUBUSKIE",
          "LUBUSKIE",
          "LUBUSKIE",
          "LUBUSKIE",
          "LUBUSKIE",
          "LUBUSKIE",
          "LUBUSKIE"
         ],
         "legendgroup": "LUBUSKIE",
         "line": {
          "color": "#ab63fa",
          "dash": "solid",
          "shape": "spline"
         },
         "marker": {
          "symbol": "circle"
         },
         "mode": "lines",
         "name": "LUBUSKIE",
         "orientation": "v",
         "showlegend": true,
         "x": [
          2000,
          2001,
          2002,
          2003,
          2004,
          2005,
          2006,
          2007,
          2008,
          2009,
          2010,
          2011,
          2012,
          2013,
          2014,
          2015,
          2016,
          2017,
          2018,
          2019,
          2020
         ],
         "xaxis": "x",
         "y": [
          0.10996613625605356,
          0.04100646261850871,
          0.023004443323984436,
          0.045420940763330586,
          -0.03591896869244937,
          0.05635955193544939,
          0.21850271247739594,
          0.08549311994681164,
          0.15811002953078868,
          0.041988553727593914,
          0.04508211579596133,
          0.03194109586665039,
          0.034683878341695396,
          0.005604470580590659,
          0.03821301067799632,
          0.10441351517461905,
          0.05560799673142758,
          0.06185436297146518,
          0.04630438471351983,
          0.07762074371279781,
          0.09885069003188196
         ],
         "yaxis": "y",
         "type": "scatter"
        },
        {
         "hovertemplate": "<b>%{hovertext}</b><br><br>Nazwa=MAZOWIECKIE<br>Rok=%{x}<br>Wartosc=%{y}<extra></extra>",
         "hovertext": [
          "MAZOWIECKIE",
          "MAZOWIECKIE",
          "MAZOWIECKIE",
          "MAZOWIECKIE",
          "MAZOWIECKIE",
          "MAZOWIECKIE",
          "MAZOWIECKIE",
          "MAZOWIECKIE",
          "MAZOWIECKIE",
          "MAZOWIECKIE",
          "MAZOWIECKIE",
          "MAZOWIECKIE",
          "MAZOWIECKIE",
          "MAZOWIECKIE",
          "MAZOWIECKIE",
          "MAZOWIECKIE",
          "MAZOWIECKIE",
          "MAZOWIECKIE",
          "MAZOWIECKIE",
          "MAZOWIECKIE",
          "MAZOWIECKIE"
         ],
         "legendgroup": "MAZOWIECKIE",
         "line": {
          "color": "#FFA15A",
          "dash": "solid",
          "shape": "spline"
         },
         "marker": {
          "symbol": "circle"
         },
         "mode": "lines",
         "name": "MAZOWIECKIE",
         "orientation": "v",
         "showlegend": true,
         "x": [
          2000,
          2001,
          2002,
          2003,
          2004,
          2005,
          2006,
          2007,
          2008,
          2009,
          2010,
          2011,
          2012,
          2013,
          2014,
          2015,
          2016,
          2017,
          2018,
          2019,
          2020
         ],
         "xaxis": "x",
         "y": [
          0.10324240864642298,
          0.028230213525977765,
          0.031162501296277068,
          0.12985870166440394,
          0.04606244019671113,
          -0.002350613712267857,
          0.11815942940605773,
          0.15098207475209757,
          0.1071200762125668,
          0.07652305343968391,
          0.1134611775663259,
          0.013102617402323435,
          0.053636565288115445,
          -0.01145607335629617,
          0.007808710261355101,
          0.030834340991535703,
          0.014081940608718035,
          0.0736770585328601,
          0.06249705819286744,
          0.037615857530308716,
          0.06286023311084854
         ],
         "yaxis": "y",
         "type": "scatter"
        },
        {
         "hovertemplate": "<b>%{hovertext}</b><br><br>Nazwa=MAŁOPOLSKIE<br>Rok=%{x}<br>Wartosc=%{y}<extra></extra>",
         "hovertext": [
          "MAŁOPOLSKIE",
          "MAŁOPOLSKIE",
          "MAŁOPOLSKIE",
          "MAŁOPOLSKIE",
          "MAŁOPOLSKIE",
          "MAŁOPOLSKIE",
          "MAŁOPOLSKIE",
          "MAŁOPOLSKIE",
          "MAŁOPOLSKIE",
          "MAŁOPOLSKIE",
          "MAŁOPOLSKIE",
          "MAŁOPOLSKIE",
          "MAŁOPOLSKIE",
          "MAŁOPOLSKIE",
          "MAŁOPOLSKIE",
          "MAŁOPOLSKIE",
          "MAŁOPOLSKIE",
          "MAŁOPOLSKIE",
          "MAŁOPOLSKIE",
          "MAŁOPOLSKIE",
          "MAŁOPOLSKIE"
         ],
         "legendgroup": "MAŁOPOLSKIE",
         "line": {
          "color": "#19d3f3",
          "dash": "solid",
          "shape": "spline"
         },
         "marker": {
          "symbol": "circle"
         },
         "mode": "lines",
         "name": "MAŁOPOLSKIE",
         "orientation": "v",
         "showlegend": true,
         "x": [
          2000,
          2001,
          2002,
          2003,
          2004,
          2005,
          2006,
          2007,
          2008,
          2009,
          2010,
          2011,
          2012,
          2013,
          2014,
          2015,
          2016,
          2017,
          2018,
          2019,
          2020
         ],
         "xaxis": "x",
         "y": [
          0.0427946037702136,
          0.08032899246058944,
          0.0018557289684051348,
          0.06362700862819604,
          0.06812633960466785,
          0.020428923788687436,
          0.04483318994360008,
          0.12974774539275913,
          0.15776808542637988,
          0.040959689829526136,
          0.06317375903545064,
          0.04446791989454102,
          0.02857044061584202,
          0.031903449203254164,
          0.026698159309333835,
          0.035594726237129004,
          0.09039794706806092,
          0.04808705548452363,
          0.09111809693614226,
          0.08921583684000378,
          0.07989487219978786
         ],
         "yaxis": "y",
         "type": "scatter"
        },
        {
         "hovertemplate": "<b>%{hovertext}</b><br><br>Nazwa=OPOLSKIE<br>Rok=%{x}<br>Wartosc=%{y}<extra></extra>",
         "hovertext": [
          "OPOLSKIE",
          "OPOLSKIE",
          "OPOLSKIE",
          "OPOLSKIE",
          "OPOLSKIE",
          "OPOLSKIE",
          "OPOLSKIE",
          "OPOLSKIE",
          "OPOLSKIE",
          "OPOLSKIE",
          "OPOLSKIE",
          "OPOLSKIE",
          "OPOLSKIE",
          "OPOLSKIE",
          "OPOLSKIE",
          "OPOLSKIE",
          "OPOLSKIE",
          "OPOLSKIE",
          "OPOLSKIE",
          "OPOLSKIE",
          "OPOLSKIE"
         ],
         "legendgroup": "OPOLSKIE",
         "line": {
          "color": "#FF6692",
          "dash": "solid",
          "shape": "spline"
         },
         "marker": {
          "symbol": "circle"
         },
         "mode": "lines",
         "name": "OPOLSKIE",
         "orientation": "v",
         "showlegend": true,
         "x": [
          2000,
          2001,
          2002,
          2003,
          2004,
          2005,
          2006,
          2007,
          2008,
          2009,
          2010,
          2011,
          2012,
          2013,
          2014,
          2015,
          2016,
          2017,
          2018,
          2019,
          2020
         ],
         "xaxis": "x",
         "y": [
          0.2099607642106509,
          0.026886976926085326,
          0.019058046907232784,
          0.07792086454164648,
          0.07571182988313141,
          0.06937580575848723,
          -0.0017581313575285584,
          0.15196880110705746,
          0.17951294091951508,
          0.0020276275831419,
          0.03091649957958742,
          0.059306463033171,
          0.09506726457399095,
          -0.073764158669819,
          0.03828860767941,
          0.03539033815648884,
          0.07851079348821322,
          0.08691867157822042,
          0.05200796965705323,
          0.06165607500157311,
          0.014253625636375444
         ],
         "yaxis": "y",
         "type": "scatter"
        },
        {
         "hovertemplate": "<b>%{hovertext}</b><br><br>Nazwa=PODKARPACKIE<br>Rok=%{x}<br>Wartosc=%{y}<extra></extra>",
         "hovertext": [
          "PODKARPACKIE",
          "PODKARPACKIE",
          "PODKARPACKIE",
          "PODKARPACKIE",
          "PODKARPACKIE",
          "PODKARPACKIE",
          "PODKARPACKIE",
          "PODKARPACKIE",
          "PODKARPACKIE",
          "PODKARPACKIE",
          "PODKARPACKIE",
          "PODKARPACKIE",
          "PODKARPACKIE",
          "PODKARPACKIE",
          "PODKARPACKIE",
          "PODKARPACKIE",
          "PODKARPACKIE",
          "PODKARPACKIE",
          "PODKARPACKIE",
          "PODKARPACKIE",
          "PODKARPACKIE"
         ],
         "legendgroup": "PODKARPACKIE",
         "line": {
          "color": "#B6E880",
          "dash": "solid",
          "shape": "spline"
         },
         "marker": {
          "symbol": "circle"
         },
         "mode": "lines",
         "name": "PODKARPACKIE",
         "orientation": "v",
         "showlegend": true,
         "x": [
          2000,
          2001,
          2002,
          2003,
          2004,
          2005,
          2006,
          2007,
          2008,
          2009,
          2010,
          2011,
          2012,
          2013,
          2014,
          2015,
          2016,
          2017,
          2018,
          2019,
          2020
         ],
         "xaxis": "x",
         "y": [
          0.042739703045046484,
          0.060878484373114494,
          0.020796602779199702,
          0.0810830888088252,
          0.005686112828970025,
          0.05737662914438957,
          0.044812768569674644,
          0.08335394891458958,
          0.12930480825495594,
          0.05474743134454729,
          0.08709665823937507,
          0.033694118684419294,
          0.02267953297435632,
          0.040213946117274135,
          0.055458108230011405,
          0.027178970959715887,
          0.04850042528013021,
          0.10598712635570062,
          0.07411305110420163,
          0.09220937309799138,
          0.07956561036772247
         ],
         "yaxis": "y",
         "type": "scatter"
        },
        {
         "hovertemplate": "<b>%{hovertext}</b><br><br>Nazwa=PODLASKIE<br>Rok=%{x}<br>Wartosc=%{y}<extra></extra>",
         "hovertext": [
          "PODLASKIE",
          "PODLASKIE",
          "PODLASKIE",
          "PODLASKIE",
          "PODLASKIE",
          "PODLASKIE",
          "PODLASKIE",
          "PODLASKIE",
          "PODLASKIE",
          "PODLASKIE",
          "PODLASKIE",
          "PODLASKIE",
          "PODLASKIE",
          "PODLASKIE",
          "PODLASKIE",
          "PODLASKIE",
          "PODLASKIE",
          "PODLASKIE",
          "PODLASKIE",
          "PODLASKIE",
          "PODLASKIE"
         ],
         "legendgroup": "PODLASKIE",
         "line": {
          "color": "#FF97FF",
          "dash": "solid",
          "shape": "spline"
         },
         "marker": {
          "symbol": "circle"
         },
         "mode": "lines",
         "name": "PODLASKIE",
         "orientation": "v",
         "showlegend": true,
         "x": [
          2000,
          2001,
          2002,
          2003,
          2004,
          2005,
          2006,
          2007,
          2008,
          2009,
          2010,
          2011,
          2012,
          2013,
          2014,
          2015,
          2016,
          2017,
          2018,
          2019,
          2020
         ],
         "xaxis": "x",
         "y": [
          0.09552132899240329,
          0.11003371878155188,
          0.06780620913350144,
          -0.022886531661845066,
          0.060727679452595495,
          0.12374395236323044,
          0.12615223270960985,
          0.08318833476289678,
          0.05824726524055701,
          0.08903450634968135,
          0.08287444663663046,
          0.11033357505438723,
          0.014262155895895301,
          0.012709374673009366,
          3.4971148802243057E-4,
          -5.482194784763861E-4,
          0.1287035049645051,
          0.11673228485100329,
          0.007057398916477942,
          0.09077131190661092,
          0.11862548085204105
         ],
         "yaxis": "y",
         "type": "scatter"
        },
        {
         "hovertemplate": "<b>%{hovertext}</b><br><br>Nazwa=POLSKA<br>Rok=%{x}<br>Wartosc=%{y}<extra></extra>",
         "hovertext": [
          "POLSKA",
          "POLSKA",
          "POLSKA",
          "POLSKA",
          "POLSKA",
          "POLSKA",
          "POLSKA",
          "POLSKA",
          "POLSKA",
          "POLSKA",
          "POLSKA",
          "POLSKA",
          "POLSKA",
          "POLSKA",
          "POLSKA",
          "POLSKA",
          "POLSKA",
          "POLSKA",
          "POLSKA",
          "POLSKA",
          "POLSKA"
         ],
         "legendgroup": "POLSKA",
         "line": {
          "color": "#FECB52",
          "dash": "solid",
          "shape": "spline"
         },
         "marker": {
          "symbol": "circle"
         },
         "mode": "lines",
         "name": "POLSKA",
         "orientation": "v",
         "showlegend": true,
         "x": [
          2000,
          2001,
          2002,
          2003,
          2004,
          2005,
          2006,
          2007,
          2008,
          2009,
          2010,
          2011,
          2012,
          2013,
          2014,
          2015,
          2016,
          2017,
          2018,
          2019,
          2020
         ],
         "xaxis": "x",
         "y": [
          0.08935995574826472,
          0.055642004225975095,
          0.03061382820258185,
          0.0718899143343219,
          0.03292319793246801,
          0.035436497144411216,
          0.09615738187166767,
          0.11284564144342735,
          0.1255826972558054,
          0.06596717422909171,
          0.07028326858024747,
          0.028612866987475005,
          0.041957699987774655,
          0.016144802609450615,
          0.03184585896064118,
          0.034108203276536075,
          0.06377330178334395,
          0.08380126953125,
          0.05965096706776052,
          0.07421492093111137,
          0.05500950998823617
         ],
         "yaxis": "y",
         "type": "scatter"
        },
        {
         "hovertemplate": "<b>%{hovertext}</b><br><br>Nazwa=POMORSKIE<br>Rok=%{x}<br>Wartosc=%{y}<extra></extra>",
         "hovertext": [
          "POMORSKIE",
          "POMORSKIE",
          "POMORSKIE",
          "POMORSKIE",
          "POMORSKIE",
          "POMORSKIE",
          "POMORSKIE",
          "POMORSKIE",
          "POMORSKIE",
          "POMORSKIE",
          "POMORSKIE",
          "POMORSKIE",
          "POMORSKIE",
          "POMORSKIE",
          "POMORSKIE",
          "POMORSKIE",
          "POMORSKIE",
          "POMORSKIE",
          "POMORSKIE",
          "POMORSKIE",
          "POMORSKIE"
         ],
         "legendgroup": "POMORSKIE",
         "line": {
          "color": "#636efa",
          "dash": "solid",
          "shape": "spline"
         },
         "marker": {
          "symbol": "circle"
         },
         "mode": "lines",
         "name": "POMORSKIE",
         "orientation": "v",
         "showlegend": true,
         "x": [
          2000,
          2001,
          2002,
          2003,
          2004,
          2005,
          2006,
          2007,
          2008,
          2009,
          2010,
          2011,
          2012,
          2013,
          2014,
          2015,
          2016,
          2017,
          2018,
          2019,
          2020
         ],
         "xaxis": "x",
         "y": [
          0.11269888816450235,
          0.08167983657698463,
          0.08838040025180427,
          0.03508016786828794,
          -0.021052084416259498,
          0.06339935220092396,
          0.13660308583412384,
          0.13140986919418784,
          0.06992117729284764,
          0.05653290267558231,
          0.06751395448690434,
          0.035250016088551384,
          0.04943509409918101,
          0.061515223314773104,
          -0.0399681928517619,
          0.0033276661290089216,
          0.12993511571995486,
          0.056839811580735145,
          0.053667588415077905,
          0.07046744247614445,
          -0.03272078194389183
         ],
         "yaxis": "y",
         "type": "scatter"
        },
        {
         "hovertemplate": "<b>%{hovertext}</b><br><br>Nazwa=WARMIŃSKO-MAZURSKIE<br>Rok=%{x}<br>Wartosc=%{y}<extra></extra>",
         "hovertext": [
          "WARMIŃSKO-MAZURSKIE",
          "WARMIŃSKO-MAZURSKIE",
          "WARMIŃSKO-MAZURSKIE",
          "WARMIŃSKO-MAZURSKIE",
          "WARMIŃSKO-MAZURSKIE",
          "WARMIŃSKO-MAZURSKIE",
          "WARMIŃSKO-MAZURSKIE",
          "WARMIŃSKO-MAZURSKIE",
          "WARMIŃSKO-MAZURSKIE",
          "WARMIŃSKO-MAZURSKIE",
          "WARMIŃSKO-MAZURSKIE",
          "WARMIŃSKO-MAZURSKIE",
          "WARMIŃSKO-MAZURSKIE",
          "WARMIŃSKO-MAZURSKIE",
          "WARMIŃSKO-MAZURSKIE",
          "WARMIŃSKO-MAZURSKIE",
          "WARMIŃSKO-MAZURSKIE",
          "WARMIŃSKO-MAZURSKIE",
          "WARMIŃSKO-MAZURSKIE",
          "WARMIŃSKO-MAZURSKIE",
          "WARMIŃSKO-MAZURSKIE"
         ],
         "legendgroup": "WARMIŃSKO-MAZURSKIE",
         "line": {
          "color": "#EF553B",
          "dash": "solid",
          "shape": "spline"
         },
         "marker": {
          "symbol": "circle"
         },
         "mode": "lines",
         "name": "WARMIŃSKO-MAZURSKIE",
         "orientation": "v",
         "showlegend": true,
         "x": [
          2000,
          2001,
          2002,
          2003,
          2004,
          2005,
          2006,
          2007,
          2008,
          2009,
          2010,
          2011,
          2012,
          2013,
          2014,
          2015,
          2016,
          2017,
          2018,
          2019,
          2020
         ],
         "xaxis": "x",
         "y": [
          0.17290150881033628,
          0.060238979670259374,
          0.021590928703336232,
          0.08146371131233954,
          0.027400256193957473,
          0.06626322831772291,
          0.06449818897413229,
          0.11903709359803871,
          0.17203567366971928,
          0.10747043082140006,
          0.017624598812114867,
          -0.005909062072340654,
          0.011924840683034343,
          -8.829226541735569E-4,
          0.10890285580313264,
          0.041285149706441926,
          0.07128409774230571,
          0.09065527522434191,
          0.039207298733415774,
          0.027250918118612466,
          0.1796103131769744
         ],
         "yaxis": "y",
         "type": "scatter"
        },
        {
         "hovertemplate": "<b>%{hovertext}</b><br><br>Nazwa=WIELKOPOLSKIE<br>Rok=%{x}<br>Wartosc=%{y}<extra></extra>",
         "hovertext": [
          "WIELKOPOLSKIE",
          "WIELKOPOLSKIE",
          "WIELKOPOLSKIE",
          "WIELKOPOLSKIE",
          "WIELKOPOLSKIE",
          "WIELKOPOLSKIE",
          "WIELKOPOLSKIE",
          "WIELKOPOLSKIE",
          "WIELKOPOLSKIE",
          "WIELKOPOLSKIE",
          "WIELKOPOLSKIE",
          "WIELKOPOLSKIE",
          "WIELKOPOLSKIE",
          "WIELKOPOLSKIE",
          "WIELKOPOLSKIE",
          "WIELKOPOLSKIE",
          "WIELKOPOLSKIE",
          "WIELKOPOLSKIE",
          "WIELKOPOLSKIE",
          "WIELKOPOLSKIE",
          "WIELKOPOLSKIE"
         ],
         "legendgroup": "WIELKOPOLSKIE",
         "line": {
          "color": "#00cc96",
          "dash": "solid",
          "shape": "spline"
         },
         "marker": {
          "symbol": "circle"
         },
         "mode": "lines",
         "name": "WIELKOPOLSKIE",
         "orientation": "v",
         "showlegend": true,
         "x": [
          2000,
          2001,
          2002,
          2003,
          2004,
          2005,
          2006,
          2007,
          2008,
          2009,
          2010,
          2011,
          2012,
          2013,
          2014,
          2015,
          2016,
          2017,
          2018,
          2019,
          2020
         ],
         "xaxis": "x",
         "y": [
          0.0816837437190423,
          0.053445967168669783,
          0.003012993534618147,
          0.08037111208461112,
          0.014945042213951654,
          0.053877434543768254,
          0.10228672777243752,
          0.09256165864203592,
          0.1450107923374404,
          0.07738755633228922,
          0.02589011509755501,
          0.008243466519800347,
          0.01621997850258139,
          0.04620132994633397,
          0.05142866613630326,
          0.014982896956131198,
          0.08712600656939418,
          0.1476081972014085,
          0.014527212069909812,
          0.10859028945140436,
          -0.00987836057953051
         ],
         "yaxis": "y",
         "type": "scatter"
        },
        {
         "hovertemplate": "<b>%{hovertext}</b><br><br>Nazwa=ZACHODNIOPOMORSKIE<br>Rok=%{x}<br>Wartosc=%{y}<extra></extra>",
         "hovertext": [
          "ZACHODNIOPOMORSKIE",
          "ZACHODNIOPOMORSKIE",
          "ZACHODNIOPOMORSKIE",
          "ZACHODNIOPOMORSKIE",
          "ZACHODNIOPOMORSKIE",
          "ZACHODNIOPOMORSKIE",
          "ZACHODNIOPOMORSKIE",
          "ZACHODNIOPOMORSKIE",
          "ZACHODNIOPOMORSKIE",
          "ZACHODNIOPOMORSKIE",
          "ZACHODNIOPOMORSKIE",
          "ZACHODNIOPOMORSKIE",
          "ZACHODNIOPOMORSKIE",
          "ZACHODNIOPOMORSKIE",
          "ZACHODNIOPOMORSKIE",
          "ZACHODNIOPOMORSKIE",
          "ZACHODNIOPOMORSKIE",
          "ZACHODNIOPOMORSKIE",
          "ZACHODNIOPOMORSKIE",
          "ZACHODNIOPOMORSKIE",
          "ZACHODNIOPOMORSKIE"
         ],
         "legendgroup": "ZACHODNIOPOMORSKIE",
         "line": {
          "color": "#ab63fa",
          "dash": "solid",
          "shape": "spline"
         },
         "marker": {
          "symbol": "circle"
         },
         "mode": "lines",
         "name": "ZACHODNIOPOMORSKIE",
         "orientation": "v",
         "showlegend": true,
         "x": [
          2000,
          2001,
          2002,
          2003,
          2004,
          2005,
          2006,
          2007,
          2008,
          2009,
          2010,
          2011,
          2012,
          2013,
          2014,
          2015,
          2016,
          2017,
          2018,
          2019,
          2020
         ],
         "xaxis": "x",
         "y": [
          0.020619777394363714,
          0.06624459287004658,
          0.0184194982435415,
          0.07625269005937207,
          0.08067786995674675,
          6.561335362973431E-4,
          0.09469667165001172,
          0.08244384546271344,
          0.1608508471950154,
          0.08652791945924809,
          0.041450595347776176,
          0.037231129571745125,
          0.026366663959060954,
          -0.006062236854601277,
          0.0871884704196193,
          0.04500512670279777,
          0.03928233521393287,
          0.1144379256861554,
          0.042133607648553895,
          0.04580108347897793,
          0.03385689935650804
         ],
         "yaxis": "y",
         "type": "scatter"
        },
        {
         "hovertemplate": "<b>%{hovertext}</b><br><br>Nazwa=ŁÓDZKIE<br>Rok=%{x}<br>Wartosc=%{y}<extra></extra>",
         "hovertext": [
          "ŁÓDZKIE",
          "ŁÓDZKIE",
          "ŁÓDZKIE",
          "ŁÓDZKIE",
          "ŁÓDZKIE",
          "ŁÓDZKIE",
          "ŁÓDZKIE",
          "ŁÓDZKIE",
          "ŁÓDZKIE",
          "ŁÓDZKIE",
          "ŁÓDZKIE",
          "ŁÓDZKIE",
          "ŁÓDZKIE",
          "ŁÓDZKIE",
          "ŁÓDZKIE",
          "ŁÓDZKIE",
          "ŁÓDZKIE",
          "ŁÓDZKIE",
          "ŁÓDZKIE",
          "ŁÓDZKIE",
          "ŁÓDZKIE"
         ],
         "legendgroup": "ŁÓDZKIE",
         "line": {
          "color": "#FFA15A",
          "dash": "solid",
          "shape": "spline"
         },
         "marker": {
          "symbol": "circle"
         },
         "mode": "lines",
         "name": "ŁÓDZKIE",
         "orientation": "v",
         "showlegend": true,
         "x": [
          2000,
          2001,
          2002,
          2003,
          2004,
          2005,
          2006,
          2007,
          2008,
          2009,
          2010,
          2011,
          2012,
          2013,
          2014,
          2015,
          2016,
          2017,
          2018,
          2019,
          2020
         ],
         "xaxis": "x",
         "y": [
          0.10001392224426575,
          0.020535050388394094,
          0.02393538685724028,
          0.08090717778686174,
          0.02322291476994187,
          0.05261933117052009,
          0.08833894690300004,
          0.08852909547138244,
          0.11237225436064069,
          0.10039867371911271,
          0.05706214689265532,
          0.020751147421377292,
          0.05421421388143188,
          0.022114126235789344,
          -0.0023988214150731935,
          0.053094266097606146,
          0.07062986865193865,
          0.07391838050238997,
          0.03478882772889236,
          0.11672323356988579,
          0.034360235404636175
         ],
         "yaxis": "y",
         "type": "scatter"
        },
        {
         "hovertemplate": "<b>%{hovertext}</b><br><br>Nazwa=ŚLĄSKIE<br>Rok=%{x}<br>Wartosc=%{y}<extra></extra>",
         "hovertext": [
          "ŚLĄSKIE",
          "ŚLĄSKIE",
          "ŚLĄSKIE",
          "ŚLĄSKIE",
          "ŚLĄSKIE",
          "ŚLĄSKIE",
          "ŚLĄSKIE",
          "ŚLĄSKIE",
          "ŚLĄSKIE",
          "ŚLĄSKIE",
          "ŚLĄSKIE",
          "ŚLĄSKIE",
          "ŚLĄSKIE",
          "ŚLĄSKIE",
          "ŚLĄSKIE",
          "ŚLĄSKIE",
          "ŚLĄSKIE",
          "ŚLĄSKIE",
          "ŚLĄSKIE",
          "ŚLĄSKIE",
          "ŚLĄSKIE"
         ],
         "legendgroup": "ŚLĄSKIE",
         "line": {
          "color": "#19d3f3",
          "dash": "solid",
          "shape": "spline"
         },
         "marker": {
          "symbol": "circle"
         },
         "mode": "lines",
         "name": "ŚLĄSKIE",
         "orientation": "v",
         "showlegend": true,
         "x": [
          2000,
          2001,
          2002,
          2003,
          2004,
          2005,
          2006,
          2007,
          2008,
          2009,
          2010,
          2011,
          2012,
          2013,
          2014,
          2015,
          2016,
          2017,
          2018,
          2019,
          2020
         ],
         "xaxis": "x",
         "y": [
          0.10078363082281228,
          0.04875192041496179,
          -3.3359440721725253E-4,
          0.053363898843637125,
          0.030688282530543676,
          0.05950901388499119,
          0.06949875129285332,
          0.0841470893480516,
          0.13250731558736817,
          0.07009067506819844,
          0.04880391364839998,
          0.040242378596737405,
          0.05218686237082859,
          0.03131670928241337,
          0.04758438722591207,
          0.02812518093914651,
          0.06524983456995237,
          0.08757426167866078,
          0.06761658818168015,
          0.07988480560946587,
          0.0806212744875856
         ],
         "yaxis": "y",
         "type": "scatter"
        },
        {
         "hovertemplate": "<b>%{hovertext}</b><br><br>Nazwa=ŚWIĘTOKRZYSKIE<br>Rok=%{x}<br>Wartosc=%{y}<extra></extra>",
         "hovertext": [
          "ŚWIĘTOKRZYSKIE",
          "ŚWIĘTOKRZYSKIE",
          "ŚWIĘTOKRZYSKIE",
          "ŚWIĘTOKRZYSKIE",
          "ŚWIĘTOKRZYSKIE",
          "ŚWIĘTOKRZYSKIE",
          "ŚWIĘTOKRZYSKIE",
          "ŚWIĘTOKRZYSKIE",
          "ŚWIĘTOKRZYSKIE",
          "ŚWIĘTOKRZYSKIE",
          "ŚWIĘTOKRZYSKIE",
          "ŚWIĘTOKRZYSKIE",
          "ŚWIĘTOKRZYSKIE",
          "ŚWIĘTOKRZYSKIE",
          "ŚWIĘTOKRZYSKIE",
          "ŚWIĘTOKRZYSKIE",
          "ŚWIĘTOKRZYSKIE",
          "ŚWIĘTOKRZYSKIE",
          "ŚWIĘTOKRZYSKIE",
          "ŚWIĘTOKRZYSKIE",
          "ŚWIĘTOKRZYSKIE"
         ],
         "legendgroup": "ŚWIĘTOKRZYSKIE",
         "line": {
          "color": "#FF6692",
          "dash": "solid",
          "shape": "spline"
         },
         "marker": {
          "symbol": "circle"
         },
         "mode": "lines",
         "name": "ŚWIĘTOKRZYSKIE",
         "orientation": "v",
         "showlegend": true,
         "x": [
          2000,
          2001,
          2002,
          2003,
          2004,
          2005,
          2006,
          2007,
          2008,
          2009,
          2010,
          2011,
          2012,
          2013,
          2014,
          2015,
          2016,
          2017,
          2018,
          2019,
          2020
         ],
         "xaxis": "x",
         "y": [
          0.1095928492002396,
          0.07356087031933556,
          0.03820055290273938,
          0.04478334543694018,
          0.018568780616973424,
          0.009017645338446068,
          0.12468398254456448,
          0.11043181948342018,
          0.13230269350284307,
          0.0679928943952266,
          0.09432875923615769,
          0.03548462527768037,
          0.053614106400195816,
          0.030006429949274827,
          0.04021294305333978,
          0.0025505526197342476,
          0.08576654472896572,
          0.09703206836350264,
          0.08176285004327544,
          0.04945090397594565,
          0.061766044046579704
         ],
         "yaxis": "y",
         "type": "scatter"
        }
       ],
       "layout": {
        "template": {
         "data": {
          "bar": [
           {
            "error_x": {
             "color": "#2a3f5f"
            },
            "error_y": {
             "color": "#2a3f5f"
            },
            "marker": {
             "line": {
              "color": "#E5ECF6",
              "width": 0.5
             },
             "pattern": {
              "fillmode": "overlay",
              "size": 10,
              "solidity": 0.2
             }
            },
            "type": "bar"
           }
          ],
          "barpolar": [
           {
            "marker": {
             "line": {
              "color": "#E5ECF6",
              "width": 0.5
             },
             "pattern": {
              "fillmode": "overlay",
              "size": 10,
              "solidity": 0.2
             }
            },
            "type": "barpolar"
           }
          ],
          "carpet": [
           {
            "aaxis": {
             "endlinecolor": "#2a3f5f",
             "gridcolor": "white",
             "linecolor": "white",
             "minorgridcolor": "white",
             "startlinecolor": "#2a3f5f"
            },
            "baxis": {
             "endlinecolor": "#2a3f5f",
             "gridcolor": "white",
             "linecolor": "white",
             "minorgridcolor": "white",
             "startlinecolor": "#2a3f5f"
            },
            "type": "carpet"
           }
          ],
          "choropleth": [
           {
            "colorbar": {
             "outlinewidth": 0,
             "ticks": ""
            },
            "type": "choropleth"
           }
          ],
          "contour": [
           {
            "colorbar": {
             "outlinewidth": 0,
             "ticks": ""
            },
            "colorscale": [
             [
              0.0,
              "#0d0887"
             ],
             [
              0.1111111111111111,
              "#46039f"
             ],
             [
              0.2222222222222222,
              "#7201a8"
             ],
             [
              0.3333333333333333,
              "#9c179e"
             ],
             [
              0.4444444444444444,
              "#bd3786"
             ],
             [
              0.5555555555555556,
              "#d8576b"
             ],
             [
              0.6666666666666666,
              "#ed7953"
             ],
             [
              0.7777777777777778,
              "#fb9f3a"
             ],
             [
              0.8888888888888888,
              "#fdca26"
             ],
             [
              1.0,
              "#f0f921"
             ]
            ],
            "type": "contour"
           }
          ],
          "contourcarpet": [
           {
            "colorbar": {
             "outlinewidth": 0,
             "ticks": ""
            },
            "type": "contourcarpet"
           }
          ],
          "heatmap": [
           {
            "colorbar": {
             "outlinewidth": 0,
             "ticks": ""
            },
            "colorscale": [
             [
              0.0,
              "#0d0887"
             ],
             [
              0.1111111111111111,
              "#46039f"
             ],
             [
              0.2222222222222222,
              "#7201a8"
             ],
             [
              0.3333333333333333,
              "#9c179e"
             ],
             [
              0.4444444444444444,
              "#bd3786"
             ],
             [
              0.5555555555555556,
              "#d8576b"
             ],
             [
              0.6666666666666666,
              "#ed7953"
             ],
             [
              0.7777777777777778,
              "#fb9f3a"
             ],
             [
              0.8888888888888888,
              "#fdca26"
             ],
             [
              1.0,
              "#f0f921"
             ]
            ],
            "type": "heatmap"
           }
          ],
          "heatmapgl": [
           {
            "colorbar": {
             "outlinewidth": 0,
             "ticks": ""
            },
            "colorscale": [
             [
              0.0,
              "#0d0887"
             ],
             [
              0.1111111111111111,
              "#46039f"
             ],
             [
              0.2222222222222222,
              "#7201a8"
             ],
             [
              0.3333333333333333,
              "#9c179e"
             ],
             [
              0.4444444444444444,
              "#bd3786"
             ],
             [
              0.5555555555555556,
              "#d8576b"
             ],
             [
              0.6666666666666666,
              "#ed7953"
             ],
             [
              0.7777777777777778,
              "#fb9f3a"
             ],
             [
              0.8888888888888888,
              "#fdca26"
             ],
             [
              1.0,
              "#f0f921"
             ]
            ],
            "type": "heatmapgl"
           }
          ],
          "histogram": [
           {
            "marker": {
             "pattern": {
              "fillmode": "overlay",
              "size": 10,
              "solidity": 0.2
             }
            },
            "type": "histogram"
           }
          ],
          "histogram2d": [
           {
            "colorbar": {
             "outlinewidth": 0,
             "ticks": ""
            },
            "colorscale": [
             [
              0.0,
              "#0d0887"
             ],
             [
              0.1111111111111111,
              "#46039f"
             ],
             [
              0.2222222222222222,
              "#7201a8"
             ],
             [
              0.3333333333333333,
              "#9c179e"
             ],
             [
              0.4444444444444444,
              "#bd3786"
             ],
             [
              0.5555555555555556,
              "#d8576b"
             ],
             [
              0.6666666666666666,
              "#ed7953"
             ],
             [
              0.7777777777777778,
              "#fb9f3a"
             ],
             [
              0.8888888888888888,
              "#fdca26"
             ],
             [
              1.0,
              "#f0f921"
             ]
            ],
            "type": "histogram2d"
           }
          ],
          "histogram2dcontour": [
           {
            "colorbar": {
             "outlinewidth": 0,
             "ticks": ""
            },
            "colorscale": [
             [
              0.0,
              "#0d0887"
             ],
             [
              0.1111111111111111,
              "#46039f"
             ],
             [
              0.2222222222222222,
              "#7201a8"
             ],
             [
              0.3333333333333333,
              "#9c179e"
             ],
             [
              0.4444444444444444,
              "#bd3786"
             ],
             [
              0.5555555555555556,
              "#d8576b"
             ],
             [
              0.6666666666666666,
              "#ed7953"
             ],
             [
              0.7777777777777778,
              "#fb9f3a"
             ],
             [
              0.8888888888888888,
              "#fdca26"
             ],
             [
              1.0,
              "#f0f921"
             ]
            ],
            "type": "histogram2dcontour"
           }
          ],
          "mesh3d": [
           {
            "colorbar": {
             "outlinewidth": 0,
             "ticks": ""
            },
            "type": "mesh3d"
           }
          ],
          "parcoords": [
           {
            "line": {
             "colorbar": {
              "outlinewidth": 0,
              "ticks": ""
             }
            },
            "type": "parcoords"
           }
          ],
          "pie": [
           {
            "automargin": true,
            "type": "pie"
           }
          ],
          "scatter": [
           {
            "marker": {
             "colorbar": {
              "outlinewidth": 0,
              "ticks": ""
             }
            },
            "type": "scatter"
           }
          ],
          "scatter3d": [
           {
            "line": {
             "colorbar": {
              "outlinewidth": 0,
              "ticks": ""
             }
            },
            "marker": {
             "colorbar": {
              "outlinewidth": 0,
              "ticks": ""
             }
            },
            "type": "scatter3d"
           }
          ],
          "scattercarpet": [
           {
            "marker": {
             "colorbar": {
              "outlinewidth": 0,
              "ticks": ""
             }
            },
            "type": "scattercarpet"
           }
          ],
          "scattergeo": [
           {
            "marker": {
             "colorbar": {
              "outlinewidth": 0,
              "ticks": ""
             }
            },
            "type": "scattergeo"
           }
          ],
          "scattergl": [
           {
            "marker": {
             "colorbar": {
              "outlinewidth": 0,
              "ticks": ""
             }
            },
            "type": "scattergl"
           }
          ],
          "scattermapbox": [
           {
            "marker": {
             "colorbar": {
              "outlinewidth": 0,
              "ticks": ""
             }
            },
            "type": "scattermapbox"
           }
          ],
          "scatterpolar": [
           {
            "marker": {
             "colorbar": {
              "outlinewidth": 0,
              "ticks": ""
             }
            },
            "type": "scatterpolar"
           }
          ],
          "scatterpolargl": [
           {
            "marker": {
             "colorbar": {
              "outlinewidth": 0,
              "ticks": ""
             }
            },
            "type": "scatterpolargl"
           }
          ],
          "scatterternary": [
           {
            "marker": {
             "colorbar": {
              "outlinewidth": 0,
              "ticks": ""
             }
            },
            "type": "scatterternary"
           }
          ],
          "surface": [
           {
            "colorbar": {
             "outlinewidth": 0,
             "ticks": ""
            },
            "colorscale": [
             [
              0.0,
              "#0d0887"
             ],
             [
              0.1111111111111111,
              "#46039f"
             ],
             [
              0.2222222222222222,
              "#7201a8"
             ],
             [
              0.3333333333333333,
              "#9c179e"
             ],
             [
              0.4444444444444444,
              "#bd3786"
             ],
             [
              0.5555555555555556,
              "#d8576b"
             ],
             [
              0.6666666666666666,
              "#ed7953"
             ],
             [
              0.7777777777777778,
              "#fb9f3a"
             ],
             [
              0.8888888888888888,
              "#fdca26"
             ],
             [
              1.0,
              "#f0f921"
             ]
            ],
            "type": "surface"
           }
          ],
          "table": [
           {
            "cells": {
             "fill": {
              "color": "#EBF0F8"
             },
             "line": {
              "color": "white"
             }
            },
            "header": {
             "fill": {
              "color": "#C8D4E3"
             },
             "line": {
              "color": "white"
             }
            },
            "type": "table"
           }
          ]
         },
         "layout": {
          "annotationdefaults": {
           "arrowcolor": "#2a3f5f",
           "arrowhead": 0,
           "arrowwidth": 1
          },
          "autotypenumbers": "strict",
          "coloraxis": {
           "colorbar": {
            "outlinewidth": 0,
            "ticks": ""
           }
          },
          "colorscale": {
           "diverging": [
            [
             0,
             "#8e0152"
            ],
            [
             0.1,
             "#c51b7d"
            ],
            [
             0.2,
             "#de77ae"
            ],
            [
             0.3,
             "#f1b6da"
            ],
            [
             0.4,
             "#fde0ef"
            ],
            [
             0.5,
             "#f7f7f7"
            ],
            [
             0.6,
             "#e6f5d0"
            ],
            [
             0.7,
             "#b8e186"
            ],
            [
             0.8,
             "#7fbc41"
            ],
            [
             0.9,
             "#4d9221"
            ],
            [
             1,
             "#276419"
            ]
           ],
           "sequential": [
            [
             0.0,
             "#0d0887"
            ],
            [
             0.1111111111111111,
             "#46039f"
            ],
            [
             0.2222222222222222,
             "#7201a8"
            ],
            [
             0.3333333333333333,
             "#9c179e"
            ],
            [
             0.4444444444444444,
             "#bd3786"
            ],
            [
             0.5555555555555556,
             "#d8576b"
            ],
            [
             0.6666666666666666,
             "#ed7953"
            ],
            [
             0.7777777777777778,
             "#fb9f3a"
            ],
            [
             0.8888888888888888,
             "#fdca26"
            ],
            [
             1.0,
             "#f0f921"
            ]
           ],
           "sequentialminus": [
            [
             0.0,
             "#0d0887"
            ],
            [
             0.1111111111111111,
             "#46039f"
            ],
            [
             0.2222222222222222,
             "#7201a8"
            ],
            [
             0.3333333333333333,
             "#9c179e"
            ],
            [
             0.4444444444444444,
             "#bd3786"
            ],
            [
             0.5555555555555556,
             "#d8576b"
            ],
            [
             0.6666666666666666,
             "#ed7953"
            ],
            [
             0.7777777777777778,
             "#fb9f3a"
            ],
            [
             0.8888888888888888,
             "#fdca26"
            ],
            [
             1.0,
             "#f0f921"
            ]
           ]
          },
          "colorway": [
           "#636efa",
           "#EF553B",
           "#00cc96",
           "#ab63fa",
           "#FFA15A",
           "#19d3f3",
           "#FF6692",
           "#B6E880",
           "#FF97FF",
           "#FECB52"
          ],
          "font": {
           "color": "#2a3f5f"
          },
          "geo": {
           "bgcolor": "white",
           "lakecolor": "white",
           "landcolor": "#E5ECF6",
           "showlakes": true,
           "showland": true,
           "subunitcolor": "white"
          },
          "hoverlabel": {
           "align": "left"
          },
          "hovermode": "closest",
          "mapbox": {
           "style": "light"
          },
          "paper_bgcolor": "white",
          "plot_bgcolor": "#E5ECF6",
          "polar": {
           "angularaxis": {
            "gridcolor": "white",
            "linecolor": "white",
            "ticks": ""
           },
           "bgcolor": "#E5ECF6",
           "radialaxis": {
            "gridcolor": "white",
            "linecolor": "white",
            "ticks": ""
           }
          },
          "scene": {
           "xaxis": {
            "backgroundcolor": "#E5ECF6",
            "gridcolor": "white",
            "gridwidth": 2,
            "linecolor": "white",
            "showbackground": true,
            "ticks": "",
            "zerolinecolor": "white"
           },
           "yaxis": {
            "backgroundcolor": "#E5ECF6",
            "gridcolor": "white",
            "gridwidth": 2,
            "linecolor": "white",
            "showbackground": true,
            "ticks": "",
            "zerolinecolor": "white"
           },
           "zaxis": {
            "backgroundcolor": "#E5ECF6",
            "gridcolor": "white",
            "gridwidth": 2,
            "linecolor": "white",
            "showbackground": true,
            "ticks": "",
            "zerolinecolor": "white"
           }
          },
          "shapedefaults": {
           "line": {
            "color": "#2a3f5f"
           }
          },
          "ternary": {
           "aaxis": {
            "gridcolor": "white",
            "linecolor": "white",
            "ticks": ""
           },
           "baxis": {
            "gridcolor": "white",
            "linecolor": "white",
            "ticks": ""
           },
           "bgcolor": "#E5ECF6",
           "caxis": {
            "gridcolor": "white",
            "linecolor": "white",
            "ticks": ""
           }
          },
          "title": {
           "x": 0.05
          },
          "xaxis": {
           "automargin": true,
           "gridcolor": "white",
           "linecolor": "white",
           "ticks": "",
           "title": {
            "standoff": 15
           },
           "zerolinecolor": "white",
           "zerolinewidth": 2
          },
          "yaxis": {
           "automargin": true,
           "gridcolor": "white",
           "linecolor": "white",
           "ticks": "",
           "title": {
            "standoff": 15
           },
           "zerolinecolor": "white",
           "zerolinewidth": 2
          }
         }
        },
        "xaxis": {
         "anchor": "y",
         "domain": [
          0.0,
          1.0
         ],
         "title": {
          "text": "Rok"
         }
        },
        "yaxis": {
         "anchor": "x",
         "domain": [
          0.0,
          1.0
         ],
         "title": {
          "text": "Wartosc"
         }
        },
        "legend": {
         "title": {
          "text": "Nazwa"
         },
         "tracegroupgap": 0
        },
        "margin": {
         "t": 60
        }
       },
       "config": {
        "plotlyServerURL": "https://plot.ly"
       }
      },
      "text/html": "<div>                            <div id=\"6e418af7-475a-461c-a132-f23706530266\" class=\"plotly-graph-div\" style=\"height:525px; width:100%;\"></div>            <script type=\"text/javascript\">                require([\"plotly\"], function(Plotly) {                    window.PLOTLYENV=window.PLOTLYENV || {};                                    if (document.getElementById(\"6e418af7-475a-461c-a132-f23706530266\")) {                    Plotly.newPlot(                        \"6e418af7-475a-461c-a132-f23706530266\",                        [{\"hovertemplate\":\"<b>%{hovertext}</b><br><br>Nazwa=DOLNO\\u015aL\\u0104SKIE<br>Rok=%{x}<br>Wartosc=%{y}<extra></extra>\",\"hovertext\":[\"DOLNO\\u015aL\\u0104SKIE\",\"DOLNO\\u015aL\\u0104SKIE\",\"DOLNO\\u015aL\\u0104SKIE\",\"DOLNO\\u015aL\\u0104SKIE\",\"DOLNO\\u015aL\\u0104SKIE\",\"DOLNO\\u015aL\\u0104SKIE\",\"DOLNO\\u015aL\\u0104SKIE\",\"DOLNO\\u015aL\\u0104SKIE\",\"DOLNO\\u015aL\\u0104SKIE\",\"DOLNO\\u015aL\\u0104SKIE\",\"DOLNO\\u015aL\\u0104SKIE\",\"DOLNO\\u015aL\\u0104SKIE\",\"DOLNO\\u015aL\\u0104SKIE\",\"DOLNO\\u015aL\\u0104SKIE\",\"DOLNO\\u015aL\\u0104SKIE\",\"DOLNO\\u015aL\\u0104SKIE\",\"DOLNO\\u015aL\\u0104SKIE\",\"DOLNO\\u015aL\\u0104SKIE\",\"DOLNO\\u015aL\\u0104SKIE\",\"DOLNO\\u015aL\\u0104SKIE\",\"DOLNO\\u015aL\\u0104SKIE\"],\"legendgroup\":\"DOLNO\\u015aL\\u0104SKIE\",\"line\":{\"color\":\"#636efa\",\"dash\":\"solid\",\"shape\":\"spline\"},\"marker\":{\"symbol\":\"circle\"},\"mode\":\"lines\",\"name\":\"DOLNO\\u015aL\\u0104SKIE\",\"orientation\":\"v\",\"showlegend\":true,\"x\":[2000,2001,2002,2003,2004,2005,2006,2007,2008,2009,2010,2011,2012,2013,2014,2015,2016,2017,2018,2019,2020],\"xaxis\":\"x\",\"y\":[0.041916992305176315,0.07690909691702741,0.05987941271229347,0.053007932372184596,0.029417425013059217,0.03883235851828104,0.09645988122477323,0.11486787497948359,0.17625347017750492,0.04978678133688552,0.05527736617103529,0.03531396015074617,0.06552968595324771,-0.016247256766642293,0.01601737074190024,0.07722146187231482,0.07758316121317543,0.025314779669993737,0.07952379195415027,0.11375676445457139,0.03889116202945986],\"yaxis\":\"y\",\"type\":\"scatter\"},{\"hovertemplate\":\"<b>%{hovertext}</b><br><br>Nazwa=KUJAWSKO-POMORSKIE<br>Rok=%{x}<br>Wartosc=%{y}<extra></extra>\",\"hovertext\":[\"KUJAWSKO-POMORSKIE\",\"KUJAWSKO-POMORSKIE\",\"KUJAWSKO-POMORSKIE\",\"KUJAWSKO-POMORSKIE\",\"KUJAWSKO-POMORSKIE\",\"KUJAWSKO-POMORSKIE\",\"KUJAWSKO-POMORSKIE\",\"KUJAWSKO-POMORSKIE\",\"KUJAWSKO-POMORSKIE\",\"KUJAWSKO-POMORSKIE\",\"KUJAWSKO-POMORSKIE\",\"KUJAWSKO-POMORSKIE\",\"KUJAWSKO-POMORSKIE\",\"KUJAWSKO-POMORSKIE\",\"KUJAWSKO-POMORSKIE\",\"KUJAWSKO-POMORSKIE\",\"KUJAWSKO-POMORSKIE\",\"KUJAWSKO-POMORSKIE\",\"KUJAWSKO-POMORSKIE\",\"KUJAWSKO-POMORSKIE\",\"KUJAWSKO-POMORSKIE\"],\"legendgroup\":\"KUJAWSKO-POMORSKIE\",\"line\":{\"color\":\"#EF553B\",\"dash\":\"solid\",\"shape\":\"spline\"},\"marker\":{\"symbol\":\"circle\"},\"mode\":\"lines\",\"name\":\"KUJAWSKO-POMORSKIE\",\"orientation\":\"v\",\"showlegend\":true,\"x\":[2000,2001,2002,2003,2004,2005,2006,2007,2008,2009,2010,2011,2012,2013,2014,2015,2016,2017,2018,2019,2020],\"xaxis\":\"x\",\"y\":[0.11634300421151145,0.06278927604576023,0.0735250616269516,-0.018951686975690385,0.018693630434104103,0.017125176153421906,0.16123008343122192,0.1644446750012969,0.057981021962845825,0.0684780091374193,0.1413807032581602,-0.04277119353641379,0.02257110393709305,0.03124421280986267,0.027484179921327234,0.03674451121061306,0.05052621438720717,0.11303424191711953,0.10626480381723935,0.0989803454289313,0.04208219920714695],\"yaxis\":\"y\",\"type\":\"scatter\"},{\"hovertemplate\":\"<b>%{hovertext}</b><br><br>Nazwa=LUBELSKIE<br>Rok=%{x}<br>Wartosc=%{y}<extra></extra>\",\"hovertext\":[\"LUBELSKIE\",\"LUBELSKIE\",\"LUBELSKIE\",\"LUBELSKIE\",\"LUBELSKIE\",\"LUBELSKIE\",\"LUBELSKIE\",\"LUBELSKIE\",\"LUBELSKIE\",\"LUBELSKIE\",\"LUBELSKIE\",\"LUBELSKIE\",\"LUBELSKIE\",\"LUBELSKIE\",\"LUBELSKIE\",\"LUBELSKIE\",\"LUBELSKIE\",\"LUBELSKIE\",\"LUBELSKIE\",\"LUBELSKIE\",\"LUBELSKIE\"],\"legendgroup\":\"LUBELSKIE\",\"line\":{\"color\":\"#00cc96\",\"dash\":\"solid\",\"shape\":\"spline\"},\"marker\":{\"symbol\":\"circle\"},\"mode\":\"lines\",\"name\":\"LUBELSKIE\",\"orientation\":\"v\",\"showlegend\":true,\"x\":[2000,2001,2002,2003,2004,2005,2006,2007,2008,2009,2010,2011,2012,2013,2014,2015,2016,2017,2018,2019,2020],\"xaxis\":\"x\",\"y\":[0.02177012056044325,0.10224622805094374,0.05097372656094601,0.11493066308798738,0.04425789327489893,-0.006398699571449673,0.07842408197867257,0.09172527927182461,0.11244173267139113,0.032215938770411734,0.07645848689204504,0.04835000868685424,0.029879118736595878,0.04650480382412803,0.09295573364207033,0.015219100426201004,0.05901821086782855,0.10579306310328374,0.06342145929916887,0.019028729650649057,0.07853490583005729],\"yaxis\":\"y\",\"type\":\"scatter\"},{\"hovertemplate\":\"<b>%{hovertext}</b><br><br>Nazwa=LUBUSKIE<br>Rok=%{x}<br>Wartosc=%{y}<extra></extra>\",\"hovertext\":[\"LUBUSKIE\",\"LUBUSKIE\",\"LUBUSKIE\",\"LUBUSKIE\",\"LUBUSKIE\",\"LUBUSKIE\",\"LUBUSKIE\",\"LUBUSKIE\",\"LUBUSKIE\",\"LUBUSKIE\",\"LUBUSKIE\",\"LUBUSKIE\",\"LUBUSKIE\",\"LUBUSKIE\",\"LUBUSKIE\",\"LUBUSKIE\",\"LUBUSKIE\",\"LUBUSKIE\",\"LUBUSKIE\",\"LUBUSKIE\",\"LUBUSKIE\"],\"legendgroup\":\"LUBUSKIE\",\"line\":{\"color\":\"#ab63fa\",\"dash\":\"solid\",\"shape\":\"spline\"},\"marker\":{\"symbol\":\"circle\"},\"mode\":\"lines\",\"name\":\"LUBUSKIE\",\"orientation\":\"v\",\"showlegend\":true,\"x\":[2000,2001,2002,2003,2004,2005,2006,2007,2008,2009,2010,2011,2012,2013,2014,2015,2016,2017,2018,2019,2020],\"xaxis\":\"x\",\"y\":[0.10996613625605356,0.04100646261850871,0.023004443323984436,0.045420940763330586,-0.03591896869244937,0.05635955193544939,0.21850271247739594,0.08549311994681164,0.15811002953078868,0.041988553727593914,0.04508211579596133,0.03194109586665039,0.034683878341695396,0.005604470580590659,0.03821301067799632,0.10441351517461905,0.05560799673142758,0.06185436297146518,0.04630438471351983,0.07762074371279781,0.09885069003188196],\"yaxis\":\"y\",\"type\":\"scatter\"},{\"hovertemplate\":\"<b>%{hovertext}</b><br><br>Nazwa=MAZOWIECKIE<br>Rok=%{x}<br>Wartosc=%{y}<extra></extra>\",\"hovertext\":[\"MAZOWIECKIE\",\"MAZOWIECKIE\",\"MAZOWIECKIE\",\"MAZOWIECKIE\",\"MAZOWIECKIE\",\"MAZOWIECKIE\",\"MAZOWIECKIE\",\"MAZOWIECKIE\",\"MAZOWIECKIE\",\"MAZOWIECKIE\",\"MAZOWIECKIE\",\"MAZOWIECKIE\",\"MAZOWIECKIE\",\"MAZOWIECKIE\",\"MAZOWIECKIE\",\"MAZOWIECKIE\",\"MAZOWIECKIE\",\"MAZOWIECKIE\",\"MAZOWIECKIE\",\"MAZOWIECKIE\",\"MAZOWIECKIE\"],\"legendgroup\":\"MAZOWIECKIE\",\"line\":{\"color\":\"#FFA15A\",\"dash\":\"solid\",\"shape\":\"spline\"},\"marker\":{\"symbol\":\"circle\"},\"mode\":\"lines\",\"name\":\"MAZOWIECKIE\",\"orientation\":\"v\",\"showlegend\":true,\"x\":[2000,2001,2002,2003,2004,2005,2006,2007,2008,2009,2010,2011,2012,2013,2014,2015,2016,2017,2018,2019,2020],\"xaxis\":\"x\",\"y\":[0.10324240864642298,0.028230213525977765,0.031162501296277068,0.12985870166440394,0.04606244019671113,-0.002350613712267857,0.11815942940605773,0.15098207475209757,0.1071200762125668,0.07652305343968391,0.1134611775663259,0.013102617402323435,0.053636565288115445,-0.01145607335629617,0.007808710261355101,0.030834340991535703,0.014081940608718035,0.0736770585328601,0.06249705819286744,0.037615857530308716,0.06286023311084854],\"yaxis\":\"y\",\"type\":\"scatter\"},{\"hovertemplate\":\"<b>%{hovertext}</b><br><br>Nazwa=MA\\u0141OPOLSKIE<br>Rok=%{x}<br>Wartosc=%{y}<extra></extra>\",\"hovertext\":[\"MA\\u0141OPOLSKIE\",\"MA\\u0141OPOLSKIE\",\"MA\\u0141OPOLSKIE\",\"MA\\u0141OPOLSKIE\",\"MA\\u0141OPOLSKIE\",\"MA\\u0141OPOLSKIE\",\"MA\\u0141OPOLSKIE\",\"MA\\u0141OPOLSKIE\",\"MA\\u0141OPOLSKIE\",\"MA\\u0141OPOLSKIE\",\"MA\\u0141OPOLSKIE\",\"MA\\u0141OPOLSKIE\",\"MA\\u0141OPOLSKIE\",\"MA\\u0141OPOLSKIE\",\"MA\\u0141OPOLSKIE\",\"MA\\u0141OPOLSKIE\",\"MA\\u0141OPOLSKIE\",\"MA\\u0141OPOLSKIE\",\"MA\\u0141OPOLSKIE\",\"MA\\u0141OPOLSKIE\",\"MA\\u0141OPOLSKIE\"],\"legendgroup\":\"MA\\u0141OPOLSKIE\",\"line\":{\"color\":\"#19d3f3\",\"dash\":\"solid\",\"shape\":\"spline\"},\"marker\":{\"symbol\":\"circle\"},\"mode\":\"lines\",\"name\":\"MA\\u0141OPOLSKIE\",\"orientation\":\"v\",\"showlegend\":true,\"x\":[2000,2001,2002,2003,2004,2005,2006,2007,2008,2009,2010,2011,2012,2013,2014,2015,2016,2017,2018,2019,2020],\"xaxis\":\"x\",\"y\":[0.0427946037702136,0.08032899246058944,0.0018557289684051348,0.06362700862819604,0.06812633960466785,0.020428923788687436,0.04483318994360008,0.12974774539275913,0.15776808542637988,0.040959689829526136,0.06317375903545064,0.04446791989454102,0.02857044061584202,0.031903449203254164,0.026698159309333835,0.035594726237129004,0.09039794706806092,0.04808705548452363,0.09111809693614226,0.08921583684000378,0.07989487219978786],\"yaxis\":\"y\",\"type\":\"scatter\"},{\"hovertemplate\":\"<b>%{hovertext}</b><br><br>Nazwa=OPOLSKIE<br>Rok=%{x}<br>Wartosc=%{y}<extra></extra>\",\"hovertext\":[\"OPOLSKIE\",\"OPOLSKIE\",\"OPOLSKIE\",\"OPOLSKIE\",\"OPOLSKIE\",\"OPOLSKIE\",\"OPOLSKIE\",\"OPOLSKIE\",\"OPOLSKIE\",\"OPOLSKIE\",\"OPOLSKIE\",\"OPOLSKIE\",\"OPOLSKIE\",\"OPOLSKIE\",\"OPOLSKIE\",\"OPOLSKIE\",\"OPOLSKIE\",\"OPOLSKIE\",\"OPOLSKIE\",\"OPOLSKIE\",\"OPOLSKIE\"],\"legendgroup\":\"OPOLSKIE\",\"line\":{\"color\":\"#FF6692\",\"dash\":\"solid\",\"shape\":\"spline\"},\"marker\":{\"symbol\":\"circle\"},\"mode\":\"lines\",\"name\":\"OPOLSKIE\",\"orientation\":\"v\",\"showlegend\":true,\"x\":[2000,2001,2002,2003,2004,2005,2006,2007,2008,2009,2010,2011,2012,2013,2014,2015,2016,2017,2018,2019,2020],\"xaxis\":\"x\",\"y\":[0.2099607642106509,0.026886976926085326,0.019058046907232784,0.07792086454164648,0.07571182988313141,0.06937580575848723,-0.0017581313575285584,0.15196880110705746,0.17951294091951508,0.0020276275831419,0.03091649957958742,0.059306463033171,0.09506726457399095,-0.073764158669819,0.03828860767941,0.03539033815648884,0.07851079348821322,0.08691867157822042,0.05200796965705323,0.06165607500157311,0.014253625636375444],\"yaxis\":\"y\",\"type\":\"scatter\"},{\"hovertemplate\":\"<b>%{hovertext}</b><br><br>Nazwa=PODKARPACKIE<br>Rok=%{x}<br>Wartosc=%{y}<extra></extra>\",\"hovertext\":[\"PODKARPACKIE\",\"PODKARPACKIE\",\"PODKARPACKIE\",\"PODKARPACKIE\",\"PODKARPACKIE\",\"PODKARPACKIE\",\"PODKARPACKIE\",\"PODKARPACKIE\",\"PODKARPACKIE\",\"PODKARPACKIE\",\"PODKARPACKIE\",\"PODKARPACKIE\",\"PODKARPACKIE\",\"PODKARPACKIE\",\"PODKARPACKIE\",\"PODKARPACKIE\",\"PODKARPACKIE\",\"PODKARPACKIE\",\"PODKARPACKIE\",\"PODKARPACKIE\",\"PODKARPACKIE\"],\"legendgroup\":\"PODKARPACKIE\",\"line\":{\"color\":\"#B6E880\",\"dash\":\"solid\",\"shape\":\"spline\"},\"marker\":{\"symbol\":\"circle\"},\"mode\":\"lines\",\"name\":\"PODKARPACKIE\",\"orientation\":\"v\",\"showlegend\":true,\"x\":[2000,2001,2002,2003,2004,2005,2006,2007,2008,2009,2010,2011,2012,2013,2014,2015,2016,2017,2018,2019,2020],\"xaxis\":\"x\",\"y\":[0.042739703045046484,0.060878484373114494,0.020796602779199702,0.0810830888088252,0.005686112828970025,0.05737662914438957,0.044812768569674644,0.08335394891458958,0.12930480825495594,0.05474743134454729,0.08709665823937507,0.033694118684419294,0.02267953297435632,0.040213946117274135,0.055458108230011405,0.027178970959715887,0.04850042528013021,0.10598712635570062,0.07411305110420163,0.09220937309799138,0.07956561036772247],\"yaxis\":\"y\",\"type\":\"scatter\"},{\"hovertemplate\":\"<b>%{hovertext}</b><br><br>Nazwa=PODLASKIE<br>Rok=%{x}<br>Wartosc=%{y}<extra></extra>\",\"hovertext\":[\"PODLASKIE\",\"PODLASKIE\",\"PODLASKIE\",\"PODLASKIE\",\"PODLASKIE\",\"PODLASKIE\",\"PODLASKIE\",\"PODLASKIE\",\"PODLASKIE\",\"PODLASKIE\",\"PODLASKIE\",\"PODLASKIE\",\"PODLASKIE\",\"PODLASKIE\",\"PODLASKIE\",\"PODLASKIE\",\"PODLASKIE\",\"PODLASKIE\",\"PODLASKIE\",\"PODLASKIE\",\"PODLASKIE\"],\"legendgroup\":\"PODLASKIE\",\"line\":{\"color\":\"#FF97FF\",\"dash\":\"solid\",\"shape\":\"spline\"},\"marker\":{\"symbol\":\"circle\"},\"mode\":\"lines\",\"name\":\"PODLASKIE\",\"orientation\":\"v\",\"showlegend\":true,\"x\":[2000,2001,2002,2003,2004,2005,2006,2007,2008,2009,2010,2011,2012,2013,2014,2015,2016,2017,2018,2019,2020],\"xaxis\":\"x\",\"y\":[0.09552132899240329,0.11003371878155188,0.06780620913350144,-0.022886531661845066,0.060727679452595495,0.12374395236323044,0.12615223270960985,0.08318833476289678,0.05824726524055701,0.08903450634968135,0.08287444663663046,0.11033357505438723,0.014262155895895301,0.012709374673009366,0.00034971148802243057,-0.0005482194784763861,0.1287035049645051,0.11673228485100329,0.007057398916477942,0.09077131190661092,0.11862548085204105],\"yaxis\":\"y\",\"type\":\"scatter\"},{\"hovertemplate\":\"<b>%{hovertext}</b><br><br>Nazwa=POLSKA<br>Rok=%{x}<br>Wartosc=%{y}<extra></extra>\",\"hovertext\":[\"POLSKA\",\"POLSKA\",\"POLSKA\",\"POLSKA\",\"POLSKA\",\"POLSKA\",\"POLSKA\",\"POLSKA\",\"POLSKA\",\"POLSKA\",\"POLSKA\",\"POLSKA\",\"POLSKA\",\"POLSKA\",\"POLSKA\",\"POLSKA\",\"POLSKA\",\"POLSKA\",\"POLSKA\",\"POLSKA\",\"POLSKA\"],\"legendgroup\":\"POLSKA\",\"line\":{\"color\":\"#FECB52\",\"dash\":\"solid\",\"shape\":\"spline\"},\"marker\":{\"symbol\":\"circle\"},\"mode\":\"lines\",\"name\":\"POLSKA\",\"orientation\":\"v\",\"showlegend\":true,\"x\":[2000,2001,2002,2003,2004,2005,2006,2007,2008,2009,2010,2011,2012,2013,2014,2015,2016,2017,2018,2019,2020],\"xaxis\":\"x\",\"y\":[0.08935995574826472,0.055642004225975095,0.03061382820258185,0.0718899143343219,0.03292319793246801,0.035436497144411216,0.09615738187166767,0.11284564144342735,0.1255826972558054,0.06596717422909171,0.07028326858024747,0.028612866987475005,0.041957699987774655,0.016144802609450615,0.03184585896064118,0.034108203276536075,0.06377330178334395,0.08380126953125,0.05965096706776052,0.07421492093111137,0.05500950998823617],\"yaxis\":\"y\",\"type\":\"scatter\"},{\"hovertemplate\":\"<b>%{hovertext}</b><br><br>Nazwa=POMORSKIE<br>Rok=%{x}<br>Wartosc=%{y}<extra></extra>\",\"hovertext\":[\"POMORSKIE\",\"POMORSKIE\",\"POMORSKIE\",\"POMORSKIE\",\"POMORSKIE\",\"POMORSKIE\",\"POMORSKIE\",\"POMORSKIE\",\"POMORSKIE\",\"POMORSKIE\",\"POMORSKIE\",\"POMORSKIE\",\"POMORSKIE\",\"POMORSKIE\",\"POMORSKIE\",\"POMORSKIE\",\"POMORSKIE\",\"POMORSKIE\",\"POMORSKIE\",\"POMORSKIE\",\"POMORSKIE\"],\"legendgroup\":\"POMORSKIE\",\"line\":{\"color\":\"#636efa\",\"dash\":\"solid\",\"shape\":\"spline\"},\"marker\":{\"symbol\":\"circle\"},\"mode\":\"lines\",\"name\":\"POMORSKIE\",\"orientation\":\"v\",\"showlegend\":true,\"x\":[2000,2001,2002,2003,2004,2005,2006,2007,2008,2009,2010,2011,2012,2013,2014,2015,2016,2017,2018,2019,2020],\"xaxis\":\"x\",\"y\":[0.11269888816450235,0.08167983657698463,0.08838040025180427,0.03508016786828794,-0.021052084416259498,0.06339935220092396,0.13660308583412384,0.13140986919418784,0.06992117729284764,0.05653290267558231,0.06751395448690434,0.035250016088551384,0.04943509409918101,0.061515223314773104,-0.0399681928517619,0.0033276661290089216,0.12993511571995486,0.056839811580735145,0.053667588415077905,0.07046744247614445,-0.03272078194389183],\"yaxis\":\"y\",\"type\":\"scatter\"},{\"hovertemplate\":\"<b>%{hovertext}</b><br><br>Nazwa=WARMI\\u0143SKO-MAZURSKIE<br>Rok=%{x}<br>Wartosc=%{y}<extra></extra>\",\"hovertext\":[\"WARMI\\u0143SKO-MAZURSKIE\",\"WARMI\\u0143SKO-MAZURSKIE\",\"WARMI\\u0143SKO-MAZURSKIE\",\"WARMI\\u0143SKO-MAZURSKIE\",\"WARMI\\u0143SKO-MAZURSKIE\",\"WARMI\\u0143SKO-MAZURSKIE\",\"WARMI\\u0143SKO-MAZURSKIE\",\"WARMI\\u0143SKO-MAZURSKIE\",\"WARMI\\u0143SKO-MAZURSKIE\",\"WARMI\\u0143SKO-MAZURSKIE\",\"WARMI\\u0143SKO-MAZURSKIE\",\"WARMI\\u0143SKO-MAZURSKIE\",\"WARMI\\u0143SKO-MAZURSKIE\",\"WARMI\\u0143SKO-MAZURSKIE\",\"WARMI\\u0143SKO-MAZURSKIE\",\"WARMI\\u0143SKO-MAZURSKIE\",\"WARMI\\u0143SKO-MAZURSKIE\",\"WARMI\\u0143SKO-MAZURSKIE\",\"WARMI\\u0143SKO-MAZURSKIE\",\"WARMI\\u0143SKO-MAZURSKIE\",\"WARMI\\u0143SKO-MAZURSKIE\"],\"legendgroup\":\"WARMI\\u0143SKO-MAZURSKIE\",\"line\":{\"color\":\"#EF553B\",\"dash\":\"solid\",\"shape\":\"spline\"},\"marker\":{\"symbol\":\"circle\"},\"mode\":\"lines\",\"name\":\"WARMI\\u0143SKO-MAZURSKIE\",\"orientation\":\"v\",\"showlegend\":true,\"x\":[2000,2001,2002,2003,2004,2005,2006,2007,2008,2009,2010,2011,2012,2013,2014,2015,2016,2017,2018,2019,2020],\"xaxis\":\"x\",\"y\":[0.17290150881033628,0.060238979670259374,0.021590928703336232,0.08146371131233954,0.027400256193957473,0.06626322831772291,0.06449818897413229,0.11903709359803871,0.17203567366971928,0.10747043082140006,0.017624598812114867,-0.005909062072340654,0.011924840683034343,-0.0008829226541735569,0.10890285580313264,0.041285149706441926,0.07128409774230571,0.09065527522434191,0.039207298733415774,0.027250918118612466,0.1796103131769744],\"yaxis\":\"y\",\"type\":\"scatter\"},{\"hovertemplate\":\"<b>%{hovertext}</b><br><br>Nazwa=WIELKOPOLSKIE<br>Rok=%{x}<br>Wartosc=%{y}<extra></extra>\",\"hovertext\":[\"WIELKOPOLSKIE\",\"WIELKOPOLSKIE\",\"WIELKOPOLSKIE\",\"WIELKOPOLSKIE\",\"WIELKOPOLSKIE\",\"WIELKOPOLSKIE\",\"WIELKOPOLSKIE\",\"WIELKOPOLSKIE\",\"WIELKOPOLSKIE\",\"WIELKOPOLSKIE\",\"WIELKOPOLSKIE\",\"WIELKOPOLSKIE\",\"WIELKOPOLSKIE\",\"WIELKOPOLSKIE\",\"WIELKOPOLSKIE\",\"WIELKOPOLSKIE\",\"WIELKOPOLSKIE\",\"WIELKOPOLSKIE\",\"WIELKOPOLSKIE\",\"WIELKOPOLSKIE\",\"WIELKOPOLSKIE\"],\"legendgroup\":\"WIELKOPOLSKIE\",\"line\":{\"color\":\"#00cc96\",\"dash\":\"solid\",\"shape\":\"spline\"},\"marker\":{\"symbol\":\"circle\"},\"mode\":\"lines\",\"name\":\"WIELKOPOLSKIE\",\"orientation\":\"v\",\"showlegend\":true,\"x\":[2000,2001,2002,2003,2004,2005,2006,2007,2008,2009,2010,2011,2012,2013,2014,2015,2016,2017,2018,2019,2020],\"xaxis\":\"x\",\"y\":[0.0816837437190423,0.053445967168669783,0.003012993534618147,0.08037111208461112,0.014945042213951654,0.053877434543768254,0.10228672777243752,0.09256165864203592,0.1450107923374404,0.07738755633228922,0.02589011509755501,0.008243466519800347,0.01621997850258139,0.04620132994633397,0.05142866613630326,0.014982896956131198,0.08712600656939418,0.1476081972014085,0.014527212069909812,0.10859028945140436,-0.00987836057953051],\"yaxis\":\"y\",\"type\":\"scatter\"},{\"hovertemplate\":\"<b>%{hovertext}</b><br><br>Nazwa=ZACHODNIOPOMORSKIE<br>Rok=%{x}<br>Wartosc=%{y}<extra></extra>\",\"hovertext\":[\"ZACHODNIOPOMORSKIE\",\"ZACHODNIOPOMORSKIE\",\"ZACHODNIOPOMORSKIE\",\"ZACHODNIOPOMORSKIE\",\"ZACHODNIOPOMORSKIE\",\"ZACHODNIOPOMORSKIE\",\"ZACHODNIOPOMORSKIE\",\"ZACHODNIOPOMORSKIE\",\"ZACHODNIOPOMORSKIE\",\"ZACHODNIOPOMORSKIE\",\"ZACHODNIOPOMORSKIE\",\"ZACHODNIOPOMORSKIE\",\"ZACHODNIOPOMORSKIE\",\"ZACHODNIOPOMORSKIE\",\"ZACHODNIOPOMORSKIE\",\"ZACHODNIOPOMORSKIE\",\"ZACHODNIOPOMORSKIE\",\"ZACHODNIOPOMORSKIE\",\"ZACHODNIOPOMORSKIE\",\"ZACHODNIOPOMORSKIE\",\"ZACHODNIOPOMORSKIE\"],\"legendgroup\":\"ZACHODNIOPOMORSKIE\",\"line\":{\"color\":\"#ab63fa\",\"dash\":\"solid\",\"shape\":\"spline\"},\"marker\":{\"symbol\":\"circle\"},\"mode\":\"lines\",\"name\":\"ZACHODNIOPOMORSKIE\",\"orientation\":\"v\",\"showlegend\":true,\"x\":[2000,2001,2002,2003,2004,2005,2006,2007,2008,2009,2010,2011,2012,2013,2014,2015,2016,2017,2018,2019,2020],\"xaxis\":\"x\",\"y\":[0.020619777394363714,0.06624459287004658,0.0184194982435415,0.07625269005937207,0.08067786995674675,0.0006561335362973431,0.09469667165001172,0.08244384546271344,0.1608508471950154,0.08652791945924809,0.041450595347776176,0.037231129571745125,0.026366663959060954,-0.006062236854601277,0.0871884704196193,0.04500512670279777,0.03928233521393287,0.1144379256861554,0.042133607648553895,0.04580108347897793,0.03385689935650804],\"yaxis\":\"y\",\"type\":\"scatter\"},{\"hovertemplate\":\"<b>%{hovertext}</b><br><br>Nazwa=\\u0141\\u00d3DZKIE<br>Rok=%{x}<br>Wartosc=%{y}<extra></extra>\",\"hovertext\":[\"\\u0141\\u00d3DZKIE\",\"\\u0141\\u00d3DZKIE\",\"\\u0141\\u00d3DZKIE\",\"\\u0141\\u00d3DZKIE\",\"\\u0141\\u00d3DZKIE\",\"\\u0141\\u00d3DZKIE\",\"\\u0141\\u00d3DZKIE\",\"\\u0141\\u00d3DZKIE\",\"\\u0141\\u00d3DZKIE\",\"\\u0141\\u00d3DZKIE\",\"\\u0141\\u00d3DZKIE\",\"\\u0141\\u00d3DZKIE\",\"\\u0141\\u00d3DZKIE\",\"\\u0141\\u00d3DZKIE\",\"\\u0141\\u00d3DZKIE\",\"\\u0141\\u00d3DZKIE\",\"\\u0141\\u00d3DZKIE\",\"\\u0141\\u00d3DZKIE\",\"\\u0141\\u00d3DZKIE\",\"\\u0141\\u00d3DZKIE\",\"\\u0141\\u00d3DZKIE\"],\"legendgroup\":\"\\u0141\\u00d3DZKIE\",\"line\":{\"color\":\"#FFA15A\",\"dash\":\"solid\",\"shape\":\"spline\"},\"marker\":{\"symbol\":\"circle\"},\"mode\":\"lines\",\"name\":\"\\u0141\\u00d3DZKIE\",\"orientation\":\"v\",\"showlegend\":true,\"x\":[2000,2001,2002,2003,2004,2005,2006,2007,2008,2009,2010,2011,2012,2013,2014,2015,2016,2017,2018,2019,2020],\"xaxis\":\"x\",\"y\":[0.10001392224426575,0.020535050388394094,0.02393538685724028,0.08090717778686174,0.02322291476994187,0.05261933117052009,0.08833894690300004,0.08852909547138244,0.11237225436064069,0.10039867371911271,0.05706214689265532,0.020751147421377292,0.05421421388143188,0.022114126235789344,-0.0023988214150731935,0.053094266097606146,0.07062986865193865,0.07391838050238997,0.03478882772889236,0.11672323356988579,0.034360235404636175],\"yaxis\":\"y\",\"type\":\"scatter\"},{\"hovertemplate\":\"<b>%{hovertext}</b><br><br>Nazwa=\\u015aL\\u0104SKIE<br>Rok=%{x}<br>Wartosc=%{y}<extra></extra>\",\"hovertext\":[\"\\u015aL\\u0104SKIE\",\"\\u015aL\\u0104SKIE\",\"\\u015aL\\u0104SKIE\",\"\\u015aL\\u0104SKIE\",\"\\u015aL\\u0104SKIE\",\"\\u015aL\\u0104SKIE\",\"\\u015aL\\u0104SKIE\",\"\\u015aL\\u0104SKIE\",\"\\u015aL\\u0104SKIE\",\"\\u015aL\\u0104SKIE\",\"\\u015aL\\u0104SKIE\",\"\\u015aL\\u0104SKIE\",\"\\u015aL\\u0104SKIE\",\"\\u015aL\\u0104SKIE\",\"\\u015aL\\u0104SKIE\",\"\\u015aL\\u0104SKIE\",\"\\u015aL\\u0104SKIE\",\"\\u015aL\\u0104SKIE\",\"\\u015aL\\u0104SKIE\",\"\\u015aL\\u0104SKIE\",\"\\u015aL\\u0104SKIE\"],\"legendgroup\":\"\\u015aL\\u0104SKIE\",\"line\":{\"color\":\"#19d3f3\",\"dash\":\"solid\",\"shape\":\"spline\"},\"marker\":{\"symbol\":\"circle\"},\"mode\":\"lines\",\"name\":\"\\u015aL\\u0104SKIE\",\"orientation\":\"v\",\"showlegend\":true,\"x\":[2000,2001,2002,2003,2004,2005,2006,2007,2008,2009,2010,2011,2012,2013,2014,2015,2016,2017,2018,2019,2020],\"xaxis\":\"x\",\"y\":[0.10078363082281228,0.04875192041496179,-0.00033359440721725253,0.053363898843637125,0.030688282530543676,0.05950901388499119,0.06949875129285332,0.0841470893480516,0.13250731558736817,0.07009067506819844,0.04880391364839998,0.040242378596737405,0.05218686237082859,0.03131670928241337,0.04758438722591207,0.02812518093914651,0.06524983456995237,0.08757426167866078,0.06761658818168015,0.07988480560946587,0.0806212744875856],\"yaxis\":\"y\",\"type\":\"scatter\"},{\"hovertemplate\":\"<b>%{hovertext}</b><br><br>Nazwa=\\u015aWI\\u0118TOKRZYSKIE<br>Rok=%{x}<br>Wartosc=%{y}<extra></extra>\",\"hovertext\":[\"\\u015aWI\\u0118TOKRZYSKIE\",\"\\u015aWI\\u0118TOKRZYSKIE\",\"\\u015aWI\\u0118TOKRZYSKIE\",\"\\u015aWI\\u0118TOKRZYSKIE\",\"\\u015aWI\\u0118TOKRZYSKIE\",\"\\u015aWI\\u0118TOKRZYSKIE\",\"\\u015aWI\\u0118TOKRZYSKIE\",\"\\u015aWI\\u0118TOKRZYSKIE\",\"\\u015aWI\\u0118TOKRZYSKIE\",\"\\u015aWI\\u0118TOKRZYSKIE\",\"\\u015aWI\\u0118TOKRZYSKIE\",\"\\u015aWI\\u0118TOKRZYSKIE\",\"\\u015aWI\\u0118TOKRZYSKIE\",\"\\u015aWI\\u0118TOKRZYSKIE\",\"\\u015aWI\\u0118TOKRZYSKIE\",\"\\u015aWI\\u0118TOKRZYSKIE\",\"\\u015aWI\\u0118TOKRZYSKIE\",\"\\u015aWI\\u0118TOKRZYSKIE\",\"\\u015aWI\\u0118TOKRZYSKIE\",\"\\u015aWI\\u0118TOKRZYSKIE\",\"\\u015aWI\\u0118TOKRZYSKIE\"],\"legendgroup\":\"\\u015aWI\\u0118TOKRZYSKIE\",\"line\":{\"color\":\"#FF6692\",\"dash\":\"solid\",\"shape\":\"spline\"},\"marker\":{\"symbol\":\"circle\"},\"mode\":\"lines\",\"name\":\"\\u015aWI\\u0118TOKRZYSKIE\",\"orientation\":\"v\",\"showlegend\":true,\"x\":[2000,2001,2002,2003,2004,2005,2006,2007,2008,2009,2010,2011,2012,2013,2014,2015,2016,2017,2018,2019,2020],\"xaxis\":\"x\",\"y\":[0.1095928492002396,0.07356087031933556,0.03820055290273938,0.04478334543694018,0.018568780616973424,0.009017645338446068,0.12468398254456448,0.11043181948342018,0.13230269350284307,0.0679928943952266,0.09432875923615769,0.03548462527768037,0.053614106400195816,0.030006429949274827,0.04021294305333978,0.0025505526197342476,0.08576654472896572,0.09703206836350264,0.08176285004327544,0.04945090397594565,0.061766044046579704],\"yaxis\":\"y\",\"type\":\"scatter\"}],                        {\"template\":{\"data\":{\"bar\":[{\"error_x\":{\"color\":\"#2a3f5f\"},\"error_y\":{\"color\":\"#2a3f5f\"},\"marker\":{\"line\":{\"color\":\"#E5ECF6\",\"width\":0.5},\"pattern\":{\"fillmode\":\"overlay\",\"size\":10,\"solidity\":0.2}},\"type\":\"bar\"}],\"barpolar\":[{\"marker\":{\"line\":{\"color\":\"#E5ECF6\",\"width\":0.5},\"pattern\":{\"fillmode\":\"overlay\",\"size\":10,\"solidity\":0.2}},\"type\":\"barpolar\"}],\"carpet\":[{\"aaxis\":{\"endlinecolor\":\"#2a3f5f\",\"gridcolor\":\"white\",\"linecolor\":\"white\",\"minorgridcolor\":\"white\",\"startlinecolor\":\"#2a3f5f\"},\"baxis\":{\"endlinecolor\":\"#2a3f5f\",\"gridcolor\":\"white\",\"linecolor\":\"white\",\"minorgridcolor\":\"white\",\"startlinecolor\":\"#2a3f5f\"},\"type\":\"carpet\"}],\"choropleth\":[{\"colorbar\":{\"outlinewidth\":0,\"ticks\":\"\"},\"type\":\"choropleth\"}],\"contour\":[{\"colorbar\":{\"outlinewidth\":0,\"ticks\":\"\"},\"colorscale\":[[0.0,\"#0d0887\"],[0.1111111111111111,\"#46039f\"],[0.2222222222222222,\"#7201a8\"],[0.3333333333333333,\"#9c179e\"],[0.4444444444444444,\"#bd3786\"],[0.5555555555555556,\"#d8576b\"],[0.6666666666666666,\"#ed7953\"],[0.7777777777777778,\"#fb9f3a\"],[0.8888888888888888,\"#fdca26\"],[1.0,\"#f0f921\"]],\"type\":\"contour\"}],\"contourcarpet\":[{\"colorbar\":{\"outlinewidth\":0,\"ticks\":\"\"},\"type\":\"contourcarpet\"}],\"heatmap\":[{\"colorbar\":{\"outlinewidth\":0,\"ticks\":\"\"},\"colorscale\":[[0.0,\"#0d0887\"],[0.1111111111111111,\"#46039f\"],[0.2222222222222222,\"#7201a8\"],[0.3333333333333333,\"#9c179e\"],[0.4444444444444444,\"#bd3786\"],[0.5555555555555556,\"#d8576b\"],[0.6666666666666666,\"#ed7953\"],[0.7777777777777778,\"#fb9f3a\"],[0.8888888888888888,\"#fdca26\"],[1.0,\"#f0f921\"]],\"type\":\"heatmap\"}],\"heatmapgl\":[{\"colorbar\":{\"outlinewidth\":0,\"ticks\":\"\"},\"colorscale\":[[0.0,\"#0d0887\"],[0.1111111111111111,\"#46039f\"],[0.2222222222222222,\"#7201a8\"],[0.3333333333333333,\"#9c179e\"],[0.4444444444444444,\"#bd3786\"],[0.5555555555555556,\"#d8576b\"],[0.6666666666666666,\"#ed7953\"],[0.7777777777777778,\"#fb9f3a\"],[0.8888888888888888,\"#fdca26\"],[1.0,\"#f0f921\"]],\"type\":\"heatmapgl\"}],\"histogram\":[{\"marker\":{\"pattern\":{\"fillmode\":\"overlay\",\"size\":10,\"solidity\":0.2}},\"type\":\"histogram\"}],\"histogram2d\":[{\"colorbar\":{\"outlinewidth\":0,\"ticks\":\"\"},\"colorscale\":[[0.0,\"#0d0887\"],[0.1111111111111111,\"#46039f\"],[0.2222222222222222,\"#7201a8\"],[0.3333333333333333,\"#9c179e\"],[0.4444444444444444,\"#bd3786\"],[0.5555555555555556,\"#d8576b\"],[0.6666666666666666,\"#ed7953\"],[0.7777777777777778,\"#fb9f3a\"],[0.8888888888888888,\"#fdca26\"],[1.0,\"#f0f921\"]],\"type\":\"histogram2d\"}],\"histogram2dcontour\":[{\"colorbar\":{\"outlinewidth\":0,\"ticks\":\"\"},\"colorscale\":[[0.0,\"#0d0887\"],[0.1111111111111111,\"#46039f\"],[0.2222222222222222,\"#7201a8\"],[0.3333333333333333,\"#9c179e\"],[0.4444444444444444,\"#bd3786\"],[0.5555555555555556,\"#d8576b\"],[0.6666666666666666,\"#ed7953\"],[0.7777777777777778,\"#fb9f3a\"],[0.8888888888888888,\"#fdca26\"],[1.0,\"#f0f921\"]],\"type\":\"histogram2dcontour\"}],\"mesh3d\":[{\"colorbar\":{\"outlinewidth\":0,\"ticks\":\"\"},\"type\":\"mesh3d\"}],\"parcoords\":[{\"line\":{\"colorbar\":{\"outlinewidth\":0,\"ticks\":\"\"}},\"type\":\"parcoords\"}],\"pie\":[{\"automargin\":true,\"type\":\"pie\"}],\"scatter\":[{\"marker\":{\"colorbar\":{\"outlinewidth\":0,\"ticks\":\"\"}},\"type\":\"scatter\"}],\"scatter3d\":[{\"line\":{\"colorbar\":{\"outlinewidth\":0,\"ticks\":\"\"}},\"marker\":{\"colorbar\":{\"outlinewidth\":0,\"ticks\":\"\"}},\"type\":\"scatter3d\"}],\"scattercarpet\":[{\"marker\":{\"colorbar\":{\"outlinewidth\":0,\"ticks\":\"\"}},\"type\":\"scattercarpet\"}],\"scattergeo\":[{\"marker\":{\"colorbar\":{\"outlinewidth\":0,\"ticks\":\"\"}},\"type\":\"scattergeo\"}],\"scattergl\":[{\"marker\":{\"colorbar\":{\"outlinewidth\":0,\"ticks\":\"\"}},\"type\":\"scattergl\"}],\"scattermapbox\":[{\"marker\":{\"colorbar\":{\"outlinewidth\":0,\"ticks\":\"\"}},\"type\":\"scattermapbox\"}],\"scatterpolar\":[{\"marker\":{\"colorbar\":{\"outlinewidth\":0,\"ticks\":\"\"}},\"type\":\"scatterpolar\"}],\"scatterpolargl\":[{\"marker\":{\"colorbar\":{\"outlinewidth\":0,\"ticks\":\"\"}},\"type\":\"scatterpolargl\"}],\"scatterternary\":[{\"marker\":{\"colorbar\":{\"outlinewidth\":0,\"ticks\":\"\"}},\"type\":\"scatterternary\"}],\"surface\":[{\"colorbar\":{\"outlinewidth\":0,\"ticks\":\"\"},\"colorscale\":[[0.0,\"#0d0887\"],[0.1111111111111111,\"#46039f\"],[0.2222222222222222,\"#7201a8\"],[0.3333333333333333,\"#9c179e\"],[0.4444444444444444,\"#bd3786\"],[0.5555555555555556,\"#d8576b\"],[0.6666666666666666,\"#ed7953\"],[0.7777777777777778,\"#fb9f3a\"],[0.8888888888888888,\"#fdca26\"],[1.0,\"#f0f921\"]],\"type\":\"surface\"}],\"table\":[{\"cells\":{\"fill\":{\"color\":\"#EBF0F8\"},\"line\":{\"color\":\"white\"}},\"header\":{\"fill\":{\"color\":\"#C8D4E3\"},\"line\":{\"color\":\"white\"}},\"type\":\"table\"}]},\"layout\":{\"annotationdefaults\":{\"arrowcolor\":\"#2a3f5f\",\"arrowhead\":0,\"arrowwidth\":1},\"autotypenumbers\":\"strict\",\"coloraxis\":{\"colorbar\":{\"outlinewidth\":0,\"ticks\":\"\"}},\"colorscale\":{\"diverging\":[[0,\"#8e0152\"],[0.1,\"#c51b7d\"],[0.2,\"#de77ae\"],[0.3,\"#f1b6da\"],[0.4,\"#fde0ef\"],[0.5,\"#f7f7f7\"],[0.6,\"#e6f5d0\"],[0.7,\"#b8e186\"],[0.8,\"#7fbc41\"],[0.9,\"#4d9221\"],[1,\"#276419\"]],\"sequential\":[[0.0,\"#0d0887\"],[0.1111111111111111,\"#46039f\"],[0.2222222222222222,\"#7201a8\"],[0.3333333333333333,\"#9c179e\"],[0.4444444444444444,\"#bd3786\"],[0.5555555555555556,\"#d8576b\"],[0.6666666666666666,\"#ed7953\"],[0.7777777777777778,\"#fb9f3a\"],[0.8888888888888888,\"#fdca26\"],[1.0,\"#f0f921\"]],\"sequentialminus\":[[0.0,\"#0d0887\"],[0.1111111111111111,\"#46039f\"],[0.2222222222222222,\"#7201a8\"],[0.3333333333333333,\"#9c179e\"],[0.4444444444444444,\"#bd3786\"],[0.5555555555555556,\"#d8576b\"],[0.6666666666666666,\"#ed7953\"],[0.7777777777777778,\"#fb9f3a\"],[0.8888888888888888,\"#fdca26\"],[1.0,\"#f0f921\"]]},\"colorway\":[\"#636efa\",\"#EF553B\",\"#00cc96\",\"#ab63fa\",\"#FFA15A\",\"#19d3f3\",\"#FF6692\",\"#B6E880\",\"#FF97FF\",\"#FECB52\"],\"font\":{\"color\":\"#2a3f5f\"},\"geo\":{\"bgcolor\":\"white\",\"lakecolor\":\"white\",\"landcolor\":\"#E5ECF6\",\"showlakes\":true,\"showland\":true,\"subunitcolor\":\"white\"},\"hoverlabel\":{\"align\":\"left\"},\"hovermode\":\"closest\",\"mapbox\":{\"style\":\"light\"},\"paper_bgcolor\":\"white\",\"plot_bgcolor\":\"#E5ECF6\",\"polar\":{\"angularaxis\":{\"gridcolor\":\"white\",\"linecolor\":\"white\",\"ticks\":\"\"},\"bgcolor\":\"#E5ECF6\",\"radialaxis\":{\"gridcolor\":\"white\",\"linecolor\":\"white\",\"ticks\":\"\"}},\"scene\":{\"xaxis\":{\"backgroundcolor\":\"#E5ECF6\",\"gridcolor\":\"white\",\"gridwidth\":2,\"linecolor\":\"white\",\"showbackground\":true,\"ticks\":\"\",\"zerolinecolor\":\"white\"},\"yaxis\":{\"backgroundcolor\":\"#E5ECF6\",\"gridcolor\":\"white\",\"gridwidth\":2,\"linecolor\":\"white\",\"showbackground\":true,\"ticks\":\"\",\"zerolinecolor\":\"white\"},\"zaxis\":{\"backgroundcolor\":\"#E5ECF6\",\"gridcolor\":\"white\",\"gridwidth\":2,\"linecolor\":\"white\",\"showbackground\":true,\"ticks\":\"\",\"zerolinecolor\":\"white\"}},\"shapedefaults\":{\"line\":{\"color\":\"#2a3f5f\"}},\"ternary\":{\"aaxis\":{\"gridcolor\":\"white\",\"linecolor\":\"white\",\"ticks\":\"\"},\"baxis\":{\"gridcolor\":\"white\",\"linecolor\":\"white\",\"ticks\":\"\"},\"bgcolor\":\"#E5ECF6\",\"caxis\":{\"gridcolor\":\"white\",\"linecolor\":\"white\",\"ticks\":\"\"}},\"title\":{\"x\":0.05},\"xaxis\":{\"automargin\":true,\"gridcolor\":\"white\",\"linecolor\":\"white\",\"ticks\":\"\",\"title\":{\"standoff\":15},\"zerolinecolor\":\"white\",\"zerolinewidth\":2},\"yaxis\":{\"automargin\":true,\"gridcolor\":\"white\",\"linecolor\":\"white\",\"ticks\":\"\",\"title\":{\"standoff\":15},\"zerolinecolor\":\"white\",\"zerolinewidth\":2}}},\"xaxis\":{\"anchor\":\"y\",\"domain\":[0.0,1.0],\"title\":{\"text\":\"Rok\"}},\"yaxis\":{\"anchor\":\"x\",\"domain\":[0.0,1.0],\"title\":{\"text\":\"Wartosc\"}},\"legend\":{\"title\":{\"text\":\"Nazwa\"},\"tracegroupgap\":0},\"margin\":{\"t\":60}},                        {\"responsive\": true}                    ).then(function(){\n                            \nvar gd = document.getElementById('6e418af7-475a-461c-a132-f23706530266');\nvar x = new MutationObserver(function (mutations, observer) {{\n        var display = window.getComputedStyle(gd).display;\n        if (!display || display === 'none') {{\n            console.log([gd, 'removed!']);\n            Plotly.purge(gd);\n            observer.disconnect();\n        }}\n}});\n\n// Listen for the removal of the full notebook cells\nvar notebookContainer = gd.closest('#notebook-container');\nif (notebookContainer) {{\n    x.observe(notebookContainer, {childList: true});\n}}\n\n// Listen for the clearing of the current output cell\nvar outputEl = gd.closest('.output');\nif (outputEl) {{\n    x.observe(outputEl, {childList: true});\n}}\n\n                        })                };                });            </script>        </div>"
     },
     "metadata": {},
     "output_type": "display_data"
    }
   ],
   "source": [
    "fig = px.line(incomes_change_percent[incomes_change_percent.Rok != 1999],\n",
    "              x=\"Rok\", y=\"Wartosc\", color=\"Nazwa\", hover_name=\"Nazwa\",\n",
    "              line_shape=\"spline\", render_mode=\"svg\")\n",
    "\n",
    "fig.show()"
   ],
   "metadata": {
    "collapsed": false,
    "pycharm": {
     "name": "#%%\n"
    }
   }
  },
  {
   "cell_type": "markdown",
   "metadata": {},
   "source": [
    "## wydatki"
   ]
  },
  {
   "cell_type": "code",
   "execution_count": 14,
   "metadata": {},
   "outputs": [
    {
     "data": {
      "text/plain": "      Kategoria      Kod               Nazwa Zmienna   Rok   Wartosc  \\\n18836   Wydatki        0              POLSKA  ogółem  1998   50303.0   \n18837   Wydatki        0              POLSKA  ogółem  1999   54976.0   \n18838   Wydatki        0              POLSKA  ogółem  2000   59949.0   \n18839   Wydatki        0              POLSKA  ogółem  2001   60972.0   \n18840   Wydatki        0              POLSKA  ogółem  2002   62499.0   \n...         ...      ...                 ...     ...   ...       ...   \n25478   Wydatki  3200000  ZACHODNIOPOMORSKIE  ogółem  2016  111056.0   \n25479   Wydatki  3200000  ZACHODNIOPOMORSKIE  ogółem  2017  120581.0   \n25480   Wydatki  3200000  ZACHODNIOPOMORSKIE  ogółem  2018  123653.0   \n25481   Wydatki  3200000  ZACHODNIOPOMORSKIE  ogółem  2019  126335.0   \n25482   Wydatki  3200000  ZACHODNIOPOMORSKIE  ogółem  2020  124253.0   \n\n      Jednostka miary Atrybut  Unnamed: 8  \n18836              zł     NaN         NaN  \n18837              zł     NaN         NaN  \n18838              zł     NaN         NaN  \n18839              zł     NaN         NaN  \n18840              zł     NaN         NaN  \n...               ...     ...         ...  \n25478              zł     NaN         NaN  \n25479              zł     NaN         NaN  \n25480              zł     NaN         NaN  \n25481              zł     NaN         NaN  \n25482              zł     NaN         NaN  \n\n[391 rows x 9 columns]",
      "text/html": "<div>\n<style scoped>\n    .dataframe tbody tr th:only-of-type {\n        vertical-align: middle;\n    }\n\n    .dataframe tbody tr th {\n        vertical-align: top;\n    }\n\n    .dataframe thead th {\n        text-align: right;\n    }\n</style>\n<table border=\"1\" class=\"dataframe\">\n  <thead>\n    <tr style=\"text-align: right;\">\n      <th></th>\n      <th>Kategoria</th>\n      <th>Kod</th>\n      <th>Nazwa</th>\n      <th>Zmienna</th>\n      <th>Rok</th>\n      <th>Wartosc</th>\n      <th>Jednostka miary</th>\n      <th>Atrybut</th>\n      <th>Unnamed: 8</th>\n    </tr>\n  </thead>\n  <tbody>\n    <tr>\n      <th>18836</th>\n      <td>Wydatki</td>\n      <td>0</td>\n      <td>POLSKA</td>\n      <td>ogółem</td>\n      <td>1998</td>\n      <td>50303.0</td>\n      <td>zł</td>\n      <td>NaN</td>\n      <td>NaN</td>\n    </tr>\n    <tr>\n      <th>18837</th>\n      <td>Wydatki</td>\n      <td>0</td>\n      <td>POLSKA</td>\n      <td>ogółem</td>\n      <td>1999</td>\n      <td>54976.0</td>\n      <td>zł</td>\n      <td>NaN</td>\n      <td>NaN</td>\n    </tr>\n    <tr>\n      <th>18838</th>\n      <td>Wydatki</td>\n      <td>0</td>\n      <td>POLSKA</td>\n      <td>ogółem</td>\n      <td>2000</td>\n      <td>59949.0</td>\n      <td>zł</td>\n      <td>NaN</td>\n      <td>NaN</td>\n    </tr>\n    <tr>\n      <th>18839</th>\n      <td>Wydatki</td>\n      <td>0</td>\n      <td>POLSKA</td>\n      <td>ogółem</td>\n      <td>2001</td>\n      <td>60972.0</td>\n      <td>zł</td>\n      <td>NaN</td>\n      <td>NaN</td>\n    </tr>\n    <tr>\n      <th>18840</th>\n      <td>Wydatki</td>\n      <td>0</td>\n      <td>POLSKA</td>\n      <td>ogółem</td>\n      <td>2002</td>\n      <td>62499.0</td>\n      <td>zł</td>\n      <td>NaN</td>\n      <td>NaN</td>\n    </tr>\n    <tr>\n      <th>...</th>\n      <td>...</td>\n      <td>...</td>\n      <td>...</td>\n      <td>...</td>\n      <td>...</td>\n      <td>...</td>\n      <td>...</td>\n      <td>...</td>\n      <td>...</td>\n    </tr>\n    <tr>\n      <th>25478</th>\n      <td>Wydatki</td>\n      <td>3200000</td>\n      <td>ZACHODNIOPOMORSKIE</td>\n      <td>ogółem</td>\n      <td>2016</td>\n      <td>111056.0</td>\n      <td>zł</td>\n      <td>NaN</td>\n      <td>NaN</td>\n    </tr>\n    <tr>\n      <th>25479</th>\n      <td>Wydatki</td>\n      <td>3200000</td>\n      <td>ZACHODNIOPOMORSKIE</td>\n      <td>ogółem</td>\n      <td>2017</td>\n      <td>120581.0</td>\n      <td>zł</td>\n      <td>NaN</td>\n      <td>NaN</td>\n    </tr>\n    <tr>\n      <th>25480</th>\n      <td>Wydatki</td>\n      <td>3200000</td>\n      <td>ZACHODNIOPOMORSKIE</td>\n      <td>ogółem</td>\n      <td>2018</td>\n      <td>123653.0</td>\n      <td>zł</td>\n      <td>NaN</td>\n      <td>NaN</td>\n    </tr>\n    <tr>\n      <th>25481</th>\n      <td>Wydatki</td>\n      <td>3200000</td>\n      <td>ZACHODNIOPOMORSKIE</td>\n      <td>ogółem</td>\n      <td>2019</td>\n      <td>126335.0</td>\n      <td>zł</td>\n      <td>NaN</td>\n      <td>NaN</td>\n    </tr>\n    <tr>\n      <th>25482</th>\n      <td>Wydatki</td>\n      <td>3200000</td>\n      <td>ZACHODNIOPOMORSKIE</td>\n      <td>ogółem</td>\n      <td>2020</td>\n      <td>124253.0</td>\n      <td>zł</td>\n      <td>NaN</td>\n      <td>NaN</td>\n    </tr>\n  </tbody>\n</table>\n<p>391 rows × 9 columns</p>\n</div>"
     },
     "execution_count": 14,
     "metadata": {},
     "output_type": "execute_result"
    }
   ],
   "source": [
    "df_ludnosc[(df_ludnosc.Kategoria == \"Wydatki\") & (df_ludnosc.Zmienna == \"ogółem\")]"
   ]
  },
  {
   "cell_type": "code",
   "execution_count": 15,
   "metadata": {},
   "outputs": [
    {
     "data": {
      "text/plain": "                     count           mean           std      min      25%  \\\nNazwa                                                                       \nDOLNOŚLĄSKIE          23.0   94531.521739  27314.576200  54933.0  68570.0   \nKUJAWSKO-POMORSKIE    23.0   82858.695652  24174.664135  44082.0  61090.0   \nLUBELSKIE             23.0   79936.565217  22073.491765  43038.0  62387.5   \nLUBUSKIE              23.0   88731.869565  22474.148175  51702.0  67541.0   \nMAZOWIECKIE           23.0  110212.565217  30584.220945  58881.0  82833.5   \nMAŁOPOLSKIE           23.0   83549.000000  19476.950205  49414.0  66077.5   \nOPOLSKIE              23.0   92649.565217  25569.573228  52016.0  70576.0   \nPODKARPACKIE          23.0   73873.304348  18393.169341  40717.0  58988.5   \nPODLASKIE             23.0   79837.782609  19919.169524  46282.0  61579.0   \nPOLSKA                23.0   89611.869565  24044.806142  50303.0  68405.5   \nPOMORSKIE             23.0   92612.695652  26245.160438  48749.0  69909.5   \nWARMIŃSKO-MAZURSKIE   23.0   76964.521739  19482.076263  43570.0  59440.5   \nWIELKOPOLSKIE         23.0   81970.913043  20435.699694  48143.0  63970.0   \nZACHODNIOPOMORSKIE    23.0   89546.391304  23894.208286  53181.0  68269.5   \nŁÓDZKIE               23.0   93825.956522  26168.731653  51243.0  70151.0   \nŚLĄSKIE               23.0   93690.434783  25790.972901  55517.0  69316.0   \nŚWIĘTOKRZYSKIE        23.0   76395.391304  20714.237712  43521.0  58043.5   \n\n                          50%       75%       max  \nNazwa                                              \nDOLNOŚLĄSKIE         101317.0  115488.5  138262.0  \nKUJAWSKO-POMORSKIE    87559.0  100733.0  123232.0  \nLUBELSKIE             82553.0   97670.5  113257.0  \nLUBUSKIE              93790.0  108489.5  122371.0  \nMAZOWIECKIE          123328.0  136264.5  147626.0  \nMAŁOPOLSKIE           90035.0  100329.0  107773.0  \nOPOLSKIE             101633.0  108798.0  133212.0  \nPODKARPACKIE          78378.0   90156.5  101569.0  \nPODLASKIE             82356.0   99079.0  106610.0  \nPOLSKA                95668.0  108496.5  125173.0  \nPOMORSKIE             97711.0  108941.0  136050.0  \nWARMIŃSKO-MAZURSKIE   86615.0   91376.5  107342.0  \nWIELKOPOLSKIE         87957.0   95592.5  116282.0  \nZACHODNIOPOMORSKIE    94020.0  108640.5  126335.0  \nŁÓDZKIE               99773.0  113925.0  137459.0  \nŚLĄSKIE               95951.0  113296.0  133036.0  \nŚWIĘTOKRZYSKIE        79207.0   94282.5  107511.0  ",
      "text/html": "<div>\n<style scoped>\n    .dataframe tbody tr th:only-of-type {\n        vertical-align: middle;\n    }\n\n    .dataframe tbody tr th {\n        vertical-align: top;\n    }\n\n    .dataframe thead th {\n        text-align: right;\n    }\n</style>\n<table border=\"1\" class=\"dataframe\">\n  <thead>\n    <tr style=\"text-align: right;\">\n      <th></th>\n      <th>count</th>\n      <th>mean</th>\n      <th>std</th>\n      <th>min</th>\n      <th>25%</th>\n      <th>50%</th>\n      <th>75%</th>\n      <th>max</th>\n    </tr>\n    <tr>\n      <th>Nazwa</th>\n      <th></th>\n      <th></th>\n      <th></th>\n      <th></th>\n      <th></th>\n      <th></th>\n      <th></th>\n      <th></th>\n    </tr>\n  </thead>\n  <tbody>\n    <tr>\n      <th>DOLNOŚLĄSKIE</th>\n      <td>23.0</td>\n      <td>94531.521739</td>\n      <td>27314.576200</td>\n      <td>54933.0</td>\n      <td>68570.0</td>\n      <td>101317.0</td>\n      <td>115488.5</td>\n      <td>138262.0</td>\n    </tr>\n    <tr>\n      <th>KUJAWSKO-POMORSKIE</th>\n      <td>23.0</td>\n      <td>82858.695652</td>\n      <td>24174.664135</td>\n      <td>44082.0</td>\n      <td>61090.0</td>\n      <td>87559.0</td>\n      <td>100733.0</td>\n      <td>123232.0</td>\n    </tr>\n    <tr>\n      <th>LUBELSKIE</th>\n      <td>23.0</td>\n      <td>79936.565217</td>\n      <td>22073.491765</td>\n      <td>43038.0</td>\n      <td>62387.5</td>\n      <td>82553.0</td>\n      <td>97670.5</td>\n      <td>113257.0</td>\n    </tr>\n    <tr>\n      <th>LUBUSKIE</th>\n      <td>23.0</td>\n      <td>88731.869565</td>\n      <td>22474.148175</td>\n      <td>51702.0</td>\n      <td>67541.0</td>\n      <td>93790.0</td>\n      <td>108489.5</td>\n      <td>122371.0</td>\n    </tr>\n    <tr>\n      <th>MAZOWIECKIE</th>\n      <td>23.0</td>\n      <td>110212.565217</td>\n      <td>30584.220945</td>\n      <td>58881.0</td>\n      <td>82833.5</td>\n      <td>123328.0</td>\n      <td>136264.5</td>\n      <td>147626.0</td>\n    </tr>\n    <tr>\n      <th>MAŁOPOLSKIE</th>\n      <td>23.0</td>\n      <td>83549.000000</td>\n      <td>19476.950205</td>\n      <td>49414.0</td>\n      <td>66077.5</td>\n      <td>90035.0</td>\n      <td>100329.0</td>\n      <td>107773.0</td>\n    </tr>\n    <tr>\n      <th>OPOLSKIE</th>\n      <td>23.0</td>\n      <td>92649.565217</td>\n      <td>25569.573228</td>\n      <td>52016.0</td>\n      <td>70576.0</td>\n      <td>101633.0</td>\n      <td>108798.0</td>\n      <td>133212.0</td>\n    </tr>\n    <tr>\n      <th>PODKARPACKIE</th>\n      <td>23.0</td>\n      <td>73873.304348</td>\n      <td>18393.169341</td>\n      <td>40717.0</td>\n      <td>58988.5</td>\n      <td>78378.0</td>\n      <td>90156.5</td>\n      <td>101569.0</td>\n    </tr>\n    <tr>\n      <th>PODLASKIE</th>\n      <td>23.0</td>\n      <td>79837.782609</td>\n      <td>19919.169524</td>\n      <td>46282.0</td>\n      <td>61579.0</td>\n      <td>82356.0</td>\n      <td>99079.0</td>\n      <td>106610.0</td>\n    </tr>\n    <tr>\n      <th>POLSKA</th>\n      <td>23.0</td>\n      <td>89611.869565</td>\n      <td>24044.806142</td>\n      <td>50303.0</td>\n      <td>68405.5</td>\n      <td>95668.0</td>\n      <td>108496.5</td>\n      <td>125173.0</td>\n    </tr>\n    <tr>\n      <th>POMORSKIE</th>\n      <td>23.0</td>\n      <td>92612.695652</td>\n      <td>26245.160438</td>\n      <td>48749.0</td>\n      <td>69909.5</td>\n      <td>97711.0</td>\n      <td>108941.0</td>\n      <td>136050.0</td>\n    </tr>\n    <tr>\n      <th>WARMIŃSKO-MAZURSKIE</th>\n      <td>23.0</td>\n      <td>76964.521739</td>\n      <td>19482.076263</td>\n      <td>43570.0</td>\n      <td>59440.5</td>\n      <td>86615.0</td>\n      <td>91376.5</td>\n      <td>107342.0</td>\n    </tr>\n    <tr>\n      <th>WIELKOPOLSKIE</th>\n      <td>23.0</td>\n      <td>81970.913043</td>\n      <td>20435.699694</td>\n      <td>48143.0</td>\n      <td>63970.0</td>\n      <td>87957.0</td>\n      <td>95592.5</td>\n      <td>116282.0</td>\n    </tr>\n    <tr>\n      <th>ZACHODNIOPOMORSKIE</th>\n      <td>23.0</td>\n      <td>89546.391304</td>\n      <td>23894.208286</td>\n      <td>53181.0</td>\n      <td>68269.5</td>\n      <td>94020.0</td>\n      <td>108640.5</td>\n      <td>126335.0</td>\n    </tr>\n    <tr>\n      <th>ŁÓDZKIE</th>\n      <td>23.0</td>\n      <td>93825.956522</td>\n      <td>26168.731653</td>\n      <td>51243.0</td>\n      <td>70151.0</td>\n      <td>99773.0</td>\n      <td>113925.0</td>\n      <td>137459.0</td>\n    </tr>\n    <tr>\n      <th>ŚLĄSKIE</th>\n      <td>23.0</td>\n      <td>93690.434783</td>\n      <td>25790.972901</td>\n      <td>55517.0</td>\n      <td>69316.0</td>\n      <td>95951.0</td>\n      <td>113296.0</td>\n      <td>133036.0</td>\n    </tr>\n    <tr>\n      <th>ŚWIĘTOKRZYSKIE</th>\n      <td>23.0</td>\n      <td>76395.391304</td>\n      <td>20714.237712</td>\n      <td>43521.0</td>\n      <td>58043.5</td>\n      <td>79207.0</td>\n      <td>94282.5</td>\n      <td>107511.0</td>\n    </tr>\n  </tbody>\n</table>\n</div>"
     },
     "execution_count": 15,
     "metadata": {},
     "output_type": "execute_result"
    }
   ],
   "source": [
    "df_ludnosc[(df_ludnosc.Kategoria == \"Wydatki\") & (df_ludnosc.Zmienna == \"ogółem\")].groupby(\"Nazwa\").Wartosc.describe()"
   ]
  },
  {
   "cell_type": "markdown",
   "metadata": {},
   "source": [
    "### średnie wydatki per województwo na przestrzeni lat"
   ]
  },
  {
   "cell_type": "code",
   "execution_count": 70,
   "metadata": {},
   "outputs": [
    {
     "data": {
      "text/plain": "              Nazwa   Rok   Wartosc\n0      DOLNOŚLĄSKIE  1998   54933.0\n1      DOLNOŚLĄSKIE  1999   60374.0\n2      DOLNOŚLĄSKIE  2000   60862.0\n3      DOLNOŚLĄSKIE  2001   60845.0\n4      DOLNOŚLĄSKIE  2002   62388.0\n..              ...   ...       ...\n386  ŚWIĘTOKRZYSKIE  2016   96317.0\n387  ŚWIĘTOKRZYSKIE  2017  103706.0\n388  ŚWIĘTOKRZYSKIE  2018  107511.0\n389  ŚWIĘTOKRZYSKIE  2019  105905.0\n390  ŚWIĘTOKRZYSKIE  2020   99400.0\n\n[391 rows x 3 columns]",
      "text/html": "<div>\n<style scoped>\n    .dataframe tbody tr th:only-of-type {\n        vertical-align: middle;\n    }\n\n    .dataframe tbody tr th {\n        vertical-align: top;\n    }\n\n    .dataframe thead th {\n        text-align: right;\n    }\n</style>\n<table border=\"1\" class=\"dataframe\">\n  <thead>\n    <tr style=\"text-align: right;\">\n      <th></th>\n      <th>Nazwa</th>\n      <th>Rok</th>\n      <th>Wartosc</th>\n    </tr>\n  </thead>\n  <tbody>\n    <tr>\n      <th>0</th>\n      <td>DOLNOŚLĄSKIE</td>\n      <td>1998</td>\n      <td>54933.0</td>\n    </tr>\n    <tr>\n      <th>1</th>\n      <td>DOLNOŚLĄSKIE</td>\n      <td>1999</td>\n      <td>60374.0</td>\n    </tr>\n    <tr>\n      <th>2</th>\n      <td>DOLNOŚLĄSKIE</td>\n      <td>2000</td>\n      <td>60862.0</td>\n    </tr>\n    <tr>\n      <th>3</th>\n      <td>DOLNOŚLĄSKIE</td>\n      <td>2001</td>\n      <td>60845.0</td>\n    </tr>\n    <tr>\n      <th>4</th>\n      <td>DOLNOŚLĄSKIE</td>\n      <td>2002</td>\n      <td>62388.0</td>\n    </tr>\n    <tr>\n      <th>...</th>\n      <td>...</td>\n      <td>...</td>\n      <td>...</td>\n    </tr>\n    <tr>\n      <th>386</th>\n      <td>ŚWIĘTOKRZYSKIE</td>\n      <td>2016</td>\n      <td>96317.0</td>\n    </tr>\n    <tr>\n      <th>387</th>\n      <td>ŚWIĘTOKRZYSKIE</td>\n      <td>2017</td>\n      <td>103706.0</td>\n    </tr>\n    <tr>\n      <th>388</th>\n      <td>ŚWIĘTOKRZYSKIE</td>\n      <td>2018</td>\n      <td>107511.0</td>\n    </tr>\n    <tr>\n      <th>389</th>\n      <td>ŚWIĘTOKRZYSKIE</td>\n      <td>2019</td>\n      <td>105905.0</td>\n    </tr>\n    <tr>\n      <th>390</th>\n      <td>ŚWIĘTOKRZYSKIE</td>\n      <td>2020</td>\n      <td>99400.0</td>\n    </tr>\n  </tbody>\n</table>\n<p>391 rows × 3 columns</p>\n</div>"
     },
     "execution_count": 70,
     "metadata": {},
     "output_type": "execute_result"
    }
   ],
   "source": [
    "# to mean() jest niepotrzebne, ponieważ jest tylko jedna obserwacja per wojewódzwto, per rok, ale inaczej nie umiem.\n",
    "mean_spendings_annually = pd.DataFrame(\n",
    "    df_ludnosc[(df_ludnosc.Kategoria == \"Wydatki\") & (df_ludnosc.Zmienna == \"ogółem\")].groupby(\n",
    "        [\"Nazwa\", \"Rok\"]).Wartosc.mean())\n",
    "mean_spendings_annually.reset_index(inplace=True)\n",
    "mean_spendings_annually"
   ]
  },
  {
   "cell_type": "code",
   "execution_count": 72,
   "outputs": [
    {
     "data": {
      "application/vnd.plotly.v1+json": {
       "data": [
        {
         "hovertemplate": "<b>%{hovertext}</b><br><br>Nazwa=DOLNOŚLĄSKIE<br>Rok=%{x}<br>Wartosc=%{y}<extra></extra>",
         "hovertext": [
          "DOLNOŚLĄSKIE",
          "DOLNOŚLĄSKIE",
          "DOLNOŚLĄSKIE",
          "DOLNOŚLĄSKIE",
          "DOLNOŚLĄSKIE",
          "DOLNOŚLĄSKIE",
          "DOLNOŚLĄSKIE",
          "DOLNOŚLĄSKIE",
          "DOLNOŚLĄSKIE",
          "DOLNOŚLĄSKIE",
          "DOLNOŚLĄSKIE",
          "DOLNOŚLĄSKIE",
          "DOLNOŚLĄSKIE",
          "DOLNOŚLĄSKIE",
          "DOLNOŚLĄSKIE",
          "DOLNOŚLĄSKIE",
          "DOLNOŚLĄSKIE",
          "DOLNOŚLĄSKIE",
          "DOLNOŚLĄSKIE",
          "DOLNOŚLĄSKIE",
          "DOLNOŚLĄSKIE",
          "DOLNOŚLĄSKIE",
          "DOLNOŚLĄSKIE"
         ],
         "legendgroup": "DOLNOŚLĄSKIE",
         "line": {
          "color": "#636efa",
          "dash": "solid",
          "shape": "spline"
         },
         "marker": {
          "symbol": "circle"
         },
         "mode": "lines",
         "name": "DOLNOŚLĄSKIE",
         "orientation": "v",
         "showlegend": true,
         "x": [
          1998,
          1999,
          2000,
          2001,
          2002,
          2003,
          2004,
          2005,
          2006,
          2007,
          2008,
          2009,
          2010,
          2011,
          2012,
          2013,
          2014,
          2015,
          2016,
          2017,
          2018,
          2019,
          2020
         ],
         "xaxis": "x",
         "y": [
          54933.0,
          60374.0,
          60862.0,
          60845.0,
          62388.0,
          68329.0,
          68811.0,
          69982.0,
          75921.0,
          85071.0,
          95767.0,
          101317.0,
          101893.0,
          105749.0,
          113111.0,
          112512.0,
          113057.0,
          117866.0,
          121159.0,
          122207.0,
          128280.0,
          138262.0,
          135529.0
         ],
         "yaxis": "y",
         "type": "scatter"
        },
        {
         "hovertemplate": "<b>%{hovertext}</b><br><br>Nazwa=KUJAWSKO-POMORSKIE<br>Rok=%{x}<br>Wartosc=%{y}<extra></extra>",
         "hovertext": [
          "KUJAWSKO-POMORSKIE",
          "KUJAWSKO-POMORSKIE",
          "KUJAWSKO-POMORSKIE",
          "KUJAWSKO-POMORSKIE",
          "KUJAWSKO-POMORSKIE",
          "KUJAWSKO-POMORSKIE",
          "KUJAWSKO-POMORSKIE",
          "KUJAWSKO-POMORSKIE",
          "KUJAWSKO-POMORSKIE",
          "KUJAWSKO-POMORSKIE",
          "KUJAWSKO-POMORSKIE",
          "KUJAWSKO-POMORSKIE",
          "KUJAWSKO-POMORSKIE",
          "KUJAWSKO-POMORSKIE",
          "KUJAWSKO-POMORSKIE",
          "KUJAWSKO-POMORSKIE",
          "KUJAWSKO-POMORSKIE",
          "KUJAWSKO-POMORSKIE",
          "KUJAWSKO-POMORSKIE",
          "KUJAWSKO-POMORSKIE",
          "KUJAWSKO-POMORSKIE",
          "KUJAWSKO-POMORSKIE",
          "KUJAWSKO-POMORSKIE"
         ],
         "legendgroup": "KUJAWSKO-POMORSKIE",
         "line": {
          "color": "#EF553B",
          "dash": "solid",
          "shape": "spline"
         },
         "marker": {
          "symbol": "circle"
         },
         "mode": "lines",
         "name": "KUJAWSKO-POMORSKIE",
         "orientation": "v",
         "showlegend": true,
         "x": [
          1998,
          1999,
          2000,
          2001,
          2002,
          2003,
          2004,
          2005,
          2006,
          2007,
          2008,
          2009,
          2010,
          2011,
          2012,
          2013,
          2014,
          2015,
          2016,
          2017,
          2018,
          2019,
          2020
         ],
         "xaxis": "x",
         "y": [
          44082.0,
          47592.0,
          54019.0,
          57260.0,
          59350.0,
          61914.0,
          62138.0,
          60266.0,
          67426.0,
          73634.0,
          79805.0,
          87559.0,
          92363.0,
          92275.0,
          94169.0,
          99212.0,
          98760.0,
          102254.0,
          105048.0,
          111551.0,
          114982.0,
          123232.0,
          116859.0
         ],
         "yaxis": "y",
         "type": "scatter"
        },
        {
         "hovertemplate": "<b>%{hovertext}</b><br><br>Nazwa=LUBELSKIE<br>Rok=%{x}<br>Wartosc=%{y}<extra></extra>",
         "hovertext": [
          "LUBELSKIE",
          "LUBELSKIE",
          "LUBELSKIE",
          "LUBELSKIE",
          "LUBELSKIE",
          "LUBELSKIE",
          "LUBELSKIE",
          "LUBELSKIE",
          "LUBELSKIE",
          "LUBELSKIE",
          "LUBELSKIE",
          "LUBELSKIE",
          "LUBELSKIE",
          "LUBELSKIE",
          "LUBELSKIE",
          "LUBELSKIE",
          "LUBELSKIE",
          "LUBELSKIE",
          "LUBELSKIE",
          "LUBELSKIE",
          "LUBELSKIE",
          "LUBELSKIE",
          "LUBELSKIE"
         ],
         "legendgroup": "LUBELSKIE",
         "line": {
          "color": "#00cc96",
          "dash": "solid",
          "shape": "spline"
         },
         "marker": {
          "symbol": "circle"
         },
         "mode": "lines",
         "name": "LUBELSKIE",
         "orientation": "v",
         "showlegend": true,
         "x": [
          1998,
          1999,
          2000,
          2001,
          2002,
          2003,
          2004,
          2005,
          2006,
          2007,
          2008,
          2009,
          2010,
          2011,
          2012,
          2013,
          2014,
          2015,
          2016,
          2017,
          2018,
          2019,
          2020
         ],
         "xaxis": "x",
         "y": [
          43038.0,
          49070.0,
          51364.0,
          52874.0,
          57029.0,
          61824.0,
          65216.0,
          62951.0,
          67814.0,
          70521.0,
          81070.0,
          82698.0,
          82553.0,
          85617.0,
          91794.0,
          92911.0,
          98213.0,
          97128.0,
          102945.0,
          108653.0,
          108566.0,
          111435.0,
          113257.0
         ],
         "yaxis": "y",
         "type": "scatter"
        },
        {
         "hovertemplate": "<b>%{hovertext}</b><br><br>Nazwa=LUBUSKIE<br>Rok=%{x}<br>Wartosc=%{y}<extra></extra>",
         "hovertext": [
          "LUBUSKIE",
          "LUBUSKIE",
          "LUBUSKIE",
          "LUBUSKIE",
          "LUBUSKIE",
          "LUBUSKIE",
          "LUBUSKIE",
          "LUBUSKIE",
          "LUBUSKIE",
          "LUBUSKIE",
          "LUBUSKIE",
          "LUBUSKIE",
          "LUBUSKIE",
          "LUBUSKIE",
          "LUBUSKIE",
          "LUBUSKIE",
          "LUBUSKIE",
          "LUBUSKIE",
          "LUBUSKIE",
          "LUBUSKIE",
          "LUBUSKIE",
          "LUBUSKIE",
          "LUBUSKIE"
         ],
         "legendgroup": "LUBUSKIE",
         "line": {
          "color": "#ab63fa",
          "dash": "solid",
          "shape": "spline"
         },
         "marker": {
          "symbol": "circle"
         },
         "mode": "lines",
         "name": "LUBUSKIE",
         "orientation": "v",
         "showlegend": true,
         "x": [
          1998,
          1999,
          2000,
          2001,
          2002,
          2003,
          2004,
          2005,
          2006,
          2007,
          2008,
          2009,
          2010,
          2011,
          2012,
          2013,
          2014,
          2015,
          2016,
          2017,
          2018,
          2019,
          2020
         ],
         "xaxis": "x",
         "y": [
          51702.0,
          59121.0,
          60407.0,
          60713.0,
          61257.0,
          66364.0,
          68718.0,
          71748.0,
          77191.0,
          81644.0,
          93438.0,
          93790.0,
          97230.0,
          97564.0,
          100652.0,
          100529.0,
          105149.0,
          111830.0,
          116165.0,
          113136.0,
          114384.0,
          122371.0,
          115730.0
         ],
         "yaxis": "y",
         "type": "scatter"
        },
        {
         "hovertemplate": "<b>%{hovertext}</b><br><br>Nazwa=MAZOWIECKIE<br>Rok=%{x}<br>Wartosc=%{y}<extra></extra>",
         "hovertext": [
          "MAZOWIECKIE",
          "MAZOWIECKIE",
          "MAZOWIECKIE",
          "MAZOWIECKIE",
          "MAZOWIECKIE",
          "MAZOWIECKIE",
          "MAZOWIECKIE",
          "MAZOWIECKIE",
          "MAZOWIECKIE",
          "MAZOWIECKIE",
          "MAZOWIECKIE",
          "MAZOWIECKIE",
          "MAZOWIECKIE",
          "MAZOWIECKIE",
          "MAZOWIECKIE",
          "MAZOWIECKIE",
          "MAZOWIECKIE",
          "MAZOWIECKIE",
          "MAZOWIECKIE",
          "MAZOWIECKIE",
          "MAZOWIECKIE",
          "MAZOWIECKIE",
          "MAZOWIECKIE"
         ],
         "legendgroup": "MAZOWIECKIE",
         "line": {
          "color": "#FFA15A",
          "dash": "solid",
          "shape": "spline"
         },
         "marker": {
          "symbol": "circle"
         },
         "mode": "lines",
         "name": "MAZOWIECKIE",
         "orientation": "v",
         "showlegend": true,
         "x": [
          1998,
          1999,
          2000,
          2001,
          2002,
          2003,
          2004,
          2005,
          2006,
          2007,
          2008,
          2009,
          2010,
          2011,
          2012,
          2013,
          2014,
          2015,
          2016,
          2017,
          2018,
          2019,
          2020
         ],
         "xaxis": "x",
         "y": [
          58881.0,
          64012.0,
          70411.0,
          70928.0,
          74395.0,
          83946.0,
          86320.0,
          81721.0,
          90175.0,
          101026.0,
          114727.0,
          123328.0,
          129985.0,
          130835.0,
          135389.0,
          133100.0,
          135541.0,
          137071.0,
          136988.0,
          142070.0,
          142113.0,
          147626.0,
          144301.0
         ],
         "yaxis": "y",
         "type": "scatter"
        },
        {
         "hovertemplate": "<b>%{hovertext}</b><br><br>Nazwa=MAŁOPOLSKIE<br>Rok=%{x}<br>Wartosc=%{y}<extra></extra>",
         "hovertext": [
          "MAŁOPOLSKIE",
          "MAŁOPOLSKIE",
          "MAŁOPOLSKIE",
          "MAŁOPOLSKIE",
          "MAŁOPOLSKIE",
          "MAŁOPOLSKIE",
          "MAŁOPOLSKIE",
          "MAŁOPOLSKIE",
          "MAŁOPOLSKIE",
          "MAŁOPOLSKIE",
          "MAŁOPOLSKIE",
          "MAŁOPOLSKIE",
          "MAŁOPOLSKIE",
          "MAŁOPOLSKIE",
          "MAŁOPOLSKIE",
          "MAŁOPOLSKIE",
          "MAŁOPOLSKIE",
          "MAŁOPOLSKIE",
          "MAŁOPOLSKIE",
          "MAŁOPOLSKIE",
          "MAŁOPOLSKIE",
          "MAŁOPOLSKIE",
          "MAŁOPOLSKIE"
         ],
         "legendgroup": "MAŁOPOLSKIE",
         "line": {
          "color": "#19d3f3",
          "dash": "solid",
          "shape": "spline"
         },
         "marker": {
          "symbol": "circle"
         },
         "mode": "lines",
         "name": "MAŁOPOLSKIE",
         "orientation": "v",
         "showlegend": true,
         "x": [
          1998,
          1999,
          2000,
          2001,
          2002,
          2003,
          2004,
          2005,
          2006,
          2007,
          2008,
          2009,
          2010,
          2011,
          2012,
          2013,
          2014,
          2015,
          2016,
          2017,
          2018,
          2019,
          2020
         ],
         "xaxis": "x",
         "y": [
          49414.0,
          53382.0,
          57996.0,
          61637.0,
          60754.0,
          64877.0,
          68077.0,
          67278.0,
          70248.0,
          77658.0,
          88944.0,
          90035.0,
          94982.0,
          98259.0,
          99134.0,
          101977.0,
          100051.0,
          98577.0,
          104073.0,
          100607.0,
          101742.0,
          107773.0,
          104152.0
         ],
         "yaxis": "y",
         "type": "scatter"
        },
        {
         "hovertemplate": "<b>%{hovertext}</b><br><br>Nazwa=OPOLSKIE<br>Rok=%{x}<br>Wartosc=%{y}<extra></extra>",
         "hovertext": [
          "OPOLSKIE",
          "OPOLSKIE",
          "OPOLSKIE",
          "OPOLSKIE",
          "OPOLSKIE",
          "OPOLSKIE",
          "OPOLSKIE",
          "OPOLSKIE",
          "OPOLSKIE",
          "OPOLSKIE",
          "OPOLSKIE",
          "OPOLSKIE",
          "OPOLSKIE",
          "OPOLSKIE",
          "OPOLSKIE",
          "OPOLSKIE",
          "OPOLSKIE",
          "OPOLSKIE",
          "OPOLSKIE",
          "OPOLSKIE",
          "OPOLSKIE",
          "OPOLSKIE",
          "OPOLSKIE"
         ],
         "legendgroup": "OPOLSKIE",
         "line": {
          "color": "#FF6692",
          "dash": "solid",
          "shape": "spline"
         },
         "marker": {
          "symbol": "circle"
         },
         "mode": "lines",
         "name": "OPOLSKIE",
         "orientation": "v",
         "showlegend": true,
         "x": [
          1998,
          1999,
          2000,
          2001,
          2002,
          2003,
          2004,
          2005,
          2006,
          2007,
          2008,
          2009,
          2010,
          2011,
          2012,
          2013,
          2014,
          2015,
          2016,
          2017,
          2018,
          2019,
          2020
         ],
         "xaxis": "x",
         "y": [
          52016.0,
          55521.0,
          58209.0,
          61215.0,
          60470.0,
          68403.0,
          72749.0,
          77765.0,
          76212.0,
          84606.0,
          101623.0,
          101633.0,
          102190.0,
          104857.0,
          106899.0,
          107297.0,
          104879.0,
          110299.0,
          119504.0,
          123671.0,
          118977.0,
          133212.0,
          128733.0
         ],
         "yaxis": "y",
         "type": "scatter"
        },
        {
         "hovertemplate": "<b>%{hovertext}</b><br><br>Nazwa=PODKARPACKIE<br>Rok=%{x}<br>Wartosc=%{y}<extra></extra>",
         "hovertext": [
          "PODKARPACKIE",
          "PODKARPACKIE",
          "PODKARPACKIE",
          "PODKARPACKIE",
          "PODKARPACKIE",
          "PODKARPACKIE",
          "PODKARPACKIE",
          "PODKARPACKIE",
          "PODKARPACKIE",
          "PODKARPACKIE",
          "PODKARPACKIE",
          "PODKARPACKIE",
          "PODKARPACKIE",
          "PODKARPACKIE",
          "PODKARPACKIE",
          "PODKARPACKIE",
          "PODKARPACKIE",
          "PODKARPACKIE",
          "PODKARPACKIE",
          "PODKARPACKIE",
          "PODKARPACKIE",
          "PODKARPACKIE",
          "PODKARPACKIE"
         ],
         "legendgroup": "PODKARPACKIE",
         "line": {
          "color": "#B6E880",
          "dash": "solid",
          "shape": "spline"
         },
         "marker": {
          "symbol": "circle"
         },
         "mode": "lines",
         "name": "PODKARPACKIE",
         "orientation": "v",
         "showlegend": true,
         "x": [
          1998,
          1999,
          2000,
          2001,
          2002,
          2003,
          2004,
          2005,
          2006,
          2007,
          2008,
          2009,
          2010,
          2011,
          2012,
          2013,
          2014,
          2015,
          2016,
          2017,
          2018,
          2019,
          2020
         ],
         "xaxis": "x",
         "y": [
          40717.0,
          47178.0,
          50707.0,
          52458.0,
          53588.0,
          59050.0,
          59975.0,
          58927.0,
          62434.0,
          65982.0,
          74266.0,
          78378.0,
          82000.0,
          84300.0,
          84239.0,
          87466.0,
          90095.0,
          92232.0,
          90218.0,
          94191.0,
          96022.0,
          101569.0,
          93094.0
         ],
         "yaxis": "y",
         "type": "scatter"
        },
        {
         "hovertemplate": "<b>%{hovertext}</b><br><br>Nazwa=PODLASKIE<br>Rok=%{x}<br>Wartosc=%{y}<extra></extra>",
         "hovertext": [
          "PODLASKIE",
          "PODLASKIE",
          "PODLASKIE",
          "PODLASKIE",
          "PODLASKIE",
          "PODLASKIE",
          "PODLASKIE",
          "PODLASKIE",
          "PODLASKIE",
          "PODLASKIE",
          "PODLASKIE",
          "PODLASKIE",
          "PODLASKIE",
          "PODLASKIE",
          "PODLASKIE",
          "PODLASKIE",
          "PODLASKIE",
          "PODLASKIE",
          "PODLASKIE",
          "PODLASKIE",
          "PODLASKIE",
          "PODLASKIE",
          "PODLASKIE"
         ],
         "legendgroup": "PODLASKIE",
         "line": {
          "color": "#FF97FF",
          "dash": "solid",
          "shape": "spline"
         },
         "marker": {
          "symbol": "circle"
         },
         "mode": "lines",
         "name": "PODLASKIE",
         "orientation": "v",
         "showlegend": true,
         "x": [
          1998,
          1999,
          2000,
          2001,
          2002,
          2003,
          2004,
          2005,
          2006,
          2007,
          2008,
          2009,
          2010,
          2011,
          2012,
          2013,
          2014,
          2015,
          2016,
          2017,
          2018,
          2019,
          2020
         ],
         "xaxis": "x",
         "y": [
          46282.0,
          48363.0,
          53622.0,
          57659.0,
          59055.0,
          61658.0,
          61500.0,
          65006.0,
          70862.0,
          73746.0,
          80283.0,
          82356.0,
          85056.0,
          90342.0,
          94184.0,
          91763.0,
          97815.0,
          100343.0,
          102030.0,
          102746.0,
          106610.0,
          102951.0,
          102037.0
         ],
         "yaxis": "y",
         "type": "scatter"
        },
        {
         "hovertemplate": "<b>%{hovertext}</b><br><br>Nazwa=POLSKA<br>Rok=%{x}<br>Wartosc=%{y}<extra></extra>",
         "hovertext": [
          "POLSKA",
          "POLSKA",
          "POLSKA",
          "POLSKA",
          "POLSKA",
          "POLSKA",
          "POLSKA",
          "POLSKA",
          "POLSKA",
          "POLSKA",
          "POLSKA",
          "POLSKA",
          "POLSKA",
          "POLSKA",
          "POLSKA",
          "POLSKA",
          "POLSKA",
          "POLSKA",
          "POLSKA",
          "POLSKA",
          "POLSKA",
          "POLSKA",
          "POLSKA"
         ],
         "legendgroup": "POLSKA",
         "line": {
          "color": "#FECB52",
          "dash": "solid",
          "shape": "spline"
         },
         "marker": {
          "symbol": "circle"
         },
         "mode": "lines",
         "name": "POLSKA",
         "orientation": "v",
         "showlegend": true,
         "x": [
          1998,
          1999,
          2000,
          2001,
          2002,
          2003,
          2004,
          2005,
          2006,
          2007,
          2008,
          2009,
          2010,
          2011,
          2012,
          2013,
          2014,
          2015,
          2016,
          2017,
          2018,
          2019,
          2020
         ],
         "xaxis": "x",
         "y": [
          50303.0,
          54976.0,
          59949.0,
          60972.0,
          62499.0,
          67781.0,
          69470.0,
          69030.0,
          74481.0,
          80995.0,
          90427.0,
          95668.0,
          99144.0,
          101512.0,
          105078.0,
          106170.0,
          107874.0,
          109119.0,
          113164.0,
          117644.0,
          118686.0,
          125173.0,
          120958.0
         ],
         "yaxis": "y",
         "type": "scatter"
        },
        {
         "hovertemplate": "<b>%{hovertext}</b><br><br>Nazwa=POMORSKIE<br>Rok=%{x}<br>Wartosc=%{y}<extra></extra>",
         "hovertext": [
          "POMORSKIE",
          "POMORSKIE",
          "POMORSKIE",
          "POMORSKIE",
          "POMORSKIE",
          "POMORSKIE",
          "POMORSKIE",
          "POMORSKIE",
          "POMORSKIE",
          "POMORSKIE",
          "POMORSKIE",
          "POMORSKIE",
          "POMORSKIE",
          "POMORSKIE",
          "POMORSKIE",
          "POMORSKIE",
          "POMORSKIE",
          "POMORSKIE",
          "POMORSKIE",
          "POMORSKIE",
          "POMORSKIE",
          "POMORSKIE",
          "POMORSKIE"
         ],
         "legendgroup": "POMORSKIE",
         "line": {
          "color": "#636efa",
          "dash": "solid",
          "shape": "spline"
         },
         "marker": {
          "symbol": "circle"
         },
         "mode": "lines",
         "name": "POMORSKIE",
         "orientation": "v",
         "showlegend": true,
         "x": [
          1998,
          1999,
          2000,
          2001,
          2002,
          2003,
          2004,
          2005,
          2006,
          2007,
          2008,
          2009,
          2010,
          2011,
          2012,
          2013,
          2014,
          2015,
          2016,
          2017,
          2018,
          2019,
          2020
         ],
         "xaxis": "x",
         "y": [
          48749.0,
          52101.0,
          62169.0,
          62236.0,
          66549.0,
          70108.0,
          72155.0,
          69711.0,
          78506.0,
          86382.0,
          91680.0,
          97711.0,
          99905.0,
          106125.0,
          106838.0,
          108392.0,
          109490.0,
          105853.0,
          117844.0,
          119767.0,
          128899.0,
          136050.0,
          132872.0
         ],
         "yaxis": "y",
         "type": "scatter"
        },
        {
         "hovertemplate": "<b>%{hovertext}</b><br><br>Nazwa=WARMIŃSKO-MAZURSKIE<br>Rok=%{x}<br>Wartosc=%{y}<extra></extra>",
         "hovertext": [
          "WARMIŃSKO-MAZURSKIE",
          "WARMIŃSKO-MAZURSKIE",
          "WARMIŃSKO-MAZURSKIE",
          "WARMIŃSKO-MAZURSKIE",
          "WARMIŃSKO-MAZURSKIE",
          "WARMIŃSKO-MAZURSKIE",
          "WARMIŃSKO-MAZURSKIE",
          "WARMIŃSKO-MAZURSKIE",
          "WARMIŃSKO-MAZURSKIE",
          "WARMIŃSKO-MAZURSKIE",
          "WARMIŃSKO-MAZURSKIE",
          "WARMIŃSKO-MAZURSKIE",
          "WARMIŃSKO-MAZURSKIE",
          "WARMIŃSKO-MAZURSKIE",
          "WARMIŃSKO-MAZURSKIE",
          "WARMIŃSKO-MAZURSKIE",
          "WARMIŃSKO-MAZURSKIE",
          "WARMIŃSKO-MAZURSKIE",
          "WARMIŃSKO-MAZURSKIE",
          "WARMIŃSKO-MAZURSKIE",
          "WARMIŃSKO-MAZURSKIE",
          "WARMIŃSKO-MAZURSKIE",
          "WARMIŃSKO-MAZURSKIE"
         ],
         "legendgroup": "WARMIŃSKO-MAZURSKIE",
         "line": {
          "color": "#EF553B",
          "dash": "solid",
          "shape": "spline"
         },
         "marker": {
          "symbol": "circle"
         },
         "mode": "lines",
         "name": "WARMIŃSKO-MAZURSKIE",
         "orientation": "v",
         "showlegend": true,
         "x": [
          1998,
          1999,
          2000,
          2001,
          2002,
          2003,
          2004,
          2005,
          2006,
          2007,
          2008,
          2009,
          2010,
          2011,
          2012,
          2013,
          2014,
          2015,
          2016,
          2017,
          2018,
          2019,
          2020
         ],
         "xaxis": "x",
         "y": [
          43570.0,
          47302.0,
          54171.0,
          53857.0,
          54985.0,
          59813.0,
          59068.0,
          60548.0,
          64412.0,
          71020.0,
          80932.0,
          87250.0,
          86615.0,
          87030.0,
          87723.0,
          88348.0,
          92262.0,
          90491.0,
          96426.0,
          98143.0,
          98186.0,
          100690.0,
          107342.0
         ],
         "yaxis": "y",
         "type": "scatter"
        },
        {
         "hovertemplate": "<b>%{hovertext}</b><br><br>Nazwa=WIELKOPOLSKIE<br>Rok=%{x}<br>Wartosc=%{y}<extra></extra>",
         "hovertext": [
          "WIELKOPOLSKIE",
          "WIELKOPOLSKIE",
          "WIELKOPOLSKIE",
          "WIELKOPOLSKIE",
          "WIELKOPOLSKIE",
          "WIELKOPOLSKIE",
          "WIELKOPOLSKIE",
          "WIELKOPOLSKIE",
          "WIELKOPOLSKIE",
          "WIELKOPOLSKIE",
          "WIELKOPOLSKIE",
          "WIELKOPOLSKIE",
          "WIELKOPOLSKIE",
          "WIELKOPOLSKIE",
          "WIELKOPOLSKIE",
          "WIELKOPOLSKIE",
          "WIELKOPOLSKIE",
          "WIELKOPOLSKIE",
          "WIELKOPOLSKIE",
          "WIELKOPOLSKIE",
          "WIELKOPOLSKIE",
          "WIELKOPOLSKIE",
          "WIELKOPOLSKIE"
         ],
         "legendgroup": "WIELKOPOLSKIE",
         "line": {
          "color": "#00cc96",
          "dash": "solid",
          "shape": "spline"
         },
         "marker": {
          "symbol": "circle"
         },
         "mode": "lines",
         "name": "WIELKOPOLSKIE",
         "orientation": "v",
         "showlegend": true,
         "x": [
          1998,
          1999,
          2000,
          2001,
          2002,
          2003,
          2004,
          2005,
          2006,
          2007,
          2008,
          2009,
          2010,
          2011,
          2012,
          2013,
          2014,
          2015,
          2016,
          2017,
          2018,
          2019,
          2020
         ],
         "xaxis": "x",
         "y": [
          48143.0,
          51035.0,
          58088.0,
          58052.0,
          58710.0,
          62447.0,
          65493.0,
          66600.0,
          70545.0,
          75305.0,
          83956.0,
          87957.0,
          90127.0,
          91366.0,
          92933.0,
          95265.0,
          94706.0,
          95920.0,
          99762.0,
          105138.0,
          105166.0,
          116282.0,
          112335.0
         ],
         "yaxis": "y",
         "type": "scatter"
        },
        {
         "hovertemplate": "<b>%{hovertext}</b><br><br>Nazwa=ZACHODNIOPOMORSKIE<br>Rok=%{x}<br>Wartosc=%{y}<extra></extra>",
         "hovertext": [
          "ZACHODNIOPOMORSKIE",
          "ZACHODNIOPOMORSKIE",
          "ZACHODNIOPOMORSKIE",
          "ZACHODNIOPOMORSKIE",
          "ZACHODNIOPOMORSKIE",
          "ZACHODNIOPOMORSKIE",
          "ZACHODNIOPOMORSKIE",
          "ZACHODNIOPOMORSKIE",
          "ZACHODNIOPOMORSKIE",
          "ZACHODNIOPOMORSKIE",
          "ZACHODNIOPOMORSKIE",
          "ZACHODNIOPOMORSKIE",
          "ZACHODNIOPOMORSKIE",
          "ZACHODNIOPOMORSKIE",
          "ZACHODNIOPOMORSKIE",
          "ZACHODNIOPOMORSKIE",
          "ZACHODNIOPOMORSKIE",
          "ZACHODNIOPOMORSKIE",
          "ZACHODNIOPOMORSKIE",
          "ZACHODNIOPOMORSKIE",
          "ZACHODNIOPOMORSKIE",
          "ZACHODNIOPOMORSKIE",
          "ZACHODNIOPOMORSKIE"
         ],
         "legendgroup": "ZACHODNIOPOMORSKIE",
         "line": {
          "color": "#ab63fa",
          "dash": "solid",
          "shape": "spline"
         },
         "marker": {
          "symbol": "circle"
         },
         "mode": "lines",
         "name": "ZACHODNIOPOMORSKIE",
         "orientation": "v",
         "showlegend": true,
         "x": [
          1998,
          1999,
          2000,
          2001,
          2002,
          2003,
          2004,
          2005,
          2006,
          2007,
          2008,
          2009,
          2010,
          2011,
          2012,
          2013,
          2014,
          2015,
          2016,
          2017,
          2018,
          2019,
          2020
         ],
         "xaxis": "x",
         "y": [
          53181.0,
          57479.0,
          60521.0,
          60631.0,
          63765.0,
          69303.0,
          70381.0,
          67236.0,
          75817.0,
          79941.0,
          87354.0,
          94020.0,
          96494.0,
          97204.0,
          103423.0,
          99658.0,
          106619.0,
          110662.0,
          111056.0,
          120581.0,
          123653.0,
          126335.0,
          124253.0
         ],
         "yaxis": "y",
         "type": "scatter"
        },
        {
         "hovertemplate": "<b>%{hovertext}</b><br><br>Nazwa=ŁÓDZKIE<br>Rok=%{x}<br>Wartosc=%{y}<extra></extra>",
         "hovertext": [
          "ŁÓDZKIE",
          "ŁÓDZKIE",
          "ŁÓDZKIE",
          "ŁÓDZKIE",
          "ŁÓDZKIE",
          "ŁÓDZKIE",
          "ŁÓDZKIE",
          "ŁÓDZKIE",
          "ŁÓDZKIE",
          "ŁÓDZKIE",
          "ŁÓDZKIE",
          "ŁÓDZKIE",
          "ŁÓDZKIE",
          "ŁÓDZKIE",
          "ŁÓDZKIE",
          "ŁÓDZKIE",
          "ŁÓDZKIE",
          "ŁÓDZKIE",
          "ŁÓDZKIE",
          "ŁÓDZKIE",
          "ŁÓDZKIE",
          "ŁÓDZKIE",
          "ŁÓDZKIE"
         ],
         "legendgroup": "ŁÓDZKIE",
         "line": {
          "color": "#FFA15A",
          "dash": "solid",
          "shape": "spline"
         },
         "marker": {
          "symbol": "circle"
         },
         "mode": "lines",
         "name": "ŁÓDZKIE",
         "orientation": "v",
         "showlegend": true,
         "x": [
          1998,
          1999,
          2000,
          2001,
          2002,
          2003,
          2004,
          2005,
          2006,
          2007,
          2008,
          2009,
          2010,
          2011,
          2012,
          2013,
          2014,
          2015,
          2016,
          2017,
          2018,
          2019,
          2020
         ],
         "xaxis": "x",
         "y": [
          51243.0,
          57677.0,
          64253.0,
          62158.0,
          64722.0,
          68976.0,
          71326.0,
          73181.0,
          77412.0,
          83969.0,
          92237.0,
          99773.0,
          103564.0,
          104270.0,
          108325.0,
          113227.0,
          111897.0,
          114623.0,
          120571.0,
          131349.0,
          123233.0,
          137459.0,
          122552.0
         ],
         "yaxis": "y",
         "type": "scatter"
        },
        {
         "hovertemplate": "<b>%{hovertext}</b><br><br>Nazwa=ŚLĄSKIE<br>Rok=%{x}<br>Wartosc=%{y}<extra></extra>",
         "hovertext": [
          "ŚLĄSKIE",
          "ŚLĄSKIE",
          "ŚLĄSKIE",
          "ŚLĄSKIE",
          "ŚLĄSKIE",
          "ŚLĄSKIE",
          "ŚLĄSKIE",
          "ŚLĄSKIE",
          "ŚLĄSKIE",
          "ŚLĄSKIE",
          "ŚLĄSKIE",
          "ŚLĄSKIE",
          "ŚLĄSKIE",
          "ŚLĄSKIE",
          "ŚLĄSKIE",
          "ŚLĄSKIE",
          "ŚLĄSKIE",
          "ŚLĄSKIE",
          "ŚLĄSKIE",
          "ŚLĄSKIE",
          "ŚLĄSKIE",
          "ŚLĄSKIE",
          "ŚLĄSKIE"
         ],
         "legendgroup": "ŚLĄSKIE",
         "line": {
          "color": "#19d3f3",
          "dash": "solid",
          "shape": "spline"
         },
         "marker": {
          "symbol": "circle"
         },
         "mode": "lines",
         "name": "ŚLĄSKIE",
         "orientation": "v",
         "showlegend": true,
         "x": [
          1998,
          1999,
          2000,
          2001,
          2002,
          2003,
          2004,
          2005,
          2006,
          2007,
          2008,
          2009,
          2010,
          2011,
          2012,
          2013,
          2014,
          2015,
          2016,
          2017,
          2018,
          2019,
          2020
         ],
         "xaxis": "x",
         "y": [
          55517.0,
          60722.0,
          64289.0,
          66054.0,
          65054.0,
          68991.0,
          69641.0,
          70804.0,
          75843.0,
          81109.0,
          88858.0,
          95951.0,
          100593.0,
          103973.0,
          110152.0,
          111809.0,
          112950.0,
          113642.0,
          120237.0,
          129707.0,
          128863.0,
          133036.0,
          127085.0
         ],
         "yaxis": "y",
         "type": "scatter"
        },
        {
         "hovertemplate": "<b>%{hovertext}</b><br><br>Nazwa=ŚWIĘTOKRZYSKIE<br>Rok=%{x}<br>Wartosc=%{y}<extra></extra>",
         "hovertext": [
          "ŚWIĘTOKRZYSKIE",
          "ŚWIĘTOKRZYSKIE",
          "ŚWIĘTOKRZYSKIE",
          "ŚWIĘTOKRZYSKIE",
          "ŚWIĘTOKRZYSKIE",
          "ŚWIĘTOKRZYSKIE",
          "ŚWIĘTOKRZYSKIE",
          "ŚWIĘTOKRZYSKIE",
          "ŚWIĘTOKRZYSKIE",
          "ŚWIĘTOKRZYSKIE",
          "ŚWIĘTOKRZYSKIE",
          "ŚWIĘTOKRZYSKIE",
          "ŚWIĘTOKRZYSKIE",
          "ŚWIĘTOKRZYSKIE",
          "ŚWIĘTOKRZYSKIE",
          "ŚWIĘTOKRZYSKIE",
          "ŚWIĘTOKRZYSKIE",
          "ŚWIĘTOKRZYSKIE",
          "ŚWIĘTOKRZYSKIE",
          "ŚWIĘTOKRZYSKIE",
          "ŚWIĘTOKRZYSKIE",
          "ŚWIĘTOKRZYSKIE",
          "ŚWIĘTOKRZYSKIE"
         ],
         "legendgroup": "ŚWIĘTOKRZYSKIE",
         "line": {
          "color": "#FF6692",
          "dash": "solid",
          "shape": "spline"
         },
         "marker": {
          "symbol": "circle"
         },
         "mode": "lines",
         "name": "ŚWIĘTOKRZYSKIE",
         "orientation": "v",
         "showlegend": true,
         "x": [
          1998,
          1999,
          2000,
          2001,
          2002,
          2003,
          2004,
          2005,
          2006,
          2007,
          2008,
          2009,
          2010,
          2011,
          2012,
          2013,
          2014,
          2015,
          2016,
          2017,
          2018,
          2019,
          2020
         ],
         "xaxis": "x",
         "y": [
          43521.0,
          47182.0,
          51698.0,
          53754.0,
          54088.0,
          59564.0,
          58137.0,
          57950.0,
          61206.0,
          68238.0,
          74654.0,
          79207.0,
          83170.0,
          84858.0,
          87480.0,
          92248.0,
          96983.0,
          90317.0,
          96317.0,
          103706.0,
          107511.0,
          105905.0,
          99400.0
         ],
         "yaxis": "y",
         "type": "scatter"
        }
       ],
       "layout": {
        "template": {
         "data": {
          "bar": [
           {
            "error_x": {
             "color": "#2a3f5f"
            },
            "error_y": {
             "color": "#2a3f5f"
            },
            "marker": {
             "line": {
              "color": "#E5ECF6",
              "width": 0.5
             },
             "pattern": {
              "fillmode": "overlay",
              "size": 10,
              "solidity": 0.2
             }
            },
            "type": "bar"
           }
          ],
          "barpolar": [
           {
            "marker": {
             "line": {
              "color": "#E5ECF6",
              "width": 0.5
             },
             "pattern": {
              "fillmode": "overlay",
              "size": 10,
              "solidity": 0.2
             }
            },
            "type": "barpolar"
           }
          ],
          "carpet": [
           {
            "aaxis": {
             "endlinecolor": "#2a3f5f",
             "gridcolor": "white",
             "linecolor": "white",
             "minorgridcolor": "white",
             "startlinecolor": "#2a3f5f"
            },
            "baxis": {
             "endlinecolor": "#2a3f5f",
             "gridcolor": "white",
             "linecolor": "white",
             "minorgridcolor": "white",
             "startlinecolor": "#2a3f5f"
            },
            "type": "carpet"
           }
          ],
          "choropleth": [
           {
            "colorbar": {
             "outlinewidth": 0,
             "ticks": ""
            },
            "type": "choropleth"
           }
          ],
          "contour": [
           {
            "colorbar": {
             "outlinewidth": 0,
             "ticks": ""
            },
            "colorscale": [
             [
              0.0,
              "#0d0887"
             ],
             [
              0.1111111111111111,
              "#46039f"
             ],
             [
              0.2222222222222222,
              "#7201a8"
             ],
             [
              0.3333333333333333,
              "#9c179e"
             ],
             [
              0.4444444444444444,
              "#bd3786"
             ],
             [
              0.5555555555555556,
              "#d8576b"
             ],
             [
              0.6666666666666666,
              "#ed7953"
             ],
             [
              0.7777777777777778,
              "#fb9f3a"
             ],
             [
              0.8888888888888888,
              "#fdca26"
             ],
             [
              1.0,
              "#f0f921"
             ]
            ],
            "type": "contour"
           }
          ],
          "contourcarpet": [
           {
            "colorbar": {
             "outlinewidth": 0,
             "ticks": ""
            },
            "type": "contourcarpet"
           }
          ],
          "heatmap": [
           {
            "colorbar": {
             "outlinewidth": 0,
             "ticks": ""
            },
            "colorscale": [
             [
              0.0,
              "#0d0887"
             ],
             [
              0.1111111111111111,
              "#46039f"
             ],
             [
              0.2222222222222222,
              "#7201a8"
             ],
             [
              0.3333333333333333,
              "#9c179e"
             ],
             [
              0.4444444444444444,
              "#bd3786"
             ],
             [
              0.5555555555555556,
              "#d8576b"
             ],
             [
              0.6666666666666666,
              "#ed7953"
             ],
             [
              0.7777777777777778,
              "#fb9f3a"
             ],
             [
              0.8888888888888888,
              "#fdca26"
             ],
             [
              1.0,
              "#f0f921"
             ]
            ],
            "type": "heatmap"
           }
          ],
          "heatmapgl": [
           {
            "colorbar": {
             "outlinewidth": 0,
             "ticks": ""
            },
            "colorscale": [
             [
              0.0,
              "#0d0887"
             ],
             [
              0.1111111111111111,
              "#46039f"
             ],
             [
              0.2222222222222222,
              "#7201a8"
             ],
             [
              0.3333333333333333,
              "#9c179e"
             ],
             [
              0.4444444444444444,
              "#bd3786"
             ],
             [
              0.5555555555555556,
              "#d8576b"
             ],
             [
              0.6666666666666666,
              "#ed7953"
             ],
             [
              0.7777777777777778,
              "#fb9f3a"
             ],
             [
              0.8888888888888888,
              "#fdca26"
             ],
             [
              1.0,
              "#f0f921"
             ]
            ],
            "type": "heatmapgl"
           }
          ],
          "histogram": [
           {
            "marker": {
             "pattern": {
              "fillmode": "overlay",
              "size": 10,
              "solidity": 0.2
             }
            },
            "type": "histogram"
           }
          ],
          "histogram2d": [
           {
            "colorbar": {
             "outlinewidth": 0,
             "ticks": ""
            },
            "colorscale": [
             [
              0.0,
              "#0d0887"
             ],
             [
              0.1111111111111111,
              "#46039f"
             ],
             [
              0.2222222222222222,
              "#7201a8"
             ],
             [
              0.3333333333333333,
              "#9c179e"
             ],
             [
              0.4444444444444444,
              "#bd3786"
             ],
             [
              0.5555555555555556,
              "#d8576b"
             ],
             [
              0.6666666666666666,
              "#ed7953"
             ],
             [
              0.7777777777777778,
              "#fb9f3a"
             ],
             [
              0.8888888888888888,
              "#fdca26"
             ],
             [
              1.0,
              "#f0f921"
             ]
            ],
            "type": "histogram2d"
           }
          ],
          "histogram2dcontour": [
           {
            "colorbar": {
             "outlinewidth": 0,
             "ticks": ""
            },
            "colorscale": [
             [
              0.0,
              "#0d0887"
             ],
             [
              0.1111111111111111,
              "#46039f"
             ],
             [
              0.2222222222222222,
              "#7201a8"
             ],
             [
              0.3333333333333333,
              "#9c179e"
             ],
             [
              0.4444444444444444,
              "#bd3786"
             ],
             [
              0.5555555555555556,
              "#d8576b"
             ],
             [
              0.6666666666666666,
              "#ed7953"
             ],
             [
              0.7777777777777778,
              "#fb9f3a"
             ],
             [
              0.8888888888888888,
              "#fdca26"
             ],
             [
              1.0,
              "#f0f921"
             ]
            ],
            "type": "histogram2dcontour"
           }
          ],
          "mesh3d": [
           {
            "colorbar": {
             "outlinewidth": 0,
             "ticks": ""
            },
            "type": "mesh3d"
           }
          ],
          "parcoords": [
           {
            "line": {
             "colorbar": {
              "outlinewidth": 0,
              "ticks": ""
             }
            },
            "type": "parcoords"
           }
          ],
          "pie": [
           {
            "automargin": true,
            "type": "pie"
           }
          ],
          "scatter": [
           {
            "marker": {
             "colorbar": {
              "outlinewidth": 0,
              "ticks": ""
             }
            },
            "type": "scatter"
           }
          ],
          "scatter3d": [
           {
            "line": {
             "colorbar": {
              "outlinewidth": 0,
              "ticks": ""
             }
            },
            "marker": {
             "colorbar": {
              "outlinewidth": 0,
              "ticks": ""
             }
            },
            "type": "scatter3d"
           }
          ],
          "scattercarpet": [
           {
            "marker": {
             "colorbar": {
              "outlinewidth": 0,
              "ticks": ""
             }
            },
            "type": "scattercarpet"
           }
          ],
          "scattergeo": [
           {
            "marker": {
             "colorbar": {
              "outlinewidth": 0,
              "ticks": ""
             }
            },
            "type": "scattergeo"
           }
          ],
          "scattergl": [
           {
            "marker": {
             "colorbar": {
              "outlinewidth": 0,
              "ticks": ""
             }
            },
            "type": "scattergl"
           }
          ],
          "scattermapbox": [
           {
            "marker": {
             "colorbar": {
              "outlinewidth": 0,
              "ticks": ""
             }
            },
            "type": "scattermapbox"
           }
          ],
          "scatterpolar": [
           {
            "marker": {
             "colorbar": {
              "outlinewidth": 0,
              "ticks": ""
             }
            },
            "type": "scatterpolar"
           }
          ],
          "scatterpolargl": [
           {
            "marker": {
             "colorbar": {
              "outlinewidth": 0,
              "ticks": ""
             }
            },
            "type": "scatterpolargl"
           }
          ],
          "scatterternary": [
           {
            "marker": {
             "colorbar": {
              "outlinewidth": 0,
              "ticks": ""
             }
            },
            "type": "scatterternary"
           }
          ],
          "surface": [
           {
            "colorbar": {
             "outlinewidth": 0,
             "ticks": ""
            },
            "colorscale": [
             [
              0.0,
              "#0d0887"
             ],
             [
              0.1111111111111111,
              "#46039f"
             ],
             [
              0.2222222222222222,
              "#7201a8"
             ],
             [
              0.3333333333333333,
              "#9c179e"
             ],
             [
              0.4444444444444444,
              "#bd3786"
             ],
             [
              0.5555555555555556,
              "#d8576b"
             ],
             [
              0.6666666666666666,
              "#ed7953"
             ],
             [
              0.7777777777777778,
              "#fb9f3a"
             ],
             [
              0.8888888888888888,
              "#fdca26"
             ],
             [
              1.0,
              "#f0f921"
             ]
            ],
            "type": "surface"
           }
          ],
          "table": [
           {
            "cells": {
             "fill": {
              "color": "#EBF0F8"
             },
             "line": {
              "color": "white"
             }
            },
            "header": {
             "fill": {
              "color": "#C8D4E3"
             },
             "line": {
              "color": "white"
             }
            },
            "type": "table"
           }
          ]
         },
         "layout": {
          "annotationdefaults": {
           "arrowcolor": "#2a3f5f",
           "arrowhead": 0,
           "arrowwidth": 1
          },
          "autotypenumbers": "strict",
          "coloraxis": {
           "colorbar": {
            "outlinewidth": 0,
            "ticks": ""
           }
          },
          "colorscale": {
           "diverging": [
            [
             0,
             "#8e0152"
            ],
            [
             0.1,
             "#c51b7d"
            ],
            [
             0.2,
             "#de77ae"
            ],
            [
             0.3,
             "#f1b6da"
            ],
            [
             0.4,
             "#fde0ef"
            ],
            [
             0.5,
             "#f7f7f7"
            ],
            [
             0.6,
             "#e6f5d0"
            ],
            [
             0.7,
             "#b8e186"
            ],
            [
             0.8,
             "#7fbc41"
            ],
            [
             0.9,
             "#4d9221"
            ],
            [
             1,
             "#276419"
            ]
           ],
           "sequential": [
            [
             0.0,
             "#0d0887"
            ],
            [
             0.1111111111111111,
             "#46039f"
            ],
            [
             0.2222222222222222,
             "#7201a8"
            ],
            [
             0.3333333333333333,
             "#9c179e"
            ],
            [
             0.4444444444444444,
             "#bd3786"
            ],
            [
             0.5555555555555556,
             "#d8576b"
            ],
            [
             0.6666666666666666,
             "#ed7953"
            ],
            [
             0.7777777777777778,
             "#fb9f3a"
            ],
            [
             0.8888888888888888,
             "#fdca26"
            ],
            [
             1.0,
             "#f0f921"
            ]
           ],
           "sequentialminus": [
            [
             0.0,
             "#0d0887"
            ],
            [
             0.1111111111111111,
             "#46039f"
            ],
            [
             0.2222222222222222,
             "#7201a8"
            ],
            [
             0.3333333333333333,
             "#9c179e"
            ],
            [
             0.4444444444444444,
             "#bd3786"
            ],
            [
             0.5555555555555556,
             "#d8576b"
            ],
            [
             0.6666666666666666,
             "#ed7953"
            ],
            [
             0.7777777777777778,
             "#fb9f3a"
            ],
            [
             0.8888888888888888,
             "#fdca26"
            ],
            [
             1.0,
             "#f0f921"
            ]
           ]
          },
          "colorway": [
           "#636efa",
           "#EF553B",
           "#00cc96",
           "#ab63fa",
           "#FFA15A",
           "#19d3f3",
           "#FF6692",
           "#B6E880",
           "#FF97FF",
           "#FECB52"
          ],
          "font": {
           "color": "#2a3f5f"
          },
          "geo": {
           "bgcolor": "white",
           "lakecolor": "white",
           "landcolor": "#E5ECF6",
           "showlakes": true,
           "showland": true,
           "subunitcolor": "white"
          },
          "hoverlabel": {
           "align": "left"
          },
          "hovermode": "closest",
          "mapbox": {
           "style": "light"
          },
          "paper_bgcolor": "white",
          "plot_bgcolor": "#E5ECF6",
          "polar": {
           "angularaxis": {
            "gridcolor": "white",
            "linecolor": "white",
            "ticks": ""
           },
           "bgcolor": "#E5ECF6",
           "radialaxis": {
            "gridcolor": "white",
            "linecolor": "white",
            "ticks": ""
           }
          },
          "scene": {
           "xaxis": {
            "backgroundcolor": "#E5ECF6",
            "gridcolor": "white",
            "gridwidth": 2,
            "linecolor": "white",
            "showbackground": true,
            "ticks": "",
            "zerolinecolor": "white"
           },
           "yaxis": {
            "backgroundcolor": "#E5ECF6",
            "gridcolor": "white",
            "gridwidth": 2,
            "linecolor": "white",
            "showbackground": true,
            "ticks": "",
            "zerolinecolor": "white"
           },
           "zaxis": {
            "backgroundcolor": "#E5ECF6",
            "gridcolor": "white",
            "gridwidth": 2,
            "linecolor": "white",
            "showbackground": true,
            "ticks": "",
            "zerolinecolor": "white"
           }
          },
          "shapedefaults": {
           "line": {
            "color": "#2a3f5f"
           }
          },
          "ternary": {
           "aaxis": {
            "gridcolor": "white",
            "linecolor": "white",
            "ticks": ""
           },
           "baxis": {
            "gridcolor": "white",
            "linecolor": "white",
            "ticks": ""
           },
           "bgcolor": "#E5ECF6",
           "caxis": {
            "gridcolor": "white",
            "linecolor": "white",
            "ticks": ""
           }
          },
          "title": {
           "x": 0.05
          },
          "xaxis": {
           "automargin": true,
           "gridcolor": "white",
           "linecolor": "white",
           "ticks": "",
           "title": {
            "standoff": 15
           },
           "zerolinecolor": "white",
           "zerolinewidth": 2
          },
          "yaxis": {
           "automargin": true,
           "gridcolor": "white",
           "linecolor": "white",
           "ticks": "",
           "title": {
            "standoff": 15
           },
           "zerolinecolor": "white",
           "zerolinewidth": 2
          }
         }
        },
        "xaxis": {
         "anchor": "y",
         "domain": [
          0.0,
          1.0
         ],
         "title": {
          "text": "Rok"
         }
        },
        "yaxis": {
         "anchor": "x",
         "domain": [
          0.0,
          1.0
         ],
         "title": {
          "text": "Wartosc"
         }
        },
        "legend": {
         "title": {
          "text": "Nazwa"
         },
         "tracegroupgap": 0
        },
        "margin": {
         "t": 60
        }
       },
       "config": {
        "plotlyServerURL": "https://plot.ly"
       }
      },
      "text/html": "<div>                            <div id=\"9d4df8f2-4f16-413f-97b4-bff729563de3\" class=\"plotly-graph-div\" style=\"height:525px; width:100%;\"></div>            <script type=\"text/javascript\">                require([\"plotly\"], function(Plotly) {                    window.PLOTLYENV=window.PLOTLYENV || {};                                    if (document.getElementById(\"9d4df8f2-4f16-413f-97b4-bff729563de3\")) {                    Plotly.newPlot(                        \"9d4df8f2-4f16-413f-97b4-bff729563de3\",                        [{\"hovertemplate\":\"<b>%{hovertext}</b><br><br>Nazwa=DOLNO\\u015aL\\u0104SKIE<br>Rok=%{x}<br>Wartosc=%{y}<extra></extra>\",\"hovertext\":[\"DOLNO\\u015aL\\u0104SKIE\",\"DOLNO\\u015aL\\u0104SKIE\",\"DOLNO\\u015aL\\u0104SKIE\",\"DOLNO\\u015aL\\u0104SKIE\",\"DOLNO\\u015aL\\u0104SKIE\",\"DOLNO\\u015aL\\u0104SKIE\",\"DOLNO\\u015aL\\u0104SKIE\",\"DOLNO\\u015aL\\u0104SKIE\",\"DOLNO\\u015aL\\u0104SKIE\",\"DOLNO\\u015aL\\u0104SKIE\",\"DOLNO\\u015aL\\u0104SKIE\",\"DOLNO\\u015aL\\u0104SKIE\",\"DOLNO\\u015aL\\u0104SKIE\",\"DOLNO\\u015aL\\u0104SKIE\",\"DOLNO\\u015aL\\u0104SKIE\",\"DOLNO\\u015aL\\u0104SKIE\",\"DOLNO\\u015aL\\u0104SKIE\",\"DOLNO\\u015aL\\u0104SKIE\",\"DOLNO\\u015aL\\u0104SKIE\",\"DOLNO\\u015aL\\u0104SKIE\",\"DOLNO\\u015aL\\u0104SKIE\",\"DOLNO\\u015aL\\u0104SKIE\",\"DOLNO\\u015aL\\u0104SKIE\"],\"legendgroup\":\"DOLNO\\u015aL\\u0104SKIE\",\"line\":{\"color\":\"#636efa\",\"dash\":\"solid\",\"shape\":\"spline\"},\"marker\":{\"symbol\":\"circle\"},\"mode\":\"lines\",\"name\":\"DOLNO\\u015aL\\u0104SKIE\",\"orientation\":\"v\",\"showlegend\":true,\"x\":[1998,1999,2000,2001,2002,2003,2004,2005,2006,2007,2008,2009,2010,2011,2012,2013,2014,2015,2016,2017,2018,2019,2020],\"xaxis\":\"x\",\"y\":[54933.0,60374.0,60862.0,60845.0,62388.0,68329.0,68811.0,69982.0,75921.0,85071.0,95767.0,101317.0,101893.0,105749.0,113111.0,112512.0,113057.0,117866.0,121159.0,122207.0,128280.0,138262.0,135529.0],\"yaxis\":\"y\",\"type\":\"scatter\"},{\"hovertemplate\":\"<b>%{hovertext}</b><br><br>Nazwa=KUJAWSKO-POMORSKIE<br>Rok=%{x}<br>Wartosc=%{y}<extra></extra>\",\"hovertext\":[\"KUJAWSKO-POMORSKIE\",\"KUJAWSKO-POMORSKIE\",\"KUJAWSKO-POMORSKIE\",\"KUJAWSKO-POMORSKIE\",\"KUJAWSKO-POMORSKIE\",\"KUJAWSKO-POMORSKIE\",\"KUJAWSKO-POMORSKIE\",\"KUJAWSKO-POMORSKIE\",\"KUJAWSKO-POMORSKIE\",\"KUJAWSKO-POMORSKIE\",\"KUJAWSKO-POMORSKIE\",\"KUJAWSKO-POMORSKIE\",\"KUJAWSKO-POMORSKIE\",\"KUJAWSKO-POMORSKIE\",\"KUJAWSKO-POMORSKIE\",\"KUJAWSKO-POMORSKIE\",\"KUJAWSKO-POMORSKIE\",\"KUJAWSKO-POMORSKIE\",\"KUJAWSKO-POMORSKIE\",\"KUJAWSKO-POMORSKIE\",\"KUJAWSKO-POMORSKIE\",\"KUJAWSKO-POMORSKIE\",\"KUJAWSKO-POMORSKIE\"],\"legendgroup\":\"KUJAWSKO-POMORSKIE\",\"line\":{\"color\":\"#EF553B\",\"dash\":\"solid\",\"shape\":\"spline\"},\"marker\":{\"symbol\":\"circle\"},\"mode\":\"lines\",\"name\":\"KUJAWSKO-POMORSKIE\",\"orientation\":\"v\",\"showlegend\":true,\"x\":[1998,1999,2000,2001,2002,2003,2004,2005,2006,2007,2008,2009,2010,2011,2012,2013,2014,2015,2016,2017,2018,2019,2020],\"xaxis\":\"x\",\"y\":[44082.0,47592.0,54019.0,57260.0,59350.0,61914.0,62138.0,60266.0,67426.0,73634.0,79805.0,87559.0,92363.0,92275.0,94169.0,99212.0,98760.0,102254.0,105048.0,111551.0,114982.0,123232.0,116859.0],\"yaxis\":\"y\",\"type\":\"scatter\"},{\"hovertemplate\":\"<b>%{hovertext}</b><br><br>Nazwa=LUBELSKIE<br>Rok=%{x}<br>Wartosc=%{y}<extra></extra>\",\"hovertext\":[\"LUBELSKIE\",\"LUBELSKIE\",\"LUBELSKIE\",\"LUBELSKIE\",\"LUBELSKIE\",\"LUBELSKIE\",\"LUBELSKIE\",\"LUBELSKIE\",\"LUBELSKIE\",\"LUBELSKIE\",\"LUBELSKIE\",\"LUBELSKIE\",\"LUBELSKIE\",\"LUBELSKIE\",\"LUBELSKIE\",\"LUBELSKIE\",\"LUBELSKIE\",\"LUBELSKIE\",\"LUBELSKIE\",\"LUBELSKIE\",\"LUBELSKIE\",\"LUBELSKIE\",\"LUBELSKIE\"],\"legendgroup\":\"LUBELSKIE\",\"line\":{\"color\":\"#00cc96\",\"dash\":\"solid\",\"shape\":\"spline\"},\"marker\":{\"symbol\":\"circle\"},\"mode\":\"lines\",\"name\":\"LUBELSKIE\",\"orientation\":\"v\",\"showlegend\":true,\"x\":[1998,1999,2000,2001,2002,2003,2004,2005,2006,2007,2008,2009,2010,2011,2012,2013,2014,2015,2016,2017,2018,2019,2020],\"xaxis\":\"x\",\"y\":[43038.0,49070.0,51364.0,52874.0,57029.0,61824.0,65216.0,62951.0,67814.0,70521.0,81070.0,82698.0,82553.0,85617.0,91794.0,92911.0,98213.0,97128.0,102945.0,108653.0,108566.0,111435.0,113257.0],\"yaxis\":\"y\",\"type\":\"scatter\"},{\"hovertemplate\":\"<b>%{hovertext}</b><br><br>Nazwa=LUBUSKIE<br>Rok=%{x}<br>Wartosc=%{y}<extra></extra>\",\"hovertext\":[\"LUBUSKIE\",\"LUBUSKIE\",\"LUBUSKIE\",\"LUBUSKIE\",\"LUBUSKIE\",\"LUBUSKIE\",\"LUBUSKIE\",\"LUBUSKIE\",\"LUBUSKIE\",\"LUBUSKIE\",\"LUBUSKIE\",\"LUBUSKIE\",\"LUBUSKIE\",\"LUBUSKIE\",\"LUBUSKIE\",\"LUBUSKIE\",\"LUBUSKIE\",\"LUBUSKIE\",\"LUBUSKIE\",\"LUBUSKIE\",\"LUBUSKIE\",\"LUBUSKIE\",\"LUBUSKIE\"],\"legendgroup\":\"LUBUSKIE\",\"line\":{\"color\":\"#ab63fa\",\"dash\":\"solid\",\"shape\":\"spline\"},\"marker\":{\"symbol\":\"circle\"},\"mode\":\"lines\",\"name\":\"LUBUSKIE\",\"orientation\":\"v\",\"showlegend\":true,\"x\":[1998,1999,2000,2001,2002,2003,2004,2005,2006,2007,2008,2009,2010,2011,2012,2013,2014,2015,2016,2017,2018,2019,2020],\"xaxis\":\"x\",\"y\":[51702.0,59121.0,60407.0,60713.0,61257.0,66364.0,68718.0,71748.0,77191.0,81644.0,93438.0,93790.0,97230.0,97564.0,100652.0,100529.0,105149.0,111830.0,116165.0,113136.0,114384.0,122371.0,115730.0],\"yaxis\":\"y\",\"type\":\"scatter\"},{\"hovertemplate\":\"<b>%{hovertext}</b><br><br>Nazwa=MAZOWIECKIE<br>Rok=%{x}<br>Wartosc=%{y}<extra></extra>\",\"hovertext\":[\"MAZOWIECKIE\",\"MAZOWIECKIE\",\"MAZOWIECKIE\",\"MAZOWIECKIE\",\"MAZOWIECKIE\",\"MAZOWIECKIE\",\"MAZOWIECKIE\",\"MAZOWIECKIE\",\"MAZOWIECKIE\",\"MAZOWIECKIE\",\"MAZOWIECKIE\",\"MAZOWIECKIE\",\"MAZOWIECKIE\",\"MAZOWIECKIE\",\"MAZOWIECKIE\",\"MAZOWIECKIE\",\"MAZOWIECKIE\",\"MAZOWIECKIE\",\"MAZOWIECKIE\",\"MAZOWIECKIE\",\"MAZOWIECKIE\",\"MAZOWIECKIE\",\"MAZOWIECKIE\"],\"legendgroup\":\"MAZOWIECKIE\",\"line\":{\"color\":\"#FFA15A\",\"dash\":\"solid\",\"shape\":\"spline\"},\"marker\":{\"symbol\":\"circle\"},\"mode\":\"lines\",\"name\":\"MAZOWIECKIE\",\"orientation\":\"v\",\"showlegend\":true,\"x\":[1998,1999,2000,2001,2002,2003,2004,2005,2006,2007,2008,2009,2010,2011,2012,2013,2014,2015,2016,2017,2018,2019,2020],\"xaxis\":\"x\",\"y\":[58881.0,64012.0,70411.0,70928.0,74395.0,83946.0,86320.0,81721.0,90175.0,101026.0,114727.0,123328.0,129985.0,130835.0,135389.0,133100.0,135541.0,137071.0,136988.0,142070.0,142113.0,147626.0,144301.0],\"yaxis\":\"y\",\"type\":\"scatter\"},{\"hovertemplate\":\"<b>%{hovertext}</b><br><br>Nazwa=MA\\u0141OPOLSKIE<br>Rok=%{x}<br>Wartosc=%{y}<extra></extra>\",\"hovertext\":[\"MA\\u0141OPOLSKIE\",\"MA\\u0141OPOLSKIE\",\"MA\\u0141OPOLSKIE\",\"MA\\u0141OPOLSKIE\",\"MA\\u0141OPOLSKIE\",\"MA\\u0141OPOLSKIE\",\"MA\\u0141OPOLSKIE\",\"MA\\u0141OPOLSKIE\",\"MA\\u0141OPOLSKIE\",\"MA\\u0141OPOLSKIE\",\"MA\\u0141OPOLSKIE\",\"MA\\u0141OPOLSKIE\",\"MA\\u0141OPOLSKIE\",\"MA\\u0141OPOLSKIE\",\"MA\\u0141OPOLSKIE\",\"MA\\u0141OPOLSKIE\",\"MA\\u0141OPOLSKIE\",\"MA\\u0141OPOLSKIE\",\"MA\\u0141OPOLSKIE\",\"MA\\u0141OPOLSKIE\",\"MA\\u0141OPOLSKIE\",\"MA\\u0141OPOLSKIE\",\"MA\\u0141OPOLSKIE\"],\"legendgroup\":\"MA\\u0141OPOLSKIE\",\"line\":{\"color\":\"#19d3f3\",\"dash\":\"solid\",\"shape\":\"spline\"},\"marker\":{\"symbol\":\"circle\"},\"mode\":\"lines\",\"name\":\"MA\\u0141OPOLSKIE\",\"orientation\":\"v\",\"showlegend\":true,\"x\":[1998,1999,2000,2001,2002,2003,2004,2005,2006,2007,2008,2009,2010,2011,2012,2013,2014,2015,2016,2017,2018,2019,2020],\"xaxis\":\"x\",\"y\":[49414.0,53382.0,57996.0,61637.0,60754.0,64877.0,68077.0,67278.0,70248.0,77658.0,88944.0,90035.0,94982.0,98259.0,99134.0,101977.0,100051.0,98577.0,104073.0,100607.0,101742.0,107773.0,104152.0],\"yaxis\":\"y\",\"type\":\"scatter\"},{\"hovertemplate\":\"<b>%{hovertext}</b><br><br>Nazwa=OPOLSKIE<br>Rok=%{x}<br>Wartosc=%{y}<extra></extra>\",\"hovertext\":[\"OPOLSKIE\",\"OPOLSKIE\",\"OPOLSKIE\",\"OPOLSKIE\",\"OPOLSKIE\",\"OPOLSKIE\",\"OPOLSKIE\",\"OPOLSKIE\",\"OPOLSKIE\",\"OPOLSKIE\",\"OPOLSKIE\",\"OPOLSKIE\",\"OPOLSKIE\",\"OPOLSKIE\",\"OPOLSKIE\",\"OPOLSKIE\",\"OPOLSKIE\",\"OPOLSKIE\",\"OPOLSKIE\",\"OPOLSKIE\",\"OPOLSKIE\",\"OPOLSKIE\",\"OPOLSKIE\"],\"legendgroup\":\"OPOLSKIE\",\"line\":{\"color\":\"#FF6692\",\"dash\":\"solid\",\"shape\":\"spline\"},\"marker\":{\"symbol\":\"circle\"},\"mode\":\"lines\",\"name\":\"OPOLSKIE\",\"orientation\":\"v\",\"showlegend\":true,\"x\":[1998,1999,2000,2001,2002,2003,2004,2005,2006,2007,2008,2009,2010,2011,2012,2013,2014,2015,2016,2017,2018,2019,2020],\"xaxis\":\"x\",\"y\":[52016.0,55521.0,58209.0,61215.0,60470.0,68403.0,72749.0,77765.0,76212.0,84606.0,101623.0,101633.0,102190.0,104857.0,106899.0,107297.0,104879.0,110299.0,119504.0,123671.0,118977.0,133212.0,128733.0],\"yaxis\":\"y\",\"type\":\"scatter\"},{\"hovertemplate\":\"<b>%{hovertext}</b><br><br>Nazwa=PODKARPACKIE<br>Rok=%{x}<br>Wartosc=%{y}<extra></extra>\",\"hovertext\":[\"PODKARPACKIE\",\"PODKARPACKIE\",\"PODKARPACKIE\",\"PODKARPACKIE\",\"PODKARPACKIE\",\"PODKARPACKIE\",\"PODKARPACKIE\",\"PODKARPACKIE\",\"PODKARPACKIE\",\"PODKARPACKIE\",\"PODKARPACKIE\",\"PODKARPACKIE\",\"PODKARPACKIE\",\"PODKARPACKIE\",\"PODKARPACKIE\",\"PODKARPACKIE\",\"PODKARPACKIE\",\"PODKARPACKIE\",\"PODKARPACKIE\",\"PODKARPACKIE\",\"PODKARPACKIE\",\"PODKARPACKIE\",\"PODKARPACKIE\"],\"legendgroup\":\"PODKARPACKIE\",\"line\":{\"color\":\"#B6E880\",\"dash\":\"solid\",\"shape\":\"spline\"},\"marker\":{\"symbol\":\"circle\"},\"mode\":\"lines\",\"name\":\"PODKARPACKIE\",\"orientation\":\"v\",\"showlegend\":true,\"x\":[1998,1999,2000,2001,2002,2003,2004,2005,2006,2007,2008,2009,2010,2011,2012,2013,2014,2015,2016,2017,2018,2019,2020],\"xaxis\":\"x\",\"y\":[40717.0,47178.0,50707.0,52458.0,53588.0,59050.0,59975.0,58927.0,62434.0,65982.0,74266.0,78378.0,82000.0,84300.0,84239.0,87466.0,90095.0,92232.0,90218.0,94191.0,96022.0,101569.0,93094.0],\"yaxis\":\"y\",\"type\":\"scatter\"},{\"hovertemplate\":\"<b>%{hovertext}</b><br><br>Nazwa=PODLASKIE<br>Rok=%{x}<br>Wartosc=%{y}<extra></extra>\",\"hovertext\":[\"PODLASKIE\",\"PODLASKIE\",\"PODLASKIE\",\"PODLASKIE\",\"PODLASKIE\",\"PODLASKIE\",\"PODLASKIE\",\"PODLASKIE\",\"PODLASKIE\",\"PODLASKIE\",\"PODLASKIE\",\"PODLASKIE\",\"PODLASKIE\",\"PODLASKIE\",\"PODLASKIE\",\"PODLASKIE\",\"PODLASKIE\",\"PODLASKIE\",\"PODLASKIE\",\"PODLASKIE\",\"PODLASKIE\",\"PODLASKIE\",\"PODLASKIE\"],\"legendgroup\":\"PODLASKIE\",\"line\":{\"color\":\"#FF97FF\",\"dash\":\"solid\",\"shape\":\"spline\"},\"marker\":{\"symbol\":\"circle\"},\"mode\":\"lines\",\"name\":\"PODLASKIE\",\"orientation\":\"v\",\"showlegend\":true,\"x\":[1998,1999,2000,2001,2002,2003,2004,2005,2006,2007,2008,2009,2010,2011,2012,2013,2014,2015,2016,2017,2018,2019,2020],\"xaxis\":\"x\",\"y\":[46282.0,48363.0,53622.0,57659.0,59055.0,61658.0,61500.0,65006.0,70862.0,73746.0,80283.0,82356.0,85056.0,90342.0,94184.0,91763.0,97815.0,100343.0,102030.0,102746.0,106610.0,102951.0,102037.0],\"yaxis\":\"y\",\"type\":\"scatter\"},{\"hovertemplate\":\"<b>%{hovertext}</b><br><br>Nazwa=POLSKA<br>Rok=%{x}<br>Wartosc=%{y}<extra></extra>\",\"hovertext\":[\"POLSKA\",\"POLSKA\",\"POLSKA\",\"POLSKA\",\"POLSKA\",\"POLSKA\",\"POLSKA\",\"POLSKA\",\"POLSKA\",\"POLSKA\",\"POLSKA\",\"POLSKA\",\"POLSKA\",\"POLSKA\",\"POLSKA\",\"POLSKA\",\"POLSKA\",\"POLSKA\",\"POLSKA\",\"POLSKA\",\"POLSKA\",\"POLSKA\",\"POLSKA\"],\"legendgroup\":\"POLSKA\",\"line\":{\"color\":\"#FECB52\",\"dash\":\"solid\",\"shape\":\"spline\"},\"marker\":{\"symbol\":\"circle\"},\"mode\":\"lines\",\"name\":\"POLSKA\",\"orientation\":\"v\",\"showlegend\":true,\"x\":[1998,1999,2000,2001,2002,2003,2004,2005,2006,2007,2008,2009,2010,2011,2012,2013,2014,2015,2016,2017,2018,2019,2020],\"xaxis\":\"x\",\"y\":[50303.0,54976.0,59949.0,60972.0,62499.0,67781.0,69470.0,69030.0,74481.0,80995.0,90427.0,95668.0,99144.0,101512.0,105078.0,106170.0,107874.0,109119.0,113164.0,117644.0,118686.0,125173.0,120958.0],\"yaxis\":\"y\",\"type\":\"scatter\"},{\"hovertemplate\":\"<b>%{hovertext}</b><br><br>Nazwa=POMORSKIE<br>Rok=%{x}<br>Wartosc=%{y}<extra></extra>\",\"hovertext\":[\"POMORSKIE\",\"POMORSKIE\",\"POMORSKIE\",\"POMORSKIE\",\"POMORSKIE\",\"POMORSKIE\",\"POMORSKIE\",\"POMORSKIE\",\"POMORSKIE\",\"POMORSKIE\",\"POMORSKIE\",\"POMORSKIE\",\"POMORSKIE\",\"POMORSKIE\",\"POMORSKIE\",\"POMORSKIE\",\"POMORSKIE\",\"POMORSKIE\",\"POMORSKIE\",\"POMORSKIE\",\"POMORSKIE\",\"POMORSKIE\",\"POMORSKIE\"],\"legendgroup\":\"POMORSKIE\",\"line\":{\"color\":\"#636efa\",\"dash\":\"solid\",\"shape\":\"spline\"},\"marker\":{\"symbol\":\"circle\"},\"mode\":\"lines\",\"name\":\"POMORSKIE\",\"orientation\":\"v\",\"showlegend\":true,\"x\":[1998,1999,2000,2001,2002,2003,2004,2005,2006,2007,2008,2009,2010,2011,2012,2013,2014,2015,2016,2017,2018,2019,2020],\"xaxis\":\"x\",\"y\":[48749.0,52101.0,62169.0,62236.0,66549.0,70108.0,72155.0,69711.0,78506.0,86382.0,91680.0,97711.0,99905.0,106125.0,106838.0,108392.0,109490.0,105853.0,117844.0,119767.0,128899.0,136050.0,132872.0],\"yaxis\":\"y\",\"type\":\"scatter\"},{\"hovertemplate\":\"<b>%{hovertext}</b><br><br>Nazwa=WARMI\\u0143SKO-MAZURSKIE<br>Rok=%{x}<br>Wartosc=%{y}<extra></extra>\",\"hovertext\":[\"WARMI\\u0143SKO-MAZURSKIE\",\"WARMI\\u0143SKO-MAZURSKIE\",\"WARMI\\u0143SKO-MAZURSKIE\",\"WARMI\\u0143SKO-MAZURSKIE\",\"WARMI\\u0143SKO-MAZURSKIE\",\"WARMI\\u0143SKO-MAZURSKIE\",\"WARMI\\u0143SKO-MAZURSKIE\",\"WARMI\\u0143SKO-MAZURSKIE\",\"WARMI\\u0143SKO-MAZURSKIE\",\"WARMI\\u0143SKO-MAZURSKIE\",\"WARMI\\u0143SKO-MAZURSKIE\",\"WARMI\\u0143SKO-MAZURSKIE\",\"WARMI\\u0143SKO-MAZURSKIE\",\"WARMI\\u0143SKO-MAZURSKIE\",\"WARMI\\u0143SKO-MAZURSKIE\",\"WARMI\\u0143SKO-MAZURSKIE\",\"WARMI\\u0143SKO-MAZURSKIE\",\"WARMI\\u0143SKO-MAZURSKIE\",\"WARMI\\u0143SKO-MAZURSKIE\",\"WARMI\\u0143SKO-MAZURSKIE\",\"WARMI\\u0143SKO-MAZURSKIE\",\"WARMI\\u0143SKO-MAZURSKIE\",\"WARMI\\u0143SKO-MAZURSKIE\"],\"legendgroup\":\"WARMI\\u0143SKO-MAZURSKIE\",\"line\":{\"color\":\"#EF553B\",\"dash\":\"solid\",\"shape\":\"spline\"},\"marker\":{\"symbol\":\"circle\"},\"mode\":\"lines\",\"name\":\"WARMI\\u0143SKO-MAZURSKIE\",\"orientation\":\"v\",\"showlegend\":true,\"x\":[1998,1999,2000,2001,2002,2003,2004,2005,2006,2007,2008,2009,2010,2011,2012,2013,2014,2015,2016,2017,2018,2019,2020],\"xaxis\":\"x\",\"y\":[43570.0,47302.0,54171.0,53857.0,54985.0,59813.0,59068.0,60548.0,64412.0,71020.0,80932.0,87250.0,86615.0,87030.0,87723.0,88348.0,92262.0,90491.0,96426.0,98143.0,98186.0,100690.0,107342.0],\"yaxis\":\"y\",\"type\":\"scatter\"},{\"hovertemplate\":\"<b>%{hovertext}</b><br><br>Nazwa=WIELKOPOLSKIE<br>Rok=%{x}<br>Wartosc=%{y}<extra></extra>\",\"hovertext\":[\"WIELKOPOLSKIE\",\"WIELKOPOLSKIE\",\"WIELKOPOLSKIE\",\"WIELKOPOLSKIE\",\"WIELKOPOLSKIE\",\"WIELKOPOLSKIE\",\"WIELKOPOLSKIE\",\"WIELKOPOLSKIE\",\"WIELKOPOLSKIE\",\"WIELKOPOLSKIE\",\"WIELKOPOLSKIE\",\"WIELKOPOLSKIE\",\"WIELKOPOLSKIE\",\"WIELKOPOLSKIE\",\"WIELKOPOLSKIE\",\"WIELKOPOLSKIE\",\"WIELKOPOLSKIE\",\"WIELKOPOLSKIE\",\"WIELKOPOLSKIE\",\"WIELKOPOLSKIE\",\"WIELKOPOLSKIE\",\"WIELKOPOLSKIE\",\"WIELKOPOLSKIE\"],\"legendgroup\":\"WIELKOPOLSKIE\",\"line\":{\"color\":\"#00cc96\",\"dash\":\"solid\",\"shape\":\"spline\"},\"marker\":{\"symbol\":\"circle\"},\"mode\":\"lines\",\"name\":\"WIELKOPOLSKIE\",\"orientation\":\"v\",\"showlegend\":true,\"x\":[1998,1999,2000,2001,2002,2003,2004,2005,2006,2007,2008,2009,2010,2011,2012,2013,2014,2015,2016,2017,2018,2019,2020],\"xaxis\":\"x\",\"y\":[48143.0,51035.0,58088.0,58052.0,58710.0,62447.0,65493.0,66600.0,70545.0,75305.0,83956.0,87957.0,90127.0,91366.0,92933.0,95265.0,94706.0,95920.0,99762.0,105138.0,105166.0,116282.0,112335.0],\"yaxis\":\"y\",\"type\":\"scatter\"},{\"hovertemplate\":\"<b>%{hovertext}</b><br><br>Nazwa=ZACHODNIOPOMORSKIE<br>Rok=%{x}<br>Wartosc=%{y}<extra></extra>\",\"hovertext\":[\"ZACHODNIOPOMORSKIE\",\"ZACHODNIOPOMORSKIE\",\"ZACHODNIOPOMORSKIE\",\"ZACHODNIOPOMORSKIE\",\"ZACHODNIOPOMORSKIE\",\"ZACHODNIOPOMORSKIE\",\"ZACHODNIOPOMORSKIE\",\"ZACHODNIOPOMORSKIE\",\"ZACHODNIOPOMORSKIE\",\"ZACHODNIOPOMORSKIE\",\"ZACHODNIOPOMORSKIE\",\"ZACHODNIOPOMORSKIE\",\"ZACHODNIOPOMORSKIE\",\"ZACHODNIOPOMORSKIE\",\"ZACHODNIOPOMORSKIE\",\"ZACHODNIOPOMORSKIE\",\"ZACHODNIOPOMORSKIE\",\"ZACHODNIOPOMORSKIE\",\"ZACHODNIOPOMORSKIE\",\"ZACHODNIOPOMORSKIE\",\"ZACHODNIOPOMORSKIE\",\"ZACHODNIOPOMORSKIE\",\"ZACHODNIOPOMORSKIE\"],\"legendgroup\":\"ZACHODNIOPOMORSKIE\",\"line\":{\"color\":\"#ab63fa\",\"dash\":\"solid\",\"shape\":\"spline\"},\"marker\":{\"symbol\":\"circle\"},\"mode\":\"lines\",\"name\":\"ZACHODNIOPOMORSKIE\",\"orientation\":\"v\",\"showlegend\":true,\"x\":[1998,1999,2000,2001,2002,2003,2004,2005,2006,2007,2008,2009,2010,2011,2012,2013,2014,2015,2016,2017,2018,2019,2020],\"xaxis\":\"x\",\"y\":[53181.0,57479.0,60521.0,60631.0,63765.0,69303.0,70381.0,67236.0,75817.0,79941.0,87354.0,94020.0,96494.0,97204.0,103423.0,99658.0,106619.0,110662.0,111056.0,120581.0,123653.0,126335.0,124253.0],\"yaxis\":\"y\",\"type\":\"scatter\"},{\"hovertemplate\":\"<b>%{hovertext}</b><br><br>Nazwa=\\u0141\\u00d3DZKIE<br>Rok=%{x}<br>Wartosc=%{y}<extra></extra>\",\"hovertext\":[\"\\u0141\\u00d3DZKIE\",\"\\u0141\\u00d3DZKIE\",\"\\u0141\\u00d3DZKIE\",\"\\u0141\\u00d3DZKIE\",\"\\u0141\\u00d3DZKIE\",\"\\u0141\\u00d3DZKIE\",\"\\u0141\\u00d3DZKIE\",\"\\u0141\\u00d3DZKIE\",\"\\u0141\\u00d3DZKIE\",\"\\u0141\\u00d3DZKIE\",\"\\u0141\\u00d3DZKIE\",\"\\u0141\\u00d3DZKIE\",\"\\u0141\\u00d3DZKIE\",\"\\u0141\\u00d3DZKIE\",\"\\u0141\\u00d3DZKIE\",\"\\u0141\\u00d3DZKIE\",\"\\u0141\\u00d3DZKIE\",\"\\u0141\\u00d3DZKIE\",\"\\u0141\\u00d3DZKIE\",\"\\u0141\\u00d3DZKIE\",\"\\u0141\\u00d3DZKIE\",\"\\u0141\\u00d3DZKIE\",\"\\u0141\\u00d3DZKIE\"],\"legendgroup\":\"\\u0141\\u00d3DZKIE\",\"line\":{\"color\":\"#FFA15A\",\"dash\":\"solid\",\"shape\":\"spline\"},\"marker\":{\"symbol\":\"circle\"},\"mode\":\"lines\",\"name\":\"\\u0141\\u00d3DZKIE\",\"orientation\":\"v\",\"showlegend\":true,\"x\":[1998,1999,2000,2001,2002,2003,2004,2005,2006,2007,2008,2009,2010,2011,2012,2013,2014,2015,2016,2017,2018,2019,2020],\"xaxis\":\"x\",\"y\":[51243.0,57677.0,64253.0,62158.0,64722.0,68976.0,71326.0,73181.0,77412.0,83969.0,92237.0,99773.0,103564.0,104270.0,108325.0,113227.0,111897.0,114623.0,120571.0,131349.0,123233.0,137459.0,122552.0],\"yaxis\":\"y\",\"type\":\"scatter\"},{\"hovertemplate\":\"<b>%{hovertext}</b><br><br>Nazwa=\\u015aL\\u0104SKIE<br>Rok=%{x}<br>Wartosc=%{y}<extra></extra>\",\"hovertext\":[\"\\u015aL\\u0104SKIE\",\"\\u015aL\\u0104SKIE\",\"\\u015aL\\u0104SKIE\",\"\\u015aL\\u0104SKIE\",\"\\u015aL\\u0104SKIE\",\"\\u015aL\\u0104SKIE\",\"\\u015aL\\u0104SKIE\",\"\\u015aL\\u0104SKIE\",\"\\u015aL\\u0104SKIE\",\"\\u015aL\\u0104SKIE\",\"\\u015aL\\u0104SKIE\",\"\\u015aL\\u0104SKIE\",\"\\u015aL\\u0104SKIE\",\"\\u015aL\\u0104SKIE\",\"\\u015aL\\u0104SKIE\",\"\\u015aL\\u0104SKIE\",\"\\u015aL\\u0104SKIE\",\"\\u015aL\\u0104SKIE\",\"\\u015aL\\u0104SKIE\",\"\\u015aL\\u0104SKIE\",\"\\u015aL\\u0104SKIE\",\"\\u015aL\\u0104SKIE\",\"\\u015aL\\u0104SKIE\"],\"legendgroup\":\"\\u015aL\\u0104SKIE\",\"line\":{\"color\":\"#19d3f3\",\"dash\":\"solid\",\"shape\":\"spline\"},\"marker\":{\"symbol\":\"circle\"},\"mode\":\"lines\",\"name\":\"\\u015aL\\u0104SKIE\",\"orientation\":\"v\",\"showlegend\":true,\"x\":[1998,1999,2000,2001,2002,2003,2004,2005,2006,2007,2008,2009,2010,2011,2012,2013,2014,2015,2016,2017,2018,2019,2020],\"xaxis\":\"x\",\"y\":[55517.0,60722.0,64289.0,66054.0,65054.0,68991.0,69641.0,70804.0,75843.0,81109.0,88858.0,95951.0,100593.0,103973.0,110152.0,111809.0,112950.0,113642.0,120237.0,129707.0,128863.0,133036.0,127085.0],\"yaxis\":\"y\",\"type\":\"scatter\"},{\"hovertemplate\":\"<b>%{hovertext}</b><br><br>Nazwa=\\u015aWI\\u0118TOKRZYSKIE<br>Rok=%{x}<br>Wartosc=%{y}<extra></extra>\",\"hovertext\":[\"\\u015aWI\\u0118TOKRZYSKIE\",\"\\u015aWI\\u0118TOKRZYSKIE\",\"\\u015aWI\\u0118TOKRZYSKIE\",\"\\u015aWI\\u0118TOKRZYSKIE\",\"\\u015aWI\\u0118TOKRZYSKIE\",\"\\u015aWI\\u0118TOKRZYSKIE\",\"\\u015aWI\\u0118TOKRZYSKIE\",\"\\u015aWI\\u0118TOKRZYSKIE\",\"\\u015aWI\\u0118TOKRZYSKIE\",\"\\u015aWI\\u0118TOKRZYSKIE\",\"\\u015aWI\\u0118TOKRZYSKIE\",\"\\u015aWI\\u0118TOKRZYSKIE\",\"\\u015aWI\\u0118TOKRZYSKIE\",\"\\u015aWI\\u0118TOKRZYSKIE\",\"\\u015aWI\\u0118TOKRZYSKIE\",\"\\u015aWI\\u0118TOKRZYSKIE\",\"\\u015aWI\\u0118TOKRZYSKIE\",\"\\u015aWI\\u0118TOKRZYSKIE\",\"\\u015aWI\\u0118TOKRZYSKIE\",\"\\u015aWI\\u0118TOKRZYSKIE\",\"\\u015aWI\\u0118TOKRZYSKIE\",\"\\u015aWI\\u0118TOKRZYSKIE\",\"\\u015aWI\\u0118TOKRZYSKIE\"],\"legendgroup\":\"\\u015aWI\\u0118TOKRZYSKIE\",\"line\":{\"color\":\"#FF6692\",\"dash\":\"solid\",\"shape\":\"spline\"},\"marker\":{\"symbol\":\"circle\"},\"mode\":\"lines\",\"name\":\"\\u015aWI\\u0118TOKRZYSKIE\",\"orientation\":\"v\",\"showlegend\":true,\"x\":[1998,1999,2000,2001,2002,2003,2004,2005,2006,2007,2008,2009,2010,2011,2012,2013,2014,2015,2016,2017,2018,2019,2020],\"xaxis\":\"x\",\"y\":[43521.0,47182.0,51698.0,53754.0,54088.0,59564.0,58137.0,57950.0,61206.0,68238.0,74654.0,79207.0,83170.0,84858.0,87480.0,92248.0,96983.0,90317.0,96317.0,103706.0,107511.0,105905.0,99400.0],\"yaxis\":\"y\",\"type\":\"scatter\"}],                        {\"template\":{\"data\":{\"bar\":[{\"error_x\":{\"color\":\"#2a3f5f\"},\"error_y\":{\"color\":\"#2a3f5f\"},\"marker\":{\"line\":{\"color\":\"#E5ECF6\",\"width\":0.5},\"pattern\":{\"fillmode\":\"overlay\",\"size\":10,\"solidity\":0.2}},\"type\":\"bar\"}],\"barpolar\":[{\"marker\":{\"line\":{\"color\":\"#E5ECF6\",\"width\":0.5},\"pattern\":{\"fillmode\":\"overlay\",\"size\":10,\"solidity\":0.2}},\"type\":\"barpolar\"}],\"carpet\":[{\"aaxis\":{\"endlinecolor\":\"#2a3f5f\",\"gridcolor\":\"white\",\"linecolor\":\"white\",\"minorgridcolor\":\"white\",\"startlinecolor\":\"#2a3f5f\"},\"baxis\":{\"endlinecolor\":\"#2a3f5f\",\"gridcolor\":\"white\",\"linecolor\":\"white\",\"minorgridcolor\":\"white\",\"startlinecolor\":\"#2a3f5f\"},\"type\":\"carpet\"}],\"choropleth\":[{\"colorbar\":{\"outlinewidth\":0,\"ticks\":\"\"},\"type\":\"choropleth\"}],\"contour\":[{\"colorbar\":{\"outlinewidth\":0,\"ticks\":\"\"},\"colorscale\":[[0.0,\"#0d0887\"],[0.1111111111111111,\"#46039f\"],[0.2222222222222222,\"#7201a8\"],[0.3333333333333333,\"#9c179e\"],[0.4444444444444444,\"#bd3786\"],[0.5555555555555556,\"#d8576b\"],[0.6666666666666666,\"#ed7953\"],[0.7777777777777778,\"#fb9f3a\"],[0.8888888888888888,\"#fdca26\"],[1.0,\"#f0f921\"]],\"type\":\"contour\"}],\"contourcarpet\":[{\"colorbar\":{\"outlinewidth\":0,\"ticks\":\"\"},\"type\":\"contourcarpet\"}],\"heatmap\":[{\"colorbar\":{\"outlinewidth\":0,\"ticks\":\"\"},\"colorscale\":[[0.0,\"#0d0887\"],[0.1111111111111111,\"#46039f\"],[0.2222222222222222,\"#7201a8\"],[0.3333333333333333,\"#9c179e\"],[0.4444444444444444,\"#bd3786\"],[0.5555555555555556,\"#d8576b\"],[0.6666666666666666,\"#ed7953\"],[0.7777777777777778,\"#fb9f3a\"],[0.8888888888888888,\"#fdca26\"],[1.0,\"#f0f921\"]],\"type\":\"heatmap\"}],\"heatmapgl\":[{\"colorbar\":{\"outlinewidth\":0,\"ticks\":\"\"},\"colorscale\":[[0.0,\"#0d0887\"],[0.1111111111111111,\"#46039f\"],[0.2222222222222222,\"#7201a8\"],[0.3333333333333333,\"#9c179e\"],[0.4444444444444444,\"#bd3786\"],[0.5555555555555556,\"#d8576b\"],[0.6666666666666666,\"#ed7953\"],[0.7777777777777778,\"#fb9f3a\"],[0.8888888888888888,\"#fdca26\"],[1.0,\"#f0f921\"]],\"type\":\"heatmapgl\"}],\"histogram\":[{\"marker\":{\"pattern\":{\"fillmode\":\"overlay\",\"size\":10,\"solidity\":0.2}},\"type\":\"histogram\"}],\"histogram2d\":[{\"colorbar\":{\"outlinewidth\":0,\"ticks\":\"\"},\"colorscale\":[[0.0,\"#0d0887\"],[0.1111111111111111,\"#46039f\"],[0.2222222222222222,\"#7201a8\"],[0.3333333333333333,\"#9c179e\"],[0.4444444444444444,\"#bd3786\"],[0.5555555555555556,\"#d8576b\"],[0.6666666666666666,\"#ed7953\"],[0.7777777777777778,\"#fb9f3a\"],[0.8888888888888888,\"#fdca26\"],[1.0,\"#f0f921\"]],\"type\":\"histogram2d\"}],\"histogram2dcontour\":[{\"colorbar\":{\"outlinewidth\":0,\"ticks\":\"\"},\"colorscale\":[[0.0,\"#0d0887\"],[0.1111111111111111,\"#46039f\"],[0.2222222222222222,\"#7201a8\"],[0.3333333333333333,\"#9c179e\"],[0.4444444444444444,\"#bd3786\"],[0.5555555555555556,\"#d8576b\"],[0.6666666666666666,\"#ed7953\"],[0.7777777777777778,\"#fb9f3a\"],[0.8888888888888888,\"#fdca26\"],[1.0,\"#f0f921\"]],\"type\":\"histogram2dcontour\"}],\"mesh3d\":[{\"colorbar\":{\"outlinewidth\":0,\"ticks\":\"\"},\"type\":\"mesh3d\"}],\"parcoords\":[{\"line\":{\"colorbar\":{\"outlinewidth\":0,\"ticks\":\"\"}},\"type\":\"parcoords\"}],\"pie\":[{\"automargin\":true,\"type\":\"pie\"}],\"scatter\":[{\"marker\":{\"colorbar\":{\"outlinewidth\":0,\"ticks\":\"\"}},\"type\":\"scatter\"}],\"scatter3d\":[{\"line\":{\"colorbar\":{\"outlinewidth\":0,\"ticks\":\"\"}},\"marker\":{\"colorbar\":{\"outlinewidth\":0,\"ticks\":\"\"}},\"type\":\"scatter3d\"}],\"scattercarpet\":[{\"marker\":{\"colorbar\":{\"outlinewidth\":0,\"ticks\":\"\"}},\"type\":\"scattercarpet\"}],\"scattergeo\":[{\"marker\":{\"colorbar\":{\"outlinewidth\":0,\"ticks\":\"\"}},\"type\":\"scattergeo\"}],\"scattergl\":[{\"marker\":{\"colorbar\":{\"outlinewidth\":0,\"ticks\":\"\"}},\"type\":\"scattergl\"}],\"scattermapbox\":[{\"marker\":{\"colorbar\":{\"outlinewidth\":0,\"ticks\":\"\"}},\"type\":\"scattermapbox\"}],\"scatterpolar\":[{\"marker\":{\"colorbar\":{\"outlinewidth\":0,\"ticks\":\"\"}},\"type\":\"scatterpolar\"}],\"scatterpolargl\":[{\"marker\":{\"colorbar\":{\"outlinewidth\":0,\"ticks\":\"\"}},\"type\":\"scatterpolargl\"}],\"scatterternary\":[{\"marker\":{\"colorbar\":{\"outlinewidth\":0,\"ticks\":\"\"}},\"type\":\"scatterternary\"}],\"surface\":[{\"colorbar\":{\"outlinewidth\":0,\"ticks\":\"\"},\"colorscale\":[[0.0,\"#0d0887\"],[0.1111111111111111,\"#46039f\"],[0.2222222222222222,\"#7201a8\"],[0.3333333333333333,\"#9c179e\"],[0.4444444444444444,\"#bd3786\"],[0.5555555555555556,\"#d8576b\"],[0.6666666666666666,\"#ed7953\"],[0.7777777777777778,\"#fb9f3a\"],[0.8888888888888888,\"#fdca26\"],[1.0,\"#f0f921\"]],\"type\":\"surface\"}],\"table\":[{\"cells\":{\"fill\":{\"color\":\"#EBF0F8\"},\"line\":{\"color\":\"white\"}},\"header\":{\"fill\":{\"color\":\"#C8D4E3\"},\"line\":{\"color\":\"white\"}},\"type\":\"table\"}]},\"layout\":{\"annotationdefaults\":{\"arrowcolor\":\"#2a3f5f\",\"arrowhead\":0,\"arrowwidth\":1},\"autotypenumbers\":\"strict\",\"coloraxis\":{\"colorbar\":{\"outlinewidth\":0,\"ticks\":\"\"}},\"colorscale\":{\"diverging\":[[0,\"#8e0152\"],[0.1,\"#c51b7d\"],[0.2,\"#de77ae\"],[0.3,\"#f1b6da\"],[0.4,\"#fde0ef\"],[0.5,\"#f7f7f7\"],[0.6,\"#e6f5d0\"],[0.7,\"#b8e186\"],[0.8,\"#7fbc41\"],[0.9,\"#4d9221\"],[1,\"#276419\"]],\"sequential\":[[0.0,\"#0d0887\"],[0.1111111111111111,\"#46039f\"],[0.2222222222222222,\"#7201a8\"],[0.3333333333333333,\"#9c179e\"],[0.4444444444444444,\"#bd3786\"],[0.5555555555555556,\"#d8576b\"],[0.6666666666666666,\"#ed7953\"],[0.7777777777777778,\"#fb9f3a\"],[0.8888888888888888,\"#fdca26\"],[1.0,\"#f0f921\"]],\"sequentialminus\":[[0.0,\"#0d0887\"],[0.1111111111111111,\"#46039f\"],[0.2222222222222222,\"#7201a8\"],[0.3333333333333333,\"#9c179e\"],[0.4444444444444444,\"#bd3786\"],[0.5555555555555556,\"#d8576b\"],[0.6666666666666666,\"#ed7953\"],[0.7777777777777778,\"#fb9f3a\"],[0.8888888888888888,\"#fdca26\"],[1.0,\"#f0f921\"]]},\"colorway\":[\"#636efa\",\"#EF553B\",\"#00cc96\",\"#ab63fa\",\"#FFA15A\",\"#19d3f3\",\"#FF6692\",\"#B6E880\",\"#FF97FF\",\"#FECB52\"],\"font\":{\"color\":\"#2a3f5f\"},\"geo\":{\"bgcolor\":\"white\",\"lakecolor\":\"white\",\"landcolor\":\"#E5ECF6\",\"showlakes\":true,\"showland\":true,\"subunitcolor\":\"white\"},\"hoverlabel\":{\"align\":\"left\"},\"hovermode\":\"closest\",\"mapbox\":{\"style\":\"light\"},\"paper_bgcolor\":\"white\",\"plot_bgcolor\":\"#E5ECF6\",\"polar\":{\"angularaxis\":{\"gridcolor\":\"white\",\"linecolor\":\"white\",\"ticks\":\"\"},\"bgcolor\":\"#E5ECF6\",\"radialaxis\":{\"gridcolor\":\"white\",\"linecolor\":\"white\",\"ticks\":\"\"}},\"scene\":{\"xaxis\":{\"backgroundcolor\":\"#E5ECF6\",\"gridcolor\":\"white\",\"gridwidth\":2,\"linecolor\":\"white\",\"showbackground\":true,\"ticks\":\"\",\"zerolinecolor\":\"white\"},\"yaxis\":{\"backgroundcolor\":\"#E5ECF6\",\"gridcolor\":\"white\",\"gridwidth\":2,\"linecolor\":\"white\",\"showbackground\":true,\"ticks\":\"\",\"zerolinecolor\":\"white\"},\"zaxis\":{\"backgroundcolor\":\"#E5ECF6\",\"gridcolor\":\"white\",\"gridwidth\":2,\"linecolor\":\"white\",\"showbackground\":true,\"ticks\":\"\",\"zerolinecolor\":\"white\"}},\"shapedefaults\":{\"line\":{\"color\":\"#2a3f5f\"}},\"ternary\":{\"aaxis\":{\"gridcolor\":\"white\",\"linecolor\":\"white\",\"ticks\":\"\"},\"baxis\":{\"gridcolor\":\"white\",\"linecolor\":\"white\",\"ticks\":\"\"},\"bgcolor\":\"#E5ECF6\",\"caxis\":{\"gridcolor\":\"white\",\"linecolor\":\"white\",\"ticks\":\"\"}},\"title\":{\"x\":0.05},\"xaxis\":{\"automargin\":true,\"gridcolor\":\"white\",\"linecolor\":\"white\",\"ticks\":\"\",\"title\":{\"standoff\":15},\"zerolinecolor\":\"white\",\"zerolinewidth\":2},\"yaxis\":{\"automargin\":true,\"gridcolor\":\"white\",\"linecolor\":\"white\",\"ticks\":\"\",\"title\":{\"standoff\":15},\"zerolinecolor\":\"white\",\"zerolinewidth\":2}}},\"xaxis\":{\"anchor\":\"y\",\"domain\":[0.0,1.0],\"title\":{\"text\":\"Rok\"}},\"yaxis\":{\"anchor\":\"x\",\"domain\":[0.0,1.0],\"title\":{\"text\":\"Wartosc\"}},\"legend\":{\"title\":{\"text\":\"Nazwa\"},\"tracegroupgap\":0},\"margin\":{\"t\":60}},                        {\"responsive\": true}                    ).then(function(){\n                            \nvar gd = document.getElementById('9d4df8f2-4f16-413f-97b4-bff729563de3');\nvar x = new MutationObserver(function (mutations, observer) {{\n        var display = window.getComputedStyle(gd).display;\n        if (!display || display === 'none') {{\n            console.log([gd, 'removed!']);\n            Plotly.purge(gd);\n            observer.disconnect();\n        }}\n}});\n\n// Listen for the removal of the full notebook cells\nvar notebookContainer = gd.closest('#notebook-container');\nif (notebookContainer) {{\n    x.observe(notebookContainer, {childList: true});\n}}\n\n// Listen for the clearing of the current output cell\nvar outputEl = gd.closest('.output');\nif (outputEl) {{\n    x.observe(outputEl, {childList: true});\n}}\n\n                        })                };                });            </script>        </div>"
     },
     "metadata": {},
     "output_type": "display_data"
    }
   ],
   "source": [
    "fig = px.line(mean_spendings_annually,\n",
    "              x=\"Rok\", y=\"Wartosc\", color=\"Nazwa\", hover_name=\"Nazwa\",\n",
    "              line_shape=\"spline\", render_mode=\"svg\")\n",
    "\n",
    "fig.show()"
   ],
   "metadata": {
    "collapsed": false,
    "pycharm": {
     "name": "#%%\n"
    }
   }
  },
  {
   "cell_type": "markdown",
   "metadata": {},
   "source": [
    "### zmienność w wydatkach na przestrzeni lat"
   ]
  },
  {
   "cell_type": "code",
   "execution_count": 80,
   "metadata": {},
   "outputs": [],
   "source": [
    "spendings_variability = pd.DataFrame(df_ludnosc[(df_ludnosc.Kategoria == \"Wydatki\") & (df_ludnosc.Zmienna == \"ogółem\")].groupby(\n",
    "    \"Nazwa\").Wartosc.std().sort_values(ascending=False))\n",
    "spendings_variability.reset_index(inplace=True)\n"
   ]
  },
  {
   "cell_type": "code",
   "execution_count": 81,
   "outputs": [
    {
     "data": {
      "application/vnd.plotly.v1+json": {
       "data": [
        {
         "alignmentgroup": "True",
         "hovertemplate": "województwo=%{x}<br>Wartosc=%{y}<extra></extra>",
         "legendgroup": "",
         "marker": {
          "color": "#636efa",
          "pattern": {
           "shape": ""
          }
         },
         "name": "",
         "offsetgroup": "",
         "orientation": "v",
         "showlegend": false,
         "textposition": "auto",
         "x": [
          "MAZOWIECKIE",
          "DOLNOŚLĄSKIE",
          "POMORSKIE",
          "ŁÓDZKIE",
          "ŚLĄSKIE",
          "OPOLSKIE",
          "KUJAWSKO-POMORSKIE",
          "POLSKA",
          "ZACHODNIOPOMORSKIE",
          "LUBUSKIE",
          "LUBELSKIE",
          "ŚWIĘTOKRZYSKIE",
          "WIELKOPOLSKIE",
          "PODLASKIE",
          "WARMIŃSKO-MAZURSKIE",
          "MAŁOPOLSKIE",
          "PODKARPACKIE"
         ],
         "xaxis": "x",
         "y": [
          30584.220944833167,
          27314.576200046406,
          26245.16043774856,
          26168.731652799033,
          25790.97290072648,
          25569.573228255078,
          24174.664134989045,
          24044.806141686906,
          23894.20828595599,
          22474.14817539224,
          22073.491765270446,
          20714.237711687212,
          20435.699694213916,
          19919.169524392877,
          19482.076263417017,
          19476.950204606655,
          18393.169340903758
         ],
         "yaxis": "y",
         "type": "bar"
        }
       ],
       "layout": {
        "template": {
         "data": {
          "bar": [
           {
            "error_x": {
             "color": "#2a3f5f"
            },
            "error_y": {
             "color": "#2a3f5f"
            },
            "marker": {
             "line": {
              "color": "#E5ECF6",
              "width": 0.5
             },
             "pattern": {
              "fillmode": "overlay",
              "size": 10,
              "solidity": 0.2
             }
            },
            "type": "bar"
           }
          ],
          "barpolar": [
           {
            "marker": {
             "line": {
              "color": "#E5ECF6",
              "width": 0.5
             },
             "pattern": {
              "fillmode": "overlay",
              "size": 10,
              "solidity": 0.2
             }
            },
            "type": "barpolar"
           }
          ],
          "carpet": [
           {
            "aaxis": {
             "endlinecolor": "#2a3f5f",
             "gridcolor": "white",
             "linecolor": "white",
             "minorgridcolor": "white",
             "startlinecolor": "#2a3f5f"
            },
            "baxis": {
             "endlinecolor": "#2a3f5f",
             "gridcolor": "white",
             "linecolor": "white",
             "minorgridcolor": "white",
             "startlinecolor": "#2a3f5f"
            },
            "type": "carpet"
           }
          ],
          "choropleth": [
           {
            "colorbar": {
             "outlinewidth": 0,
             "ticks": ""
            },
            "type": "choropleth"
           }
          ],
          "contour": [
           {
            "colorbar": {
             "outlinewidth": 0,
             "ticks": ""
            },
            "colorscale": [
             [
              0.0,
              "#0d0887"
             ],
             [
              0.1111111111111111,
              "#46039f"
             ],
             [
              0.2222222222222222,
              "#7201a8"
             ],
             [
              0.3333333333333333,
              "#9c179e"
             ],
             [
              0.4444444444444444,
              "#bd3786"
             ],
             [
              0.5555555555555556,
              "#d8576b"
             ],
             [
              0.6666666666666666,
              "#ed7953"
             ],
             [
              0.7777777777777778,
              "#fb9f3a"
             ],
             [
              0.8888888888888888,
              "#fdca26"
             ],
             [
              1.0,
              "#f0f921"
             ]
            ],
            "type": "contour"
           }
          ],
          "contourcarpet": [
           {
            "colorbar": {
             "outlinewidth": 0,
             "ticks": ""
            },
            "type": "contourcarpet"
           }
          ],
          "heatmap": [
           {
            "colorbar": {
             "outlinewidth": 0,
             "ticks": ""
            },
            "colorscale": [
             [
              0.0,
              "#0d0887"
             ],
             [
              0.1111111111111111,
              "#46039f"
             ],
             [
              0.2222222222222222,
              "#7201a8"
             ],
             [
              0.3333333333333333,
              "#9c179e"
             ],
             [
              0.4444444444444444,
              "#bd3786"
             ],
             [
              0.5555555555555556,
              "#d8576b"
             ],
             [
              0.6666666666666666,
              "#ed7953"
             ],
             [
              0.7777777777777778,
              "#fb9f3a"
             ],
             [
              0.8888888888888888,
              "#fdca26"
             ],
             [
              1.0,
              "#f0f921"
             ]
            ],
            "type": "heatmap"
           }
          ],
          "heatmapgl": [
           {
            "colorbar": {
             "outlinewidth": 0,
             "ticks": ""
            },
            "colorscale": [
             [
              0.0,
              "#0d0887"
             ],
             [
              0.1111111111111111,
              "#46039f"
             ],
             [
              0.2222222222222222,
              "#7201a8"
             ],
             [
              0.3333333333333333,
              "#9c179e"
             ],
             [
              0.4444444444444444,
              "#bd3786"
             ],
             [
              0.5555555555555556,
              "#d8576b"
             ],
             [
              0.6666666666666666,
              "#ed7953"
             ],
             [
              0.7777777777777778,
              "#fb9f3a"
             ],
             [
              0.8888888888888888,
              "#fdca26"
             ],
             [
              1.0,
              "#f0f921"
             ]
            ],
            "type": "heatmapgl"
           }
          ],
          "histogram": [
           {
            "marker": {
             "pattern": {
              "fillmode": "overlay",
              "size": 10,
              "solidity": 0.2
             }
            },
            "type": "histogram"
           }
          ],
          "histogram2d": [
           {
            "colorbar": {
             "outlinewidth": 0,
             "ticks": ""
            },
            "colorscale": [
             [
              0.0,
              "#0d0887"
             ],
             [
              0.1111111111111111,
              "#46039f"
             ],
             [
              0.2222222222222222,
              "#7201a8"
             ],
             [
              0.3333333333333333,
              "#9c179e"
             ],
             [
              0.4444444444444444,
              "#bd3786"
             ],
             [
              0.5555555555555556,
              "#d8576b"
             ],
             [
              0.6666666666666666,
              "#ed7953"
             ],
             [
              0.7777777777777778,
              "#fb9f3a"
             ],
             [
              0.8888888888888888,
              "#fdca26"
             ],
             [
              1.0,
              "#f0f921"
             ]
            ],
            "type": "histogram2d"
           }
          ],
          "histogram2dcontour": [
           {
            "colorbar": {
             "outlinewidth": 0,
             "ticks": ""
            },
            "colorscale": [
             [
              0.0,
              "#0d0887"
             ],
             [
              0.1111111111111111,
              "#46039f"
             ],
             [
              0.2222222222222222,
              "#7201a8"
             ],
             [
              0.3333333333333333,
              "#9c179e"
             ],
             [
              0.4444444444444444,
              "#bd3786"
             ],
             [
              0.5555555555555556,
              "#d8576b"
             ],
             [
              0.6666666666666666,
              "#ed7953"
             ],
             [
              0.7777777777777778,
              "#fb9f3a"
             ],
             [
              0.8888888888888888,
              "#fdca26"
             ],
             [
              1.0,
              "#f0f921"
             ]
            ],
            "type": "histogram2dcontour"
           }
          ],
          "mesh3d": [
           {
            "colorbar": {
             "outlinewidth": 0,
             "ticks": ""
            },
            "type": "mesh3d"
           }
          ],
          "parcoords": [
           {
            "line": {
             "colorbar": {
              "outlinewidth": 0,
              "ticks": ""
             }
            },
            "type": "parcoords"
           }
          ],
          "pie": [
           {
            "automargin": true,
            "type": "pie"
           }
          ],
          "scatter": [
           {
            "marker": {
             "colorbar": {
              "outlinewidth": 0,
              "ticks": ""
             }
            },
            "type": "scatter"
           }
          ],
          "scatter3d": [
           {
            "line": {
             "colorbar": {
              "outlinewidth": 0,
              "ticks": ""
             }
            },
            "marker": {
             "colorbar": {
              "outlinewidth": 0,
              "ticks": ""
             }
            },
            "type": "scatter3d"
           }
          ],
          "scattercarpet": [
           {
            "marker": {
             "colorbar": {
              "outlinewidth": 0,
              "ticks": ""
             }
            },
            "type": "scattercarpet"
           }
          ],
          "scattergeo": [
           {
            "marker": {
             "colorbar": {
              "outlinewidth": 0,
              "ticks": ""
             }
            },
            "type": "scattergeo"
           }
          ],
          "scattergl": [
           {
            "marker": {
             "colorbar": {
              "outlinewidth": 0,
              "ticks": ""
             }
            },
            "type": "scattergl"
           }
          ],
          "scattermapbox": [
           {
            "marker": {
             "colorbar": {
              "outlinewidth": 0,
              "ticks": ""
             }
            },
            "type": "scattermapbox"
           }
          ],
          "scatterpolar": [
           {
            "marker": {
             "colorbar": {
              "outlinewidth": 0,
              "ticks": ""
             }
            },
            "type": "scatterpolar"
           }
          ],
          "scatterpolargl": [
           {
            "marker": {
             "colorbar": {
              "outlinewidth": 0,
              "ticks": ""
             }
            },
            "type": "scatterpolargl"
           }
          ],
          "scatterternary": [
           {
            "marker": {
             "colorbar": {
              "outlinewidth": 0,
              "ticks": ""
             }
            },
            "type": "scatterternary"
           }
          ],
          "surface": [
           {
            "colorbar": {
             "outlinewidth": 0,
             "ticks": ""
            },
            "colorscale": [
             [
              0.0,
              "#0d0887"
             ],
             [
              0.1111111111111111,
              "#46039f"
             ],
             [
              0.2222222222222222,
              "#7201a8"
             ],
             [
              0.3333333333333333,
              "#9c179e"
             ],
             [
              0.4444444444444444,
              "#bd3786"
             ],
             [
              0.5555555555555556,
              "#d8576b"
             ],
             [
              0.6666666666666666,
              "#ed7953"
             ],
             [
              0.7777777777777778,
              "#fb9f3a"
             ],
             [
              0.8888888888888888,
              "#fdca26"
             ],
             [
              1.0,
              "#f0f921"
             ]
            ],
            "type": "surface"
           }
          ],
          "table": [
           {
            "cells": {
             "fill": {
              "color": "#EBF0F8"
             },
             "line": {
              "color": "white"
             }
            },
            "header": {
             "fill": {
              "color": "#C8D4E3"
             },
             "line": {
              "color": "white"
             }
            },
            "type": "table"
           }
          ]
         },
         "layout": {
          "annotationdefaults": {
           "arrowcolor": "#2a3f5f",
           "arrowhead": 0,
           "arrowwidth": 1
          },
          "autotypenumbers": "strict",
          "coloraxis": {
           "colorbar": {
            "outlinewidth": 0,
            "ticks": ""
           }
          },
          "colorscale": {
           "diverging": [
            [
             0,
             "#8e0152"
            ],
            [
             0.1,
             "#c51b7d"
            ],
            [
             0.2,
             "#de77ae"
            ],
            [
             0.3,
             "#f1b6da"
            ],
            [
             0.4,
             "#fde0ef"
            ],
            [
             0.5,
             "#f7f7f7"
            ],
            [
             0.6,
             "#e6f5d0"
            ],
            [
             0.7,
             "#b8e186"
            ],
            [
             0.8,
             "#7fbc41"
            ],
            [
             0.9,
             "#4d9221"
            ],
            [
             1,
             "#276419"
            ]
           ],
           "sequential": [
            [
             0.0,
             "#0d0887"
            ],
            [
             0.1111111111111111,
             "#46039f"
            ],
            [
             0.2222222222222222,
             "#7201a8"
            ],
            [
             0.3333333333333333,
             "#9c179e"
            ],
            [
             0.4444444444444444,
             "#bd3786"
            ],
            [
             0.5555555555555556,
             "#d8576b"
            ],
            [
             0.6666666666666666,
             "#ed7953"
            ],
            [
             0.7777777777777778,
             "#fb9f3a"
            ],
            [
             0.8888888888888888,
             "#fdca26"
            ],
            [
             1.0,
             "#f0f921"
            ]
           ],
           "sequentialminus": [
            [
             0.0,
             "#0d0887"
            ],
            [
             0.1111111111111111,
             "#46039f"
            ],
            [
             0.2222222222222222,
             "#7201a8"
            ],
            [
             0.3333333333333333,
             "#9c179e"
            ],
            [
             0.4444444444444444,
             "#bd3786"
            ],
            [
             0.5555555555555556,
             "#d8576b"
            ],
            [
             0.6666666666666666,
             "#ed7953"
            ],
            [
             0.7777777777777778,
             "#fb9f3a"
            ],
            [
             0.8888888888888888,
             "#fdca26"
            ],
            [
             1.0,
             "#f0f921"
            ]
           ]
          },
          "colorway": [
           "#636efa",
           "#EF553B",
           "#00cc96",
           "#ab63fa",
           "#FFA15A",
           "#19d3f3",
           "#FF6692",
           "#B6E880",
           "#FF97FF",
           "#FECB52"
          ],
          "font": {
           "color": "#2a3f5f"
          },
          "geo": {
           "bgcolor": "white",
           "lakecolor": "white",
           "landcolor": "#E5ECF6",
           "showlakes": true,
           "showland": true,
           "subunitcolor": "white"
          },
          "hoverlabel": {
           "align": "left"
          },
          "hovermode": "closest",
          "mapbox": {
           "style": "light"
          },
          "paper_bgcolor": "white",
          "plot_bgcolor": "#E5ECF6",
          "polar": {
           "angularaxis": {
            "gridcolor": "white",
            "linecolor": "white",
            "ticks": ""
           },
           "bgcolor": "#E5ECF6",
           "radialaxis": {
            "gridcolor": "white",
            "linecolor": "white",
            "ticks": ""
           }
          },
          "scene": {
           "xaxis": {
            "backgroundcolor": "#E5ECF6",
            "gridcolor": "white",
            "gridwidth": 2,
            "linecolor": "white",
            "showbackground": true,
            "ticks": "",
            "zerolinecolor": "white"
           },
           "yaxis": {
            "backgroundcolor": "#E5ECF6",
            "gridcolor": "white",
            "gridwidth": 2,
            "linecolor": "white",
            "showbackground": true,
            "ticks": "",
            "zerolinecolor": "white"
           },
           "zaxis": {
            "backgroundcolor": "#E5ECF6",
            "gridcolor": "white",
            "gridwidth": 2,
            "linecolor": "white",
            "showbackground": true,
            "ticks": "",
            "zerolinecolor": "white"
           }
          },
          "shapedefaults": {
           "line": {
            "color": "#2a3f5f"
           }
          },
          "ternary": {
           "aaxis": {
            "gridcolor": "white",
            "linecolor": "white",
            "ticks": ""
           },
           "baxis": {
            "gridcolor": "white",
            "linecolor": "white",
            "ticks": ""
           },
           "bgcolor": "#E5ECF6",
           "caxis": {
            "gridcolor": "white",
            "linecolor": "white",
            "ticks": ""
           }
          },
          "title": {
           "x": 0.05
          },
          "xaxis": {
           "automargin": true,
           "gridcolor": "white",
           "linecolor": "white",
           "ticks": "",
           "title": {
            "standoff": 15
           },
           "zerolinecolor": "white",
           "zerolinewidth": 2
          },
          "yaxis": {
           "automargin": true,
           "gridcolor": "white",
           "linecolor": "white",
           "ticks": "",
           "title": {
            "standoff": 15
           },
           "zerolinecolor": "white",
           "zerolinewidth": 2
          }
         }
        },
        "xaxis": {
         "anchor": "y",
         "domain": [
          0.0,
          1.0
         ],
         "title": {
          "text": "województwo"
         }
        },
        "yaxis": {
         "anchor": "x",
         "domain": [
          0.0,
          1.0
         ],
         "title": {
          "text": "Wartosc"
         }
        },
        "legend": {
         "tracegroupgap": 0
        },
        "title": {
         "text": "zmienność w wydatkach na przestrzeni lat"
        },
        "barmode": "relative"
       },
       "config": {
        "plotlyServerURL": "https://plot.ly"
       }
      },
      "text/html": "<div>                            <div id=\"7e661981-54db-4037-ab3a-28f3113e31ce\" class=\"plotly-graph-div\" style=\"height:525px; width:100%;\"></div>            <script type=\"text/javascript\">                require([\"plotly\"], function(Plotly) {                    window.PLOTLYENV=window.PLOTLYENV || {};                                    if (document.getElementById(\"7e661981-54db-4037-ab3a-28f3113e31ce\")) {                    Plotly.newPlot(                        \"7e661981-54db-4037-ab3a-28f3113e31ce\",                        [{\"alignmentgroup\":\"True\",\"hovertemplate\":\"wojew\\u00f3dztwo=%{x}<br>Wartosc=%{y}<extra></extra>\",\"legendgroup\":\"\",\"marker\":{\"color\":\"#636efa\",\"pattern\":{\"shape\":\"\"}},\"name\":\"\",\"offsetgroup\":\"\",\"orientation\":\"v\",\"showlegend\":false,\"textposition\":\"auto\",\"x\":[\"MAZOWIECKIE\",\"DOLNO\\u015aL\\u0104SKIE\",\"POMORSKIE\",\"\\u0141\\u00d3DZKIE\",\"\\u015aL\\u0104SKIE\",\"OPOLSKIE\",\"KUJAWSKO-POMORSKIE\",\"POLSKA\",\"ZACHODNIOPOMORSKIE\",\"LUBUSKIE\",\"LUBELSKIE\",\"\\u015aWI\\u0118TOKRZYSKIE\",\"WIELKOPOLSKIE\",\"PODLASKIE\",\"WARMI\\u0143SKO-MAZURSKIE\",\"MA\\u0141OPOLSKIE\",\"PODKARPACKIE\"],\"xaxis\":\"x\",\"y\":[30584.220944833167,27314.576200046406,26245.16043774856,26168.731652799033,25790.97290072648,25569.573228255078,24174.664134989045,24044.806141686906,23894.20828595599,22474.14817539224,22073.491765270446,20714.237711687212,20435.699694213916,19919.169524392877,19482.076263417017,19476.950204606655,18393.169340903758],\"yaxis\":\"y\",\"type\":\"bar\"}],                        {\"template\":{\"data\":{\"bar\":[{\"error_x\":{\"color\":\"#2a3f5f\"},\"error_y\":{\"color\":\"#2a3f5f\"},\"marker\":{\"line\":{\"color\":\"#E5ECF6\",\"width\":0.5},\"pattern\":{\"fillmode\":\"overlay\",\"size\":10,\"solidity\":0.2}},\"type\":\"bar\"}],\"barpolar\":[{\"marker\":{\"line\":{\"color\":\"#E5ECF6\",\"width\":0.5},\"pattern\":{\"fillmode\":\"overlay\",\"size\":10,\"solidity\":0.2}},\"type\":\"barpolar\"}],\"carpet\":[{\"aaxis\":{\"endlinecolor\":\"#2a3f5f\",\"gridcolor\":\"white\",\"linecolor\":\"white\",\"minorgridcolor\":\"white\",\"startlinecolor\":\"#2a3f5f\"},\"baxis\":{\"endlinecolor\":\"#2a3f5f\",\"gridcolor\":\"white\",\"linecolor\":\"white\",\"minorgridcolor\":\"white\",\"startlinecolor\":\"#2a3f5f\"},\"type\":\"carpet\"}],\"choropleth\":[{\"colorbar\":{\"outlinewidth\":0,\"ticks\":\"\"},\"type\":\"choropleth\"}],\"contour\":[{\"colorbar\":{\"outlinewidth\":0,\"ticks\":\"\"},\"colorscale\":[[0.0,\"#0d0887\"],[0.1111111111111111,\"#46039f\"],[0.2222222222222222,\"#7201a8\"],[0.3333333333333333,\"#9c179e\"],[0.4444444444444444,\"#bd3786\"],[0.5555555555555556,\"#d8576b\"],[0.6666666666666666,\"#ed7953\"],[0.7777777777777778,\"#fb9f3a\"],[0.8888888888888888,\"#fdca26\"],[1.0,\"#f0f921\"]],\"type\":\"contour\"}],\"contourcarpet\":[{\"colorbar\":{\"outlinewidth\":0,\"ticks\":\"\"},\"type\":\"contourcarpet\"}],\"heatmap\":[{\"colorbar\":{\"outlinewidth\":0,\"ticks\":\"\"},\"colorscale\":[[0.0,\"#0d0887\"],[0.1111111111111111,\"#46039f\"],[0.2222222222222222,\"#7201a8\"],[0.3333333333333333,\"#9c179e\"],[0.4444444444444444,\"#bd3786\"],[0.5555555555555556,\"#d8576b\"],[0.6666666666666666,\"#ed7953\"],[0.7777777777777778,\"#fb9f3a\"],[0.8888888888888888,\"#fdca26\"],[1.0,\"#f0f921\"]],\"type\":\"heatmap\"}],\"heatmapgl\":[{\"colorbar\":{\"outlinewidth\":0,\"ticks\":\"\"},\"colorscale\":[[0.0,\"#0d0887\"],[0.1111111111111111,\"#46039f\"],[0.2222222222222222,\"#7201a8\"],[0.3333333333333333,\"#9c179e\"],[0.4444444444444444,\"#bd3786\"],[0.5555555555555556,\"#d8576b\"],[0.6666666666666666,\"#ed7953\"],[0.7777777777777778,\"#fb9f3a\"],[0.8888888888888888,\"#fdca26\"],[1.0,\"#f0f921\"]],\"type\":\"heatmapgl\"}],\"histogram\":[{\"marker\":{\"pattern\":{\"fillmode\":\"overlay\",\"size\":10,\"solidity\":0.2}},\"type\":\"histogram\"}],\"histogram2d\":[{\"colorbar\":{\"outlinewidth\":0,\"ticks\":\"\"},\"colorscale\":[[0.0,\"#0d0887\"],[0.1111111111111111,\"#46039f\"],[0.2222222222222222,\"#7201a8\"],[0.3333333333333333,\"#9c179e\"],[0.4444444444444444,\"#bd3786\"],[0.5555555555555556,\"#d8576b\"],[0.6666666666666666,\"#ed7953\"],[0.7777777777777778,\"#fb9f3a\"],[0.8888888888888888,\"#fdca26\"],[1.0,\"#f0f921\"]],\"type\":\"histogram2d\"}],\"histogram2dcontour\":[{\"colorbar\":{\"outlinewidth\":0,\"ticks\":\"\"},\"colorscale\":[[0.0,\"#0d0887\"],[0.1111111111111111,\"#46039f\"],[0.2222222222222222,\"#7201a8\"],[0.3333333333333333,\"#9c179e\"],[0.4444444444444444,\"#bd3786\"],[0.5555555555555556,\"#d8576b\"],[0.6666666666666666,\"#ed7953\"],[0.7777777777777778,\"#fb9f3a\"],[0.8888888888888888,\"#fdca26\"],[1.0,\"#f0f921\"]],\"type\":\"histogram2dcontour\"}],\"mesh3d\":[{\"colorbar\":{\"outlinewidth\":0,\"ticks\":\"\"},\"type\":\"mesh3d\"}],\"parcoords\":[{\"line\":{\"colorbar\":{\"outlinewidth\":0,\"ticks\":\"\"}},\"type\":\"parcoords\"}],\"pie\":[{\"automargin\":true,\"type\":\"pie\"}],\"scatter\":[{\"marker\":{\"colorbar\":{\"outlinewidth\":0,\"ticks\":\"\"}},\"type\":\"scatter\"}],\"scatter3d\":[{\"line\":{\"colorbar\":{\"outlinewidth\":0,\"ticks\":\"\"}},\"marker\":{\"colorbar\":{\"outlinewidth\":0,\"ticks\":\"\"}},\"type\":\"scatter3d\"}],\"scattercarpet\":[{\"marker\":{\"colorbar\":{\"outlinewidth\":0,\"ticks\":\"\"}},\"type\":\"scattercarpet\"}],\"scattergeo\":[{\"marker\":{\"colorbar\":{\"outlinewidth\":0,\"ticks\":\"\"}},\"type\":\"scattergeo\"}],\"scattergl\":[{\"marker\":{\"colorbar\":{\"outlinewidth\":0,\"ticks\":\"\"}},\"type\":\"scattergl\"}],\"scattermapbox\":[{\"marker\":{\"colorbar\":{\"outlinewidth\":0,\"ticks\":\"\"}},\"type\":\"scattermapbox\"}],\"scatterpolar\":[{\"marker\":{\"colorbar\":{\"outlinewidth\":0,\"ticks\":\"\"}},\"type\":\"scatterpolar\"}],\"scatterpolargl\":[{\"marker\":{\"colorbar\":{\"outlinewidth\":0,\"ticks\":\"\"}},\"type\":\"scatterpolargl\"}],\"scatterternary\":[{\"marker\":{\"colorbar\":{\"outlinewidth\":0,\"ticks\":\"\"}},\"type\":\"scatterternary\"}],\"surface\":[{\"colorbar\":{\"outlinewidth\":0,\"ticks\":\"\"},\"colorscale\":[[0.0,\"#0d0887\"],[0.1111111111111111,\"#46039f\"],[0.2222222222222222,\"#7201a8\"],[0.3333333333333333,\"#9c179e\"],[0.4444444444444444,\"#bd3786\"],[0.5555555555555556,\"#d8576b\"],[0.6666666666666666,\"#ed7953\"],[0.7777777777777778,\"#fb9f3a\"],[0.8888888888888888,\"#fdca26\"],[1.0,\"#f0f921\"]],\"type\":\"surface\"}],\"table\":[{\"cells\":{\"fill\":{\"color\":\"#EBF0F8\"},\"line\":{\"color\":\"white\"}},\"header\":{\"fill\":{\"color\":\"#C8D4E3\"},\"line\":{\"color\":\"white\"}},\"type\":\"table\"}]},\"layout\":{\"annotationdefaults\":{\"arrowcolor\":\"#2a3f5f\",\"arrowhead\":0,\"arrowwidth\":1},\"autotypenumbers\":\"strict\",\"coloraxis\":{\"colorbar\":{\"outlinewidth\":0,\"ticks\":\"\"}},\"colorscale\":{\"diverging\":[[0,\"#8e0152\"],[0.1,\"#c51b7d\"],[0.2,\"#de77ae\"],[0.3,\"#f1b6da\"],[0.4,\"#fde0ef\"],[0.5,\"#f7f7f7\"],[0.6,\"#e6f5d0\"],[0.7,\"#b8e186\"],[0.8,\"#7fbc41\"],[0.9,\"#4d9221\"],[1,\"#276419\"]],\"sequential\":[[0.0,\"#0d0887\"],[0.1111111111111111,\"#46039f\"],[0.2222222222222222,\"#7201a8\"],[0.3333333333333333,\"#9c179e\"],[0.4444444444444444,\"#bd3786\"],[0.5555555555555556,\"#d8576b\"],[0.6666666666666666,\"#ed7953\"],[0.7777777777777778,\"#fb9f3a\"],[0.8888888888888888,\"#fdca26\"],[1.0,\"#f0f921\"]],\"sequentialminus\":[[0.0,\"#0d0887\"],[0.1111111111111111,\"#46039f\"],[0.2222222222222222,\"#7201a8\"],[0.3333333333333333,\"#9c179e\"],[0.4444444444444444,\"#bd3786\"],[0.5555555555555556,\"#d8576b\"],[0.6666666666666666,\"#ed7953\"],[0.7777777777777778,\"#fb9f3a\"],[0.8888888888888888,\"#fdca26\"],[1.0,\"#f0f921\"]]},\"colorway\":[\"#636efa\",\"#EF553B\",\"#00cc96\",\"#ab63fa\",\"#FFA15A\",\"#19d3f3\",\"#FF6692\",\"#B6E880\",\"#FF97FF\",\"#FECB52\"],\"font\":{\"color\":\"#2a3f5f\"},\"geo\":{\"bgcolor\":\"white\",\"lakecolor\":\"white\",\"landcolor\":\"#E5ECF6\",\"showlakes\":true,\"showland\":true,\"subunitcolor\":\"white\"},\"hoverlabel\":{\"align\":\"left\"},\"hovermode\":\"closest\",\"mapbox\":{\"style\":\"light\"},\"paper_bgcolor\":\"white\",\"plot_bgcolor\":\"#E5ECF6\",\"polar\":{\"angularaxis\":{\"gridcolor\":\"white\",\"linecolor\":\"white\",\"ticks\":\"\"},\"bgcolor\":\"#E5ECF6\",\"radialaxis\":{\"gridcolor\":\"white\",\"linecolor\":\"white\",\"ticks\":\"\"}},\"scene\":{\"xaxis\":{\"backgroundcolor\":\"#E5ECF6\",\"gridcolor\":\"white\",\"gridwidth\":2,\"linecolor\":\"white\",\"showbackground\":true,\"ticks\":\"\",\"zerolinecolor\":\"white\"},\"yaxis\":{\"backgroundcolor\":\"#E5ECF6\",\"gridcolor\":\"white\",\"gridwidth\":2,\"linecolor\":\"white\",\"showbackground\":true,\"ticks\":\"\",\"zerolinecolor\":\"white\"},\"zaxis\":{\"backgroundcolor\":\"#E5ECF6\",\"gridcolor\":\"white\",\"gridwidth\":2,\"linecolor\":\"white\",\"showbackground\":true,\"ticks\":\"\",\"zerolinecolor\":\"white\"}},\"shapedefaults\":{\"line\":{\"color\":\"#2a3f5f\"}},\"ternary\":{\"aaxis\":{\"gridcolor\":\"white\",\"linecolor\":\"white\",\"ticks\":\"\"},\"baxis\":{\"gridcolor\":\"white\",\"linecolor\":\"white\",\"ticks\":\"\"},\"bgcolor\":\"#E5ECF6\",\"caxis\":{\"gridcolor\":\"white\",\"linecolor\":\"white\",\"ticks\":\"\"}},\"title\":{\"x\":0.05},\"xaxis\":{\"automargin\":true,\"gridcolor\":\"white\",\"linecolor\":\"white\",\"ticks\":\"\",\"title\":{\"standoff\":15},\"zerolinecolor\":\"white\",\"zerolinewidth\":2},\"yaxis\":{\"automargin\":true,\"gridcolor\":\"white\",\"linecolor\":\"white\",\"ticks\":\"\",\"title\":{\"standoff\":15},\"zerolinecolor\":\"white\",\"zerolinewidth\":2}}},\"xaxis\":{\"anchor\":\"y\",\"domain\":[0.0,1.0],\"title\":{\"text\":\"wojew\\u00f3dztwo\"}},\"yaxis\":{\"anchor\":\"x\",\"domain\":[0.0,1.0],\"title\":{\"text\":\"Wartosc\"}},\"legend\":{\"tracegroupgap\":0},\"title\":{\"text\":\"zmienno\\u015b\\u0107 w wydatkach na przestrzeni lat\"},\"barmode\":\"relative\"},                        {\"responsive\": true}                    ).then(function(){\n                            \nvar gd = document.getElementById('7e661981-54db-4037-ab3a-28f3113e31ce');\nvar x = new MutationObserver(function (mutations, observer) {{\n        var display = window.getComputedStyle(gd).display;\n        if (!display || display === 'none') {{\n            console.log([gd, 'removed!']);\n            Plotly.purge(gd);\n            observer.disconnect();\n        }}\n}});\n\n// Listen for the removal of the full notebook cells\nvar notebookContainer = gd.closest('#notebook-container');\nif (notebookContainer) {{\n    x.observe(notebookContainer, {childList: true});\n}}\n\n// Listen for the clearing of the current output cell\nvar outputEl = gd.closest('.output');\nif (outputEl) {{\n    x.observe(outputEl, {childList: true});\n}}\n\n                        })                };                });            </script>        </div>"
     },
     "metadata": {},
     "output_type": "display_data"
    }
   ],
   "source": [
    "fig = px.bar(spendings_variability, x='Nazwa', y='Wartosc', title=\"zmienność w wydatkach na przestrzeni lat\", labels={'Nazwa':\"województwo\"})\n",
    "fig.show()"
   ],
   "metadata": {
    "collapsed": false,
    "pycharm": {
     "name": "#%%\n"
    }
   }
  },
  {
   "cell_type": "markdown",
   "metadata": {},
   "source": [
    "### zmiana wydatków poszczególnych wojewóctw na przestrzeni lat"
   ]
  },
  {
   "cell_type": "markdown",
   "metadata": {},
   "source": [
    "#### zmiana ilościowa"
   ]
  },
  {
   "cell_type": "code",
   "execution_count": 18,
   "metadata": {
    "scrolled": true
   },
   "outputs": [
    {
     "data": {
      "text/plain": "                     Wartosc\nNazwa          Rok          \nDOLNOŚLĄSKIE   1998      NaN\n               1999   5441.0\n               2000    488.0\n               2001    -17.0\n               2002   1543.0\n...                      ...\nŚWIĘTOKRZYSKIE 2016   6000.0\n               2017   7389.0\n               2018   3805.0\n               2019  -1606.0\n               2020  -6505.0\n\n[391 rows x 1 columns]",
      "text/html": "<div>\n<style scoped>\n    .dataframe tbody tr th:only-of-type {\n        vertical-align: middle;\n    }\n\n    .dataframe tbody tr th {\n        vertical-align: top;\n    }\n\n    .dataframe thead th {\n        text-align: right;\n    }\n</style>\n<table border=\"1\" class=\"dataframe\">\n  <thead>\n    <tr style=\"text-align: right;\">\n      <th></th>\n      <th></th>\n      <th>Wartosc</th>\n    </tr>\n    <tr>\n      <th>Nazwa</th>\n      <th>Rok</th>\n      <th></th>\n    </tr>\n  </thead>\n  <tbody>\n    <tr>\n      <th rowspan=\"5\" valign=\"top\">DOLNOŚLĄSKIE</th>\n      <th>1998</th>\n      <td>NaN</td>\n    </tr>\n    <tr>\n      <th>1999</th>\n      <td>5441.0</td>\n    </tr>\n    <tr>\n      <th>2000</th>\n      <td>488.0</td>\n    </tr>\n    <tr>\n      <th>2001</th>\n      <td>-17.0</td>\n    </tr>\n    <tr>\n      <th>2002</th>\n      <td>1543.0</td>\n    </tr>\n    <tr>\n      <th>...</th>\n      <th>...</th>\n      <td>...</td>\n    </tr>\n    <tr>\n      <th rowspan=\"5\" valign=\"top\">ŚWIĘTOKRZYSKIE</th>\n      <th>2016</th>\n      <td>6000.0</td>\n    </tr>\n    <tr>\n      <th>2017</th>\n      <td>7389.0</td>\n    </tr>\n    <tr>\n      <th>2018</th>\n      <td>3805.0</td>\n    </tr>\n    <tr>\n      <th>2019</th>\n      <td>-1606.0</td>\n    </tr>\n    <tr>\n      <th>2020</th>\n      <td>-6505.0</td>\n    </tr>\n  </tbody>\n</table>\n<p>391 rows × 1 columns</p>\n</div>"
     },
     "execution_count": 18,
     "metadata": {},
     "output_type": "execute_result"
    }
   ],
   "source": [
    "pd.DataFrame(df_ludnosc[(df_ludnosc.Kategoria == \"Wydatki\") & (df_ludnosc.Zmienna == \"ogółem\")].groupby(\n",
    "    [\"Nazwa\", \"Rok\"]).Wartosc.mean().diff())"
   ]
  },
  {
   "cell_type": "markdown",
   "metadata": {},
   "source": [
    "#### zmiana procentowa"
   ]
  },
  {
   "cell_type": "code",
   "execution_count": 84,
   "metadata": {},
   "outputs": [
    {
     "data": {
      "text/plain": "              Nazwa   Rok   Wartosc\n0      DOLNOŚLĄSKIE  1998       NaN\n1      DOLNOŚLĄSKIE  1999  0.099048\n2      DOLNOŚLĄSKIE  2000  0.008083\n3      DOLNOŚLĄSKIE  2001 -0.000279\n4      DOLNOŚLĄSKIE  2002  0.025360\n..              ...   ...       ...\n386  ŚWIĘTOKRZYSKIE  2016  0.066433\n387  ŚWIĘTOKRZYSKIE  2017  0.076715\n388  ŚWIĘTOKRZYSKIE  2018  0.036690\n389  ŚWIĘTOKRZYSKIE  2019 -0.014938\n390  ŚWIĘTOKRZYSKIE  2020 -0.061423\n\n[391 rows x 3 columns]",
      "text/html": "<div>\n<style scoped>\n    .dataframe tbody tr th:only-of-type {\n        vertical-align: middle;\n    }\n\n    .dataframe tbody tr th {\n        vertical-align: top;\n    }\n\n    .dataframe thead th {\n        text-align: right;\n    }\n</style>\n<table border=\"1\" class=\"dataframe\">\n  <thead>\n    <tr style=\"text-align: right;\">\n      <th></th>\n      <th>Nazwa</th>\n      <th>Rok</th>\n      <th>Wartosc</th>\n    </tr>\n  </thead>\n  <tbody>\n    <tr>\n      <th>0</th>\n      <td>DOLNOŚLĄSKIE</td>\n      <td>1998</td>\n      <td>NaN</td>\n    </tr>\n    <tr>\n      <th>1</th>\n      <td>DOLNOŚLĄSKIE</td>\n      <td>1999</td>\n      <td>0.099048</td>\n    </tr>\n    <tr>\n      <th>2</th>\n      <td>DOLNOŚLĄSKIE</td>\n      <td>2000</td>\n      <td>0.008083</td>\n    </tr>\n    <tr>\n      <th>3</th>\n      <td>DOLNOŚLĄSKIE</td>\n      <td>2001</td>\n      <td>-0.000279</td>\n    </tr>\n    <tr>\n      <th>4</th>\n      <td>DOLNOŚLĄSKIE</td>\n      <td>2002</td>\n      <td>0.025360</td>\n    </tr>\n    <tr>\n      <th>...</th>\n      <td>...</td>\n      <td>...</td>\n      <td>...</td>\n    </tr>\n    <tr>\n      <th>386</th>\n      <td>ŚWIĘTOKRZYSKIE</td>\n      <td>2016</td>\n      <td>0.066433</td>\n    </tr>\n    <tr>\n      <th>387</th>\n      <td>ŚWIĘTOKRZYSKIE</td>\n      <td>2017</td>\n      <td>0.076715</td>\n    </tr>\n    <tr>\n      <th>388</th>\n      <td>ŚWIĘTOKRZYSKIE</td>\n      <td>2018</td>\n      <td>0.036690</td>\n    </tr>\n    <tr>\n      <th>389</th>\n      <td>ŚWIĘTOKRZYSKIE</td>\n      <td>2019</td>\n      <td>-0.014938</td>\n    </tr>\n    <tr>\n      <th>390</th>\n      <td>ŚWIĘTOKRZYSKIE</td>\n      <td>2020</td>\n      <td>-0.061423</td>\n    </tr>\n  </tbody>\n</table>\n<p>391 rows × 3 columns</p>\n</div>"
     },
     "execution_count": 84,
     "metadata": {},
     "output_type": "execute_result"
    }
   ],
   "source": [
    "spendings_change_percent = pd.DataFrame(df_ludnosc[(df_ludnosc.Kategoria == \"Wydatki\") & (df_ludnosc.Zmienna == \"ogółem\")].groupby(\n",
    "    [\"Nazwa\", \"Rok\"]).Wartosc.mean().pct_change())\n",
    "spendings_change_percent.reset_index(inplace=True)\n",
    "spendings_change_percent"
   ]
  },
  {
   "cell_type": "code",
   "execution_count": 91,
   "outputs": [
    {
     "data": {
      "application/vnd.plotly.v1+json": {
       "data": [
        {
         "hovertemplate": "<b>%{hovertext}</b><br><br>Nazwa=DOLNOŚLĄSKIE<br>Rok=%{x}<br>Wartosc=%{y}<extra></extra>",
         "hovertext": [
          "DOLNOŚLĄSKIE",
          "DOLNOŚLĄSKIE",
          "DOLNOŚLĄSKIE",
          "DOLNOŚLĄSKIE",
          "DOLNOŚLĄSKIE",
          "DOLNOŚLĄSKIE",
          "DOLNOŚLĄSKIE",
          "DOLNOŚLĄSKIE",
          "DOLNOŚLĄSKIE",
          "DOLNOŚLĄSKIE",
          "DOLNOŚLĄSKIE",
          "DOLNOŚLĄSKIE",
          "DOLNOŚLĄSKIE",
          "DOLNOŚLĄSKIE",
          "DOLNOŚLĄSKIE",
          "DOLNOŚLĄSKIE",
          "DOLNOŚLĄSKIE",
          "DOLNOŚLĄSKIE",
          "DOLNOŚLĄSKIE",
          "DOLNOŚLĄSKIE",
          "DOLNOŚLĄSKIE",
          "DOLNOŚLĄSKIE"
         ],
         "legendgroup": "DOLNOŚLĄSKIE",
         "line": {
          "color": "#636efa",
          "dash": "solid",
          "shape": "spline"
         },
         "marker": {
          "symbol": "circle"
         },
         "mode": "lines",
         "name": "DOLNOŚLĄSKIE",
         "orientation": "v",
         "showlegend": true,
         "x": [
          1999,
          2000,
          2001,
          2002,
          2003,
          2004,
          2005,
          2006,
          2007,
          2008,
          2009,
          2010,
          2011,
          2012,
          2013,
          2014,
          2015,
          2016,
          2017,
          2018,
          2019,
          2020
         ],
         "xaxis": "x",
         "y": [
          0.09904793111608678,
          0.008082949614072188,
          -2.793204298248142E-4,
          0.025359520092037124,
          0.09522664614990073,
          0.0070541058701283355,
          0.017017627995523865,
          0.08486467948901155,
          0.12052001422531311,
          0.12573027236073409,
          0.05795315714181304,
          0.005685126879003466,
          0.03784362026832078,
          0.06961767959980714,
          -0.005295683001653284,
          0.004843927758816813,
          0.042536065878273854,
          0.02793850643951612,
          0.00864979077080541,
          0.04969437102620966,
          0.07781415653258494,
          -0.01976681951657
         ],
         "yaxis": "y",
         "type": "scatter"
        },
        {
         "hovertemplate": "<b>%{hovertext}</b><br><br>Nazwa=KUJAWSKO-POMORSKIE<br>Rok=%{x}<br>Wartosc=%{y}<extra></extra>",
         "hovertext": [
          "KUJAWSKO-POMORSKIE",
          "KUJAWSKO-POMORSKIE",
          "KUJAWSKO-POMORSKIE",
          "KUJAWSKO-POMORSKIE",
          "KUJAWSKO-POMORSKIE",
          "KUJAWSKO-POMORSKIE",
          "KUJAWSKO-POMORSKIE",
          "KUJAWSKO-POMORSKIE",
          "KUJAWSKO-POMORSKIE",
          "KUJAWSKO-POMORSKIE",
          "KUJAWSKO-POMORSKIE",
          "KUJAWSKO-POMORSKIE",
          "KUJAWSKO-POMORSKIE",
          "KUJAWSKO-POMORSKIE",
          "KUJAWSKO-POMORSKIE",
          "KUJAWSKO-POMORSKIE",
          "KUJAWSKO-POMORSKIE",
          "KUJAWSKO-POMORSKIE",
          "KUJAWSKO-POMORSKIE",
          "KUJAWSKO-POMORSKIE",
          "KUJAWSKO-POMORSKIE",
          "KUJAWSKO-POMORSKIE"
         ],
         "legendgroup": "KUJAWSKO-POMORSKIE",
         "line": {
          "color": "#EF553B",
          "dash": "solid",
          "shape": "spline"
         },
         "marker": {
          "symbol": "circle"
         },
         "mode": "lines",
         "name": "KUJAWSKO-POMORSKIE",
         "orientation": "v",
         "showlegend": true,
         "x": [
          1999,
          2000,
          2001,
          2002,
          2003,
          2004,
          2005,
          2006,
          2007,
          2008,
          2009,
          2010,
          2011,
          2012,
          2013,
          2014,
          2015,
          2016,
          2017,
          2018,
          2019,
          2020
         ],
         "xaxis": "x",
         "y": [
          0.07962433646386291,
          0.13504370482434025,
          0.05999740831929512,
          0.03650017464198396,
          0.04320134793597297,
          0.0036179216332332675,
          -0.030126492645402125,
          0.1188066239670793,
          0.0920713078041111,
          0.0838063937854796,
          0.09716183196541572,
          0.054865861875992294,
          -9.527624698201231E-4,
          0.02052560281766458,
          0.05355265533243414,
          -0.004555900495907705,
          0.03537869582827047,
          0.027324114460069993,
          0.06190503388926971,
          0.03075723211804471,
          0.07175036092605791,
          -0.051715463515969895
         ],
         "yaxis": "y",
         "type": "scatter"
        },
        {
         "hovertemplate": "<b>%{hovertext}</b><br><br>Nazwa=LUBELSKIE<br>Rok=%{x}<br>Wartosc=%{y}<extra></extra>",
         "hovertext": [
          "LUBELSKIE",
          "LUBELSKIE",
          "LUBELSKIE",
          "LUBELSKIE",
          "LUBELSKIE",
          "LUBELSKIE",
          "LUBELSKIE",
          "LUBELSKIE",
          "LUBELSKIE",
          "LUBELSKIE",
          "LUBELSKIE",
          "LUBELSKIE",
          "LUBELSKIE",
          "LUBELSKIE",
          "LUBELSKIE",
          "LUBELSKIE",
          "LUBELSKIE",
          "LUBELSKIE",
          "LUBELSKIE",
          "LUBELSKIE",
          "LUBELSKIE",
          "LUBELSKIE"
         ],
         "legendgroup": "LUBELSKIE",
         "line": {
          "color": "#00cc96",
          "dash": "solid",
          "shape": "spline"
         },
         "marker": {
          "symbol": "circle"
         },
         "mode": "lines",
         "name": "LUBELSKIE",
         "orientation": "v",
         "showlegend": true,
         "x": [
          1999,
          2000,
          2001,
          2002,
          2003,
          2004,
          2005,
          2006,
          2007,
          2008,
          2009,
          2010,
          2011,
          2012,
          2013,
          2014,
          2015,
          2016,
          2017,
          2018,
          2019,
          2020
         ],
         "xaxis": "x",
         "y": [
          0.14015521167340483,
          0.04674954147136745,
          0.029398021960906462,
          0.07858304648787673,
          0.08408002945869653,
          0.05486542443064191,
          -0.03473074092247297,
          0.07725055995933339,
          0.039918011030170675,
          0.14958664794883791,
          0.020081411126187332,
          -0.0017533676751554372,
          0.03711555001029643,
          0.07214688671642322,
          0.012168551321437127,
          0.05706536362755754,
          -0.011047417348008959,
          0.05989004200642456,
          0.05544708339404547,
          -8.007142002521839E-4,
          0.026426321316065815,
          0.016350338762507244
         ],
         "yaxis": "y",
         "type": "scatter"
        },
        {
         "hovertemplate": "<b>%{hovertext}</b><br><br>Nazwa=LUBUSKIE<br>Rok=%{x}<br>Wartosc=%{y}<extra></extra>",
         "hovertext": [
          "LUBUSKIE",
          "LUBUSKIE",
          "LUBUSKIE",
          "LUBUSKIE",
          "LUBUSKIE",
          "LUBUSKIE",
          "LUBUSKIE",
          "LUBUSKIE",
          "LUBUSKIE",
          "LUBUSKIE",
          "LUBUSKIE",
          "LUBUSKIE",
          "LUBUSKIE",
          "LUBUSKIE",
          "LUBUSKIE",
          "LUBUSKIE",
          "LUBUSKIE",
          "LUBUSKIE",
          "LUBUSKIE",
          "LUBUSKIE",
          "LUBUSKIE",
          "LUBUSKIE"
         ],
         "legendgroup": "LUBUSKIE",
         "line": {
          "color": "#ab63fa",
          "dash": "solid",
          "shape": "spline"
         },
         "marker": {
          "symbol": "circle"
         },
         "mode": "lines",
         "name": "LUBUSKIE",
         "orientation": "v",
         "showlegend": true,
         "x": [
          1999,
          2000,
          2001,
          2002,
          2003,
          2004,
          2005,
          2006,
          2007,
          2008,
          2009,
          2010,
          2011,
          2012,
          2013,
          2014,
          2015,
          2016,
          2017,
          2018,
          2019,
          2020
         ],
         "xaxis": "x",
         "y": [
          0.14349541603806437,
          0.021752000135315752,
          0.005065638088300961,
          0.008960189745194524,
          0.0833700638294399,
          0.035471038514857556,
          0.044093250676678686,
          0.07586274181858732,
          0.05768807244367857,
          0.1444564205575425,
          0.0037672039213167974,
          0.03667768418807982,
          0.0034351537591279513,
          0.0316510188184167,
          -0.0012220323490840235,
          0.04595688806215126,
          0.06353840740282846,
          0.03876419565411782,
          -0.026074979554943423,
          0.011030971574034876,
          0.06982619946845703,
          -0.054269393892343754
         ],
         "yaxis": "y",
         "type": "scatter"
        },
        {
         "hovertemplate": "<b>%{hovertext}</b><br><br>Nazwa=MAZOWIECKIE<br>Rok=%{x}<br>Wartosc=%{y}<extra></extra>",
         "hovertext": [
          "MAZOWIECKIE",
          "MAZOWIECKIE",
          "MAZOWIECKIE",
          "MAZOWIECKIE",
          "MAZOWIECKIE",
          "MAZOWIECKIE",
          "MAZOWIECKIE",
          "MAZOWIECKIE",
          "MAZOWIECKIE",
          "MAZOWIECKIE",
          "MAZOWIECKIE",
          "MAZOWIECKIE",
          "MAZOWIECKIE",
          "MAZOWIECKIE",
          "MAZOWIECKIE",
          "MAZOWIECKIE",
          "MAZOWIECKIE",
          "MAZOWIECKIE",
          "MAZOWIECKIE",
          "MAZOWIECKIE",
          "MAZOWIECKIE",
          "MAZOWIECKIE"
         ],
         "legendgroup": "MAZOWIECKIE",
         "line": {
          "color": "#FFA15A",
          "dash": "solid",
          "shape": "spline"
         },
         "marker": {
          "symbol": "circle"
         },
         "mode": "lines",
         "name": "MAZOWIECKIE",
         "orientation": "v",
         "showlegend": true,
         "x": [
          1999,
          2000,
          2001,
          2002,
          2003,
          2004,
          2005,
          2006,
          2007,
          2008,
          2009,
          2010,
          2011,
          2012,
          2013,
          2014,
          2015,
          2016,
          2017,
          2018,
          2019,
          2020
         ],
         "xaxis": "x",
         "y": [
          0.08714186240043476,
          0.0999656314441042,
          0.0073426027183252085,
          0.048880554928941944,
          0.12838228375562877,
          0.028280084816429518,
          -0.05327849860982392,
          0.10344954173345888,
          0.12033268644302741,
          0.13561855363965702,
          0.07496927488734118,
          0.05397800985988588,
          0.006539216063391917,
          0.034807199908281516,
          -0.016906838812606684,
          0.018339594290007533,
          0.011288097328483682,
          -6.055256035193413E-4,
          0.037098139983064105,
          3.026676990216526E-4,
          0.038793073117870946,
          -0.02252313278148832
         ],
         "yaxis": "y",
         "type": "scatter"
        },
        {
         "hovertemplate": "<b>%{hovertext}</b><br><br>Nazwa=MAŁOPOLSKIE<br>Rok=%{x}<br>Wartosc=%{y}<extra></extra>",
         "hovertext": [
          "MAŁOPOLSKIE",
          "MAŁOPOLSKIE",
          "MAŁOPOLSKIE",
          "MAŁOPOLSKIE",
          "MAŁOPOLSKIE",
          "MAŁOPOLSKIE",
          "MAŁOPOLSKIE",
          "MAŁOPOLSKIE",
          "MAŁOPOLSKIE",
          "MAŁOPOLSKIE",
          "MAŁOPOLSKIE",
          "MAŁOPOLSKIE",
          "MAŁOPOLSKIE",
          "MAŁOPOLSKIE",
          "MAŁOPOLSKIE",
          "MAŁOPOLSKIE",
          "MAŁOPOLSKIE",
          "MAŁOPOLSKIE",
          "MAŁOPOLSKIE",
          "MAŁOPOLSKIE",
          "MAŁOPOLSKIE",
          "MAŁOPOLSKIE"
         ],
         "legendgroup": "MAŁOPOLSKIE",
         "line": {
          "color": "#19d3f3",
          "dash": "solid",
          "shape": "spline"
         },
         "marker": {
          "symbol": "circle"
         },
         "mode": "lines",
         "name": "MAŁOPOLSKIE",
         "orientation": "v",
         "showlegend": true,
         "x": [
          1999,
          2000,
          2001,
          2002,
          2003,
          2004,
          2005,
          2006,
          2007,
          2008,
          2009,
          2010,
          2011,
          2012,
          2013,
          2014,
          2015,
          2016,
          2017,
          2018,
          2019,
          2020
         ],
         "xaxis": "x",
         "y": [
          0.08030112923462984,
          0.08643362931325171,
          0.06278019173736116,
          -0.0143258107954638,
          0.06786384435592718,
          0.04932410561524114,
          -0.01173670990202269,
          0.04414518862035144,
          0.10548343013324213,
          0.1453295217492081,
          0.012266144990106032,
          0.05494529905036938,
          0.034501273925585885,
          0.008905036688751089,
          0.02867835455040657,
          -0.01888661168694905,
          -0.014732486431919711,
          0.055753370461669505,
          -0.03330354654905687,
          0.011281521166519148,
          0.0592773879027344,
          -0.033598396629953675
         ],
         "yaxis": "y",
         "type": "scatter"
        },
        {
         "hovertemplate": "<b>%{hovertext}</b><br><br>Nazwa=OPOLSKIE<br>Rok=%{x}<br>Wartosc=%{y}<extra></extra>",
         "hovertext": [
          "OPOLSKIE",
          "OPOLSKIE",
          "OPOLSKIE",
          "OPOLSKIE",
          "OPOLSKIE",
          "OPOLSKIE",
          "OPOLSKIE",
          "OPOLSKIE",
          "OPOLSKIE",
          "OPOLSKIE",
          "OPOLSKIE",
          "OPOLSKIE",
          "OPOLSKIE",
          "OPOLSKIE",
          "OPOLSKIE",
          "OPOLSKIE",
          "OPOLSKIE",
          "OPOLSKIE",
          "OPOLSKIE",
          "OPOLSKIE",
          "OPOLSKIE",
          "OPOLSKIE"
         ],
         "legendgroup": "OPOLSKIE",
         "line": {
          "color": "#FF6692",
          "dash": "solid",
          "shape": "spline"
         },
         "marker": {
          "symbol": "circle"
         },
         "mode": "lines",
         "name": "OPOLSKIE",
         "orientation": "v",
         "showlegend": true,
         "x": [
          1999,
          2000,
          2001,
          2002,
          2003,
          2004,
          2005,
          2006,
          2007,
          2008,
          2009,
          2010,
          2011,
          2012,
          2013,
          2014,
          2015,
          2016,
          2017,
          2018,
          2019,
          2020
         ],
         "xaxis": "x",
         "y": [
          0.06738311288834198,
          0.048414113578646,
          0.05164149873730861,
          -0.012170219717389519,
          0.1311890193484373,
          0.06353522506322817,
          0.06894940136634187,
          -0.019970423712467045,
          0.11014013541174617,
          0.20113230740136623,
          9.840292059859479E-5,
          0.005480503379807766,
          0.026098444074762694,
          0.0194741409729442,
          0.0037231405345232726,
          -0.0225355788139463,
          0.05167860105454847,
          0.08345497239322208,
          0.03486912571964118,
          -0.03795554333675644,
          0.11964497339821989,
          -0.033623097018286696
         ],
         "yaxis": "y",
         "type": "scatter"
        },
        {
         "hovertemplate": "<b>%{hovertext}</b><br><br>Nazwa=PODKARPACKIE<br>Rok=%{x}<br>Wartosc=%{y}<extra></extra>",
         "hovertext": [
          "PODKARPACKIE",
          "PODKARPACKIE",
          "PODKARPACKIE",
          "PODKARPACKIE",
          "PODKARPACKIE",
          "PODKARPACKIE",
          "PODKARPACKIE",
          "PODKARPACKIE",
          "PODKARPACKIE",
          "PODKARPACKIE",
          "PODKARPACKIE",
          "PODKARPACKIE",
          "PODKARPACKIE",
          "PODKARPACKIE",
          "PODKARPACKIE",
          "PODKARPACKIE",
          "PODKARPACKIE",
          "PODKARPACKIE",
          "PODKARPACKIE",
          "PODKARPACKIE",
          "PODKARPACKIE",
          "PODKARPACKIE"
         ],
         "legendgroup": "PODKARPACKIE",
         "line": {
          "color": "#B6E880",
          "dash": "solid",
          "shape": "spline"
         },
         "marker": {
          "symbol": "circle"
         },
         "mode": "lines",
         "name": "PODKARPACKIE",
         "orientation": "v",
         "showlegend": true,
         "x": [
          1999,
          2000,
          2001,
          2002,
          2003,
          2004,
          2005,
          2006,
          2007,
          2008,
          2009,
          2010,
          2011,
          2012,
          2013,
          2014,
          2015,
          2016,
          2017,
          2018,
          2019,
          2020
         ],
         "xaxis": "x",
         "y": [
          0.1586806493602182,
          0.07480181440501932,
          0.03453172145857564,
          0.021541042357695606,
          0.10192580428454123,
          0.01566469093988143,
          -0.017473947478115925,
          0.05951431432110921,
          0.056828010378960236,
          0.1255493922584947,
          0.05536854011256831,
          0.046211947230090145,
          0.028048780487804903,
          -7.236061684460227E-4,
          0.03830767221833109,
          0.030057393730135162,
          0.023719407292302597,
          -0.021836239049353834,
          0.04403777516681817,
          0.019439224554362866,
          0.0577680114973651,
          -0.08344081363408129
         ],
         "yaxis": "y",
         "type": "scatter"
        },
        {
         "hovertemplate": "<b>%{hovertext}</b><br><br>Nazwa=PODLASKIE<br>Rok=%{x}<br>Wartosc=%{y}<extra></extra>",
         "hovertext": [
          "PODLASKIE",
          "PODLASKIE",
          "PODLASKIE",
          "PODLASKIE",
          "PODLASKIE",
          "PODLASKIE",
          "PODLASKIE",
          "PODLASKIE",
          "PODLASKIE",
          "PODLASKIE",
          "PODLASKIE",
          "PODLASKIE",
          "PODLASKIE",
          "PODLASKIE",
          "PODLASKIE",
          "PODLASKIE",
          "PODLASKIE",
          "PODLASKIE",
          "PODLASKIE",
          "PODLASKIE",
          "PODLASKIE",
          "PODLASKIE"
         ],
         "legendgroup": "PODLASKIE",
         "line": {
          "color": "#FF97FF",
          "dash": "solid",
          "shape": "spline"
         },
         "marker": {
          "symbol": "circle"
         },
         "mode": "lines",
         "name": "PODLASKIE",
         "orientation": "v",
         "showlegend": true,
         "x": [
          1999,
          2000,
          2001,
          2002,
          2003,
          2004,
          2005,
          2006,
          2007,
          2008,
          2009,
          2010,
          2011,
          2012,
          2013,
          2014,
          2015,
          2016,
          2017,
          2018,
          2019,
          2020
         ],
         "xaxis": "x",
         "y": [
          0.044963484724082736,
          0.10874015259599279,
          0.07528626310096609,
          0.024211311330408103,
          0.04407755482177622,
          -0.0025625223004314135,
          0.05700813008130079,
          0.09008399224686947,
          0.04069882306454797,
          0.08864209584248628,
          0.0258211576547962,
          0.03278449657584148,
          0.06214729119638829,
          0.04252728520510951,
          -0.025705002972904123,
          0.06595250809149666,
          0.025844706844553533,
          0.016812333695424675,
          0.007017543859649145,
          0.03760730344733609,
          -0.03432135822155524,
          -0.008878009927052677
         ],
         "yaxis": "y",
         "type": "scatter"
        },
        {
         "hovertemplate": "<b>%{hovertext}</b><br><br>Nazwa=POLSKA<br>Rok=%{x}<br>Wartosc=%{y}<extra></extra>",
         "hovertext": [
          "POLSKA",
          "POLSKA",
          "POLSKA",
          "POLSKA",
          "POLSKA",
          "POLSKA",
          "POLSKA",
          "POLSKA",
          "POLSKA",
          "POLSKA",
          "POLSKA",
          "POLSKA",
          "POLSKA",
          "POLSKA",
          "POLSKA",
          "POLSKA",
          "POLSKA",
          "POLSKA",
          "POLSKA",
          "POLSKA",
          "POLSKA",
          "POLSKA"
         ],
         "legendgroup": "POLSKA",
         "line": {
          "color": "#FECB52",
          "dash": "solid",
          "shape": "spline"
         },
         "marker": {
          "symbol": "circle"
         },
         "mode": "lines",
         "name": "POLSKA",
         "orientation": "v",
         "showlegend": true,
         "x": [
          1999,
          2000,
          2001,
          2002,
          2003,
          2004,
          2005,
          2006,
          2007,
          2008,
          2009,
          2010,
          2011,
          2012,
          2013,
          2014,
          2015,
          2016,
          2017,
          2018,
          2019,
          2020
         ],
         "xaxis": "x",
         "y": [
          0.09289704391388187,
          0.09045765424912688,
          0.01706450482910471,
          0.025044282621531133,
          0.08451335221363543,
          0.024918487481742746,
          -0.0063336692097307745,
          0.0789656671012604,
          0.08745854647494,
          0.11645163281684057,
          0.05795835314673714,
          0.03633398837646862,
          0.02388445089970137,
          0.03512885176136815,
          0.010392280020556255,
          0.016049731562588265,
          0.011541242560765275,
          0.03706962123919766,
          0.03958856173341352,
          0.008857230287987461,
          0.05465682557336171,
          -0.033673396019908486
         ],
         "yaxis": "y",
         "type": "scatter"
        },
        {
         "hovertemplate": "<b>%{hovertext}</b><br><br>Nazwa=POMORSKIE<br>Rok=%{x}<br>Wartosc=%{y}<extra></extra>",
         "hovertext": [
          "POMORSKIE",
          "POMORSKIE",
          "POMORSKIE",
          "POMORSKIE",
          "POMORSKIE",
          "POMORSKIE",
          "POMORSKIE",
          "POMORSKIE",
          "POMORSKIE",
          "POMORSKIE",
          "POMORSKIE",
          "POMORSKIE",
          "POMORSKIE",
          "POMORSKIE",
          "POMORSKIE",
          "POMORSKIE",
          "POMORSKIE",
          "POMORSKIE",
          "POMORSKIE",
          "POMORSKIE",
          "POMORSKIE",
          "POMORSKIE"
         ],
         "legendgroup": "POMORSKIE",
         "line": {
          "color": "#636efa",
          "dash": "solid",
          "shape": "spline"
         },
         "marker": {
          "symbol": "circle"
         },
         "mode": "lines",
         "name": "POMORSKIE",
         "orientation": "v",
         "showlegend": true,
         "x": [
          1999,
          2000,
          2001,
          2002,
          2003,
          2004,
          2005,
          2006,
          2007,
          2008,
          2009,
          2010,
          2011,
          2012,
          2013,
          2014,
          2015,
          2016,
          2017,
          2018,
          2019,
          2020
         ],
         "xaxis": "x",
         "y": [
          0.06876038482840663,
          0.19324005297403124,
          0.0010777075391272817,
          0.06930072626775496,
          0.05347939112533617,
          0.02919780909453995,
          -0.03387152657473491,
          0.1261637331267662,
          0.10032354214964467,
          0.06133222199069244,
          0.06578315881326358,
          0.02245397140547123,
          0.06225914618887951,
          0.006718492343934068,
          0.014545386472977873,
          0.010129898885526512,
          -0.03321764544707284,
          0.11327973699375549,
          0.016318183361053507,
          0.07624804829377041,
          0.055477544434014314,
          -0.023359059169423046
         ],
         "yaxis": "y",
         "type": "scatter"
        },
        {
         "hovertemplate": "<b>%{hovertext}</b><br><br>Nazwa=WARMIŃSKO-MAZURSKIE<br>Rok=%{x}<br>Wartosc=%{y}<extra></extra>",
         "hovertext": [
          "WARMIŃSKO-MAZURSKIE",
          "WARMIŃSKO-MAZURSKIE",
          "WARMIŃSKO-MAZURSKIE",
          "WARMIŃSKO-MAZURSKIE",
          "WARMIŃSKO-MAZURSKIE",
          "WARMIŃSKO-MAZURSKIE",
          "WARMIŃSKO-MAZURSKIE",
          "WARMIŃSKO-MAZURSKIE",
          "WARMIŃSKO-MAZURSKIE",
          "WARMIŃSKO-MAZURSKIE",
          "WARMIŃSKO-MAZURSKIE",
          "WARMIŃSKO-MAZURSKIE",
          "WARMIŃSKO-MAZURSKIE",
          "WARMIŃSKO-MAZURSKIE",
          "WARMIŃSKO-MAZURSKIE",
          "WARMIŃSKO-MAZURSKIE",
          "WARMIŃSKO-MAZURSKIE",
          "WARMIŃSKO-MAZURSKIE",
          "WARMIŃSKO-MAZURSKIE",
          "WARMIŃSKO-MAZURSKIE",
          "WARMIŃSKO-MAZURSKIE",
          "WARMIŃSKO-MAZURSKIE"
         ],
         "legendgroup": "WARMIŃSKO-MAZURSKIE",
         "line": {
          "color": "#EF553B",
          "dash": "solid",
          "shape": "spline"
         },
         "marker": {
          "symbol": "circle"
         },
         "mode": "lines",
         "name": "WARMIŃSKO-MAZURSKIE",
         "orientation": "v",
         "showlegend": true,
         "x": [
          1999,
          2000,
          2001,
          2002,
          2003,
          2004,
          2005,
          2006,
          2007,
          2008,
          2009,
          2010,
          2011,
          2012,
          2013,
          2014,
          2015,
          2016,
          2017,
          2018,
          2019,
          2020
         ],
         "xaxis": "x",
         "y": [
          0.08565526738581597,
          0.14521584711005886,
          -0.005796459360174255,
          0.02094435263754013,
          0.08780576520869321,
          -0.012455486265527616,
          0.02505586781336766,
          0.0638171368170708,
          0.10258957958144443,
          0.13956631934666297,
          0.07806553649977754,
          -0.007277936962750697,
          0.004791317901056358,
          0.007962771458117857,
          0.00712469933768789,
          0.044302078145515456,
          -0.019195335024170257,
          0.06558663292482114,
          0.01780640076327966,
          4.381361890302138E-4,
          0.02550261748110727,
          0.06606415731452975
         ],
         "yaxis": "y",
         "type": "scatter"
        },
        {
         "hovertemplate": "<b>%{hovertext}</b><br><br>Nazwa=WIELKOPOLSKIE<br>Rok=%{x}<br>Wartosc=%{y}<extra></extra>",
         "hovertext": [
          "WIELKOPOLSKIE",
          "WIELKOPOLSKIE",
          "WIELKOPOLSKIE",
          "WIELKOPOLSKIE",
          "WIELKOPOLSKIE",
          "WIELKOPOLSKIE",
          "WIELKOPOLSKIE",
          "WIELKOPOLSKIE",
          "WIELKOPOLSKIE",
          "WIELKOPOLSKIE",
          "WIELKOPOLSKIE",
          "WIELKOPOLSKIE",
          "WIELKOPOLSKIE",
          "WIELKOPOLSKIE",
          "WIELKOPOLSKIE",
          "WIELKOPOLSKIE",
          "WIELKOPOLSKIE",
          "WIELKOPOLSKIE",
          "WIELKOPOLSKIE",
          "WIELKOPOLSKIE",
          "WIELKOPOLSKIE",
          "WIELKOPOLSKIE"
         ],
         "legendgroup": "WIELKOPOLSKIE",
         "line": {
          "color": "#00cc96",
          "dash": "solid",
          "shape": "spline"
         },
         "marker": {
          "symbol": "circle"
         },
         "mode": "lines",
         "name": "WIELKOPOLSKIE",
         "orientation": "v",
         "showlegend": true,
         "x": [
          1999,
          2000,
          2001,
          2002,
          2003,
          2004,
          2005,
          2006,
          2007,
          2008,
          2009,
          2010,
          2011,
          2012,
          2013,
          2014,
          2015,
          2016,
          2017,
          2018,
          2019,
          2020
         ],
         "xaxis": "x",
         "y": [
          0.060071038364871265,
          0.13819927500734797,
          -6.197493458200976E-4,
          0.011334665472335193,
          0.06365184806676893,
          0.04877736320399695,
          0.016902569740277595,
          0.05923423423423424,
          0.0674746615635411,
          0.11487949007370024,
          0.04765591500309685,
          0.024671146128221855,
          0.013747267744405045,
          0.017150800078803874,
          0.02509334681975184,
          -0.005867842334540518,
          0.012818617616624062,
          0.04005421184320257,
          0.05388825404462616,
          2.663166504974779E-4,
          0.10569956069452102,
          -0.03394334462771542
         ],
         "yaxis": "y",
         "type": "scatter"
        },
        {
         "hovertemplate": "<b>%{hovertext}</b><br><br>Nazwa=ZACHODNIOPOMORSKIE<br>Rok=%{x}<br>Wartosc=%{y}<extra></extra>",
         "hovertext": [
          "ZACHODNIOPOMORSKIE",
          "ZACHODNIOPOMORSKIE",
          "ZACHODNIOPOMORSKIE",
          "ZACHODNIOPOMORSKIE",
          "ZACHODNIOPOMORSKIE",
          "ZACHODNIOPOMORSKIE",
          "ZACHODNIOPOMORSKIE",
          "ZACHODNIOPOMORSKIE",
          "ZACHODNIOPOMORSKIE",
          "ZACHODNIOPOMORSKIE",
          "ZACHODNIOPOMORSKIE",
          "ZACHODNIOPOMORSKIE",
          "ZACHODNIOPOMORSKIE",
          "ZACHODNIOPOMORSKIE",
          "ZACHODNIOPOMORSKIE",
          "ZACHODNIOPOMORSKIE",
          "ZACHODNIOPOMORSKIE",
          "ZACHODNIOPOMORSKIE",
          "ZACHODNIOPOMORSKIE",
          "ZACHODNIOPOMORSKIE",
          "ZACHODNIOPOMORSKIE",
          "ZACHODNIOPOMORSKIE"
         ],
         "legendgroup": "ZACHODNIOPOMORSKIE",
         "line": {
          "color": "#ab63fa",
          "dash": "solid",
          "shape": "spline"
         },
         "marker": {
          "symbol": "circle"
         },
         "mode": "lines",
         "name": "ZACHODNIOPOMORSKIE",
         "orientation": "v",
         "showlegend": true,
         "x": [
          1999,
          2000,
          2001,
          2002,
          2003,
          2004,
          2005,
          2006,
          2007,
          2008,
          2009,
          2010,
          2011,
          2012,
          2013,
          2014,
          2015,
          2016,
          2017,
          2018,
          2019,
          2020
         ],
         "xaxis": "x",
         "y": [
          0.08081833737613064,
          0.052923676473146664,
          0.0018175509327340578,
          0.051689729676238194,
          0.08685015290519882,
          0.015554882184032337,
          -0.0446853554226283,
          0.12762508180141596,
          0.054394133241885134,
          0.09273088903066018,
          0.07631018613915797,
          0.026313550308445066,
          0.007357970443758077,
          0.06397884860705316,
          -0.03640389468493466,
          0.06984888318047733,
          0.0379200705315188,
          0.0035603911008295075,
          0.08576754070018722,
          0.02547665055025261,
          0.02168972851447193,
          -0.016479993667629755
         ],
         "yaxis": "y",
         "type": "scatter"
        },
        {
         "hovertemplate": "<b>%{hovertext}</b><br><br>Nazwa=ŁÓDZKIE<br>Rok=%{x}<br>Wartosc=%{y}<extra></extra>",
         "hovertext": [
          "ŁÓDZKIE",
          "ŁÓDZKIE",
          "ŁÓDZKIE",
          "ŁÓDZKIE",
          "ŁÓDZKIE",
          "ŁÓDZKIE",
          "ŁÓDZKIE",
          "ŁÓDZKIE",
          "ŁÓDZKIE",
          "ŁÓDZKIE",
          "ŁÓDZKIE",
          "ŁÓDZKIE",
          "ŁÓDZKIE",
          "ŁÓDZKIE",
          "ŁÓDZKIE",
          "ŁÓDZKIE",
          "ŁÓDZKIE",
          "ŁÓDZKIE",
          "ŁÓDZKIE",
          "ŁÓDZKIE",
          "ŁÓDZKIE",
          "ŁÓDZKIE"
         ],
         "legendgroup": "ŁÓDZKIE",
         "line": {
          "color": "#FFA15A",
          "dash": "solid",
          "shape": "spline"
         },
         "marker": {
          "symbol": "circle"
         },
         "mode": "lines",
         "name": "ŁÓDZKIE",
         "orientation": "v",
         "showlegend": true,
         "x": [
          1999,
          2000,
          2001,
          2002,
          2003,
          2004,
          2005,
          2006,
          2007,
          2008,
          2009,
          2010,
          2011,
          2012,
          2013,
          2014,
          2015,
          2016,
          2017,
          2018,
          2019,
          2020
         ],
         "xaxis": "x",
         "y": [
          0.12555861288371095,
          0.11401425178147262,
          -0.032605481456118746,
          0.041249718459409834,
          0.06572726429961984,
          0.03406982138714909,
          0.026007346549645316,
          0.0578155532173652,
          0.08470263008319123,
          0.09846490966904442,
          0.08170257055194763,
          0.03799625149088426,
          0.0068170406705032605,
          0.038889421693679926,
          0.04525271174705736,
          -0.011746314924885426,
          0.024361689768269024,
          0.051891854165394324,
          0.08939131300229741,
          -0.061789583476082766,
          0.11543985783028887,
          -0.10844688234309863
         ],
         "yaxis": "y",
         "type": "scatter"
        },
        {
         "hovertemplate": "<b>%{hovertext}</b><br><br>Nazwa=ŚLĄSKIE<br>Rok=%{x}<br>Wartosc=%{y}<extra></extra>",
         "hovertext": [
          "ŚLĄSKIE",
          "ŚLĄSKIE",
          "ŚLĄSKIE",
          "ŚLĄSKIE",
          "ŚLĄSKIE",
          "ŚLĄSKIE",
          "ŚLĄSKIE",
          "ŚLĄSKIE",
          "ŚLĄSKIE",
          "ŚLĄSKIE",
          "ŚLĄSKIE",
          "ŚLĄSKIE",
          "ŚLĄSKIE",
          "ŚLĄSKIE",
          "ŚLĄSKIE",
          "ŚLĄSKIE",
          "ŚLĄSKIE",
          "ŚLĄSKIE",
          "ŚLĄSKIE",
          "ŚLĄSKIE",
          "ŚLĄSKIE",
          "ŚLĄSKIE"
         ],
         "legendgroup": "ŚLĄSKIE",
         "line": {
          "color": "#19d3f3",
          "dash": "solid",
          "shape": "spline"
         },
         "marker": {
          "symbol": "circle"
         },
         "mode": "lines",
         "name": "ŚLĄSKIE",
         "orientation": "v",
         "showlegend": true,
         "x": [
          1999,
          2000,
          2001,
          2002,
          2003,
          2004,
          2005,
          2006,
          2007,
          2008,
          2009,
          2010,
          2011,
          2012,
          2013,
          2014,
          2015,
          2016,
          2017,
          2018,
          2019,
          2020
         ],
         "xaxis": "x",
         "y": [
          0.09375506601581507,
          0.05874312440301699,
          0.02745415234332471,
          -0.015139128591758255,
          0.06051895348479719,
          0.009421518748822244,
          0.016699932511020865,
          0.07116829557652116,
          0.06943290745355535,
          0.09553810304651766,
          0.07982398883612052,
          0.048378860043146954,
          0.03360074756692821,
          0.05942889019264608,
          0.015042849880165576,
          0.010204903004230381,
          0.0061266046923418305,
          0.058033121557170775,
          0.07876111346756831,
          -0.006506973409299399,
          0.03238322870024746,
          -0.04473225292402061
         ],
         "yaxis": "y",
         "type": "scatter"
        },
        {
         "hovertemplate": "<b>%{hovertext}</b><br><br>Nazwa=ŚWIĘTOKRZYSKIE<br>Rok=%{x}<br>Wartosc=%{y}<extra></extra>",
         "hovertext": [
          "ŚWIĘTOKRZYSKIE",
          "ŚWIĘTOKRZYSKIE",
          "ŚWIĘTOKRZYSKIE",
          "ŚWIĘTOKRZYSKIE",
          "ŚWIĘTOKRZYSKIE",
          "ŚWIĘTOKRZYSKIE",
          "ŚWIĘTOKRZYSKIE",
          "ŚWIĘTOKRZYSKIE",
          "ŚWIĘTOKRZYSKIE",
          "ŚWIĘTOKRZYSKIE",
          "ŚWIĘTOKRZYSKIE",
          "ŚWIĘTOKRZYSKIE",
          "ŚWIĘTOKRZYSKIE",
          "ŚWIĘTOKRZYSKIE",
          "ŚWIĘTOKRZYSKIE",
          "ŚWIĘTOKRZYSKIE",
          "ŚWIĘTOKRZYSKIE",
          "ŚWIĘTOKRZYSKIE",
          "ŚWIĘTOKRZYSKIE",
          "ŚWIĘTOKRZYSKIE",
          "ŚWIĘTOKRZYSKIE",
          "ŚWIĘTOKRZYSKIE"
         ],
         "legendgroup": "ŚWIĘTOKRZYSKIE",
         "line": {
          "color": "#FF6692",
          "dash": "solid",
          "shape": "spline"
         },
         "marker": {
          "symbol": "circle"
         },
         "mode": "lines",
         "name": "ŚWIĘTOKRZYSKIE",
         "orientation": "v",
         "showlegend": true,
         "x": [
          1999,
          2000,
          2001,
          2002,
          2003,
          2004,
          2005,
          2006,
          2007,
          2008,
          2009,
          2010,
          2011,
          2012,
          2013,
          2014,
          2015,
          2016,
          2017,
          2018,
          2019,
          2020
         ],
         "xaxis": "x",
         "y": [
          0.08412030973552986,
          0.09571446738162859,
          0.03976943015203682,
          0.006213491089035239,
          0.1012424197603905,
          -0.023957423947350787,
          -0.0032165402411544752,
          0.056186367558239914,
          0.11489069699049104,
          0.09402385767460952,
          0.0609880247541994,
          0.05003345663893333,
          0.02029577972826746,
          0.030898677791133533,
          0.05450388660265193,
          0.05132902610354706,
          -0.0687336955961354,
          0.06643267601891112,
          0.07671542925963215,
          0.036690259001407766,
          -0.014938006343536925,
          -0.061422973419574145
         ],
         "yaxis": "y",
         "type": "scatter"
        }
       ],
       "layout": {
        "template": {
         "data": {
          "bar": [
           {
            "error_x": {
             "color": "#2a3f5f"
            },
            "error_y": {
             "color": "#2a3f5f"
            },
            "marker": {
             "line": {
              "color": "#E5ECF6",
              "width": 0.5
             },
             "pattern": {
              "fillmode": "overlay",
              "size": 10,
              "solidity": 0.2
             }
            },
            "type": "bar"
           }
          ],
          "barpolar": [
           {
            "marker": {
             "line": {
              "color": "#E5ECF6",
              "width": 0.5
             },
             "pattern": {
              "fillmode": "overlay",
              "size": 10,
              "solidity": 0.2
             }
            },
            "type": "barpolar"
           }
          ],
          "carpet": [
           {
            "aaxis": {
             "endlinecolor": "#2a3f5f",
             "gridcolor": "white",
             "linecolor": "white",
             "minorgridcolor": "white",
             "startlinecolor": "#2a3f5f"
            },
            "baxis": {
             "endlinecolor": "#2a3f5f",
             "gridcolor": "white",
             "linecolor": "white",
             "minorgridcolor": "white",
             "startlinecolor": "#2a3f5f"
            },
            "type": "carpet"
           }
          ],
          "choropleth": [
           {
            "colorbar": {
             "outlinewidth": 0,
             "ticks": ""
            },
            "type": "choropleth"
           }
          ],
          "contour": [
           {
            "colorbar": {
             "outlinewidth": 0,
             "ticks": ""
            },
            "colorscale": [
             [
              0.0,
              "#0d0887"
             ],
             [
              0.1111111111111111,
              "#46039f"
             ],
             [
              0.2222222222222222,
              "#7201a8"
             ],
             [
              0.3333333333333333,
              "#9c179e"
             ],
             [
              0.4444444444444444,
              "#bd3786"
             ],
             [
              0.5555555555555556,
              "#d8576b"
             ],
             [
              0.6666666666666666,
              "#ed7953"
             ],
             [
              0.7777777777777778,
              "#fb9f3a"
             ],
             [
              0.8888888888888888,
              "#fdca26"
             ],
             [
              1.0,
              "#f0f921"
             ]
            ],
            "type": "contour"
           }
          ],
          "contourcarpet": [
           {
            "colorbar": {
             "outlinewidth": 0,
             "ticks": ""
            },
            "type": "contourcarpet"
           }
          ],
          "heatmap": [
           {
            "colorbar": {
             "outlinewidth": 0,
             "ticks": ""
            },
            "colorscale": [
             [
              0.0,
              "#0d0887"
             ],
             [
              0.1111111111111111,
              "#46039f"
             ],
             [
              0.2222222222222222,
              "#7201a8"
             ],
             [
              0.3333333333333333,
              "#9c179e"
             ],
             [
              0.4444444444444444,
              "#bd3786"
             ],
             [
              0.5555555555555556,
              "#d8576b"
             ],
             [
              0.6666666666666666,
              "#ed7953"
             ],
             [
              0.7777777777777778,
              "#fb9f3a"
             ],
             [
              0.8888888888888888,
              "#fdca26"
             ],
             [
              1.0,
              "#f0f921"
             ]
            ],
            "type": "heatmap"
           }
          ],
          "heatmapgl": [
           {
            "colorbar": {
             "outlinewidth": 0,
             "ticks": ""
            },
            "colorscale": [
             [
              0.0,
              "#0d0887"
             ],
             [
              0.1111111111111111,
              "#46039f"
             ],
             [
              0.2222222222222222,
              "#7201a8"
             ],
             [
              0.3333333333333333,
              "#9c179e"
             ],
             [
              0.4444444444444444,
              "#bd3786"
             ],
             [
              0.5555555555555556,
              "#d8576b"
             ],
             [
              0.6666666666666666,
              "#ed7953"
             ],
             [
              0.7777777777777778,
              "#fb9f3a"
             ],
             [
              0.8888888888888888,
              "#fdca26"
             ],
             [
              1.0,
              "#f0f921"
             ]
            ],
            "type": "heatmapgl"
           }
          ],
          "histogram": [
           {
            "marker": {
             "pattern": {
              "fillmode": "overlay",
              "size": 10,
              "solidity": 0.2
             }
            },
            "type": "histogram"
           }
          ],
          "histogram2d": [
           {
            "colorbar": {
             "outlinewidth": 0,
             "ticks": ""
            },
            "colorscale": [
             [
              0.0,
              "#0d0887"
             ],
             [
              0.1111111111111111,
              "#46039f"
             ],
             [
              0.2222222222222222,
              "#7201a8"
             ],
             [
              0.3333333333333333,
              "#9c179e"
             ],
             [
              0.4444444444444444,
              "#bd3786"
             ],
             [
              0.5555555555555556,
              "#d8576b"
             ],
             [
              0.6666666666666666,
              "#ed7953"
             ],
             [
              0.7777777777777778,
              "#fb9f3a"
             ],
             [
              0.8888888888888888,
              "#fdca26"
             ],
             [
              1.0,
              "#f0f921"
             ]
            ],
            "type": "histogram2d"
           }
          ],
          "histogram2dcontour": [
           {
            "colorbar": {
             "outlinewidth": 0,
             "ticks": ""
            },
            "colorscale": [
             [
              0.0,
              "#0d0887"
             ],
             [
              0.1111111111111111,
              "#46039f"
             ],
             [
              0.2222222222222222,
              "#7201a8"
             ],
             [
              0.3333333333333333,
              "#9c179e"
             ],
             [
              0.4444444444444444,
              "#bd3786"
             ],
             [
              0.5555555555555556,
              "#d8576b"
             ],
             [
              0.6666666666666666,
              "#ed7953"
             ],
             [
              0.7777777777777778,
              "#fb9f3a"
             ],
             [
              0.8888888888888888,
              "#fdca26"
             ],
             [
              1.0,
              "#f0f921"
             ]
            ],
            "type": "histogram2dcontour"
           }
          ],
          "mesh3d": [
           {
            "colorbar": {
             "outlinewidth": 0,
             "ticks": ""
            },
            "type": "mesh3d"
           }
          ],
          "parcoords": [
           {
            "line": {
             "colorbar": {
              "outlinewidth": 0,
              "ticks": ""
             }
            },
            "type": "parcoords"
           }
          ],
          "pie": [
           {
            "automargin": true,
            "type": "pie"
           }
          ],
          "scatter": [
           {
            "marker": {
             "colorbar": {
              "outlinewidth": 0,
              "ticks": ""
             }
            },
            "type": "scatter"
           }
          ],
          "scatter3d": [
           {
            "line": {
             "colorbar": {
              "outlinewidth": 0,
              "ticks": ""
             }
            },
            "marker": {
             "colorbar": {
              "outlinewidth": 0,
              "ticks": ""
             }
            },
            "type": "scatter3d"
           }
          ],
          "scattercarpet": [
           {
            "marker": {
             "colorbar": {
              "outlinewidth": 0,
              "ticks": ""
             }
            },
            "type": "scattercarpet"
           }
          ],
          "scattergeo": [
           {
            "marker": {
             "colorbar": {
              "outlinewidth": 0,
              "ticks": ""
             }
            },
            "type": "scattergeo"
           }
          ],
          "scattergl": [
           {
            "marker": {
             "colorbar": {
              "outlinewidth": 0,
              "ticks": ""
             }
            },
            "type": "scattergl"
           }
          ],
          "scattermapbox": [
           {
            "marker": {
             "colorbar": {
              "outlinewidth": 0,
              "ticks": ""
             }
            },
            "type": "scattermapbox"
           }
          ],
          "scatterpolar": [
           {
            "marker": {
             "colorbar": {
              "outlinewidth": 0,
              "ticks": ""
             }
            },
            "type": "scatterpolar"
           }
          ],
          "scatterpolargl": [
           {
            "marker": {
             "colorbar": {
              "outlinewidth": 0,
              "ticks": ""
             }
            },
            "type": "scatterpolargl"
           }
          ],
          "scatterternary": [
           {
            "marker": {
             "colorbar": {
              "outlinewidth": 0,
              "ticks": ""
             }
            },
            "type": "scatterternary"
           }
          ],
          "surface": [
           {
            "colorbar": {
             "outlinewidth": 0,
             "ticks": ""
            },
            "colorscale": [
             [
              0.0,
              "#0d0887"
             ],
             [
              0.1111111111111111,
              "#46039f"
             ],
             [
              0.2222222222222222,
              "#7201a8"
             ],
             [
              0.3333333333333333,
              "#9c179e"
             ],
             [
              0.4444444444444444,
              "#bd3786"
             ],
             [
              0.5555555555555556,
              "#d8576b"
             ],
             [
              0.6666666666666666,
              "#ed7953"
             ],
             [
              0.7777777777777778,
              "#fb9f3a"
             ],
             [
              0.8888888888888888,
              "#fdca26"
             ],
             [
              1.0,
              "#f0f921"
             ]
            ],
            "type": "surface"
           }
          ],
          "table": [
           {
            "cells": {
             "fill": {
              "color": "#EBF0F8"
             },
             "line": {
              "color": "white"
             }
            },
            "header": {
             "fill": {
              "color": "#C8D4E3"
             },
             "line": {
              "color": "white"
             }
            },
            "type": "table"
           }
          ]
         },
         "layout": {
          "annotationdefaults": {
           "arrowcolor": "#2a3f5f",
           "arrowhead": 0,
           "arrowwidth": 1
          },
          "autotypenumbers": "strict",
          "coloraxis": {
           "colorbar": {
            "outlinewidth": 0,
            "ticks": ""
           }
          },
          "colorscale": {
           "diverging": [
            [
             0,
             "#8e0152"
            ],
            [
             0.1,
             "#c51b7d"
            ],
            [
             0.2,
             "#de77ae"
            ],
            [
             0.3,
             "#f1b6da"
            ],
            [
             0.4,
             "#fde0ef"
            ],
            [
             0.5,
             "#f7f7f7"
            ],
            [
             0.6,
             "#e6f5d0"
            ],
            [
             0.7,
             "#b8e186"
            ],
            [
             0.8,
             "#7fbc41"
            ],
            [
             0.9,
             "#4d9221"
            ],
            [
             1,
             "#276419"
            ]
           ],
           "sequential": [
            [
             0.0,
             "#0d0887"
            ],
            [
             0.1111111111111111,
             "#46039f"
            ],
            [
             0.2222222222222222,
             "#7201a8"
            ],
            [
             0.3333333333333333,
             "#9c179e"
            ],
            [
             0.4444444444444444,
             "#bd3786"
            ],
            [
             0.5555555555555556,
             "#d8576b"
            ],
            [
             0.6666666666666666,
             "#ed7953"
            ],
            [
             0.7777777777777778,
             "#fb9f3a"
            ],
            [
             0.8888888888888888,
             "#fdca26"
            ],
            [
             1.0,
             "#f0f921"
            ]
           ],
           "sequentialminus": [
            [
             0.0,
             "#0d0887"
            ],
            [
             0.1111111111111111,
             "#46039f"
            ],
            [
             0.2222222222222222,
             "#7201a8"
            ],
            [
             0.3333333333333333,
             "#9c179e"
            ],
            [
             0.4444444444444444,
             "#bd3786"
            ],
            [
             0.5555555555555556,
             "#d8576b"
            ],
            [
             0.6666666666666666,
             "#ed7953"
            ],
            [
             0.7777777777777778,
             "#fb9f3a"
            ],
            [
             0.8888888888888888,
             "#fdca26"
            ],
            [
             1.0,
             "#f0f921"
            ]
           ]
          },
          "colorway": [
           "#636efa",
           "#EF553B",
           "#00cc96",
           "#ab63fa",
           "#FFA15A",
           "#19d3f3",
           "#FF6692",
           "#B6E880",
           "#FF97FF",
           "#FECB52"
          ],
          "font": {
           "color": "#2a3f5f"
          },
          "geo": {
           "bgcolor": "white",
           "lakecolor": "white",
           "landcolor": "#E5ECF6",
           "showlakes": true,
           "showland": true,
           "subunitcolor": "white"
          },
          "hoverlabel": {
           "align": "left"
          },
          "hovermode": "closest",
          "mapbox": {
           "style": "light"
          },
          "paper_bgcolor": "white",
          "plot_bgcolor": "#E5ECF6",
          "polar": {
           "angularaxis": {
            "gridcolor": "white",
            "linecolor": "white",
            "ticks": ""
           },
           "bgcolor": "#E5ECF6",
           "radialaxis": {
            "gridcolor": "white",
            "linecolor": "white",
            "ticks": ""
           }
          },
          "scene": {
           "xaxis": {
            "backgroundcolor": "#E5ECF6",
            "gridcolor": "white",
            "gridwidth": 2,
            "linecolor": "white",
            "showbackground": true,
            "ticks": "",
            "zerolinecolor": "white"
           },
           "yaxis": {
            "backgroundcolor": "#E5ECF6",
            "gridcolor": "white",
            "gridwidth": 2,
            "linecolor": "white",
            "showbackground": true,
            "ticks": "",
            "zerolinecolor": "white"
           },
           "zaxis": {
            "backgroundcolor": "#E5ECF6",
            "gridcolor": "white",
            "gridwidth": 2,
            "linecolor": "white",
            "showbackground": true,
            "ticks": "",
            "zerolinecolor": "white"
           }
          },
          "shapedefaults": {
           "line": {
            "color": "#2a3f5f"
           }
          },
          "ternary": {
           "aaxis": {
            "gridcolor": "white",
            "linecolor": "white",
            "ticks": ""
           },
           "baxis": {
            "gridcolor": "white",
            "linecolor": "white",
            "ticks": ""
           },
           "bgcolor": "#E5ECF6",
           "caxis": {
            "gridcolor": "white",
            "linecolor": "white",
            "ticks": ""
           }
          },
          "title": {
           "x": 0.05
          },
          "xaxis": {
           "automargin": true,
           "gridcolor": "white",
           "linecolor": "white",
           "ticks": "",
           "title": {
            "standoff": 15
           },
           "zerolinecolor": "white",
           "zerolinewidth": 2
          },
          "yaxis": {
           "automargin": true,
           "gridcolor": "white",
           "linecolor": "white",
           "ticks": "",
           "title": {
            "standoff": 15
           },
           "zerolinecolor": "white",
           "zerolinewidth": 2
          }
         }
        },
        "xaxis": {
         "anchor": "y",
         "domain": [
          0.0,
          1.0
         ],
         "title": {
          "text": "Rok"
         }
        },
        "yaxis": {
         "anchor": "x",
         "domain": [
          0.0,
          1.0
         ],
         "title": {
          "text": "Wartosc"
         }
        },
        "legend": {
         "title": {
          "text": "Nazwa"
         },
         "tracegroupgap": 0
        },
        "margin": {
         "t": 60
        }
       },
       "config": {
        "plotlyServerURL": "https://plot.ly"
       }
      },
      "text/html": "<div>                            <div id=\"64e6df28-c48a-4dd8-a7f1-39d41f51b58f\" class=\"plotly-graph-div\" style=\"height:525px; width:100%;\"></div>            <script type=\"text/javascript\">                require([\"plotly\"], function(Plotly) {                    window.PLOTLYENV=window.PLOTLYENV || {};                                    if (document.getElementById(\"64e6df28-c48a-4dd8-a7f1-39d41f51b58f\")) {                    Plotly.newPlot(                        \"64e6df28-c48a-4dd8-a7f1-39d41f51b58f\",                        [{\"hovertemplate\":\"<b>%{hovertext}</b><br><br>Nazwa=DOLNO\\u015aL\\u0104SKIE<br>Rok=%{x}<br>Wartosc=%{y}<extra></extra>\",\"hovertext\":[\"DOLNO\\u015aL\\u0104SKIE\",\"DOLNO\\u015aL\\u0104SKIE\",\"DOLNO\\u015aL\\u0104SKIE\",\"DOLNO\\u015aL\\u0104SKIE\",\"DOLNO\\u015aL\\u0104SKIE\",\"DOLNO\\u015aL\\u0104SKIE\",\"DOLNO\\u015aL\\u0104SKIE\",\"DOLNO\\u015aL\\u0104SKIE\",\"DOLNO\\u015aL\\u0104SKIE\",\"DOLNO\\u015aL\\u0104SKIE\",\"DOLNO\\u015aL\\u0104SKIE\",\"DOLNO\\u015aL\\u0104SKIE\",\"DOLNO\\u015aL\\u0104SKIE\",\"DOLNO\\u015aL\\u0104SKIE\",\"DOLNO\\u015aL\\u0104SKIE\",\"DOLNO\\u015aL\\u0104SKIE\",\"DOLNO\\u015aL\\u0104SKIE\",\"DOLNO\\u015aL\\u0104SKIE\",\"DOLNO\\u015aL\\u0104SKIE\",\"DOLNO\\u015aL\\u0104SKIE\",\"DOLNO\\u015aL\\u0104SKIE\",\"DOLNO\\u015aL\\u0104SKIE\"],\"legendgroup\":\"DOLNO\\u015aL\\u0104SKIE\",\"line\":{\"color\":\"#636efa\",\"dash\":\"solid\",\"shape\":\"spline\"},\"marker\":{\"symbol\":\"circle\"},\"mode\":\"lines\",\"name\":\"DOLNO\\u015aL\\u0104SKIE\",\"orientation\":\"v\",\"showlegend\":true,\"x\":[1999,2000,2001,2002,2003,2004,2005,2006,2007,2008,2009,2010,2011,2012,2013,2014,2015,2016,2017,2018,2019,2020],\"xaxis\":\"x\",\"y\":[0.09904793111608678,0.008082949614072188,-0.0002793204298248142,0.025359520092037124,0.09522664614990073,0.0070541058701283355,0.017017627995523865,0.08486467948901155,0.12052001422531311,0.12573027236073409,0.05795315714181304,0.005685126879003466,0.03784362026832078,0.06961767959980714,-0.005295683001653284,0.004843927758816813,0.042536065878273854,0.02793850643951612,0.00864979077080541,0.04969437102620966,0.07781415653258494,-0.01976681951657],\"yaxis\":\"y\",\"type\":\"scatter\"},{\"hovertemplate\":\"<b>%{hovertext}</b><br><br>Nazwa=KUJAWSKO-POMORSKIE<br>Rok=%{x}<br>Wartosc=%{y}<extra></extra>\",\"hovertext\":[\"KUJAWSKO-POMORSKIE\",\"KUJAWSKO-POMORSKIE\",\"KUJAWSKO-POMORSKIE\",\"KUJAWSKO-POMORSKIE\",\"KUJAWSKO-POMORSKIE\",\"KUJAWSKO-POMORSKIE\",\"KUJAWSKO-POMORSKIE\",\"KUJAWSKO-POMORSKIE\",\"KUJAWSKO-POMORSKIE\",\"KUJAWSKO-POMORSKIE\",\"KUJAWSKO-POMORSKIE\",\"KUJAWSKO-POMORSKIE\",\"KUJAWSKO-POMORSKIE\",\"KUJAWSKO-POMORSKIE\",\"KUJAWSKO-POMORSKIE\",\"KUJAWSKO-POMORSKIE\",\"KUJAWSKO-POMORSKIE\",\"KUJAWSKO-POMORSKIE\",\"KUJAWSKO-POMORSKIE\",\"KUJAWSKO-POMORSKIE\",\"KUJAWSKO-POMORSKIE\",\"KUJAWSKO-POMORSKIE\"],\"legendgroup\":\"KUJAWSKO-POMORSKIE\",\"line\":{\"color\":\"#EF553B\",\"dash\":\"solid\",\"shape\":\"spline\"},\"marker\":{\"symbol\":\"circle\"},\"mode\":\"lines\",\"name\":\"KUJAWSKO-POMORSKIE\",\"orientation\":\"v\",\"showlegend\":true,\"x\":[1999,2000,2001,2002,2003,2004,2005,2006,2007,2008,2009,2010,2011,2012,2013,2014,2015,2016,2017,2018,2019,2020],\"xaxis\":\"x\",\"y\":[0.07962433646386291,0.13504370482434025,0.05999740831929512,0.03650017464198396,0.04320134793597297,0.0036179216332332675,-0.030126492645402125,0.1188066239670793,0.0920713078041111,0.0838063937854796,0.09716183196541572,0.054865861875992294,-0.0009527624698201231,0.02052560281766458,0.05355265533243414,-0.004555900495907705,0.03537869582827047,0.027324114460069993,0.06190503388926971,0.03075723211804471,0.07175036092605791,-0.051715463515969895],\"yaxis\":\"y\",\"type\":\"scatter\"},{\"hovertemplate\":\"<b>%{hovertext}</b><br><br>Nazwa=LUBELSKIE<br>Rok=%{x}<br>Wartosc=%{y}<extra></extra>\",\"hovertext\":[\"LUBELSKIE\",\"LUBELSKIE\",\"LUBELSKIE\",\"LUBELSKIE\",\"LUBELSKIE\",\"LUBELSKIE\",\"LUBELSKIE\",\"LUBELSKIE\",\"LUBELSKIE\",\"LUBELSKIE\",\"LUBELSKIE\",\"LUBELSKIE\",\"LUBELSKIE\",\"LUBELSKIE\",\"LUBELSKIE\",\"LUBELSKIE\",\"LUBELSKIE\",\"LUBELSKIE\",\"LUBELSKIE\",\"LUBELSKIE\",\"LUBELSKIE\",\"LUBELSKIE\"],\"legendgroup\":\"LUBELSKIE\",\"line\":{\"color\":\"#00cc96\",\"dash\":\"solid\",\"shape\":\"spline\"},\"marker\":{\"symbol\":\"circle\"},\"mode\":\"lines\",\"name\":\"LUBELSKIE\",\"orientation\":\"v\",\"showlegend\":true,\"x\":[1999,2000,2001,2002,2003,2004,2005,2006,2007,2008,2009,2010,2011,2012,2013,2014,2015,2016,2017,2018,2019,2020],\"xaxis\":\"x\",\"y\":[0.14015521167340483,0.04674954147136745,0.029398021960906462,0.07858304648787673,0.08408002945869653,0.05486542443064191,-0.03473074092247297,0.07725055995933339,0.039918011030170675,0.14958664794883791,0.020081411126187332,-0.0017533676751554372,0.03711555001029643,0.07214688671642322,0.012168551321437127,0.05706536362755754,-0.011047417348008959,0.05989004200642456,0.05544708339404547,-0.0008007142002521839,0.026426321316065815,0.016350338762507244],\"yaxis\":\"y\",\"type\":\"scatter\"},{\"hovertemplate\":\"<b>%{hovertext}</b><br><br>Nazwa=LUBUSKIE<br>Rok=%{x}<br>Wartosc=%{y}<extra></extra>\",\"hovertext\":[\"LUBUSKIE\",\"LUBUSKIE\",\"LUBUSKIE\",\"LUBUSKIE\",\"LUBUSKIE\",\"LUBUSKIE\",\"LUBUSKIE\",\"LUBUSKIE\",\"LUBUSKIE\",\"LUBUSKIE\",\"LUBUSKIE\",\"LUBUSKIE\",\"LUBUSKIE\",\"LUBUSKIE\",\"LUBUSKIE\",\"LUBUSKIE\",\"LUBUSKIE\",\"LUBUSKIE\",\"LUBUSKIE\",\"LUBUSKIE\",\"LUBUSKIE\",\"LUBUSKIE\"],\"legendgroup\":\"LUBUSKIE\",\"line\":{\"color\":\"#ab63fa\",\"dash\":\"solid\",\"shape\":\"spline\"},\"marker\":{\"symbol\":\"circle\"},\"mode\":\"lines\",\"name\":\"LUBUSKIE\",\"orientation\":\"v\",\"showlegend\":true,\"x\":[1999,2000,2001,2002,2003,2004,2005,2006,2007,2008,2009,2010,2011,2012,2013,2014,2015,2016,2017,2018,2019,2020],\"xaxis\":\"x\",\"y\":[0.14349541603806437,0.021752000135315752,0.005065638088300961,0.008960189745194524,0.0833700638294399,0.035471038514857556,0.044093250676678686,0.07586274181858732,0.05768807244367857,0.1444564205575425,0.0037672039213167974,0.03667768418807982,0.0034351537591279513,0.0316510188184167,-0.0012220323490840235,0.04595688806215126,0.06353840740282846,0.03876419565411782,-0.026074979554943423,0.011030971574034876,0.06982619946845703,-0.054269393892343754],\"yaxis\":\"y\",\"type\":\"scatter\"},{\"hovertemplate\":\"<b>%{hovertext}</b><br><br>Nazwa=MAZOWIECKIE<br>Rok=%{x}<br>Wartosc=%{y}<extra></extra>\",\"hovertext\":[\"MAZOWIECKIE\",\"MAZOWIECKIE\",\"MAZOWIECKIE\",\"MAZOWIECKIE\",\"MAZOWIECKIE\",\"MAZOWIECKIE\",\"MAZOWIECKIE\",\"MAZOWIECKIE\",\"MAZOWIECKIE\",\"MAZOWIECKIE\",\"MAZOWIECKIE\",\"MAZOWIECKIE\",\"MAZOWIECKIE\",\"MAZOWIECKIE\",\"MAZOWIECKIE\",\"MAZOWIECKIE\",\"MAZOWIECKIE\",\"MAZOWIECKIE\",\"MAZOWIECKIE\",\"MAZOWIECKIE\",\"MAZOWIECKIE\",\"MAZOWIECKIE\"],\"legendgroup\":\"MAZOWIECKIE\",\"line\":{\"color\":\"#FFA15A\",\"dash\":\"solid\",\"shape\":\"spline\"},\"marker\":{\"symbol\":\"circle\"},\"mode\":\"lines\",\"name\":\"MAZOWIECKIE\",\"orientation\":\"v\",\"showlegend\":true,\"x\":[1999,2000,2001,2002,2003,2004,2005,2006,2007,2008,2009,2010,2011,2012,2013,2014,2015,2016,2017,2018,2019,2020],\"xaxis\":\"x\",\"y\":[0.08714186240043476,0.0999656314441042,0.0073426027183252085,0.048880554928941944,0.12838228375562877,0.028280084816429518,-0.05327849860982392,0.10344954173345888,0.12033268644302741,0.13561855363965702,0.07496927488734118,0.05397800985988588,0.006539216063391917,0.034807199908281516,-0.016906838812606684,0.018339594290007533,0.011288097328483682,-0.0006055256035193413,0.037098139983064105,0.0003026676990216526,0.038793073117870946,-0.02252313278148832],\"yaxis\":\"y\",\"type\":\"scatter\"},{\"hovertemplate\":\"<b>%{hovertext}</b><br><br>Nazwa=MA\\u0141OPOLSKIE<br>Rok=%{x}<br>Wartosc=%{y}<extra></extra>\",\"hovertext\":[\"MA\\u0141OPOLSKIE\",\"MA\\u0141OPOLSKIE\",\"MA\\u0141OPOLSKIE\",\"MA\\u0141OPOLSKIE\",\"MA\\u0141OPOLSKIE\",\"MA\\u0141OPOLSKIE\",\"MA\\u0141OPOLSKIE\",\"MA\\u0141OPOLSKIE\",\"MA\\u0141OPOLSKIE\",\"MA\\u0141OPOLSKIE\",\"MA\\u0141OPOLSKIE\",\"MA\\u0141OPOLSKIE\",\"MA\\u0141OPOLSKIE\",\"MA\\u0141OPOLSKIE\",\"MA\\u0141OPOLSKIE\",\"MA\\u0141OPOLSKIE\",\"MA\\u0141OPOLSKIE\",\"MA\\u0141OPOLSKIE\",\"MA\\u0141OPOLSKIE\",\"MA\\u0141OPOLSKIE\",\"MA\\u0141OPOLSKIE\",\"MA\\u0141OPOLSKIE\"],\"legendgroup\":\"MA\\u0141OPOLSKIE\",\"line\":{\"color\":\"#19d3f3\",\"dash\":\"solid\",\"shape\":\"spline\"},\"marker\":{\"symbol\":\"circle\"},\"mode\":\"lines\",\"name\":\"MA\\u0141OPOLSKIE\",\"orientation\":\"v\",\"showlegend\":true,\"x\":[1999,2000,2001,2002,2003,2004,2005,2006,2007,2008,2009,2010,2011,2012,2013,2014,2015,2016,2017,2018,2019,2020],\"xaxis\":\"x\",\"y\":[0.08030112923462984,0.08643362931325171,0.06278019173736116,-0.0143258107954638,0.06786384435592718,0.04932410561524114,-0.01173670990202269,0.04414518862035144,0.10548343013324213,0.1453295217492081,0.012266144990106032,0.05494529905036938,0.034501273925585885,0.008905036688751089,0.02867835455040657,-0.01888661168694905,-0.014732486431919711,0.055753370461669505,-0.03330354654905687,0.011281521166519148,0.0592773879027344,-0.033598396629953675],\"yaxis\":\"y\",\"type\":\"scatter\"},{\"hovertemplate\":\"<b>%{hovertext}</b><br><br>Nazwa=OPOLSKIE<br>Rok=%{x}<br>Wartosc=%{y}<extra></extra>\",\"hovertext\":[\"OPOLSKIE\",\"OPOLSKIE\",\"OPOLSKIE\",\"OPOLSKIE\",\"OPOLSKIE\",\"OPOLSKIE\",\"OPOLSKIE\",\"OPOLSKIE\",\"OPOLSKIE\",\"OPOLSKIE\",\"OPOLSKIE\",\"OPOLSKIE\",\"OPOLSKIE\",\"OPOLSKIE\",\"OPOLSKIE\",\"OPOLSKIE\",\"OPOLSKIE\",\"OPOLSKIE\",\"OPOLSKIE\",\"OPOLSKIE\",\"OPOLSKIE\",\"OPOLSKIE\"],\"legendgroup\":\"OPOLSKIE\",\"line\":{\"color\":\"#FF6692\",\"dash\":\"solid\",\"shape\":\"spline\"},\"marker\":{\"symbol\":\"circle\"},\"mode\":\"lines\",\"name\":\"OPOLSKIE\",\"orientation\":\"v\",\"showlegend\":true,\"x\":[1999,2000,2001,2002,2003,2004,2005,2006,2007,2008,2009,2010,2011,2012,2013,2014,2015,2016,2017,2018,2019,2020],\"xaxis\":\"x\",\"y\":[0.06738311288834198,0.048414113578646,0.05164149873730861,-0.012170219717389519,0.1311890193484373,0.06353522506322817,0.06894940136634187,-0.019970423712467045,0.11014013541174617,0.20113230740136623,9.840292059859479e-05,0.005480503379807766,0.026098444074762694,0.0194741409729442,0.0037231405345232726,-0.0225355788139463,0.05167860105454847,0.08345497239322208,0.03486912571964118,-0.03795554333675644,0.11964497339821989,-0.033623097018286696],\"yaxis\":\"y\",\"type\":\"scatter\"},{\"hovertemplate\":\"<b>%{hovertext}</b><br><br>Nazwa=PODKARPACKIE<br>Rok=%{x}<br>Wartosc=%{y}<extra></extra>\",\"hovertext\":[\"PODKARPACKIE\",\"PODKARPACKIE\",\"PODKARPACKIE\",\"PODKARPACKIE\",\"PODKARPACKIE\",\"PODKARPACKIE\",\"PODKARPACKIE\",\"PODKARPACKIE\",\"PODKARPACKIE\",\"PODKARPACKIE\",\"PODKARPACKIE\",\"PODKARPACKIE\",\"PODKARPACKIE\",\"PODKARPACKIE\",\"PODKARPACKIE\",\"PODKARPACKIE\",\"PODKARPACKIE\",\"PODKARPACKIE\",\"PODKARPACKIE\",\"PODKARPACKIE\",\"PODKARPACKIE\",\"PODKARPACKIE\"],\"legendgroup\":\"PODKARPACKIE\",\"line\":{\"color\":\"#B6E880\",\"dash\":\"solid\",\"shape\":\"spline\"},\"marker\":{\"symbol\":\"circle\"},\"mode\":\"lines\",\"name\":\"PODKARPACKIE\",\"orientation\":\"v\",\"showlegend\":true,\"x\":[1999,2000,2001,2002,2003,2004,2005,2006,2007,2008,2009,2010,2011,2012,2013,2014,2015,2016,2017,2018,2019,2020],\"xaxis\":\"x\",\"y\":[0.1586806493602182,0.07480181440501932,0.03453172145857564,0.021541042357695606,0.10192580428454123,0.01566469093988143,-0.017473947478115925,0.05951431432110921,0.056828010378960236,0.1255493922584947,0.05536854011256831,0.046211947230090145,0.028048780487804903,-0.0007236061684460227,0.03830767221833109,0.030057393730135162,0.023719407292302597,-0.021836239049353834,0.04403777516681817,0.019439224554362866,0.0577680114973651,-0.08344081363408129],\"yaxis\":\"y\",\"type\":\"scatter\"},{\"hovertemplate\":\"<b>%{hovertext}</b><br><br>Nazwa=PODLASKIE<br>Rok=%{x}<br>Wartosc=%{y}<extra></extra>\",\"hovertext\":[\"PODLASKIE\",\"PODLASKIE\",\"PODLASKIE\",\"PODLASKIE\",\"PODLASKIE\",\"PODLASKIE\",\"PODLASKIE\",\"PODLASKIE\",\"PODLASKIE\",\"PODLASKIE\",\"PODLASKIE\",\"PODLASKIE\",\"PODLASKIE\",\"PODLASKIE\",\"PODLASKIE\",\"PODLASKIE\",\"PODLASKIE\",\"PODLASKIE\",\"PODLASKIE\",\"PODLASKIE\",\"PODLASKIE\",\"PODLASKIE\"],\"legendgroup\":\"PODLASKIE\",\"line\":{\"color\":\"#FF97FF\",\"dash\":\"solid\",\"shape\":\"spline\"},\"marker\":{\"symbol\":\"circle\"},\"mode\":\"lines\",\"name\":\"PODLASKIE\",\"orientation\":\"v\",\"showlegend\":true,\"x\":[1999,2000,2001,2002,2003,2004,2005,2006,2007,2008,2009,2010,2011,2012,2013,2014,2015,2016,2017,2018,2019,2020],\"xaxis\":\"x\",\"y\":[0.044963484724082736,0.10874015259599279,0.07528626310096609,0.024211311330408103,0.04407755482177622,-0.0025625223004314135,0.05700813008130079,0.09008399224686947,0.04069882306454797,0.08864209584248628,0.0258211576547962,0.03278449657584148,0.06214729119638829,0.04252728520510951,-0.025705002972904123,0.06595250809149666,0.025844706844553533,0.016812333695424675,0.007017543859649145,0.03760730344733609,-0.03432135822155524,-0.008878009927052677],\"yaxis\":\"y\",\"type\":\"scatter\"},{\"hovertemplate\":\"<b>%{hovertext}</b><br><br>Nazwa=POLSKA<br>Rok=%{x}<br>Wartosc=%{y}<extra></extra>\",\"hovertext\":[\"POLSKA\",\"POLSKA\",\"POLSKA\",\"POLSKA\",\"POLSKA\",\"POLSKA\",\"POLSKA\",\"POLSKA\",\"POLSKA\",\"POLSKA\",\"POLSKA\",\"POLSKA\",\"POLSKA\",\"POLSKA\",\"POLSKA\",\"POLSKA\",\"POLSKA\",\"POLSKA\",\"POLSKA\",\"POLSKA\",\"POLSKA\",\"POLSKA\"],\"legendgroup\":\"POLSKA\",\"line\":{\"color\":\"#FECB52\",\"dash\":\"solid\",\"shape\":\"spline\"},\"marker\":{\"symbol\":\"circle\"},\"mode\":\"lines\",\"name\":\"POLSKA\",\"orientation\":\"v\",\"showlegend\":true,\"x\":[1999,2000,2001,2002,2003,2004,2005,2006,2007,2008,2009,2010,2011,2012,2013,2014,2015,2016,2017,2018,2019,2020],\"xaxis\":\"x\",\"y\":[0.09289704391388187,0.09045765424912688,0.01706450482910471,0.025044282621531133,0.08451335221363543,0.024918487481742746,-0.0063336692097307745,0.0789656671012604,0.08745854647494,0.11645163281684057,0.05795835314673714,0.03633398837646862,0.02388445089970137,0.03512885176136815,0.010392280020556255,0.016049731562588265,0.011541242560765275,0.03706962123919766,0.03958856173341352,0.008857230287987461,0.05465682557336171,-0.033673396019908486],\"yaxis\":\"y\",\"type\":\"scatter\"},{\"hovertemplate\":\"<b>%{hovertext}</b><br><br>Nazwa=POMORSKIE<br>Rok=%{x}<br>Wartosc=%{y}<extra></extra>\",\"hovertext\":[\"POMORSKIE\",\"POMORSKIE\",\"POMORSKIE\",\"POMORSKIE\",\"POMORSKIE\",\"POMORSKIE\",\"POMORSKIE\",\"POMORSKIE\",\"POMORSKIE\",\"POMORSKIE\",\"POMORSKIE\",\"POMORSKIE\",\"POMORSKIE\",\"POMORSKIE\",\"POMORSKIE\",\"POMORSKIE\",\"POMORSKIE\",\"POMORSKIE\",\"POMORSKIE\",\"POMORSKIE\",\"POMORSKIE\",\"POMORSKIE\"],\"legendgroup\":\"POMORSKIE\",\"line\":{\"color\":\"#636efa\",\"dash\":\"solid\",\"shape\":\"spline\"},\"marker\":{\"symbol\":\"circle\"},\"mode\":\"lines\",\"name\":\"POMORSKIE\",\"orientation\":\"v\",\"showlegend\":true,\"x\":[1999,2000,2001,2002,2003,2004,2005,2006,2007,2008,2009,2010,2011,2012,2013,2014,2015,2016,2017,2018,2019,2020],\"xaxis\":\"x\",\"y\":[0.06876038482840663,0.19324005297403124,0.0010777075391272817,0.06930072626775496,0.05347939112533617,0.02919780909453995,-0.03387152657473491,0.1261637331267662,0.10032354214964467,0.06133222199069244,0.06578315881326358,0.02245397140547123,0.06225914618887951,0.006718492343934068,0.014545386472977873,0.010129898885526512,-0.03321764544707284,0.11327973699375549,0.016318183361053507,0.07624804829377041,0.055477544434014314,-0.023359059169423046],\"yaxis\":\"y\",\"type\":\"scatter\"},{\"hovertemplate\":\"<b>%{hovertext}</b><br><br>Nazwa=WARMI\\u0143SKO-MAZURSKIE<br>Rok=%{x}<br>Wartosc=%{y}<extra></extra>\",\"hovertext\":[\"WARMI\\u0143SKO-MAZURSKIE\",\"WARMI\\u0143SKO-MAZURSKIE\",\"WARMI\\u0143SKO-MAZURSKIE\",\"WARMI\\u0143SKO-MAZURSKIE\",\"WARMI\\u0143SKO-MAZURSKIE\",\"WARMI\\u0143SKO-MAZURSKIE\",\"WARMI\\u0143SKO-MAZURSKIE\",\"WARMI\\u0143SKO-MAZURSKIE\",\"WARMI\\u0143SKO-MAZURSKIE\",\"WARMI\\u0143SKO-MAZURSKIE\",\"WARMI\\u0143SKO-MAZURSKIE\",\"WARMI\\u0143SKO-MAZURSKIE\",\"WARMI\\u0143SKO-MAZURSKIE\",\"WARMI\\u0143SKO-MAZURSKIE\",\"WARMI\\u0143SKO-MAZURSKIE\",\"WARMI\\u0143SKO-MAZURSKIE\",\"WARMI\\u0143SKO-MAZURSKIE\",\"WARMI\\u0143SKO-MAZURSKIE\",\"WARMI\\u0143SKO-MAZURSKIE\",\"WARMI\\u0143SKO-MAZURSKIE\",\"WARMI\\u0143SKO-MAZURSKIE\",\"WARMI\\u0143SKO-MAZURSKIE\"],\"legendgroup\":\"WARMI\\u0143SKO-MAZURSKIE\",\"line\":{\"color\":\"#EF553B\",\"dash\":\"solid\",\"shape\":\"spline\"},\"marker\":{\"symbol\":\"circle\"},\"mode\":\"lines\",\"name\":\"WARMI\\u0143SKO-MAZURSKIE\",\"orientation\":\"v\",\"showlegend\":true,\"x\":[1999,2000,2001,2002,2003,2004,2005,2006,2007,2008,2009,2010,2011,2012,2013,2014,2015,2016,2017,2018,2019,2020],\"xaxis\":\"x\",\"y\":[0.08565526738581597,0.14521584711005886,-0.005796459360174255,0.02094435263754013,0.08780576520869321,-0.012455486265527616,0.02505586781336766,0.0638171368170708,0.10258957958144443,0.13956631934666297,0.07806553649977754,-0.007277936962750697,0.004791317901056358,0.007962771458117857,0.00712469933768789,0.044302078145515456,-0.019195335024170257,0.06558663292482114,0.01780640076327966,0.0004381361890302138,0.02550261748110727,0.06606415731452975],\"yaxis\":\"y\",\"type\":\"scatter\"},{\"hovertemplate\":\"<b>%{hovertext}</b><br><br>Nazwa=WIELKOPOLSKIE<br>Rok=%{x}<br>Wartosc=%{y}<extra></extra>\",\"hovertext\":[\"WIELKOPOLSKIE\",\"WIELKOPOLSKIE\",\"WIELKOPOLSKIE\",\"WIELKOPOLSKIE\",\"WIELKOPOLSKIE\",\"WIELKOPOLSKIE\",\"WIELKOPOLSKIE\",\"WIELKOPOLSKIE\",\"WIELKOPOLSKIE\",\"WIELKOPOLSKIE\",\"WIELKOPOLSKIE\",\"WIELKOPOLSKIE\",\"WIELKOPOLSKIE\",\"WIELKOPOLSKIE\",\"WIELKOPOLSKIE\",\"WIELKOPOLSKIE\",\"WIELKOPOLSKIE\",\"WIELKOPOLSKIE\",\"WIELKOPOLSKIE\",\"WIELKOPOLSKIE\",\"WIELKOPOLSKIE\",\"WIELKOPOLSKIE\"],\"legendgroup\":\"WIELKOPOLSKIE\",\"line\":{\"color\":\"#00cc96\",\"dash\":\"solid\",\"shape\":\"spline\"},\"marker\":{\"symbol\":\"circle\"},\"mode\":\"lines\",\"name\":\"WIELKOPOLSKIE\",\"orientation\":\"v\",\"showlegend\":true,\"x\":[1999,2000,2001,2002,2003,2004,2005,2006,2007,2008,2009,2010,2011,2012,2013,2014,2015,2016,2017,2018,2019,2020],\"xaxis\":\"x\",\"y\":[0.060071038364871265,0.13819927500734797,-0.0006197493458200976,0.011334665472335193,0.06365184806676893,0.04877736320399695,0.016902569740277595,0.05923423423423424,0.0674746615635411,0.11487949007370024,0.04765591500309685,0.024671146128221855,0.013747267744405045,0.017150800078803874,0.02509334681975184,-0.005867842334540518,0.012818617616624062,0.04005421184320257,0.05388825404462616,0.0002663166504974779,0.10569956069452102,-0.03394334462771542],\"yaxis\":\"y\",\"type\":\"scatter\"},{\"hovertemplate\":\"<b>%{hovertext}</b><br><br>Nazwa=ZACHODNIOPOMORSKIE<br>Rok=%{x}<br>Wartosc=%{y}<extra></extra>\",\"hovertext\":[\"ZACHODNIOPOMORSKIE\",\"ZACHODNIOPOMORSKIE\",\"ZACHODNIOPOMORSKIE\",\"ZACHODNIOPOMORSKIE\",\"ZACHODNIOPOMORSKIE\",\"ZACHODNIOPOMORSKIE\",\"ZACHODNIOPOMORSKIE\",\"ZACHODNIOPOMORSKIE\",\"ZACHODNIOPOMORSKIE\",\"ZACHODNIOPOMORSKIE\",\"ZACHODNIOPOMORSKIE\",\"ZACHODNIOPOMORSKIE\",\"ZACHODNIOPOMORSKIE\",\"ZACHODNIOPOMORSKIE\",\"ZACHODNIOPOMORSKIE\",\"ZACHODNIOPOMORSKIE\",\"ZACHODNIOPOMORSKIE\",\"ZACHODNIOPOMORSKIE\",\"ZACHODNIOPOMORSKIE\",\"ZACHODNIOPOMORSKIE\",\"ZACHODNIOPOMORSKIE\",\"ZACHODNIOPOMORSKIE\"],\"legendgroup\":\"ZACHODNIOPOMORSKIE\",\"line\":{\"color\":\"#ab63fa\",\"dash\":\"solid\",\"shape\":\"spline\"},\"marker\":{\"symbol\":\"circle\"},\"mode\":\"lines\",\"name\":\"ZACHODNIOPOMORSKIE\",\"orientation\":\"v\",\"showlegend\":true,\"x\":[1999,2000,2001,2002,2003,2004,2005,2006,2007,2008,2009,2010,2011,2012,2013,2014,2015,2016,2017,2018,2019,2020],\"xaxis\":\"x\",\"y\":[0.08081833737613064,0.052923676473146664,0.0018175509327340578,0.051689729676238194,0.08685015290519882,0.015554882184032337,-0.0446853554226283,0.12762508180141596,0.054394133241885134,0.09273088903066018,0.07631018613915797,0.026313550308445066,0.007357970443758077,0.06397884860705316,-0.03640389468493466,0.06984888318047733,0.0379200705315188,0.0035603911008295075,0.08576754070018722,0.02547665055025261,0.02168972851447193,-0.016479993667629755],\"yaxis\":\"y\",\"type\":\"scatter\"},{\"hovertemplate\":\"<b>%{hovertext}</b><br><br>Nazwa=\\u0141\\u00d3DZKIE<br>Rok=%{x}<br>Wartosc=%{y}<extra></extra>\",\"hovertext\":[\"\\u0141\\u00d3DZKIE\",\"\\u0141\\u00d3DZKIE\",\"\\u0141\\u00d3DZKIE\",\"\\u0141\\u00d3DZKIE\",\"\\u0141\\u00d3DZKIE\",\"\\u0141\\u00d3DZKIE\",\"\\u0141\\u00d3DZKIE\",\"\\u0141\\u00d3DZKIE\",\"\\u0141\\u00d3DZKIE\",\"\\u0141\\u00d3DZKIE\",\"\\u0141\\u00d3DZKIE\",\"\\u0141\\u00d3DZKIE\",\"\\u0141\\u00d3DZKIE\",\"\\u0141\\u00d3DZKIE\",\"\\u0141\\u00d3DZKIE\",\"\\u0141\\u00d3DZKIE\",\"\\u0141\\u00d3DZKIE\",\"\\u0141\\u00d3DZKIE\",\"\\u0141\\u00d3DZKIE\",\"\\u0141\\u00d3DZKIE\",\"\\u0141\\u00d3DZKIE\",\"\\u0141\\u00d3DZKIE\"],\"legendgroup\":\"\\u0141\\u00d3DZKIE\",\"line\":{\"color\":\"#FFA15A\",\"dash\":\"solid\",\"shape\":\"spline\"},\"marker\":{\"symbol\":\"circle\"},\"mode\":\"lines\",\"name\":\"\\u0141\\u00d3DZKIE\",\"orientation\":\"v\",\"showlegend\":true,\"x\":[1999,2000,2001,2002,2003,2004,2005,2006,2007,2008,2009,2010,2011,2012,2013,2014,2015,2016,2017,2018,2019,2020],\"xaxis\":\"x\",\"y\":[0.12555861288371095,0.11401425178147262,-0.032605481456118746,0.041249718459409834,0.06572726429961984,0.03406982138714909,0.026007346549645316,0.0578155532173652,0.08470263008319123,0.09846490966904442,0.08170257055194763,0.03799625149088426,0.0068170406705032605,0.038889421693679926,0.04525271174705736,-0.011746314924885426,0.024361689768269024,0.051891854165394324,0.08939131300229741,-0.061789583476082766,0.11543985783028887,-0.10844688234309863],\"yaxis\":\"y\",\"type\":\"scatter\"},{\"hovertemplate\":\"<b>%{hovertext}</b><br><br>Nazwa=\\u015aL\\u0104SKIE<br>Rok=%{x}<br>Wartosc=%{y}<extra></extra>\",\"hovertext\":[\"\\u015aL\\u0104SKIE\",\"\\u015aL\\u0104SKIE\",\"\\u015aL\\u0104SKIE\",\"\\u015aL\\u0104SKIE\",\"\\u015aL\\u0104SKIE\",\"\\u015aL\\u0104SKIE\",\"\\u015aL\\u0104SKIE\",\"\\u015aL\\u0104SKIE\",\"\\u015aL\\u0104SKIE\",\"\\u015aL\\u0104SKIE\",\"\\u015aL\\u0104SKIE\",\"\\u015aL\\u0104SKIE\",\"\\u015aL\\u0104SKIE\",\"\\u015aL\\u0104SKIE\",\"\\u015aL\\u0104SKIE\",\"\\u015aL\\u0104SKIE\",\"\\u015aL\\u0104SKIE\",\"\\u015aL\\u0104SKIE\",\"\\u015aL\\u0104SKIE\",\"\\u015aL\\u0104SKIE\",\"\\u015aL\\u0104SKIE\",\"\\u015aL\\u0104SKIE\"],\"legendgroup\":\"\\u015aL\\u0104SKIE\",\"line\":{\"color\":\"#19d3f3\",\"dash\":\"solid\",\"shape\":\"spline\"},\"marker\":{\"symbol\":\"circle\"},\"mode\":\"lines\",\"name\":\"\\u015aL\\u0104SKIE\",\"orientation\":\"v\",\"showlegend\":true,\"x\":[1999,2000,2001,2002,2003,2004,2005,2006,2007,2008,2009,2010,2011,2012,2013,2014,2015,2016,2017,2018,2019,2020],\"xaxis\":\"x\",\"y\":[0.09375506601581507,0.05874312440301699,0.02745415234332471,-0.015139128591758255,0.06051895348479719,0.009421518748822244,0.016699932511020865,0.07116829557652116,0.06943290745355535,0.09553810304651766,0.07982398883612052,0.048378860043146954,0.03360074756692821,0.05942889019264608,0.015042849880165576,0.010204903004230381,0.0061266046923418305,0.058033121557170775,0.07876111346756831,-0.006506973409299399,0.03238322870024746,-0.04473225292402061],\"yaxis\":\"y\",\"type\":\"scatter\"},{\"hovertemplate\":\"<b>%{hovertext}</b><br><br>Nazwa=\\u015aWI\\u0118TOKRZYSKIE<br>Rok=%{x}<br>Wartosc=%{y}<extra></extra>\",\"hovertext\":[\"\\u015aWI\\u0118TOKRZYSKIE\",\"\\u015aWI\\u0118TOKRZYSKIE\",\"\\u015aWI\\u0118TOKRZYSKIE\",\"\\u015aWI\\u0118TOKRZYSKIE\",\"\\u015aWI\\u0118TOKRZYSKIE\",\"\\u015aWI\\u0118TOKRZYSKIE\",\"\\u015aWI\\u0118TOKRZYSKIE\",\"\\u015aWI\\u0118TOKRZYSKIE\",\"\\u015aWI\\u0118TOKRZYSKIE\",\"\\u015aWI\\u0118TOKRZYSKIE\",\"\\u015aWI\\u0118TOKRZYSKIE\",\"\\u015aWI\\u0118TOKRZYSKIE\",\"\\u015aWI\\u0118TOKRZYSKIE\",\"\\u015aWI\\u0118TOKRZYSKIE\",\"\\u015aWI\\u0118TOKRZYSKIE\",\"\\u015aWI\\u0118TOKRZYSKIE\",\"\\u015aWI\\u0118TOKRZYSKIE\",\"\\u015aWI\\u0118TOKRZYSKIE\",\"\\u015aWI\\u0118TOKRZYSKIE\",\"\\u015aWI\\u0118TOKRZYSKIE\",\"\\u015aWI\\u0118TOKRZYSKIE\",\"\\u015aWI\\u0118TOKRZYSKIE\"],\"legendgroup\":\"\\u015aWI\\u0118TOKRZYSKIE\",\"line\":{\"color\":\"#FF6692\",\"dash\":\"solid\",\"shape\":\"spline\"},\"marker\":{\"symbol\":\"circle\"},\"mode\":\"lines\",\"name\":\"\\u015aWI\\u0118TOKRZYSKIE\",\"orientation\":\"v\",\"showlegend\":true,\"x\":[1999,2000,2001,2002,2003,2004,2005,2006,2007,2008,2009,2010,2011,2012,2013,2014,2015,2016,2017,2018,2019,2020],\"xaxis\":\"x\",\"y\":[0.08412030973552986,0.09571446738162859,0.03976943015203682,0.006213491089035239,0.1012424197603905,-0.023957423947350787,-0.0032165402411544752,0.056186367558239914,0.11489069699049104,0.09402385767460952,0.0609880247541994,0.05003345663893333,0.02029577972826746,0.030898677791133533,0.05450388660265193,0.05132902610354706,-0.0687336955961354,0.06643267601891112,0.07671542925963215,0.036690259001407766,-0.014938006343536925,-0.061422973419574145],\"yaxis\":\"y\",\"type\":\"scatter\"}],                        {\"template\":{\"data\":{\"bar\":[{\"error_x\":{\"color\":\"#2a3f5f\"},\"error_y\":{\"color\":\"#2a3f5f\"},\"marker\":{\"line\":{\"color\":\"#E5ECF6\",\"width\":0.5},\"pattern\":{\"fillmode\":\"overlay\",\"size\":10,\"solidity\":0.2}},\"type\":\"bar\"}],\"barpolar\":[{\"marker\":{\"line\":{\"color\":\"#E5ECF6\",\"width\":0.5},\"pattern\":{\"fillmode\":\"overlay\",\"size\":10,\"solidity\":0.2}},\"type\":\"barpolar\"}],\"carpet\":[{\"aaxis\":{\"endlinecolor\":\"#2a3f5f\",\"gridcolor\":\"white\",\"linecolor\":\"white\",\"minorgridcolor\":\"white\",\"startlinecolor\":\"#2a3f5f\"},\"baxis\":{\"endlinecolor\":\"#2a3f5f\",\"gridcolor\":\"white\",\"linecolor\":\"white\",\"minorgridcolor\":\"white\",\"startlinecolor\":\"#2a3f5f\"},\"type\":\"carpet\"}],\"choropleth\":[{\"colorbar\":{\"outlinewidth\":0,\"ticks\":\"\"},\"type\":\"choropleth\"}],\"contour\":[{\"colorbar\":{\"outlinewidth\":0,\"ticks\":\"\"},\"colorscale\":[[0.0,\"#0d0887\"],[0.1111111111111111,\"#46039f\"],[0.2222222222222222,\"#7201a8\"],[0.3333333333333333,\"#9c179e\"],[0.4444444444444444,\"#bd3786\"],[0.5555555555555556,\"#d8576b\"],[0.6666666666666666,\"#ed7953\"],[0.7777777777777778,\"#fb9f3a\"],[0.8888888888888888,\"#fdca26\"],[1.0,\"#f0f921\"]],\"type\":\"contour\"}],\"contourcarpet\":[{\"colorbar\":{\"outlinewidth\":0,\"ticks\":\"\"},\"type\":\"contourcarpet\"}],\"heatmap\":[{\"colorbar\":{\"outlinewidth\":0,\"ticks\":\"\"},\"colorscale\":[[0.0,\"#0d0887\"],[0.1111111111111111,\"#46039f\"],[0.2222222222222222,\"#7201a8\"],[0.3333333333333333,\"#9c179e\"],[0.4444444444444444,\"#bd3786\"],[0.5555555555555556,\"#d8576b\"],[0.6666666666666666,\"#ed7953\"],[0.7777777777777778,\"#fb9f3a\"],[0.8888888888888888,\"#fdca26\"],[1.0,\"#f0f921\"]],\"type\":\"heatmap\"}],\"heatmapgl\":[{\"colorbar\":{\"outlinewidth\":0,\"ticks\":\"\"},\"colorscale\":[[0.0,\"#0d0887\"],[0.1111111111111111,\"#46039f\"],[0.2222222222222222,\"#7201a8\"],[0.3333333333333333,\"#9c179e\"],[0.4444444444444444,\"#bd3786\"],[0.5555555555555556,\"#d8576b\"],[0.6666666666666666,\"#ed7953\"],[0.7777777777777778,\"#fb9f3a\"],[0.8888888888888888,\"#fdca26\"],[1.0,\"#f0f921\"]],\"type\":\"heatmapgl\"}],\"histogram\":[{\"marker\":{\"pattern\":{\"fillmode\":\"overlay\",\"size\":10,\"solidity\":0.2}},\"type\":\"histogram\"}],\"histogram2d\":[{\"colorbar\":{\"outlinewidth\":0,\"ticks\":\"\"},\"colorscale\":[[0.0,\"#0d0887\"],[0.1111111111111111,\"#46039f\"],[0.2222222222222222,\"#7201a8\"],[0.3333333333333333,\"#9c179e\"],[0.4444444444444444,\"#bd3786\"],[0.5555555555555556,\"#d8576b\"],[0.6666666666666666,\"#ed7953\"],[0.7777777777777778,\"#fb9f3a\"],[0.8888888888888888,\"#fdca26\"],[1.0,\"#f0f921\"]],\"type\":\"histogram2d\"}],\"histogram2dcontour\":[{\"colorbar\":{\"outlinewidth\":0,\"ticks\":\"\"},\"colorscale\":[[0.0,\"#0d0887\"],[0.1111111111111111,\"#46039f\"],[0.2222222222222222,\"#7201a8\"],[0.3333333333333333,\"#9c179e\"],[0.4444444444444444,\"#bd3786\"],[0.5555555555555556,\"#d8576b\"],[0.6666666666666666,\"#ed7953\"],[0.7777777777777778,\"#fb9f3a\"],[0.8888888888888888,\"#fdca26\"],[1.0,\"#f0f921\"]],\"type\":\"histogram2dcontour\"}],\"mesh3d\":[{\"colorbar\":{\"outlinewidth\":0,\"ticks\":\"\"},\"type\":\"mesh3d\"}],\"parcoords\":[{\"line\":{\"colorbar\":{\"outlinewidth\":0,\"ticks\":\"\"}},\"type\":\"parcoords\"}],\"pie\":[{\"automargin\":true,\"type\":\"pie\"}],\"scatter\":[{\"marker\":{\"colorbar\":{\"outlinewidth\":0,\"ticks\":\"\"}},\"type\":\"scatter\"}],\"scatter3d\":[{\"line\":{\"colorbar\":{\"outlinewidth\":0,\"ticks\":\"\"}},\"marker\":{\"colorbar\":{\"outlinewidth\":0,\"ticks\":\"\"}},\"type\":\"scatter3d\"}],\"scattercarpet\":[{\"marker\":{\"colorbar\":{\"outlinewidth\":0,\"ticks\":\"\"}},\"type\":\"scattercarpet\"}],\"scattergeo\":[{\"marker\":{\"colorbar\":{\"outlinewidth\":0,\"ticks\":\"\"}},\"type\":\"scattergeo\"}],\"scattergl\":[{\"marker\":{\"colorbar\":{\"outlinewidth\":0,\"ticks\":\"\"}},\"type\":\"scattergl\"}],\"scattermapbox\":[{\"marker\":{\"colorbar\":{\"outlinewidth\":0,\"ticks\":\"\"}},\"type\":\"scattermapbox\"}],\"scatterpolar\":[{\"marker\":{\"colorbar\":{\"outlinewidth\":0,\"ticks\":\"\"}},\"type\":\"scatterpolar\"}],\"scatterpolargl\":[{\"marker\":{\"colorbar\":{\"outlinewidth\":0,\"ticks\":\"\"}},\"type\":\"scatterpolargl\"}],\"scatterternary\":[{\"marker\":{\"colorbar\":{\"outlinewidth\":0,\"ticks\":\"\"}},\"type\":\"scatterternary\"}],\"surface\":[{\"colorbar\":{\"outlinewidth\":0,\"ticks\":\"\"},\"colorscale\":[[0.0,\"#0d0887\"],[0.1111111111111111,\"#46039f\"],[0.2222222222222222,\"#7201a8\"],[0.3333333333333333,\"#9c179e\"],[0.4444444444444444,\"#bd3786\"],[0.5555555555555556,\"#d8576b\"],[0.6666666666666666,\"#ed7953\"],[0.7777777777777778,\"#fb9f3a\"],[0.8888888888888888,\"#fdca26\"],[1.0,\"#f0f921\"]],\"type\":\"surface\"}],\"table\":[{\"cells\":{\"fill\":{\"color\":\"#EBF0F8\"},\"line\":{\"color\":\"white\"}},\"header\":{\"fill\":{\"color\":\"#C8D4E3\"},\"line\":{\"color\":\"white\"}},\"type\":\"table\"}]},\"layout\":{\"annotationdefaults\":{\"arrowcolor\":\"#2a3f5f\",\"arrowhead\":0,\"arrowwidth\":1},\"autotypenumbers\":\"strict\",\"coloraxis\":{\"colorbar\":{\"outlinewidth\":0,\"ticks\":\"\"}},\"colorscale\":{\"diverging\":[[0,\"#8e0152\"],[0.1,\"#c51b7d\"],[0.2,\"#de77ae\"],[0.3,\"#f1b6da\"],[0.4,\"#fde0ef\"],[0.5,\"#f7f7f7\"],[0.6,\"#e6f5d0\"],[0.7,\"#b8e186\"],[0.8,\"#7fbc41\"],[0.9,\"#4d9221\"],[1,\"#276419\"]],\"sequential\":[[0.0,\"#0d0887\"],[0.1111111111111111,\"#46039f\"],[0.2222222222222222,\"#7201a8\"],[0.3333333333333333,\"#9c179e\"],[0.4444444444444444,\"#bd3786\"],[0.5555555555555556,\"#d8576b\"],[0.6666666666666666,\"#ed7953\"],[0.7777777777777778,\"#fb9f3a\"],[0.8888888888888888,\"#fdca26\"],[1.0,\"#f0f921\"]],\"sequentialminus\":[[0.0,\"#0d0887\"],[0.1111111111111111,\"#46039f\"],[0.2222222222222222,\"#7201a8\"],[0.3333333333333333,\"#9c179e\"],[0.4444444444444444,\"#bd3786\"],[0.5555555555555556,\"#d8576b\"],[0.6666666666666666,\"#ed7953\"],[0.7777777777777778,\"#fb9f3a\"],[0.8888888888888888,\"#fdca26\"],[1.0,\"#f0f921\"]]},\"colorway\":[\"#636efa\",\"#EF553B\",\"#00cc96\",\"#ab63fa\",\"#FFA15A\",\"#19d3f3\",\"#FF6692\",\"#B6E880\",\"#FF97FF\",\"#FECB52\"],\"font\":{\"color\":\"#2a3f5f\"},\"geo\":{\"bgcolor\":\"white\",\"lakecolor\":\"white\",\"landcolor\":\"#E5ECF6\",\"showlakes\":true,\"showland\":true,\"subunitcolor\":\"white\"},\"hoverlabel\":{\"align\":\"left\"},\"hovermode\":\"closest\",\"mapbox\":{\"style\":\"light\"},\"paper_bgcolor\":\"white\",\"plot_bgcolor\":\"#E5ECF6\",\"polar\":{\"angularaxis\":{\"gridcolor\":\"white\",\"linecolor\":\"white\",\"ticks\":\"\"},\"bgcolor\":\"#E5ECF6\",\"radialaxis\":{\"gridcolor\":\"white\",\"linecolor\":\"white\",\"ticks\":\"\"}},\"scene\":{\"xaxis\":{\"backgroundcolor\":\"#E5ECF6\",\"gridcolor\":\"white\",\"gridwidth\":2,\"linecolor\":\"white\",\"showbackground\":true,\"ticks\":\"\",\"zerolinecolor\":\"white\"},\"yaxis\":{\"backgroundcolor\":\"#E5ECF6\",\"gridcolor\":\"white\",\"gridwidth\":2,\"linecolor\":\"white\",\"showbackground\":true,\"ticks\":\"\",\"zerolinecolor\":\"white\"},\"zaxis\":{\"backgroundcolor\":\"#E5ECF6\",\"gridcolor\":\"white\",\"gridwidth\":2,\"linecolor\":\"white\",\"showbackground\":true,\"ticks\":\"\",\"zerolinecolor\":\"white\"}},\"shapedefaults\":{\"line\":{\"color\":\"#2a3f5f\"}},\"ternary\":{\"aaxis\":{\"gridcolor\":\"white\",\"linecolor\":\"white\",\"ticks\":\"\"},\"baxis\":{\"gridcolor\":\"white\",\"linecolor\":\"white\",\"ticks\":\"\"},\"bgcolor\":\"#E5ECF6\",\"caxis\":{\"gridcolor\":\"white\",\"linecolor\":\"white\",\"ticks\":\"\"}},\"title\":{\"x\":0.05},\"xaxis\":{\"automargin\":true,\"gridcolor\":\"white\",\"linecolor\":\"white\",\"ticks\":\"\",\"title\":{\"standoff\":15},\"zerolinecolor\":\"white\",\"zerolinewidth\":2},\"yaxis\":{\"automargin\":true,\"gridcolor\":\"white\",\"linecolor\":\"white\",\"ticks\":\"\",\"title\":{\"standoff\":15},\"zerolinecolor\":\"white\",\"zerolinewidth\":2}}},\"xaxis\":{\"anchor\":\"y\",\"domain\":[0.0,1.0],\"title\":{\"text\":\"Rok\"}},\"yaxis\":{\"anchor\":\"x\",\"domain\":[0.0,1.0],\"title\":{\"text\":\"Wartosc\"}},\"legend\":{\"title\":{\"text\":\"Nazwa\"},\"tracegroupgap\":0},\"margin\":{\"t\":60}},                        {\"responsive\": true}                    ).then(function(){\n                            \nvar gd = document.getElementById('64e6df28-c48a-4dd8-a7f1-39d41f51b58f');\nvar x = new MutationObserver(function (mutations, observer) {{\n        var display = window.getComputedStyle(gd).display;\n        if (!display || display === 'none') {{\n            console.log([gd, 'removed!']);\n            Plotly.purge(gd);\n            observer.disconnect();\n        }}\n}});\n\n// Listen for the removal of the full notebook cells\nvar notebookContainer = gd.closest('#notebook-container');\nif (notebookContainer) {{\n    x.observe(notebookContainer, {childList: true});\n}}\n\n// Listen for the clearing of the current output cell\nvar outputEl = gd.closest('.output');\nif (outputEl) {{\n    x.observe(outputEl, {childList: true});\n}}\n\n                        })                };                });            </script>        </div>"
     },
     "metadata": {},
     "output_type": "display_data"
    }
   ],
   "source": [
    "fig = px.line(spendings_change_percent[spendings_change_percent.Rok != 1998],\n",
    "              x=\"Rok\", y=\"Wartosc\", color=\"Nazwa\", hover_name=\"Nazwa\",\n",
    "              line_shape=\"spline\", render_mode=\"svg\")\n",
    "\n",
    "fig.show()"
   ],
   "metadata": {
    "collapsed": false,
    "pycharm": {
     "name": "#%%\n"
    }
   }
  },
  {
   "cell_type": "markdown",
   "metadata": {},
   "source": [
    "## zarobki vs wydatki"
   ]
  },
  {
   "cell_type": "code",
   "execution_count": 20,
   "metadata": {},
   "outputs": [
    {
     "data": {
      "text/plain": "      Wartosc_Wydatki  Wartosc_Zarobki\nRok                                   \n1999          58091.0          60374.0\n1999          58091.0          47592.0\n1999          58091.0          49070.0\n1999          58091.0          59121.0\n1999          58091.0          64012.0\n...               ...              ...\n2020         172692.0         112335.0\n2020         172692.0         124253.0\n2020         172692.0         122552.0\n2020         172692.0         127085.0\n2020         172692.0          99400.0\n\n[6358 rows x 2 columns]",
      "text/html": "<div>\n<style scoped>\n    .dataframe tbody tr th:only-of-type {\n        vertical-align: middle;\n    }\n\n    .dataframe tbody tr th {\n        vertical-align: top;\n    }\n\n    .dataframe thead th {\n        text-align: right;\n    }\n</style>\n<table border=\"1\" class=\"dataframe\">\n  <thead>\n    <tr style=\"text-align: right;\">\n      <th></th>\n      <th>Wartosc_Wydatki</th>\n      <th>Wartosc_Zarobki</th>\n    </tr>\n    <tr>\n      <th>Rok</th>\n      <th></th>\n      <th></th>\n    </tr>\n  </thead>\n  <tbody>\n    <tr>\n      <th>1999</th>\n      <td>58091.0</td>\n      <td>60374.0</td>\n    </tr>\n    <tr>\n      <th>1999</th>\n      <td>58091.0</td>\n      <td>47592.0</td>\n    </tr>\n    <tr>\n      <th>1999</th>\n      <td>58091.0</td>\n      <td>49070.0</td>\n    </tr>\n    <tr>\n      <th>1999</th>\n      <td>58091.0</td>\n      <td>59121.0</td>\n    </tr>\n    <tr>\n      <th>1999</th>\n      <td>58091.0</td>\n      <td>64012.0</td>\n    </tr>\n    <tr>\n      <th>...</th>\n      <td>...</td>\n      <td>...</td>\n    </tr>\n    <tr>\n      <th>2020</th>\n      <td>172692.0</td>\n      <td>112335.0</td>\n    </tr>\n    <tr>\n      <th>2020</th>\n      <td>172692.0</td>\n      <td>124253.0</td>\n    </tr>\n    <tr>\n      <th>2020</th>\n      <td>172692.0</td>\n      <td>122552.0</td>\n    </tr>\n    <tr>\n      <th>2020</th>\n      <td>172692.0</td>\n      <td>127085.0</td>\n    </tr>\n    <tr>\n      <th>2020</th>\n      <td>172692.0</td>\n      <td>99400.0</td>\n    </tr>\n  </tbody>\n</table>\n<p>6358 rows × 2 columns</p>\n</div>"
     },
     "execution_count": 20,
     "metadata": {},
     "output_type": "execute_result"
    }
   ],
   "source": [
    "# źle\n",
    "mean_income_annually.merge(mean_spendings_annually, how='inner', on='Rok', suffixes=('_Wydatki', '_Zarobki'))"
   ]
  },
  {
   "cell_type": "code",
   "execution_count": 21,
   "metadata": {},
   "outputs": [
    {
     "data": {
      "text/plain": "                      Wartosc\nNazwa          Rok           \nDOLNOŚLĄSKIE   1999   58091.0\n               2000   60526.0\n               2001   65181.0\n               2002   69084.0\n               2003   72746.0\n...                       ...\nŚWIĘTOKRZYSKIE 2016  130596.0\n               2017  143268.0\n               2018  154982.0\n               2019  162646.0\n               2020  172692.0\n\n[374 rows x 1 columns]",
      "text/html": "<div>\n<style scoped>\n    .dataframe tbody tr th:only-of-type {\n        vertical-align: middle;\n    }\n\n    .dataframe tbody tr th {\n        vertical-align: top;\n    }\n\n    .dataframe thead th {\n        text-align: right;\n    }\n</style>\n<table border=\"1\" class=\"dataframe\">\n  <thead>\n    <tr style=\"text-align: right;\">\n      <th></th>\n      <th></th>\n      <th>Wartosc</th>\n    </tr>\n    <tr>\n      <th>Nazwa</th>\n      <th>Rok</th>\n      <th></th>\n    </tr>\n  </thead>\n  <tbody>\n    <tr>\n      <th rowspan=\"5\" valign=\"top\">DOLNOŚLĄSKIE</th>\n      <th>1999</th>\n      <td>58091.0</td>\n    </tr>\n    <tr>\n      <th>2000</th>\n      <td>60526.0</td>\n    </tr>\n    <tr>\n      <th>2001</th>\n      <td>65181.0</td>\n    </tr>\n    <tr>\n      <th>2002</th>\n      <td>69084.0</td>\n    </tr>\n    <tr>\n      <th>2003</th>\n      <td>72746.0</td>\n    </tr>\n    <tr>\n      <th>...</th>\n      <th>...</th>\n      <td>...</td>\n    </tr>\n    <tr>\n      <th rowspan=\"5\" valign=\"top\">ŚWIĘTOKRZYSKIE</th>\n      <th>2016</th>\n      <td>130596.0</td>\n    </tr>\n    <tr>\n      <th>2017</th>\n      <td>143268.0</td>\n    </tr>\n    <tr>\n      <th>2018</th>\n      <td>154982.0</td>\n    </tr>\n    <tr>\n      <th>2019</th>\n      <td>162646.0</td>\n    </tr>\n    <tr>\n      <th>2020</th>\n      <td>172692.0</td>\n    </tr>\n  </tbody>\n</table>\n<p>374 rows × 1 columns</p>\n</div>"
     },
     "execution_count": 21,
     "metadata": {},
     "output_type": "execute_result"
    }
   ],
   "source": [
    "mean_income_annually"
   ]
  },
  {
   "cell_type": "code",
   "execution_count": 22,
   "metadata": {},
   "outputs": [
    {
     "data": {
      "text/plain": "                      Wartosc\nNazwa          Rok           \nDOLNOŚLĄSKIE   1998   54933.0\n               1999   60374.0\n               2000   60862.0\n               2001   60845.0\n               2002   62388.0\n...                       ...\nŚWIĘTOKRZYSKIE 2016   96317.0\n               2017  103706.0\n               2018  107511.0\n               2019  105905.0\n               2020   99400.0\n\n[391 rows x 1 columns]",
      "text/html": "<div>\n<style scoped>\n    .dataframe tbody tr th:only-of-type {\n        vertical-align: middle;\n    }\n\n    .dataframe tbody tr th {\n        vertical-align: top;\n    }\n\n    .dataframe thead th {\n        text-align: right;\n    }\n</style>\n<table border=\"1\" class=\"dataframe\">\n  <thead>\n    <tr style=\"text-align: right;\">\n      <th></th>\n      <th></th>\n      <th>Wartosc</th>\n    </tr>\n    <tr>\n      <th>Nazwa</th>\n      <th>Rok</th>\n      <th></th>\n    </tr>\n  </thead>\n  <tbody>\n    <tr>\n      <th rowspan=\"5\" valign=\"top\">DOLNOŚLĄSKIE</th>\n      <th>1998</th>\n      <td>54933.0</td>\n    </tr>\n    <tr>\n      <th>1999</th>\n      <td>60374.0</td>\n    </tr>\n    <tr>\n      <th>2000</th>\n      <td>60862.0</td>\n    </tr>\n    <tr>\n      <th>2001</th>\n      <td>60845.0</td>\n    </tr>\n    <tr>\n      <th>2002</th>\n      <td>62388.0</td>\n    </tr>\n    <tr>\n      <th>...</th>\n      <th>...</th>\n      <td>...</td>\n    </tr>\n    <tr>\n      <th rowspan=\"5\" valign=\"top\">ŚWIĘTOKRZYSKIE</th>\n      <th>2016</th>\n      <td>96317.0</td>\n    </tr>\n    <tr>\n      <th>2017</th>\n      <td>103706.0</td>\n    </tr>\n    <tr>\n      <th>2018</th>\n      <td>107511.0</td>\n    </tr>\n    <tr>\n      <th>2019</th>\n      <td>105905.0</td>\n    </tr>\n    <tr>\n      <th>2020</th>\n      <td>99400.0</td>\n    </tr>\n  </tbody>\n</table>\n<p>391 rows × 1 columns</p>\n</div>"
     },
     "execution_count": 22,
     "metadata": {},
     "output_type": "execute_result"
    }
   ],
   "source": [
    "mean_spendings_annually"
   ]
  },
  {
   "cell_type": "code",
   "execution_count": 65,
   "metadata": {},
   "outputs": [
    {
     "data": {
      "text/plain": "              Nazwa   Rok   Dochody   Wydatki  Oszczędności\n0      DOLNOŚLĄSKIE  1998       NaN   54933.0           NaN\n1      DOLNOŚLĄSKIE  1999   58091.0   60374.0       -2283.0\n2      DOLNOŚLĄSKIE  2000   60526.0   60862.0        -336.0\n3      DOLNOŚLĄSKIE  2001   65181.0   60845.0        4336.0\n4      DOLNOŚLĄSKIE  2002   69084.0   62388.0        6696.0\n..              ...   ...       ...       ...           ...\n386  ŚWIĘTOKRZYSKIE  2016  130596.0   96317.0       34279.0\n387  ŚWIĘTOKRZYSKIE  2017  143268.0  103706.0       39562.0\n388  ŚWIĘTOKRZYSKIE  2018  154982.0  107511.0       47471.0\n389  ŚWIĘTOKRZYSKIE  2019  162646.0  105905.0       56741.0\n390  ŚWIĘTOKRZYSKIE  2020  172692.0   99400.0       73292.0\n\n[391 rows x 5 columns]",
      "text/html": "<div>\n<style scoped>\n    .dataframe tbody tr th:only-of-type {\n        vertical-align: middle;\n    }\n\n    .dataframe tbody tr th {\n        vertical-align: top;\n    }\n\n    .dataframe thead th {\n        text-align: right;\n    }\n</style>\n<table border=\"1\" class=\"dataframe\">\n  <thead>\n    <tr style=\"text-align: right;\">\n      <th></th>\n      <th>Nazwa</th>\n      <th>Rok</th>\n      <th>Dochody</th>\n      <th>Wydatki</th>\n      <th>Oszczędności</th>\n    </tr>\n  </thead>\n  <tbody>\n    <tr>\n      <th>0</th>\n      <td>DOLNOŚLĄSKIE</td>\n      <td>1998</td>\n      <td>NaN</td>\n      <td>54933.0</td>\n      <td>NaN</td>\n    </tr>\n    <tr>\n      <th>1</th>\n      <td>DOLNOŚLĄSKIE</td>\n      <td>1999</td>\n      <td>58091.0</td>\n      <td>60374.0</td>\n      <td>-2283.0</td>\n    </tr>\n    <tr>\n      <th>2</th>\n      <td>DOLNOŚLĄSKIE</td>\n      <td>2000</td>\n      <td>60526.0</td>\n      <td>60862.0</td>\n      <td>-336.0</td>\n    </tr>\n    <tr>\n      <th>3</th>\n      <td>DOLNOŚLĄSKIE</td>\n      <td>2001</td>\n      <td>65181.0</td>\n      <td>60845.0</td>\n      <td>4336.0</td>\n    </tr>\n    <tr>\n      <th>4</th>\n      <td>DOLNOŚLĄSKIE</td>\n      <td>2002</td>\n      <td>69084.0</td>\n      <td>62388.0</td>\n      <td>6696.0</td>\n    </tr>\n    <tr>\n      <th>...</th>\n      <td>...</td>\n      <td>...</td>\n      <td>...</td>\n      <td>...</td>\n      <td>...</td>\n    </tr>\n    <tr>\n      <th>386</th>\n      <td>ŚWIĘTOKRZYSKIE</td>\n      <td>2016</td>\n      <td>130596.0</td>\n      <td>96317.0</td>\n      <td>34279.0</td>\n    </tr>\n    <tr>\n      <th>387</th>\n      <td>ŚWIĘTOKRZYSKIE</td>\n      <td>2017</td>\n      <td>143268.0</td>\n      <td>103706.0</td>\n      <td>39562.0</td>\n    </tr>\n    <tr>\n      <th>388</th>\n      <td>ŚWIĘTOKRZYSKIE</td>\n      <td>2018</td>\n      <td>154982.0</td>\n      <td>107511.0</td>\n      <td>47471.0</td>\n    </tr>\n    <tr>\n      <th>389</th>\n      <td>ŚWIĘTOKRZYSKIE</td>\n      <td>2019</td>\n      <td>162646.0</td>\n      <td>105905.0</td>\n      <td>56741.0</td>\n    </tr>\n    <tr>\n      <th>390</th>\n      <td>ŚWIĘTOKRZYSKIE</td>\n      <td>2020</td>\n      <td>172692.0</td>\n      <td>99400.0</td>\n      <td>73292.0</td>\n    </tr>\n  </tbody>\n</table>\n<p>391 rows × 5 columns</p>\n</div>"
     },
     "execution_count": 65,
     "metadata": {},
     "output_type": "execute_result"
    }
   ],
   "source": [
    "incomes_vs_spendings = pd.concat([mean_income_annually.Wartosc, mean_spendings_annually.Wartosc], axis=1,\n",
    "                                 keys=['Dochody', 'Wydatki'])\n",
    "incomes_vs_spendings[\"Oszczędności\"] = incomes_vs_spendings[\"Dochody\"] - incomes_vs_spendings[\"Wydatki\"]\n",
    "incomes_vs_spendings = incomes_vs_spendings.reset_index()\n",
    "incomes_vs_spendings"
   ]
  },
  {
   "cell_type": "code",
   "execution_count": 66,
   "outputs": [
    {
     "data": {
      "application/vnd.plotly.v1+json": {
       "data": [
        {
         "hovertemplate": "<b>%{hovertext}</b><br><br>Nazwa=DOLNOŚLĄSKIE<br>Rok=%{x}<br>Dochody=%{y}<extra></extra>",
         "hovertext": [
          "DOLNOŚLĄSKIE",
          "DOLNOŚLĄSKIE",
          "DOLNOŚLĄSKIE",
          "DOLNOŚLĄSKIE",
          "DOLNOŚLĄSKIE",
          "DOLNOŚLĄSKIE",
          "DOLNOŚLĄSKIE",
          "DOLNOŚLĄSKIE",
          "DOLNOŚLĄSKIE",
          "DOLNOŚLĄSKIE",
          "DOLNOŚLĄSKIE",
          "DOLNOŚLĄSKIE",
          "DOLNOŚLĄSKIE",
          "DOLNOŚLĄSKIE",
          "DOLNOŚLĄSKIE",
          "DOLNOŚLĄSKIE",
          "DOLNOŚLĄSKIE",
          "DOLNOŚLĄSKIE",
          "DOLNOŚLĄSKIE",
          "DOLNOŚLĄSKIE",
          "DOLNOŚLĄSKIE",
          "DOLNOŚLĄSKIE",
          "DOLNOŚLĄSKIE"
         ],
         "legendgroup": "DOLNOŚLĄSKIE",
         "line": {
          "color": "#636efa",
          "dash": "solid",
          "shape": "spline"
         },
         "marker": {
          "symbol": "circle"
         },
         "mode": "lines",
         "name": "DOLNOŚLĄSKIE",
         "orientation": "v",
         "showlegend": true,
         "x": [
          1998,
          1999,
          2000,
          2001,
          2002,
          2003,
          2004,
          2005,
          2006,
          2007,
          2008,
          2009,
          2010,
          2011,
          2012,
          2013,
          2014,
          2015,
          2016,
          2017,
          2018,
          2019,
          2020
         ],
         "xaxis": "x",
         "y": [
          null,
          58091.0,
          60526.0,
          65181.0,
          69084.0,
          72746.0,
          74886.0,
          77794.0,
          85298.0,
          95096.0,
          111857.0,
          117426.0,
          123917.0,
          128293.0,
          136700.0,
          134479.0,
          136633.0,
          147184.0,
          158603.0,
          162618.0,
          175550.0,
          195520.0,
          203124.0
         ],
         "yaxis": "y",
         "type": "scatter"
        },
        {
         "hovertemplate": "<b>%{hovertext}</b><br><br>Nazwa=KUJAWSKO-POMORSKIE<br>Rok=%{x}<br>Dochody=%{y}<extra></extra>",
         "hovertext": [
          "KUJAWSKO-POMORSKIE",
          "KUJAWSKO-POMORSKIE",
          "KUJAWSKO-POMORSKIE",
          "KUJAWSKO-POMORSKIE",
          "KUJAWSKO-POMORSKIE",
          "KUJAWSKO-POMORSKIE",
          "KUJAWSKO-POMORSKIE",
          "KUJAWSKO-POMORSKIE",
          "KUJAWSKO-POMORSKIE",
          "KUJAWSKO-POMORSKIE",
          "KUJAWSKO-POMORSKIE",
          "KUJAWSKO-POMORSKIE",
          "KUJAWSKO-POMORSKIE",
          "KUJAWSKO-POMORSKIE",
          "KUJAWSKO-POMORSKIE",
          "KUJAWSKO-POMORSKIE",
          "KUJAWSKO-POMORSKIE",
          "KUJAWSKO-POMORSKIE",
          "KUJAWSKO-POMORSKIE",
          "KUJAWSKO-POMORSKIE",
          "KUJAWSKO-POMORSKIE",
          "KUJAWSKO-POMORSKIE",
          "KUJAWSKO-POMORSKIE"
         ],
         "legendgroup": "KUJAWSKO-POMORSKIE",
         "line": {
          "color": "#EF553B",
          "dash": "solid",
          "shape": "spline"
         },
         "marker": {
          "symbol": "circle"
         },
         "mode": "lines",
         "name": "KUJAWSKO-POMORSKIE",
         "orientation": "v",
         "showlegend": true,
         "x": [
          1998,
          1999,
          2000,
          2001,
          2002,
          2003,
          2004,
          2005,
          2006,
          2007,
          2008,
          2009,
          2010,
          2011,
          2012,
          2013,
          2014,
          2015,
          2016,
          2017,
          2018,
          2019,
          2020
         ],
         "xaxis": "x",
         "y": [
          null,
          51288.0,
          57255.0,
          60850.0,
          65324.0,
          64086.0,
          65284.0,
          66402.0,
          77108.0,
          89788.0,
          94994.0,
          101499.0,
          115849.0,
          110894.0,
          113397.0,
          116940.0,
          120154.0,
          124569.0,
          130863.0,
          145655.0,
          161133.0,
          177082.0,
          184534.0
         ],
         "yaxis": "y",
         "type": "scatter"
        },
        {
         "hovertemplate": "<b>%{hovertext}</b><br><br>Nazwa=LUBELSKIE<br>Rok=%{x}<br>Dochody=%{y}<extra></extra>",
         "hovertext": [
          "LUBELSKIE",
          "LUBELSKIE",
          "LUBELSKIE",
          "LUBELSKIE",
          "LUBELSKIE",
          "LUBELSKIE",
          "LUBELSKIE",
          "LUBELSKIE",
          "LUBELSKIE",
          "LUBELSKIE",
          "LUBELSKIE",
          "LUBELSKIE",
          "LUBELSKIE",
          "LUBELSKIE",
          "LUBELSKIE",
          "LUBELSKIE",
          "LUBELSKIE",
          "LUBELSKIE",
          "LUBELSKIE",
          "LUBELSKIE",
          "LUBELSKIE",
          "LUBELSKIE",
          "LUBELSKIE"
         ],
         "legendgroup": "LUBELSKIE",
         "line": {
          "color": "#00cc96",
          "dash": "solid",
          "shape": "spline"
         },
         "marker": {
          "symbol": "circle"
         },
         "mode": "lines",
         "name": "LUBELSKIE",
         "orientation": "v",
         "showlegend": true,
         "x": [
          1998,
          1999,
          2000,
          2001,
          2002,
          2003,
          2004,
          2005,
          2006,
          2007,
          2008,
          2009,
          2010,
          2011,
          2012,
          2013,
          2014,
          2015,
          2016,
          2017,
          2018,
          2019,
          2020
         ],
         "xaxis": "x",
         "y": [
          null,
          49104.0,
          50173.0,
          55303.0,
          58122.0,
          64802.0,
          67670.0,
          67237.0,
          72510.0,
          79161.0,
          88062.0,
          90899.0,
          97849.0,
          102580.0,
          105645.0,
          110558.0,
          120835.0,
          122674.0,
          129914.0,
          143658.0,
          152769.0,
          155676.0,
          167902.0
         ],
         "yaxis": "y",
         "type": "scatter"
        },
        {
         "hovertemplate": "<b>%{hovertext}</b><br><br>Nazwa=LUBUSKIE<br>Rok=%{x}<br>Dochody=%{y}<extra></extra>",
         "hovertext": [
          "LUBUSKIE",
          "LUBUSKIE",
          "LUBUSKIE",
          "LUBUSKIE",
          "LUBUSKIE",
          "LUBUSKIE",
          "LUBUSKIE",
          "LUBUSKIE",
          "LUBUSKIE",
          "LUBUSKIE",
          "LUBUSKIE",
          "LUBUSKIE",
          "LUBUSKIE",
          "LUBUSKIE",
          "LUBUSKIE",
          "LUBUSKIE",
          "LUBUSKIE",
          "LUBUSKIE",
          "LUBUSKIE",
          "LUBUSKIE",
          "LUBUSKIE",
          "LUBUSKIE",
          "LUBUSKIE"
         ],
         "legendgroup": "LUBUSKIE",
         "line": {
          "color": "#ab63fa",
          "dash": "solid",
          "shape": "spline"
         },
         "marker": {
          "symbol": "circle"
         },
         "mode": "lines",
         "name": "LUBUSKIE",
         "orientation": "v",
         "showlegend": true,
         "x": [
          1998,
          1999,
          2000,
          2001,
          2002,
          2003,
          2004,
          2005,
          2006,
          2007,
          2008,
          2009,
          2010,
          2011,
          2012,
          2013,
          2014,
          2015,
          2016,
          2017,
          2018,
          2019,
          2020
         ],
         "xaxis": "x",
         "y": [
          null,
          54926.0,
          60966.0,
          63466.0,
          64926.0,
          67875.0,
          65437.0,
          69125.0,
          84229.0,
          91430.0,
          105886.0,
          110332.0,
          115306.0,
          118989.0,
          123116.0,
          123806.0,
          128537.0,
          141958.0,
          149852.0,
          159121.0,
          166489.0,
          179412.0,
          197147.0
         ],
         "yaxis": "y",
         "type": "scatter"
        },
        {
         "hovertemplate": "<b>%{hovertext}</b><br><br>Nazwa=MAZOWIECKIE<br>Rok=%{x}<br>Dochody=%{y}<extra></extra>",
         "hovertext": [
          "MAZOWIECKIE",
          "MAZOWIECKIE",
          "MAZOWIECKIE",
          "MAZOWIECKIE",
          "MAZOWIECKIE",
          "MAZOWIECKIE",
          "MAZOWIECKIE",
          "MAZOWIECKIE",
          "MAZOWIECKIE",
          "MAZOWIECKIE",
          "MAZOWIECKIE",
          "MAZOWIECKIE",
          "MAZOWIECKIE",
          "MAZOWIECKIE",
          "MAZOWIECKIE",
          "MAZOWIECKIE",
          "MAZOWIECKIE",
          "MAZOWIECKIE",
          "MAZOWIECKIE",
          "MAZOWIECKIE",
          "MAZOWIECKIE",
          "MAZOWIECKIE",
          "MAZOWIECKIE"
         ],
         "legendgroup": "MAZOWIECKIE",
         "line": {
          "color": "#FFA15A",
          "dash": "solid",
          "shape": "spline"
         },
         "marker": {
          "symbol": "circle"
         },
         "mode": "lines",
         "name": "MAZOWIECKIE",
         "orientation": "v",
         "showlegend": true,
         "x": [
          1998,
          1999,
          2000,
          2001,
          2002,
          2003,
          2004,
          2005,
          2006,
          2007,
          2008,
          2009,
          2010,
          2011,
          2012,
          2013,
          2014,
          2015,
          2016,
          2017,
          2018,
          2019,
          2020
         ],
         "xaxis": "x",
         "y": [
          null,
          68005.0,
          75026.0,
          77144.0,
          79548.0,
          89878.0,
          94018.0,
          93797.0,
          104880.0,
          120715.0,
          133646.0,
          143873.0,
          160197.0,
          162296.0,
          171001.0,
          169042.0,
          170362.0,
          175615.0,
          178088.0,
          191209.0,
          203159.0,
          210801.0,
          224052.0
         ],
         "yaxis": "y",
         "type": "scatter"
        },
        {
         "hovertemplate": "<b>%{hovertext}</b><br><br>Nazwa=MAŁOPOLSKIE<br>Rok=%{x}<br>Dochody=%{y}<extra></extra>",
         "hovertext": [
          "MAŁOPOLSKIE",
          "MAŁOPOLSKIE",
          "MAŁOPOLSKIE",
          "MAŁOPOLSKIE",
          "MAŁOPOLSKIE",
          "MAŁOPOLSKIE",
          "MAŁOPOLSKIE",
          "MAŁOPOLSKIE",
          "MAŁOPOLSKIE",
          "MAŁOPOLSKIE",
          "MAŁOPOLSKIE",
          "MAŁOPOLSKIE",
          "MAŁOPOLSKIE",
          "MAŁOPOLSKIE",
          "MAŁOPOLSKIE",
          "MAŁOPOLSKIE",
          "MAŁOPOLSKIE",
          "MAŁOPOLSKIE",
          "MAŁOPOLSKIE",
          "MAŁOPOLSKIE",
          "MAŁOPOLSKIE",
          "MAŁOPOLSKIE",
          "MAŁOPOLSKIE"
         ],
         "legendgroup": "MAŁOPOLSKIE",
         "line": {
          "color": "#19d3f3",
          "dash": "solid",
          "shape": "spline"
         },
         "marker": {
          "symbol": "circle"
         },
         "mode": "lines",
         "name": "MAŁOPOLSKIE",
         "orientation": "v",
         "showlegend": true,
         "x": [
          1998,
          1999,
          2000,
          2001,
          2002,
          2003,
          2004,
          2005,
          2006,
          2007,
          2008,
          2009,
          2010,
          2011,
          2012,
          2013,
          2014,
          2015,
          2016,
          2017,
          2018,
          2019,
          2020
         ],
         "xaxis": "x",
         "y": [
          null,
          55965.0,
          58360.0,
          63048.0,
          63165.0,
          67184.0,
          71761.0,
          73227.0,
          76510.0,
          86437.0,
          100074.0,
          104173.0,
          110754.0,
          115679.0,
          118984.0,
          122780.0,
          126058.0,
          130545.0,
          142346.0,
          149191.0,
          162785.0,
          177308.0,
          191474.0
         ],
         "yaxis": "y",
         "type": "scatter"
        },
        {
         "hovertemplate": "<b>%{hovertext}</b><br><br>Nazwa=OPOLSKIE<br>Rok=%{x}<br>Dochody=%{y}<extra></extra>",
         "hovertext": [
          "OPOLSKIE",
          "OPOLSKIE",
          "OPOLSKIE",
          "OPOLSKIE",
          "OPOLSKIE",
          "OPOLSKIE",
          "OPOLSKIE",
          "OPOLSKIE",
          "OPOLSKIE",
          "OPOLSKIE",
          "OPOLSKIE",
          "OPOLSKIE",
          "OPOLSKIE",
          "OPOLSKIE",
          "OPOLSKIE",
          "OPOLSKIE",
          "OPOLSKIE",
          "OPOLSKIE",
          "OPOLSKIE",
          "OPOLSKIE",
          "OPOLSKIE",
          "OPOLSKIE",
          "OPOLSKIE"
         ],
         "legendgroup": "OPOLSKIE",
         "line": {
          "color": "#FF6692",
          "dash": "solid",
          "shape": "spline"
         },
         "marker": {
          "symbol": "circle"
         },
         "mode": "lines",
         "name": "OPOLSKIE",
         "orientation": "v",
         "showlegend": true,
         "x": [
          1998,
          1999,
          2000,
          2001,
          2002,
          2003,
          2004,
          2005,
          2006,
          2007,
          2008,
          2009,
          2010,
          2011,
          2012,
          2013,
          2014,
          2015,
          2016,
          2017,
          2018,
          2019,
          2020
         ],
         "xaxis": "x",
         "y": [
          null,
          50719.0,
          61368.0,
          63018.0,
          64219.0,
          69223.0,
          74464.0,
          79630.0,
          79490.0,
          91570.0,
          108008.0,
          108227.0,
          111573.0,
          118190.0,
          129426.0,
          119879.0,
          124469.0,
          128874.0,
          138992.0,
          151073.0,
          158930.0,
          168729.0,
          171134.0
         ],
         "yaxis": "y",
         "type": "scatter"
        },
        {
         "hovertemplate": "<b>%{hovertext}</b><br><br>Nazwa=PODKARPACKIE<br>Rok=%{x}<br>Dochody=%{y}<extra></extra>",
         "hovertext": [
          "PODKARPACKIE",
          "PODKARPACKIE",
          "PODKARPACKIE",
          "PODKARPACKIE",
          "PODKARPACKIE",
          "PODKARPACKIE",
          "PODKARPACKIE",
          "PODKARPACKIE",
          "PODKARPACKIE",
          "PODKARPACKIE",
          "PODKARPACKIE",
          "PODKARPACKIE",
          "PODKARPACKIE",
          "PODKARPACKIE",
          "PODKARPACKIE",
          "PODKARPACKIE",
          "PODKARPACKIE",
          "PODKARPACKIE",
          "PODKARPACKIE",
          "PODKARPACKIE",
          "PODKARPACKIE",
          "PODKARPACKIE",
          "PODKARPACKIE"
         ],
         "legendgroup": "PODKARPACKIE",
         "line": {
          "color": "#B6E880",
          "dash": "solid",
          "shape": "spline"
         },
         "marker": {
          "symbol": "circle"
         },
         "mode": "lines",
         "name": "PODKARPACKIE",
         "orientation": "v",
         "showlegend": true,
         "x": [
          1998,
          1999,
          2000,
          2001,
          2002,
          2003,
          2004,
          2005,
          2006,
          2007,
          2008,
          2009,
          2010,
          2011,
          2012,
          2013,
          2014,
          2015,
          2016,
          2017,
          2018,
          2019,
          2020
         ],
         "xaxis": "x",
         "y": [
          null,
          47684.0,
          49722.0,
          52749.0,
          53846.0,
          58212.0,
          58543.0,
          61902.0,
          64676.0,
          70067.0,
          79127.0,
          83459.0,
          90728.0,
          93785.0,
          95912.0,
          99769.0,
          105302.0,
          108164.0,
          113410.0,
          125430.0,
          134726.0,
          147149.0,
          158857.0
         ],
         "yaxis": "y",
         "type": "scatter"
        },
        {
         "hovertemplate": "<b>%{hovertext}</b><br><br>Nazwa=PODLASKIE<br>Rok=%{x}<br>Dochody=%{y}<extra></extra>",
         "hovertext": [
          "PODLASKIE",
          "PODLASKIE",
          "PODLASKIE",
          "PODLASKIE",
          "PODLASKIE",
          "PODLASKIE",
          "PODLASKIE",
          "PODLASKIE",
          "PODLASKIE",
          "PODLASKIE",
          "PODLASKIE",
          "PODLASKIE",
          "PODLASKIE",
          "PODLASKIE",
          "PODLASKIE",
          "PODLASKIE",
          "PODLASKIE",
          "PODLASKIE",
          "PODLASKIE",
          "PODLASKIE",
          "PODLASKIE",
          "PODLASKIE",
          "PODLASKIE"
         ],
         "legendgroup": "PODLASKIE",
         "line": {
          "color": "#FF97FF",
          "dash": "solid",
          "shape": "spline"
         },
         "marker": {
          "symbol": "circle"
         },
         "mode": "lines",
         "name": "PODLASKIE",
         "orientation": "v",
         "showlegend": true,
         "x": [
          1998,
          1999,
          2000,
          2001,
          2002,
          2003,
          2004,
          2005,
          2006,
          2007,
          2008,
          2009,
          2010,
          2011,
          2012,
          2013,
          2014,
          2015,
          2016,
          2017,
          2018,
          2019,
          2020
         ],
         "xaxis": "x",
         "y": [
          null,
          47916.0,
          52493.0,
          58269.0,
          62220.0,
          60796.0,
          64488.0,
          72468.0,
          81610.0,
          88399.0,
          93548.0,
          101877.0,
          110320.0,
          122492.0,
          124239.0,
          125818.0,
          125862.0,
          125793.0,
          141983.0,
          158557.0,
          159676.0,
          174170.0,
          194831.0
         ],
         "yaxis": "y",
         "type": "scatter"
        },
        {
         "hovertemplate": "<b>%{hovertext}</b><br><br>Nazwa=POLSKA<br>Rok=%{x}<br>Dochody=%{y}<extra></extra>",
         "hovertext": [
          "POLSKA",
          "POLSKA",
          "POLSKA",
          "POLSKA",
          "POLSKA",
          "POLSKA",
          "POLSKA",
          "POLSKA",
          "POLSKA",
          "POLSKA",
          "POLSKA",
          "POLSKA",
          "POLSKA",
          "POLSKA",
          "POLSKA",
          "POLSKA",
          "POLSKA",
          "POLSKA",
          "POLSKA",
          "POLSKA",
          "POLSKA",
          "POLSKA",
          "POLSKA"
         ],
         "legendgroup": "POLSKA",
         "line": {
          "color": "#FECB52",
          "dash": "solid",
          "shape": "spline"
         },
         "marker": {
          "symbol": "circle"
         },
         "mode": "lines",
         "name": "POLSKA",
         "orientation": "v",
         "showlegend": true,
         "x": [
          1998,
          1999,
          2000,
          2001,
          2002,
          2003,
          2004,
          2005,
          2006,
          2007,
          2008,
          2009,
          2010,
          2011,
          2012,
          2013,
          2014,
          2015,
          2016,
          2017,
          2018,
          2019,
          2020
         ],
         "xaxis": "x",
         "y": [
          null,
          56043.0,
          61051.0,
          64448.0,
          66421.0,
          71196.0,
          73540.0,
          76146.0,
          83468.0,
          92887.0,
          104552.0,
          111449.0,
          119282.0,
          122695.0,
          127843.0,
          129907.0,
          134044.0,
          138616.0,
          147456.0,
          159813.0,
          169346.0,
          181914.0,
          191921.0
         ],
         "yaxis": "y",
         "type": "scatter"
        },
        {
         "hovertemplate": "<b>%{hovertext}</b><br><br>Nazwa=POMORSKIE<br>Rok=%{x}<br>Dochody=%{y}<extra></extra>",
         "hovertext": [
          "POMORSKIE",
          "POMORSKIE",
          "POMORSKIE",
          "POMORSKIE",
          "POMORSKIE",
          "POMORSKIE",
          "POMORSKIE",
          "POMORSKIE",
          "POMORSKIE",
          "POMORSKIE",
          "POMORSKIE",
          "POMORSKIE",
          "POMORSKIE",
          "POMORSKIE",
          "POMORSKIE",
          "POMORSKIE",
          "POMORSKIE",
          "POMORSKIE",
          "POMORSKIE",
          "POMORSKIE",
          "POMORSKIE",
          "POMORSKIE",
          "POMORSKIE"
         ],
         "legendgroup": "POMORSKIE",
         "line": {
          "color": "#636efa",
          "dash": "solid",
          "shape": "spline"
         },
         "marker": {
          "symbol": "circle"
         },
         "mode": "lines",
         "name": "POMORSKIE",
         "orientation": "v",
         "showlegend": true,
         "x": [
          1998,
          1999,
          2000,
          2001,
          2002,
          2003,
          2004,
          2005,
          2006,
          2007,
          2008,
          2009,
          2010,
          2011,
          2012,
          2013,
          2014,
          2015,
          2016,
          2017,
          2018,
          2019,
          2020
         ],
         "xaxis": "x",
         "y": [
          null,
          56753.0,
          63149.0,
          68307.0,
          74344.0,
          76952.0,
          75332.0,
          80108.0,
          91051.0,
          103016.0,
          110219.0,
          116450.0,
          124312.0,
          128694.0,
          135056.0,
          143364.0,
          137634.0,
          138092.0,
          156035.0,
          164904.0,
          173754.0,
          185998.0,
          179912.0
         ],
         "yaxis": "y",
         "type": "scatter"
        },
        {
         "hovertemplate": "<b>%{hovertext}</b><br><br>Nazwa=WARMIŃSKO-MAZURSKIE<br>Rok=%{x}<br>Dochody=%{y}<extra></extra>",
         "hovertext": [
          "WARMIŃSKO-MAZURSKIE",
          "WARMIŃSKO-MAZURSKIE",
          "WARMIŃSKO-MAZURSKIE",
          "WARMIŃSKO-MAZURSKIE",
          "WARMIŃSKO-MAZURSKIE",
          "WARMIŃSKO-MAZURSKIE",
          "WARMIŃSKO-MAZURSKIE",
          "WARMIŃSKO-MAZURSKIE",
          "WARMIŃSKO-MAZURSKIE",
          "WARMIŃSKO-MAZURSKIE",
          "WARMIŃSKO-MAZURSKIE",
          "WARMIŃSKO-MAZURSKIE",
          "WARMIŃSKO-MAZURSKIE",
          "WARMIŃSKO-MAZURSKIE",
          "WARMIŃSKO-MAZURSKIE",
          "WARMIŃSKO-MAZURSKIE",
          "WARMIŃSKO-MAZURSKIE",
          "WARMIŃSKO-MAZURSKIE",
          "WARMIŃSKO-MAZURSKIE",
          "WARMIŃSKO-MAZURSKIE",
          "WARMIŃSKO-MAZURSKIE",
          "WARMIŃSKO-MAZURSKIE",
          "WARMIŃSKO-MAZURSKIE"
         ],
         "legendgroup": "WARMIŃSKO-MAZURSKIE",
         "line": {
          "color": "#EF553B",
          "dash": "solid",
          "shape": "spline"
         },
         "marker": {
          "symbol": "circle"
         },
         "mode": "lines",
         "name": "WARMIŃSKO-MAZURSKIE",
         "orientation": "v",
         "showlegend": true,
         "x": [
          1998,
          1999,
          2000,
          2001,
          2002,
          2003,
          2004,
          2005,
          2006,
          2007,
          2008,
          2009,
          2010,
          2011,
          2012,
          2013,
          2014,
          2015,
          2016,
          2017,
          2018,
          2019,
          2020
         ],
         "xaxis": "x",
         "y": [
          null,
          46593.0,
          54649.0,
          57941.0,
          59192.0,
          64014.0,
          65768.0,
          70126.0,
          74649.0,
          83535.0,
          97906.0,
          108428.0,
          110339.0,
          109687.0,
          110995.0,
          110897.0,
          122974.0,
          128051.0,
          137179.0,
          149615.0,
          155481.0,
          159718.0,
          188405.0
         ],
         "yaxis": "y",
         "type": "scatter"
        },
        {
         "hovertemplate": "<b>%{hovertext}</b><br><br>Nazwa=WIELKOPOLSKIE<br>Rok=%{x}<br>Dochody=%{y}<extra></extra>",
         "hovertext": [
          "WIELKOPOLSKIE",
          "WIELKOPOLSKIE",
          "WIELKOPOLSKIE",
          "WIELKOPOLSKIE",
          "WIELKOPOLSKIE",
          "WIELKOPOLSKIE",
          "WIELKOPOLSKIE",
          "WIELKOPOLSKIE",
          "WIELKOPOLSKIE",
          "WIELKOPOLSKIE",
          "WIELKOPOLSKIE",
          "WIELKOPOLSKIE",
          "WIELKOPOLSKIE",
          "WIELKOPOLSKIE",
          "WIELKOPOLSKIE",
          "WIELKOPOLSKIE",
          "WIELKOPOLSKIE",
          "WIELKOPOLSKIE",
          "WIELKOPOLSKIE",
          "WIELKOPOLSKIE",
          "WIELKOPOLSKIE",
          "WIELKOPOLSKIE",
          "WIELKOPOLSKIE"
         ],
         "legendgroup": "WIELKOPOLSKIE",
         "line": {
          "color": "#00cc96",
          "dash": "solid",
          "shape": "spline"
         },
         "marker": {
          "symbol": "circle"
         },
         "mode": "lines",
         "name": "WIELKOPOLSKIE",
         "orientation": "v",
         "showlegend": true,
         "x": [
          1998,
          1999,
          2000,
          2001,
          2002,
          2003,
          2004,
          2005,
          2006,
          2007,
          2008,
          2009,
          2010,
          2011,
          2012,
          2013,
          2014,
          2015,
          2016,
          2017,
          2018,
          2019,
          2020
         ],
         "xaxis": "x",
         "y": [
          null,
          55923.0,
          60491.0,
          63724.0,
          63916.0,
          69053.0,
          70085.0,
          73861.0,
          81416.0,
          88952.0,
          101851.0,
          109733.0,
          112574.0,
          113502.0,
          115343.0,
          120672.0,
          126878.0,
          128779.0,
          139999.0,
          160664.0,
          162998.0,
          180698.0,
          178913.0
         ],
         "yaxis": "y",
         "type": "scatter"
        },
        {
         "hovertemplate": "<b>%{hovertext}</b><br><br>Nazwa=ZACHODNIOPOMORSKIE<br>Rok=%{x}<br>Dochody=%{y}<extra></extra>",
         "hovertext": [
          "ZACHODNIOPOMORSKIE",
          "ZACHODNIOPOMORSKIE",
          "ZACHODNIOPOMORSKIE",
          "ZACHODNIOPOMORSKIE",
          "ZACHODNIOPOMORSKIE",
          "ZACHODNIOPOMORSKIE",
          "ZACHODNIOPOMORSKIE",
          "ZACHODNIOPOMORSKIE",
          "ZACHODNIOPOMORSKIE",
          "ZACHODNIOPOMORSKIE",
          "ZACHODNIOPOMORSKIE",
          "ZACHODNIOPOMORSKIE",
          "ZACHODNIOPOMORSKIE",
          "ZACHODNIOPOMORSKIE",
          "ZACHODNIOPOMORSKIE",
          "ZACHODNIOPOMORSKIE",
          "ZACHODNIOPOMORSKIE",
          "ZACHODNIOPOMORSKIE",
          "ZACHODNIOPOMORSKIE",
          "ZACHODNIOPOMORSKIE",
          "ZACHODNIOPOMORSKIE",
          "ZACHODNIOPOMORSKIE",
          "ZACHODNIOPOMORSKIE"
         ],
         "legendgroup": "ZACHODNIOPOMORSKIE",
         "line": {
          "color": "#ab63fa",
          "dash": "solid",
          "shape": "spline"
         },
         "marker": {
          "symbol": "circle"
         },
         "mode": "lines",
         "name": "ZACHODNIOPOMORSKIE",
         "orientation": "v",
         "showlegend": true,
         "x": [
          1998,
          1999,
          2000,
          2001,
          2002,
          2003,
          2004,
          2005,
          2006,
          2007,
          2008,
          2009,
          2010,
          2011,
          2012,
          2013,
          2014,
          2015,
          2016,
          2017,
          2018,
          2019,
          2020
         ],
         "xaxis": "x",
         "y": [
          null,
          59118.0,
          60337.0,
          64334.0,
          65519.0,
          70515.0,
          76204.0,
          76254.0,
          83475.0,
          90357.0,
          104891.0,
          113967.0,
          118691.0,
          123110.0,
          126356.0,
          125590.0,
          136540.0,
          142685.0,
          148290.0,
          165260.0,
          172223.0,
          180111.0,
          186209.0
         ],
         "yaxis": "y",
         "type": "scatter"
        },
        {
         "hovertemplate": "<b>%{hovertext}</b><br><br>Nazwa=ŁÓDZKIE<br>Rok=%{x}<br>Dochody=%{y}<extra></extra>",
         "hovertext": [
          "ŁÓDZKIE",
          "ŁÓDZKIE",
          "ŁÓDZKIE",
          "ŁÓDZKIE",
          "ŁÓDZKIE",
          "ŁÓDZKIE",
          "ŁÓDZKIE",
          "ŁÓDZKIE",
          "ŁÓDZKIE",
          "ŁÓDZKIE",
          "ŁÓDZKIE",
          "ŁÓDZKIE",
          "ŁÓDZKIE",
          "ŁÓDZKIE",
          "ŁÓDZKIE",
          "ŁÓDZKIE",
          "ŁÓDZKIE",
          "ŁÓDZKIE",
          "ŁÓDZKIE",
          "ŁÓDZKIE",
          "ŁÓDZKIE",
          "ŁÓDZKIE",
          "ŁÓDZKIE"
         ],
         "legendgroup": "ŁÓDZKIE",
         "line": {
          "color": "#FFA15A",
          "dash": "solid",
          "shape": "spline"
         },
         "marker": {
          "symbol": "circle"
         },
         "mode": "lines",
         "name": "ŁÓDZKIE",
         "orientation": "v",
         "showlegend": true,
         "x": [
          1998,
          1999,
          2000,
          2001,
          2002,
          2003,
          2004,
          2005,
          2006,
          2007,
          2008,
          2009,
          2010,
          2011,
          2012,
          2013,
          2014,
          2015,
          2016,
          2017,
          2018,
          2019,
          2020
         ],
         "xaxis": "x",
         "y": [
          null,
          57462.0,
          63209.0,
          64507.0,
          66051.0,
          71395.0,
          73053.0,
          76897.0,
          83690.0,
          91099.0,
          101336.0,
          111510.0,
          117873.0,
          120319.0,
          126842.0,
          129647.0,
          129336.0,
          136203.0,
          145823.0,
          156602.0,
          162050.0,
          180965.0,
          187183.0
         ],
         "yaxis": "y",
         "type": "scatter"
        },
        {
         "hovertemplate": "<b>%{hovertext}</b><br><br>Nazwa=ŚLĄSKIE<br>Rok=%{x}<br>Dochody=%{y}<extra></extra>",
         "hovertext": [
          "ŚLĄSKIE",
          "ŚLĄSKIE",
          "ŚLĄSKIE",
          "ŚLĄSKIE",
          "ŚLĄSKIE",
          "ŚLĄSKIE",
          "ŚLĄSKIE",
          "ŚLĄSKIE",
          "ŚLĄSKIE",
          "ŚLĄSKIE",
          "ŚLĄSKIE",
          "ŚLĄSKIE",
          "ŚLĄSKIE",
          "ŚLĄSKIE",
          "ŚLĄSKIE",
          "ŚLĄSKIE",
          "ŚLĄSKIE",
          "ŚLĄSKIE",
          "ŚLĄSKIE",
          "ŚLĄSKIE",
          "ŚLĄSKIE",
          "ŚLĄSKIE",
          "ŚLĄSKIE"
         ],
         "legendgroup": "ŚLĄSKIE",
         "line": {
          "color": "#19d3f3",
          "dash": "solid",
          "shape": "spline"
         },
         "marker": {
          "symbol": "circle"
         },
         "mode": "lines",
         "name": "ŚLĄSKIE",
         "orientation": "v",
         "showlegend": true,
         "x": [
          1998,
          1999,
          2000,
          2001,
          2002,
          2003,
          2004,
          2005,
          2006,
          2007,
          2008,
          2009,
          2010,
          2011,
          2012,
          2013,
          2014,
          2015,
          2016,
          2017,
          2018,
          2019,
          2020
         ],
         "xaxis": "x",
         "y": [
          null,
          59722.0,
          65741.0,
          68946.0,
          68923.0,
          72601.0,
          74829.0,
          79282.0,
          84792.0,
          91927.0,
          104108.0,
          111405.0,
          116842.0,
          121544.0,
          127887.0,
          131892.0,
          138168.0,
          142054.0,
          151323.0,
          164575.0,
          175703.0,
          189739.0,
          205036.0
         ],
         "yaxis": "y",
         "type": "scatter"
        },
        {
         "hovertemplate": "<b>%{hovertext}</b><br><br>Nazwa=ŚWIĘTOKRZYSKIE<br>Rok=%{x}<br>Dochody=%{y}<extra></extra>",
         "hovertext": [
          "ŚWIĘTOKRZYSKIE",
          "ŚWIĘTOKRZYSKIE",
          "ŚWIĘTOKRZYSKIE",
          "ŚWIĘTOKRZYSKIE",
          "ŚWIĘTOKRZYSKIE",
          "ŚWIĘTOKRZYSKIE",
          "ŚWIĘTOKRZYSKIE",
          "ŚWIĘTOKRZYSKIE",
          "ŚWIĘTOKRZYSKIE",
          "ŚWIĘTOKRZYSKIE",
          "ŚWIĘTOKRZYSKIE",
          "ŚWIĘTOKRZYSKIE",
          "ŚWIĘTOKRZYSKIE",
          "ŚWIĘTOKRZYSKIE",
          "ŚWIĘTOKRZYSKIE",
          "ŚWIĘTOKRZYSKIE",
          "ŚWIĘTOKRZYSKIE",
          "ŚWIĘTOKRZYSKIE",
          "ŚWIĘTOKRZYSKIE",
          "ŚWIĘTOKRZYSKIE",
          "ŚWIĘTOKRZYSKIE",
          "ŚWIĘTOKRZYSKIE",
          "ŚWIĘTOKRZYSKIE"
         ],
         "legendgroup": "ŚWIĘTOKRZYSKIE",
         "line": {
          "color": "#FF6692",
          "dash": "solid",
          "shape": "spline"
         },
         "marker": {
          "symbol": "circle"
         },
         "mode": "lines",
         "name": "ŚWIĘTOKRZYSKIE",
         "orientation": "v",
         "showlegend": true,
         "x": [
          1998,
          1999,
          2000,
          2001,
          2002,
          2003,
          2004,
          2005,
          2006,
          2007,
          2008,
          2009,
          2010,
          2011,
          2012,
          2013,
          2014,
          2015,
          2016,
          2017,
          2018,
          2019,
          2020
         ],
         "xaxis": "x",
         "y": [
          null,
          46764.0,
          51889.0,
          55706.0,
          57834.0,
          60424.0,
          61546.0,
          62101.0,
          69844.0,
          77557.0,
          87818.0,
          93789.0,
          102636.0,
          106278.0,
          111976.0,
          115336.0,
          119974.0,
          120280.0,
          130596.0,
          143268.0,
          154982.0,
          162646.0,
          172692.0
         ],
         "yaxis": "y",
         "type": "scatter"
        }
       ],
       "layout": {
        "template": {
         "data": {
          "bar": [
           {
            "error_x": {
             "color": "#2a3f5f"
            },
            "error_y": {
             "color": "#2a3f5f"
            },
            "marker": {
             "line": {
              "color": "#E5ECF6",
              "width": 0.5
             },
             "pattern": {
              "fillmode": "overlay",
              "size": 10,
              "solidity": 0.2
             }
            },
            "type": "bar"
           }
          ],
          "barpolar": [
           {
            "marker": {
             "line": {
              "color": "#E5ECF6",
              "width": 0.5
             },
             "pattern": {
              "fillmode": "overlay",
              "size": 10,
              "solidity": 0.2
             }
            },
            "type": "barpolar"
           }
          ],
          "carpet": [
           {
            "aaxis": {
             "endlinecolor": "#2a3f5f",
             "gridcolor": "white",
             "linecolor": "white",
             "minorgridcolor": "white",
             "startlinecolor": "#2a3f5f"
            },
            "baxis": {
             "endlinecolor": "#2a3f5f",
             "gridcolor": "white",
             "linecolor": "white",
             "minorgridcolor": "white",
             "startlinecolor": "#2a3f5f"
            },
            "type": "carpet"
           }
          ],
          "choropleth": [
           {
            "colorbar": {
             "outlinewidth": 0,
             "ticks": ""
            },
            "type": "choropleth"
           }
          ],
          "contour": [
           {
            "colorbar": {
             "outlinewidth": 0,
             "ticks": ""
            },
            "colorscale": [
             [
              0.0,
              "#0d0887"
             ],
             [
              0.1111111111111111,
              "#46039f"
             ],
             [
              0.2222222222222222,
              "#7201a8"
             ],
             [
              0.3333333333333333,
              "#9c179e"
             ],
             [
              0.4444444444444444,
              "#bd3786"
             ],
             [
              0.5555555555555556,
              "#d8576b"
             ],
             [
              0.6666666666666666,
              "#ed7953"
             ],
             [
              0.7777777777777778,
              "#fb9f3a"
             ],
             [
              0.8888888888888888,
              "#fdca26"
             ],
             [
              1.0,
              "#f0f921"
             ]
            ],
            "type": "contour"
           }
          ],
          "contourcarpet": [
           {
            "colorbar": {
             "outlinewidth": 0,
             "ticks": ""
            },
            "type": "contourcarpet"
           }
          ],
          "heatmap": [
           {
            "colorbar": {
             "outlinewidth": 0,
             "ticks": ""
            },
            "colorscale": [
             [
              0.0,
              "#0d0887"
             ],
             [
              0.1111111111111111,
              "#46039f"
             ],
             [
              0.2222222222222222,
              "#7201a8"
             ],
             [
              0.3333333333333333,
              "#9c179e"
             ],
             [
              0.4444444444444444,
              "#bd3786"
             ],
             [
              0.5555555555555556,
              "#d8576b"
             ],
             [
              0.6666666666666666,
              "#ed7953"
             ],
             [
              0.7777777777777778,
              "#fb9f3a"
             ],
             [
              0.8888888888888888,
              "#fdca26"
             ],
             [
              1.0,
              "#f0f921"
             ]
            ],
            "type": "heatmap"
           }
          ],
          "heatmapgl": [
           {
            "colorbar": {
             "outlinewidth": 0,
             "ticks": ""
            },
            "colorscale": [
             [
              0.0,
              "#0d0887"
             ],
             [
              0.1111111111111111,
              "#46039f"
             ],
             [
              0.2222222222222222,
              "#7201a8"
             ],
             [
              0.3333333333333333,
              "#9c179e"
             ],
             [
              0.4444444444444444,
              "#bd3786"
             ],
             [
              0.5555555555555556,
              "#d8576b"
             ],
             [
              0.6666666666666666,
              "#ed7953"
             ],
             [
              0.7777777777777778,
              "#fb9f3a"
             ],
             [
              0.8888888888888888,
              "#fdca26"
             ],
             [
              1.0,
              "#f0f921"
             ]
            ],
            "type": "heatmapgl"
           }
          ],
          "histogram": [
           {
            "marker": {
             "pattern": {
              "fillmode": "overlay",
              "size": 10,
              "solidity": 0.2
             }
            },
            "type": "histogram"
           }
          ],
          "histogram2d": [
           {
            "colorbar": {
             "outlinewidth": 0,
             "ticks": ""
            },
            "colorscale": [
             [
              0.0,
              "#0d0887"
             ],
             [
              0.1111111111111111,
              "#46039f"
             ],
             [
              0.2222222222222222,
              "#7201a8"
             ],
             [
              0.3333333333333333,
              "#9c179e"
             ],
             [
              0.4444444444444444,
              "#bd3786"
             ],
             [
              0.5555555555555556,
              "#d8576b"
             ],
             [
              0.6666666666666666,
              "#ed7953"
             ],
             [
              0.7777777777777778,
              "#fb9f3a"
             ],
             [
              0.8888888888888888,
              "#fdca26"
             ],
             [
              1.0,
              "#f0f921"
             ]
            ],
            "type": "histogram2d"
           }
          ],
          "histogram2dcontour": [
           {
            "colorbar": {
             "outlinewidth": 0,
             "ticks": ""
            },
            "colorscale": [
             [
              0.0,
              "#0d0887"
             ],
             [
              0.1111111111111111,
              "#46039f"
             ],
             [
              0.2222222222222222,
              "#7201a8"
             ],
             [
              0.3333333333333333,
              "#9c179e"
             ],
             [
              0.4444444444444444,
              "#bd3786"
             ],
             [
              0.5555555555555556,
              "#d8576b"
             ],
             [
              0.6666666666666666,
              "#ed7953"
             ],
             [
              0.7777777777777778,
              "#fb9f3a"
             ],
             [
              0.8888888888888888,
              "#fdca26"
             ],
             [
              1.0,
              "#f0f921"
             ]
            ],
            "type": "histogram2dcontour"
           }
          ],
          "mesh3d": [
           {
            "colorbar": {
             "outlinewidth": 0,
             "ticks": ""
            },
            "type": "mesh3d"
           }
          ],
          "parcoords": [
           {
            "line": {
             "colorbar": {
              "outlinewidth": 0,
              "ticks": ""
             }
            },
            "type": "parcoords"
           }
          ],
          "pie": [
           {
            "automargin": true,
            "type": "pie"
           }
          ],
          "scatter": [
           {
            "marker": {
             "colorbar": {
              "outlinewidth": 0,
              "ticks": ""
             }
            },
            "type": "scatter"
           }
          ],
          "scatter3d": [
           {
            "line": {
             "colorbar": {
              "outlinewidth": 0,
              "ticks": ""
             }
            },
            "marker": {
             "colorbar": {
              "outlinewidth": 0,
              "ticks": ""
             }
            },
            "type": "scatter3d"
           }
          ],
          "scattercarpet": [
           {
            "marker": {
             "colorbar": {
              "outlinewidth": 0,
              "ticks": ""
             }
            },
            "type": "scattercarpet"
           }
          ],
          "scattergeo": [
           {
            "marker": {
             "colorbar": {
              "outlinewidth": 0,
              "ticks": ""
             }
            },
            "type": "scattergeo"
           }
          ],
          "scattergl": [
           {
            "marker": {
             "colorbar": {
              "outlinewidth": 0,
              "ticks": ""
             }
            },
            "type": "scattergl"
           }
          ],
          "scattermapbox": [
           {
            "marker": {
             "colorbar": {
              "outlinewidth": 0,
              "ticks": ""
             }
            },
            "type": "scattermapbox"
           }
          ],
          "scatterpolar": [
           {
            "marker": {
             "colorbar": {
              "outlinewidth": 0,
              "ticks": ""
             }
            },
            "type": "scatterpolar"
           }
          ],
          "scatterpolargl": [
           {
            "marker": {
             "colorbar": {
              "outlinewidth": 0,
              "ticks": ""
             }
            },
            "type": "scatterpolargl"
           }
          ],
          "scatterternary": [
           {
            "marker": {
             "colorbar": {
              "outlinewidth": 0,
              "ticks": ""
             }
            },
            "type": "scatterternary"
           }
          ],
          "surface": [
           {
            "colorbar": {
             "outlinewidth": 0,
             "ticks": ""
            },
            "colorscale": [
             [
              0.0,
              "#0d0887"
             ],
             [
              0.1111111111111111,
              "#46039f"
             ],
             [
              0.2222222222222222,
              "#7201a8"
             ],
             [
              0.3333333333333333,
              "#9c179e"
             ],
             [
              0.4444444444444444,
              "#bd3786"
             ],
             [
              0.5555555555555556,
              "#d8576b"
             ],
             [
              0.6666666666666666,
              "#ed7953"
             ],
             [
              0.7777777777777778,
              "#fb9f3a"
             ],
             [
              0.8888888888888888,
              "#fdca26"
             ],
             [
              1.0,
              "#f0f921"
             ]
            ],
            "type": "surface"
           }
          ],
          "table": [
           {
            "cells": {
             "fill": {
              "color": "#EBF0F8"
             },
             "line": {
              "color": "white"
             }
            },
            "header": {
             "fill": {
              "color": "#C8D4E3"
             },
             "line": {
              "color": "white"
             }
            },
            "type": "table"
           }
          ]
         },
         "layout": {
          "annotationdefaults": {
           "arrowcolor": "#2a3f5f",
           "arrowhead": 0,
           "arrowwidth": 1
          },
          "autotypenumbers": "strict",
          "coloraxis": {
           "colorbar": {
            "outlinewidth": 0,
            "ticks": ""
           }
          },
          "colorscale": {
           "diverging": [
            [
             0,
             "#8e0152"
            ],
            [
             0.1,
             "#c51b7d"
            ],
            [
             0.2,
             "#de77ae"
            ],
            [
             0.3,
             "#f1b6da"
            ],
            [
             0.4,
             "#fde0ef"
            ],
            [
             0.5,
             "#f7f7f7"
            ],
            [
             0.6,
             "#e6f5d0"
            ],
            [
             0.7,
             "#b8e186"
            ],
            [
             0.8,
             "#7fbc41"
            ],
            [
             0.9,
             "#4d9221"
            ],
            [
             1,
             "#276419"
            ]
           ],
           "sequential": [
            [
             0.0,
             "#0d0887"
            ],
            [
             0.1111111111111111,
             "#46039f"
            ],
            [
             0.2222222222222222,
             "#7201a8"
            ],
            [
             0.3333333333333333,
             "#9c179e"
            ],
            [
             0.4444444444444444,
             "#bd3786"
            ],
            [
             0.5555555555555556,
             "#d8576b"
            ],
            [
             0.6666666666666666,
             "#ed7953"
            ],
            [
             0.7777777777777778,
             "#fb9f3a"
            ],
            [
             0.8888888888888888,
             "#fdca26"
            ],
            [
             1.0,
             "#f0f921"
            ]
           ],
           "sequentialminus": [
            [
             0.0,
             "#0d0887"
            ],
            [
             0.1111111111111111,
             "#46039f"
            ],
            [
             0.2222222222222222,
             "#7201a8"
            ],
            [
             0.3333333333333333,
             "#9c179e"
            ],
            [
             0.4444444444444444,
             "#bd3786"
            ],
            [
             0.5555555555555556,
             "#d8576b"
            ],
            [
             0.6666666666666666,
             "#ed7953"
            ],
            [
             0.7777777777777778,
             "#fb9f3a"
            ],
            [
             0.8888888888888888,
             "#fdca26"
            ],
            [
             1.0,
             "#f0f921"
            ]
           ]
          },
          "colorway": [
           "#636efa",
           "#EF553B",
           "#00cc96",
           "#ab63fa",
           "#FFA15A",
           "#19d3f3",
           "#FF6692",
           "#B6E880",
           "#FF97FF",
           "#FECB52"
          ],
          "font": {
           "color": "#2a3f5f"
          },
          "geo": {
           "bgcolor": "white",
           "lakecolor": "white",
           "landcolor": "#E5ECF6",
           "showlakes": true,
           "showland": true,
           "subunitcolor": "white"
          },
          "hoverlabel": {
           "align": "left"
          },
          "hovermode": "closest",
          "mapbox": {
           "style": "light"
          },
          "paper_bgcolor": "white",
          "plot_bgcolor": "#E5ECF6",
          "polar": {
           "angularaxis": {
            "gridcolor": "white",
            "linecolor": "white",
            "ticks": ""
           },
           "bgcolor": "#E5ECF6",
           "radialaxis": {
            "gridcolor": "white",
            "linecolor": "white",
            "ticks": ""
           }
          },
          "scene": {
           "xaxis": {
            "backgroundcolor": "#E5ECF6",
            "gridcolor": "white",
            "gridwidth": 2,
            "linecolor": "white",
            "showbackground": true,
            "ticks": "",
            "zerolinecolor": "white"
           },
           "yaxis": {
            "backgroundcolor": "#E5ECF6",
            "gridcolor": "white",
            "gridwidth": 2,
            "linecolor": "white",
            "showbackground": true,
            "ticks": "",
            "zerolinecolor": "white"
           },
           "zaxis": {
            "backgroundcolor": "#E5ECF6",
            "gridcolor": "white",
            "gridwidth": 2,
            "linecolor": "white",
            "showbackground": true,
            "ticks": "",
            "zerolinecolor": "white"
           }
          },
          "shapedefaults": {
           "line": {
            "color": "#2a3f5f"
           }
          },
          "ternary": {
           "aaxis": {
            "gridcolor": "white",
            "linecolor": "white",
            "ticks": ""
           },
           "baxis": {
            "gridcolor": "white",
            "linecolor": "white",
            "ticks": ""
           },
           "bgcolor": "#E5ECF6",
           "caxis": {
            "gridcolor": "white",
            "linecolor": "white",
            "ticks": ""
           }
          },
          "title": {
           "x": 0.05
          },
          "xaxis": {
           "automargin": true,
           "gridcolor": "white",
           "linecolor": "white",
           "ticks": "",
           "title": {
            "standoff": 15
           },
           "zerolinecolor": "white",
           "zerolinewidth": 2
          },
          "yaxis": {
           "automargin": true,
           "gridcolor": "white",
           "linecolor": "white",
           "ticks": "",
           "title": {
            "standoff": 15
           },
           "zerolinecolor": "white",
           "zerolinewidth": 2
          }
         }
        },
        "xaxis": {
         "anchor": "y",
         "domain": [
          0.0,
          1.0
         ],
         "title": {
          "text": "Rok"
         }
        },
        "yaxis": {
         "anchor": "x",
         "domain": [
          0.0,
          1.0
         ],
         "title": {
          "text": "Dochody"
         }
        },
        "legend": {
         "title": {
          "text": "Nazwa"
         },
         "tracegroupgap": 0
        },
        "margin": {
         "t": 60
        }
       },
       "config": {
        "plotlyServerURL": "https://plot.ly"
       }
      },
      "text/html": "<div>                            <div id=\"f2a58ede-8ca7-466e-a2f0-97754a769adb\" class=\"plotly-graph-div\" style=\"height:525px; width:100%;\"></div>            <script type=\"text/javascript\">                require([\"plotly\"], function(Plotly) {                    window.PLOTLYENV=window.PLOTLYENV || {};                                    if (document.getElementById(\"f2a58ede-8ca7-466e-a2f0-97754a769adb\")) {                    Plotly.newPlot(                        \"f2a58ede-8ca7-466e-a2f0-97754a769adb\",                        [{\"hovertemplate\":\"<b>%{hovertext}</b><br><br>Nazwa=DOLNO\\u015aL\\u0104SKIE<br>Rok=%{x}<br>Dochody=%{y}<extra></extra>\",\"hovertext\":[\"DOLNO\\u015aL\\u0104SKIE\",\"DOLNO\\u015aL\\u0104SKIE\",\"DOLNO\\u015aL\\u0104SKIE\",\"DOLNO\\u015aL\\u0104SKIE\",\"DOLNO\\u015aL\\u0104SKIE\",\"DOLNO\\u015aL\\u0104SKIE\",\"DOLNO\\u015aL\\u0104SKIE\",\"DOLNO\\u015aL\\u0104SKIE\",\"DOLNO\\u015aL\\u0104SKIE\",\"DOLNO\\u015aL\\u0104SKIE\",\"DOLNO\\u015aL\\u0104SKIE\",\"DOLNO\\u015aL\\u0104SKIE\",\"DOLNO\\u015aL\\u0104SKIE\",\"DOLNO\\u015aL\\u0104SKIE\",\"DOLNO\\u015aL\\u0104SKIE\",\"DOLNO\\u015aL\\u0104SKIE\",\"DOLNO\\u015aL\\u0104SKIE\",\"DOLNO\\u015aL\\u0104SKIE\",\"DOLNO\\u015aL\\u0104SKIE\",\"DOLNO\\u015aL\\u0104SKIE\",\"DOLNO\\u015aL\\u0104SKIE\",\"DOLNO\\u015aL\\u0104SKIE\",\"DOLNO\\u015aL\\u0104SKIE\"],\"legendgroup\":\"DOLNO\\u015aL\\u0104SKIE\",\"line\":{\"color\":\"#636efa\",\"dash\":\"solid\",\"shape\":\"spline\"},\"marker\":{\"symbol\":\"circle\"},\"mode\":\"lines\",\"name\":\"DOLNO\\u015aL\\u0104SKIE\",\"orientation\":\"v\",\"showlegend\":true,\"x\":[1998,1999,2000,2001,2002,2003,2004,2005,2006,2007,2008,2009,2010,2011,2012,2013,2014,2015,2016,2017,2018,2019,2020],\"xaxis\":\"x\",\"y\":[null,58091.0,60526.0,65181.0,69084.0,72746.0,74886.0,77794.0,85298.0,95096.0,111857.0,117426.0,123917.0,128293.0,136700.0,134479.0,136633.0,147184.0,158603.0,162618.0,175550.0,195520.0,203124.0],\"yaxis\":\"y\",\"type\":\"scatter\"},{\"hovertemplate\":\"<b>%{hovertext}</b><br><br>Nazwa=KUJAWSKO-POMORSKIE<br>Rok=%{x}<br>Dochody=%{y}<extra></extra>\",\"hovertext\":[\"KUJAWSKO-POMORSKIE\",\"KUJAWSKO-POMORSKIE\",\"KUJAWSKO-POMORSKIE\",\"KUJAWSKO-POMORSKIE\",\"KUJAWSKO-POMORSKIE\",\"KUJAWSKO-POMORSKIE\",\"KUJAWSKO-POMORSKIE\",\"KUJAWSKO-POMORSKIE\",\"KUJAWSKO-POMORSKIE\",\"KUJAWSKO-POMORSKIE\",\"KUJAWSKO-POMORSKIE\",\"KUJAWSKO-POMORSKIE\",\"KUJAWSKO-POMORSKIE\",\"KUJAWSKO-POMORSKIE\",\"KUJAWSKO-POMORSKIE\",\"KUJAWSKO-POMORSKIE\",\"KUJAWSKO-POMORSKIE\",\"KUJAWSKO-POMORSKIE\",\"KUJAWSKO-POMORSKIE\",\"KUJAWSKO-POMORSKIE\",\"KUJAWSKO-POMORSKIE\",\"KUJAWSKO-POMORSKIE\",\"KUJAWSKO-POMORSKIE\"],\"legendgroup\":\"KUJAWSKO-POMORSKIE\",\"line\":{\"color\":\"#EF553B\",\"dash\":\"solid\",\"shape\":\"spline\"},\"marker\":{\"symbol\":\"circle\"},\"mode\":\"lines\",\"name\":\"KUJAWSKO-POMORSKIE\",\"orientation\":\"v\",\"showlegend\":true,\"x\":[1998,1999,2000,2001,2002,2003,2004,2005,2006,2007,2008,2009,2010,2011,2012,2013,2014,2015,2016,2017,2018,2019,2020],\"xaxis\":\"x\",\"y\":[null,51288.0,57255.0,60850.0,65324.0,64086.0,65284.0,66402.0,77108.0,89788.0,94994.0,101499.0,115849.0,110894.0,113397.0,116940.0,120154.0,124569.0,130863.0,145655.0,161133.0,177082.0,184534.0],\"yaxis\":\"y\",\"type\":\"scatter\"},{\"hovertemplate\":\"<b>%{hovertext}</b><br><br>Nazwa=LUBELSKIE<br>Rok=%{x}<br>Dochody=%{y}<extra></extra>\",\"hovertext\":[\"LUBELSKIE\",\"LUBELSKIE\",\"LUBELSKIE\",\"LUBELSKIE\",\"LUBELSKIE\",\"LUBELSKIE\",\"LUBELSKIE\",\"LUBELSKIE\",\"LUBELSKIE\",\"LUBELSKIE\",\"LUBELSKIE\",\"LUBELSKIE\",\"LUBELSKIE\",\"LUBELSKIE\",\"LUBELSKIE\",\"LUBELSKIE\",\"LUBELSKIE\",\"LUBELSKIE\",\"LUBELSKIE\",\"LUBELSKIE\",\"LUBELSKIE\",\"LUBELSKIE\",\"LUBELSKIE\"],\"legendgroup\":\"LUBELSKIE\",\"line\":{\"color\":\"#00cc96\",\"dash\":\"solid\",\"shape\":\"spline\"},\"marker\":{\"symbol\":\"circle\"},\"mode\":\"lines\",\"name\":\"LUBELSKIE\",\"orientation\":\"v\",\"showlegend\":true,\"x\":[1998,1999,2000,2001,2002,2003,2004,2005,2006,2007,2008,2009,2010,2011,2012,2013,2014,2015,2016,2017,2018,2019,2020],\"xaxis\":\"x\",\"y\":[null,49104.0,50173.0,55303.0,58122.0,64802.0,67670.0,67237.0,72510.0,79161.0,88062.0,90899.0,97849.0,102580.0,105645.0,110558.0,120835.0,122674.0,129914.0,143658.0,152769.0,155676.0,167902.0],\"yaxis\":\"y\",\"type\":\"scatter\"},{\"hovertemplate\":\"<b>%{hovertext}</b><br><br>Nazwa=LUBUSKIE<br>Rok=%{x}<br>Dochody=%{y}<extra></extra>\",\"hovertext\":[\"LUBUSKIE\",\"LUBUSKIE\",\"LUBUSKIE\",\"LUBUSKIE\",\"LUBUSKIE\",\"LUBUSKIE\",\"LUBUSKIE\",\"LUBUSKIE\",\"LUBUSKIE\",\"LUBUSKIE\",\"LUBUSKIE\",\"LUBUSKIE\",\"LUBUSKIE\",\"LUBUSKIE\",\"LUBUSKIE\",\"LUBUSKIE\",\"LUBUSKIE\",\"LUBUSKIE\",\"LUBUSKIE\",\"LUBUSKIE\",\"LUBUSKIE\",\"LUBUSKIE\",\"LUBUSKIE\"],\"legendgroup\":\"LUBUSKIE\",\"line\":{\"color\":\"#ab63fa\",\"dash\":\"solid\",\"shape\":\"spline\"},\"marker\":{\"symbol\":\"circle\"},\"mode\":\"lines\",\"name\":\"LUBUSKIE\",\"orientation\":\"v\",\"showlegend\":true,\"x\":[1998,1999,2000,2001,2002,2003,2004,2005,2006,2007,2008,2009,2010,2011,2012,2013,2014,2015,2016,2017,2018,2019,2020],\"xaxis\":\"x\",\"y\":[null,54926.0,60966.0,63466.0,64926.0,67875.0,65437.0,69125.0,84229.0,91430.0,105886.0,110332.0,115306.0,118989.0,123116.0,123806.0,128537.0,141958.0,149852.0,159121.0,166489.0,179412.0,197147.0],\"yaxis\":\"y\",\"type\":\"scatter\"},{\"hovertemplate\":\"<b>%{hovertext}</b><br><br>Nazwa=MAZOWIECKIE<br>Rok=%{x}<br>Dochody=%{y}<extra></extra>\",\"hovertext\":[\"MAZOWIECKIE\",\"MAZOWIECKIE\",\"MAZOWIECKIE\",\"MAZOWIECKIE\",\"MAZOWIECKIE\",\"MAZOWIECKIE\",\"MAZOWIECKIE\",\"MAZOWIECKIE\",\"MAZOWIECKIE\",\"MAZOWIECKIE\",\"MAZOWIECKIE\",\"MAZOWIECKIE\",\"MAZOWIECKIE\",\"MAZOWIECKIE\",\"MAZOWIECKIE\",\"MAZOWIECKIE\",\"MAZOWIECKIE\",\"MAZOWIECKIE\",\"MAZOWIECKIE\",\"MAZOWIECKIE\",\"MAZOWIECKIE\",\"MAZOWIECKIE\",\"MAZOWIECKIE\"],\"legendgroup\":\"MAZOWIECKIE\",\"line\":{\"color\":\"#FFA15A\",\"dash\":\"solid\",\"shape\":\"spline\"},\"marker\":{\"symbol\":\"circle\"},\"mode\":\"lines\",\"name\":\"MAZOWIECKIE\",\"orientation\":\"v\",\"showlegend\":true,\"x\":[1998,1999,2000,2001,2002,2003,2004,2005,2006,2007,2008,2009,2010,2011,2012,2013,2014,2015,2016,2017,2018,2019,2020],\"xaxis\":\"x\",\"y\":[null,68005.0,75026.0,77144.0,79548.0,89878.0,94018.0,93797.0,104880.0,120715.0,133646.0,143873.0,160197.0,162296.0,171001.0,169042.0,170362.0,175615.0,178088.0,191209.0,203159.0,210801.0,224052.0],\"yaxis\":\"y\",\"type\":\"scatter\"},{\"hovertemplate\":\"<b>%{hovertext}</b><br><br>Nazwa=MA\\u0141OPOLSKIE<br>Rok=%{x}<br>Dochody=%{y}<extra></extra>\",\"hovertext\":[\"MA\\u0141OPOLSKIE\",\"MA\\u0141OPOLSKIE\",\"MA\\u0141OPOLSKIE\",\"MA\\u0141OPOLSKIE\",\"MA\\u0141OPOLSKIE\",\"MA\\u0141OPOLSKIE\",\"MA\\u0141OPOLSKIE\",\"MA\\u0141OPOLSKIE\",\"MA\\u0141OPOLSKIE\",\"MA\\u0141OPOLSKIE\",\"MA\\u0141OPOLSKIE\",\"MA\\u0141OPOLSKIE\",\"MA\\u0141OPOLSKIE\",\"MA\\u0141OPOLSKIE\",\"MA\\u0141OPOLSKIE\",\"MA\\u0141OPOLSKIE\",\"MA\\u0141OPOLSKIE\",\"MA\\u0141OPOLSKIE\",\"MA\\u0141OPOLSKIE\",\"MA\\u0141OPOLSKIE\",\"MA\\u0141OPOLSKIE\",\"MA\\u0141OPOLSKIE\",\"MA\\u0141OPOLSKIE\"],\"legendgroup\":\"MA\\u0141OPOLSKIE\",\"line\":{\"color\":\"#19d3f3\",\"dash\":\"solid\",\"shape\":\"spline\"},\"marker\":{\"symbol\":\"circle\"},\"mode\":\"lines\",\"name\":\"MA\\u0141OPOLSKIE\",\"orientation\":\"v\",\"showlegend\":true,\"x\":[1998,1999,2000,2001,2002,2003,2004,2005,2006,2007,2008,2009,2010,2011,2012,2013,2014,2015,2016,2017,2018,2019,2020],\"xaxis\":\"x\",\"y\":[null,55965.0,58360.0,63048.0,63165.0,67184.0,71761.0,73227.0,76510.0,86437.0,100074.0,104173.0,110754.0,115679.0,118984.0,122780.0,126058.0,130545.0,142346.0,149191.0,162785.0,177308.0,191474.0],\"yaxis\":\"y\",\"type\":\"scatter\"},{\"hovertemplate\":\"<b>%{hovertext}</b><br><br>Nazwa=OPOLSKIE<br>Rok=%{x}<br>Dochody=%{y}<extra></extra>\",\"hovertext\":[\"OPOLSKIE\",\"OPOLSKIE\",\"OPOLSKIE\",\"OPOLSKIE\",\"OPOLSKIE\",\"OPOLSKIE\",\"OPOLSKIE\",\"OPOLSKIE\",\"OPOLSKIE\",\"OPOLSKIE\",\"OPOLSKIE\",\"OPOLSKIE\",\"OPOLSKIE\",\"OPOLSKIE\",\"OPOLSKIE\",\"OPOLSKIE\",\"OPOLSKIE\",\"OPOLSKIE\",\"OPOLSKIE\",\"OPOLSKIE\",\"OPOLSKIE\",\"OPOLSKIE\",\"OPOLSKIE\"],\"legendgroup\":\"OPOLSKIE\",\"line\":{\"color\":\"#FF6692\",\"dash\":\"solid\",\"shape\":\"spline\"},\"marker\":{\"symbol\":\"circle\"},\"mode\":\"lines\",\"name\":\"OPOLSKIE\",\"orientation\":\"v\",\"showlegend\":true,\"x\":[1998,1999,2000,2001,2002,2003,2004,2005,2006,2007,2008,2009,2010,2011,2012,2013,2014,2015,2016,2017,2018,2019,2020],\"xaxis\":\"x\",\"y\":[null,50719.0,61368.0,63018.0,64219.0,69223.0,74464.0,79630.0,79490.0,91570.0,108008.0,108227.0,111573.0,118190.0,129426.0,119879.0,124469.0,128874.0,138992.0,151073.0,158930.0,168729.0,171134.0],\"yaxis\":\"y\",\"type\":\"scatter\"},{\"hovertemplate\":\"<b>%{hovertext}</b><br><br>Nazwa=PODKARPACKIE<br>Rok=%{x}<br>Dochody=%{y}<extra></extra>\",\"hovertext\":[\"PODKARPACKIE\",\"PODKARPACKIE\",\"PODKARPACKIE\",\"PODKARPACKIE\",\"PODKARPACKIE\",\"PODKARPACKIE\",\"PODKARPACKIE\",\"PODKARPACKIE\",\"PODKARPACKIE\",\"PODKARPACKIE\",\"PODKARPACKIE\",\"PODKARPACKIE\",\"PODKARPACKIE\",\"PODKARPACKIE\",\"PODKARPACKIE\",\"PODKARPACKIE\",\"PODKARPACKIE\",\"PODKARPACKIE\",\"PODKARPACKIE\",\"PODKARPACKIE\",\"PODKARPACKIE\",\"PODKARPACKIE\",\"PODKARPACKIE\"],\"legendgroup\":\"PODKARPACKIE\",\"line\":{\"color\":\"#B6E880\",\"dash\":\"solid\",\"shape\":\"spline\"},\"marker\":{\"symbol\":\"circle\"},\"mode\":\"lines\",\"name\":\"PODKARPACKIE\",\"orientation\":\"v\",\"showlegend\":true,\"x\":[1998,1999,2000,2001,2002,2003,2004,2005,2006,2007,2008,2009,2010,2011,2012,2013,2014,2015,2016,2017,2018,2019,2020],\"xaxis\":\"x\",\"y\":[null,47684.0,49722.0,52749.0,53846.0,58212.0,58543.0,61902.0,64676.0,70067.0,79127.0,83459.0,90728.0,93785.0,95912.0,99769.0,105302.0,108164.0,113410.0,125430.0,134726.0,147149.0,158857.0],\"yaxis\":\"y\",\"type\":\"scatter\"},{\"hovertemplate\":\"<b>%{hovertext}</b><br><br>Nazwa=PODLASKIE<br>Rok=%{x}<br>Dochody=%{y}<extra></extra>\",\"hovertext\":[\"PODLASKIE\",\"PODLASKIE\",\"PODLASKIE\",\"PODLASKIE\",\"PODLASKIE\",\"PODLASKIE\",\"PODLASKIE\",\"PODLASKIE\",\"PODLASKIE\",\"PODLASKIE\",\"PODLASKIE\",\"PODLASKIE\",\"PODLASKIE\",\"PODLASKIE\",\"PODLASKIE\",\"PODLASKIE\",\"PODLASKIE\",\"PODLASKIE\",\"PODLASKIE\",\"PODLASKIE\",\"PODLASKIE\",\"PODLASKIE\",\"PODLASKIE\"],\"legendgroup\":\"PODLASKIE\",\"line\":{\"color\":\"#FF97FF\",\"dash\":\"solid\",\"shape\":\"spline\"},\"marker\":{\"symbol\":\"circle\"},\"mode\":\"lines\",\"name\":\"PODLASKIE\",\"orientation\":\"v\",\"showlegend\":true,\"x\":[1998,1999,2000,2001,2002,2003,2004,2005,2006,2007,2008,2009,2010,2011,2012,2013,2014,2015,2016,2017,2018,2019,2020],\"xaxis\":\"x\",\"y\":[null,47916.0,52493.0,58269.0,62220.0,60796.0,64488.0,72468.0,81610.0,88399.0,93548.0,101877.0,110320.0,122492.0,124239.0,125818.0,125862.0,125793.0,141983.0,158557.0,159676.0,174170.0,194831.0],\"yaxis\":\"y\",\"type\":\"scatter\"},{\"hovertemplate\":\"<b>%{hovertext}</b><br><br>Nazwa=POLSKA<br>Rok=%{x}<br>Dochody=%{y}<extra></extra>\",\"hovertext\":[\"POLSKA\",\"POLSKA\",\"POLSKA\",\"POLSKA\",\"POLSKA\",\"POLSKA\",\"POLSKA\",\"POLSKA\",\"POLSKA\",\"POLSKA\",\"POLSKA\",\"POLSKA\",\"POLSKA\",\"POLSKA\",\"POLSKA\",\"POLSKA\",\"POLSKA\",\"POLSKA\",\"POLSKA\",\"POLSKA\",\"POLSKA\",\"POLSKA\",\"POLSKA\"],\"legendgroup\":\"POLSKA\",\"line\":{\"color\":\"#FECB52\",\"dash\":\"solid\",\"shape\":\"spline\"},\"marker\":{\"symbol\":\"circle\"},\"mode\":\"lines\",\"name\":\"POLSKA\",\"orientation\":\"v\",\"showlegend\":true,\"x\":[1998,1999,2000,2001,2002,2003,2004,2005,2006,2007,2008,2009,2010,2011,2012,2013,2014,2015,2016,2017,2018,2019,2020],\"xaxis\":\"x\",\"y\":[null,56043.0,61051.0,64448.0,66421.0,71196.0,73540.0,76146.0,83468.0,92887.0,104552.0,111449.0,119282.0,122695.0,127843.0,129907.0,134044.0,138616.0,147456.0,159813.0,169346.0,181914.0,191921.0],\"yaxis\":\"y\",\"type\":\"scatter\"},{\"hovertemplate\":\"<b>%{hovertext}</b><br><br>Nazwa=POMORSKIE<br>Rok=%{x}<br>Dochody=%{y}<extra></extra>\",\"hovertext\":[\"POMORSKIE\",\"POMORSKIE\",\"POMORSKIE\",\"POMORSKIE\",\"POMORSKIE\",\"POMORSKIE\",\"POMORSKIE\",\"POMORSKIE\",\"POMORSKIE\",\"POMORSKIE\",\"POMORSKIE\",\"POMORSKIE\",\"POMORSKIE\",\"POMORSKIE\",\"POMORSKIE\",\"POMORSKIE\",\"POMORSKIE\",\"POMORSKIE\",\"POMORSKIE\",\"POMORSKIE\",\"POMORSKIE\",\"POMORSKIE\",\"POMORSKIE\"],\"legendgroup\":\"POMORSKIE\",\"line\":{\"color\":\"#636efa\",\"dash\":\"solid\",\"shape\":\"spline\"},\"marker\":{\"symbol\":\"circle\"},\"mode\":\"lines\",\"name\":\"POMORSKIE\",\"orientation\":\"v\",\"showlegend\":true,\"x\":[1998,1999,2000,2001,2002,2003,2004,2005,2006,2007,2008,2009,2010,2011,2012,2013,2014,2015,2016,2017,2018,2019,2020],\"xaxis\":\"x\",\"y\":[null,56753.0,63149.0,68307.0,74344.0,76952.0,75332.0,80108.0,91051.0,103016.0,110219.0,116450.0,124312.0,128694.0,135056.0,143364.0,137634.0,138092.0,156035.0,164904.0,173754.0,185998.0,179912.0],\"yaxis\":\"y\",\"type\":\"scatter\"},{\"hovertemplate\":\"<b>%{hovertext}</b><br><br>Nazwa=WARMI\\u0143SKO-MAZURSKIE<br>Rok=%{x}<br>Dochody=%{y}<extra></extra>\",\"hovertext\":[\"WARMI\\u0143SKO-MAZURSKIE\",\"WARMI\\u0143SKO-MAZURSKIE\",\"WARMI\\u0143SKO-MAZURSKIE\",\"WARMI\\u0143SKO-MAZURSKIE\",\"WARMI\\u0143SKO-MAZURSKIE\",\"WARMI\\u0143SKO-MAZURSKIE\",\"WARMI\\u0143SKO-MAZURSKIE\",\"WARMI\\u0143SKO-MAZURSKIE\",\"WARMI\\u0143SKO-MAZURSKIE\",\"WARMI\\u0143SKO-MAZURSKIE\",\"WARMI\\u0143SKO-MAZURSKIE\",\"WARMI\\u0143SKO-MAZURSKIE\",\"WARMI\\u0143SKO-MAZURSKIE\",\"WARMI\\u0143SKO-MAZURSKIE\",\"WARMI\\u0143SKO-MAZURSKIE\",\"WARMI\\u0143SKO-MAZURSKIE\",\"WARMI\\u0143SKO-MAZURSKIE\",\"WARMI\\u0143SKO-MAZURSKIE\",\"WARMI\\u0143SKO-MAZURSKIE\",\"WARMI\\u0143SKO-MAZURSKIE\",\"WARMI\\u0143SKO-MAZURSKIE\",\"WARMI\\u0143SKO-MAZURSKIE\",\"WARMI\\u0143SKO-MAZURSKIE\"],\"legendgroup\":\"WARMI\\u0143SKO-MAZURSKIE\",\"line\":{\"color\":\"#EF553B\",\"dash\":\"solid\",\"shape\":\"spline\"},\"marker\":{\"symbol\":\"circle\"},\"mode\":\"lines\",\"name\":\"WARMI\\u0143SKO-MAZURSKIE\",\"orientation\":\"v\",\"showlegend\":true,\"x\":[1998,1999,2000,2001,2002,2003,2004,2005,2006,2007,2008,2009,2010,2011,2012,2013,2014,2015,2016,2017,2018,2019,2020],\"xaxis\":\"x\",\"y\":[null,46593.0,54649.0,57941.0,59192.0,64014.0,65768.0,70126.0,74649.0,83535.0,97906.0,108428.0,110339.0,109687.0,110995.0,110897.0,122974.0,128051.0,137179.0,149615.0,155481.0,159718.0,188405.0],\"yaxis\":\"y\",\"type\":\"scatter\"},{\"hovertemplate\":\"<b>%{hovertext}</b><br><br>Nazwa=WIELKOPOLSKIE<br>Rok=%{x}<br>Dochody=%{y}<extra></extra>\",\"hovertext\":[\"WIELKOPOLSKIE\",\"WIELKOPOLSKIE\",\"WIELKOPOLSKIE\",\"WIELKOPOLSKIE\",\"WIELKOPOLSKIE\",\"WIELKOPOLSKIE\",\"WIELKOPOLSKIE\",\"WIELKOPOLSKIE\",\"WIELKOPOLSKIE\",\"WIELKOPOLSKIE\",\"WIELKOPOLSKIE\",\"WIELKOPOLSKIE\",\"WIELKOPOLSKIE\",\"WIELKOPOLSKIE\",\"WIELKOPOLSKIE\",\"WIELKOPOLSKIE\",\"WIELKOPOLSKIE\",\"WIELKOPOLSKIE\",\"WIELKOPOLSKIE\",\"WIELKOPOLSKIE\",\"WIELKOPOLSKIE\",\"WIELKOPOLSKIE\",\"WIELKOPOLSKIE\"],\"legendgroup\":\"WIELKOPOLSKIE\",\"line\":{\"color\":\"#00cc96\",\"dash\":\"solid\",\"shape\":\"spline\"},\"marker\":{\"symbol\":\"circle\"},\"mode\":\"lines\",\"name\":\"WIELKOPOLSKIE\",\"orientation\":\"v\",\"showlegend\":true,\"x\":[1998,1999,2000,2001,2002,2003,2004,2005,2006,2007,2008,2009,2010,2011,2012,2013,2014,2015,2016,2017,2018,2019,2020],\"xaxis\":\"x\",\"y\":[null,55923.0,60491.0,63724.0,63916.0,69053.0,70085.0,73861.0,81416.0,88952.0,101851.0,109733.0,112574.0,113502.0,115343.0,120672.0,126878.0,128779.0,139999.0,160664.0,162998.0,180698.0,178913.0],\"yaxis\":\"y\",\"type\":\"scatter\"},{\"hovertemplate\":\"<b>%{hovertext}</b><br><br>Nazwa=ZACHODNIOPOMORSKIE<br>Rok=%{x}<br>Dochody=%{y}<extra></extra>\",\"hovertext\":[\"ZACHODNIOPOMORSKIE\",\"ZACHODNIOPOMORSKIE\",\"ZACHODNIOPOMORSKIE\",\"ZACHODNIOPOMORSKIE\",\"ZACHODNIOPOMORSKIE\",\"ZACHODNIOPOMORSKIE\",\"ZACHODNIOPOMORSKIE\",\"ZACHODNIOPOMORSKIE\",\"ZACHODNIOPOMORSKIE\",\"ZACHODNIOPOMORSKIE\",\"ZACHODNIOPOMORSKIE\",\"ZACHODNIOPOMORSKIE\",\"ZACHODNIOPOMORSKIE\",\"ZACHODNIOPOMORSKIE\",\"ZACHODNIOPOMORSKIE\",\"ZACHODNIOPOMORSKIE\",\"ZACHODNIOPOMORSKIE\",\"ZACHODNIOPOMORSKIE\",\"ZACHODNIOPOMORSKIE\",\"ZACHODNIOPOMORSKIE\",\"ZACHODNIOPOMORSKIE\",\"ZACHODNIOPOMORSKIE\",\"ZACHODNIOPOMORSKIE\"],\"legendgroup\":\"ZACHODNIOPOMORSKIE\",\"line\":{\"color\":\"#ab63fa\",\"dash\":\"solid\",\"shape\":\"spline\"},\"marker\":{\"symbol\":\"circle\"},\"mode\":\"lines\",\"name\":\"ZACHODNIOPOMORSKIE\",\"orientation\":\"v\",\"showlegend\":true,\"x\":[1998,1999,2000,2001,2002,2003,2004,2005,2006,2007,2008,2009,2010,2011,2012,2013,2014,2015,2016,2017,2018,2019,2020],\"xaxis\":\"x\",\"y\":[null,59118.0,60337.0,64334.0,65519.0,70515.0,76204.0,76254.0,83475.0,90357.0,104891.0,113967.0,118691.0,123110.0,126356.0,125590.0,136540.0,142685.0,148290.0,165260.0,172223.0,180111.0,186209.0],\"yaxis\":\"y\",\"type\":\"scatter\"},{\"hovertemplate\":\"<b>%{hovertext}</b><br><br>Nazwa=\\u0141\\u00d3DZKIE<br>Rok=%{x}<br>Dochody=%{y}<extra></extra>\",\"hovertext\":[\"\\u0141\\u00d3DZKIE\",\"\\u0141\\u00d3DZKIE\",\"\\u0141\\u00d3DZKIE\",\"\\u0141\\u00d3DZKIE\",\"\\u0141\\u00d3DZKIE\",\"\\u0141\\u00d3DZKIE\",\"\\u0141\\u00d3DZKIE\",\"\\u0141\\u00d3DZKIE\",\"\\u0141\\u00d3DZKIE\",\"\\u0141\\u00d3DZKIE\",\"\\u0141\\u00d3DZKIE\",\"\\u0141\\u00d3DZKIE\",\"\\u0141\\u00d3DZKIE\",\"\\u0141\\u00d3DZKIE\",\"\\u0141\\u00d3DZKIE\",\"\\u0141\\u00d3DZKIE\",\"\\u0141\\u00d3DZKIE\",\"\\u0141\\u00d3DZKIE\",\"\\u0141\\u00d3DZKIE\",\"\\u0141\\u00d3DZKIE\",\"\\u0141\\u00d3DZKIE\",\"\\u0141\\u00d3DZKIE\",\"\\u0141\\u00d3DZKIE\"],\"legendgroup\":\"\\u0141\\u00d3DZKIE\",\"line\":{\"color\":\"#FFA15A\",\"dash\":\"solid\",\"shape\":\"spline\"},\"marker\":{\"symbol\":\"circle\"},\"mode\":\"lines\",\"name\":\"\\u0141\\u00d3DZKIE\",\"orientation\":\"v\",\"showlegend\":true,\"x\":[1998,1999,2000,2001,2002,2003,2004,2005,2006,2007,2008,2009,2010,2011,2012,2013,2014,2015,2016,2017,2018,2019,2020],\"xaxis\":\"x\",\"y\":[null,57462.0,63209.0,64507.0,66051.0,71395.0,73053.0,76897.0,83690.0,91099.0,101336.0,111510.0,117873.0,120319.0,126842.0,129647.0,129336.0,136203.0,145823.0,156602.0,162050.0,180965.0,187183.0],\"yaxis\":\"y\",\"type\":\"scatter\"},{\"hovertemplate\":\"<b>%{hovertext}</b><br><br>Nazwa=\\u015aL\\u0104SKIE<br>Rok=%{x}<br>Dochody=%{y}<extra></extra>\",\"hovertext\":[\"\\u015aL\\u0104SKIE\",\"\\u015aL\\u0104SKIE\",\"\\u015aL\\u0104SKIE\",\"\\u015aL\\u0104SKIE\",\"\\u015aL\\u0104SKIE\",\"\\u015aL\\u0104SKIE\",\"\\u015aL\\u0104SKIE\",\"\\u015aL\\u0104SKIE\",\"\\u015aL\\u0104SKIE\",\"\\u015aL\\u0104SKIE\",\"\\u015aL\\u0104SKIE\",\"\\u015aL\\u0104SKIE\",\"\\u015aL\\u0104SKIE\",\"\\u015aL\\u0104SKIE\",\"\\u015aL\\u0104SKIE\",\"\\u015aL\\u0104SKIE\",\"\\u015aL\\u0104SKIE\",\"\\u015aL\\u0104SKIE\",\"\\u015aL\\u0104SKIE\",\"\\u015aL\\u0104SKIE\",\"\\u015aL\\u0104SKIE\",\"\\u015aL\\u0104SKIE\",\"\\u015aL\\u0104SKIE\"],\"legendgroup\":\"\\u015aL\\u0104SKIE\",\"line\":{\"color\":\"#19d3f3\",\"dash\":\"solid\",\"shape\":\"spline\"},\"marker\":{\"symbol\":\"circle\"},\"mode\":\"lines\",\"name\":\"\\u015aL\\u0104SKIE\",\"orientation\":\"v\",\"showlegend\":true,\"x\":[1998,1999,2000,2001,2002,2003,2004,2005,2006,2007,2008,2009,2010,2011,2012,2013,2014,2015,2016,2017,2018,2019,2020],\"xaxis\":\"x\",\"y\":[null,59722.0,65741.0,68946.0,68923.0,72601.0,74829.0,79282.0,84792.0,91927.0,104108.0,111405.0,116842.0,121544.0,127887.0,131892.0,138168.0,142054.0,151323.0,164575.0,175703.0,189739.0,205036.0],\"yaxis\":\"y\",\"type\":\"scatter\"},{\"hovertemplate\":\"<b>%{hovertext}</b><br><br>Nazwa=\\u015aWI\\u0118TOKRZYSKIE<br>Rok=%{x}<br>Dochody=%{y}<extra></extra>\",\"hovertext\":[\"\\u015aWI\\u0118TOKRZYSKIE\",\"\\u015aWI\\u0118TOKRZYSKIE\",\"\\u015aWI\\u0118TOKRZYSKIE\",\"\\u015aWI\\u0118TOKRZYSKIE\",\"\\u015aWI\\u0118TOKRZYSKIE\",\"\\u015aWI\\u0118TOKRZYSKIE\",\"\\u015aWI\\u0118TOKRZYSKIE\",\"\\u015aWI\\u0118TOKRZYSKIE\",\"\\u015aWI\\u0118TOKRZYSKIE\",\"\\u015aWI\\u0118TOKRZYSKIE\",\"\\u015aWI\\u0118TOKRZYSKIE\",\"\\u015aWI\\u0118TOKRZYSKIE\",\"\\u015aWI\\u0118TOKRZYSKIE\",\"\\u015aWI\\u0118TOKRZYSKIE\",\"\\u015aWI\\u0118TOKRZYSKIE\",\"\\u015aWI\\u0118TOKRZYSKIE\",\"\\u015aWI\\u0118TOKRZYSKIE\",\"\\u015aWI\\u0118TOKRZYSKIE\",\"\\u015aWI\\u0118TOKRZYSKIE\",\"\\u015aWI\\u0118TOKRZYSKIE\",\"\\u015aWI\\u0118TOKRZYSKIE\",\"\\u015aWI\\u0118TOKRZYSKIE\",\"\\u015aWI\\u0118TOKRZYSKIE\"],\"legendgroup\":\"\\u015aWI\\u0118TOKRZYSKIE\",\"line\":{\"color\":\"#FF6692\",\"dash\":\"solid\",\"shape\":\"spline\"},\"marker\":{\"symbol\":\"circle\"},\"mode\":\"lines\",\"name\":\"\\u015aWI\\u0118TOKRZYSKIE\",\"orientation\":\"v\",\"showlegend\":true,\"x\":[1998,1999,2000,2001,2002,2003,2004,2005,2006,2007,2008,2009,2010,2011,2012,2013,2014,2015,2016,2017,2018,2019,2020],\"xaxis\":\"x\",\"y\":[null,46764.0,51889.0,55706.0,57834.0,60424.0,61546.0,62101.0,69844.0,77557.0,87818.0,93789.0,102636.0,106278.0,111976.0,115336.0,119974.0,120280.0,130596.0,143268.0,154982.0,162646.0,172692.0],\"yaxis\":\"y\",\"type\":\"scatter\"}],                        {\"template\":{\"data\":{\"bar\":[{\"error_x\":{\"color\":\"#2a3f5f\"},\"error_y\":{\"color\":\"#2a3f5f\"},\"marker\":{\"line\":{\"color\":\"#E5ECF6\",\"width\":0.5},\"pattern\":{\"fillmode\":\"overlay\",\"size\":10,\"solidity\":0.2}},\"type\":\"bar\"}],\"barpolar\":[{\"marker\":{\"line\":{\"color\":\"#E5ECF6\",\"width\":0.5},\"pattern\":{\"fillmode\":\"overlay\",\"size\":10,\"solidity\":0.2}},\"type\":\"barpolar\"}],\"carpet\":[{\"aaxis\":{\"endlinecolor\":\"#2a3f5f\",\"gridcolor\":\"white\",\"linecolor\":\"white\",\"minorgridcolor\":\"white\",\"startlinecolor\":\"#2a3f5f\"},\"baxis\":{\"endlinecolor\":\"#2a3f5f\",\"gridcolor\":\"white\",\"linecolor\":\"white\",\"minorgridcolor\":\"white\",\"startlinecolor\":\"#2a3f5f\"},\"type\":\"carpet\"}],\"choropleth\":[{\"colorbar\":{\"outlinewidth\":0,\"ticks\":\"\"},\"type\":\"choropleth\"}],\"contour\":[{\"colorbar\":{\"outlinewidth\":0,\"ticks\":\"\"},\"colorscale\":[[0.0,\"#0d0887\"],[0.1111111111111111,\"#46039f\"],[0.2222222222222222,\"#7201a8\"],[0.3333333333333333,\"#9c179e\"],[0.4444444444444444,\"#bd3786\"],[0.5555555555555556,\"#d8576b\"],[0.6666666666666666,\"#ed7953\"],[0.7777777777777778,\"#fb9f3a\"],[0.8888888888888888,\"#fdca26\"],[1.0,\"#f0f921\"]],\"type\":\"contour\"}],\"contourcarpet\":[{\"colorbar\":{\"outlinewidth\":0,\"ticks\":\"\"},\"type\":\"contourcarpet\"}],\"heatmap\":[{\"colorbar\":{\"outlinewidth\":0,\"ticks\":\"\"},\"colorscale\":[[0.0,\"#0d0887\"],[0.1111111111111111,\"#46039f\"],[0.2222222222222222,\"#7201a8\"],[0.3333333333333333,\"#9c179e\"],[0.4444444444444444,\"#bd3786\"],[0.5555555555555556,\"#d8576b\"],[0.6666666666666666,\"#ed7953\"],[0.7777777777777778,\"#fb9f3a\"],[0.8888888888888888,\"#fdca26\"],[1.0,\"#f0f921\"]],\"type\":\"heatmap\"}],\"heatmapgl\":[{\"colorbar\":{\"outlinewidth\":0,\"ticks\":\"\"},\"colorscale\":[[0.0,\"#0d0887\"],[0.1111111111111111,\"#46039f\"],[0.2222222222222222,\"#7201a8\"],[0.3333333333333333,\"#9c179e\"],[0.4444444444444444,\"#bd3786\"],[0.5555555555555556,\"#d8576b\"],[0.6666666666666666,\"#ed7953\"],[0.7777777777777778,\"#fb9f3a\"],[0.8888888888888888,\"#fdca26\"],[1.0,\"#f0f921\"]],\"type\":\"heatmapgl\"}],\"histogram\":[{\"marker\":{\"pattern\":{\"fillmode\":\"overlay\",\"size\":10,\"solidity\":0.2}},\"type\":\"histogram\"}],\"histogram2d\":[{\"colorbar\":{\"outlinewidth\":0,\"ticks\":\"\"},\"colorscale\":[[0.0,\"#0d0887\"],[0.1111111111111111,\"#46039f\"],[0.2222222222222222,\"#7201a8\"],[0.3333333333333333,\"#9c179e\"],[0.4444444444444444,\"#bd3786\"],[0.5555555555555556,\"#d8576b\"],[0.6666666666666666,\"#ed7953\"],[0.7777777777777778,\"#fb9f3a\"],[0.8888888888888888,\"#fdca26\"],[1.0,\"#f0f921\"]],\"type\":\"histogram2d\"}],\"histogram2dcontour\":[{\"colorbar\":{\"outlinewidth\":0,\"ticks\":\"\"},\"colorscale\":[[0.0,\"#0d0887\"],[0.1111111111111111,\"#46039f\"],[0.2222222222222222,\"#7201a8\"],[0.3333333333333333,\"#9c179e\"],[0.4444444444444444,\"#bd3786\"],[0.5555555555555556,\"#d8576b\"],[0.6666666666666666,\"#ed7953\"],[0.7777777777777778,\"#fb9f3a\"],[0.8888888888888888,\"#fdca26\"],[1.0,\"#f0f921\"]],\"type\":\"histogram2dcontour\"}],\"mesh3d\":[{\"colorbar\":{\"outlinewidth\":0,\"ticks\":\"\"},\"type\":\"mesh3d\"}],\"parcoords\":[{\"line\":{\"colorbar\":{\"outlinewidth\":0,\"ticks\":\"\"}},\"type\":\"parcoords\"}],\"pie\":[{\"automargin\":true,\"type\":\"pie\"}],\"scatter\":[{\"marker\":{\"colorbar\":{\"outlinewidth\":0,\"ticks\":\"\"}},\"type\":\"scatter\"}],\"scatter3d\":[{\"line\":{\"colorbar\":{\"outlinewidth\":0,\"ticks\":\"\"}},\"marker\":{\"colorbar\":{\"outlinewidth\":0,\"ticks\":\"\"}},\"type\":\"scatter3d\"}],\"scattercarpet\":[{\"marker\":{\"colorbar\":{\"outlinewidth\":0,\"ticks\":\"\"}},\"type\":\"scattercarpet\"}],\"scattergeo\":[{\"marker\":{\"colorbar\":{\"outlinewidth\":0,\"ticks\":\"\"}},\"type\":\"scattergeo\"}],\"scattergl\":[{\"marker\":{\"colorbar\":{\"outlinewidth\":0,\"ticks\":\"\"}},\"type\":\"scattergl\"}],\"scattermapbox\":[{\"marker\":{\"colorbar\":{\"outlinewidth\":0,\"ticks\":\"\"}},\"type\":\"scattermapbox\"}],\"scatterpolar\":[{\"marker\":{\"colorbar\":{\"outlinewidth\":0,\"ticks\":\"\"}},\"type\":\"scatterpolar\"}],\"scatterpolargl\":[{\"marker\":{\"colorbar\":{\"outlinewidth\":0,\"ticks\":\"\"}},\"type\":\"scatterpolargl\"}],\"scatterternary\":[{\"marker\":{\"colorbar\":{\"outlinewidth\":0,\"ticks\":\"\"}},\"type\":\"scatterternary\"}],\"surface\":[{\"colorbar\":{\"outlinewidth\":0,\"ticks\":\"\"},\"colorscale\":[[0.0,\"#0d0887\"],[0.1111111111111111,\"#46039f\"],[0.2222222222222222,\"#7201a8\"],[0.3333333333333333,\"#9c179e\"],[0.4444444444444444,\"#bd3786\"],[0.5555555555555556,\"#d8576b\"],[0.6666666666666666,\"#ed7953\"],[0.7777777777777778,\"#fb9f3a\"],[0.8888888888888888,\"#fdca26\"],[1.0,\"#f0f921\"]],\"type\":\"surface\"}],\"table\":[{\"cells\":{\"fill\":{\"color\":\"#EBF0F8\"},\"line\":{\"color\":\"white\"}},\"header\":{\"fill\":{\"color\":\"#C8D4E3\"},\"line\":{\"color\":\"white\"}},\"type\":\"table\"}]},\"layout\":{\"annotationdefaults\":{\"arrowcolor\":\"#2a3f5f\",\"arrowhead\":0,\"arrowwidth\":1},\"autotypenumbers\":\"strict\",\"coloraxis\":{\"colorbar\":{\"outlinewidth\":0,\"ticks\":\"\"}},\"colorscale\":{\"diverging\":[[0,\"#8e0152\"],[0.1,\"#c51b7d\"],[0.2,\"#de77ae\"],[0.3,\"#f1b6da\"],[0.4,\"#fde0ef\"],[0.5,\"#f7f7f7\"],[0.6,\"#e6f5d0\"],[0.7,\"#b8e186\"],[0.8,\"#7fbc41\"],[0.9,\"#4d9221\"],[1,\"#276419\"]],\"sequential\":[[0.0,\"#0d0887\"],[0.1111111111111111,\"#46039f\"],[0.2222222222222222,\"#7201a8\"],[0.3333333333333333,\"#9c179e\"],[0.4444444444444444,\"#bd3786\"],[0.5555555555555556,\"#d8576b\"],[0.6666666666666666,\"#ed7953\"],[0.7777777777777778,\"#fb9f3a\"],[0.8888888888888888,\"#fdca26\"],[1.0,\"#f0f921\"]],\"sequentialminus\":[[0.0,\"#0d0887\"],[0.1111111111111111,\"#46039f\"],[0.2222222222222222,\"#7201a8\"],[0.3333333333333333,\"#9c179e\"],[0.4444444444444444,\"#bd3786\"],[0.5555555555555556,\"#d8576b\"],[0.6666666666666666,\"#ed7953\"],[0.7777777777777778,\"#fb9f3a\"],[0.8888888888888888,\"#fdca26\"],[1.0,\"#f0f921\"]]},\"colorway\":[\"#636efa\",\"#EF553B\",\"#00cc96\",\"#ab63fa\",\"#FFA15A\",\"#19d3f3\",\"#FF6692\",\"#B6E880\",\"#FF97FF\",\"#FECB52\"],\"font\":{\"color\":\"#2a3f5f\"},\"geo\":{\"bgcolor\":\"white\",\"lakecolor\":\"white\",\"landcolor\":\"#E5ECF6\",\"showlakes\":true,\"showland\":true,\"subunitcolor\":\"white\"},\"hoverlabel\":{\"align\":\"left\"},\"hovermode\":\"closest\",\"mapbox\":{\"style\":\"light\"},\"paper_bgcolor\":\"white\",\"plot_bgcolor\":\"#E5ECF6\",\"polar\":{\"angularaxis\":{\"gridcolor\":\"white\",\"linecolor\":\"white\",\"ticks\":\"\"},\"bgcolor\":\"#E5ECF6\",\"radialaxis\":{\"gridcolor\":\"white\",\"linecolor\":\"white\",\"ticks\":\"\"}},\"scene\":{\"xaxis\":{\"backgroundcolor\":\"#E5ECF6\",\"gridcolor\":\"white\",\"gridwidth\":2,\"linecolor\":\"white\",\"showbackground\":true,\"ticks\":\"\",\"zerolinecolor\":\"white\"},\"yaxis\":{\"backgroundcolor\":\"#E5ECF6\",\"gridcolor\":\"white\",\"gridwidth\":2,\"linecolor\":\"white\",\"showbackground\":true,\"ticks\":\"\",\"zerolinecolor\":\"white\"},\"zaxis\":{\"backgroundcolor\":\"#E5ECF6\",\"gridcolor\":\"white\",\"gridwidth\":2,\"linecolor\":\"white\",\"showbackground\":true,\"ticks\":\"\",\"zerolinecolor\":\"white\"}},\"shapedefaults\":{\"line\":{\"color\":\"#2a3f5f\"}},\"ternary\":{\"aaxis\":{\"gridcolor\":\"white\",\"linecolor\":\"white\",\"ticks\":\"\"},\"baxis\":{\"gridcolor\":\"white\",\"linecolor\":\"white\",\"ticks\":\"\"},\"bgcolor\":\"#E5ECF6\",\"caxis\":{\"gridcolor\":\"white\",\"linecolor\":\"white\",\"ticks\":\"\"}},\"title\":{\"x\":0.05},\"xaxis\":{\"automargin\":true,\"gridcolor\":\"white\",\"linecolor\":\"white\",\"ticks\":\"\",\"title\":{\"standoff\":15},\"zerolinecolor\":\"white\",\"zerolinewidth\":2},\"yaxis\":{\"automargin\":true,\"gridcolor\":\"white\",\"linecolor\":\"white\",\"ticks\":\"\",\"title\":{\"standoff\":15},\"zerolinecolor\":\"white\",\"zerolinewidth\":2}}},\"xaxis\":{\"anchor\":\"y\",\"domain\":[0.0,1.0],\"title\":{\"text\":\"Rok\"}},\"yaxis\":{\"anchor\":\"x\",\"domain\":[0.0,1.0],\"title\":{\"text\":\"Dochody\"}},\"legend\":{\"title\":{\"text\":\"Nazwa\"},\"tracegroupgap\":0},\"margin\":{\"t\":60}},                        {\"responsive\": true}                    ).then(function(){\n                            \nvar gd = document.getElementById('f2a58ede-8ca7-466e-a2f0-97754a769adb');\nvar x = new MutationObserver(function (mutations, observer) {{\n        var display = window.getComputedStyle(gd).display;\n        if (!display || display === 'none') {{\n            console.log([gd, 'removed!']);\n            Plotly.purge(gd);\n            observer.disconnect();\n        }}\n}});\n\n// Listen for the removal of the full notebook cells\nvar notebookContainer = gd.closest('#notebook-container');\nif (notebookContainer) {{\n    x.observe(notebookContainer, {childList: true});\n}}\n\n// Listen for the clearing of the current output cell\nvar outputEl = gd.closest('.output');\nif (outputEl) {{\n    x.observe(outputEl, {childList: true});\n}}\n\n                        })                };                });            </script>        </div>"
     },
     "metadata": {},
     "output_type": "display_data"
    },
    {
     "data": {
      "application/vnd.plotly.v1+json": {
       "data": [
        {
         "hovertemplate": "<b>%{hovertext}</b><br><br>Nazwa=DOLNOŚLĄSKIE<br>Rok=%{x}<br>Wydatki=%{y}<extra></extra>",
         "hovertext": [
          "DOLNOŚLĄSKIE",
          "DOLNOŚLĄSKIE",
          "DOLNOŚLĄSKIE",
          "DOLNOŚLĄSKIE",
          "DOLNOŚLĄSKIE",
          "DOLNOŚLĄSKIE",
          "DOLNOŚLĄSKIE",
          "DOLNOŚLĄSKIE",
          "DOLNOŚLĄSKIE",
          "DOLNOŚLĄSKIE",
          "DOLNOŚLĄSKIE",
          "DOLNOŚLĄSKIE",
          "DOLNOŚLĄSKIE",
          "DOLNOŚLĄSKIE",
          "DOLNOŚLĄSKIE",
          "DOLNOŚLĄSKIE",
          "DOLNOŚLĄSKIE",
          "DOLNOŚLĄSKIE",
          "DOLNOŚLĄSKIE",
          "DOLNOŚLĄSKIE",
          "DOLNOŚLĄSKIE",
          "DOLNOŚLĄSKIE",
          "DOLNOŚLĄSKIE"
         ],
         "legendgroup": "DOLNOŚLĄSKIE",
         "line": {
          "color": "#636efa",
          "dash": "solid",
          "shape": "spline"
         },
         "marker": {
          "symbol": "circle"
         },
         "mode": "lines",
         "name": "DOLNOŚLĄSKIE",
         "orientation": "v",
         "showlegend": true,
         "x": [
          1998,
          1999,
          2000,
          2001,
          2002,
          2003,
          2004,
          2005,
          2006,
          2007,
          2008,
          2009,
          2010,
          2011,
          2012,
          2013,
          2014,
          2015,
          2016,
          2017,
          2018,
          2019,
          2020
         ],
         "xaxis": "x",
         "y": [
          54933.0,
          60374.0,
          60862.0,
          60845.0,
          62388.0,
          68329.0,
          68811.0,
          69982.0,
          75921.0,
          85071.0,
          95767.0,
          101317.0,
          101893.0,
          105749.0,
          113111.0,
          112512.0,
          113057.0,
          117866.0,
          121159.0,
          122207.0,
          128280.0,
          138262.0,
          135529.0
         ],
         "yaxis": "y",
         "type": "scatter"
        },
        {
         "hovertemplate": "<b>%{hovertext}</b><br><br>Nazwa=KUJAWSKO-POMORSKIE<br>Rok=%{x}<br>Wydatki=%{y}<extra></extra>",
         "hovertext": [
          "KUJAWSKO-POMORSKIE",
          "KUJAWSKO-POMORSKIE",
          "KUJAWSKO-POMORSKIE",
          "KUJAWSKO-POMORSKIE",
          "KUJAWSKO-POMORSKIE",
          "KUJAWSKO-POMORSKIE",
          "KUJAWSKO-POMORSKIE",
          "KUJAWSKO-POMORSKIE",
          "KUJAWSKO-POMORSKIE",
          "KUJAWSKO-POMORSKIE",
          "KUJAWSKO-POMORSKIE",
          "KUJAWSKO-POMORSKIE",
          "KUJAWSKO-POMORSKIE",
          "KUJAWSKO-POMORSKIE",
          "KUJAWSKO-POMORSKIE",
          "KUJAWSKO-POMORSKIE",
          "KUJAWSKO-POMORSKIE",
          "KUJAWSKO-POMORSKIE",
          "KUJAWSKO-POMORSKIE",
          "KUJAWSKO-POMORSKIE",
          "KUJAWSKO-POMORSKIE",
          "KUJAWSKO-POMORSKIE",
          "KUJAWSKO-POMORSKIE"
         ],
         "legendgroup": "KUJAWSKO-POMORSKIE",
         "line": {
          "color": "#EF553B",
          "dash": "solid",
          "shape": "spline"
         },
         "marker": {
          "symbol": "circle"
         },
         "mode": "lines",
         "name": "KUJAWSKO-POMORSKIE",
         "orientation": "v",
         "showlegend": true,
         "x": [
          1998,
          1999,
          2000,
          2001,
          2002,
          2003,
          2004,
          2005,
          2006,
          2007,
          2008,
          2009,
          2010,
          2011,
          2012,
          2013,
          2014,
          2015,
          2016,
          2017,
          2018,
          2019,
          2020
         ],
         "xaxis": "x",
         "y": [
          44082.0,
          47592.0,
          54019.0,
          57260.0,
          59350.0,
          61914.0,
          62138.0,
          60266.0,
          67426.0,
          73634.0,
          79805.0,
          87559.0,
          92363.0,
          92275.0,
          94169.0,
          99212.0,
          98760.0,
          102254.0,
          105048.0,
          111551.0,
          114982.0,
          123232.0,
          116859.0
         ],
         "yaxis": "y",
         "type": "scatter"
        },
        {
         "hovertemplate": "<b>%{hovertext}</b><br><br>Nazwa=LUBELSKIE<br>Rok=%{x}<br>Wydatki=%{y}<extra></extra>",
         "hovertext": [
          "LUBELSKIE",
          "LUBELSKIE",
          "LUBELSKIE",
          "LUBELSKIE",
          "LUBELSKIE",
          "LUBELSKIE",
          "LUBELSKIE",
          "LUBELSKIE",
          "LUBELSKIE",
          "LUBELSKIE",
          "LUBELSKIE",
          "LUBELSKIE",
          "LUBELSKIE",
          "LUBELSKIE",
          "LUBELSKIE",
          "LUBELSKIE",
          "LUBELSKIE",
          "LUBELSKIE",
          "LUBELSKIE",
          "LUBELSKIE",
          "LUBELSKIE",
          "LUBELSKIE",
          "LUBELSKIE"
         ],
         "legendgroup": "LUBELSKIE",
         "line": {
          "color": "#00cc96",
          "dash": "solid",
          "shape": "spline"
         },
         "marker": {
          "symbol": "circle"
         },
         "mode": "lines",
         "name": "LUBELSKIE",
         "orientation": "v",
         "showlegend": true,
         "x": [
          1998,
          1999,
          2000,
          2001,
          2002,
          2003,
          2004,
          2005,
          2006,
          2007,
          2008,
          2009,
          2010,
          2011,
          2012,
          2013,
          2014,
          2015,
          2016,
          2017,
          2018,
          2019,
          2020
         ],
         "xaxis": "x",
         "y": [
          43038.0,
          49070.0,
          51364.0,
          52874.0,
          57029.0,
          61824.0,
          65216.0,
          62951.0,
          67814.0,
          70521.0,
          81070.0,
          82698.0,
          82553.0,
          85617.0,
          91794.0,
          92911.0,
          98213.0,
          97128.0,
          102945.0,
          108653.0,
          108566.0,
          111435.0,
          113257.0
         ],
         "yaxis": "y",
         "type": "scatter"
        },
        {
         "hovertemplate": "<b>%{hovertext}</b><br><br>Nazwa=LUBUSKIE<br>Rok=%{x}<br>Wydatki=%{y}<extra></extra>",
         "hovertext": [
          "LUBUSKIE",
          "LUBUSKIE",
          "LUBUSKIE",
          "LUBUSKIE",
          "LUBUSKIE",
          "LUBUSKIE",
          "LUBUSKIE",
          "LUBUSKIE",
          "LUBUSKIE",
          "LUBUSKIE",
          "LUBUSKIE",
          "LUBUSKIE",
          "LUBUSKIE",
          "LUBUSKIE",
          "LUBUSKIE",
          "LUBUSKIE",
          "LUBUSKIE",
          "LUBUSKIE",
          "LUBUSKIE",
          "LUBUSKIE",
          "LUBUSKIE",
          "LUBUSKIE",
          "LUBUSKIE"
         ],
         "legendgroup": "LUBUSKIE",
         "line": {
          "color": "#ab63fa",
          "dash": "solid",
          "shape": "spline"
         },
         "marker": {
          "symbol": "circle"
         },
         "mode": "lines",
         "name": "LUBUSKIE",
         "orientation": "v",
         "showlegend": true,
         "x": [
          1998,
          1999,
          2000,
          2001,
          2002,
          2003,
          2004,
          2005,
          2006,
          2007,
          2008,
          2009,
          2010,
          2011,
          2012,
          2013,
          2014,
          2015,
          2016,
          2017,
          2018,
          2019,
          2020
         ],
         "xaxis": "x",
         "y": [
          51702.0,
          59121.0,
          60407.0,
          60713.0,
          61257.0,
          66364.0,
          68718.0,
          71748.0,
          77191.0,
          81644.0,
          93438.0,
          93790.0,
          97230.0,
          97564.0,
          100652.0,
          100529.0,
          105149.0,
          111830.0,
          116165.0,
          113136.0,
          114384.0,
          122371.0,
          115730.0
         ],
         "yaxis": "y",
         "type": "scatter"
        },
        {
         "hovertemplate": "<b>%{hovertext}</b><br><br>Nazwa=MAZOWIECKIE<br>Rok=%{x}<br>Wydatki=%{y}<extra></extra>",
         "hovertext": [
          "MAZOWIECKIE",
          "MAZOWIECKIE",
          "MAZOWIECKIE",
          "MAZOWIECKIE",
          "MAZOWIECKIE",
          "MAZOWIECKIE",
          "MAZOWIECKIE",
          "MAZOWIECKIE",
          "MAZOWIECKIE",
          "MAZOWIECKIE",
          "MAZOWIECKIE",
          "MAZOWIECKIE",
          "MAZOWIECKIE",
          "MAZOWIECKIE",
          "MAZOWIECKIE",
          "MAZOWIECKIE",
          "MAZOWIECKIE",
          "MAZOWIECKIE",
          "MAZOWIECKIE",
          "MAZOWIECKIE",
          "MAZOWIECKIE",
          "MAZOWIECKIE",
          "MAZOWIECKIE"
         ],
         "legendgroup": "MAZOWIECKIE",
         "line": {
          "color": "#FFA15A",
          "dash": "solid",
          "shape": "spline"
         },
         "marker": {
          "symbol": "circle"
         },
         "mode": "lines",
         "name": "MAZOWIECKIE",
         "orientation": "v",
         "showlegend": true,
         "x": [
          1998,
          1999,
          2000,
          2001,
          2002,
          2003,
          2004,
          2005,
          2006,
          2007,
          2008,
          2009,
          2010,
          2011,
          2012,
          2013,
          2014,
          2015,
          2016,
          2017,
          2018,
          2019,
          2020
         ],
         "xaxis": "x",
         "y": [
          58881.0,
          64012.0,
          70411.0,
          70928.0,
          74395.0,
          83946.0,
          86320.0,
          81721.0,
          90175.0,
          101026.0,
          114727.0,
          123328.0,
          129985.0,
          130835.0,
          135389.0,
          133100.0,
          135541.0,
          137071.0,
          136988.0,
          142070.0,
          142113.0,
          147626.0,
          144301.0
         ],
         "yaxis": "y",
         "type": "scatter"
        },
        {
         "hovertemplate": "<b>%{hovertext}</b><br><br>Nazwa=MAŁOPOLSKIE<br>Rok=%{x}<br>Wydatki=%{y}<extra></extra>",
         "hovertext": [
          "MAŁOPOLSKIE",
          "MAŁOPOLSKIE",
          "MAŁOPOLSKIE",
          "MAŁOPOLSKIE",
          "MAŁOPOLSKIE",
          "MAŁOPOLSKIE",
          "MAŁOPOLSKIE",
          "MAŁOPOLSKIE",
          "MAŁOPOLSKIE",
          "MAŁOPOLSKIE",
          "MAŁOPOLSKIE",
          "MAŁOPOLSKIE",
          "MAŁOPOLSKIE",
          "MAŁOPOLSKIE",
          "MAŁOPOLSKIE",
          "MAŁOPOLSKIE",
          "MAŁOPOLSKIE",
          "MAŁOPOLSKIE",
          "MAŁOPOLSKIE",
          "MAŁOPOLSKIE",
          "MAŁOPOLSKIE",
          "MAŁOPOLSKIE",
          "MAŁOPOLSKIE"
         ],
         "legendgroup": "MAŁOPOLSKIE",
         "line": {
          "color": "#19d3f3",
          "dash": "solid",
          "shape": "spline"
         },
         "marker": {
          "symbol": "circle"
         },
         "mode": "lines",
         "name": "MAŁOPOLSKIE",
         "orientation": "v",
         "showlegend": true,
         "x": [
          1998,
          1999,
          2000,
          2001,
          2002,
          2003,
          2004,
          2005,
          2006,
          2007,
          2008,
          2009,
          2010,
          2011,
          2012,
          2013,
          2014,
          2015,
          2016,
          2017,
          2018,
          2019,
          2020
         ],
         "xaxis": "x",
         "y": [
          49414.0,
          53382.0,
          57996.0,
          61637.0,
          60754.0,
          64877.0,
          68077.0,
          67278.0,
          70248.0,
          77658.0,
          88944.0,
          90035.0,
          94982.0,
          98259.0,
          99134.0,
          101977.0,
          100051.0,
          98577.0,
          104073.0,
          100607.0,
          101742.0,
          107773.0,
          104152.0
         ],
         "yaxis": "y",
         "type": "scatter"
        },
        {
         "hovertemplate": "<b>%{hovertext}</b><br><br>Nazwa=OPOLSKIE<br>Rok=%{x}<br>Wydatki=%{y}<extra></extra>",
         "hovertext": [
          "OPOLSKIE",
          "OPOLSKIE",
          "OPOLSKIE",
          "OPOLSKIE",
          "OPOLSKIE",
          "OPOLSKIE",
          "OPOLSKIE",
          "OPOLSKIE",
          "OPOLSKIE",
          "OPOLSKIE",
          "OPOLSKIE",
          "OPOLSKIE",
          "OPOLSKIE",
          "OPOLSKIE",
          "OPOLSKIE",
          "OPOLSKIE",
          "OPOLSKIE",
          "OPOLSKIE",
          "OPOLSKIE",
          "OPOLSKIE",
          "OPOLSKIE",
          "OPOLSKIE",
          "OPOLSKIE"
         ],
         "legendgroup": "OPOLSKIE",
         "line": {
          "color": "#FF6692",
          "dash": "solid",
          "shape": "spline"
         },
         "marker": {
          "symbol": "circle"
         },
         "mode": "lines",
         "name": "OPOLSKIE",
         "orientation": "v",
         "showlegend": true,
         "x": [
          1998,
          1999,
          2000,
          2001,
          2002,
          2003,
          2004,
          2005,
          2006,
          2007,
          2008,
          2009,
          2010,
          2011,
          2012,
          2013,
          2014,
          2015,
          2016,
          2017,
          2018,
          2019,
          2020
         ],
         "xaxis": "x",
         "y": [
          52016.0,
          55521.0,
          58209.0,
          61215.0,
          60470.0,
          68403.0,
          72749.0,
          77765.0,
          76212.0,
          84606.0,
          101623.0,
          101633.0,
          102190.0,
          104857.0,
          106899.0,
          107297.0,
          104879.0,
          110299.0,
          119504.0,
          123671.0,
          118977.0,
          133212.0,
          128733.0
         ],
         "yaxis": "y",
         "type": "scatter"
        },
        {
         "hovertemplate": "<b>%{hovertext}</b><br><br>Nazwa=PODKARPACKIE<br>Rok=%{x}<br>Wydatki=%{y}<extra></extra>",
         "hovertext": [
          "PODKARPACKIE",
          "PODKARPACKIE",
          "PODKARPACKIE",
          "PODKARPACKIE",
          "PODKARPACKIE",
          "PODKARPACKIE",
          "PODKARPACKIE",
          "PODKARPACKIE",
          "PODKARPACKIE",
          "PODKARPACKIE",
          "PODKARPACKIE",
          "PODKARPACKIE",
          "PODKARPACKIE",
          "PODKARPACKIE",
          "PODKARPACKIE",
          "PODKARPACKIE",
          "PODKARPACKIE",
          "PODKARPACKIE",
          "PODKARPACKIE",
          "PODKARPACKIE",
          "PODKARPACKIE",
          "PODKARPACKIE",
          "PODKARPACKIE"
         ],
         "legendgroup": "PODKARPACKIE",
         "line": {
          "color": "#B6E880",
          "dash": "solid",
          "shape": "spline"
         },
         "marker": {
          "symbol": "circle"
         },
         "mode": "lines",
         "name": "PODKARPACKIE",
         "orientation": "v",
         "showlegend": true,
         "x": [
          1998,
          1999,
          2000,
          2001,
          2002,
          2003,
          2004,
          2005,
          2006,
          2007,
          2008,
          2009,
          2010,
          2011,
          2012,
          2013,
          2014,
          2015,
          2016,
          2017,
          2018,
          2019,
          2020
         ],
         "xaxis": "x",
         "y": [
          40717.0,
          47178.0,
          50707.0,
          52458.0,
          53588.0,
          59050.0,
          59975.0,
          58927.0,
          62434.0,
          65982.0,
          74266.0,
          78378.0,
          82000.0,
          84300.0,
          84239.0,
          87466.0,
          90095.0,
          92232.0,
          90218.0,
          94191.0,
          96022.0,
          101569.0,
          93094.0
         ],
         "yaxis": "y",
         "type": "scatter"
        },
        {
         "hovertemplate": "<b>%{hovertext}</b><br><br>Nazwa=PODLASKIE<br>Rok=%{x}<br>Wydatki=%{y}<extra></extra>",
         "hovertext": [
          "PODLASKIE",
          "PODLASKIE",
          "PODLASKIE",
          "PODLASKIE",
          "PODLASKIE",
          "PODLASKIE",
          "PODLASKIE",
          "PODLASKIE",
          "PODLASKIE",
          "PODLASKIE",
          "PODLASKIE",
          "PODLASKIE",
          "PODLASKIE",
          "PODLASKIE",
          "PODLASKIE",
          "PODLASKIE",
          "PODLASKIE",
          "PODLASKIE",
          "PODLASKIE",
          "PODLASKIE",
          "PODLASKIE",
          "PODLASKIE",
          "PODLASKIE"
         ],
         "legendgroup": "PODLASKIE",
         "line": {
          "color": "#FF97FF",
          "dash": "solid",
          "shape": "spline"
         },
         "marker": {
          "symbol": "circle"
         },
         "mode": "lines",
         "name": "PODLASKIE",
         "orientation": "v",
         "showlegend": true,
         "x": [
          1998,
          1999,
          2000,
          2001,
          2002,
          2003,
          2004,
          2005,
          2006,
          2007,
          2008,
          2009,
          2010,
          2011,
          2012,
          2013,
          2014,
          2015,
          2016,
          2017,
          2018,
          2019,
          2020
         ],
         "xaxis": "x",
         "y": [
          46282.0,
          48363.0,
          53622.0,
          57659.0,
          59055.0,
          61658.0,
          61500.0,
          65006.0,
          70862.0,
          73746.0,
          80283.0,
          82356.0,
          85056.0,
          90342.0,
          94184.0,
          91763.0,
          97815.0,
          100343.0,
          102030.0,
          102746.0,
          106610.0,
          102951.0,
          102037.0
         ],
         "yaxis": "y",
         "type": "scatter"
        },
        {
         "hovertemplate": "<b>%{hovertext}</b><br><br>Nazwa=POLSKA<br>Rok=%{x}<br>Wydatki=%{y}<extra></extra>",
         "hovertext": [
          "POLSKA",
          "POLSKA",
          "POLSKA",
          "POLSKA",
          "POLSKA",
          "POLSKA",
          "POLSKA",
          "POLSKA",
          "POLSKA",
          "POLSKA",
          "POLSKA",
          "POLSKA",
          "POLSKA",
          "POLSKA",
          "POLSKA",
          "POLSKA",
          "POLSKA",
          "POLSKA",
          "POLSKA",
          "POLSKA",
          "POLSKA",
          "POLSKA",
          "POLSKA"
         ],
         "legendgroup": "POLSKA",
         "line": {
          "color": "#FECB52",
          "dash": "solid",
          "shape": "spline"
         },
         "marker": {
          "symbol": "circle"
         },
         "mode": "lines",
         "name": "POLSKA",
         "orientation": "v",
         "showlegend": true,
         "x": [
          1998,
          1999,
          2000,
          2001,
          2002,
          2003,
          2004,
          2005,
          2006,
          2007,
          2008,
          2009,
          2010,
          2011,
          2012,
          2013,
          2014,
          2015,
          2016,
          2017,
          2018,
          2019,
          2020
         ],
         "xaxis": "x",
         "y": [
          50303.0,
          54976.0,
          59949.0,
          60972.0,
          62499.0,
          67781.0,
          69470.0,
          69030.0,
          74481.0,
          80995.0,
          90427.0,
          95668.0,
          99144.0,
          101512.0,
          105078.0,
          106170.0,
          107874.0,
          109119.0,
          113164.0,
          117644.0,
          118686.0,
          125173.0,
          120958.0
         ],
         "yaxis": "y",
         "type": "scatter"
        },
        {
         "hovertemplate": "<b>%{hovertext}</b><br><br>Nazwa=POMORSKIE<br>Rok=%{x}<br>Wydatki=%{y}<extra></extra>",
         "hovertext": [
          "POMORSKIE",
          "POMORSKIE",
          "POMORSKIE",
          "POMORSKIE",
          "POMORSKIE",
          "POMORSKIE",
          "POMORSKIE",
          "POMORSKIE",
          "POMORSKIE",
          "POMORSKIE",
          "POMORSKIE",
          "POMORSKIE",
          "POMORSKIE",
          "POMORSKIE",
          "POMORSKIE",
          "POMORSKIE",
          "POMORSKIE",
          "POMORSKIE",
          "POMORSKIE",
          "POMORSKIE",
          "POMORSKIE",
          "POMORSKIE",
          "POMORSKIE"
         ],
         "legendgroup": "POMORSKIE",
         "line": {
          "color": "#636efa",
          "dash": "solid",
          "shape": "spline"
         },
         "marker": {
          "symbol": "circle"
         },
         "mode": "lines",
         "name": "POMORSKIE",
         "orientation": "v",
         "showlegend": true,
         "x": [
          1998,
          1999,
          2000,
          2001,
          2002,
          2003,
          2004,
          2005,
          2006,
          2007,
          2008,
          2009,
          2010,
          2011,
          2012,
          2013,
          2014,
          2015,
          2016,
          2017,
          2018,
          2019,
          2020
         ],
         "xaxis": "x",
         "y": [
          48749.0,
          52101.0,
          62169.0,
          62236.0,
          66549.0,
          70108.0,
          72155.0,
          69711.0,
          78506.0,
          86382.0,
          91680.0,
          97711.0,
          99905.0,
          106125.0,
          106838.0,
          108392.0,
          109490.0,
          105853.0,
          117844.0,
          119767.0,
          128899.0,
          136050.0,
          132872.0
         ],
         "yaxis": "y",
         "type": "scatter"
        },
        {
         "hovertemplate": "<b>%{hovertext}</b><br><br>Nazwa=WARMIŃSKO-MAZURSKIE<br>Rok=%{x}<br>Wydatki=%{y}<extra></extra>",
         "hovertext": [
          "WARMIŃSKO-MAZURSKIE",
          "WARMIŃSKO-MAZURSKIE",
          "WARMIŃSKO-MAZURSKIE",
          "WARMIŃSKO-MAZURSKIE",
          "WARMIŃSKO-MAZURSKIE",
          "WARMIŃSKO-MAZURSKIE",
          "WARMIŃSKO-MAZURSKIE",
          "WARMIŃSKO-MAZURSKIE",
          "WARMIŃSKO-MAZURSKIE",
          "WARMIŃSKO-MAZURSKIE",
          "WARMIŃSKO-MAZURSKIE",
          "WARMIŃSKO-MAZURSKIE",
          "WARMIŃSKO-MAZURSKIE",
          "WARMIŃSKO-MAZURSKIE",
          "WARMIŃSKO-MAZURSKIE",
          "WARMIŃSKO-MAZURSKIE",
          "WARMIŃSKO-MAZURSKIE",
          "WARMIŃSKO-MAZURSKIE",
          "WARMIŃSKO-MAZURSKIE",
          "WARMIŃSKO-MAZURSKIE",
          "WARMIŃSKO-MAZURSKIE",
          "WARMIŃSKO-MAZURSKIE",
          "WARMIŃSKO-MAZURSKIE"
         ],
         "legendgroup": "WARMIŃSKO-MAZURSKIE",
         "line": {
          "color": "#EF553B",
          "dash": "solid",
          "shape": "spline"
         },
         "marker": {
          "symbol": "circle"
         },
         "mode": "lines",
         "name": "WARMIŃSKO-MAZURSKIE",
         "orientation": "v",
         "showlegend": true,
         "x": [
          1998,
          1999,
          2000,
          2001,
          2002,
          2003,
          2004,
          2005,
          2006,
          2007,
          2008,
          2009,
          2010,
          2011,
          2012,
          2013,
          2014,
          2015,
          2016,
          2017,
          2018,
          2019,
          2020
         ],
         "xaxis": "x",
         "y": [
          43570.0,
          47302.0,
          54171.0,
          53857.0,
          54985.0,
          59813.0,
          59068.0,
          60548.0,
          64412.0,
          71020.0,
          80932.0,
          87250.0,
          86615.0,
          87030.0,
          87723.0,
          88348.0,
          92262.0,
          90491.0,
          96426.0,
          98143.0,
          98186.0,
          100690.0,
          107342.0
         ],
         "yaxis": "y",
         "type": "scatter"
        },
        {
         "hovertemplate": "<b>%{hovertext}</b><br><br>Nazwa=WIELKOPOLSKIE<br>Rok=%{x}<br>Wydatki=%{y}<extra></extra>",
         "hovertext": [
          "WIELKOPOLSKIE",
          "WIELKOPOLSKIE",
          "WIELKOPOLSKIE",
          "WIELKOPOLSKIE",
          "WIELKOPOLSKIE",
          "WIELKOPOLSKIE",
          "WIELKOPOLSKIE",
          "WIELKOPOLSKIE",
          "WIELKOPOLSKIE",
          "WIELKOPOLSKIE",
          "WIELKOPOLSKIE",
          "WIELKOPOLSKIE",
          "WIELKOPOLSKIE",
          "WIELKOPOLSKIE",
          "WIELKOPOLSKIE",
          "WIELKOPOLSKIE",
          "WIELKOPOLSKIE",
          "WIELKOPOLSKIE",
          "WIELKOPOLSKIE",
          "WIELKOPOLSKIE",
          "WIELKOPOLSKIE",
          "WIELKOPOLSKIE",
          "WIELKOPOLSKIE"
         ],
         "legendgroup": "WIELKOPOLSKIE",
         "line": {
          "color": "#00cc96",
          "dash": "solid",
          "shape": "spline"
         },
         "marker": {
          "symbol": "circle"
         },
         "mode": "lines",
         "name": "WIELKOPOLSKIE",
         "orientation": "v",
         "showlegend": true,
         "x": [
          1998,
          1999,
          2000,
          2001,
          2002,
          2003,
          2004,
          2005,
          2006,
          2007,
          2008,
          2009,
          2010,
          2011,
          2012,
          2013,
          2014,
          2015,
          2016,
          2017,
          2018,
          2019,
          2020
         ],
         "xaxis": "x",
         "y": [
          48143.0,
          51035.0,
          58088.0,
          58052.0,
          58710.0,
          62447.0,
          65493.0,
          66600.0,
          70545.0,
          75305.0,
          83956.0,
          87957.0,
          90127.0,
          91366.0,
          92933.0,
          95265.0,
          94706.0,
          95920.0,
          99762.0,
          105138.0,
          105166.0,
          116282.0,
          112335.0
         ],
         "yaxis": "y",
         "type": "scatter"
        },
        {
         "hovertemplate": "<b>%{hovertext}</b><br><br>Nazwa=ZACHODNIOPOMORSKIE<br>Rok=%{x}<br>Wydatki=%{y}<extra></extra>",
         "hovertext": [
          "ZACHODNIOPOMORSKIE",
          "ZACHODNIOPOMORSKIE",
          "ZACHODNIOPOMORSKIE",
          "ZACHODNIOPOMORSKIE",
          "ZACHODNIOPOMORSKIE",
          "ZACHODNIOPOMORSKIE",
          "ZACHODNIOPOMORSKIE",
          "ZACHODNIOPOMORSKIE",
          "ZACHODNIOPOMORSKIE",
          "ZACHODNIOPOMORSKIE",
          "ZACHODNIOPOMORSKIE",
          "ZACHODNIOPOMORSKIE",
          "ZACHODNIOPOMORSKIE",
          "ZACHODNIOPOMORSKIE",
          "ZACHODNIOPOMORSKIE",
          "ZACHODNIOPOMORSKIE",
          "ZACHODNIOPOMORSKIE",
          "ZACHODNIOPOMORSKIE",
          "ZACHODNIOPOMORSKIE",
          "ZACHODNIOPOMORSKIE",
          "ZACHODNIOPOMORSKIE",
          "ZACHODNIOPOMORSKIE",
          "ZACHODNIOPOMORSKIE"
         ],
         "legendgroup": "ZACHODNIOPOMORSKIE",
         "line": {
          "color": "#ab63fa",
          "dash": "solid",
          "shape": "spline"
         },
         "marker": {
          "symbol": "circle"
         },
         "mode": "lines",
         "name": "ZACHODNIOPOMORSKIE",
         "orientation": "v",
         "showlegend": true,
         "x": [
          1998,
          1999,
          2000,
          2001,
          2002,
          2003,
          2004,
          2005,
          2006,
          2007,
          2008,
          2009,
          2010,
          2011,
          2012,
          2013,
          2014,
          2015,
          2016,
          2017,
          2018,
          2019,
          2020
         ],
         "xaxis": "x",
         "y": [
          53181.0,
          57479.0,
          60521.0,
          60631.0,
          63765.0,
          69303.0,
          70381.0,
          67236.0,
          75817.0,
          79941.0,
          87354.0,
          94020.0,
          96494.0,
          97204.0,
          103423.0,
          99658.0,
          106619.0,
          110662.0,
          111056.0,
          120581.0,
          123653.0,
          126335.0,
          124253.0
         ],
         "yaxis": "y",
         "type": "scatter"
        },
        {
         "hovertemplate": "<b>%{hovertext}</b><br><br>Nazwa=ŁÓDZKIE<br>Rok=%{x}<br>Wydatki=%{y}<extra></extra>",
         "hovertext": [
          "ŁÓDZKIE",
          "ŁÓDZKIE",
          "ŁÓDZKIE",
          "ŁÓDZKIE",
          "ŁÓDZKIE",
          "ŁÓDZKIE",
          "ŁÓDZKIE",
          "ŁÓDZKIE",
          "ŁÓDZKIE",
          "ŁÓDZKIE",
          "ŁÓDZKIE",
          "ŁÓDZKIE",
          "ŁÓDZKIE",
          "ŁÓDZKIE",
          "ŁÓDZKIE",
          "ŁÓDZKIE",
          "ŁÓDZKIE",
          "ŁÓDZKIE",
          "ŁÓDZKIE",
          "ŁÓDZKIE",
          "ŁÓDZKIE",
          "ŁÓDZKIE",
          "ŁÓDZKIE"
         ],
         "legendgroup": "ŁÓDZKIE",
         "line": {
          "color": "#FFA15A",
          "dash": "solid",
          "shape": "spline"
         },
         "marker": {
          "symbol": "circle"
         },
         "mode": "lines",
         "name": "ŁÓDZKIE",
         "orientation": "v",
         "showlegend": true,
         "x": [
          1998,
          1999,
          2000,
          2001,
          2002,
          2003,
          2004,
          2005,
          2006,
          2007,
          2008,
          2009,
          2010,
          2011,
          2012,
          2013,
          2014,
          2015,
          2016,
          2017,
          2018,
          2019,
          2020
         ],
         "xaxis": "x",
         "y": [
          51243.0,
          57677.0,
          64253.0,
          62158.0,
          64722.0,
          68976.0,
          71326.0,
          73181.0,
          77412.0,
          83969.0,
          92237.0,
          99773.0,
          103564.0,
          104270.0,
          108325.0,
          113227.0,
          111897.0,
          114623.0,
          120571.0,
          131349.0,
          123233.0,
          137459.0,
          122552.0
         ],
         "yaxis": "y",
         "type": "scatter"
        },
        {
         "hovertemplate": "<b>%{hovertext}</b><br><br>Nazwa=ŚLĄSKIE<br>Rok=%{x}<br>Wydatki=%{y}<extra></extra>",
         "hovertext": [
          "ŚLĄSKIE",
          "ŚLĄSKIE",
          "ŚLĄSKIE",
          "ŚLĄSKIE",
          "ŚLĄSKIE",
          "ŚLĄSKIE",
          "ŚLĄSKIE",
          "ŚLĄSKIE",
          "ŚLĄSKIE",
          "ŚLĄSKIE",
          "ŚLĄSKIE",
          "ŚLĄSKIE",
          "ŚLĄSKIE",
          "ŚLĄSKIE",
          "ŚLĄSKIE",
          "ŚLĄSKIE",
          "ŚLĄSKIE",
          "ŚLĄSKIE",
          "ŚLĄSKIE",
          "ŚLĄSKIE",
          "ŚLĄSKIE",
          "ŚLĄSKIE",
          "ŚLĄSKIE"
         ],
         "legendgroup": "ŚLĄSKIE",
         "line": {
          "color": "#19d3f3",
          "dash": "solid",
          "shape": "spline"
         },
         "marker": {
          "symbol": "circle"
         },
         "mode": "lines",
         "name": "ŚLĄSKIE",
         "orientation": "v",
         "showlegend": true,
         "x": [
          1998,
          1999,
          2000,
          2001,
          2002,
          2003,
          2004,
          2005,
          2006,
          2007,
          2008,
          2009,
          2010,
          2011,
          2012,
          2013,
          2014,
          2015,
          2016,
          2017,
          2018,
          2019,
          2020
         ],
         "xaxis": "x",
         "y": [
          55517.0,
          60722.0,
          64289.0,
          66054.0,
          65054.0,
          68991.0,
          69641.0,
          70804.0,
          75843.0,
          81109.0,
          88858.0,
          95951.0,
          100593.0,
          103973.0,
          110152.0,
          111809.0,
          112950.0,
          113642.0,
          120237.0,
          129707.0,
          128863.0,
          133036.0,
          127085.0
         ],
         "yaxis": "y",
         "type": "scatter"
        },
        {
         "hovertemplate": "<b>%{hovertext}</b><br><br>Nazwa=ŚWIĘTOKRZYSKIE<br>Rok=%{x}<br>Wydatki=%{y}<extra></extra>",
         "hovertext": [
          "ŚWIĘTOKRZYSKIE",
          "ŚWIĘTOKRZYSKIE",
          "ŚWIĘTOKRZYSKIE",
          "ŚWIĘTOKRZYSKIE",
          "ŚWIĘTOKRZYSKIE",
          "ŚWIĘTOKRZYSKIE",
          "ŚWIĘTOKRZYSKIE",
          "ŚWIĘTOKRZYSKIE",
          "ŚWIĘTOKRZYSKIE",
          "ŚWIĘTOKRZYSKIE",
          "ŚWIĘTOKRZYSKIE",
          "ŚWIĘTOKRZYSKIE",
          "ŚWIĘTOKRZYSKIE",
          "ŚWIĘTOKRZYSKIE",
          "ŚWIĘTOKRZYSKIE",
          "ŚWIĘTOKRZYSKIE",
          "ŚWIĘTOKRZYSKIE",
          "ŚWIĘTOKRZYSKIE",
          "ŚWIĘTOKRZYSKIE",
          "ŚWIĘTOKRZYSKIE",
          "ŚWIĘTOKRZYSKIE",
          "ŚWIĘTOKRZYSKIE",
          "ŚWIĘTOKRZYSKIE"
         ],
         "legendgroup": "ŚWIĘTOKRZYSKIE",
         "line": {
          "color": "#FF6692",
          "dash": "solid",
          "shape": "spline"
         },
         "marker": {
          "symbol": "circle"
         },
         "mode": "lines",
         "name": "ŚWIĘTOKRZYSKIE",
         "orientation": "v",
         "showlegend": true,
         "x": [
          1998,
          1999,
          2000,
          2001,
          2002,
          2003,
          2004,
          2005,
          2006,
          2007,
          2008,
          2009,
          2010,
          2011,
          2012,
          2013,
          2014,
          2015,
          2016,
          2017,
          2018,
          2019,
          2020
         ],
         "xaxis": "x",
         "y": [
          43521.0,
          47182.0,
          51698.0,
          53754.0,
          54088.0,
          59564.0,
          58137.0,
          57950.0,
          61206.0,
          68238.0,
          74654.0,
          79207.0,
          83170.0,
          84858.0,
          87480.0,
          92248.0,
          96983.0,
          90317.0,
          96317.0,
          103706.0,
          107511.0,
          105905.0,
          99400.0
         ],
         "yaxis": "y",
         "type": "scatter"
        }
       ],
       "layout": {
        "template": {
         "data": {
          "bar": [
           {
            "error_x": {
             "color": "#2a3f5f"
            },
            "error_y": {
             "color": "#2a3f5f"
            },
            "marker": {
             "line": {
              "color": "#E5ECF6",
              "width": 0.5
             },
             "pattern": {
              "fillmode": "overlay",
              "size": 10,
              "solidity": 0.2
             }
            },
            "type": "bar"
           }
          ],
          "barpolar": [
           {
            "marker": {
             "line": {
              "color": "#E5ECF6",
              "width": 0.5
             },
             "pattern": {
              "fillmode": "overlay",
              "size": 10,
              "solidity": 0.2
             }
            },
            "type": "barpolar"
           }
          ],
          "carpet": [
           {
            "aaxis": {
             "endlinecolor": "#2a3f5f",
             "gridcolor": "white",
             "linecolor": "white",
             "minorgridcolor": "white",
             "startlinecolor": "#2a3f5f"
            },
            "baxis": {
             "endlinecolor": "#2a3f5f",
             "gridcolor": "white",
             "linecolor": "white",
             "minorgridcolor": "white",
             "startlinecolor": "#2a3f5f"
            },
            "type": "carpet"
           }
          ],
          "choropleth": [
           {
            "colorbar": {
             "outlinewidth": 0,
             "ticks": ""
            },
            "type": "choropleth"
           }
          ],
          "contour": [
           {
            "colorbar": {
             "outlinewidth": 0,
             "ticks": ""
            },
            "colorscale": [
             [
              0.0,
              "#0d0887"
             ],
             [
              0.1111111111111111,
              "#46039f"
             ],
             [
              0.2222222222222222,
              "#7201a8"
             ],
             [
              0.3333333333333333,
              "#9c179e"
             ],
             [
              0.4444444444444444,
              "#bd3786"
             ],
             [
              0.5555555555555556,
              "#d8576b"
             ],
             [
              0.6666666666666666,
              "#ed7953"
             ],
             [
              0.7777777777777778,
              "#fb9f3a"
             ],
             [
              0.8888888888888888,
              "#fdca26"
             ],
             [
              1.0,
              "#f0f921"
             ]
            ],
            "type": "contour"
           }
          ],
          "contourcarpet": [
           {
            "colorbar": {
             "outlinewidth": 0,
             "ticks": ""
            },
            "type": "contourcarpet"
           }
          ],
          "heatmap": [
           {
            "colorbar": {
             "outlinewidth": 0,
             "ticks": ""
            },
            "colorscale": [
             [
              0.0,
              "#0d0887"
             ],
             [
              0.1111111111111111,
              "#46039f"
             ],
             [
              0.2222222222222222,
              "#7201a8"
             ],
             [
              0.3333333333333333,
              "#9c179e"
             ],
             [
              0.4444444444444444,
              "#bd3786"
             ],
             [
              0.5555555555555556,
              "#d8576b"
             ],
             [
              0.6666666666666666,
              "#ed7953"
             ],
             [
              0.7777777777777778,
              "#fb9f3a"
             ],
             [
              0.8888888888888888,
              "#fdca26"
             ],
             [
              1.0,
              "#f0f921"
             ]
            ],
            "type": "heatmap"
           }
          ],
          "heatmapgl": [
           {
            "colorbar": {
             "outlinewidth": 0,
             "ticks": ""
            },
            "colorscale": [
             [
              0.0,
              "#0d0887"
             ],
             [
              0.1111111111111111,
              "#46039f"
             ],
             [
              0.2222222222222222,
              "#7201a8"
             ],
             [
              0.3333333333333333,
              "#9c179e"
             ],
             [
              0.4444444444444444,
              "#bd3786"
             ],
             [
              0.5555555555555556,
              "#d8576b"
             ],
             [
              0.6666666666666666,
              "#ed7953"
             ],
             [
              0.7777777777777778,
              "#fb9f3a"
             ],
             [
              0.8888888888888888,
              "#fdca26"
             ],
             [
              1.0,
              "#f0f921"
             ]
            ],
            "type": "heatmapgl"
           }
          ],
          "histogram": [
           {
            "marker": {
             "pattern": {
              "fillmode": "overlay",
              "size": 10,
              "solidity": 0.2
             }
            },
            "type": "histogram"
           }
          ],
          "histogram2d": [
           {
            "colorbar": {
             "outlinewidth": 0,
             "ticks": ""
            },
            "colorscale": [
             [
              0.0,
              "#0d0887"
             ],
             [
              0.1111111111111111,
              "#46039f"
             ],
             [
              0.2222222222222222,
              "#7201a8"
             ],
             [
              0.3333333333333333,
              "#9c179e"
             ],
             [
              0.4444444444444444,
              "#bd3786"
             ],
             [
              0.5555555555555556,
              "#d8576b"
             ],
             [
              0.6666666666666666,
              "#ed7953"
             ],
             [
              0.7777777777777778,
              "#fb9f3a"
             ],
             [
              0.8888888888888888,
              "#fdca26"
             ],
             [
              1.0,
              "#f0f921"
             ]
            ],
            "type": "histogram2d"
           }
          ],
          "histogram2dcontour": [
           {
            "colorbar": {
             "outlinewidth": 0,
             "ticks": ""
            },
            "colorscale": [
             [
              0.0,
              "#0d0887"
             ],
             [
              0.1111111111111111,
              "#46039f"
             ],
             [
              0.2222222222222222,
              "#7201a8"
             ],
             [
              0.3333333333333333,
              "#9c179e"
             ],
             [
              0.4444444444444444,
              "#bd3786"
             ],
             [
              0.5555555555555556,
              "#d8576b"
             ],
             [
              0.6666666666666666,
              "#ed7953"
             ],
             [
              0.7777777777777778,
              "#fb9f3a"
             ],
             [
              0.8888888888888888,
              "#fdca26"
             ],
             [
              1.0,
              "#f0f921"
             ]
            ],
            "type": "histogram2dcontour"
           }
          ],
          "mesh3d": [
           {
            "colorbar": {
             "outlinewidth": 0,
             "ticks": ""
            },
            "type": "mesh3d"
           }
          ],
          "parcoords": [
           {
            "line": {
             "colorbar": {
              "outlinewidth": 0,
              "ticks": ""
             }
            },
            "type": "parcoords"
           }
          ],
          "pie": [
           {
            "automargin": true,
            "type": "pie"
           }
          ],
          "scatter": [
           {
            "marker": {
             "colorbar": {
              "outlinewidth": 0,
              "ticks": ""
             }
            },
            "type": "scatter"
           }
          ],
          "scatter3d": [
           {
            "line": {
             "colorbar": {
              "outlinewidth": 0,
              "ticks": ""
             }
            },
            "marker": {
             "colorbar": {
              "outlinewidth": 0,
              "ticks": ""
             }
            },
            "type": "scatter3d"
           }
          ],
          "scattercarpet": [
           {
            "marker": {
             "colorbar": {
              "outlinewidth": 0,
              "ticks": ""
             }
            },
            "type": "scattercarpet"
           }
          ],
          "scattergeo": [
           {
            "marker": {
             "colorbar": {
              "outlinewidth": 0,
              "ticks": ""
             }
            },
            "type": "scattergeo"
           }
          ],
          "scattergl": [
           {
            "marker": {
             "colorbar": {
              "outlinewidth": 0,
              "ticks": ""
             }
            },
            "type": "scattergl"
           }
          ],
          "scattermapbox": [
           {
            "marker": {
             "colorbar": {
              "outlinewidth": 0,
              "ticks": ""
             }
            },
            "type": "scattermapbox"
           }
          ],
          "scatterpolar": [
           {
            "marker": {
             "colorbar": {
              "outlinewidth": 0,
              "ticks": ""
             }
            },
            "type": "scatterpolar"
           }
          ],
          "scatterpolargl": [
           {
            "marker": {
             "colorbar": {
              "outlinewidth": 0,
              "ticks": ""
             }
            },
            "type": "scatterpolargl"
           }
          ],
          "scatterternary": [
           {
            "marker": {
             "colorbar": {
              "outlinewidth": 0,
              "ticks": ""
             }
            },
            "type": "scatterternary"
           }
          ],
          "surface": [
           {
            "colorbar": {
             "outlinewidth": 0,
             "ticks": ""
            },
            "colorscale": [
             [
              0.0,
              "#0d0887"
             ],
             [
              0.1111111111111111,
              "#46039f"
             ],
             [
              0.2222222222222222,
              "#7201a8"
             ],
             [
              0.3333333333333333,
              "#9c179e"
             ],
             [
              0.4444444444444444,
              "#bd3786"
             ],
             [
              0.5555555555555556,
              "#d8576b"
             ],
             [
              0.6666666666666666,
              "#ed7953"
             ],
             [
              0.7777777777777778,
              "#fb9f3a"
             ],
             [
              0.8888888888888888,
              "#fdca26"
             ],
             [
              1.0,
              "#f0f921"
             ]
            ],
            "type": "surface"
           }
          ],
          "table": [
           {
            "cells": {
             "fill": {
              "color": "#EBF0F8"
             },
             "line": {
              "color": "white"
             }
            },
            "header": {
             "fill": {
              "color": "#C8D4E3"
             },
             "line": {
              "color": "white"
             }
            },
            "type": "table"
           }
          ]
         },
         "layout": {
          "annotationdefaults": {
           "arrowcolor": "#2a3f5f",
           "arrowhead": 0,
           "arrowwidth": 1
          },
          "autotypenumbers": "strict",
          "coloraxis": {
           "colorbar": {
            "outlinewidth": 0,
            "ticks": ""
           }
          },
          "colorscale": {
           "diverging": [
            [
             0,
             "#8e0152"
            ],
            [
             0.1,
             "#c51b7d"
            ],
            [
             0.2,
             "#de77ae"
            ],
            [
             0.3,
             "#f1b6da"
            ],
            [
             0.4,
             "#fde0ef"
            ],
            [
             0.5,
             "#f7f7f7"
            ],
            [
             0.6,
             "#e6f5d0"
            ],
            [
             0.7,
             "#b8e186"
            ],
            [
             0.8,
             "#7fbc41"
            ],
            [
             0.9,
             "#4d9221"
            ],
            [
             1,
             "#276419"
            ]
           ],
           "sequential": [
            [
             0.0,
             "#0d0887"
            ],
            [
             0.1111111111111111,
             "#46039f"
            ],
            [
             0.2222222222222222,
             "#7201a8"
            ],
            [
             0.3333333333333333,
             "#9c179e"
            ],
            [
             0.4444444444444444,
             "#bd3786"
            ],
            [
             0.5555555555555556,
             "#d8576b"
            ],
            [
             0.6666666666666666,
             "#ed7953"
            ],
            [
             0.7777777777777778,
             "#fb9f3a"
            ],
            [
             0.8888888888888888,
             "#fdca26"
            ],
            [
             1.0,
             "#f0f921"
            ]
           ],
           "sequentialminus": [
            [
             0.0,
             "#0d0887"
            ],
            [
             0.1111111111111111,
             "#46039f"
            ],
            [
             0.2222222222222222,
             "#7201a8"
            ],
            [
             0.3333333333333333,
             "#9c179e"
            ],
            [
             0.4444444444444444,
             "#bd3786"
            ],
            [
             0.5555555555555556,
             "#d8576b"
            ],
            [
             0.6666666666666666,
             "#ed7953"
            ],
            [
             0.7777777777777778,
             "#fb9f3a"
            ],
            [
             0.8888888888888888,
             "#fdca26"
            ],
            [
             1.0,
             "#f0f921"
            ]
           ]
          },
          "colorway": [
           "#636efa",
           "#EF553B",
           "#00cc96",
           "#ab63fa",
           "#FFA15A",
           "#19d3f3",
           "#FF6692",
           "#B6E880",
           "#FF97FF",
           "#FECB52"
          ],
          "font": {
           "color": "#2a3f5f"
          },
          "geo": {
           "bgcolor": "white",
           "lakecolor": "white",
           "landcolor": "#E5ECF6",
           "showlakes": true,
           "showland": true,
           "subunitcolor": "white"
          },
          "hoverlabel": {
           "align": "left"
          },
          "hovermode": "closest",
          "mapbox": {
           "style": "light"
          },
          "paper_bgcolor": "white",
          "plot_bgcolor": "#E5ECF6",
          "polar": {
           "angularaxis": {
            "gridcolor": "white",
            "linecolor": "white",
            "ticks": ""
           },
           "bgcolor": "#E5ECF6",
           "radialaxis": {
            "gridcolor": "white",
            "linecolor": "white",
            "ticks": ""
           }
          },
          "scene": {
           "xaxis": {
            "backgroundcolor": "#E5ECF6",
            "gridcolor": "white",
            "gridwidth": 2,
            "linecolor": "white",
            "showbackground": true,
            "ticks": "",
            "zerolinecolor": "white"
           },
           "yaxis": {
            "backgroundcolor": "#E5ECF6",
            "gridcolor": "white",
            "gridwidth": 2,
            "linecolor": "white",
            "showbackground": true,
            "ticks": "",
            "zerolinecolor": "white"
           },
           "zaxis": {
            "backgroundcolor": "#E5ECF6",
            "gridcolor": "white",
            "gridwidth": 2,
            "linecolor": "white",
            "showbackground": true,
            "ticks": "",
            "zerolinecolor": "white"
           }
          },
          "shapedefaults": {
           "line": {
            "color": "#2a3f5f"
           }
          },
          "ternary": {
           "aaxis": {
            "gridcolor": "white",
            "linecolor": "white",
            "ticks": ""
           },
           "baxis": {
            "gridcolor": "white",
            "linecolor": "white",
            "ticks": ""
           },
           "bgcolor": "#E5ECF6",
           "caxis": {
            "gridcolor": "white",
            "linecolor": "white",
            "ticks": ""
           }
          },
          "title": {
           "x": 0.05
          },
          "xaxis": {
           "automargin": true,
           "gridcolor": "white",
           "linecolor": "white",
           "ticks": "",
           "title": {
            "standoff": 15
           },
           "zerolinecolor": "white",
           "zerolinewidth": 2
          },
          "yaxis": {
           "automargin": true,
           "gridcolor": "white",
           "linecolor": "white",
           "ticks": "",
           "title": {
            "standoff": 15
           },
           "zerolinecolor": "white",
           "zerolinewidth": 2
          }
         }
        },
        "xaxis": {
         "anchor": "y",
         "domain": [
          0.0,
          1.0
         ],
         "title": {
          "text": "Rok"
         }
        },
        "yaxis": {
         "anchor": "x",
         "domain": [
          0.0,
          1.0
         ],
         "title": {
          "text": "Wydatki"
         }
        },
        "legend": {
         "title": {
          "text": "Nazwa"
         },
         "tracegroupgap": 0
        },
        "margin": {
         "t": 60
        }
       },
       "config": {
        "plotlyServerURL": "https://plot.ly"
       }
      },
      "text/html": "<div>                            <div id=\"a9d35e9d-7741-4e5d-9291-3f987b3f7db5\" class=\"plotly-graph-div\" style=\"height:525px; width:100%;\"></div>            <script type=\"text/javascript\">                require([\"plotly\"], function(Plotly) {                    window.PLOTLYENV=window.PLOTLYENV || {};                                    if (document.getElementById(\"a9d35e9d-7741-4e5d-9291-3f987b3f7db5\")) {                    Plotly.newPlot(                        \"a9d35e9d-7741-4e5d-9291-3f987b3f7db5\",                        [{\"hovertemplate\":\"<b>%{hovertext}</b><br><br>Nazwa=DOLNO\\u015aL\\u0104SKIE<br>Rok=%{x}<br>Wydatki=%{y}<extra></extra>\",\"hovertext\":[\"DOLNO\\u015aL\\u0104SKIE\",\"DOLNO\\u015aL\\u0104SKIE\",\"DOLNO\\u015aL\\u0104SKIE\",\"DOLNO\\u015aL\\u0104SKIE\",\"DOLNO\\u015aL\\u0104SKIE\",\"DOLNO\\u015aL\\u0104SKIE\",\"DOLNO\\u015aL\\u0104SKIE\",\"DOLNO\\u015aL\\u0104SKIE\",\"DOLNO\\u015aL\\u0104SKIE\",\"DOLNO\\u015aL\\u0104SKIE\",\"DOLNO\\u015aL\\u0104SKIE\",\"DOLNO\\u015aL\\u0104SKIE\",\"DOLNO\\u015aL\\u0104SKIE\",\"DOLNO\\u015aL\\u0104SKIE\",\"DOLNO\\u015aL\\u0104SKIE\",\"DOLNO\\u015aL\\u0104SKIE\",\"DOLNO\\u015aL\\u0104SKIE\",\"DOLNO\\u015aL\\u0104SKIE\",\"DOLNO\\u015aL\\u0104SKIE\",\"DOLNO\\u015aL\\u0104SKIE\",\"DOLNO\\u015aL\\u0104SKIE\",\"DOLNO\\u015aL\\u0104SKIE\",\"DOLNO\\u015aL\\u0104SKIE\"],\"legendgroup\":\"DOLNO\\u015aL\\u0104SKIE\",\"line\":{\"color\":\"#636efa\",\"dash\":\"solid\",\"shape\":\"spline\"},\"marker\":{\"symbol\":\"circle\"},\"mode\":\"lines\",\"name\":\"DOLNO\\u015aL\\u0104SKIE\",\"orientation\":\"v\",\"showlegend\":true,\"x\":[1998,1999,2000,2001,2002,2003,2004,2005,2006,2007,2008,2009,2010,2011,2012,2013,2014,2015,2016,2017,2018,2019,2020],\"xaxis\":\"x\",\"y\":[54933.0,60374.0,60862.0,60845.0,62388.0,68329.0,68811.0,69982.0,75921.0,85071.0,95767.0,101317.0,101893.0,105749.0,113111.0,112512.0,113057.0,117866.0,121159.0,122207.0,128280.0,138262.0,135529.0],\"yaxis\":\"y\",\"type\":\"scatter\"},{\"hovertemplate\":\"<b>%{hovertext}</b><br><br>Nazwa=KUJAWSKO-POMORSKIE<br>Rok=%{x}<br>Wydatki=%{y}<extra></extra>\",\"hovertext\":[\"KUJAWSKO-POMORSKIE\",\"KUJAWSKO-POMORSKIE\",\"KUJAWSKO-POMORSKIE\",\"KUJAWSKO-POMORSKIE\",\"KUJAWSKO-POMORSKIE\",\"KUJAWSKO-POMORSKIE\",\"KUJAWSKO-POMORSKIE\",\"KUJAWSKO-POMORSKIE\",\"KUJAWSKO-POMORSKIE\",\"KUJAWSKO-POMORSKIE\",\"KUJAWSKO-POMORSKIE\",\"KUJAWSKO-POMORSKIE\",\"KUJAWSKO-POMORSKIE\",\"KUJAWSKO-POMORSKIE\",\"KUJAWSKO-POMORSKIE\",\"KUJAWSKO-POMORSKIE\",\"KUJAWSKO-POMORSKIE\",\"KUJAWSKO-POMORSKIE\",\"KUJAWSKO-POMORSKIE\",\"KUJAWSKO-POMORSKIE\",\"KUJAWSKO-POMORSKIE\",\"KUJAWSKO-POMORSKIE\",\"KUJAWSKO-POMORSKIE\"],\"legendgroup\":\"KUJAWSKO-POMORSKIE\",\"line\":{\"color\":\"#EF553B\",\"dash\":\"solid\",\"shape\":\"spline\"},\"marker\":{\"symbol\":\"circle\"},\"mode\":\"lines\",\"name\":\"KUJAWSKO-POMORSKIE\",\"orientation\":\"v\",\"showlegend\":true,\"x\":[1998,1999,2000,2001,2002,2003,2004,2005,2006,2007,2008,2009,2010,2011,2012,2013,2014,2015,2016,2017,2018,2019,2020],\"xaxis\":\"x\",\"y\":[44082.0,47592.0,54019.0,57260.0,59350.0,61914.0,62138.0,60266.0,67426.0,73634.0,79805.0,87559.0,92363.0,92275.0,94169.0,99212.0,98760.0,102254.0,105048.0,111551.0,114982.0,123232.0,116859.0],\"yaxis\":\"y\",\"type\":\"scatter\"},{\"hovertemplate\":\"<b>%{hovertext}</b><br><br>Nazwa=LUBELSKIE<br>Rok=%{x}<br>Wydatki=%{y}<extra></extra>\",\"hovertext\":[\"LUBELSKIE\",\"LUBELSKIE\",\"LUBELSKIE\",\"LUBELSKIE\",\"LUBELSKIE\",\"LUBELSKIE\",\"LUBELSKIE\",\"LUBELSKIE\",\"LUBELSKIE\",\"LUBELSKIE\",\"LUBELSKIE\",\"LUBELSKIE\",\"LUBELSKIE\",\"LUBELSKIE\",\"LUBELSKIE\",\"LUBELSKIE\",\"LUBELSKIE\",\"LUBELSKIE\",\"LUBELSKIE\",\"LUBELSKIE\",\"LUBELSKIE\",\"LUBELSKIE\",\"LUBELSKIE\"],\"legendgroup\":\"LUBELSKIE\",\"line\":{\"color\":\"#00cc96\",\"dash\":\"solid\",\"shape\":\"spline\"},\"marker\":{\"symbol\":\"circle\"},\"mode\":\"lines\",\"name\":\"LUBELSKIE\",\"orientation\":\"v\",\"showlegend\":true,\"x\":[1998,1999,2000,2001,2002,2003,2004,2005,2006,2007,2008,2009,2010,2011,2012,2013,2014,2015,2016,2017,2018,2019,2020],\"xaxis\":\"x\",\"y\":[43038.0,49070.0,51364.0,52874.0,57029.0,61824.0,65216.0,62951.0,67814.0,70521.0,81070.0,82698.0,82553.0,85617.0,91794.0,92911.0,98213.0,97128.0,102945.0,108653.0,108566.0,111435.0,113257.0],\"yaxis\":\"y\",\"type\":\"scatter\"},{\"hovertemplate\":\"<b>%{hovertext}</b><br><br>Nazwa=LUBUSKIE<br>Rok=%{x}<br>Wydatki=%{y}<extra></extra>\",\"hovertext\":[\"LUBUSKIE\",\"LUBUSKIE\",\"LUBUSKIE\",\"LUBUSKIE\",\"LUBUSKIE\",\"LUBUSKIE\",\"LUBUSKIE\",\"LUBUSKIE\",\"LUBUSKIE\",\"LUBUSKIE\",\"LUBUSKIE\",\"LUBUSKIE\",\"LUBUSKIE\",\"LUBUSKIE\",\"LUBUSKIE\",\"LUBUSKIE\",\"LUBUSKIE\",\"LUBUSKIE\",\"LUBUSKIE\",\"LUBUSKIE\",\"LUBUSKIE\",\"LUBUSKIE\",\"LUBUSKIE\"],\"legendgroup\":\"LUBUSKIE\",\"line\":{\"color\":\"#ab63fa\",\"dash\":\"solid\",\"shape\":\"spline\"},\"marker\":{\"symbol\":\"circle\"},\"mode\":\"lines\",\"name\":\"LUBUSKIE\",\"orientation\":\"v\",\"showlegend\":true,\"x\":[1998,1999,2000,2001,2002,2003,2004,2005,2006,2007,2008,2009,2010,2011,2012,2013,2014,2015,2016,2017,2018,2019,2020],\"xaxis\":\"x\",\"y\":[51702.0,59121.0,60407.0,60713.0,61257.0,66364.0,68718.0,71748.0,77191.0,81644.0,93438.0,93790.0,97230.0,97564.0,100652.0,100529.0,105149.0,111830.0,116165.0,113136.0,114384.0,122371.0,115730.0],\"yaxis\":\"y\",\"type\":\"scatter\"},{\"hovertemplate\":\"<b>%{hovertext}</b><br><br>Nazwa=MAZOWIECKIE<br>Rok=%{x}<br>Wydatki=%{y}<extra></extra>\",\"hovertext\":[\"MAZOWIECKIE\",\"MAZOWIECKIE\",\"MAZOWIECKIE\",\"MAZOWIECKIE\",\"MAZOWIECKIE\",\"MAZOWIECKIE\",\"MAZOWIECKIE\",\"MAZOWIECKIE\",\"MAZOWIECKIE\",\"MAZOWIECKIE\",\"MAZOWIECKIE\",\"MAZOWIECKIE\",\"MAZOWIECKIE\",\"MAZOWIECKIE\",\"MAZOWIECKIE\",\"MAZOWIECKIE\",\"MAZOWIECKIE\",\"MAZOWIECKIE\",\"MAZOWIECKIE\",\"MAZOWIECKIE\",\"MAZOWIECKIE\",\"MAZOWIECKIE\",\"MAZOWIECKIE\"],\"legendgroup\":\"MAZOWIECKIE\",\"line\":{\"color\":\"#FFA15A\",\"dash\":\"solid\",\"shape\":\"spline\"},\"marker\":{\"symbol\":\"circle\"},\"mode\":\"lines\",\"name\":\"MAZOWIECKIE\",\"orientation\":\"v\",\"showlegend\":true,\"x\":[1998,1999,2000,2001,2002,2003,2004,2005,2006,2007,2008,2009,2010,2011,2012,2013,2014,2015,2016,2017,2018,2019,2020],\"xaxis\":\"x\",\"y\":[58881.0,64012.0,70411.0,70928.0,74395.0,83946.0,86320.0,81721.0,90175.0,101026.0,114727.0,123328.0,129985.0,130835.0,135389.0,133100.0,135541.0,137071.0,136988.0,142070.0,142113.0,147626.0,144301.0],\"yaxis\":\"y\",\"type\":\"scatter\"},{\"hovertemplate\":\"<b>%{hovertext}</b><br><br>Nazwa=MA\\u0141OPOLSKIE<br>Rok=%{x}<br>Wydatki=%{y}<extra></extra>\",\"hovertext\":[\"MA\\u0141OPOLSKIE\",\"MA\\u0141OPOLSKIE\",\"MA\\u0141OPOLSKIE\",\"MA\\u0141OPOLSKIE\",\"MA\\u0141OPOLSKIE\",\"MA\\u0141OPOLSKIE\",\"MA\\u0141OPOLSKIE\",\"MA\\u0141OPOLSKIE\",\"MA\\u0141OPOLSKIE\",\"MA\\u0141OPOLSKIE\",\"MA\\u0141OPOLSKIE\",\"MA\\u0141OPOLSKIE\",\"MA\\u0141OPOLSKIE\",\"MA\\u0141OPOLSKIE\",\"MA\\u0141OPOLSKIE\",\"MA\\u0141OPOLSKIE\",\"MA\\u0141OPOLSKIE\",\"MA\\u0141OPOLSKIE\",\"MA\\u0141OPOLSKIE\",\"MA\\u0141OPOLSKIE\",\"MA\\u0141OPOLSKIE\",\"MA\\u0141OPOLSKIE\",\"MA\\u0141OPOLSKIE\"],\"legendgroup\":\"MA\\u0141OPOLSKIE\",\"line\":{\"color\":\"#19d3f3\",\"dash\":\"solid\",\"shape\":\"spline\"},\"marker\":{\"symbol\":\"circle\"},\"mode\":\"lines\",\"name\":\"MA\\u0141OPOLSKIE\",\"orientation\":\"v\",\"showlegend\":true,\"x\":[1998,1999,2000,2001,2002,2003,2004,2005,2006,2007,2008,2009,2010,2011,2012,2013,2014,2015,2016,2017,2018,2019,2020],\"xaxis\":\"x\",\"y\":[49414.0,53382.0,57996.0,61637.0,60754.0,64877.0,68077.0,67278.0,70248.0,77658.0,88944.0,90035.0,94982.0,98259.0,99134.0,101977.0,100051.0,98577.0,104073.0,100607.0,101742.0,107773.0,104152.0],\"yaxis\":\"y\",\"type\":\"scatter\"},{\"hovertemplate\":\"<b>%{hovertext}</b><br><br>Nazwa=OPOLSKIE<br>Rok=%{x}<br>Wydatki=%{y}<extra></extra>\",\"hovertext\":[\"OPOLSKIE\",\"OPOLSKIE\",\"OPOLSKIE\",\"OPOLSKIE\",\"OPOLSKIE\",\"OPOLSKIE\",\"OPOLSKIE\",\"OPOLSKIE\",\"OPOLSKIE\",\"OPOLSKIE\",\"OPOLSKIE\",\"OPOLSKIE\",\"OPOLSKIE\",\"OPOLSKIE\",\"OPOLSKIE\",\"OPOLSKIE\",\"OPOLSKIE\",\"OPOLSKIE\",\"OPOLSKIE\",\"OPOLSKIE\",\"OPOLSKIE\",\"OPOLSKIE\",\"OPOLSKIE\"],\"legendgroup\":\"OPOLSKIE\",\"line\":{\"color\":\"#FF6692\",\"dash\":\"solid\",\"shape\":\"spline\"},\"marker\":{\"symbol\":\"circle\"},\"mode\":\"lines\",\"name\":\"OPOLSKIE\",\"orientation\":\"v\",\"showlegend\":true,\"x\":[1998,1999,2000,2001,2002,2003,2004,2005,2006,2007,2008,2009,2010,2011,2012,2013,2014,2015,2016,2017,2018,2019,2020],\"xaxis\":\"x\",\"y\":[52016.0,55521.0,58209.0,61215.0,60470.0,68403.0,72749.0,77765.0,76212.0,84606.0,101623.0,101633.0,102190.0,104857.0,106899.0,107297.0,104879.0,110299.0,119504.0,123671.0,118977.0,133212.0,128733.0],\"yaxis\":\"y\",\"type\":\"scatter\"},{\"hovertemplate\":\"<b>%{hovertext}</b><br><br>Nazwa=PODKARPACKIE<br>Rok=%{x}<br>Wydatki=%{y}<extra></extra>\",\"hovertext\":[\"PODKARPACKIE\",\"PODKARPACKIE\",\"PODKARPACKIE\",\"PODKARPACKIE\",\"PODKARPACKIE\",\"PODKARPACKIE\",\"PODKARPACKIE\",\"PODKARPACKIE\",\"PODKARPACKIE\",\"PODKARPACKIE\",\"PODKARPACKIE\",\"PODKARPACKIE\",\"PODKARPACKIE\",\"PODKARPACKIE\",\"PODKARPACKIE\",\"PODKARPACKIE\",\"PODKARPACKIE\",\"PODKARPACKIE\",\"PODKARPACKIE\",\"PODKARPACKIE\",\"PODKARPACKIE\",\"PODKARPACKIE\",\"PODKARPACKIE\"],\"legendgroup\":\"PODKARPACKIE\",\"line\":{\"color\":\"#B6E880\",\"dash\":\"solid\",\"shape\":\"spline\"},\"marker\":{\"symbol\":\"circle\"},\"mode\":\"lines\",\"name\":\"PODKARPACKIE\",\"orientation\":\"v\",\"showlegend\":true,\"x\":[1998,1999,2000,2001,2002,2003,2004,2005,2006,2007,2008,2009,2010,2011,2012,2013,2014,2015,2016,2017,2018,2019,2020],\"xaxis\":\"x\",\"y\":[40717.0,47178.0,50707.0,52458.0,53588.0,59050.0,59975.0,58927.0,62434.0,65982.0,74266.0,78378.0,82000.0,84300.0,84239.0,87466.0,90095.0,92232.0,90218.0,94191.0,96022.0,101569.0,93094.0],\"yaxis\":\"y\",\"type\":\"scatter\"},{\"hovertemplate\":\"<b>%{hovertext}</b><br><br>Nazwa=PODLASKIE<br>Rok=%{x}<br>Wydatki=%{y}<extra></extra>\",\"hovertext\":[\"PODLASKIE\",\"PODLASKIE\",\"PODLASKIE\",\"PODLASKIE\",\"PODLASKIE\",\"PODLASKIE\",\"PODLASKIE\",\"PODLASKIE\",\"PODLASKIE\",\"PODLASKIE\",\"PODLASKIE\",\"PODLASKIE\",\"PODLASKIE\",\"PODLASKIE\",\"PODLASKIE\",\"PODLASKIE\",\"PODLASKIE\",\"PODLASKIE\",\"PODLASKIE\",\"PODLASKIE\",\"PODLASKIE\",\"PODLASKIE\",\"PODLASKIE\"],\"legendgroup\":\"PODLASKIE\",\"line\":{\"color\":\"#FF97FF\",\"dash\":\"solid\",\"shape\":\"spline\"},\"marker\":{\"symbol\":\"circle\"},\"mode\":\"lines\",\"name\":\"PODLASKIE\",\"orientation\":\"v\",\"showlegend\":true,\"x\":[1998,1999,2000,2001,2002,2003,2004,2005,2006,2007,2008,2009,2010,2011,2012,2013,2014,2015,2016,2017,2018,2019,2020],\"xaxis\":\"x\",\"y\":[46282.0,48363.0,53622.0,57659.0,59055.0,61658.0,61500.0,65006.0,70862.0,73746.0,80283.0,82356.0,85056.0,90342.0,94184.0,91763.0,97815.0,100343.0,102030.0,102746.0,106610.0,102951.0,102037.0],\"yaxis\":\"y\",\"type\":\"scatter\"},{\"hovertemplate\":\"<b>%{hovertext}</b><br><br>Nazwa=POLSKA<br>Rok=%{x}<br>Wydatki=%{y}<extra></extra>\",\"hovertext\":[\"POLSKA\",\"POLSKA\",\"POLSKA\",\"POLSKA\",\"POLSKA\",\"POLSKA\",\"POLSKA\",\"POLSKA\",\"POLSKA\",\"POLSKA\",\"POLSKA\",\"POLSKA\",\"POLSKA\",\"POLSKA\",\"POLSKA\",\"POLSKA\",\"POLSKA\",\"POLSKA\",\"POLSKA\",\"POLSKA\",\"POLSKA\",\"POLSKA\",\"POLSKA\"],\"legendgroup\":\"POLSKA\",\"line\":{\"color\":\"#FECB52\",\"dash\":\"solid\",\"shape\":\"spline\"},\"marker\":{\"symbol\":\"circle\"},\"mode\":\"lines\",\"name\":\"POLSKA\",\"orientation\":\"v\",\"showlegend\":true,\"x\":[1998,1999,2000,2001,2002,2003,2004,2005,2006,2007,2008,2009,2010,2011,2012,2013,2014,2015,2016,2017,2018,2019,2020],\"xaxis\":\"x\",\"y\":[50303.0,54976.0,59949.0,60972.0,62499.0,67781.0,69470.0,69030.0,74481.0,80995.0,90427.0,95668.0,99144.0,101512.0,105078.0,106170.0,107874.0,109119.0,113164.0,117644.0,118686.0,125173.0,120958.0],\"yaxis\":\"y\",\"type\":\"scatter\"},{\"hovertemplate\":\"<b>%{hovertext}</b><br><br>Nazwa=POMORSKIE<br>Rok=%{x}<br>Wydatki=%{y}<extra></extra>\",\"hovertext\":[\"POMORSKIE\",\"POMORSKIE\",\"POMORSKIE\",\"POMORSKIE\",\"POMORSKIE\",\"POMORSKIE\",\"POMORSKIE\",\"POMORSKIE\",\"POMORSKIE\",\"POMORSKIE\",\"POMORSKIE\",\"POMORSKIE\",\"POMORSKIE\",\"POMORSKIE\",\"POMORSKIE\",\"POMORSKIE\",\"POMORSKIE\",\"POMORSKIE\",\"POMORSKIE\",\"POMORSKIE\",\"POMORSKIE\",\"POMORSKIE\",\"POMORSKIE\"],\"legendgroup\":\"POMORSKIE\",\"line\":{\"color\":\"#636efa\",\"dash\":\"solid\",\"shape\":\"spline\"},\"marker\":{\"symbol\":\"circle\"},\"mode\":\"lines\",\"name\":\"POMORSKIE\",\"orientation\":\"v\",\"showlegend\":true,\"x\":[1998,1999,2000,2001,2002,2003,2004,2005,2006,2007,2008,2009,2010,2011,2012,2013,2014,2015,2016,2017,2018,2019,2020],\"xaxis\":\"x\",\"y\":[48749.0,52101.0,62169.0,62236.0,66549.0,70108.0,72155.0,69711.0,78506.0,86382.0,91680.0,97711.0,99905.0,106125.0,106838.0,108392.0,109490.0,105853.0,117844.0,119767.0,128899.0,136050.0,132872.0],\"yaxis\":\"y\",\"type\":\"scatter\"},{\"hovertemplate\":\"<b>%{hovertext}</b><br><br>Nazwa=WARMI\\u0143SKO-MAZURSKIE<br>Rok=%{x}<br>Wydatki=%{y}<extra></extra>\",\"hovertext\":[\"WARMI\\u0143SKO-MAZURSKIE\",\"WARMI\\u0143SKO-MAZURSKIE\",\"WARMI\\u0143SKO-MAZURSKIE\",\"WARMI\\u0143SKO-MAZURSKIE\",\"WARMI\\u0143SKO-MAZURSKIE\",\"WARMI\\u0143SKO-MAZURSKIE\",\"WARMI\\u0143SKO-MAZURSKIE\",\"WARMI\\u0143SKO-MAZURSKIE\",\"WARMI\\u0143SKO-MAZURSKIE\",\"WARMI\\u0143SKO-MAZURSKIE\",\"WARMI\\u0143SKO-MAZURSKIE\",\"WARMI\\u0143SKO-MAZURSKIE\",\"WARMI\\u0143SKO-MAZURSKIE\",\"WARMI\\u0143SKO-MAZURSKIE\",\"WARMI\\u0143SKO-MAZURSKIE\",\"WARMI\\u0143SKO-MAZURSKIE\",\"WARMI\\u0143SKO-MAZURSKIE\",\"WARMI\\u0143SKO-MAZURSKIE\",\"WARMI\\u0143SKO-MAZURSKIE\",\"WARMI\\u0143SKO-MAZURSKIE\",\"WARMI\\u0143SKO-MAZURSKIE\",\"WARMI\\u0143SKO-MAZURSKIE\",\"WARMI\\u0143SKO-MAZURSKIE\"],\"legendgroup\":\"WARMI\\u0143SKO-MAZURSKIE\",\"line\":{\"color\":\"#EF553B\",\"dash\":\"solid\",\"shape\":\"spline\"},\"marker\":{\"symbol\":\"circle\"},\"mode\":\"lines\",\"name\":\"WARMI\\u0143SKO-MAZURSKIE\",\"orientation\":\"v\",\"showlegend\":true,\"x\":[1998,1999,2000,2001,2002,2003,2004,2005,2006,2007,2008,2009,2010,2011,2012,2013,2014,2015,2016,2017,2018,2019,2020],\"xaxis\":\"x\",\"y\":[43570.0,47302.0,54171.0,53857.0,54985.0,59813.0,59068.0,60548.0,64412.0,71020.0,80932.0,87250.0,86615.0,87030.0,87723.0,88348.0,92262.0,90491.0,96426.0,98143.0,98186.0,100690.0,107342.0],\"yaxis\":\"y\",\"type\":\"scatter\"},{\"hovertemplate\":\"<b>%{hovertext}</b><br><br>Nazwa=WIELKOPOLSKIE<br>Rok=%{x}<br>Wydatki=%{y}<extra></extra>\",\"hovertext\":[\"WIELKOPOLSKIE\",\"WIELKOPOLSKIE\",\"WIELKOPOLSKIE\",\"WIELKOPOLSKIE\",\"WIELKOPOLSKIE\",\"WIELKOPOLSKIE\",\"WIELKOPOLSKIE\",\"WIELKOPOLSKIE\",\"WIELKOPOLSKIE\",\"WIELKOPOLSKIE\",\"WIELKOPOLSKIE\",\"WIELKOPOLSKIE\",\"WIELKOPOLSKIE\",\"WIELKOPOLSKIE\",\"WIELKOPOLSKIE\",\"WIELKOPOLSKIE\",\"WIELKOPOLSKIE\",\"WIELKOPOLSKIE\",\"WIELKOPOLSKIE\",\"WIELKOPOLSKIE\",\"WIELKOPOLSKIE\",\"WIELKOPOLSKIE\",\"WIELKOPOLSKIE\"],\"legendgroup\":\"WIELKOPOLSKIE\",\"line\":{\"color\":\"#00cc96\",\"dash\":\"solid\",\"shape\":\"spline\"},\"marker\":{\"symbol\":\"circle\"},\"mode\":\"lines\",\"name\":\"WIELKOPOLSKIE\",\"orientation\":\"v\",\"showlegend\":true,\"x\":[1998,1999,2000,2001,2002,2003,2004,2005,2006,2007,2008,2009,2010,2011,2012,2013,2014,2015,2016,2017,2018,2019,2020],\"xaxis\":\"x\",\"y\":[48143.0,51035.0,58088.0,58052.0,58710.0,62447.0,65493.0,66600.0,70545.0,75305.0,83956.0,87957.0,90127.0,91366.0,92933.0,95265.0,94706.0,95920.0,99762.0,105138.0,105166.0,116282.0,112335.0],\"yaxis\":\"y\",\"type\":\"scatter\"},{\"hovertemplate\":\"<b>%{hovertext}</b><br><br>Nazwa=ZACHODNIOPOMORSKIE<br>Rok=%{x}<br>Wydatki=%{y}<extra></extra>\",\"hovertext\":[\"ZACHODNIOPOMORSKIE\",\"ZACHODNIOPOMORSKIE\",\"ZACHODNIOPOMORSKIE\",\"ZACHODNIOPOMORSKIE\",\"ZACHODNIOPOMORSKIE\",\"ZACHODNIOPOMORSKIE\",\"ZACHODNIOPOMORSKIE\",\"ZACHODNIOPOMORSKIE\",\"ZACHODNIOPOMORSKIE\",\"ZACHODNIOPOMORSKIE\",\"ZACHODNIOPOMORSKIE\",\"ZACHODNIOPOMORSKIE\",\"ZACHODNIOPOMORSKIE\",\"ZACHODNIOPOMORSKIE\",\"ZACHODNIOPOMORSKIE\",\"ZACHODNIOPOMORSKIE\",\"ZACHODNIOPOMORSKIE\",\"ZACHODNIOPOMORSKIE\",\"ZACHODNIOPOMORSKIE\",\"ZACHODNIOPOMORSKIE\",\"ZACHODNIOPOMORSKIE\",\"ZACHODNIOPOMORSKIE\",\"ZACHODNIOPOMORSKIE\"],\"legendgroup\":\"ZACHODNIOPOMORSKIE\",\"line\":{\"color\":\"#ab63fa\",\"dash\":\"solid\",\"shape\":\"spline\"},\"marker\":{\"symbol\":\"circle\"},\"mode\":\"lines\",\"name\":\"ZACHODNIOPOMORSKIE\",\"orientation\":\"v\",\"showlegend\":true,\"x\":[1998,1999,2000,2001,2002,2003,2004,2005,2006,2007,2008,2009,2010,2011,2012,2013,2014,2015,2016,2017,2018,2019,2020],\"xaxis\":\"x\",\"y\":[53181.0,57479.0,60521.0,60631.0,63765.0,69303.0,70381.0,67236.0,75817.0,79941.0,87354.0,94020.0,96494.0,97204.0,103423.0,99658.0,106619.0,110662.0,111056.0,120581.0,123653.0,126335.0,124253.0],\"yaxis\":\"y\",\"type\":\"scatter\"},{\"hovertemplate\":\"<b>%{hovertext}</b><br><br>Nazwa=\\u0141\\u00d3DZKIE<br>Rok=%{x}<br>Wydatki=%{y}<extra></extra>\",\"hovertext\":[\"\\u0141\\u00d3DZKIE\",\"\\u0141\\u00d3DZKIE\",\"\\u0141\\u00d3DZKIE\",\"\\u0141\\u00d3DZKIE\",\"\\u0141\\u00d3DZKIE\",\"\\u0141\\u00d3DZKIE\",\"\\u0141\\u00d3DZKIE\",\"\\u0141\\u00d3DZKIE\",\"\\u0141\\u00d3DZKIE\",\"\\u0141\\u00d3DZKIE\",\"\\u0141\\u00d3DZKIE\",\"\\u0141\\u00d3DZKIE\",\"\\u0141\\u00d3DZKIE\",\"\\u0141\\u00d3DZKIE\",\"\\u0141\\u00d3DZKIE\",\"\\u0141\\u00d3DZKIE\",\"\\u0141\\u00d3DZKIE\",\"\\u0141\\u00d3DZKIE\",\"\\u0141\\u00d3DZKIE\",\"\\u0141\\u00d3DZKIE\",\"\\u0141\\u00d3DZKIE\",\"\\u0141\\u00d3DZKIE\",\"\\u0141\\u00d3DZKIE\"],\"legendgroup\":\"\\u0141\\u00d3DZKIE\",\"line\":{\"color\":\"#FFA15A\",\"dash\":\"solid\",\"shape\":\"spline\"},\"marker\":{\"symbol\":\"circle\"},\"mode\":\"lines\",\"name\":\"\\u0141\\u00d3DZKIE\",\"orientation\":\"v\",\"showlegend\":true,\"x\":[1998,1999,2000,2001,2002,2003,2004,2005,2006,2007,2008,2009,2010,2011,2012,2013,2014,2015,2016,2017,2018,2019,2020],\"xaxis\":\"x\",\"y\":[51243.0,57677.0,64253.0,62158.0,64722.0,68976.0,71326.0,73181.0,77412.0,83969.0,92237.0,99773.0,103564.0,104270.0,108325.0,113227.0,111897.0,114623.0,120571.0,131349.0,123233.0,137459.0,122552.0],\"yaxis\":\"y\",\"type\":\"scatter\"},{\"hovertemplate\":\"<b>%{hovertext}</b><br><br>Nazwa=\\u015aL\\u0104SKIE<br>Rok=%{x}<br>Wydatki=%{y}<extra></extra>\",\"hovertext\":[\"\\u015aL\\u0104SKIE\",\"\\u015aL\\u0104SKIE\",\"\\u015aL\\u0104SKIE\",\"\\u015aL\\u0104SKIE\",\"\\u015aL\\u0104SKIE\",\"\\u015aL\\u0104SKIE\",\"\\u015aL\\u0104SKIE\",\"\\u015aL\\u0104SKIE\",\"\\u015aL\\u0104SKIE\",\"\\u015aL\\u0104SKIE\",\"\\u015aL\\u0104SKIE\",\"\\u015aL\\u0104SKIE\",\"\\u015aL\\u0104SKIE\",\"\\u015aL\\u0104SKIE\",\"\\u015aL\\u0104SKIE\",\"\\u015aL\\u0104SKIE\",\"\\u015aL\\u0104SKIE\",\"\\u015aL\\u0104SKIE\",\"\\u015aL\\u0104SKIE\",\"\\u015aL\\u0104SKIE\",\"\\u015aL\\u0104SKIE\",\"\\u015aL\\u0104SKIE\",\"\\u015aL\\u0104SKIE\"],\"legendgroup\":\"\\u015aL\\u0104SKIE\",\"line\":{\"color\":\"#19d3f3\",\"dash\":\"solid\",\"shape\":\"spline\"},\"marker\":{\"symbol\":\"circle\"},\"mode\":\"lines\",\"name\":\"\\u015aL\\u0104SKIE\",\"orientation\":\"v\",\"showlegend\":true,\"x\":[1998,1999,2000,2001,2002,2003,2004,2005,2006,2007,2008,2009,2010,2011,2012,2013,2014,2015,2016,2017,2018,2019,2020],\"xaxis\":\"x\",\"y\":[55517.0,60722.0,64289.0,66054.0,65054.0,68991.0,69641.0,70804.0,75843.0,81109.0,88858.0,95951.0,100593.0,103973.0,110152.0,111809.0,112950.0,113642.0,120237.0,129707.0,128863.0,133036.0,127085.0],\"yaxis\":\"y\",\"type\":\"scatter\"},{\"hovertemplate\":\"<b>%{hovertext}</b><br><br>Nazwa=\\u015aWI\\u0118TOKRZYSKIE<br>Rok=%{x}<br>Wydatki=%{y}<extra></extra>\",\"hovertext\":[\"\\u015aWI\\u0118TOKRZYSKIE\",\"\\u015aWI\\u0118TOKRZYSKIE\",\"\\u015aWI\\u0118TOKRZYSKIE\",\"\\u015aWI\\u0118TOKRZYSKIE\",\"\\u015aWI\\u0118TOKRZYSKIE\",\"\\u015aWI\\u0118TOKRZYSKIE\",\"\\u015aWI\\u0118TOKRZYSKIE\",\"\\u015aWI\\u0118TOKRZYSKIE\",\"\\u015aWI\\u0118TOKRZYSKIE\",\"\\u015aWI\\u0118TOKRZYSKIE\",\"\\u015aWI\\u0118TOKRZYSKIE\",\"\\u015aWI\\u0118TOKRZYSKIE\",\"\\u015aWI\\u0118TOKRZYSKIE\",\"\\u015aWI\\u0118TOKRZYSKIE\",\"\\u015aWI\\u0118TOKRZYSKIE\",\"\\u015aWI\\u0118TOKRZYSKIE\",\"\\u015aWI\\u0118TOKRZYSKIE\",\"\\u015aWI\\u0118TOKRZYSKIE\",\"\\u015aWI\\u0118TOKRZYSKIE\",\"\\u015aWI\\u0118TOKRZYSKIE\",\"\\u015aWI\\u0118TOKRZYSKIE\",\"\\u015aWI\\u0118TOKRZYSKIE\",\"\\u015aWI\\u0118TOKRZYSKIE\"],\"legendgroup\":\"\\u015aWI\\u0118TOKRZYSKIE\",\"line\":{\"color\":\"#FF6692\",\"dash\":\"solid\",\"shape\":\"spline\"},\"marker\":{\"symbol\":\"circle\"},\"mode\":\"lines\",\"name\":\"\\u015aWI\\u0118TOKRZYSKIE\",\"orientation\":\"v\",\"showlegend\":true,\"x\":[1998,1999,2000,2001,2002,2003,2004,2005,2006,2007,2008,2009,2010,2011,2012,2013,2014,2015,2016,2017,2018,2019,2020],\"xaxis\":\"x\",\"y\":[43521.0,47182.0,51698.0,53754.0,54088.0,59564.0,58137.0,57950.0,61206.0,68238.0,74654.0,79207.0,83170.0,84858.0,87480.0,92248.0,96983.0,90317.0,96317.0,103706.0,107511.0,105905.0,99400.0],\"yaxis\":\"y\",\"type\":\"scatter\"}],                        {\"template\":{\"data\":{\"bar\":[{\"error_x\":{\"color\":\"#2a3f5f\"},\"error_y\":{\"color\":\"#2a3f5f\"},\"marker\":{\"line\":{\"color\":\"#E5ECF6\",\"width\":0.5},\"pattern\":{\"fillmode\":\"overlay\",\"size\":10,\"solidity\":0.2}},\"type\":\"bar\"}],\"barpolar\":[{\"marker\":{\"line\":{\"color\":\"#E5ECF6\",\"width\":0.5},\"pattern\":{\"fillmode\":\"overlay\",\"size\":10,\"solidity\":0.2}},\"type\":\"barpolar\"}],\"carpet\":[{\"aaxis\":{\"endlinecolor\":\"#2a3f5f\",\"gridcolor\":\"white\",\"linecolor\":\"white\",\"minorgridcolor\":\"white\",\"startlinecolor\":\"#2a3f5f\"},\"baxis\":{\"endlinecolor\":\"#2a3f5f\",\"gridcolor\":\"white\",\"linecolor\":\"white\",\"minorgridcolor\":\"white\",\"startlinecolor\":\"#2a3f5f\"},\"type\":\"carpet\"}],\"choropleth\":[{\"colorbar\":{\"outlinewidth\":0,\"ticks\":\"\"},\"type\":\"choropleth\"}],\"contour\":[{\"colorbar\":{\"outlinewidth\":0,\"ticks\":\"\"},\"colorscale\":[[0.0,\"#0d0887\"],[0.1111111111111111,\"#46039f\"],[0.2222222222222222,\"#7201a8\"],[0.3333333333333333,\"#9c179e\"],[0.4444444444444444,\"#bd3786\"],[0.5555555555555556,\"#d8576b\"],[0.6666666666666666,\"#ed7953\"],[0.7777777777777778,\"#fb9f3a\"],[0.8888888888888888,\"#fdca26\"],[1.0,\"#f0f921\"]],\"type\":\"contour\"}],\"contourcarpet\":[{\"colorbar\":{\"outlinewidth\":0,\"ticks\":\"\"},\"type\":\"contourcarpet\"}],\"heatmap\":[{\"colorbar\":{\"outlinewidth\":0,\"ticks\":\"\"},\"colorscale\":[[0.0,\"#0d0887\"],[0.1111111111111111,\"#46039f\"],[0.2222222222222222,\"#7201a8\"],[0.3333333333333333,\"#9c179e\"],[0.4444444444444444,\"#bd3786\"],[0.5555555555555556,\"#d8576b\"],[0.6666666666666666,\"#ed7953\"],[0.7777777777777778,\"#fb9f3a\"],[0.8888888888888888,\"#fdca26\"],[1.0,\"#f0f921\"]],\"type\":\"heatmap\"}],\"heatmapgl\":[{\"colorbar\":{\"outlinewidth\":0,\"ticks\":\"\"},\"colorscale\":[[0.0,\"#0d0887\"],[0.1111111111111111,\"#46039f\"],[0.2222222222222222,\"#7201a8\"],[0.3333333333333333,\"#9c179e\"],[0.4444444444444444,\"#bd3786\"],[0.5555555555555556,\"#d8576b\"],[0.6666666666666666,\"#ed7953\"],[0.7777777777777778,\"#fb9f3a\"],[0.8888888888888888,\"#fdca26\"],[1.0,\"#f0f921\"]],\"type\":\"heatmapgl\"}],\"histogram\":[{\"marker\":{\"pattern\":{\"fillmode\":\"overlay\",\"size\":10,\"solidity\":0.2}},\"type\":\"histogram\"}],\"histogram2d\":[{\"colorbar\":{\"outlinewidth\":0,\"ticks\":\"\"},\"colorscale\":[[0.0,\"#0d0887\"],[0.1111111111111111,\"#46039f\"],[0.2222222222222222,\"#7201a8\"],[0.3333333333333333,\"#9c179e\"],[0.4444444444444444,\"#bd3786\"],[0.5555555555555556,\"#d8576b\"],[0.6666666666666666,\"#ed7953\"],[0.7777777777777778,\"#fb9f3a\"],[0.8888888888888888,\"#fdca26\"],[1.0,\"#f0f921\"]],\"type\":\"histogram2d\"}],\"histogram2dcontour\":[{\"colorbar\":{\"outlinewidth\":0,\"ticks\":\"\"},\"colorscale\":[[0.0,\"#0d0887\"],[0.1111111111111111,\"#46039f\"],[0.2222222222222222,\"#7201a8\"],[0.3333333333333333,\"#9c179e\"],[0.4444444444444444,\"#bd3786\"],[0.5555555555555556,\"#d8576b\"],[0.6666666666666666,\"#ed7953\"],[0.7777777777777778,\"#fb9f3a\"],[0.8888888888888888,\"#fdca26\"],[1.0,\"#f0f921\"]],\"type\":\"histogram2dcontour\"}],\"mesh3d\":[{\"colorbar\":{\"outlinewidth\":0,\"ticks\":\"\"},\"type\":\"mesh3d\"}],\"parcoords\":[{\"line\":{\"colorbar\":{\"outlinewidth\":0,\"ticks\":\"\"}},\"type\":\"parcoords\"}],\"pie\":[{\"automargin\":true,\"type\":\"pie\"}],\"scatter\":[{\"marker\":{\"colorbar\":{\"outlinewidth\":0,\"ticks\":\"\"}},\"type\":\"scatter\"}],\"scatter3d\":[{\"line\":{\"colorbar\":{\"outlinewidth\":0,\"ticks\":\"\"}},\"marker\":{\"colorbar\":{\"outlinewidth\":0,\"ticks\":\"\"}},\"type\":\"scatter3d\"}],\"scattercarpet\":[{\"marker\":{\"colorbar\":{\"outlinewidth\":0,\"ticks\":\"\"}},\"type\":\"scattercarpet\"}],\"scattergeo\":[{\"marker\":{\"colorbar\":{\"outlinewidth\":0,\"ticks\":\"\"}},\"type\":\"scattergeo\"}],\"scattergl\":[{\"marker\":{\"colorbar\":{\"outlinewidth\":0,\"ticks\":\"\"}},\"type\":\"scattergl\"}],\"scattermapbox\":[{\"marker\":{\"colorbar\":{\"outlinewidth\":0,\"ticks\":\"\"}},\"type\":\"scattermapbox\"}],\"scatterpolar\":[{\"marker\":{\"colorbar\":{\"outlinewidth\":0,\"ticks\":\"\"}},\"type\":\"scatterpolar\"}],\"scatterpolargl\":[{\"marker\":{\"colorbar\":{\"outlinewidth\":0,\"ticks\":\"\"}},\"type\":\"scatterpolargl\"}],\"scatterternary\":[{\"marker\":{\"colorbar\":{\"outlinewidth\":0,\"ticks\":\"\"}},\"type\":\"scatterternary\"}],\"surface\":[{\"colorbar\":{\"outlinewidth\":0,\"ticks\":\"\"},\"colorscale\":[[0.0,\"#0d0887\"],[0.1111111111111111,\"#46039f\"],[0.2222222222222222,\"#7201a8\"],[0.3333333333333333,\"#9c179e\"],[0.4444444444444444,\"#bd3786\"],[0.5555555555555556,\"#d8576b\"],[0.6666666666666666,\"#ed7953\"],[0.7777777777777778,\"#fb9f3a\"],[0.8888888888888888,\"#fdca26\"],[1.0,\"#f0f921\"]],\"type\":\"surface\"}],\"table\":[{\"cells\":{\"fill\":{\"color\":\"#EBF0F8\"},\"line\":{\"color\":\"white\"}},\"header\":{\"fill\":{\"color\":\"#C8D4E3\"},\"line\":{\"color\":\"white\"}},\"type\":\"table\"}]},\"layout\":{\"annotationdefaults\":{\"arrowcolor\":\"#2a3f5f\",\"arrowhead\":0,\"arrowwidth\":1},\"autotypenumbers\":\"strict\",\"coloraxis\":{\"colorbar\":{\"outlinewidth\":0,\"ticks\":\"\"}},\"colorscale\":{\"diverging\":[[0,\"#8e0152\"],[0.1,\"#c51b7d\"],[0.2,\"#de77ae\"],[0.3,\"#f1b6da\"],[0.4,\"#fde0ef\"],[0.5,\"#f7f7f7\"],[0.6,\"#e6f5d0\"],[0.7,\"#b8e186\"],[0.8,\"#7fbc41\"],[0.9,\"#4d9221\"],[1,\"#276419\"]],\"sequential\":[[0.0,\"#0d0887\"],[0.1111111111111111,\"#46039f\"],[0.2222222222222222,\"#7201a8\"],[0.3333333333333333,\"#9c179e\"],[0.4444444444444444,\"#bd3786\"],[0.5555555555555556,\"#d8576b\"],[0.6666666666666666,\"#ed7953\"],[0.7777777777777778,\"#fb9f3a\"],[0.8888888888888888,\"#fdca26\"],[1.0,\"#f0f921\"]],\"sequentialminus\":[[0.0,\"#0d0887\"],[0.1111111111111111,\"#46039f\"],[0.2222222222222222,\"#7201a8\"],[0.3333333333333333,\"#9c179e\"],[0.4444444444444444,\"#bd3786\"],[0.5555555555555556,\"#d8576b\"],[0.6666666666666666,\"#ed7953\"],[0.7777777777777778,\"#fb9f3a\"],[0.8888888888888888,\"#fdca26\"],[1.0,\"#f0f921\"]]},\"colorway\":[\"#636efa\",\"#EF553B\",\"#00cc96\",\"#ab63fa\",\"#FFA15A\",\"#19d3f3\",\"#FF6692\",\"#B6E880\",\"#FF97FF\",\"#FECB52\"],\"font\":{\"color\":\"#2a3f5f\"},\"geo\":{\"bgcolor\":\"white\",\"lakecolor\":\"white\",\"landcolor\":\"#E5ECF6\",\"showlakes\":true,\"showland\":true,\"subunitcolor\":\"white\"},\"hoverlabel\":{\"align\":\"left\"},\"hovermode\":\"closest\",\"mapbox\":{\"style\":\"light\"},\"paper_bgcolor\":\"white\",\"plot_bgcolor\":\"#E5ECF6\",\"polar\":{\"angularaxis\":{\"gridcolor\":\"white\",\"linecolor\":\"white\",\"ticks\":\"\"},\"bgcolor\":\"#E5ECF6\",\"radialaxis\":{\"gridcolor\":\"white\",\"linecolor\":\"white\",\"ticks\":\"\"}},\"scene\":{\"xaxis\":{\"backgroundcolor\":\"#E5ECF6\",\"gridcolor\":\"white\",\"gridwidth\":2,\"linecolor\":\"white\",\"showbackground\":true,\"ticks\":\"\",\"zerolinecolor\":\"white\"},\"yaxis\":{\"backgroundcolor\":\"#E5ECF6\",\"gridcolor\":\"white\",\"gridwidth\":2,\"linecolor\":\"white\",\"showbackground\":true,\"ticks\":\"\",\"zerolinecolor\":\"white\"},\"zaxis\":{\"backgroundcolor\":\"#E5ECF6\",\"gridcolor\":\"white\",\"gridwidth\":2,\"linecolor\":\"white\",\"showbackground\":true,\"ticks\":\"\",\"zerolinecolor\":\"white\"}},\"shapedefaults\":{\"line\":{\"color\":\"#2a3f5f\"}},\"ternary\":{\"aaxis\":{\"gridcolor\":\"white\",\"linecolor\":\"white\",\"ticks\":\"\"},\"baxis\":{\"gridcolor\":\"white\",\"linecolor\":\"white\",\"ticks\":\"\"},\"bgcolor\":\"#E5ECF6\",\"caxis\":{\"gridcolor\":\"white\",\"linecolor\":\"white\",\"ticks\":\"\"}},\"title\":{\"x\":0.05},\"xaxis\":{\"automargin\":true,\"gridcolor\":\"white\",\"linecolor\":\"white\",\"ticks\":\"\",\"title\":{\"standoff\":15},\"zerolinecolor\":\"white\",\"zerolinewidth\":2},\"yaxis\":{\"automargin\":true,\"gridcolor\":\"white\",\"linecolor\":\"white\",\"ticks\":\"\",\"title\":{\"standoff\":15},\"zerolinecolor\":\"white\",\"zerolinewidth\":2}}},\"xaxis\":{\"anchor\":\"y\",\"domain\":[0.0,1.0],\"title\":{\"text\":\"Rok\"}},\"yaxis\":{\"anchor\":\"x\",\"domain\":[0.0,1.0],\"title\":{\"text\":\"Wydatki\"}},\"legend\":{\"title\":{\"text\":\"Nazwa\"},\"tracegroupgap\":0},\"margin\":{\"t\":60}},                        {\"responsive\": true}                    ).then(function(){\n                            \nvar gd = document.getElementById('a9d35e9d-7741-4e5d-9291-3f987b3f7db5');\nvar x = new MutationObserver(function (mutations, observer) {{\n        var display = window.getComputedStyle(gd).display;\n        if (!display || display === 'none') {{\n            console.log([gd, 'removed!']);\n            Plotly.purge(gd);\n            observer.disconnect();\n        }}\n}});\n\n// Listen for the removal of the full notebook cells\nvar notebookContainer = gd.closest('#notebook-container');\nif (notebookContainer) {{\n    x.observe(notebookContainer, {childList: true});\n}}\n\n// Listen for the clearing of the current output cell\nvar outputEl = gd.closest('.output');\nif (outputEl) {{\n    x.observe(outputEl, {childList: true});\n}}\n\n                        })                };                });            </script>        </div>"
     },
     "metadata": {},
     "output_type": "display_data"
    },
    {
     "data": {
      "application/vnd.plotly.v1+json": {
       "data": [
        {
         "hovertemplate": "<b>%{hovertext}</b><br><br>Nazwa=DOLNOŚLĄSKIE<br>Rok=%{x}<br>Oszczędności=%{y}<extra></extra>",
         "hovertext": [
          "DOLNOŚLĄSKIE",
          "DOLNOŚLĄSKIE",
          "DOLNOŚLĄSKIE",
          "DOLNOŚLĄSKIE",
          "DOLNOŚLĄSKIE",
          "DOLNOŚLĄSKIE",
          "DOLNOŚLĄSKIE",
          "DOLNOŚLĄSKIE",
          "DOLNOŚLĄSKIE",
          "DOLNOŚLĄSKIE",
          "DOLNOŚLĄSKIE",
          "DOLNOŚLĄSKIE",
          "DOLNOŚLĄSKIE",
          "DOLNOŚLĄSKIE",
          "DOLNOŚLĄSKIE",
          "DOLNOŚLĄSKIE",
          "DOLNOŚLĄSKIE",
          "DOLNOŚLĄSKIE",
          "DOLNOŚLĄSKIE",
          "DOLNOŚLĄSKIE",
          "DOLNOŚLĄSKIE",
          "DOLNOŚLĄSKIE",
          "DOLNOŚLĄSKIE"
         ],
         "legendgroup": "DOLNOŚLĄSKIE",
         "line": {
          "color": "#636efa",
          "dash": "solid",
          "shape": "spline"
         },
         "marker": {
          "symbol": "circle"
         },
         "mode": "lines",
         "name": "DOLNOŚLĄSKIE",
         "orientation": "v",
         "showlegend": true,
         "x": [
          1998,
          1999,
          2000,
          2001,
          2002,
          2003,
          2004,
          2005,
          2006,
          2007,
          2008,
          2009,
          2010,
          2011,
          2012,
          2013,
          2014,
          2015,
          2016,
          2017,
          2018,
          2019,
          2020
         ],
         "xaxis": "x",
         "y": [
          null,
          -2283.0,
          -336.0,
          4336.0,
          6696.0,
          4417.0,
          6075.0,
          7812.0,
          9377.0,
          10025.0,
          16090.0,
          16109.0,
          22024.0,
          22544.0,
          23589.0,
          21967.0,
          23576.0,
          29318.0,
          37444.0,
          40411.0,
          47270.0,
          57258.0,
          67595.0
         ],
         "yaxis": "y",
         "type": "scatter"
        },
        {
         "hovertemplate": "<b>%{hovertext}</b><br><br>Nazwa=KUJAWSKO-POMORSKIE<br>Rok=%{x}<br>Oszczędności=%{y}<extra></extra>",
         "hovertext": [
          "KUJAWSKO-POMORSKIE",
          "KUJAWSKO-POMORSKIE",
          "KUJAWSKO-POMORSKIE",
          "KUJAWSKO-POMORSKIE",
          "KUJAWSKO-POMORSKIE",
          "KUJAWSKO-POMORSKIE",
          "KUJAWSKO-POMORSKIE",
          "KUJAWSKO-POMORSKIE",
          "KUJAWSKO-POMORSKIE",
          "KUJAWSKO-POMORSKIE",
          "KUJAWSKO-POMORSKIE",
          "KUJAWSKO-POMORSKIE",
          "KUJAWSKO-POMORSKIE",
          "KUJAWSKO-POMORSKIE",
          "KUJAWSKO-POMORSKIE",
          "KUJAWSKO-POMORSKIE",
          "KUJAWSKO-POMORSKIE",
          "KUJAWSKO-POMORSKIE",
          "KUJAWSKO-POMORSKIE",
          "KUJAWSKO-POMORSKIE",
          "KUJAWSKO-POMORSKIE",
          "KUJAWSKO-POMORSKIE",
          "KUJAWSKO-POMORSKIE"
         ],
         "legendgroup": "KUJAWSKO-POMORSKIE",
         "line": {
          "color": "#EF553B",
          "dash": "solid",
          "shape": "spline"
         },
         "marker": {
          "symbol": "circle"
         },
         "mode": "lines",
         "name": "KUJAWSKO-POMORSKIE",
         "orientation": "v",
         "showlegend": true,
         "x": [
          1998,
          1999,
          2000,
          2001,
          2002,
          2003,
          2004,
          2005,
          2006,
          2007,
          2008,
          2009,
          2010,
          2011,
          2012,
          2013,
          2014,
          2015,
          2016,
          2017,
          2018,
          2019,
          2020
         ],
         "xaxis": "x",
         "y": [
          null,
          3696.0,
          3236.0,
          3590.0,
          5974.0,
          2172.0,
          3146.0,
          6136.0,
          9682.0,
          16154.0,
          15189.0,
          13940.0,
          23486.0,
          18619.0,
          19228.0,
          17728.0,
          21394.0,
          22315.0,
          25815.0,
          34104.0,
          46151.0,
          53850.0,
          67675.0
         ],
         "yaxis": "y",
         "type": "scatter"
        },
        {
         "hovertemplate": "<b>%{hovertext}</b><br><br>Nazwa=LUBELSKIE<br>Rok=%{x}<br>Oszczędności=%{y}<extra></extra>",
         "hovertext": [
          "LUBELSKIE",
          "LUBELSKIE",
          "LUBELSKIE",
          "LUBELSKIE",
          "LUBELSKIE",
          "LUBELSKIE",
          "LUBELSKIE",
          "LUBELSKIE",
          "LUBELSKIE",
          "LUBELSKIE",
          "LUBELSKIE",
          "LUBELSKIE",
          "LUBELSKIE",
          "LUBELSKIE",
          "LUBELSKIE",
          "LUBELSKIE",
          "LUBELSKIE",
          "LUBELSKIE",
          "LUBELSKIE",
          "LUBELSKIE",
          "LUBELSKIE",
          "LUBELSKIE",
          "LUBELSKIE"
         ],
         "legendgroup": "LUBELSKIE",
         "line": {
          "color": "#00cc96",
          "dash": "solid",
          "shape": "spline"
         },
         "marker": {
          "symbol": "circle"
         },
         "mode": "lines",
         "name": "LUBELSKIE",
         "orientation": "v",
         "showlegend": true,
         "x": [
          1998,
          1999,
          2000,
          2001,
          2002,
          2003,
          2004,
          2005,
          2006,
          2007,
          2008,
          2009,
          2010,
          2011,
          2012,
          2013,
          2014,
          2015,
          2016,
          2017,
          2018,
          2019,
          2020
         ],
         "xaxis": "x",
         "y": [
          null,
          34.0,
          -1191.0,
          2429.0,
          1093.0,
          2978.0,
          2454.0,
          4286.0,
          4696.0,
          8640.0,
          6992.0,
          8201.0,
          15296.0,
          16963.0,
          13851.0,
          17647.0,
          22622.0,
          25546.0,
          26969.0,
          35005.0,
          44203.0,
          44241.0,
          54645.0
         ],
         "yaxis": "y",
         "type": "scatter"
        },
        {
         "hovertemplate": "<b>%{hovertext}</b><br><br>Nazwa=LUBUSKIE<br>Rok=%{x}<br>Oszczędności=%{y}<extra></extra>",
         "hovertext": [
          "LUBUSKIE",
          "LUBUSKIE",
          "LUBUSKIE",
          "LUBUSKIE",
          "LUBUSKIE",
          "LUBUSKIE",
          "LUBUSKIE",
          "LUBUSKIE",
          "LUBUSKIE",
          "LUBUSKIE",
          "LUBUSKIE",
          "LUBUSKIE",
          "LUBUSKIE",
          "LUBUSKIE",
          "LUBUSKIE",
          "LUBUSKIE",
          "LUBUSKIE",
          "LUBUSKIE",
          "LUBUSKIE",
          "LUBUSKIE",
          "LUBUSKIE",
          "LUBUSKIE",
          "LUBUSKIE"
         ],
         "legendgroup": "LUBUSKIE",
         "line": {
          "color": "#ab63fa",
          "dash": "solid",
          "shape": "spline"
         },
         "marker": {
          "symbol": "circle"
         },
         "mode": "lines",
         "name": "LUBUSKIE",
         "orientation": "v",
         "showlegend": true,
         "x": [
          1998,
          1999,
          2000,
          2001,
          2002,
          2003,
          2004,
          2005,
          2006,
          2007,
          2008,
          2009,
          2010,
          2011,
          2012,
          2013,
          2014,
          2015,
          2016,
          2017,
          2018,
          2019,
          2020
         ],
         "xaxis": "x",
         "y": [
          null,
          -4195.0,
          559.0,
          2753.0,
          3669.0,
          1511.0,
          -3281.0,
          -2623.0,
          7038.0,
          9786.0,
          12448.0,
          16542.0,
          18076.0,
          21425.0,
          22464.0,
          23277.0,
          23388.0,
          30128.0,
          33687.0,
          45985.0,
          52105.0,
          57041.0,
          81417.0
         ],
         "yaxis": "y",
         "type": "scatter"
        },
        {
         "hovertemplate": "<b>%{hovertext}</b><br><br>Nazwa=MAZOWIECKIE<br>Rok=%{x}<br>Oszczędności=%{y}<extra></extra>",
         "hovertext": [
          "MAZOWIECKIE",
          "MAZOWIECKIE",
          "MAZOWIECKIE",
          "MAZOWIECKIE",
          "MAZOWIECKIE",
          "MAZOWIECKIE",
          "MAZOWIECKIE",
          "MAZOWIECKIE",
          "MAZOWIECKIE",
          "MAZOWIECKIE",
          "MAZOWIECKIE",
          "MAZOWIECKIE",
          "MAZOWIECKIE",
          "MAZOWIECKIE",
          "MAZOWIECKIE",
          "MAZOWIECKIE",
          "MAZOWIECKIE",
          "MAZOWIECKIE",
          "MAZOWIECKIE",
          "MAZOWIECKIE",
          "MAZOWIECKIE",
          "MAZOWIECKIE",
          "MAZOWIECKIE"
         ],
         "legendgroup": "MAZOWIECKIE",
         "line": {
          "color": "#FFA15A",
          "dash": "solid",
          "shape": "spline"
         },
         "marker": {
          "symbol": "circle"
         },
         "mode": "lines",
         "name": "MAZOWIECKIE",
         "orientation": "v",
         "showlegend": true,
         "x": [
          1998,
          1999,
          2000,
          2001,
          2002,
          2003,
          2004,
          2005,
          2006,
          2007,
          2008,
          2009,
          2010,
          2011,
          2012,
          2013,
          2014,
          2015,
          2016,
          2017,
          2018,
          2019,
          2020
         ],
         "xaxis": "x",
         "y": [
          null,
          3993.0,
          4615.0,
          6216.0,
          5153.0,
          5932.0,
          7698.0,
          12076.0,
          14705.0,
          19689.0,
          18919.0,
          20545.0,
          30212.0,
          31461.0,
          35612.0,
          35942.0,
          34821.0,
          38544.0,
          41100.0,
          49139.0,
          61046.0,
          63175.0,
          79751.0
         ],
         "yaxis": "y",
         "type": "scatter"
        },
        {
         "hovertemplate": "<b>%{hovertext}</b><br><br>Nazwa=MAŁOPOLSKIE<br>Rok=%{x}<br>Oszczędności=%{y}<extra></extra>",
         "hovertext": [
          "MAŁOPOLSKIE",
          "MAŁOPOLSKIE",
          "MAŁOPOLSKIE",
          "MAŁOPOLSKIE",
          "MAŁOPOLSKIE",
          "MAŁOPOLSKIE",
          "MAŁOPOLSKIE",
          "MAŁOPOLSKIE",
          "MAŁOPOLSKIE",
          "MAŁOPOLSKIE",
          "MAŁOPOLSKIE",
          "MAŁOPOLSKIE",
          "MAŁOPOLSKIE",
          "MAŁOPOLSKIE",
          "MAŁOPOLSKIE",
          "MAŁOPOLSKIE",
          "MAŁOPOLSKIE",
          "MAŁOPOLSKIE",
          "MAŁOPOLSKIE",
          "MAŁOPOLSKIE",
          "MAŁOPOLSKIE",
          "MAŁOPOLSKIE",
          "MAŁOPOLSKIE"
         ],
         "legendgroup": "MAŁOPOLSKIE",
         "line": {
          "color": "#19d3f3",
          "dash": "solid",
          "shape": "spline"
         },
         "marker": {
          "symbol": "circle"
         },
         "mode": "lines",
         "name": "MAŁOPOLSKIE",
         "orientation": "v",
         "showlegend": true,
         "x": [
          1998,
          1999,
          2000,
          2001,
          2002,
          2003,
          2004,
          2005,
          2006,
          2007,
          2008,
          2009,
          2010,
          2011,
          2012,
          2013,
          2014,
          2015,
          2016,
          2017,
          2018,
          2019,
          2020
         ],
         "xaxis": "x",
         "y": [
          null,
          2583.0,
          364.0,
          1411.0,
          2411.0,
          2307.0,
          3684.0,
          5949.0,
          6262.0,
          8779.0,
          11130.0,
          14138.0,
          15772.0,
          17420.0,
          19850.0,
          20803.0,
          26007.0,
          31968.0,
          38273.0,
          48584.0,
          61043.0,
          69535.0,
          87322.0
         ],
         "yaxis": "y",
         "type": "scatter"
        },
        {
         "hovertemplate": "<b>%{hovertext}</b><br><br>Nazwa=OPOLSKIE<br>Rok=%{x}<br>Oszczędności=%{y}<extra></extra>",
         "hovertext": [
          "OPOLSKIE",
          "OPOLSKIE",
          "OPOLSKIE",
          "OPOLSKIE",
          "OPOLSKIE",
          "OPOLSKIE",
          "OPOLSKIE",
          "OPOLSKIE",
          "OPOLSKIE",
          "OPOLSKIE",
          "OPOLSKIE",
          "OPOLSKIE",
          "OPOLSKIE",
          "OPOLSKIE",
          "OPOLSKIE",
          "OPOLSKIE",
          "OPOLSKIE",
          "OPOLSKIE",
          "OPOLSKIE",
          "OPOLSKIE",
          "OPOLSKIE",
          "OPOLSKIE",
          "OPOLSKIE"
         ],
         "legendgroup": "OPOLSKIE",
         "line": {
          "color": "#FF6692",
          "dash": "solid",
          "shape": "spline"
         },
         "marker": {
          "symbol": "circle"
         },
         "mode": "lines",
         "name": "OPOLSKIE",
         "orientation": "v",
         "showlegend": true,
         "x": [
          1998,
          1999,
          2000,
          2001,
          2002,
          2003,
          2004,
          2005,
          2006,
          2007,
          2008,
          2009,
          2010,
          2011,
          2012,
          2013,
          2014,
          2015,
          2016,
          2017,
          2018,
          2019,
          2020
         ],
         "xaxis": "x",
         "y": [
          null,
          -4802.0,
          3159.0,
          1803.0,
          3749.0,
          820.0,
          1715.0,
          1865.0,
          3278.0,
          6964.0,
          6385.0,
          6594.0,
          9383.0,
          13333.0,
          22527.0,
          12582.0,
          19590.0,
          18575.0,
          19488.0,
          27402.0,
          39953.0,
          35517.0,
          42401.0
         ],
         "yaxis": "y",
         "type": "scatter"
        },
        {
         "hovertemplate": "<b>%{hovertext}</b><br><br>Nazwa=PODKARPACKIE<br>Rok=%{x}<br>Oszczędności=%{y}<extra></extra>",
         "hovertext": [
          "PODKARPACKIE",
          "PODKARPACKIE",
          "PODKARPACKIE",
          "PODKARPACKIE",
          "PODKARPACKIE",
          "PODKARPACKIE",
          "PODKARPACKIE",
          "PODKARPACKIE",
          "PODKARPACKIE",
          "PODKARPACKIE",
          "PODKARPACKIE",
          "PODKARPACKIE",
          "PODKARPACKIE",
          "PODKARPACKIE",
          "PODKARPACKIE",
          "PODKARPACKIE",
          "PODKARPACKIE",
          "PODKARPACKIE",
          "PODKARPACKIE",
          "PODKARPACKIE",
          "PODKARPACKIE",
          "PODKARPACKIE",
          "PODKARPACKIE"
         ],
         "legendgroup": "PODKARPACKIE",
         "line": {
          "color": "#B6E880",
          "dash": "solid",
          "shape": "spline"
         },
         "marker": {
          "symbol": "circle"
         },
         "mode": "lines",
         "name": "PODKARPACKIE",
         "orientation": "v",
         "showlegend": true,
         "x": [
          1998,
          1999,
          2000,
          2001,
          2002,
          2003,
          2004,
          2005,
          2006,
          2007,
          2008,
          2009,
          2010,
          2011,
          2012,
          2013,
          2014,
          2015,
          2016,
          2017,
          2018,
          2019,
          2020
         ],
         "xaxis": "x",
         "y": [
          null,
          506.0,
          -985.0,
          291.0,
          258.0,
          -838.0,
          -1432.0,
          2975.0,
          2242.0,
          4085.0,
          4861.0,
          5081.0,
          8728.0,
          9485.0,
          11673.0,
          12303.0,
          15207.0,
          15932.0,
          23192.0,
          31239.0,
          38704.0,
          45580.0,
          65763.0
         ],
         "yaxis": "y",
         "type": "scatter"
        },
        {
         "hovertemplate": "<b>%{hovertext}</b><br><br>Nazwa=PODLASKIE<br>Rok=%{x}<br>Oszczędności=%{y}<extra></extra>",
         "hovertext": [
          "PODLASKIE",
          "PODLASKIE",
          "PODLASKIE",
          "PODLASKIE",
          "PODLASKIE",
          "PODLASKIE",
          "PODLASKIE",
          "PODLASKIE",
          "PODLASKIE",
          "PODLASKIE",
          "PODLASKIE",
          "PODLASKIE",
          "PODLASKIE",
          "PODLASKIE",
          "PODLASKIE",
          "PODLASKIE",
          "PODLASKIE",
          "PODLASKIE",
          "PODLASKIE",
          "PODLASKIE",
          "PODLASKIE",
          "PODLASKIE",
          "PODLASKIE"
         ],
         "legendgroup": "PODLASKIE",
         "line": {
          "color": "#FF97FF",
          "dash": "solid",
          "shape": "spline"
         },
         "marker": {
          "symbol": "circle"
         },
         "mode": "lines",
         "name": "PODLASKIE",
         "orientation": "v",
         "showlegend": true,
         "x": [
          1998,
          1999,
          2000,
          2001,
          2002,
          2003,
          2004,
          2005,
          2006,
          2007,
          2008,
          2009,
          2010,
          2011,
          2012,
          2013,
          2014,
          2015,
          2016,
          2017,
          2018,
          2019,
          2020
         ],
         "xaxis": "x",
         "y": [
          null,
          -447.0,
          -1129.0,
          610.0,
          3165.0,
          -862.0,
          2988.0,
          7462.0,
          10748.0,
          14653.0,
          13265.0,
          19521.0,
          25264.0,
          32150.0,
          30055.0,
          34055.0,
          28047.0,
          25450.0,
          39953.0,
          55811.0,
          53066.0,
          71219.0,
          92794.0
         ],
         "yaxis": "y",
         "type": "scatter"
        },
        {
         "hovertemplate": "<b>%{hovertext}</b><br><br>Nazwa=POLSKA<br>Rok=%{x}<br>Oszczędności=%{y}<extra></extra>",
         "hovertext": [
          "POLSKA",
          "POLSKA",
          "POLSKA",
          "POLSKA",
          "POLSKA",
          "POLSKA",
          "POLSKA",
          "POLSKA",
          "POLSKA",
          "POLSKA",
          "POLSKA",
          "POLSKA",
          "POLSKA",
          "POLSKA",
          "POLSKA",
          "POLSKA",
          "POLSKA",
          "POLSKA",
          "POLSKA",
          "POLSKA",
          "POLSKA",
          "POLSKA",
          "POLSKA"
         ],
         "legendgroup": "POLSKA",
         "line": {
          "color": "#FECB52",
          "dash": "solid",
          "shape": "spline"
         },
         "marker": {
          "symbol": "circle"
         },
         "mode": "lines",
         "name": "POLSKA",
         "orientation": "v",
         "showlegend": true,
         "x": [
          1998,
          1999,
          2000,
          2001,
          2002,
          2003,
          2004,
          2005,
          2006,
          2007,
          2008,
          2009,
          2010,
          2011,
          2012,
          2013,
          2014,
          2015,
          2016,
          2017,
          2018,
          2019,
          2020
         ],
         "xaxis": "x",
         "y": [
          null,
          1067.0,
          1102.0,
          3476.0,
          3922.0,
          3415.0,
          4070.0,
          7116.0,
          8987.0,
          11892.0,
          14125.0,
          15781.0,
          20138.0,
          21183.0,
          22765.0,
          23737.0,
          26170.0,
          29497.0,
          34292.0,
          42169.0,
          50660.0,
          56741.0,
          70963.0
         ],
         "yaxis": "y",
         "type": "scatter"
        },
        {
         "hovertemplate": "<b>%{hovertext}</b><br><br>Nazwa=POMORSKIE<br>Rok=%{x}<br>Oszczędności=%{y}<extra></extra>",
         "hovertext": [
          "POMORSKIE",
          "POMORSKIE",
          "POMORSKIE",
          "POMORSKIE",
          "POMORSKIE",
          "POMORSKIE",
          "POMORSKIE",
          "POMORSKIE",
          "POMORSKIE",
          "POMORSKIE",
          "POMORSKIE",
          "POMORSKIE",
          "POMORSKIE",
          "POMORSKIE",
          "POMORSKIE",
          "POMORSKIE",
          "POMORSKIE",
          "POMORSKIE",
          "POMORSKIE",
          "POMORSKIE",
          "POMORSKIE",
          "POMORSKIE",
          "POMORSKIE"
         ],
         "legendgroup": "POMORSKIE",
         "line": {
          "color": "#636efa",
          "dash": "solid",
          "shape": "spline"
         },
         "marker": {
          "symbol": "circle"
         },
         "mode": "lines",
         "name": "POMORSKIE",
         "orientation": "v",
         "showlegend": true,
         "x": [
          1998,
          1999,
          2000,
          2001,
          2002,
          2003,
          2004,
          2005,
          2006,
          2007,
          2008,
          2009,
          2010,
          2011,
          2012,
          2013,
          2014,
          2015,
          2016,
          2017,
          2018,
          2019,
          2020
         ],
         "xaxis": "x",
         "y": [
          null,
          4652.0,
          980.0,
          6071.0,
          7795.0,
          6844.0,
          3177.0,
          10397.0,
          12545.0,
          16634.0,
          18539.0,
          18739.0,
          24407.0,
          22569.0,
          28218.0,
          34972.0,
          28144.0,
          32239.0,
          38191.0,
          45137.0,
          44855.0,
          49948.0,
          47040.0
         ],
         "yaxis": "y",
         "type": "scatter"
        },
        {
         "hovertemplate": "<b>%{hovertext}</b><br><br>Nazwa=WARMIŃSKO-MAZURSKIE<br>Rok=%{x}<br>Oszczędności=%{y}<extra></extra>",
         "hovertext": [
          "WARMIŃSKO-MAZURSKIE",
          "WARMIŃSKO-MAZURSKIE",
          "WARMIŃSKO-MAZURSKIE",
          "WARMIŃSKO-MAZURSKIE",
          "WARMIŃSKO-MAZURSKIE",
          "WARMIŃSKO-MAZURSKIE",
          "WARMIŃSKO-MAZURSKIE",
          "WARMIŃSKO-MAZURSKIE",
          "WARMIŃSKO-MAZURSKIE",
          "WARMIŃSKO-MAZURSKIE",
          "WARMIŃSKO-MAZURSKIE",
          "WARMIŃSKO-MAZURSKIE",
          "WARMIŃSKO-MAZURSKIE",
          "WARMIŃSKO-MAZURSKIE",
          "WARMIŃSKO-MAZURSKIE",
          "WARMIŃSKO-MAZURSKIE",
          "WARMIŃSKO-MAZURSKIE",
          "WARMIŃSKO-MAZURSKIE",
          "WARMIŃSKO-MAZURSKIE",
          "WARMIŃSKO-MAZURSKIE",
          "WARMIŃSKO-MAZURSKIE",
          "WARMIŃSKO-MAZURSKIE",
          "WARMIŃSKO-MAZURSKIE"
         ],
         "legendgroup": "WARMIŃSKO-MAZURSKIE",
         "line": {
          "color": "#EF553B",
          "dash": "solid",
          "shape": "spline"
         },
         "marker": {
          "symbol": "circle"
         },
         "mode": "lines",
         "name": "WARMIŃSKO-MAZURSKIE",
         "orientation": "v",
         "showlegend": true,
         "x": [
          1998,
          1999,
          2000,
          2001,
          2002,
          2003,
          2004,
          2005,
          2006,
          2007,
          2008,
          2009,
          2010,
          2011,
          2012,
          2013,
          2014,
          2015,
          2016,
          2017,
          2018,
          2019,
          2020
         ],
         "xaxis": "x",
         "y": [
          null,
          -709.0,
          478.0,
          4084.0,
          4207.0,
          4201.0,
          6700.0,
          9578.0,
          10237.0,
          12515.0,
          16974.0,
          21178.0,
          23724.0,
          22657.0,
          23272.0,
          22549.0,
          30712.0,
          37560.0,
          40753.0,
          51472.0,
          57295.0,
          59028.0,
          81063.0
         ],
         "yaxis": "y",
         "type": "scatter"
        },
        {
         "hovertemplate": "<b>%{hovertext}</b><br><br>Nazwa=WIELKOPOLSKIE<br>Rok=%{x}<br>Oszczędności=%{y}<extra></extra>",
         "hovertext": [
          "WIELKOPOLSKIE",
          "WIELKOPOLSKIE",
          "WIELKOPOLSKIE",
          "WIELKOPOLSKIE",
          "WIELKOPOLSKIE",
          "WIELKOPOLSKIE",
          "WIELKOPOLSKIE",
          "WIELKOPOLSKIE",
          "WIELKOPOLSKIE",
          "WIELKOPOLSKIE",
          "WIELKOPOLSKIE",
          "WIELKOPOLSKIE",
          "WIELKOPOLSKIE",
          "WIELKOPOLSKIE",
          "WIELKOPOLSKIE",
          "WIELKOPOLSKIE",
          "WIELKOPOLSKIE",
          "WIELKOPOLSKIE",
          "WIELKOPOLSKIE",
          "WIELKOPOLSKIE",
          "WIELKOPOLSKIE",
          "WIELKOPOLSKIE",
          "WIELKOPOLSKIE"
         ],
         "legendgroup": "WIELKOPOLSKIE",
         "line": {
          "color": "#00cc96",
          "dash": "solid",
          "shape": "spline"
         },
         "marker": {
          "symbol": "circle"
         },
         "mode": "lines",
         "name": "WIELKOPOLSKIE",
         "orientation": "v",
         "showlegend": true,
         "x": [
          1998,
          1999,
          2000,
          2001,
          2002,
          2003,
          2004,
          2005,
          2006,
          2007,
          2008,
          2009,
          2010,
          2011,
          2012,
          2013,
          2014,
          2015,
          2016,
          2017,
          2018,
          2019,
          2020
         ],
         "xaxis": "x",
         "y": [
          null,
          4888.0,
          2403.0,
          5672.0,
          5206.0,
          6606.0,
          4592.0,
          7261.0,
          10871.0,
          13647.0,
          17895.0,
          21776.0,
          22447.0,
          22136.0,
          22410.0,
          25407.0,
          32172.0,
          32859.0,
          40237.0,
          55526.0,
          57832.0,
          64416.0,
          66578.0
         ],
         "yaxis": "y",
         "type": "scatter"
        },
        {
         "hovertemplate": "<b>%{hovertext}</b><br><br>Nazwa=ZACHODNIOPOMORSKIE<br>Rok=%{x}<br>Oszczędności=%{y}<extra></extra>",
         "hovertext": [
          "ZACHODNIOPOMORSKIE",
          "ZACHODNIOPOMORSKIE",
          "ZACHODNIOPOMORSKIE",
          "ZACHODNIOPOMORSKIE",
          "ZACHODNIOPOMORSKIE",
          "ZACHODNIOPOMORSKIE",
          "ZACHODNIOPOMORSKIE",
          "ZACHODNIOPOMORSKIE",
          "ZACHODNIOPOMORSKIE",
          "ZACHODNIOPOMORSKIE",
          "ZACHODNIOPOMORSKIE",
          "ZACHODNIOPOMORSKIE",
          "ZACHODNIOPOMORSKIE",
          "ZACHODNIOPOMORSKIE",
          "ZACHODNIOPOMORSKIE",
          "ZACHODNIOPOMORSKIE",
          "ZACHODNIOPOMORSKIE",
          "ZACHODNIOPOMORSKIE",
          "ZACHODNIOPOMORSKIE",
          "ZACHODNIOPOMORSKIE",
          "ZACHODNIOPOMORSKIE",
          "ZACHODNIOPOMORSKIE",
          "ZACHODNIOPOMORSKIE"
         ],
         "legendgroup": "ZACHODNIOPOMORSKIE",
         "line": {
          "color": "#ab63fa",
          "dash": "solid",
          "shape": "spline"
         },
         "marker": {
          "symbol": "circle"
         },
         "mode": "lines",
         "name": "ZACHODNIOPOMORSKIE",
         "orientation": "v",
         "showlegend": true,
         "x": [
          1998,
          1999,
          2000,
          2001,
          2002,
          2003,
          2004,
          2005,
          2006,
          2007,
          2008,
          2009,
          2010,
          2011,
          2012,
          2013,
          2014,
          2015,
          2016,
          2017,
          2018,
          2019,
          2020
         ],
         "xaxis": "x",
         "y": [
          null,
          1639.0,
          -184.0,
          3703.0,
          1754.0,
          1212.0,
          5823.0,
          9018.0,
          7658.0,
          10416.0,
          17537.0,
          19947.0,
          22197.0,
          25906.0,
          22933.0,
          25932.0,
          29921.0,
          32023.0,
          37234.0,
          44679.0,
          48570.0,
          53776.0,
          61956.0
         ],
         "yaxis": "y",
         "type": "scatter"
        },
        {
         "hovertemplate": "<b>%{hovertext}</b><br><br>Nazwa=ŁÓDZKIE<br>Rok=%{x}<br>Oszczędności=%{y}<extra></extra>",
         "hovertext": [
          "ŁÓDZKIE",
          "ŁÓDZKIE",
          "ŁÓDZKIE",
          "ŁÓDZKIE",
          "ŁÓDZKIE",
          "ŁÓDZKIE",
          "ŁÓDZKIE",
          "ŁÓDZKIE",
          "ŁÓDZKIE",
          "ŁÓDZKIE",
          "ŁÓDZKIE",
          "ŁÓDZKIE",
          "ŁÓDZKIE",
          "ŁÓDZKIE",
          "ŁÓDZKIE",
          "ŁÓDZKIE",
          "ŁÓDZKIE",
          "ŁÓDZKIE",
          "ŁÓDZKIE",
          "ŁÓDZKIE",
          "ŁÓDZKIE",
          "ŁÓDZKIE",
          "ŁÓDZKIE"
         ],
         "legendgroup": "ŁÓDZKIE",
         "line": {
          "color": "#FFA15A",
          "dash": "solid",
          "shape": "spline"
         },
         "marker": {
          "symbol": "circle"
         },
         "mode": "lines",
         "name": "ŁÓDZKIE",
         "orientation": "v",
         "showlegend": true,
         "x": [
          1998,
          1999,
          2000,
          2001,
          2002,
          2003,
          2004,
          2005,
          2006,
          2007,
          2008,
          2009,
          2010,
          2011,
          2012,
          2013,
          2014,
          2015,
          2016,
          2017,
          2018,
          2019,
          2020
         ],
         "xaxis": "x",
         "y": [
          null,
          -215.0,
          -1044.0,
          2349.0,
          1329.0,
          2419.0,
          1727.0,
          3716.0,
          6278.0,
          7130.0,
          9099.0,
          11737.0,
          14309.0,
          16049.0,
          18517.0,
          16420.0,
          17439.0,
          21580.0,
          25252.0,
          25253.0,
          38817.0,
          43506.0,
          64631.0
         ],
         "yaxis": "y",
         "type": "scatter"
        },
        {
         "hovertemplate": "<b>%{hovertext}</b><br><br>Nazwa=ŚLĄSKIE<br>Rok=%{x}<br>Oszczędności=%{y}<extra></extra>",
         "hovertext": [
          "ŚLĄSKIE",
          "ŚLĄSKIE",
          "ŚLĄSKIE",
          "ŚLĄSKIE",
          "ŚLĄSKIE",
          "ŚLĄSKIE",
          "ŚLĄSKIE",
          "ŚLĄSKIE",
          "ŚLĄSKIE",
          "ŚLĄSKIE",
          "ŚLĄSKIE",
          "ŚLĄSKIE",
          "ŚLĄSKIE",
          "ŚLĄSKIE",
          "ŚLĄSKIE",
          "ŚLĄSKIE",
          "ŚLĄSKIE",
          "ŚLĄSKIE",
          "ŚLĄSKIE",
          "ŚLĄSKIE",
          "ŚLĄSKIE",
          "ŚLĄSKIE",
          "ŚLĄSKIE"
         ],
         "legendgroup": "ŚLĄSKIE",
         "line": {
          "color": "#19d3f3",
          "dash": "solid",
          "shape": "spline"
         },
         "marker": {
          "symbol": "circle"
         },
         "mode": "lines",
         "name": "ŚLĄSKIE",
         "orientation": "v",
         "showlegend": true,
         "x": [
          1998,
          1999,
          2000,
          2001,
          2002,
          2003,
          2004,
          2005,
          2006,
          2007,
          2008,
          2009,
          2010,
          2011,
          2012,
          2013,
          2014,
          2015,
          2016,
          2017,
          2018,
          2019,
          2020
         ],
         "xaxis": "x",
         "y": [
          null,
          -1000.0,
          1452.0,
          2892.0,
          3869.0,
          3610.0,
          5188.0,
          8478.0,
          8949.0,
          10818.0,
          15250.0,
          15454.0,
          16249.0,
          17571.0,
          17735.0,
          20083.0,
          25218.0,
          28412.0,
          31086.0,
          34868.0,
          46840.0,
          56703.0,
          77951.0
         ],
         "yaxis": "y",
         "type": "scatter"
        },
        {
         "hovertemplate": "<b>%{hovertext}</b><br><br>Nazwa=ŚWIĘTOKRZYSKIE<br>Rok=%{x}<br>Oszczędności=%{y}<extra></extra>",
         "hovertext": [
          "ŚWIĘTOKRZYSKIE",
          "ŚWIĘTOKRZYSKIE",
          "ŚWIĘTOKRZYSKIE",
          "ŚWIĘTOKRZYSKIE",
          "ŚWIĘTOKRZYSKIE",
          "ŚWIĘTOKRZYSKIE",
          "ŚWIĘTOKRZYSKIE",
          "ŚWIĘTOKRZYSKIE",
          "ŚWIĘTOKRZYSKIE",
          "ŚWIĘTOKRZYSKIE",
          "ŚWIĘTOKRZYSKIE",
          "ŚWIĘTOKRZYSKIE",
          "ŚWIĘTOKRZYSKIE",
          "ŚWIĘTOKRZYSKIE",
          "ŚWIĘTOKRZYSKIE",
          "ŚWIĘTOKRZYSKIE",
          "ŚWIĘTOKRZYSKIE",
          "ŚWIĘTOKRZYSKIE",
          "ŚWIĘTOKRZYSKIE",
          "ŚWIĘTOKRZYSKIE",
          "ŚWIĘTOKRZYSKIE",
          "ŚWIĘTOKRZYSKIE",
          "ŚWIĘTOKRZYSKIE"
         ],
         "legendgroup": "ŚWIĘTOKRZYSKIE",
         "line": {
          "color": "#FF6692",
          "dash": "solid",
          "shape": "spline"
         },
         "marker": {
          "symbol": "circle"
         },
         "mode": "lines",
         "name": "ŚWIĘTOKRZYSKIE",
         "orientation": "v",
         "showlegend": true,
         "x": [
          1998,
          1999,
          2000,
          2001,
          2002,
          2003,
          2004,
          2005,
          2006,
          2007,
          2008,
          2009,
          2010,
          2011,
          2012,
          2013,
          2014,
          2015,
          2016,
          2017,
          2018,
          2019,
          2020
         ],
         "xaxis": "x",
         "y": [
          null,
          -418.0,
          191.0,
          1952.0,
          3746.0,
          860.0,
          3409.0,
          4151.0,
          8638.0,
          9319.0,
          13164.0,
          14582.0,
          19466.0,
          21420.0,
          24496.0,
          23088.0,
          22991.0,
          29963.0,
          34279.0,
          39562.0,
          47471.0,
          56741.0,
          73292.0
         ],
         "yaxis": "y",
         "type": "scatter"
        }
       ],
       "layout": {
        "template": {
         "data": {
          "bar": [
           {
            "error_x": {
             "color": "#2a3f5f"
            },
            "error_y": {
             "color": "#2a3f5f"
            },
            "marker": {
             "line": {
              "color": "#E5ECF6",
              "width": 0.5
             },
             "pattern": {
              "fillmode": "overlay",
              "size": 10,
              "solidity": 0.2
             }
            },
            "type": "bar"
           }
          ],
          "barpolar": [
           {
            "marker": {
             "line": {
              "color": "#E5ECF6",
              "width": 0.5
             },
             "pattern": {
              "fillmode": "overlay",
              "size": 10,
              "solidity": 0.2
             }
            },
            "type": "barpolar"
           }
          ],
          "carpet": [
           {
            "aaxis": {
             "endlinecolor": "#2a3f5f",
             "gridcolor": "white",
             "linecolor": "white",
             "minorgridcolor": "white",
             "startlinecolor": "#2a3f5f"
            },
            "baxis": {
             "endlinecolor": "#2a3f5f",
             "gridcolor": "white",
             "linecolor": "white",
             "minorgridcolor": "white",
             "startlinecolor": "#2a3f5f"
            },
            "type": "carpet"
           }
          ],
          "choropleth": [
           {
            "colorbar": {
             "outlinewidth": 0,
             "ticks": ""
            },
            "type": "choropleth"
           }
          ],
          "contour": [
           {
            "colorbar": {
             "outlinewidth": 0,
             "ticks": ""
            },
            "colorscale": [
             [
              0.0,
              "#0d0887"
             ],
             [
              0.1111111111111111,
              "#46039f"
             ],
             [
              0.2222222222222222,
              "#7201a8"
             ],
             [
              0.3333333333333333,
              "#9c179e"
             ],
             [
              0.4444444444444444,
              "#bd3786"
             ],
             [
              0.5555555555555556,
              "#d8576b"
             ],
             [
              0.6666666666666666,
              "#ed7953"
             ],
             [
              0.7777777777777778,
              "#fb9f3a"
             ],
             [
              0.8888888888888888,
              "#fdca26"
             ],
             [
              1.0,
              "#f0f921"
             ]
            ],
            "type": "contour"
           }
          ],
          "contourcarpet": [
           {
            "colorbar": {
             "outlinewidth": 0,
             "ticks": ""
            },
            "type": "contourcarpet"
           }
          ],
          "heatmap": [
           {
            "colorbar": {
             "outlinewidth": 0,
             "ticks": ""
            },
            "colorscale": [
             [
              0.0,
              "#0d0887"
             ],
             [
              0.1111111111111111,
              "#46039f"
             ],
             [
              0.2222222222222222,
              "#7201a8"
             ],
             [
              0.3333333333333333,
              "#9c179e"
             ],
             [
              0.4444444444444444,
              "#bd3786"
             ],
             [
              0.5555555555555556,
              "#d8576b"
             ],
             [
              0.6666666666666666,
              "#ed7953"
             ],
             [
              0.7777777777777778,
              "#fb9f3a"
             ],
             [
              0.8888888888888888,
              "#fdca26"
             ],
             [
              1.0,
              "#f0f921"
             ]
            ],
            "type": "heatmap"
           }
          ],
          "heatmapgl": [
           {
            "colorbar": {
             "outlinewidth": 0,
             "ticks": ""
            },
            "colorscale": [
             [
              0.0,
              "#0d0887"
             ],
             [
              0.1111111111111111,
              "#46039f"
             ],
             [
              0.2222222222222222,
              "#7201a8"
             ],
             [
              0.3333333333333333,
              "#9c179e"
             ],
             [
              0.4444444444444444,
              "#bd3786"
             ],
             [
              0.5555555555555556,
              "#d8576b"
             ],
             [
              0.6666666666666666,
              "#ed7953"
             ],
             [
              0.7777777777777778,
              "#fb9f3a"
             ],
             [
              0.8888888888888888,
              "#fdca26"
             ],
             [
              1.0,
              "#f0f921"
             ]
            ],
            "type": "heatmapgl"
           }
          ],
          "histogram": [
           {
            "marker": {
             "pattern": {
              "fillmode": "overlay",
              "size": 10,
              "solidity": 0.2
             }
            },
            "type": "histogram"
           }
          ],
          "histogram2d": [
           {
            "colorbar": {
             "outlinewidth": 0,
             "ticks": ""
            },
            "colorscale": [
             [
              0.0,
              "#0d0887"
             ],
             [
              0.1111111111111111,
              "#46039f"
             ],
             [
              0.2222222222222222,
              "#7201a8"
             ],
             [
              0.3333333333333333,
              "#9c179e"
             ],
             [
              0.4444444444444444,
              "#bd3786"
             ],
             [
              0.5555555555555556,
              "#d8576b"
             ],
             [
              0.6666666666666666,
              "#ed7953"
             ],
             [
              0.7777777777777778,
              "#fb9f3a"
             ],
             [
              0.8888888888888888,
              "#fdca26"
             ],
             [
              1.0,
              "#f0f921"
             ]
            ],
            "type": "histogram2d"
           }
          ],
          "histogram2dcontour": [
           {
            "colorbar": {
             "outlinewidth": 0,
             "ticks": ""
            },
            "colorscale": [
             [
              0.0,
              "#0d0887"
             ],
             [
              0.1111111111111111,
              "#46039f"
             ],
             [
              0.2222222222222222,
              "#7201a8"
             ],
             [
              0.3333333333333333,
              "#9c179e"
             ],
             [
              0.4444444444444444,
              "#bd3786"
             ],
             [
              0.5555555555555556,
              "#d8576b"
             ],
             [
              0.6666666666666666,
              "#ed7953"
             ],
             [
              0.7777777777777778,
              "#fb9f3a"
             ],
             [
              0.8888888888888888,
              "#fdca26"
             ],
             [
              1.0,
              "#f0f921"
             ]
            ],
            "type": "histogram2dcontour"
           }
          ],
          "mesh3d": [
           {
            "colorbar": {
             "outlinewidth": 0,
             "ticks": ""
            },
            "type": "mesh3d"
           }
          ],
          "parcoords": [
           {
            "line": {
             "colorbar": {
              "outlinewidth": 0,
              "ticks": ""
             }
            },
            "type": "parcoords"
           }
          ],
          "pie": [
           {
            "automargin": true,
            "type": "pie"
           }
          ],
          "scatter": [
           {
            "marker": {
             "colorbar": {
              "outlinewidth": 0,
              "ticks": ""
             }
            },
            "type": "scatter"
           }
          ],
          "scatter3d": [
           {
            "line": {
             "colorbar": {
              "outlinewidth": 0,
              "ticks": ""
             }
            },
            "marker": {
             "colorbar": {
              "outlinewidth": 0,
              "ticks": ""
             }
            },
            "type": "scatter3d"
           }
          ],
          "scattercarpet": [
           {
            "marker": {
             "colorbar": {
              "outlinewidth": 0,
              "ticks": ""
             }
            },
            "type": "scattercarpet"
           }
          ],
          "scattergeo": [
           {
            "marker": {
             "colorbar": {
              "outlinewidth": 0,
              "ticks": ""
             }
            },
            "type": "scattergeo"
           }
          ],
          "scattergl": [
           {
            "marker": {
             "colorbar": {
              "outlinewidth": 0,
              "ticks": ""
             }
            },
            "type": "scattergl"
           }
          ],
          "scattermapbox": [
           {
            "marker": {
             "colorbar": {
              "outlinewidth": 0,
              "ticks": ""
             }
            },
            "type": "scattermapbox"
           }
          ],
          "scatterpolar": [
           {
            "marker": {
             "colorbar": {
              "outlinewidth": 0,
              "ticks": ""
             }
            },
            "type": "scatterpolar"
           }
          ],
          "scatterpolargl": [
           {
            "marker": {
             "colorbar": {
              "outlinewidth": 0,
              "ticks": ""
             }
            },
            "type": "scatterpolargl"
           }
          ],
          "scatterternary": [
           {
            "marker": {
             "colorbar": {
              "outlinewidth": 0,
              "ticks": ""
             }
            },
            "type": "scatterternary"
           }
          ],
          "surface": [
           {
            "colorbar": {
             "outlinewidth": 0,
             "ticks": ""
            },
            "colorscale": [
             [
              0.0,
              "#0d0887"
             ],
             [
              0.1111111111111111,
              "#46039f"
             ],
             [
              0.2222222222222222,
              "#7201a8"
             ],
             [
              0.3333333333333333,
              "#9c179e"
             ],
             [
              0.4444444444444444,
              "#bd3786"
             ],
             [
              0.5555555555555556,
              "#d8576b"
             ],
             [
              0.6666666666666666,
              "#ed7953"
             ],
             [
              0.7777777777777778,
              "#fb9f3a"
             ],
             [
              0.8888888888888888,
              "#fdca26"
             ],
             [
              1.0,
              "#f0f921"
             ]
            ],
            "type": "surface"
           }
          ],
          "table": [
           {
            "cells": {
             "fill": {
              "color": "#EBF0F8"
             },
             "line": {
              "color": "white"
             }
            },
            "header": {
             "fill": {
              "color": "#C8D4E3"
             },
             "line": {
              "color": "white"
             }
            },
            "type": "table"
           }
          ]
         },
         "layout": {
          "annotationdefaults": {
           "arrowcolor": "#2a3f5f",
           "arrowhead": 0,
           "arrowwidth": 1
          },
          "autotypenumbers": "strict",
          "coloraxis": {
           "colorbar": {
            "outlinewidth": 0,
            "ticks": ""
           }
          },
          "colorscale": {
           "diverging": [
            [
             0,
             "#8e0152"
            ],
            [
             0.1,
             "#c51b7d"
            ],
            [
             0.2,
             "#de77ae"
            ],
            [
             0.3,
             "#f1b6da"
            ],
            [
             0.4,
             "#fde0ef"
            ],
            [
             0.5,
             "#f7f7f7"
            ],
            [
             0.6,
             "#e6f5d0"
            ],
            [
             0.7,
             "#b8e186"
            ],
            [
             0.8,
             "#7fbc41"
            ],
            [
             0.9,
             "#4d9221"
            ],
            [
             1,
             "#276419"
            ]
           ],
           "sequential": [
            [
             0.0,
             "#0d0887"
            ],
            [
             0.1111111111111111,
             "#46039f"
            ],
            [
             0.2222222222222222,
             "#7201a8"
            ],
            [
             0.3333333333333333,
             "#9c179e"
            ],
            [
             0.4444444444444444,
             "#bd3786"
            ],
            [
             0.5555555555555556,
             "#d8576b"
            ],
            [
             0.6666666666666666,
             "#ed7953"
            ],
            [
             0.7777777777777778,
             "#fb9f3a"
            ],
            [
             0.8888888888888888,
             "#fdca26"
            ],
            [
             1.0,
             "#f0f921"
            ]
           ],
           "sequentialminus": [
            [
             0.0,
             "#0d0887"
            ],
            [
             0.1111111111111111,
             "#46039f"
            ],
            [
             0.2222222222222222,
             "#7201a8"
            ],
            [
             0.3333333333333333,
             "#9c179e"
            ],
            [
             0.4444444444444444,
             "#bd3786"
            ],
            [
             0.5555555555555556,
             "#d8576b"
            ],
            [
             0.6666666666666666,
             "#ed7953"
            ],
            [
             0.7777777777777778,
             "#fb9f3a"
            ],
            [
             0.8888888888888888,
             "#fdca26"
            ],
            [
             1.0,
             "#f0f921"
            ]
           ]
          },
          "colorway": [
           "#636efa",
           "#EF553B",
           "#00cc96",
           "#ab63fa",
           "#FFA15A",
           "#19d3f3",
           "#FF6692",
           "#B6E880",
           "#FF97FF",
           "#FECB52"
          ],
          "font": {
           "color": "#2a3f5f"
          },
          "geo": {
           "bgcolor": "white",
           "lakecolor": "white",
           "landcolor": "#E5ECF6",
           "showlakes": true,
           "showland": true,
           "subunitcolor": "white"
          },
          "hoverlabel": {
           "align": "left"
          },
          "hovermode": "closest",
          "mapbox": {
           "style": "light"
          },
          "paper_bgcolor": "white",
          "plot_bgcolor": "#E5ECF6",
          "polar": {
           "angularaxis": {
            "gridcolor": "white",
            "linecolor": "white",
            "ticks": ""
           },
           "bgcolor": "#E5ECF6",
           "radialaxis": {
            "gridcolor": "white",
            "linecolor": "white",
            "ticks": ""
           }
          },
          "scene": {
           "xaxis": {
            "backgroundcolor": "#E5ECF6",
            "gridcolor": "white",
            "gridwidth": 2,
            "linecolor": "white",
            "showbackground": true,
            "ticks": "",
            "zerolinecolor": "white"
           },
           "yaxis": {
            "backgroundcolor": "#E5ECF6",
            "gridcolor": "white",
            "gridwidth": 2,
            "linecolor": "white",
            "showbackground": true,
            "ticks": "",
            "zerolinecolor": "white"
           },
           "zaxis": {
            "backgroundcolor": "#E5ECF6",
            "gridcolor": "white",
            "gridwidth": 2,
            "linecolor": "white",
            "showbackground": true,
            "ticks": "",
            "zerolinecolor": "white"
           }
          },
          "shapedefaults": {
           "line": {
            "color": "#2a3f5f"
           }
          },
          "ternary": {
           "aaxis": {
            "gridcolor": "white",
            "linecolor": "white",
            "ticks": ""
           },
           "baxis": {
            "gridcolor": "white",
            "linecolor": "white",
            "ticks": ""
           },
           "bgcolor": "#E5ECF6",
           "caxis": {
            "gridcolor": "white",
            "linecolor": "white",
            "ticks": ""
           }
          },
          "title": {
           "x": 0.05
          },
          "xaxis": {
           "automargin": true,
           "gridcolor": "white",
           "linecolor": "white",
           "ticks": "",
           "title": {
            "standoff": 15
           },
           "zerolinecolor": "white",
           "zerolinewidth": 2
          },
          "yaxis": {
           "automargin": true,
           "gridcolor": "white",
           "linecolor": "white",
           "ticks": "",
           "title": {
            "standoff": 15
           },
           "zerolinecolor": "white",
           "zerolinewidth": 2
          }
         }
        },
        "xaxis": {
         "anchor": "y",
         "domain": [
          0.0,
          1.0
         ],
         "title": {
          "text": "Rok"
         }
        },
        "yaxis": {
         "anchor": "x",
         "domain": [
          0.0,
          1.0
         ],
         "title": {
          "text": "Oszczędności"
         }
        },
        "legend": {
         "title": {
          "text": "Nazwa"
         },
         "tracegroupgap": 0
        },
        "margin": {
         "t": 60
        }
       },
       "config": {
        "plotlyServerURL": "https://plot.ly"
       }
      },
      "text/html": "<div>                            <div id=\"db96bae6-013d-45fb-b73b-7b6d1653b211\" class=\"plotly-graph-div\" style=\"height:525px; width:100%;\"></div>            <script type=\"text/javascript\">                require([\"plotly\"], function(Plotly) {                    window.PLOTLYENV=window.PLOTLYENV || {};                                    if (document.getElementById(\"db96bae6-013d-45fb-b73b-7b6d1653b211\")) {                    Plotly.newPlot(                        \"db96bae6-013d-45fb-b73b-7b6d1653b211\",                        [{\"hovertemplate\":\"<b>%{hovertext}</b><br><br>Nazwa=DOLNO\\u015aL\\u0104SKIE<br>Rok=%{x}<br>Oszcz\\u0119dno\\u015bci=%{y}<extra></extra>\",\"hovertext\":[\"DOLNO\\u015aL\\u0104SKIE\",\"DOLNO\\u015aL\\u0104SKIE\",\"DOLNO\\u015aL\\u0104SKIE\",\"DOLNO\\u015aL\\u0104SKIE\",\"DOLNO\\u015aL\\u0104SKIE\",\"DOLNO\\u015aL\\u0104SKIE\",\"DOLNO\\u015aL\\u0104SKIE\",\"DOLNO\\u015aL\\u0104SKIE\",\"DOLNO\\u015aL\\u0104SKIE\",\"DOLNO\\u015aL\\u0104SKIE\",\"DOLNO\\u015aL\\u0104SKIE\",\"DOLNO\\u015aL\\u0104SKIE\",\"DOLNO\\u015aL\\u0104SKIE\",\"DOLNO\\u015aL\\u0104SKIE\",\"DOLNO\\u015aL\\u0104SKIE\",\"DOLNO\\u015aL\\u0104SKIE\",\"DOLNO\\u015aL\\u0104SKIE\",\"DOLNO\\u015aL\\u0104SKIE\",\"DOLNO\\u015aL\\u0104SKIE\",\"DOLNO\\u015aL\\u0104SKIE\",\"DOLNO\\u015aL\\u0104SKIE\",\"DOLNO\\u015aL\\u0104SKIE\",\"DOLNO\\u015aL\\u0104SKIE\"],\"legendgroup\":\"DOLNO\\u015aL\\u0104SKIE\",\"line\":{\"color\":\"#636efa\",\"dash\":\"solid\",\"shape\":\"spline\"},\"marker\":{\"symbol\":\"circle\"},\"mode\":\"lines\",\"name\":\"DOLNO\\u015aL\\u0104SKIE\",\"orientation\":\"v\",\"showlegend\":true,\"x\":[1998,1999,2000,2001,2002,2003,2004,2005,2006,2007,2008,2009,2010,2011,2012,2013,2014,2015,2016,2017,2018,2019,2020],\"xaxis\":\"x\",\"y\":[null,-2283.0,-336.0,4336.0,6696.0,4417.0,6075.0,7812.0,9377.0,10025.0,16090.0,16109.0,22024.0,22544.0,23589.0,21967.0,23576.0,29318.0,37444.0,40411.0,47270.0,57258.0,67595.0],\"yaxis\":\"y\",\"type\":\"scatter\"},{\"hovertemplate\":\"<b>%{hovertext}</b><br><br>Nazwa=KUJAWSKO-POMORSKIE<br>Rok=%{x}<br>Oszcz\\u0119dno\\u015bci=%{y}<extra></extra>\",\"hovertext\":[\"KUJAWSKO-POMORSKIE\",\"KUJAWSKO-POMORSKIE\",\"KUJAWSKO-POMORSKIE\",\"KUJAWSKO-POMORSKIE\",\"KUJAWSKO-POMORSKIE\",\"KUJAWSKO-POMORSKIE\",\"KUJAWSKO-POMORSKIE\",\"KUJAWSKO-POMORSKIE\",\"KUJAWSKO-POMORSKIE\",\"KUJAWSKO-POMORSKIE\",\"KUJAWSKO-POMORSKIE\",\"KUJAWSKO-POMORSKIE\",\"KUJAWSKO-POMORSKIE\",\"KUJAWSKO-POMORSKIE\",\"KUJAWSKO-POMORSKIE\",\"KUJAWSKO-POMORSKIE\",\"KUJAWSKO-POMORSKIE\",\"KUJAWSKO-POMORSKIE\",\"KUJAWSKO-POMORSKIE\",\"KUJAWSKO-POMORSKIE\",\"KUJAWSKO-POMORSKIE\",\"KUJAWSKO-POMORSKIE\",\"KUJAWSKO-POMORSKIE\"],\"legendgroup\":\"KUJAWSKO-POMORSKIE\",\"line\":{\"color\":\"#EF553B\",\"dash\":\"solid\",\"shape\":\"spline\"},\"marker\":{\"symbol\":\"circle\"},\"mode\":\"lines\",\"name\":\"KUJAWSKO-POMORSKIE\",\"orientation\":\"v\",\"showlegend\":true,\"x\":[1998,1999,2000,2001,2002,2003,2004,2005,2006,2007,2008,2009,2010,2011,2012,2013,2014,2015,2016,2017,2018,2019,2020],\"xaxis\":\"x\",\"y\":[null,3696.0,3236.0,3590.0,5974.0,2172.0,3146.0,6136.0,9682.0,16154.0,15189.0,13940.0,23486.0,18619.0,19228.0,17728.0,21394.0,22315.0,25815.0,34104.0,46151.0,53850.0,67675.0],\"yaxis\":\"y\",\"type\":\"scatter\"},{\"hovertemplate\":\"<b>%{hovertext}</b><br><br>Nazwa=LUBELSKIE<br>Rok=%{x}<br>Oszcz\\u0119dno\\u015bci=%{y}<extra></extra>\",\"hovertext\":[\"LUBELSKIE\",\"LUBELSKIE\",\"LUBELSKIE\",\"LUBELSKIE\",\"LUBELSKIE\",\"LUBELSKIE\",\"LUBELSKIE\",\"LUBELSKIE\",\"LUBELSKIE\",\"LUBELSKIE\",\"LUBELSKIE\",\"LUBELSKIE\",\"LUBELSKIE\",\"LUBELSKIE\",\"LUBELSKIE\",\"LUBELSKIE\",\"LUBELSKIE\",\"LUBELSKIE\",\"LUBELSKIE\",\"LUBELSKIE\",\"LUBELSKIE\",\"LUBELSKIE\",\"LUBELSKIE\"],\"legendgroup\":\"LUBELSKIE\",\"line\":{\"color\":\"#00cc96\",\"dash\":\"solid\",\"shape\":\"spline\"},\"marker\":{\"symbol\":\"circle\"},\"mode\":\"lines\",\"name\":\"LUBELSKIE\",\"orientation\":\"v\",\"showlegend\":true,\"x\":[1998,1999,2000,2001,2002,2003,2004,2005,2006,2007,2008,2009,2010,2011,2012,2013,2014,2015,2016,2017,2018,2019,2020],\"xaxis\":\"x\",\"y\":[null,34.0,-1191.0,2429.0,1093.0,2978.0,2454.0,4286.0,4696.0,8640.0,6992.0,8201.0,15296.0,16963.0,13851.0,17647.0,22622.0,25546.0,26969.0,35005.0,44203.0,44241.0,54645.0],\"yaxis\":\"y\",\"type\":\"scatter\"},{\"hovertemplate\":\"<b>%{hovertext}</b><br><br>Nazwa=LUBUSKIE<br>Rok=%{x}<br>Oszcz\\u0119dno\\u015bci=%{y}<extra></extra>\",\"hovertext\":[\"LUBUSKIE\",\"LUBUSKIE\",\"LUBUSKIE\",\"LUBUSKIE\",\"LUBUSKIE\",\"LUBUSKIE\",\"LUBUSKIE\",\"LUBUSKIE\",\"LUBUSKIE\",\"LUBUSKIE\",\"LUBUSKIE\",\"LUBUSKIE\",\"LUBUSKIE\",\"LUBUSKIE\",\"LUBUSKIE\",\"LUBUSKIE\",\"LUBUSKIE\",\"LUBUSKIE\",\"LUBUSKIE\",\"LUBUSKIE\",\"LUBUSKIE\",\"LUBUSKIE\",\"LUBUSKIE\"],\"legendgroup\":\"LUBUSKIE\",\"line\":{\"color\":\"#ab63fa\",\"dash\":\"solid\",\"shape\":\"spline\"},\"marker\":{\"symbol\":\"circle\"},\"mode\":\"lines\",\"name\":\"LUBUSKIE\",\"orientation\":\"v\",\"showlegend\":true,\"x\":[1998,1999,2000,2001,2002,2003,2004,2005,2006,2007,2008,2009,2010,2011,2012,2013,2014,2015,2016,2017,2018,2019,2020],\"xaxis\":\"x\",\"y\":[null,-4195.0,559.0,2753.0,3669.0,1511.0,-3281.0,-2623.0,7038.0,9786.0,12448.0,16542.0,18076.0,21425.0,22464.0,23277.0,23388.0,30128.0,33687.0,45985.0,52105.0,57041.0,81417.0],\"yaxis\":\"y\",\"type\":\"scatter\"},{\"hovertemplate\":\"<b>%{hovertext}</b><br><br>Nazwa=MAZOWIECKIE<br>Rok=%{x}<br>Oszcz\\u0119dno\\u015bci=%{y}<extra></extra>\",\"hovertext\":[\"MAZOWIECKIE\",\"MAZOWIECKIE\",\"MAZOWIECKIE\",\"MAZOWIECKIE\",\"MAZOWIECKIE\",\"MAZOWIECKIE\",\"MAZOWIECKIE\",\"MAZOWIECKIE\",\"MAZOWIECKIE\",\"MAZOWIECKIE\",\"MAZOWIECKIE\",\"MAZOWIECKIE\",\"MAZOWIECKIE\",\"MAZOWIECKIE\",\"MAZOWIECKIE\",\"MAZOWIECKIE\",\"MAZOWIECKIE\",\"MAZOWIECKIE\",\"MAZOWIECKIE\",\"MAZOWIECKIE\",\"MAZOWIECKIE\",\"MAZOWIECKIE\",\"MAZOWIECKIE\"],\"legendgroup\":\"MAZOWIECKIE\",\"line\":{\"color\":\"#FFA15A\",\"dash\":\"solid\",\"shape\":\"spline\"},\"marker\":{\"symbol\":\"circle\"},\"mode\":\"lines\",\"name\":\"MAZOWIECKIE\",\"orientation\":\"v\",\"showlegend\":true,\"x\":[1998,1999,2000,2001,2002,2003,2004,2005,2006,2007,2008,2009,2010,2011,2012,2013,2014,2015,2016,2017,2018,2019,2020],\"xaxis\":\"x\",\"y\":[null,3993.0,4615.0,6216.0,5153.0,5932.0,7698.0,12076.0,14705.0,19689.0,18919.0,20545.0,30212.0,31461.0,35612.0,35942.0,34821.0,38544.0,41100.0,49139.0,61046.0,63175.0,79751.0],\"yaxis\":\"y\",\"type\":\"scatter\"},{\"hovertemplate\":\"<b>%{hovertext}</b><br><br>Nazwa=MA\\u0141OPOLSKIE<br>Rok=%{x}<br>Oszcz\\u0119dno\\u015bci=%{y}<extra></extra>\",\"hovertext\":[\"MA\\u0141OPOLSKIE\",\"MA\\u0141OPOLSKIE\",\"MA\\u0141OPOLSKIE\",\"MA\\u0141OPOLSKIE\",\"MA\\u0141OPOLSKIE\",\"MA\\u0141OPOLSKIE\",\"MA\\u0141OPOLSKIE\",\"MA\\u0141OPOLSKIE\",\"MA\\u0141OPOLSKIE\",\"MA\\u0141OPOLSKIE\",\"MA\\u0141OPOLSKIE\",\"MA\\u0141OPOLSKIE\",\"MA\\u0141OPOLSKIE\",\"MA\\u0141OPOLSKIE\",\"MA\\u0141OPOLSKIE\",\"MA\\u0141OPOLSKIE\",\"MA\\u0141OPOLSKIE\",\"MA\\u0141OPOLSKIE\",\"MA\\u0141OPOLSKIE\",\"MA\\u0141OPOLSKIE\",\"MA\\u0141OPOLSKIE\",\"MA\\u0141OPOLSKIE\",\"MA\\u0141OPOLSKIE\"],\"legendgroup\":\"MA\\u0141OPOLSKIE\",\"line\":{\"color\":\"#19d3f3\",\"dash\":\"solid\",\"shape\":\"spline\"},\"marker\":{\"symbol\":\"circle\"},\"mode\":\"lines\",\"name\":\"MA\\u0141OPOLSKIE\",\"orientation\":\"v\",\"showlegend\":true,\"x\":[1998,1999,2000,2001,2002,2003,2004,2005,2006,2007,2008,2009,2010,2011,2012,2013,2014,2015,2016,2017,2018,2019,2020],\"xaxis\":\"x\",\"y\":[null,2583.0,364.0,1411.0,2411.0,2307.0,3684.0,5949.0,6262.0,8779.0,11130.0,14138.0,15772.0,17420.0,19850.0,20803.0,26007.0,31968.0,38273.0,48584.0,61043.0,69535.0,87322.0],\"yaxis\":\"y\",\"type\":\"scatter\"},{\"hovertemplate\":\"<b>%{hovertext}</b><br><br>Nazwa=OPOLSKIE<br>Rok=%{x}<br>Oszcz\\u0119dno\\u015bci=%{y}<extra></extra>\",\"hovertext\":[\"OPOLSKIE\",\"OPOLSKIE\",\"OPOLSKIE\",\"OPOLSKIE\",\"OPOLSKIE\",\"OPOLSKIE\",\"OPOLSKIE\",\"OPOLSKIE\",\"OPOLSKIE\",\"OPOLSKIE\",\"OPOLSKIE\",\"OPOLSKIE\",\"OPOLSKIE\",\"OPOLSKIE\",\"OPOLSKIE\",\"OPOLSKIE\",\"OPOLSKIE\",\"OPOLSKIE\",\"OPOLSKIE\",\"OPOLSKIE\",\"OPOLSKIE\",\"OPOLSKIE\",\"OPOLSKIE\"],\"legendgroup\":\"OPOLSKIE\",\"line\":{\"color\":\"#FF6692\",\"dash\":\"solid\",\"shape\":\"spline\"},\"marker\":{\"symbol\":\"circle\"},\"mode\":\"lines\",\"name\":\"OPOLSKIE\",\"orientation\":\"v\",\"showlegend\":true,\"x\":[1998,1999,2000,2001,2002,2003,2004,2005,2006,2007,2008,2009,2010,2011,2012,2013,2014,2015,2016,2017,2018,2019,2020],\"xaxis\":\"x\",\"y\":[null,-4802.0,3159.0,1803.0,3749.0,820.0,1715.0,1865.0,3278.0,6964.0,6385.0,6594.0,9383.0,13333.0,22527.0,12582.0,19590.0,18575.0,19488.0,27402.0,39953.0,35517.0,42401.0],\"yaxis\":\"y\",\"type\":\"scatter\"},{\"hovertemplate\":\"<b>%{hovertext}</b><br><br>Nazwa=PODKARPACKIE<br>Rok=%{x}<br>Oszcz\\u0119dno\\u015bci=%{y}<extra></extra>\",\"hovertext\":[\"PODKARPACKIE\",\"PODKARPACKIE\",\"PODKARPACKIE\",\"PODKARPACKIE\",\"PODKARPACKIE\",\"PODKARPACKIE\",\"PODKARPACKIE\",\"PODKARPACKIE\",\"PODKARPACKIE\",\"PODKARPACKIE\",\"PODKARPACKIE\",\"PODKARPACKIE\",\"PODKARPACKIE\",\"PODKARPACKIE\",\"PODKARPACKIE\",\"PODKARPACKIE\",\"PODKARPACKIE\",\"PODKARPACKIE\",\"PODKARPACKIE\",\"PODKARPACKIE\",\"PODKARPACKIE\",\"PODKARPACKIE\",\"PODKARPACKIE\"],\"legendgroup\":\"PODKARPACKIE\",\"line\":{\"color\":\"#B6E880\",\"dash\":\"solid\",\"shape\":\"spline\"},\"marker\":{\"symbol\":\"circle\"},\"mode\":\"lines\",\"name\":\"PODKARPACKIE\",\"orientation\":\"v\",\"showlegend\":true,\"x\":[1998,1999,2000,2001,2002,2003,2004,2005,2006,2007,2008,2009,2010,2011,2012,2013,2014,2015,2016,2017,2018,2019,2020],\"xaxis\":\"x\",\"y\":[null,506.0,-985.0,291.0,258.0,-838.0,-1432.0,2975.0,2242.0,4085.0,4861.0,5081.0,8728.0,9485.0,11673.0,12303.0,15207.0,15932.0,23192.0,31239.0,38704.0,45580.0,65763.0],\"yaxis\":\"y\",\"type\":\"scatter\"},{\"hovertemplate\":\"<b>%{hovertext}</b><br><br>Nazwa=PODLASKIE<br>Rok=%{x}<br>Oszcz\\u0119dno\\u015bci=%{y}<extra></extra>\",\"hovertext\":[\"PODLASKIE\",\"PODLASKIE\",\"PODLASKIE\",\"PODLASKIE\",\"PODLASKIE\",\"PODLASKIE\",\"PODLASKIE\",\"PODLASKIE\",\"PODLASKIE\",\"PODLASKIE\",\"PODLASKIE\",\"PODLASKIE\",\"PODLASKIE\",\"PODLASKIE\",\"PODLASKIE\",\"PODLASKIE\",\"PODLASKIE\",\"PODLASKIE\",\"PODLASKIE\",\"PODLASKIE\",\"PODLASKIE\",\"PODLASKIE\",\"PODLASKIE\"],\"legendgroup\":\"PODLASKIE\",\"line\":{\"color\":\"#FF97FF\",\"dash\":\"solid\",\"shape\":\"spline\"},\"marker\":{\"symbol\":\"circle\"},\"mode\":\"lines\",\"name\":\"PODLASKIE\",\"orientation\":\"v\",\"showlegend\":true,\"x\":[1998,1999,2000,2001,2002,2003,2004,2005,2006,2007,2008,2009,2010,2011,2012,2013,2014,2015,2016,2017,2018,2019,2020],\"xaxis\":\"x\",\"y\":[null,-447.0,-1129.0,610.0,3165.0,-862.0,2988.0,7462.0,10748.0,14653.0,13265.0,19521.0,25264.0,32150.0,30055.0,34055.0,28047.0,25450.0,39953.0,55811.0,53066.0,71219.0,92794.0],\"yaxis\":\"y\",\"type\":\"scatter\"},{\"hovertemplate\":\"<b>%{hovertext}</b><br><br>Nazwa=POLSKA<br>Rok=%{x}<br>Oszcz\\u0119dno\\u015bci=%{y}<extra></extra>\",\"hovertext\":[\"POLSKA\",\"POLSKA\",\"POLSKA\",\"POLSKA\",\"POLSKA\",\"POLSKA\",\"POLSKA\",\"POLSKA\",\"POLSKA\",\"POLSKA\",\"POLSKA\",\"POLSKA\",\"POLSKA\",\"POLSKA\",\"POLSKA\",\"POLSKA\",\"POLSKA\",\"POLSKA\",\"POLSKA\",\"POLSKA\",\"POLSKA\",\"POLSKA\",\"POLSKA\"],\"legendgroup\":\"POLSKA\",\"line\":{\"color\":\"#FECB52\",\"dash\":\"solid\",\"shape\":\"spline\"},\"marker\":{\"symbol\":\"circle\"},\"mode\":\"lines\",\"name\":\"POLSKA\",\"orientation\":\"v\",\"showlegend\":true,\"x\":[1998,1999,2000,2001,2002,2003,2004,2005,2006,2007,2008,2009,2010,2011,2012,2013,2014,2015,2016,2017,2018,2019,2020],\"xaxis\":\"x\",\"y\":[null,1067.0,1102.0,3476.0,3922.0,3415.0,4070.0,7116.0,8987.0,11892.0,14125.0,15781.0,20138.0,21183.0,22765.0,23737.0,26170.0,29497.0,34292.0,42169.0,50660.0,56741.0,70963.0],\"yaxis\":\"y\",\"type\":\"scatter\"},{\"hovertemplate\":\"<b>%{hovertext}</b><br><br>Nazwa=POMORSKIE<br>Rok=%{x}<br>Oszcz\\u0119dno\\u015bci=%{y}<extra></extra>\",\"hovertext\":[\"POMORSKIE\",\"POMORSKIE\",\"POMORSKIE\",\"POMORSKIE\",\"POMORSKIE\",\"POMORSKIE\",\"POMORSKIE\",\"POMORSKIE\",\"POMORSKIE\",\"POMORSKIE\",\"POMORSKIE\",\"POMORSKIE\",\"POMORSKIE\",\"POMORSKIE\",\"POMORSKIE\",\"POMORSKIE\",\"POMORSKIE\",\"POMORSKIE\",\"POMORSKIE\",\"POMORSKIE\",\"POMORSKIE\",\"POMORSKIE\",\"POMORSKIE\"],\"legendgroup\":\"POMORSKIE\",\"line\":{\"color\":\"#636efa\",\"dash\":\"solid\",\"shape\":\"spline\"},\"marker\":{\"symbol\":\"circle\"},\"mode\":\"lines\",\"name\":\"POMORSKIE\",\"orientation\":\"v\",\"showlegend\":true,\"x\":[1998,1999,2000,2001,2002,2003,2004,2005,2006,2007,2008,2009,2010,2011,2012,2013,2014,2015,2016,2017,2018,2019,2020],\"xaxis\":\"x\",\"y\":[null,4652.0,980.0,6071.0,7795.0,6844.0,3177.0,10397.0,12545.0,16634.0,18539.0,18739.0,24407.0,22569.0,28218.0,34972.0,28144.0,32239.0,38191.0,45137.0,44855.0,49948.0,47040.0],\"yaxis\":\"y\",\"type\":\"scatter\"},{\"hovertemplate\":\"<b>%{hovertext}</b><br><br>Nazwa=WARMI\\u0143SKO-MAZURSKIE<br>Rok=%{x}<br>Oszcz\\u0119dno\\u015bci=%{y}<extra></extra>\",\"hovertext\":[\"WARMI\\u0143SKO-MAZURSKIE\",\"WARMI\\u0143SKO-MAZURSKIE\",\"WARMI\\u0143SKO-MAZURSKIE\",\"WARMI\\u0143SKO-MAZURSKIE\",\"WARMI\\u0143SKO-MAZURSKIE\",\"WARMI\\u0143SKO-MAZURSKIE\",\"WARMI\\u0143SKO-MAZURSKIE\",\"WARMI\\u0143SKO-MAZURSKIE\",\"WARMI\\u0143SKO-MAZURSKIE\",\"WARMI\\u0143SKO-MAZURSKIE\",\"WARMI\\u0143SKO-MAZURSKIE\",\"WARMI\\u0143SKO-MAZURSKIE\",\"WARMI\\u0143SKO-MAZURSKIE\",\"WARMI\\u0143SKO-MAZURSKIE\",\"WARMI\\u0143SKO-MAZURSKIE\",\"WARMI\\u0143SKO-MAZURSKIE\",\"WARMI\\u0143SKO-MAZURSKIE\",\"WARMI\\u0143SKO-MAZURSKIE\",\"WARMI\\u0143SKO-MAZURSKIE\",\"WARMI\\u0143SKO-MAZURSKIE\",\"WARMI\\u0143SKO-MAZURSKIE\",\"WARMI\\u0143SKO-MAZURSKIE\",\"WARMI\\u0143SKO-MAZURSKIE\"],\"legendgroup\":\"WARMI\\u0143SKO-MAZURSKIE\",\"line\":{\"color\":\"#EF553B\",\"dash\":\"solid\",\"shape\":\"spline\"},\"marker\":{\"symbol\":\"circle\"},\"mode\":\"lines\",\"name\":\"WARMI\\u0143SKO-MAZURSKIE\",\"orientation\":\"v\",\"showlegend\":true,\"x\":[1998,1999,2000,2001,2002,2003,2004,2005,2006,2007,2008,2009,2010,2011,2012,2013,2014,2015,2016,2017,2018,2019,2020],\"xaxis\":\"x\",\"y\":[null,-709.0,478.0,4084.0,4207.0,4201.0,6700.0,9578.0,10237.0,12515.0,16974.0,21178.0,23724.0,22657.0,23272.0,22549.0,30712.0,37560.0,40753.0,51472.0,57295.0,59028.0,81063.0],\"yaxis\":\"y\",\"type\":\"scatter\"},{\"hovertemplate\":\"<b>%{hovertext}</b><br><br>Nazwa=WIELKOPOLSKIE<br>Rok=%{x}<br>Oszcz\\u0119dno\\u015bci=%{y}<extra></extra>\",\"hovertext\":[\"WIELKOPOLSKIE\",\"WIELKOPOLSKIE\",\"WIELKOPOLSKIE\",\"WIELKOPOLSKIE\",\"WIELKOPOLSKIE\",\"WIELKOPOLSKIE\",\"WIELKOPOLSKIE\",\"WIELKOPOLSKIE\",\"WIELKOPOLSKIE\",\"WIELKOPOLSKIE\",\"WIELKOPOLSKIE\",\"WIELKOPOLSKIE\",\"WIELKOPOLSKIE\",\"WIELKOPOLSKIE\",\"WIELKOPOLSKIE\",\"WIELKOPOLSKIE\",\"WIELKOPOLSKIE\",\"WIELKOPOLSKIE\",\"WIELKOPOLSKIE\",\"WIELKOPOLSKIE\",\"WIELKOPOLSKIE\",\"WIELKOPOLSKIE\",\"WIELKOPOLSKIE\"],\"legendgroup\":\"WIELKOPOLSKIE\",\"line\":{\"color\":\"#00cc96\",\"dash\":\"solid\",\"shape\":\"spline\"},\"marker\":{\"symbol\":\"circle\"},\"mode\":\"lines\",\"name\":\"WIELKOPOLSKIE\",\"orientation\":\"v\",\"showlegend\":true,\"x\":[1998,1999,2000,2001,2002,2003,2004,2005,2006,2007,2008,2009,2010,2011,2012,2013,2014,2015,2016,2017,2018,2019,2020],\"xaxis\":\"x\",\"y\":[null,4888.0,2403.0,5672.0,5206.0,6606.0,4592.0,7261.0,10871.0,13647.0,17895.0,21776.0,22447.0,22136.0,22410.0,25407.0,32172.0,32859.0,40237.0,55526.0,57832.0,64416.0,66578.0],\"yaxis\":\"y\",\"type\":\"scatter\"},{\"hovertemplate\":\"<b>%{hovertext}</b><br><br>Nazwa=ZACHODNIOPOMORSKIE<br>Rok=%{x}<br>Oszcz\\u0119dno\\u015bci=%{y}<extra></extra>\",\"hovertext\":[\"ZACHODNIOPOMORSKIE\",\"ZACHODNIOPOMORSKIE\",\"ZACHODNIOPOMORSKIE\",\"ZACHODNIOPOMORSKIE\",\"ZACHODNIOPOMORSKIE\",\"ZACHODNIOPOMORSKIE\",\"ZACHODNIOPOMORSKIE\",\"ZACHODNIOPOMORSKIE\",\"ZACHODNIOPOMORSKIE\",\"ZACHODNIOPOMORSKIE\",\"ZACHODNIOPOMORSKIE\",\"ZACHODNIOPOMORSKIE\",\"ZACHODNIOPOMORSKIE\",\"ZACHODNIOPOMORSKIE\",\"ZACHODNIOPOMORSKIE\",\"ZACHODNIOPOMORSKIE\",\"ZACHODNIOPOMORSKIE\",\"ZACHODNIOPOMORSKIE\",\"ZACHODNIOPOMORSKIE\",\"ZACHODNIOPOMORSKIE\",\"ZACHODNIOPOMORSKIE\",\"ZACHODNIOPOMORSKIE\",\"ZACHODNIOPOMORSKIE\"],\"legendgroup\":\"ZACHODNIOPOMORSKIE\",\"line\":{\"color\":\"#ab63fa\",\"dash\":\"solid\",\"shape\":\"spline\"},\"marker\":{\"symbol\":\"circle\"},\"mode\":\"lines\",\"name\":\"ZACHODNIOPOMORSKIE\",\"orientation\":\"v\",\"showlegend\":true,\"x\":[1998,1999,2000,2001,2002,2003,2004,2005,2006,2007,2008,2009,2010,2011,2012,2013,2014,2015,2016,2017,2018,2019,2020],\"xaxis\":\"x\",\"y\":[null,1639.0,-184.0,3703.0,1754.0,1212.0,5823.0,9018.0,7658.0,10416.0,17537.0,19947.0,22197.0,25906.0,22933.0,25932.0,29921.0,32023.0,37234.0,44679.0,48570.0,53776.0,61956.0],\"yaxis\":\"y\",\"type\":\"scatter\"},{\"hovertemplate\":\"<b>%{hovertext}</b><br><br>Nazwa=\\u0141\\u00d3DZKIE<br>Rok=%{x}<br>Oszcz\\u0119dno\\u015bci=%{y}<extra></extra>\",\"hovertext\":[\"\\u0141\\u00d3DZKIE\",\"\\u0141\\u00d3DZKIE\",\"\\u0141\\u00d3DZKIE\",\"\\u0141\\u00d3DZKIE\",\"\\u0141\\u00d3DZKIE\",\"\\u0141\\u00d3DZKIE\",\"\\u0141\\u00d3DZKIE\",\"\\u0141\\u00d3DZKIE\",\"\\u0141\\u00d3DZKIE\",\"\\u0141\\u00d3DZKIE\",\"\\u0141\\u00d3DZKIE\",\"\\u0141\\u00d3DZKIE\",\"\\u0141\\u00d3DZKIE\",\"\\u0141\\u00d3DZKIE\",\"\\u0141\\u00d3DZKIE\",\"\\u0141\\u00d3DZKIE\",\"\\u0141\\u00d3DZKIE\",\"\\u0141\\u00d3DZKIE\",\"\\u0141\\u00d3DZKIE\",\"\\u0141\\u00d3DZKIE\",\"\\u0141\\u00d3DZKIE\",\"\\u0141\\u00d3DZKIE\",\"\\u0141\\u00d3DZKIE\"],\"legendgroup\":\"\\u0141\\u00d3DZKIE\",\"line\":{\"color\":\"#FFA15A\",\"dash\":\"solid\",\"shape\":\"spline\"},\"marker\":{\"symbol\":\"circle\"},\"mode\":\"lines\",\"name\":\"\\u0141\\u00d3DZKIE\",\"orientation\":\"v\",\"showlegend\":true,\"x\":[1998,1999,2000,2001,2002,2003,2004,2005,2006,2007,2008,2009,2010,2011,2012,2013,2014,2015,2016,2017,2018,2019,2020],\"xaxis\":\"x\",\"y\":[null,-215.0,-1044.0,2349.0,1329.0,2419.0,1727.0,3716.0,6278.0,7130.0,9099.0,11737.0,14309.0,16049.0,18517.0,16420.0,17439.0,21580.0,25252.0,25253.0,38817.0,43506.0,64631.0],\"yaxis\":\"y\",\"type\":\"scatter\"},{\"hovertemplate\":\"<b>%{hovertext}</b><br><br>Nazwa=\\u015aL\\u0104SKIE<br>Rok=%{x}<br>Oszcz\\u0119dno\\u015bci=%{y}<extra></extra>\",\"hovertext\":[\"\\u015aL\\u0104SKIE\",\"\\u015aL\\u0104SKIE\",\"\\u015aL\\u0104SKIE\",\"\\u015aL\\u0104SKIE\",\"\\u015aL\\u0104SKIE\",\"\\u015aL\\u0104SKIE\",\"\\u015aL\\u0104SKIE\",\"\\u015aL\\u0104SKIE\",\"\\u015aL\\u0104SKIE\",\"\\u015aL\\u0104SKIE\",\"\\u015aL\\u0104SKIE\",\"\\u015aL\\u0104SKIE\",\"\\u015aL\\u0104SKIE\",\"\\u015aL\\u0104SKIE\",\"\\u015aL\\u0104SKIE\",\"\\u015aL\\u0104SKIE\",\"\\u015aL\\u0104SKIE\",\"\\u015aL\\u0104SKIE\",\"\\u015aL\\u0104SKIE\",\"\\u015aL\\u0104SKIE\",\"\\u015aL\\u0104SKIE\",\"\\u015aL\\u0104SKIE\",\"\\u015aL\\u0104SKIE\"],\"legendgroup\":\"\\u015aL\\u0104SKIE\",\"line\":{\"color\":\"#19d3f3\",\"dash\":\"solid\",\"shape\":\"spline\"},\"marker\":{\"symbol\":\"circle\"},\"mode\":\"lines\",\"name\":\"\\u015aL\\u0104SKIE\",\"orientation\":\"v\",\"showlegend\":true,\"x\":[1998,1999,2000,2001,2002,2003,2004,2005,2006,2007,2008,2009,2010,2011,2012,2013,2014,2015,2016,2017,2018,2019,2020],\"xaxis\":\"x\",\"y\":[null,-1000.0,1452.0,2892.0,3869.0,3610.0,5188.0,8478.0,8949.0,10818.0,15250.0,15454.0,16249.0,17571.0,17735.0,20083.0,25218.0,28412.0,31086.0,34868.0,46840.0,56703.0,77951.0],\"yaxis\":\"y\",\"type\":\"scatter\"},{\"hovertemplate\":\"<b>%{hovertext}</b><br><br>Nazwa=\\u015aWI\\u0118TOKRZYSKIE<br>Rok=%{x}<br>Oszcz\\u0119dno\\u015bci=%{y}<extra></extra>\",\"hovertext\":[\"\\u015aWI\\u0118TOKRZYSKIE\",\"\\u015aWI\\u0118TOKRZYSKIE\",\"\\u015aWI\\u0118TOKRZYSKIE\",\"\\u015aWI\\u0118TOKRZYSKIE\",\"\\u015aWI\\u0118TOKRZYSKIE\",\"\\u015aWI\\u0118TOKRZYSKIE\",\"\\u015aWI\\u0118TOKRZYSKIE\",\"\\u015aWI\\u0118TOKRZYSKIE\",\"\\u015aWI\\u0118TOKRZYSKIE\",\"\\u015aWI\\u0118TOKRZYSKIE\",\"\\u015aWI\\u0118TOKRZYSKIE\",\"\\u015aWI\\u0118TOKRZYSKIE\",\"\\u015aWI\\u0118TOKRZYSKIE\",\"\\u015aWI\\u0118TOKRZYSKIE\",\"\\u015aWI\\u0118TOKRZYSKIE\",\"\\u015aWI\\u0118TOKRZYSKIE\",\"\\u015aWI\\u0118TOKRZYSKIE\",\"\\u015aWI\\u0118TOKRZYSKIE\",\"\\u015aWI\\u0118TOKRZYSKIE\",\"\\u015aWI\\u0118TOKRZYSKIE\",\"\\u015aWI\\u0118TOKRZYSKIE\",\"\\u015aWI\\u0118TOKRZYSKIE\",\"\\u015aWI\\u0118TOKRZYSKIE\"],\"legendgroup\":\"\\u015aWI\\u0118TOKRZYSKIE\",\"line\":{\"color\":\"#FF6692\",\"dash\":\"solid\",\"shape\":\"spline\"},\"marker\":{\"symbol\":\"circle\"},\"mode\":\"lines\",\"name\":\"\\u015aWI\\u0118TOKRZYSKIE\",\"orientation\":\"v\",\"showlegend\":true,\"x\":[1998,1999,2000,2001,2002,2003,2004,2005,2006,2007,2008,2009,2010,2011,2012,2013,2014,2015,2016,2017,2018,2019,2020],\"xaxis\":\"x\",\"y\":[null,-418.0,191.0,1952.0,3746.0,860.0,3409.0,4151.0,8638.0,9319.0,13164.0,14582.0,19466.0,21420.0,24496.0,23088.0,22991.0,29963.0,34279.0,39562.0,47471.0,56741.0,73292.0],\"yaxis\":\"y\",\"type\":\"scatter\"}],                        {\"template\":{\"data\":{\"bar\":[{\"error_x\":{\"color\":\"#2a3f5f\"},\"error_y\":{\"color\":\"#2a3f5f\"},\"marker\":{\"line\":{\"color\":\"#E5ECF6\",\"width\":0.5},\"pattern\":{\"fillmode\":\"overlay\",\"size\":10,\"solidity\":0.2}},\"type\":\"bar\"}],\"barpolar\":[{\"marker\":{\"line\":{\"color\":\"#E5ECF6\",\"width\":0.5},\"pattern\":{\"fillmode\":\"overlay\",\"size\":10,\"solidity\":0.2}},\"type\":\"barpolar\"}],\"carpet\":[{\"aaxis\":{\"endlinecolor\":\"#2a3f5f\",\"gridcolor\":\"white\",\"linecolor\":\"white\",\"minorgridcolor\":\"white\",\"startlinecolor\":\"#2a3f5f\"},\"baxis\":{\"endlinecolor\":\"#2a3f5f\",\"gridcolor\":\"white\",\"linecolor\":\"white\",\"minorgridcolor\":\"white\",\"startlinecolor\":\"#2a3f5f\"},\"type\":\"carpet\"}],\"choropleth\":[{\"colorbar\":{\"outlinewidth\":0,\"ticks\":\"\"},\"type\":\"choropleth\"}],\"contour\":[{\"colorbar\":{\"outlinewidth\":0,\"ticks\":\"\"},\"colorscale\":[[0.0,\"#0d0887\"],[0.1111111111111111,\"#46039f\"],[0.2222222222222222,\"#7201a8\"],[0.3333333333333333,\"#9c179e\"],[0.4444444444444444,\"#bd3786\"],[0.5555555555555556,\"#d8576b\"],[0.6666666666666666,\"#ed7953\"],[0.7777777777777778,\"#fb9f3a\"],[0.8888888888888888,\"#fdca26\"],[1.0,\"#f0f921\"]],\"type\":\"contour\"}],\"contourcarpet\":[{\"colorbar\":{\"outlinewidth\":0,\"ticks\":\"\"},\"type\":\"contourcarpet\"}],\"heatmap\":[{\"colorbar\":{\"outlinewidth\":0,\"ticks\":\"\"},\"colorscale\":[[0.0,\"#0d0887\"],[0.1111111111111111,\"#46039f\"],[0.2222222222222222,\"#7201a8\"],[0.3333333333333333,\"#9c179e\"],[0.4444444444444444,\"#bd3786\"],[0.5555555555555556,\"#d8576b\"],[0.6666666666666666,\"#ed7953\"],[0.7777777777777778,\"#fb9f3a\"],[0.8888888888888888,\"#fdca26\"],[1.0,\"#f0f921\"]],\"type\":\"heatmap\"}],\"heatmapgl\":[{\"colorbar\":{\"outlinewidth\":0,\"ticks\":\"\"},\"colorscale\":[[0.0,\"#0d0887\"],[0.1111111111111111,\"#46039f\"],[0.2222222222222222,\"#7201a8\"],[0.3333333333333333,\"#9c179e\"],[0.4444444444444444,\"#bd3786\"],[0.5555555555555556,\"#d8576b\"],[0.6666666666666666,\"#ed7953\"],[0.7777777777777778,\"#fb9f3a\"],[0.8888888888888888,\"#fdca26\"],[1.0,\"#f0f921\"]],\"type\":\"heatmapgl\"}],\"histogram\":[{\"marker\":{\"pattern\":{\"fillmode\":\"overlay\",\"size\":10,\"solidity\":0.2}},\"type\":\"histogram\"}],\"histogram2d\":[{\"colorbar\":{\"outlinewidth\":0,\"ticks\":\"\"},\"colorscale\":[[0.0,\"#0d0887\"],[0.1111111111111111,\"#46039f\"],[0.2222222222222222,\"#7201a8\"],[0.3333333333333333,\"#9c179e\"],[0.4444444444444444,\"#bd3786\"],[0.5555555555555556,\"#d8576b\"],[0.6666666666666666,\"#ed7953\"],[0.7777777777777778,\"#fb9f3a\"],[0.8888888888888888,\"#fdca26\"],[1.0,\"#f0f921\"]],\"type\":\"histogram2d\"}],\"histogram2dcontour\":[{\"colorbar\":{\"outlinewidth\":0,\"ticks\":\"\"},\"colorscale\":[[0.0,\"#0d0887\"],[0.1111111111111111,\"#46039f\"],[0.2222222222222222,\"#7201a8\"],[0.3333333333333333,\"#9c179e\"],[0.4444444444444444,\"#bd3786\"],[0.5555555555555556,\"#d8576b\"],[0.6666666666666666,\"#ed7953\"],[0.7777777777777778,\"#fb9f3a\"],[0.8888888888888888,\"#fdca26\"],[1.0,\"#f0f921\"]],\"type\":\"histogram2dcontour\"}],\"mesh3d\":[{\"colorbar\":{\"outlinewidth\":0,\"ticks\":\"\"},\"type\":\"mesh3d\"}],\"parcoords\":[{\"line\":{\"colorbar\":{\"outlinewidth\":0,\"ticks\":\"\"}},\"type\":\"parcoords\"}],\"pie\":[{\"automargin\":true,\"type\":\"pie\"}],\"scatter\":[{\"marker\":{\"colorbar\":{\"outlinewidth\":0,\"ticks\":\"\"}},\"type\":\"scatter\"}],\"scatter3d\":[{\"line\":{\"colorbar\":{\"outlinewidth\":0,\"ticks\":\"\"}},\"marker\":{\"colorbar\":{\"outlinewidth\":0,\"ticks\":\"\"}},\"type\":\"scatter3d\"}],\"scattercarpet\":[{\"marker\":{\"colorbar\":{\"outlinewidth\":0,\"ticks\":\"\"}},\"type\":\"scattercarpet\"}],\"scattergeo\":[{\"marker\":{\"colorbar\":{\"outlinewidth\":0,\"ticks\":\"\"}},\"type\":\"scattergeo\"}],\"scattergl\":[{\"marker\":{\"colorbar\":{\"outlinewidth\":0,\"ticks\":\"\"}},\"type\":\"scattergl\"}],\"scattermapbox\":[{\"marker\":{\"colorbar\":{\"outlinewidth\":0,\"ticks\":\"\"}},\"type\":\"scattermapbox\"}],\"scatterpolar\":[{\"marker\":{\"colorbar\":{\"outlinewidth\":0,\"ticks\":\"\"}},\"type\":\"scatterpolar\"}],\"scatterpolargl\":[{\"marker\":{\"colorbar\":{\"outlinewidth\":0,\"ticks\":\"\"}},\"type\":\"scatterpolargl\"}],\"scatterternary\":[{\"marker\":{\"colorbar\":{\"outlinewidth\":0,\"ticks\":\"\"}},\"type\":\"scatterternary\"}],\"surface\":[{\"colorbar\":{\"outlinewidth\":0,\"ticks\":\"\"},\"colorscale\":[[0.0,\"#0d0887\"],[0.1111111111111111,\"#46039f\"],[0.2222222222222222,\"#7201a8\"],[0.3333333333333333,\"#9c179e\"],[0.4444444444444444,\"#bd3786\"],[0.5555555555555556,\"#d8576b\"],[0.6666666666666666,\"#ed7953\"],[0.7777777777777778,\"#fb9f3a\"],[0.8888888888888888,\"#fdca26\"],[1.0,\"#f0f921\"]],\"type\":\"surface\"}],\"table\":[{\"cells\":{\"fill\":{\"color\":\"#EBF0F8\"},\"line\":{\"color\":\"white\"}},\"header\":{\"fill\":{\"color\":\"#C8D4E3\"},\"line\":{\"color\":\"white\"}},\"type\":\"table\"}]},\"layout\":{\"annotationdefaults\":{\"arrowcolor\":\"#2a3f5f\",\"arrowhead\":0,\"arrowwidth\":1},\"autotypenumbers\":\"strict\",\"coloraxis\":{\"colorbar\":{\"outlinewidth\":0,\"ticks\":\"\"}},\"colorscale\":{\"diverging\":[[0,\"#8e0152\"],[0.1,\"#c51b7d\"],[0.2,\"#de77ae\"],[0.3,\"#f1b6da\"],[0.4,\"#fde0ef\"],[0.5,\"#f7f7f7\"],[0.6,\"#e6f5d0\"],[0.7,\"#b8e186\"],[0.8,\"#7fbc41\"],[0.9,\"#4d9221\"],[1,\"#276419\"]],\"sequential\":[[0.0,\"#0d0887\"],[0.1111111111111111,\"#46039f\"],[0.2222222222222222,\"#7201a8\"],[0.3333333333333333,\"#9c179e\"],[0.4444444444444444,\"#bd3786\"],[0.5555555555555556,\"#d8576b\"],[0.6666666666666666,\"#ed7953\"],[0.7777777777777778,\"#fb9f3a\"],[0.8888888888888888,\"#fdca26\"],[1.0,\"#f0f921\"]],\"sequentialminus\":[[0.0,\"#0d0887\"],[0.1111111111111111,\"#46039f\"],[0.2222222222222222,\"#7201a8\"],[0.3333333333333333,\"#9c179e\"],[0.4444444444444444,\"#bd3786\"],[0.5555555555555556,\"#d8576b\"],[0.6666666666666666,\"#ed7953\"],[0.7777777777777778,\"#fb9f3a\"],[0.8888888888888888,\"#fdca26\"],[1.0,\"#f0f921\"]]},\"colorway\":[\"#636efa\",\"#EF553B\",\"#00cc96\",\"#ab63fa\",\"#FFA15A\",\"#19d3f3\",\"#FF6692\",\"#B6E880\",\"#FF97FF\",\"#FECB52\"],\"font\":{\"color\":\"#2a3f5f\"},\"geo\":{\"bgcolor\":\"white\",\"lakecolor\":\"white\",\"landcolor\":\"#E5ECF6\",\"showlakes\":true,\"showland\":true,\"subunitcolor\":\"white\"},\"hoverlabel\":{\"align\":\"left\"},\"hovermode\":\"closest\",\"mapbox\":{\"style\":\"light\"},\"paper_bgcolor\":\"white\",\"plot_bgcolor\":\"#E5ECF6\",\"polar\":{\"angularaxis\":{\"gridcolor\":\"white\",\"linecolor\":\"white\",\"ticks\":\"\"},\"bgcolor\":\"#E5ECF6\",\"radialaxis\":{\"gridcolor\":\"white\",\"linecolor\":\"white\",\"ticks\":\"\"}},\"scene\":{\"xaxis\":{\"backgroundcolor\":\"#E5ECF6\",\"gridcolor\":\"white\",\"gridwidth\":2,\"linecolor\":\"white\",\"showbackground\":true,\"ticks\":\"\",\"zerolinecolor\":\"white\"},\"yaxis\":{\"backgroundcolor\":\"#E5ECF6\",\"gridcolor\":\"white\",\"gridwidth\":2,\"linecolor\":\"white\",\"showbackground\":true,\"ticks\":\"\",\"zerolinecolor\":\"white\"},\"zaxis\":{\"backgroundcolor\":\"#E5ECF6\",\"gridcolor\":\"white\",\"gridwidth\":2,\"linecolor\":\"white\",\"showbackground\":true,\"ticks\":\"\",\"zerolinecolor\":\"white\"}},\"shapedefaults\":{\"line\":{\"color\":\"#2a3f5f\"}},\"ternary\":{\"aaxis\":{\"gridcolor\":\"white\",\"linecolor\":\"white\",\"ticks\":\"\"},\"baxis\":{\"gridcolor\":\"white\",\"linecolor\":\"white\",\"ticks\":\"\"},\"bgcolor\":\"#E5ECF6\",\"caxis\":{\"gridcolor\":\"white\",\"linecolor\":\"white\",\"ticks\":\"\"}},\"title\":{\"x\":0.05},\"xaxis\":{\"automargin\":true,\"gridcolor\":\"white\",\"linecolor\":\"white\",\"ticks\":\"\",\"title\":{\"standoff\":15},\"zerolinecolor\":\"white\",\"zerolinewidth\":2},\"yaxis\":{\"automargin\":true,\"gridcolor\":\"white\",\"linecolor\":\"white\",\"ticks\":\"\",\"title\":{\"standoff\":15},\"zerolinecolor\":\"white\",\"zerolinewidth\":2}}},\"xaxis\":{\"anchor\":\"y\",\"domain\":[0.0,1.0],\"title\":{\"text\":\"Rok\"}},\"yaxis\":{\"anchor\":\"x\",\"domain\":[0.0,1.0],\"title\":{\"text\":\"Oszcz\\u0119dno\\u015bci\"}},\"legend\":{\"title\":{\"text\":\"Nazwa\"},\"tracegroupgap\":0},\"margin\":{\"t\":60}},                        {\"responsive\": true}                    ).then(function(){\n                            \nvar gd = document.getElementById('db96bae6-013d-45fb-b73b-7b6d1653b211');\nvar x = new MutationObserver(function (mutations, observer) {{\n        var display = window.getComputedStyle(gd).display;\n        if (!display || display === 'none') {{\n            console.log([gd, 'removed!']);\n            Plotly.purge(gd);\n            observer.disconnect();\n        }}\n}});\n\n// Listen for the removal of the full notebook cells\nvar notebookContainer = gd.closest('#notebook-container');\nif (notebookContainer) {{\n    x.observe(notebookContainer, {childList: true});\n}}\n\n// Listen for the clearing of the current output cell\nvar outputEl = gd.closest('.output');\nif (outputEl) {{\n    x.observe(outputEl, {childList: true});\n}}\n\n                        })                };                });            </script>        </div>"
     },
     "metadata": {},
     "output_type": "display_data"
    }
   ],
   "source": [
    "fig = px.line(incomes_vs_spendings,\n",
    "              x=\"Rok\", y=\"Oszczędności\", color=\"Nazwa\", hover_name=\"Nazwa\",\n",
    "              line_shape=\"spline\", render_mode=\"svg\")\n",
    "\n",
    "fig.show()"
   ],
   "metadata": {
    "collapsed": false,
    "pycharm": {
     "name": "#%%\n"
    }
   }
  },
  {
   "cell_type": "markdown",
   "metadata": {},
   "source": [
    "# gminy"
   ]
  },
  {
   "cell_type": "code",
   "execution_count": null,
   "metadata": {},
   "outputs": [],
   "source": [
    "df_gminy = pd.read_csv(data_path_gminy, sep=\";\", thousands=',')"
   ]
  },
  {
   "cell_type": "code",
   "execution_count": null,
   "metadata": {},
   "outputs": [],
   "source": [
    "df_gminy"
   ]
  },
  {
   "cell_type": "code",
   "execution_count": null,
   "metadata": {},
   "outputs": [],
   "source": [
    "# print unique values foreach column\n",
    "for column in df_gminy.columns:\n",
    "    print(f\"{column}: {df_ludnosc[column].unique()} \\n\")"
   ]
  },
  {
   "cell_type": "code",
   "execution_count": null,
   "outputs": [],
   "source": [],
   "metadata": {
    "collapsed": false,
    "pycharm": {
     "name": "#%%\n"
    }
   }
  }
 ],
 "metadata": {
  "kernelspec": {
   "display_name": "Python 3",
   "language": "python",
   "name": "python3"
  },
  "language_info": {
   "codemirror_mode": {
    "name": "ipython",
    "version": 3
   },
   "file_extension": ".py",
   "mimetype": "text/x-python",
   "name": "python",
   "nbconvert_exporter": "python",
   "pygments_lexer": "ipython3",
   "version": "3.8.3"
  }
 },
 "nbformat": 4,
 "nbformat_minor": 4
}